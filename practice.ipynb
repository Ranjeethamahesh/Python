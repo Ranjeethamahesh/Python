{
 "cells": [
  {
   "cell_type": "code",
   "execution_count": 1,
   "id": "389c46b5",
   "metadata": {},
   "outputs": [
    {
     "name": "stdout",
     "output_type": "stream",
     "text": [
      "enter the user nameranji\n",
      "HELLO ranji\n"
     ]
    }
   ],
   "source": [
    "name = input(\"enter the user name\")\n",
    "print(f\"HELLO {name}\")"
   ]
  },
  {
   "cell_type": "code",
   "execution_count": 2,
   "id": "bfa06a99",
   "metadata": {},
   "outputs": [
    {
     "name": "stdout",
     "output_type": "stream",
     "text": [
      "enter the first number3\n",
      "enter the second number6\n",
      "the sum of two number is 9\n"
     ]
    }
   ],
   "source": [
    "num1 = int(input(\"enter the first number\"))\n",
    "num2 = int(input(\"enter the second number\"))\n",
    "result = num1 + num2\n",
    "print(f\"the sum of two number is {result}\")"
   ]
  },
  {
   "cell_type": "code",
   "execution_count": 3,
   "id": "041a6417",
   "metadata": {},
   "outputs": [
    {
     "name": "stdout",
     "output_type": "stream",
     "text": [
      "enter your age23\n",
      "i am 23 years old\n"
     ]
    }
   ],
   "source": [
    "age = input(\"enter your age\")\n",
    "print(f\"i am {age} years old\")"
   ]
  },
  {
   "cell_type": "code",
   "execution_count": 7,
   "id": "cd4649c3",
   "metadata": {},
   "outputs": [
    {
     "name": "stdout",
     "output_type": "stream",
     "text": [
      "Enter the number5\n",
      "The given number is ODD\n"
     ]
    }
   ],
   "source": [
    "num = int(input(\"Enter the number\"))\n",
    "if (num % 2 == 0):\n",
    "    print(\"The given number is EVEN\")\n",
    "else:\n",
    "    print(\"The given number is ODD\")"
   ]
  },
  {
   "cell_type": "code",
   "execution_count": 26,
   "id": "993e733e",
   "metadata": {},
   "outputs": [
    {
     "name": "stdout",
     "output_type": "stream",
     "text": [
      "1\n",
      "2\n",
      "3\n",
      "4\n"
     ]
    }
   ],
   "source": [
    "\n",
    "for i in range (1,5):\n",
    "    print(i)\n",
    "    "
   ]
  },
  {
   "cell_type": "code",
   "execution_count": 22,
   "id": "671ff3ab",
   "metadata": {},
   "outputs": [
    {
     "name": "stdout",
     "output_type": "stream",
     "text": [
      "enter the 1st number4\n",
      "enter the 2nd number2\n",
      "before swapping(4, 2)\n",
      "after swapping(2, 4)\n"
     ]
    }
   ],
   "source": [
    "num1 = int(input(\"enter the 1st number\"))\n",
    "num2 = int(input(\"enter the 2nd number\"))\n",
    "print(f\"before swapping{num1,num2}\")\n",
    "temp = num1\n",
    "num1 = num2\n",
    "num2 = temp \n",
    "print(f\"after swapping{num1,num2}\")\n"
   ]
  },
  {
   "cell_type": "code",
   "execution_count": 25,
   "id": "40493e41",
   "metadata": {},
   "outputs": [
    {
     "name": "stdout",
     "output_type": "stream",
     "text": [
      "before swapping(3, 4)\n",
      "after swapping(4, 3)\n"
     ]
    }
   ],
   "source": [
    "n1 =3\n",
    "n2 = 4\n",
    "print(f\"before swapping{n1, n2}\")\n",
    "n1,n2 = n2,n1\n",
    "print(f\"after swapping{n1,n2}\")"
   ]
  },
  {
   "cell_type": "code",
   "execution_count": 30,
   "id": "e0bcf3c0",
   "metadata": {},
   "outputs": [
    {
     "name": "stdout",
     "output_type": "stream",
     "text": [
      "98 is greater\n"
     ]
    }
   ],
   "source": [
    "n1 = 54\n",
    "n2 = 33\n",
    "n3 = 98\n",
    "if(n1 > n2 and n1 > n3):\n",
    "    print(f\"{n1} is greater\")\n",
    "elif (n2 > n1 and n2 > n3):\n",
    "    print(f\"{n2} is greater\")\n",
    "else:\n",
    "    print(f\"{n3} is greater\")"
   ]
  },
  {
   "cell_type": "code",
   "execution_count": 36,
   "id": "5b95dac3",
   "metadata": {},
   "outputs": [
    {
     "name": "stdout",
     "output_type": "stream",
     "text": [
      "152 54\n"
     ]
    }
   ],
   "source": [
    "n1 = 54\n",
    "n2 = 152\n",
    "n3 = 74\n",
    "\n",
    "largest = max(n1,n2,n3)\n",
    "smallest = min(n1,n2,n3)\n",
    "\n",
    "print(largest,smallest)"
   ]
  },
  {
   "cell_type": "code",
   "execution_count": 38,
   "id": "6973e3c8",
   "metadata": {},
   "outputs": [
    {
     "name": "stdout",
     "output_type": "stream",
     "text": [
      "second largest 74\n"
     ]
    }
   ],
   "source": [
    "n1 = 54\n",
    "n2 = 152\n",
    "n3 = 74\n",
    "\n",
    "if (n1 > n2 and n1 < n3) or (n1 < n2 and n1 > n3):\n",
    "    print(f\"second largest is {n1}\")\n",
    "elif(n2 > n1 and n2 < n3) or (n2 < n2 and n2 > n3):\n",
    "    print(f\"second largest {n2}\")\n",
    "else:\n",
    "    print(f\"second largest {n3}\")\n",
    "  "
   ]
  },
  {
   "cell_type": "code",
   "execution_count": 42,
   "id": "175c5d34",
   "metadata": {},
   "outputs": [
    {
     "name": "stdout",
     "output_type": "stream",
     "text": [
      "Factorial of 5 is 120\n"
     ]
    }
   ],
   "source": [
    "num = 5\n",
    "fact = 1\n",
    "for i in range (1, num+1):\n",
    "    fact *= i\n",
    "print(f\"Factorial of {num} is {fact}\")"
   ]
  },
  {
   "cell_type": "code",
   "execution_count": 44,
   "id": "69b7f158",
   "metadata": {},
   "outputs": [
    {
     "name": "stdout",
     "output_type": "stream",
     "text": [
      "1\n",
      "2\n",
      "3\n",
      "4\n",
      "5\n",
      "6\n",
      "7\n",
      "8\n",
      "9\n",
      "10\n"
     ]
    }
   ],
   "source": [
    "for i in range(1,11):\n",
    "    print(i)"
   ]
  },
  {
   "cell_type": "code",
   "execution_count": 45,
   "id": "c0b20ad7",
   "metadata": {},
   "outputs": [
    {
     "name": "stdout",
     "output_type": "stream",
     "text": [
      "1\n",
      "3\n",
      "6\n",
      "10\n",
      "15\n",
      "21\n",
      "28\n",
      "36\n",
      "45\n",
      "55\n"
     ]
    }
   ],
   "source": [
    "sum = 0 \n",
    "for i in range(1,11):\n",
    "    sum += i\n",
    "    print(sum)"
   ]
  },
  {
   "cell_type": "code",
   "execution_count": 53,
   "id": "aa75cf4c",
   "metadata": {},
   "outputs": [
    {
     "name": "stdout",
     "output_type": "stream",
     "text": [
      "2\n",
      "4\n",
      "6\n",
      "8\n",
      "10\n",
      "12\n",
      "14\n",
      "16\n",
      "18\n",
      "20\n"
     ]
    }
   ],
   "source": [
    "for i in range(2,21,2):\n",
    "    print(i)"
   ]
  },
  {
   "cell_type": "code",
   "execution_count": 55,
   "id": "10826c45",
   "metadata": {},
   "outputs": [
    {
     "name": "stdout",
     "output_type": "stream",
     "text": [
      "2 * 1 = 2\n",
      "2 * 2 = 4\n",
      "2 * 3 = 6\n",
      "2 * 4 = 8\n",
      "2 * 5 = 10\n",
      "2 * 6 = 12\n",
      "2 * 7 = 14\n",
      "2 * 8 = 16\n",
      "2 * 9 = 18\n",
      "2 * 10 = 20\n"
     ]
    }
   ],
   "source": [
    "num = 2\n",
    "for i in range(1,11):\n",
    "    print(f\"{num} * {i} = {num*i}\")"
   ]
  },
  {
   "cell_type": "code",
   "execution_count": 2,
   "id": "bc293401",
   "metadata": {},
   "outputs": [
    {
     "data": {
      "text/plain": [
       "(4, 4, 4)"
      ]
     },
     "execution_count": 2,
     "metadata": {},
     "output_type": "execute_result"
    }
   ],
   "source": [
    "Dict={\"A\":1,\"B\":\"2\",\"C\":[3,3,3],\"D\":(4,4,4),'E':5,'F':6}\n",
    "Dict[\"D\"]"
   ]
  },
  {
   "cell_type": "code",
   "execution_count": 3,
   "id": "e1f704b2",
   "metadata": {},
   "outputs": [
    {
     "data": {
      "text/plain": [
       "dict_keys(['A', 'B', 'C', 'D', 'E', 'F'])"
      ]
     },
     "execution_count": 3,
     "metadata": {},
     "output_type": "execute_result"
    }
   ],
   "source": [
    "Dict.keys()"
   ]
  },
  {
   "cell_type": "code",
   "execution_count": 4,
   "id": "33f440dd",
   "metadata": {},
   "outputs": [
    {
     "data": {
      "text/plain": [
       "4"
      ]
     },
     "execution_count": 4,
     "metadata": {},
     "output_type": "execute_result"
    }
   ],
   "source": [
    "A=((1),[2,3],[4])\n",
    "A[2][0]"
   ]
  },
  {
   "cell_type": "code",
   "execution_count": 6,
   "id": "ceb6009c",
   "metadata": {},
   "outputs": [
    {
     "data": {
      "text/plain": [
       "12"
      ]
     },
     "execution_count": 6,
     "metadata": {},
     "output_type": "execute_result"
    }
   ],
   "source": [
    "A=((11,12),[21,22])\n",
    "A[0][1]"
   ]
  },
  {
   "cell_type": "code",
   "execution_count": 7,
   "id": "29cfc579",
   "metadata": {},
   "outputs": [
    {
     "data": {
      "text/plain": [
       "2"
      ]
     },
     "execution_count": 7,
     "metadata": {},
     "output_type": "execute_result"
    }
   ],
   "source": [
    " len((\"disco\",10))"
   ]
  },
  {
   "cell_type": "code",
   "execution_count": 9,
   "id": "dab80c8e",
   "metadata": {},
   "outputs": [
    {
     "name": "stdout",
     "output_type": "stream",
     "text": [
      "0 A\n",
      "1 B\n",
      "2 C\n"
     ]
    }
   ],
   "source": [
    "for i, x in enumerate(['A', 'B', 'C']):\n",
    "    print(i, x)\n"
   ]
  },
  {
   "cell_type": "code",
   "execution_count": 10,
   "id": "dc44bad9",
   "metadata": {},
   "outputs": [
    {
     "name": "stdout",
     "output_type": "stream",
     "text": [
      "AA\n",
      "BA\n",
      "CA\n"
     ]
    }
   ],
   "source": [
    "for x in ['A', 'B', 'C']:\n",
    "    print(x + 'A')"
   ]
  },
  {
   "cell_type": "code",
   "execution_count": 12,
   "id": "b741d45b",
   "metadata": {},
   "outputs": [
    {
     "name": "stdout",
     "output_type": "stream",
     "text": [
      "Hello, Alice\n",
      "Hello, Alice\n",
      "Hello, Alice\n"
     ]
    }
   ],
   "source": [
    "def greet(name):\n",
    "    return \"Hello, \" + name\n",
    "for _ in range(3):\n",
    "    print(greet(\"Alice\"))"
   ]
  },
  {
   "cell_type": "code",
   "execution_count": 13,
   "id": "62c9f873",
   "metadata": {},
   "outputs": [],
   "source": [
    "def add_element(data_structure, element):\n",
    "    data_structure.append(element)"
   ]
  },
  {
   "cell_type": "code",
   "execution_count": 14,
   "id": "12144f9c",
   "metadata": {},
   "outputs": [
    {
     "name": "stdout",
     "output_type": "stream",
     "text": [
      "Michael Jackson Thriller 1980\n",
      "Oldie\n"
     ]
    }
   ],
   "source": [
    "def type_of_album(artist, album, year_released):\n",
    "    \n",
    "    print(artist, album, year_released)\n",
    "    if year_released > 1980:\n",
    "        return \"Modern\"\n",
    "    else:\n",
    "        return \"Oldie\"\n",
    "    \n",
    "x = type_of_album(\"Michael Jackson\", \"Thriller\", 1980)\n",
    "print(x)"
   ]
  },
  {
   "cell_type": "code",
   "execution_count": 19,
   "id": "57ad755c",
   "metadata": {},
   "outputs": [
    {
     "data": {
      "text/plain": [
       "'String matched'"
      ]
     },
     "execution_count": 19,
     "metadata": {},
     "output_type": "execute_result"
    }
   ],
   "source": [
    "string= \"Michael Jackson is the best\"\n",
    "\n",
    "# Define a funtion\n",
    "def check_string(text):\n",
    "    \n",
    "# Use if else statement and 'in' operatore to compare the string\n",
    "    if text in string:\n",
    "        return 'String matched'\n",
    "    else:\n",
    "        return 'String not matched'\n",
    "\n",
    "check_string(\"Michael Jackson is the\")"
   ]
  },
  {
   "cell_type": "code",
   "execution_count": null,
   "id": "717ade82",
   "metadata": {},
   "outputs": [],
   "source": []
  },
  {
   "cell_type": "code",
   "execution_count": 22,
   "id": "c7724e9a",
   "metadata": {},
   "outputs": [
    {
     "name": "stdout",
     "output_type": "stream",
     "text": [
      "\n",
      "String not Matched\n"
     ]
    }
   ],
   "source": [
    "#Compare two strings using == operator and function\n",
    "def compareStrings(x, y):\n",
    "# Use if else statement to compare x and y\n",
    "    if x==y:\n",
    "        return 1\n",
    "    \n",
    "# Declare two different variables as string1 and string2 and pass string in it\n",
    "string1 = \"Michael Jackson is the best\"\n",
    "string2 = \"Michael Jackson  best\"\n",
    "\n",
    "# Declare a variable to store result after comparing both the strings\n",
    "check = compareStrings(string1, string2)\n",
    "\n",
    "#Use if else statement to compare the string\n",
    "if check==1:\n",
    "    print(\"\\nString Matched\")\n",
    "else:\n",
    "    print(\"\\nString not Matched\")"
   ]
  },
  {
   "cell_type": "code",
   "execution_count": 26,
   "id": "f36a55d3",
   "metadata": {},
   "outputs": [
    {
     "name": "stdout",
     "output_type": "stream",
     "text": [
      "Michael Jackson is an artist\n"
     ]
    }
   ],
   "source": [
    "artist = \"Michael Jackson\"\n",
    "def printer1(artist):\n",
    "    internal_var1 = artist\n",
    "    print(artist, \"is an artist\")\n",
    "    \n",
    "printer1(artist)"
   ]
  },
  {
   "cell_type": "code",
   "execution_count": 27,
   "id": "d0e64355",
   "metadata": {},
   "outputs": [
    {
     "data": {
      "text/plain": [
       "[1, 2, 3]"
      ]
     },
     "execution_count": 27,
     "metadata": {},
     "output_type": "execute_result"
    }
   ],
   "source": [
    "L=[1,3,2]\n",
    "\n",
    "sorted(L)"
   ]
  },
  {
   "cell_type": "code",
   "execution_count": 28,
   "id": "01ec1cc4",
   "metadata": {},
   "outputs": [
    {
     "data": {
      "text/plain": [
       "1"
      ]
     },
     "execution_count": 28,
     "metadata": {},
     "output_type": "execute_result"
    }
   ],
   "source": [
    "len([sum([1,1,1])])"
   ]
  },
  {
   "cell_type": "code",
   "execution_count": 29,
   "id": "13e633fa",
   "metadata": {},
   "outputs": [
    {
     "data": {
      "text/plain": [
       "3"
      ]
     },
     "execution_count": 29,
     "metadata": {},
     "output_type": "execute_result"
    }
   ],
   "source": [
    " len(['A','B',1])"
   ]
  },
  {
   "cell_type": "code",
   "execution_count": 4,
   "id": "299b1abe",
   "metadata": {},
   "outputs": [
    {
     "name": "stdout",
     "output_type": "stream",
     "text": [
      "1982\n",
      "1980\n",
      "1973\n"
     ]
    }
   ],
   "source": [
    "dates = [1982,1980,1973]\n",
    "#N = len(dates)\n",
    "\n",
    "for i in range(0,3):\n",
    "    print(dates[i])"
   ]
  },
  {
   "cell_type": "code",
   "execution_count": 8,
   "id": "9f27602f",
   "metadata": {},
   "outputs": [
    {
     "name": "stdout",
     "output_type": "stream",
     "text": [
      "['red', 'yellow', 'green', 'purple', 'blue']\n",
      "white\n",
      "white\n",
      "white\n",
      "white\n",
      "white\n"
     ]
    }
   ],
   "source": [
    "squares = ['red', 'yellow', 'green', 'purple', 'blue']\n",
    "new_squares = 'white'\n",
    "print(squares)\n",
    "n = len(squares)\n",
    "\n",
    "for i in range(n):\n",
    "    squares = new_squares\n",
    "    print(squares)"
   ]
  },
  {
   "cell_type": "code",
   "execution_count": 9,
   "id": "f7c4bbe2",
   "metadata": {},
   "outputs": [
    {
     "name": "stdout",
     "output_type": "stream",
     "text": [
      "1982\n",
      "1980\n",
      "It took  2 repetitions to get out of loop.\n"
     ]
    }
   ],
   "source": [
    "dates = [1982, 1980, 1973, 2000]\n",
    "\n",
    "i = 0\n",
    "year = dates[0]\n",
    "\n",
    "while(year != 1973):    \n",
    "    print(year)\n",
    "    i = i + 1\n",
    "    year = dates[i]\n",
    "    \n",
    "\n",
    "print(\"It took \", i ,\"repetitions to get out of loop.\")"
   ]
  },
  {
   "cell_type": "code",
   "execution_count": 4,
   "id": "b3065858",
   "metadata": {},
   "outputs": [
    {
     "name": "stdout",
     "output_type": "stream",
     "text": [
      "1982\n",
      "1980\n",
      "2\n"
     ]
    }
   ],
   "source": [
    "dates = [1982, 1980, 1973, 2000]\n",
    "i=0\n",
    "#year = dates[i]\n",
    "\n",
    "while(dates[i] != 1973):\n",
    "    print(dates[i])\n",
    "    i +=1\n",
    "print(i)\n",
    "    \n"
   ]
  },
  {
   "cell_type": "code",
   "execution_count": 12,
   "id": "98059198",
   "metadata": {},
   "outputs": [
    {
     "name": "stdout",
     "output_type": "stream",
     "text": [
      "Michael Jackson Thriller 1989\n",
      "Modern\n"
     ]
    }
   ],
   "source": [
    "def type_of_album(artist, album, year_released):\n",
    "    \n",
    "    print(artist, album, year_released)\n",
    "    if year_released > 1980:\n",
    "        return \"Modern\"\n",
    "    else:\n",
    "        return \"Oldie\"\n",
    "    \n",
    "x = type_of_album(\"Michael Jackson\", \"Thriller\", 1989)\n",
    "print(x)"
   ]
  },
  {
   "cell_type": "code",
   "execution_count": 18,
   "id": "f4ca25f4",
   "metadata": {},
   "outputs": [
    {
     "name": "stdout",
     "output_type": "stream",
     "text": [
      "ranji\n",
      "4\n",
      "2\n",
      "3\n"
     ]
    }
   ],
   "source": [
    "i=0\n",
    "def PrintList(the_list):\n",
    "    for i in the_list:\n",
    "        print(i)\n",
    "PrintList(['ranji',4,2,3])"
   ]
  },
  {
   "cell_type": "code",
   "execution_count": 27,
   "id": "9b6f9efe",
   "metadata": {},
   "outputs": [
    {
     "name": "stdout",
     "output_type": "stream",
     "text": [
      "1\n",
      "equal\n"
     ]
    }
   ],
   "source": [
    "def str(x,y):\n",
    "    if x==y:\n",
    "        return 1\n",
    "x = \"ranj\"\n",
    "y = \"ranj\"\n",
    "print(str(x,y))\n",
    "if x == y:\n",
    "    print(\"equal\")\n",
    "else:\n",
    "    print(\"not equal\")\n"
   ]
  },
  {
   "cell_type": "code",
   "execution_count": 52,
   "id": "304ff944",
   "metadata": {},
   "outputs": [
    {
     "name": "stdout",
     "output_type": "stream",
     "text": [
      "6\n"
     ]
    }
   ],
   "source": [
    "# Python Program to Count words in a String using Dictionary\n",
    "def freq(string):\n",
    "    \n",
    "    #step1: A list variable is declared and initialized to an empty list.\n",
    "    words = []\n",
    "    \n",
    "    #step2: Break the string into list of words\n",
    "    words = string.split() # or string.lower().split()\n",
    "    count = words.count('Mary')\n",
    "    print(count) \n",
    "    \n",
    "    #step3: Declare a dictionary\n",
    "    #Dict = {}\n",
    "    \n",
    "    #step4: Use for loop to iterate words and values to the dictionary\n",
    "    #for key in words:\n",
    "     #   Dict[key] = words.count(key)\n",
    "        \n",
    "    #step5: Print the dictionary\n",
    "   # print(\"The Frequency of words is:\",Dict)\n",
    "    \n",
    "#step6: Call function and pass string in it\n",
    "freq(\"Mary had a little lamb Little lamb, little lamb Mary had a little lamb.Its fleece was white as snow And everywhere that Mary went Mary went, Mary went \\\n",
    "Everywhere that Mary went The lamb was sure to go\")"
   ]
  },
  {
   "cell_type": "code",
   "execution_count": 37,
   "id": "df15ac41",
   "metadata": {},
   "outputs": [
    {
     "name": "stdout",
     "output_type": "stream",
     "text": [
      "['Mary', 'had', 'a', 'little', 'lamb', 'Little', 'lamb']\n",
      "{'Mary': 1, 'had': 1, 'a': 1, 'little': 1, 'lamb': 2, 'Little': 1}\n"
     ]
    }
   ],
   "source": [
    "def str(text):\n",
    "    words=[]\n",
    "    words = text.split()\n",
    "    print(words)\n",
    "    dict={}\n",
    "    for i in words:\n",
    "        dict[i] = words.count(i)\n",
    "    print(dict)\n",
    "str(\"Mary had a little lamb Little lamb\")"
   ]
  },
  {
   "cell_type": "code",
   "execution_count": 39,
   "id": "6c97b643",
   "metadata": {},
   "outputs": [
    {
     "name": "stdout",
     "output_type": "stream",
     "text": [
      "Michael Jackson is an artist\n"
     ]
    }
   ],
   "source": [
    "artist5 = \"Michael Jackson\"\n",
    "def printer1(artist):\n",
    "    internal_var1 = artist\n",
    "    print(artist, \"is an artist\")\n",
    "    \n",
    "printer1(artist5)"
   ]
  },
  {
   "cell_type": "code",
   "execution_count": 43,
   "id": "b0652f25",
   "metadata": {},
   "outputs": [
    {
     "name": "stdout",
     "output_type": "stream",
     "text": [
      "10.0\n",
      "0.0\n"
     ]
    }
   ],
   "source": [
    "myFavouriteBand = \"AC/DC\"\n",
    "\n",
    "def getBandRating(bandname):\n",
    "    if bandname == myFavouriteBand:\n",
    "        return 10.0\n",
    "    else:\n",
    "        return 0.0\n",
    "print(getBandRating('AC/DC'))\n",
    "print(getBandRating('C/DC'))"
   ]
  },
  {
   "cell_type": "code",
   "execution_count": 57,
   "id": "1c687c88",
   "metadata": {},
   "outputs": [],
   "source": [
    "import matplotlib.pyplot as plt\n",
    "class Circle(object):\n",
    "    \n",
    "    # Constructor\n",
    "    def __init__(self, radius=3, color='blue'):\n",
    "        self.radius = radius\n",
    "        self.color = color \n",
    "    \n",
    "    # Method\n",
    "    def add_radius(self, r):\n",
    "        self.radius = self.radius + r\n",
    "        return(self.radius)\n",
    "    \n",
    "    # Method\n",
    "    def drawCircle(self):\n",
    "        plt.gca().add_patch(plt.Circle((0, 0), radius=self.radius, fc=self.color))\n",
    "        plt.axis('scaled')\n",
    "        plt.show() "
   ]
  },
  {
   "cell_type": "code",
   "execution_count": 63,
   "id": "6f4b70eb",
   "metadata": {},
   "outputs": [
    {
     "data": {
      "image/png": "[encoded data removed]",
      "text/plain": [
       "<Figure size 640x480 with 1 Axes>"
      ]
     },
     "metadata": {},
     "output_type": "display_data"
    },
    {
     "data": {
      "text/plain": [
       "7"
      ]
     },
     "execution_count": 63,
     "metadata": {},
     "output_type": "execute_result"
    }
   ],
   "source": [
    "redCircle = Circle(3,'red')\n",
    "redCircle.add_radius(4)\n",
    "redCircle.drawCircle()\n",
    "dir(redCircle)\n",
    "redCircle.radius"
   ]
  },
  {
   "cell_type": "code",
   "execution_count": 64,
   "id": "47ccaa42",
   "metadata": {},
   "outputs": [
    {
     "name": "stdout",
     "output_type": "stream",
     "text": [
      "Radius of object: 7\n",
      "Radius of object of after applying the method add_radius(2): 9\n",
      "Radius of object of after applying the method add_radius(5): 14\n"
     ]
    }
   ],
   "source": [
    "print('Radius of object:',redCircle.radius)\n",
    "redCircle.add_radius(2)\n",
    "print('Radius of object of after applying the method add_radius(2):',redCircle.radius)\n",
    "redCircle.add_radius(5)\n",
    "print('Radius of object of after applying the method add_radius(5):',redCircle.radius)"
   ]
  },
  {
   "cell_type": "code",
   "execution_count": 73,
   "id": "37f13198",
   "metadata": {},
   "outputs": [
    {
     "name": "stdout",
     "output_type": "stream",
     "text": [
      "color yellow\n",
      "4\n"
     ]
    }
   ],
   "source": [
    "class Circle(object):\n",
    "    # Constructor\n",
    "    def __init__(self, radius=3, color='blue'):\n",
    "        self.radius = radius\n",
    "        self.color = color\n",
    "\n",
    "\n",
    "    # Method\n",
    "    def add_radius(self, r):\n",
    "        self.radius = self.radius + r\n",
    "        return self.radius\n",
    "    \n",
    "    def display(self):\n",
    "        print(\"color\",self.color)\n",
    "        print(self.radius)\n",
    "c = Circle(4,'yellow')\n",
    "c.display()\n"
   ]
  },
  {
   "cell_type": "code",
   "execution_count": 77,
   "id": "05442375",
   "metadata": {},
   "outputs": [
    {
     "name": "stdout",
     "output_type": "stream",
     "text": [
      "80\n"
     ]
    }
   ],
   "source": [
    "class Graph():\n",
    "    def __init__(self, id):\n",
    "        self.id = id\n",
    "        self.id = 80\n",
    "\n",
    "\n",
    "val = Graph(200)\n",
    "print(val.id)"
   ]
  },
  {
   "cell_type": "code",
   "execution_count": 86,
   "id": "78ca72de",
   "metadata": {},
   "outputs": [
    {
     "name": "stdout",
     "output_type": "stream",
     "text": [
      "ranji\n"
     ]
    }
   ],
   "source": [
    "class TextAnalzer(object):\n",
    "    \n",
    "    def __init__ (self, text):\n",
    "        # remove punctuation\n",
    "        formattedText = text.replace('.','').replace('!','').replace('?','').replace(',','')\n",
    "        \n",
    "        # make text lowercase\n",
    "        formattedText = formattedText.lower()\n",
    "        \n",
    "        self.fmtText = formattedText\n",
    "    def display(self):\n",
    "        print(self.fmtText)\n",
    "w = TextAnalzer(\"RANJI\")\n",
    "w.display()"
   ]
  },
  {
   "cell_type": "code",
   "execution_count": 2,
   "id": "a2b488fd",
   "metadata": {},
   "outputs": [
    {
     "name": "stdout",
     "output_type": "stream",
     "text": [
      "True\n"
     ]
    }
   ],
   "source": [
    "x = 1 \n",
    "x = x > -5\n",
    "print(x)"
   ]
  },
  {
   "cell_type": "code",
   "execution_count": 8,
   "id": "ad0da08b",
   "metadata": {},
   "outputs": [
    {
     "name": "stdout",
     "output_type": "stream",
     "text": [
      "101\n"
     ]
    }
   ],
   "source": [
    " a = 1 \n",
    "def do(x): \n",
    "    a = 100 \n",
    "    return x + a \n",
    "\n",
    "\n",
    "print(do(1))"
   ]
  },
  {
   "cell_type": "code",
   "execution_count": 1,
   "id": "7fb8c0d0",
   "metadata": {},
   "outputs": [
    {
     "name": "stdout",
     "output_type": "stream",
     "text": [
      "      Name  Age           City\n",
      "0    Alice   25       New York\n",
      "1      Bob   30  San Francisco\n",
      "2  Charlie   35    Los Angeles\n",
      "3    David   28        Chicago\n"
     ]
    }
   ],
   "source": [
    "import pandas as pd\n",
    "# Creating a DataFrame from a dictionary\n",
    "data = {'Name': ['Alice', 'Bob', 'Charlie', 'David'],\n",
    "        'Age': [25, 30, 35, 28],\n",
    "        'City': ['New York', 'San Francisco', 'Los Angeles', 'Chicago']}\n",
    "df = pd.DataFrame(data)\n",
    "print(df)"
   ]
  },
  {
   "cell_type": "code",
   "execution_count": 8,
   "id": "552b9a7e",
   "metadata": {},
   "outputs": [
    {
     "name": "stdout",
     "output_type": "stream",
     "text": [
      "Name        Charlie\n",
      "Age              35\n",
      "City    Los Angeles\n",
      "Name: 2, dtype: object\n",
      "Name       Alice\n",
      "Age           25\n",
      "City    New York\n",
      "Name: 0, dtype: object\n"
     ]
    }
   ],
   "source": [
    "print(df.iloc[2])   # Access the third row by position\n",
    "print(df.loc[0])    # Access the second row by label"
   ]
  },
  {
   "cell_type": "code",
   "execution_count": 14,
   "id": "edb4c8db",
   "metadata": {},
   "outputs": [
    {
     "name": "stdout",
     "output_type": "stream",
     "text": [
      "      Name  Age\n",
      "0    Alice   25\n",
      "1      Bob   30\n",
      "2  Charlie   35\n",
      "3    David   28\n",
      "      Name  Age           City\n",
      "1      Bob   30  San Francisco\n",
      "2  Charlie   35    Los Angeles\n"
     ]
    }
   ],
   "source": [
    "print(df[['Name', 'Age']])  # Select specific columns\n",
    "print(df[1:3])             # Select specific rows"
   ]
  },
  {
   "cell_type": "code",
   "execution_count": 11,
   "id": "9d4a5c10",
   "metadata": {},
   "outputs": [
    {
     "name": "stdout",
     "output_type": "stream",
     "text": [
      "      Name  Age           City\n",
      "1      Bob   30  San Francisco\n",
      "2  Charlie   35    Los Angeles\n",
      "3    David   28        Chicago\n"
     ]
    }
   ],
   "source": [
    "high_above_102 = df[df['Age'] > 25]\n",
    "print(high_above_102 )"
   ]
  },
  {
   "cell_type": "code",
   "execution_count": 15,
   "id": "cb4696ac",
   "metadata": {},
   "outputs": [
    {
     "data": {
      "text/html": [
       "<div>\n",
       "<style scoped>\n",
       "    .dataframe tbody tr th:only-of-type {\n",
       "        vertical-align: middle;\n",
       "    }\n",
       "\n",
       "    .dataframe tbody tr th {\n",
       "        vertical-align: top;\n",
       "    }\n",
       "\n",
       "    .dataframe thead th {\n",
       "        text-align: right;\n",
       "    }\n",
       "</style>\n",
       "<table border=\"1\" class=\"dataframe\">\n",
       "  <thead>\n",
       "    <tr style=\"text-align: right;\">\n",
       "      <th></th>\n",
       "      <th>Name</th>\n",
       "      <th>ID</th>\n",
       "      <th>Department</th>\n",
       "      <th>Salary</th>\n",
       "    </tr>\n",
       "  </thead>\n",
       "  <tbody>\n",
       "    <tr>\n",
       "      <th>0</th>\n",
       "      <td>Rose</td>\n",
       "      <td>1</td>\n",
       "      <td>Architect Group</td>\n",
       "      <td>100000</td>\n",
       "    </tr>\n",
       "    <tr>\n",
       "      <th>1</th>\n",
       "      <td>John</td>\n",
       "      <td>2</td>\n",
       "      <td>Software Group</td>\n",
       "      <td>80000</td>\n",
       "    </tr>\n",
       "    <tr>\n",
       "      <th>2</th>\n",
       "      <td>Jane</td>\n",
       "      <td>3</td>\n",
       "      <td>Design Team</td>\n",
       "      <td>50000</td>\n",
       "    </tr>\n",
       "    <tr>\n",
       "      <th>3</th>\n",
       "      <td>Mary</td>\n",
       "      <td>4</td>\n",
       "      <td>Infrastructure</td>\n",
       "      <td>60000</td>\n",
       "    </tr>\n",
       "  </tbody>\n",
       "</table>\n",
       "</div>"
      ],
      "text/plain": [
       "   Name  ID       Department  Salary\n",
       "0  Rose   1  Architect Group  100000\n",
       "1  John   2   Software Group   80000\n",
       "2  Jane   3      Design Team   50000\n",
       "3  Mary   4   Infrastructure   60000"
      ]
     },
     "execution_count": 15,
     "metadata": {},
     "output_type": "execute_result"
    }
   ],
   "source": [
    "x = {'Name': ['Rose','John', 'Jane', 'Mary'], 'ID': [1, 2, 3, 4], 'Department': ['Architect Group', 'Software Group', 'Design Team', 'Infrastructure'], \n",
    "      'Salary':[100000, 80000, 50000, 60000]}\n",
    "\n",
    "#casting the dictionary to a DataFrame\n",
    "df = pd.DataFrame(x)\n",
    "\n",
    "#display the result df\n",
    "df"
   ]
  },
  {
   "cell_type": "code",
   "execution_count": 27,
   "id": "6f08090c",
   "metadata": {},
   "outputs": [
    {
     "data": {
      "text/html": [
       "<div>\n",
       "<style scoped>\n",
       "    .dataframe tbody tr th:only-of-type {\n",
       "        vertical-align: middle;\n",
       "    }\n",
       "\n",
       "    .dataframe tbody tr th {\n",
       "        vertical-align: top;\n",
       "    }\n",
       "\n",
       "    .dataframe thead th {\n",
       "        text-align: right;\n",
       "    }\n",
       "</style>\n",
       "<table border=\"1\" class=\"dataframe\">\n",
       "  <thead>\n",
       "    <tr style=\"text-align: right;\">\n",
       "      <th></th>\n",
       "      <th>Name</th>\n",
       "      <th>ID</th>\n",
       "      <th>Department</th>\n",
       "    </tr>\n",
       "  </thead>\n",
       "  <tbody>\n",
       "    <tr>\n",
       "      <th>0</th>\n",
       "      <td>Rose</td>\n",
       "      <td>1</td>\n",
       "      <td>Architect Group</td>\n",
       "    </tr>\n",
       "    <tr>\n",
       "      <th>1</th>\n",
       "      <td>John</td>\n",
       "      <td>2</td>\n",
       "      <td>Software Group</td>\n",
       "    </tr>\n",
       "    <tr>\n",
       "      <th>2</th>\n",
       "      <td>Jane</td>\n",
       "      <td>3</td>\n",
       "      <td>Design Team</td>\n",
       "    </tr>\n",
       "  </tbody>\n",
       "</table>\n",
       "</div>"
      ],
      "text/plain": [
       "   Name  ID       Department\n",
       "0  Rose   1  Architect Group\n",
       "1  John   2   Software Group\n",
       "2  Jane   3      Design Team"
      ]
     },
     "execution_count": 27,
     "metadata": {},
     "output_type": "execute_result"
    }
   ],
   "source": [
    "df.iloc[0:3, 0:3]"
   ]
  },
  {
   "cell_type": "markdown",
   "id": "0ec362dd",
   "metadata": {},
   "source": []
  },
  {
   "cell_type": "code",
   "execution_count": 35,
   "id": "8960fffb",
   "metadata": {},
   "outputs": [
    {
     "data": {
      "text/html": [
       "<div>\n",
       "<style scoped>\n",
       "    .dataframe tbody tr th:only-of-type {\n",
       "        vertical-align: middle;\n",
       "    }\n",
       "\n",
       "    .dataframe tbody tr th {\n",
       "        vertical-align: top;\n",
       "    }\n",
       "\n",
       "    .dataframe thead th {\n",
       "        text-align: right;\n",
       "    }\n",
       "</style>\n",
       "<table border=\"1\" class=\"dataframe\">\n",
       "  <thead>\n",
       "    <tr style=\"text-align: right;\">\n",
       "      <th></th>\n",
       "      <th>Name</th>\n",
       "      <th>ID</th>\n",
       "      <th>Department</th>\n",
       "    </tr>\n",
       "  </thead>\n",
       "  <tbody>\n",
       "    <tr>\n",
       "      <th>0</th>\n",
       "      <td>Rose</td>\n",
       "      <td>1</td>\n",
       "      <td>Architect Group</td>\n",
       "    </tr>\n",
       "    <tr>\n",
       "      <th>1</th>\n",
       "      <td>John</td>\n",
       "      <td>2</td>\n",
       "      <td>Software Group</td>\n",
       "    </tr>\n",
       "    <tr>\n",
       "      <th>2</th>\n",
       "      <td>Jane</td>\n",
       "      <td>3</td>\n",
       "      <td>Design Team</td>\n",
       "    </tr>\n",
       "    <tr>\n",
       "      <th>3</th>\n",
       "      <td>Mary</td>\n",
       "      <td>4</td>\n",
       "      <td>Infrastructure</td>\n",
       "    </tr>\n",
       "  </tbody>\n",
       "</table>\n",
       "</div>"
      ],
      "text/plain": [
       "   Name  ID       Department\n",
       "0  Rose   1  Architect Group\n",
       "1  John   2   Software Group\n",
       "2  Jane   3      Design Team\n",
       "3  Mary   4   Infrastructure"
      ]
     },
     "execution_count": 35,
     "metadata": {},
     "output_type": "execute_result"
    }
   ],
   "source": [
    "df.loc[0:3,'Name':'Department']"
   ]
  },
  {
   "cell_type": "code",
   "execution_count": 40,
   "id": "c134b91f",
   "metadata": {},
   "outputs": [
    {
     "data": {
      "text/html": [
       "<div>\n",
       "<style scoped>\n",
       "    .dataframe tbody tr th:only-of-type {\n",
       "        vertical-align: middle;\n",
       "    }\n",
       "\n",
       "    .dataframe tbody tr th {\n",
       "        vertical-align: top;\n",
       "    }\n",
       "\n",
       "    .dataframe thead th {\n",
       "        text-align: right;\n",
       "    }\n",
       "</style>\n",
       "<table border=\"1\" class=\"dataframe\">\n",
       "  <thead>\n",
       "    <tr style=\"text-align: right;\">\n",
       "      <th></th>\n",
       "      <th>Rating</th>\n",
       "    </tr>\n",
       "  </thead>\n",
       "  <tbody>\n",
       "    <tr>\n",
       "      <th>0</th>\n",
       "      <td>10.0</td>\n",
       "    </tr>\n",
       "    <tr>\n",
       "      <th>1</th>\n",
       "      <td>9.5</td>\n",
       "    </tr>\n",
       "    <tr>\n",
       "      <th>2</th>\n",
       "      <td>9.0</td>\n",
       "    </tr>\n",
       "    <tr>\n",
       "      <th>3</th>\n",
       "      <td>8.5</td>\n",
       "    </tr>\n",
       "    <tr>\n",
       "      <th>4</th>\n",
       "      <td>8.0</td>\n",
       "    </tr>\n",
       "    <tr>\n",
       "      <th>5</th>\n",
       "      <td>7.5</td>\n",
       "    </tr>\n",
       "    <tr>\n",
       "      <th>6</th>\n",
       "      <td>7.0</td>\n",
       "    </tr>\n",
       "    <tr>\n",
       "      <th>7</th>\n",
       "      <td>6.5</td>\n",
       "    </tr>\n",
       "  </tbody>\n",
       "</table>\n",
       "</div>"
      ],
      "text/plain": [
       "  Rating\n",
       "0   10.0\n",
       "1    9.5\n",
       "2    9.0\n",
       "3    8.5\n",
       "4    8.0\n",
       "5    7.5\n",
       "6    7.0\n",
       "7    6.5"
      ]
     },
     "execution_count": 40,
     "metadata": {},
     "output_type": "execute_result"
    }
   ],
   "source": [
    "import pandas as pd\n",
    "x = {'Rating':['10.0','9.5','9.0','8.5','8.0','7.5','7.0','6.5']}\n",
    "q = pd.DataFrame(x)\n",
    "q"
   ]
  },
  {
   "cell_type": "code",
   "execution_count": 44,
   "id": "4ce5832f",
   "metadata": {},
   "outputs": [
    {
     "data": {
      "text/plain": [
       "[0, 2, 3, 4]"
      ]
     },
     "execution_count": 44,
     "metadata": {},
     "output_type": "execute_result"
    }
   ],
   "source": [
    "select = [0, 2, 3, 4]\n",
    "select\n",
    "\n",
    "\n"
   ]
  },
  {
   "cell_type": "code",
   "execution_count": 51,
   "id": "3a0f67b9",
   "metadata": {},
   "outputs": [
    {
     "data": {
      "text/plain": [
       "array([0.        , 0.6981317 , 1.3962634 , 2.0943951 , 2.7925268 ,\n",
       "       3.4906585 , 4.1887902 , 4.88692191, 5.58505361, 6.28318531])"
      ]
     },
     "execution_count": 51,
     "metadata": {},
     "output_type": "execute_result"
    }
   ],
   "source": [
    "import numpy as np\n",
    "x = np.linspace(0, 2*np.pi, num=10)\n",
    "x"
   ]
  },
  {
   "cell_type": "code",
   "execution_count": 58,
   "id": "8b48d3cf",
   "metadata": {},
   "outputs": [
    {
     "data": {
      "text/plain": [
       "array([-2., -1.,  0.,  1.,  2.])"
      ]
     },
     "execution_count": 58,
     "metadata": {},
     "output_type": "execute_result"
    }
   ],
   "source": [
    "\n",
    "np.linspace(-2, 2, num=5)\n"
   ]
  },
  {
   "cell_type": "code",
   "execution_count": 2,
   "id": "9b52540c",
   "metadata": {},
   "outputs": [
    {
     "data": {
      "text/plain": [
       "0"
      ]
     },
     "execution_count": 2,
     "metadata": {},
     "output_type": "execute_result"
    }
   ],
   "source": [
    "import numpy as np\n",
    "a=np.array([0,1]) \n",
    "\n",
    "b=np.array([1,0]) \n",
    "\n",
    "np.dot(a,b)"
   ]
  },
  {
   "cell_type": "code",
   "execution_count": 4,
   "id": "62e205e5",
   "metadata": {},
   "outputs": [
    {
     "data": {
      "text/plain": [
       "array([1, 2])"
      ]
     },
     "execution_count": 4,
     "metadata": {},
     "output_type": "execute_result"
    }
   ],
   "source": [
    "X=np.array([[1,0,1],[2,2,2]]) \n",
    "\n",
    "out=X[0:2,2]\n",
    "out"
   ]
  },
  {
   "cell_type": "code",
   "execution_count": 6,
   "id": "e4005455",
   "metadata": {},
   "outputs": [
    {
     "data": {
      "text/plain": [
       "array([[2, 1],\n",
       "       [1, 2]])"
      ]
     },
     "execution_count": 6,
     "metadata": {},
     "output_type": "execute_result"
    }
   ],
   "source": [
    "X=np.array([[1,0],[0,1]]) \n",
    "\n",
    "Y=np.array([[2,1],[1,2]]) \n",
    "\n",
    "Z=np.dot(X,Y)\n",
    "Z"
   ]
  },
  {
   "cell_type": "code",
   "execution_count": 9,
   "id": "4cb74a7c",
   "metadata": {},
   "outputs": [
    {
     "data": {
      "text/plain": [
       "'HELLO'"
      ]
     },
     "execution_count": 9,
     "metadata": {},
     "output_type": "execute_result"
    }
   ],
   "source": [
    "my_string=\"Hello\" \n",
    "uppercase_text = my_string.upper()\n",
    "uppercase_text"
   ]
  },
  {
   "cell_type": "code",
   "execution_count": 1,
   "id": "32382904",
   "metadata": {},
   "outputs": [
    {
     "data": {
      "text/plain": [
       "'Hello'"
      ]
     },
     "execution_count": 1,
     "metadata": {},
     "output_type": "execute_result"
    }
   ],
   "source": [
    "my_string=\"Hello\" \n",
    "trimmed = my_string.strip()\n",
    "trimmed\n"
   ]
  },
  {
   "cell_type": "code",
   "execution_count": 16,
   "id": "f164bed8",
   "metadata": {},
   "outputs": [
    {
     "name": "stdout",
     "output_type": "stream",
     "text": [
      "Hello, World!\n"
     ]
    }
   ],
   "source": [
    "text = \"   Hello, World!   \"\n",
    "result = text.strip()\n",
    "print(result)"
   ]
  },
  {
   "cell_type": "code",
   "execution_count": 17,
   "id": "e5ed2ff0",
   "metadata": {},
   "outputs": [
    {
     "data": {
      "text/plain": [
       "'   Hello, World!   '"
      ]
     },
     "execution_count": 17,
     "metadata": {},
     "output_type": "execute_result"
    }
   ],
   "source": [
    "text = \"   Hello, World!   \"\n",
    "text"
   ]
  },
  {
   "cell_type": "code",
   "execution_count": 28,
   "id": "7b36cfec",
   "metadata": {},
   "outputs": [
    {
     "name": "stdout",
     "output_type": "stream",
     "text": [
      "3\n",
      "0 1 2 3 "
     ]
    }
   ],
   "source": [
    "if __name__ == '__main__':\n",
    "    n = int(input())\n",
    "    for i in range(0,n+1):\n",
    "        print(i,end = \" \")\n",
    "    "
   ]
  },
  {
   "cell_type": "code",
   "execution_count": null,
   "id": "ef79015e",
   "metadata": {},
   "outputs": [],
   "source": [
    "\n"
   ]
  },
  {
   "cell_type": "code",
   "execution_count": 16,
   "id": "712e083d",
   "metadata": {},
   "outputs": [
    {
     "name": "stderr",
     "output_type": "stream",
     "text": [
      "WARNING: Ignoring invalid distribution ~ensorflow-intel (C:\\Users\\ranju\\AppData\\Roaming\\Python\\Python311\\site-packages)\n",
      "WARNING: Ignoring invalid distribution ~ensorflow-intel (C:\\Users\\ranju\\AppData\\Roaming\\Python\\Python311\\site-packages)\n",
      "WARNING: Ignoring invalid distribution ~ensorflow-intel (C:\\Users\\ranju\\AppData\\Roaming\\Python\\Python311\\site-packages)\n",
      "\n",
      "[notice] A new release of pip is available: 24.2 -> 24.3.1\n",
      "[notice] To update, run: python.exe -m pip install --upgrade pip\n"
     ]
    },
    {
     "name": "stdout",
     "output_type": "stream",
     "text": [
      "Requirement already satisfied: html5lib in c:\\users\\ranju\\anaconda3\\lib\\site-packages (1.1)\n",
      "Requirement already satisfied: six>=1.9 in c:\\users\\ranju\\appdata\\roaming\\python\\python311\\site-packages (from html5lib) (1.16.0)\n",
      "Requirement already satisfied: webencodings in c:\\users\\ranju\\appdata\\roaming\\python\\python311\\site-packages (from html5lib) (0.5.1)\n",
      "Requirement already satisfied: html5lib in c:\\users\\ranju\\anaconda3\\lib\\site-packages (1.1)"
     ]
    },
    {
     "name": "stderr",
     "output_type": "stream",
     "text": [
      "WARNING: Ignoring invalid distribution ~ensorflow-intel (C:\\Users\\ranju\\AppData\\Roaming\\Python\\Python311\\site-packages)\n",
      "WARNING: Ignoring invalid distribution ~ensorflow-intel (C:\\Users\\ranju\\AppData\\Roaming\\Python\\Python311\\site-packages)\n",
      "WARNING: Ignoring invalid distribution ~ensorflow-intel (C:\\Users\\ranju\\AppData\\Roaming\\Python\\Python311\\site-packages)\n",
      "\n",
      "[notice] A new release of pip is available: 24.2 -> 24.3.1\n",
      "[notice] To update, run: python.exe -m pip install --upgrade pip\n"
     ]
    },
    {
     "name": "stdout",
     "output_type": "stream",
     "text": [
      "\n",
      "Requirement already satisfied: six>=1.9 in c:\\users\\ranju\\appdata\\roaming\\python\\python311\\site-packages (from html5lib) (1.16.0)\n",
      "Requirement already satisfied: webencodings in c:\\users\\ranju\\appdata\\roaming\\python\\python311\\site-packages (from html5lib) (0.5.1)\n"
     ]
    }
   ],
   "source": [
    "#!pip install lxml\n",
    "!pip install html5lib\n",
    "!pip install --upgrade html5lib\n",
    "#!pip install --upgrade html5lib"
   ]
  },
  {
   "cell_type": "code",
   "execution_count": 20,
   "id": "059bbd48",
   "metadata": {},
   "outputs": [],
   "source": [
    "URL=\"https://web.archive.org/web/20230902185326/https://en.wikipedia.org/wiki/List_of_countries_by_GDP_%28nominal%29\""
   ]
  },
  {
   "cell_type": "code",
   "execution_count": 53,
   "id": "79d44803",
   "metadata": {},
   "outputs": [
    {
     "ename": "ValueError",
     "evalue": "Length mismatch: Expected axis has 8 elements, new values have 2 elements",
     "output_type": "error",
     "traceback": [
      "\u001b[1;31m---------------------------------------------------------------------------\u001b[0m",
      "\u001b[1;31mValueError\u001b[0m                                Traceback (most recent call last)",
      "Cell \u001b[1;32mIn[53], line 17\u001b[0m\n\u001b[0;32m     14\u001b[0m df \u001b[38;5;241m=\u001b[39m df\u001b[38;5;241m.\u001b[39miloc[\u001b[38;5;241m1\u001b[39m:\u001b[38;5;241m11\u001b[39m, :]\n\u001b[0;32m     15\u001b[0m df\n\u001b[1;32m---> 17\u001b[0m \u001b[43mdf\u001b[49m\u001b[38;5;241;43m.\u001b[39;49m\u001b[43mcolumns\u001b[49m \u001b[38;5;241m=\u001b[39m [\u001b[38;5;124m'\u001b[39m\u001b[38;5;124mCountry\u001b[39m\u001b[38;5;124m'\u001b[39m,\u001b[38;5;124m'\u001b[39m\u001b[38;5;124mGDP (Million USD)\u001b[39m\u001b[38;5;124m'\u001b[39m]\n\u001b[0;32m     18\u001b[0m df\u001b[38;5;241m.\u001b[39mcolumns\n",
      "File \u001b[1;32m~\\AppData\\Roaming\\Python\\Python311\\site-packages\\pandas\\core\\generic.py:6002\u001b[0m, in \u001b[0;36mNDFrame.__setattr__\u001b[1;34m(self, name, value)\u001b[0m\n\u001b[0;32m   6000\u001b[0m \u001b[38;5;28;01mtry\u001b[39;00m:\n\u001b[0;32m   6001\u001b[0m     \u001b[38;5;28mobject\u001b[39m\u001b[38;5;241m.\u001b[39m\u001b[38;5;21m__getattribute__\u001b[39m(\u001b[38;5;28mself\u001b[39m, name)\n\u001b[1;32m-> 6002\u001b[0m     \u001b[38;5;28;01mreturn\u001b[39;00m \u001b[38;5;28;43mobject\u001b[39;49m\u001b[38;5;241;43m.\u001b[39;49m\u001b[38;5;21;43m__setattr__\u001b[39;49m\u001b[43m(\u001b[49m\u001b[38;5;28;43mself\u001b[39;49m\u001b[43m,\u001b[49m\u001b[43m \u001b[49m\u001b[43mname\u001b[49m\u001b[43m,\u001b[49m\u001b[43m \u001b[49m\u001b[43mvalue\u001b[49m\u001b[43m)\u001b[49m\n\u001b[0;32m   6003\u001b[0m \u001b[38;5;28;01mexcept\u001b[39;00m \u001b[38;5;167;01mAttributeError\u001b[39;00m:\n\u001b[0;32m   6004\u001b[0m     \u001b[38;5;28;01mpass\u001b[39;00m\n",
      "File \u001b[1;32m~\\AppData\\Roaming\\Python\\Python311\\site-packages\\pandas\\_libs\\properties.pyx:69\u001b[0m, in \u001b[0;36mpandas._libs.properties.AxisProperty.__set__\u001b[1;34m()\u001b[0m\n",
      "File \u001b[1;32m~\\AppData\\Roaming\\Python\\Python311\\site-packages\\pandas\\core\\generic.py:730\u001b[0m, in \u001b[0;36mNDFrame._set_axis\u001b[1;34m(self, axis, labels)\u001b[0m\n\u001b[0;32m    725\u001b[0m \u001b[38;5;250m\u001b[39m\u001b[38;5;124;03m\"\"\"\u001b[39;00m\n\u001b[0;32m    726\u001b[0m \u001b[38;5;124;03mThis is called from the cython code when we set the `index` attribute\u001b[39;00m\n\u001b[0;32m    727\u001b[0m \u001b[38;5;124;03mdirectly, e.g. `series.index = [1, 2, 3]`.\u001b[39;00m\n\u001b[0;32m    728\u001b[0m \u001b[38;5;124;03m\"\"\"\u001b[39;00m\n\u001b[0;32m    729\u001b[0m labels \u001b[38;5;241m=\u001b[39m ensure_index(labels)\n\u001b[1;32m--> 730\u001b[0m \u001b[38;5;28;43mself\u001b[39;49m\u001b[38;5;241;43m.\u001b[39;49m\u001b[43m_mgr\u001b[49m\u001b[38;5;241;43m.\u001b[39;49m\u001b[43mset_axis\u001b[49m\u001b[43m(\u001b[49m\u001b[43maxis\u001b[49m\u001b[43m,\u001b[49m\u001b[43m \u001b[49m\u001b[43mlabels\u001b[49m\u001b[43m)\u001b[49m\n\u001b[0;32m    731\u001b[0m \u001b[38;5;28mself\u001b[39m\u001b[38;5;241m.\u001b[39m_clear_item_cache()\n",
      "File \u001b[1;32m~\\AppData\\Roaming\\Python\\Python311\\site-packages\\pandas\\core\\internals\\managers.py:225\u001b[0m, in \u001b[0;36mBaseBlockManager.set_axis\u001b[1;34m(self, axis, new_labels)\u001b[0m\n\u001b[0;32m    223\u001b[0m \u001b[38;5;28;01mdef\u001b[39;00m \u001b[38;5;21mset_axis\u001b[39m(\u001b[38;5;28mself\u001b[39m, axis: AxisInt, new_labels: Index) \u001b[38;5;241m-\u001b[39m\u001b[38;5;241m>\u001b[39m \u001b[38;5;28;01mNone\u001b[39;00m:\n\u001b[0;32m    224\u001b[0m     \u001b[38;5;66;03m# Caller is responsible for ensuring we have an Index object.\u001b[39;00m\n\u001b[1;32m--> 225\u001b[0m     \u001b[38;5;28;43mself\u001b[39;49m\u001b[38;5;241;43m.\u001b[39;49m\u001b[43m_validate_set_axis\u001b[49m\u001b[43m(\u001b[49m\u001b[43maxis\u001b[49m\u001b[43m,\u001b[49m\u001b[43m \u001b[49m\u001b[43mnew_labels\u001b[49m\u001b[43m)\u001b[49m\n\u001b[0;32m    226\u001b[0m     \u001b[38;5;28mself\u001b[39m\u001b[38;5;241m.\u001b[39maxes[axis] \u001b[38;5;241m=\u001b[39m new_labels\n",
      "File \u001b[1;32m~\\AppData\\Roaming\\Python\\Python311\\site-packages\\pandas\\core\\internals\\base.py:70\u001b[0m, in \u001b[0;36mDataManager._validate_set_axis\u001b[1;34m(self, axis, new_labels)\u001b[0m\n\u001b[0;32m     67\u001b[0m     \u001b[38;5;28;01mpass\u001b[39;00m\n\u001b[0;32m     69\u001b[0m \u001b[38;5;28;01melif\u001b[39;00m new_len \u001b[38;5;241m!=\u001b[39m old_len:\n\u001b[1;32m---> 70\u001b[0m     \u001b[38;5;28;01mraise\u001b[39;00m \u001b[38;5;167;01mValueError\u001b[39;00m(\n\u001b[0;32m     71\u001b[0m         \u001b[38;5;124mf\u001b[39m\u001b[38;5;124m\"\u001b[39m\u001b[38;5;124mLength mismatch: Expected axis has \u001b[39m\u001b[38;5;132;01m{\u001b[39;00mold_len\u001b[38;5;132;01m}\u001b[39;00m\u001b[38;5;124m elements, new \u001b[39m\u001b[38;5;124m\"\u001b[39m\n\u001b[0;32m     72\u001b[0m         \u001b[38;5;124mf\u001b[39m\u001b[38;5;124m\"\u001b[39m\u001b[38;5;124mvalues have \u001b[39m\u001b[38;5;132;01m{\u001b[39;00mnew_len\u001b[38;5;132;01m}\u001b[39;00m\u001b[38;5;124m elements\u001b[39m\u001b[38;5;124m\"\u001b[39m\n\u001b[0;32m     73\u001b[0m     )\n",
      "\u001b[1;31mValueError\u001b[0m: Length mismatch: Expected axis has 8 elements, new values have 2 elements"
     ]
    }
   ],
   "source": [
    "\n",
    "import pandas as pd\n",
    "import numpy as np\n",
    "# Extract tables from webpage using Pandas. Retain table number 3 as the required dataframe.\n",
    "tables = pd.read_html(URL)\n",
    "tables\n",
    "df = tables[3]\n",
    "df\n",
    "df.columns = range(df.shape[1])\n",
    "df.columns\n",
    "\n",
    "df[[0,2]]\n",
    "\n",
    "df = df.iloc[1:11, :]\n",
    "df\n",
    "\n",
    "df.columns = ['Country','GDP (Million USD)']\n",
    "df.columns\n"
   ]
  },
  {
   "cell_type": "code",
   "execution_count": 54,
   "id": "1ffd5cc0",
   "metadata": {},
   "outputs": [
    {
     "name": "stdout",
     "output_type": "stream",
     "text": [
      "Collecting randomuser\n",
      "  Downloading randomuser-1.6.tar.gz (5.0 kB)\n",
      "  Preparing metadata (setup.py): started\n",
      "  Preparing metadata (setup.py): finished with status 'done'\n",
      "Building wheels for collected packages: randomuser\n",
      "  Building wheel for randomuser (setup.py): started\n",
      "  Building wheel for randomuser (setup.py): finished with status 'done'\n",
      "  Created wheel for randomuser: filename=randomuser-1.6-py3-none-any.whl size=5091 sha256=3b682add7df76b5eb03dc26513424b057d8dbab449a05b5045625108074accf5\n",
      "  Stored in directory: c:\\users\\ranju\\appdata\\local\\pip\\cache\\wheels\\fc\\8d\\74\\bcdd5e8a9433bfa4c4f9c1cccbfec40139322a28d77f61e45e\n",
      "Successfully built randomuser\n",
      "Installing collected packages: randomuser\n",
      "Successfully installed randomuser-1.6\n"
     ]
    },
    {
     "name": "stderr",
     "output_type": "stream",
     "text": [
      "WARNING: Ignoring invalid distribution ~ensorflow-intel (C:\\Users\\ranju\\AppData\\Roaming\\Python\\Python311\\site-packages)\n",
      "WARNING: Ignoring invalid distribution ~ensorflow-intel (C:\\Users\\ranju\\AppData\\Roaming\\Python\\Python311\\site-packages)\n",
      "WARNING: Ignoring invalid distribution ~ensorflow-intel (C:\\Users\\ranju\\AppData\\Roaming\\Python\\Python311\\site-packages)\n",
      "\n",
      "[notice] A new release of pip is available: 24.2 -> 24.3.1\n",
      "[notice] To update, run: python.exe -m pip install --upgrade pip\n"
     ]
    },
    {
     "name": "stdout",
     "output_type": "stream",
     "text": [
      "Requirement already satisfied: pandas in c:\\users\\ranju\\appdata\\roaming\\python\\python311\\site-packages (2.0.1)\n",
      "Requirement already satisfied: python-dateutil>=2.8.2 in c:\\users\\ranju\\appdata\\roaming\\python\\python311\\site-packages (from pandas) (2.8.2)\n",
      "Requirement already satisfied: pytz>=2020.1 in c:\\users\\ranju\\appdata\\roaming\\python\\python311\\site-packages (from pandas) (2023.3)\n",
      "Requirement already satisfied: tzdata>=2022.1 in c:\\users\\ranju\\appdata\\roaming\\python\\python311\\site-packages (from pandas) (2023.3)\n",
      "Requirement already satisfied: numpy>=1.21.0 in c:\\users\\ranju\\appdata\\roaming\\python\\python311\\site-packages (from pandas) (1.26.4)\n",
      "Requirement already satisfied: six>=1.5 in c:\\users\\ranju\\appdata\\roaming\\python\\python311\\site-packages (from python-dateutil>=2.8.2->pandas) (1.16.0)\n"
     ]
    },
    {
     "name": "stderr",
     "output_type": "stream",
     "text": [
      "WARNING: Ignoring invalid distribution ~ensorflow-intel (C:\\Users\\ranju\\AppData\\Roaming\\Python\\Python311\\site-packages)\n",
      "WARNING: Ignoring invalid distribution ~ensorflow-intel (C:\\Users\\ranju\\AppData\\Roaming\\Python\\Python311\\site-packages)\n",
      "WARNING: Ignoring invalid distribution ~ensorflow-intel (C:\\Users\\ranju\\AppData\\Roaming\\Python\\Python311\\site-packages)\n",
      "\n",
      "[notice] A new release of pip is available: 24.2 -> 24.3.1\n",
      "[notice] To update, run: python.exe -m pip install --upgrade pip\n"
     ]
    }
   ],
   "source": [
    "!pip install randomuser\n",
    "!pip install pandas"
   ]
  },
  {
   "cell_type": "code",
   "execution_count": 56,
   "id": "f4f1c8f6",
   "metadata": {},
   "outputs": [],
   "source": [
    "from randomuser import RandomUser\n",
    "import pandas as pd"
   ]
  },
  {
   "cell_type": "code",
   "execution_count": 59,
   "id": "9a36fb8c",
   "metadata": {},
   "outputs": [
    {
     "data": {
      "text/plain": [
       "[<randomuser.RandomUser at 0x1561ee51790>,\n",
       " <randomuser.RandomUser at 0x1561ee53390>,\n",
       " <randomuser.RandomUser at 0x1561ee50310>,\n",
       " <randomuser.RandomUser at 0x1561ee50390>,\n",
       " <randomuser.RandomUser at 0x1561c1cb750>,\n",
       " <randomuser.RandomUser at 0x1561c1cbfd0>,\n",
       " <randomuser.RandomUser at 0x1561c1cbbd0>,\n",
       " <randomuser.RandomUser at 0x1561c1cb990>,\n",
       " <randomuser.RandomUser at 0x1561c1ca690>,\n",
       " <randomuser.RandomUser at 0x1561c1c85d0>]"
      ]
     },
     "execution_count": 59,
     "metadata": {},
     "output_type": "execute_result"
    }
   ],
   "source": [
    "r = RandomUser()\n",
    "list  = r.generate_users(10)\n",
    "list"
   ]
  },
  {
   "cell_type": "code",
   "execution_count": 2,
   "id": "d0c84eee",
   "metadata": {},
   "outputs": [],
   "source": []
  },
  {
   "cell_type": "code",
   "execution_count": null,
   "id": "1f514a80",
   "metadata": {},
   "outputs": [],
   "source": []
  }
 ],
 "metadata": {
  "kernelspec": {
   "display_name": "Python 3 (ipykernel)",
   "language": "python",
   "name": "python3"
  },
  "language_info": {
   "codemirror_mode": {
    "name": "ipython",
    "version": 3
   },
   "file_extension": ".py",
   "mimetype": "text/x-python",
   "name": "python",
   "nbconvert_exporter": "python",
   "pygments_lexer": "ipython3",
   "version": "3.11.4"
  }
 },
 "nbformat": 4,
 "nbformat_minor": 5
}
