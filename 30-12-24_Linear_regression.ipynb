{
 "cells": [
  {
   "cell_type": "code",
   "execution_count": 101,
   "id": "040b21ae",
   "metadata": {},
   "outputs": [],
   "source": [
    "from pyspark.sql import SparkSession\n",
    "from pyspark.sql.functions import *\n",
    "\n",
    "from pyspark.ml.linalg import Vectors\n",
    "from pyspark.ml.feature import VectorAssembler\n",
    "\n",
    "spark = SparkSession.builder.getOrCreate()"
   ]
  },
  {
   "cell_type": "code",
   "execution_count": 102,
   "id": "9852def3",
   "metadata": {},
   "outputs": [],
   "source": []
  },
  {
   "cell_type": "markdown",
   "id": "d7d2407b",
   "metadata": {},
   "source": [
    "### Vector Assembler"
   ]
  },
  {
   "cell_type": "code",
   "execution_count": 103,
   "id": "621e6bd8",
   "metadata": {},
   "outputs": [
    {
     "name": "stdout",
     "output_type": "stream",
     "text": [
      "+------------+-----------+------------+-----------+-------+\n",
      "|sepal_length|sepal_width|petal_length|petal_width|species|\n",
      "+------------+-----------+------------+-----------+-------+\n",
      "|         5.1|        3.5|         1.4|        0.2| setosa|\n",
      "|         4.9|        3.0|         1.4|        0.2| setosa|\n",
      "|         4.7|        3.2|         1.3|        0.2| setosa|\n",
      "|         4.6|        3.1|         1.5|        0.2| setosa|\n",
      "|         5.0|        3.6|         1.4|        0.2| setosa|\n",
      "|         5.4|        3.9|         1.7|        0.4| setosa|\n",
      "|         4.6|        3.4|         1.4|        0.3| setosa|\n",
      "|         5.0|        3.4|         1.5|        0.2| setosa|\n",
      "|         4.4|        2.9|         1.4|        0.2| setosa|\n",
      "|         4.9|        3.1|         1.5|        0.1| setosa|\n",
      "|         5.4|        3.7|         1.5|        0.2| setosa|\n",
      "|         4.8|        3.4|         1.6|        0.2| setosa|\n",
      "|         4.8|        3.0|         1.4|        0.1| setosa|\n",
      "|         4.3|        3.0|         1.1|        0.1| setosa|\n",
      "|         5.8|        4.0|         1.2|        0.2| setosa|\n",
      "|         5.7|        4.4|         1.5|        0.4| setosa|\n",
      "|         5.4|        3.9|         1.3|        0.4| setosa|\n",
      "|         5.1|        3.5|         1.4|        0.3| setosa|\n",
      "|         5.7|        3.8|         1.7|        0.3| setosa|\n",
      "|         5.1|        3.8|         1.5|        0.3| setosa|\n",
      "+------------+-----------+------------+-----------+-------+\n",
      "only showing top 20 rows\n",
      "\n"
     ]
    }
   ],
   "source": [
    "df = spark.read.csv(r\"C:\\Users\\ranju\\Downloads\\iris.csv\", inferSchema=True , header=True)\n",
    "df.show()"
   ]
  },
  {
   "cell_type": "code",
   "execution_count": 104,
   "id": "cfadb70a",
   "metadata": {},
   "outputs": [
    {
     "name": "stdout",
     "output_type": "stream",
     "text": [
      "root\n",
      " |-- sepal_length: double (nullable = true)\n",
      " |-- sepal_width: double (nullable = true)\n",
      " |-- petal_length: double (nullable = true)\n",
      " |-- petal_width: double (nullable = true)\n",
      " |-- species: string (nullable = true)\n",
      "\n"
     ]
    }
   ],
   "source": [
    "df.printSchema()"
   ]
  },
  {
   "cell_type": "code",
   "execution_count": 105,
   "id": "ceb9c314",
   "metadata": {},
   "outputs": [
    {
     "data": {
      "text/plain": [
       "['sepal_length', 'sepal_width', 'petal_length', 'petal_width', 'species']"
      ]
     },
     "execution_count": 105,
     "metadata": {},
     "output_type": "execute_result"
    }
   ],
   "source": [
    "df.columns"
   ]
  },
  {
   "cell_type": "code",
   "execution_count": 106,
   "id": "04ba7d1a",
   "metadata": {},
   "outputs": [],
   "source": [
    "assembler = VectorAssembler(inputCols= ['sepal_length', 'sepal_width', 'petal_length', 'petal_width'] ,\\\n",
    "                           outputCol='features')\n"
   ]
  },
  {
   "cell_type": "code",
   "execution_count": 107,
   "id": "d5b1d8df",
   "metadata": {},
   "outputs": [],
   "source": [
    "output_df = assembler.transform(df)"
   ]
  },
  {
   "cell_type": "code",
   "execution_count": 108,
   "id": "83f53ce5",
   "metadata": {},
   "outputs": [
    {
     "name": "stdout",
     "output_type": "stream",
     "text": [
      "+------------+-----------+------------+-----------+-------+-----------------+\n",
      "|sepal_length|sepal_width|petal_length|petal_width|species|         features|\n",
      "+------------+-----------+------------+-----------+-------+-----------------+\n",
      "|         5.1|        3.5|         1.4|        0.2| setosa|[5.1,3.5,1.4,0.2]|\n",
      "|         4.9|        3.0|         1.4|        0.2| setosa|[4.9,3.0,1.4,0.2]|\n",
      "|         4.7|        3.2|         1.3|        0.2| setosa|[4.7,3.2,1.3,0.2]|\n",
      "|         4.6|        3.1|         1.5|        0.2| setosa|[4.6,3.1,1.5,0.2]|\n",
      "|         5.0|        3.6|         1.4|        0.2| setosa|[5.0,3.6,1.4,0.2]|\n",
      "|         5.4|        3.9|         1.7|        0.4| setosa|[5.4,3.9,1.7,0.4]|\n",
      "|         4.6|        3.4|         1.4|        0.3| setosa|[4.6,3.4,1.4,0.3]|\n",
      "|         5.0|        3.4|         1.5|        0.2| setosa|[5.0,3.4,1.5,0.2]|\n",
      "|         4.4|        2.9|         1.4|        0.2| setosa|[4.4,2.9,1.4,0.2]|\n",
      "|         4.9|        3.1|         1.5|        0.1| setosa|[4.9,3.1,1.5,0.1]|\n",
      "|         5.4|        3.7|         1.5|        0.2| setosa|[5.4,3.7,1.5,0.2]|\n",
      "|         4.8|        3.4|         1.6|        0.2| setosa|[4.8,3.4,1.6,0.2]|\n",
      "|         4.8|        3.0|         1.4|        0.1| setosa|[4.8,3.0,1.4,0.1]|\n",
      "|         4.3|        3.0|         1.1|        0.1| setosa|[4.3,3.0,1.1,0.1]|\n",
      "|         5.8|        4.0|         1.2|        0.2| setosa|[5.8,4.0,1.2,0.2]|\n",
      "|         5.7|        4.4|         1.5|        0.4| setosa|[5.7,4.4,1.5,0.4]|\n",
      "|         5.4|        3.9|         1.3|        0.4| setosa|[5.4,3.9,1.3,0.4]|\n",
      "|         5.1|        3.5|         1.4|        0.3| setosa|[5.1,3.5,1.4,0.3]|\n",
      "|         5.7|        3.8|         1.7|        0.3| setosa|[5.7,3.8,1.7,0.3]|\n",
      "|         5.1|        3.8|         1.5|        0.3| setosa|[5.1,3.8,1.5,0.3]|\n",
      "+------------+-----------+------------+-----------+-------+-----------------+\n",
      "only showing top 20 rows\n",
      "\n"
     ]
    }
   ],
   "source": [
    "output_df.show()"
   ]
  },
  {
   "cell_type": "markdown",
   "id": "8fb0d8d4",
   "metadata": {},
   "source": [
    "### String indexer"
   ]
  },
  {
   "cell_type": "code",
   "execution_count": 109,
   "id": "6d98f8dd",
   "metadata": {},
   "outputs": [],
   "source": [
    "from pyspark.ml.feature import StringIndexer\n"
   ]
  },
  {
   "cell_type": "code",
   "execution_count": 110,
   "id": "fc35cb0d",
   "metadata": {},
   "outputs": [
    {
     "name": "stdout",
     "output_type": "stream",
     "text": [
      "+----------+\n",
      "|   species|\n",
      "+----------+\n",
      "| virginica|\n",
      "|versicolor|\n",
      "|    setosa|\n",
      "+----------+\n",
      "\n"
     ]
    }
   ],
   "source": [
    "df.select(col('species')).distinct().show()"
   ]
  },
  {
   "cell_type": "code",
   "execution_count": 111,
   "id": "388202cf",
   "metadata": {},
   "outputs": [],
   "source": [
    "indexer = StringIndexer(inputCol='species', outputCol='species_index')"
   ]
  },
  {
   "cell_type": "code",
   "execution_count": 112,
   "id": "37f8eabc",
   "metadata": {},
   "outputs": [
    {
     "name": "stdout",
     "output_type": "stream",
     "text": [
      "+------------+-----------+------------+-----------+----------+-------------+\n",
      "|sepal_length|sepal_width|petal_length|petal_width|   species|species_index|\n",
      "+------------+-----------+------------+-----------+----------+-------------+\n",
      "|         5.1|        3.5|         1.4|        0.2|    setosa|          0.0|\n",
      "|         4.9|        3.0|         1.4|        0.2|    setosa|          0.0|\n",
      "|         4.7|        3.2|         1.3|        0.2|    setosa|          0.0|\n",
      "|         4.6|        3.1|         1.5|        0.2|    setosa|          0.0|\n",
      "|         5.0|        3.6|         1.4|        0.2|    setosa|          0.0|\n",
      "|         5.4|        3.9|         1.7|        0.4|    setosa|          0.0|\n",
      "|         4.6|        3.4|         1.4|        0.3|    setosa|          0.0|\n",
      "|         5.0|        3.4|         1.5|        0.2|    setosa|          0.0|\n",
      "|         4.4|        2.9|         1.4|        0.2|    setosa|          0.0|\n",
      "|         4.9|        3.1|         1.5|        0.1|    setosa|          0.0|\n",
      "|         5.4|        3.7|         1.5|        0.2|    setosa|          0.0|\n",
      "|         4.8|        3.4|         1.6|        0.2|    setosa|          0.0|\n",
      "|         4.8|        3.0|         1.4|        0.1|    setosa|          0.0|\n",
      "|         4.3|        3.0|         1.1|        0.1|    setosa|          0.0|\n",
      "|         5.8|        4.0|         1.2|        0.2|    setosa|          0.0|\n",
      "|         5.7|        4.4|         1.5|        0.4|    setosa|          0.0|\n",
      "|         5.4|        3.9|         1.3|        0.4|    setosa|          0.0|\n",
      "|         5.1|        3.5|         1.4|        0.3|    setosa|          0.0|\n",
      "|         5.7|        3.8|         1.7|        0.3|    setosa|          0.0|\n",
      "|         5.1|        3.8|         1.5|        0.3|    setosa|          0.0|\n",
      "|         5.4|        3.4|         1.7|        0.2|    setosa|          0.0|\n",
      "|         5.1|        3.7|         1.5|        0.4|    setosa|          0.0|\n",
      "|         4.6|        3.6|         1.0|        0.2|    setosa|          0.0|\n",
      "|         5.1|        3.3|         1.7|        0.5|    setosa|          0.0|\n",
      "|         4.8|        3.4|         1.9|        0.2|    setosa|          0.0|\n",
      "|         5.0|        3.0|         1.6|        0.2|    setosa|          0.0|\n",
      "|         5.0|        3.4|         1.6|        0.4|    setosa|          0.0|\n",
      "|         5.2|        3.5|         1.5|        0.2|    setosa|          0.0|\n",
      "|         5.2|        3.4|         1.4|        0.2|    setosa|          0.0|\n",
      "|         4.7|        3.2|         1.6|        0.2|    setosa|          0.0|\n",
      "|         4.8|        3.1|         1.6|        0.2|    setosa|          0.0|\n",
      "|         5.4|        3.4|         1.5|        0.4|    setosa|          0.0|\n",
      "|         5.2|        4.1|         1.5|        0.1|    setosa|          0.0|\n",
      "|         5.5|        4.2|         1.4|        0.2|    setosa|          0.0|\n",
      "|         4.9|        3.1|         1.5|        0.2|    setosa|          0.0|\n",
      "|         5.0|        3.2|         1.2|        0.2|    setosa|          0.0|\n",
      "|         5.5|        3.5|         1.3|        0.2|    setosa|          0.0|\n",
      "|         4.9|        3.6|         1.4|        0.1|    setosa|          0.0|\n",
      "|         4.4|        3.0|         1.3|        0.2|    setosa|          0.0|\n",
      "|         5.1|        3.4|         1.5|        0.2|    setosa|          0.0|\n",
      "|         5.0|        3.5|         1.3|        0.3|    setosa|          0.0|\n",
      "|         4.5|        2.3|         1.3|        0.3|    setosa|          0.0|\n",
      "|         4.4|        3.2|         1.3|        0.2|    setosa|          0.0|\n",
      "|         5.0|        3.5|         1.6|        0.6|    setosa|          0.0|\n",
      "|         5.1|        3.8|         1.9|        0.4|    setosa|          0.0|\n",
      "|         4.8|        3.0|         1.4|        0.3|    setosa|          0.0|\n",
      "|         5.1|        3.8|         1.6|        0.2|    setosa|          0.0|\n",
      "|         4.6|        3.2|         1.4|        0.2|    setosa|          0.0|\n",
      "|         5.3|        3.7|         1.5|        0.2|    setosa|          0.0|\n",
      "|         5.0|        3.3|         1.4|        0.2|    setosa|          0.0|\n",
      "|         7.0|        3.2|         4.7|        1.4|versicolor|          1.0|\n",
      "|         6.4|        3.2|         4.5|        1.5|versicolor|          1.0|\n",
      "|         6.9|        3.1|         4.9|        1.5|versicolor|          1.0|\n",
      "|         5.5|        2.3|         4.0|        1.3|versicolor|          1.0|\n",
      "|         6.5|        2.8|         4.6|        1.5|versicolor|          1.0|\n",
      "|         5.7|        2.8|         4.5|        1.3|versicolor|          1.0|\n",
      "|         6.3|        3.3|         4.7|        1.6|versicolor|          1.0|\n",
      "|         4.9|        2.4|         3.3|        1.0|versicolor|          1.0|\n",
      "|         6.6|        2.9|         4.6|        1.3|versicolor|          1.0|\n",
      "|         5.2|        2.7|         3.9|        1.4|versicolor|          1.0|\n",
      "|         5.0|        2.0|         3.5|        1.0|versicolor|          1.0|\n",
      "|         5.9|        3.0|         4.2|        1.5|versicolor|          1.0|\n",
      "|         6.0|        2.2|         4.0|        1.0|versicolor|          1.0|\n",
      "|         6.1|        2.9|         4.7|        1.4|versicolor|          1.0|\n",
      "|         5.6|        2.9|         3.6|        1.3|versicolor|          1.0|\n",
      "|         6.7|        3.1|         4.4|        1.4|versicolor|          1.0|\n",
      "|         5.6|        3.0|         4.5|        1.5|versicolor|          1.0|\n",
      "+------------+-----------+------------+-----------+----------+-------------+\n",
      "only showing top 67 rows\n",
      "\n"
     ]
    }
   ],
   "source": [
    "indx = indexer.fit(df).transform(df)\n",
    "indx.show(67)"
   ]
  },
  {
   "cell_type": "markdown",
   "id": "971a6e2e",
   "metadata": {},
   "source": [
    "### One-Hot Encoding"
   ]
  },
  {
   "cell_type": "code",
   "execution_count": 113,
   "id": "43a3edb5",
   "metadata": {},
   "outputs": [],
   "source": [
    "from pyspark.ml.feature import OneHotEncoder"
   ]
  },
  {
   "cell_type": "code",
   "execution_count": 114,
   "id": "6d652c88",
   "metadata": {},
   "outputs": [
    {
     "name": "stdout",
     "output_type": "stream",
     "text": [
      "+------------+-----------+------------+-----------+-------+-------------+\n",
      "|sepal_length|sepal_width|petal_length|petal_width|species|species_index|\n",
      "+------------+-----------+------------+-----------+-------+-------------+\n",
      "|         5.1|        3.5|         1.4|        0.2| setosa|          0.0|\n",
      "|         4.9|        3.0|         1.4|        0.2| setosa|          0.0|\n",
      "|         4.7|        3.2|         1.3|        0.2| setosa|          0.0|\n",
      "|         4.6|        3.1|         1.5|        0.2| setosa|          0.0|\n",
      "|         5.0|        3.6|         1.4|        0.2| setosa|          0.0|\n",
      "|         5.4|        3.9|         1.7|        0.4| setosa|          0.0|\n",
      "|         4.6|        3.4|         1.4|        0.3| setosa|          0.0|\n",
      "|         5.0|        3.4|         1.5|        0.2| setosa|          0.0|\n",
      "|         4.4|        2.9|         1.4|        0.2| setosa|          0.0|\n",
      "|         4.9|        3.1|         1.5|        0.1| setosa|          0.0|\n",
      "|         5.4|        3.7|         1.5|        0.2| setosa|          0.0|\n",
      "|         4.8|        3.4|         1.6|        0.2| setosa|          0.0|\n",
      "|         4.8|        3.0|         1.4|        0.1| setosa|          0.0|\n",
      "|         4.3|        3.0|         1.1|        0.1| setosa|          0.0|\n",
      "|         5.8|        4.0|         1.2|        0.2| setosa|          0.0|\n",
      "|         5.7|        4.4|         1.5|        0.4| setosa|          0.0|\n",
      "|         5.4|        3.9|         1.3|        0.4| setosa|          0.0|\n",
      "|         5.1|        3.5|         1.4|        0.3| setosa|          0.0|\n",
      "|         5.7|        3.8|         1.7|        0.3| setosa|          0.0|\n",
      "|         5.1|        3.8|         1.5|        0.3| setosa|          0.0|\n",
      "+------------+-----------+------------+-----------+-------+-------------+\n",
      "only showing top 20 rows\n",
      "\n"
     ]
    }
   ],
   "source": [
    "indx.show()"
   ]
  },
  {
   "cell_type": "code",
   "execution_count": 115,
   "id": "afafcc1b",
   "metadata": {},
   "outputs": [
    {
     "name": "stdout",
     "output_type": "stream",
     "text": [
      "+------------+-----------+------------+-----------+----------+-------------+\n",
      "|sepal_length|sepal_width|petal_length|petal_width|   species|species_index|\n",
      "+------------+-----------+------------+-----------+----------+-------------+\n",
      "|         5.4|        3.7|         1.5|        0.2|    setosa|          0.0|\n",
      "|         6.3|        2.5|         4.9|        1.5|versicolor|          1.0|\n",
      "|         5.1|        3.5|         1.4|        0.3|    setosa|          0.0|\n",
      "|         6.7|        3.1|         4.4|        1.4|versicolor|          1.0|\n",
      "|         5.1|        3.5|         1.4|        0.2|    setosa|          0.0|\n",
      "|         5.7|        4.4|         1.5|        0.4|    setosa|          0.0|\n",
      "|         5.4|        3.9|         1.3|        0.4|    setosa|          0.0|\n",
      "|         5.0|        3.6|         1.4|        0.2|    setosa|          0.0|\n",
      "|         5.2|        3.5|         1.5|        0.2|    setosa|          0.0|\n",
      "|         5.5|        2.6|         4.4|        1.2|versicolor|          1.0|\n",
      "|         6.7|        3.1|         5.6|        2.4| virginica|          2.0|\n",
      "|         4.6|        3.1|         1.5|        0.2|    setosa|          0.0|\n",
      "|         6.4|        2.8|         5.6|        2.2| virginica|          2.0|\n",
      "|         5.7|        3.0|         4.2|        1.2|versicolor|          1.0|\n",
      "|         6.9|        3.1|         5.1|        2.3| virginica|          2.0|\n",
      "|         5.2|        4.1|         1.5|        0.1|    setosa|          0.0|\n",
      "|         6.3|        3.3|         4.7|        1.6|versicolor|          1.0|\n",
      "|         4.6|        3.2|         1.4|        0.2|    setosa|          0.0|\n",
      "|         4.9|        3.0|         1.4|        0.2|    setosa|          0.0|\n",
      "|         5.6|        3.0|         4.5|        1.5|versicolor|          1.0|\n",
      "+------------+-----------+------------+-----------+----------+-------------+\n",
      "only showing top 20 rows\n",
      "\n"
     ]
    }
   ],
   "source": [
    "indx.distinct().show()"
   ]
  },
  {
   "cell_type": "code",
   "execution_count": 116,
   "id": "8cc64073",
   "metadata": {},
   "outputs": [],
   "source": [
    "encoder = OneHotEncoder(inputCol='species_index',outputCol='species_index_onehot')\n",
    "models = encoder.fit(indx)\n",
    "encoded = models.transform(indx)"
   ]
  },
  {
   "cell_type": "code",
   "execution_count": 117,
   "id": "05c45bcd",
   "metadata": {},
   "outputs": [
    {
     "name": "stdout",
     "output_type": "stream",
     "text": [
      "+------------+-----------+------------+-----------+-------+-------------+--------------------+\n",
      "|sepal_length|sepal_width|petal_length|petal_width|species|species_index|species_index_onehot|\n",
      "+------------+-----------+------------+-----------+-------+-------------+--------------------+\n",
      "|         5.1|        3.5|         1.4|        0.2| setosa|          0.0|       (2,[0],[1.0])|\n",
      "|         4.9|        3.0|         1.4|        0.2| setosa|          0.0|       (2,[0],[1.0])|\n",
      "|         4.7|        3.2|         1.3|        0.2| setosa|          0.0|       (2,[0],[1.0])|\n",
      "|         4.6|        3.1|         1.5|        0.2| setosa|          0.0|       (2,[0],[1.0])|\n",
      "|         5.0|        3.6|         1.4|        0.2| setosa|          0.0|       (2,[0],[1.0])|\n",
      "|         5.4|        3.9|         1.7|        0.4| setosa|          0.0|       (2,[0],[1.0])|\n",
      "|         4.6|        3.4|         1.4|        0.3| setosa|          0.0|       (2,[0],[1.0])|\n",
      "|         5.0|        3.4|         1.5|        0.2| setosa|          0.0|       (2,[0],[1.0])|\n",
      "|         4.4|        2.9|         1.4|        0.2| setosa|          0.0|       (2,[0],[1.0])|\n",
      "|         4.9|        3.1|         1.5|        0.1| setosa|          0.0|       (2,[0],[1.0])|\n",
      "|         5.4|        3.7|         1.5|        0.2| setosa|          0.0|       (2,[0],[1.0])|\n",
      "|         4.8|        3.4|         1.6|        0.2| setosa|          0.0|       (2,[0],[1.0])|\n",
      "|         4.8|        3.0|         1.4|        0.1| setosa|          0.0|       (2,[0],[1.0])|\n",
      "|         4.3|        3.0|         1.1|        0.1| setosa|          0.0|       (2,[0],[1.0])|\n",
      "|         5.8|        4.0|         1.2|        0.2| setosa|          0.0|       (2,[0],[1.0])|\n",
      "|         5.7|        4.4|         1.5|        0.4| setosa|          0.0|       (2,[0],[1.0])|\n",
      "|         5.4|        3.9|         1.3|        0.4| setosa|          0.0|       (2,[0],[1.0])|\n",
      "|         5.1|        3.5|         1.4|        0.3| setosa|          0.0|       (2,[0],[1.0])|\n",
      "|         5.7|        3.8|         1.7|        0.3| setosa|          0.0|       (2,[0],[1.0])|\n",
      "|         5.1|        3.8|         1.5|        0.3| setosa|          0.0|       (2,[0],[1.0])|\n",
      "+------------+-----------+------------+-----------+-------+-------------+--------------------+\n",
      "only showing top 20 rows\n",
      "\n"
     ]
    }
   ],
   "source": [
    "encoded.show()"
   ]
  },
  {
   "cell_type": "markdown",
   "id": "84bfa774",
   "metadata": {},
   "source": [
    "### LINEAR Regression"
   ]
  },
  {
   "cell_type": "code",
   "execution_count": 118,
   "id": "eb0928d7",
   "metadata": {},
   "outputs": [],
   "source": [
    "from pyspark.ml.stat import Correlation\n",
    "import pyspark.sql.functions as F"
   ]
  },
  {
   "cell_type": "code",
   "execution_count": 119,
   "id": "d1a7a454",
   "metadata": {},
   "outputs": [
    {
     "name": "stdout",
     "output_type": "stream",
     "text": [
      "+---+------+------+--------+------+---------+-----------+\n",
      "|age|gender|   bmi|children|smoker|   region|    charges|\n",
      "+---+------+------+--------+------+---------+-----------+\n",
      "| 19|female|  27.9|       0|   yes|southwest|  16884.924|\n",
      "| 18|  male| 33.77|       1|    no|southeast|  1725.5523|\n",
      "| 28|  male|  33.0|       3|    no|southeast|   4449.462|\n",
      "| 33|  male|22.705|       0|    no|northwest|21984.47061|\n",
      "| 32|  male| 28.88|       0|    no|northwest|  3866.8552|\n",
      "| 31|female| 25.74|       0|    no|southeast|  3756.6216|\n",
      "| 46|female| 33.44|       1|    no|southeast|  8240.5896|\n",
      "| 37|female| 27.74|       3|    no|northwest|  7281.5056|\n",
      "| 37|  male| 29.83|       2|    no|northeast|  6406.4107|\n",
      "| 60|female| 25.84|       0|    no|northwest|28923.13692|\n",
      "| 25|  male| 26.22|       0|    no|northeast|  2721.3208|\n",
      "| 62|female| 26.29|       0|   yes|southeast| 27808.7251|\n",
      "| 23|  male|  34.4|       0|    no|southwest|   1826.843|\n",
      "| 56|female| 39.82|       0|    no|southeast| 11090.7178|\n",
      "| 27|  male| 42.13|       0|   yes|southeast| 39611.7577|\n",
      "| 19|  male|  24.6|       1|    no|southwest|   1837.237|\n",
      "| 52|female| 30.78|       1|    no|northeast| 10797.3362|\n",
      "| 23|  male|23.845|       0|    no|northeast| 2395.17155|\n",
      "| 56|  male|  40.3|       0|    no|southwest|  10602.385|\n",
      "| 30|  male|  35.3|       0|   yes|southwest|  36837.467|\n",
      "+---+------+------+--------+------+---------+-----------+\n",
      "only showing top 20 rows\n",
      "\n"
     ]
    }
   ],
   "source": [
    "df = spark.read.csv(r\"C:\\Users\\ranju\\Downloads\\insurance.csv\", inferSchema=True, header=True)\n",
    "df .show()"
   ]
  },
  {
   "cell_type": "code",
   "execution_count": 120,
   "id": "c06d2f1c",
   "metadata": {},
   "outputs": [
    {
     "data": {
      "text/plain": [
       "1338"
      ]
     },
     "execution_count": 120,
     "metadata": {},
     "output_type": "execute_result"
    }
   ],
   "source": [
    "df.count()"
   ]
  },
  {
   "cell_type": "code",
   "execution_count": 121,
   "id": "72501d5e",
   "metadata": {},
   "outputs": [
    {
     "data": {
      "text/plain": [
       "7"
      ]
     },
     "execution_count": 121,
     "metadata": {},
     "output_type": "execute_result"
    }
   ],
   "source": [
    "df.columns\n",
    "len(df.columns)"
   ]
  },
  {
   "cell_type": "code",
   "execution_count": 122,
   "id": "e795a020",
   "metadata": {},
   "outputs": [
    {
     "name": "stdout",
     "output_type": "stream",
     "text": [
      "root\n",
      " |-- age: integer (nullable = true)\n",
      " |-- gender: string (nullable = true)\n",
      " |-- bmi: double (nullable = true)\n",
      " |-- children: integer (nullable = true)\n",
      " |-- smoker: string (nullable = true)\n",
      " |-- region: string (nullable = true)\n",
      " |-- charges: double (nullable = true)\n",
      "\n"
     ]
    }
   ],
   "source": [
    "df.printSchema()"
   ]
  },
  {
   "cell_type": "code",
   "execution_count": 123,
   "id": "9b0151fb",
   "metadata": {},
   "outputs": [
    {
     "name": "stdout",
     "output_type": "stream",
     "text": [
      "+-------+------------------+------+------------------+-----------------+------+---------+------------------+\n",
      "|summary|               age|gender|               bmi|         children|smoker|   region|           charges|\n",
      "+-------+------------------+------+------------------+-----------------+------+---------+------------------+\n",
      "|  count|              1338|  1338|              1338|             1338|  1338|     1338|              1338|\n",
      "|   mean| 39.20702541106129|  NULL|30.663396860986538|  1.0949177877429|  NULL|     NULL|13270.422265141257|\n",
      "| stddev|14.049960379216147|  NULL| 6.098186911679012|1.205492739781914|  NULL|     NULL|12110.011236693992|\n",
      "|    min|                18|female|             15.96|                0|    no|northeast|         1121.8739|\n",
      "|    max|                64|  male|             53.13|                5|   yes|southwest|       63770.42801|\n",
      "+-------+------------------+------+------------------+-----------------+------+---------+------------------+\n",
      "\n"
     ]
    }
   ],
   "source": [
    "df.describe().show()"
   ]
  },
  {
   "cell_type": "code",
   "execution_count": 124,
   "id": "c22d1ce6",
   "metadata": {},
   "outputs": [
    {
     "data": {
      "text/plain": [
       "[Row(age=19, gender='female', bmi=27.9, children=0, smoker='yes', region='southwest', charges=16884.924),\n",
       " Row(age=18, gender='male', bmi=33.77, children=1, smoker='no', region='southeast', charges=1725.5523),\n",
       " Row(age=28, gender='male', bmi=33.0, children=3, smoker='no', region='southeast', charges=4449.462),\n",
       " Row(age=33, gender='male', bmi=22.705, children=0, smoker='no', region='northwest', charges=21984.47061),\n",
       " Row(age=32, gender='male', bmi=28.88, children=0, smoker='no', region='northwest', charges=3866.8552)]"
      ]
     },
     "execution_count": 124,
     "metadata": {},
     "output_type": "execute_result"
    }
   ],
   "source": [
    "df.head(5)"
   ]
  },
  {
   "cell_type": "code",
   "execution_count": 125,
   "id": "7e886566",
   "metadata": {},
   "outputs": [
    {
     "data": {
      "text/plain": [
       "0.299008193330648"
      ]
     },
     "execution_count": 125,
     "metadata": {},
     "output_type": "execute_result"
    }
   ],
   "source": [
    "df.corr(\"age\",\"charges\")"
   ]
  },
  {
   "cell_type": "code",
   "execution_count": 126,
   "id": "e4293d1d",
   "metadata": {},
   "outputs": [
    {
     "data": {
      "text/plain": [
       "0.19834096883362903"
      ]
     },
     "execution_count": 126,
     "metadata": {},
     "output_type": "execute_result"
    }
   ],
   "source": [
    "df.corr(\"bmi\",\"charges\")"
   ]
  },
  {
   "cell_type": "code",
   "execution_count": 127,
   "id": "ed8a04c4",
   "metadata": {},
   "outputs": [
    {
     "name": "stdout",
     "output_type": "stream",
     "text": [
      "root\n",
      " |-- age: integer (nullable = true)\n",
      " |-- gender: string (nullable = true)\n",
      " |-- bmi: double (nullable = true)\n",
      " |-- children: integer (nullable = true)\n",
      " |-- smoker: string (nullable = true)\n",
      " |-- region: string (nullable = true)\n",
      " |-- charges: double (nullable = true)\n",
      "\n"
     ]
    }
   ],
   "source": [
    "df.printSchema()"
   ]
  },
  {
   "cell_type": "code",
   "execution_count": 128,
   "id": "47e1a448",
   "metadata": {},
   "outputs": [],
   "source": [
    "# convert the string into numeric using StringIndexer\n",
    "\n",
    "indexer =  StringIndexer(inputCol='gender', outputCol='gender_ind')\n",
    "indexed = indexer.fit(df).transform(df)\n"
   ]
  },
  {
   "cell_type": "code",
   "execution_count": null,
   "id": "7743f634",
   "metadata": {},
   "outputs": [],
   "source": []
  },
  {
   "cell_type": "code",
   "execution_count": 129,
   "id": "01c4c1bf",
   "metadata": {},
   "outputs": [
    {
     "name": "stdout",
     "output_type": "stream",
     "text": [
      "+---+------+------+--------+------+---------+-----------+----------+\n",
      "|age|gender|   bmi|children|smoker|   region|    charges|gender_ind|\n",
      "+---+------+------+--------+------+---------+-----------+----------+\n",
      "| 19|female|  27.9|       0|   yes|southwest|  16884.924|       1.0|\n",
      "| 18|  male| 33.77|       1|    no|southeast|  1725.5523|       0.0|\n",
      "| 28|  male|  33.0|       3|    no|southeast|   4449.462|       0.0|\n",
      "| 33|  male|22.705|       0|    no|northwest|21984.47061|       0.0|\n",
      "| 32|  male| 28.88|       0|    no|northwest|  3866.8552|       0.0|\n",
      "| 31|female| 25.74|       0|    no|southeast|  3756.6216|       1.0|\n",
      "| 46|female| 33.44|       1|    no|southeast|  8240.5896|       1.0|\n",
      "| 37|female| 27.74|       3|    no|northwest|  7281.5056|       1.0|\n",
      "| 37|  male| 29.83|       2|    no|northeast|  6406.4107|       0.0|\n",
      "| 60|female| 25.84|       0|    no|northwest|28923.13692|       1.0|\n",
      "+---+------+------+--------+------+---------+-----------+----------+\n",
      "only showing top 10 rows\n",
      "\n"
     ]
    }
   ],
   "source": [
    "indexed.show(10) #convert into categorical"
   ]
  },
  {
   "cell_type": "code",
   "execution_count": 130,
   "id": "7ed2d3e1",
   "metadata": {},
   "outputs": [],
   "source": [
    "# convert the string into numeric using StringIndexer\n",
    "\n",
    "indexer =  StringIndexer(inputCol='smoker', outputCol='smoker_ind')\n",
    "indexed = indexer.fit(indexed).transform(indexed)\n"
   ]
  },
  {
   "cell_type": "code",
   "execution_count": 131,
   "id": "6a9533ab",
   "metadata": {},
   "outputs": [],
   "source": [
    "\n",
    "indexer =  StringIndexer(inputCol='region', outputCol='region_ind')\n",
    "indexed = indexer.fit(indexed).transform(indexed)\n"
   ]
  },
  {
   "cell_type": "code",
   "execution_count": 132,
   "id": "640d51a8",
   "metadata": {},
   "outputs": [
    {
     "name": "stdout",
     "output_type": "stream",
     "text": [
      "+---+------+------+--------+------+---------+-----------+----------+----------+----------+\n",
      "|age|gender|bmi   |children|smoker|region   |charges    |gender_ind|smoker_ind|region_ind|\n",
      "+---+------+------+--------+------+---------+-----------+----------+----------+----------+\n",
      "|19 |female|27.9  |0       |yes   |southwest|16884.924  |1.0       |1.0       |2.0       |\n",
      "|18 |male  |33.77 |1       |no    |southeast|1725.5523  |0.0       |0.0       |0.0       |\n",
      "|28 |male  |33.0  |3       |no    |southeast|4449.462   |0.0       |0.0       |0.0       |\n",
      "|33 |male  |22.705|0       |no    |northwest|21984.47061|0.0       |0.0       |1.0       |\n",
      "|32 |male  |28.88 |0       |no    |northwest|3866.8552  |0.0       |0.0       |1.0       |\n",
      "|31 |female|25.74 |0       |no    |southeast|3756.6216  |1.0       |0.0       |0.0       |\n",
      "|46 |female|33.44 |1       |no    |southeast|8240.5896  |1.0       |0.0       |0.0       |\n",
      "|37 |female|27.74 |3       |no    |northwest|7281.5056  |1.0       |0.0       |1.0       |\n",
      "|37 |male  |29.83 |2       |no    |northeast|6406.4107  |0.0       |0.0       |3.0       |\n",
      "|60 |female|25.84 |0       |no    |northwest|28923.13692|1.0       |0.0       |1.0       |\n",
      "|25 |male  |26.22 |0       |no    |northeast|2721.3208  |0.0       |0.0       |3.0       |\n",
      "|62 |female|26.29 |0       |yes   |southeast|27808.7251 |1.0       |1.0       |0.0       |\n",
      "|23 |male  |34.4  |0       |no    |southwest|1826.843   |0.0       |0.0       |2.0       |\n",
      "|56 |female|39.82 |0       |no    |southeast|11090.7178 |1.0       |0.0       |0.0       |\n",
      "|27 |male  |42.13 |0       |yes   |southeast|39611.7577 |0.0       |1.0       |0.0       |\n",
      "|19 |male  |24.6  |1       |no    |southwest|1837.237   |0.0       |0.0       |2.0       |\n",
      "|52 |female|30.78 |1       |no    |northeast|10797.3362 |1.0       |0.0       |3.0       |\n",
      "|23 |male  |23.845|0       |no    |northeast|2395.17155 |0.0       |0.0       |3.0       |\n",
      "|56 |male  |40.3  |0       |no    |southwest|10602.385  |0.0       |0.0       |2.0       |\n",
      "|30 |male  |35.3  |0       |yes   |southwest|36837.467  |0.0       |1.0       |2.0       |\n",
      "+---+------+------+--------+------+---------+-----------+----------+----------+----------+\n",
      "only showing top 20 rows\n",
      "\n"
     ]
    }
   ],
   "source": [
    "indexed.show(truncate=False)"
   ]
  },
  {
   "cell_type": "code",
   "execution_count": 133,
   "id": "fe6bef98",
   "metadata": {},
   "outputs": [],
   "source": [
    "from pyspark.ml.linalg import Vector\n",
    "from pyspark.ml.feature import VectorAssembler\n"
   ]
  },
  {
   "cell_type": "code",
   "execution_count": 134,
   "id": "60d75622",
   "metadata": {},
   "outputs": [
    {
     "data": {
      "text/plain": [
       "['age',\n",
       " 'gender',\n",
       " 'bmi',\n",
       " 'children',\n",
       " 'smoker',\n",
       " 'region',\n",
       " 'charges',\n",
       " 'gender_ind',\n",
       " 'smoker_ind',\n",
       " 'region_ind']"
      ]
     },
     "execution_count": 134,
     "metadata": {},
     "output_type": "execute_result"
    }
   ],
   "source": [
    "indexed.columns"
   ]
  },
  {
   "cell_type": "code",
   "execution_count": 135,
   "id": "82282b2b",
   "metadata": {},
   "outputs": [],
   "source": [
    "assembler = VectorAssembler(inputCols=['age','bmi','children','gender_ind',\n",
    " 'smoker_ind','region_ind'], outputCol='features')"
   ]
  },
  {
   "cell_type": "code",
   "execution_count": 136,
   "id": "ba33e98e",
   "metadata": {},
   "outputs": [],
   "source": [
    "output = assembler.transform(indexed)"
   ]
  },
  {
   "cell_type": "code",
   "execution_count": 137,
   "id": "c6aabd72",
   "metadata": {},
   "outputs": [
    {
     "name": "stdout",
     "output_type": "stream",
     "text": [
      "+---+------+------+--------+------+---------+-----------+----------+----------+----------+-----------------------------+\n",
      "|age|gender|bmi   |children|smoker|region   |charges    |gender_ind|smoker_ind|region_ind|features                     |\n",
      "+---+------+------+--------+------+---------+-----------+----------+----------+----------+-----------------------------+\n",
      "|19 |female|27.9  |0       |yes   |southwest|16884.924  |1.0       |1.0       |2.0       |[19.0,27.9,0.0,1.0,1.0,2.0]  |\n",
      "|18 |male  |33.77 |1       |no    |southeast|1725.5523  |0.0       |0.0       |0.0       |[18.0,33.77,1.0,0.0,0.0,0.0] |\n",
      "|28 |male  |33.0  |3       |no    |southeast|4449.462   |0.0       |0.0       |0.0       |[28.0,33.0,3.0,0.0,0.0,0.0]  |\n",
      "|33 |male  |22.705|0       |no    |northwest|21984.47061|0.0       |0.0       |1.0       |[33.0,22.705,0.0,0.0,0.0,1.0]|\n",
      "|32 |male  |28.88 |0       |no    |northwest|3866.8552  |0.0       |0.0       |1.0       |[32.0,28.88,0.0,0.0,0.0,1.0] |\n",
      "|31 |female|25.74 |0       |no    |southeast|3756.6216  |1.0       |0.0       |0.0       |[31.0,25.74,0.0,1.0,0.0,0.0] |\n",
      "|46 |female|33.44 |1       |no    |southeast|8240.5896  |1.0       |0.0       |0.0       |[46.0,33.44,1.0,1.0,0.0,0.0] |\n",
      "|37 |female|27.74 |3       |no    |northwest|7281.5056  |1.0       |0.0       |1.0       |[37.0,27.74,3.0,1.0,0.0,1.0] |\n",
      "|37 |male  |29.83 |2       |no    |northeast|6406.4107  |0.0       |0.0       |3.0       |[37.0,29.83,2.0,0.0,0.0,3.0] |\n",
      "|60 |female|25.84 |0       |no    |northwest|28923.13692|1.0       |0.0       |1.0       |[60.0,25.84,0.0,1.0,0.0,1.0] |\n",
      "|25 |male  |26.22 |0       |no    |northeast|2721.3208  |0.0       |0.0       |3.0       |[25.0,26.22,0.0,0.0,0.0,3.0] |\n",
      "|62 |female|26.29 |0       |yes   |southeast|27808.7251 |1.0       |1.0       |0.0       |[62.0,26.29,0.0,1.0,1.0,0.0] |\n",
      "|23 |male  |34.4  |0       |no    |southwest|1826.843   |0.0       |0.0       |2.0       |[23.0,34.4,0.0,0.0,0.0,2.0]  |\n",
      "|56 |female|39.82 |0       |no    |southeast|11090.7178 |1.0       |0.0       |0.0       |[56.0,39.82,0.0,1.0,0.0,0.0] |\n",
      "|27 |male  |42.13 |0       |yes   |southeast|39611.7577 |0.0       |1.0       |0.0       |[27.0,42.13,0.0,0.0,1.0,0.0] |\n",
      "|19 |male  |24.6  |1       |no    |southwest|1837.237   |0.0       |0.0       |2.0       |[19.0,24.6,1.0,0.0,0.0,2.0]  |\n",
      "|52 |female|30.78 |1       |no    |northeast|10797.3362 |1.0       |0.0       |3.0       |[52.0,30.78,1.0,1.0,0.0,3.0] |\n",
      "|23 |male  |23.845|0       |no    |northeast|2395.17155 |0.0       |0.0       |3.0       |[23.0,23.845,0.0,0.0,0.0,3.0]|\n",
      "|56 |male  |40.3  |0       |no    |southwest|10602.385  |0.0       |0.0       |2.0       |[56.0,40.3,0.0,0.0,0.0,2.0]  |\n",
      "|30 |male  |35.3  |0       |yes   |southwest|36837.467  |0.0       |1.0       |2.0       |[30.0,35.3,0.0,0.0,1.0,2.0]  |\n",
      "+---+------+------+--------+------+---------+-----------+----------+----------+----------+-----------------------------+\n",
      "only showing top 20 rows\n",
      "\n"
     ]
    }
   ],
   "source": [
    "output.show(truncate=False)"
   ]
  },
  {
   "cell_type": "code",
   "execution_count": 138,
   "id": "1b86abf1",
   "metadata": {},
   "outputs": [
    {
     "name": "stdout",
     "output_type": "stream",
     "text": [
      "+--------------------+-----------+\n",
      "|            features|    Charges|\n",
      "+--------------------+-----------+\n",
      "|[19.0,27.9,0.0,1....|  16884.924|\n",
      "|[18.0,33.77,1.0,0...|  1725.5523|\n",
      "|[28.0,33.0,3.0,0....|   4449.462|\n",
      "|[33.0,22.705,0.0,...|21984.47061|\n",
      "|[32.0,28.88,0.0,0...|  3866.8552|\n",
      "|[31.0,25.74,0.0,1...|  3756.6216|\n",
      "|[46.0,33.44,1.0,1...|  8240.5896|\n",
      "|[37.0,27.74,3.0,1...|  7281.5056|\n",
      "|[37.0,29.83,2.0,0...|  6406.4107|\n",
      "|[60.0,25.84,0.0,1...|28923.13692|\n",
      "|[25.0,26.22,0.0,0...|  2721.3208|\n",
      "|[62.0,26.29,0.0,1...| 27808.7251|\n",
      "|[23.0,34.4,0.0,0....|   1826.843|\n",
      "|[56.0,39.82,0.0,1...| 11090.7178|\n",
      "|[27.0,42.13,0.0,0...| 39611.7577|\n",
      "|[19.0,24.6,1.0,0....|   1837.237|\n",
      "|[52.0,30.78,1.0,1...| 10797.3362|\n",
      "|[23.0,23.845,0.0,...| 2395.17155|\n",
      "|[56.0,40.3,0.0,0....|  10602.385|\n",
      "|[30.0,35.3,0.0,0....|  36837.467|\n",
      "+--------------------+-----------+\n",
      "only showing top 20 rows\n",
      "\n"
     ]
    }
   ],
   "source": [
    "final = output.select('features','Charges')\n",
    "final.show()"
   ]
  },
  {
   "cell_type": "code",
   "execution_count": 139,
   "id": "3ba9f422",
   "metadata": {},
   "outputs": [],
   "source": [
    "train ,test = final.randomSplit([0.7,0.3])"
   ]
  },
  {
   "cell_type": "code",
   "execution_count": 140,
   "id": "79fa6e53",
   "metadata": {},
   "outputs": [
    {
     "name": "stdout",
     "output_type": "stream",
     "text": [
      "+--------------------+-----------+\n",
      "|            features|    Charges|\n",
      "+--------------------+-----------+\n",
      "|(6,[0,1],[18.0,33...|  1136.3994|\n",
      "|(6,[0,1],[18.0,34...|  1137.4697|\n",
      "|(6,[0,1],[18.0,37...|  1141.4451|\n",
      "|(6,[0,1],[18.0,41...|  1146.7966|\n",
      "|(6,[0,1],[18.0,53...|  1163.4627|\n",
      "|(6,[0,1],[21.0,23...|  1515.3449|\n",
      "|(6,[0,1],[21.0,31...|16586.49771|\n",
      "|(6,[0,1],[21.0,36...|  1534.3045|\n",
      "|(6,[0,1],[22.0,26...|  1664.9996|\n",
      "|(6,[0,1],[22.0,33...|  1674.6323|\n",
      "|(6,[0,1],[23.0,26...|  1815.8759|\n",
      "|(6,[0,1],[23.0,41...|  1837.2819|\n",
      "|(6,[0,1],[24.0,32...|  1981.5819|\n",
      "|(6,[0,1],[25.0,25...|  2137.6536|\n",
      "|(6,[0,1],[26.0,35...|  2322.6218|\n",
      "|(6,[0,1],[27.0,32...|  2497.0383|\n",
      "|(6,[0,1],[27.0,33...|  2498.4144|\n",
      "|(6,[0,1],[29.0,27...|  2867.1196|\n",
      "|(6,[0,1],[36.0,29...|   4399.731|\n",
      "|(6,[0,1],[37.0,36...|19214.70553|\n",
      "+--------------------+-----------+\n",
      "only showing top 20 rows\n",
      "\n"
     ]
    }
   ],
   "source": [
    "train.show()"
   ]
  },
  {
   "cell_type": "code",
   "execution_count": 141,
   "id": "fb446d23",
   "metadata": {},
   "outputs": [
    {
     "name": "stdout",
     "output_type": "stream",
     "text": [
      "+--------------------+-----------+\n",
      "|            features|    Charges|\n",
      "+--------------------+-----------+\n",
      "|(6,[0,1],[18.0,23...|  1121.8739|\n",
      "|(6,[0,1],[18.0,30...|  1131.5066|\n",
      "|(6,[0,1],[18.0,33...|  1135.9407|\n",
      "|(6,[0,1],[18.0,34...|   1137.011|\n",
      "|(6,[0,1],[18.0,43...|  1149.3959|\n",
      "|(6,[0,1],[20.0,33...|  1391.5287|\n",
      "|(6,[0,1],[21.0,35...|  1532.4697|\n",
      "|(6,[0,1],[23.0,32...|  1824.2854|\n",
      "|(6,[0,1],[24.0,35...|  1986.9334|\n",
      "|(6,[0,1],[27.0,23...|   2483.736|\n",
      "|(6,[0,1],[28.0,38...|  2689.4954|\n",
      "|(6,[0,1],[33.0,30...|  3704.3545|\n",
      "|(6,[0,1],[34.0,34...|  3935.1799|\n",
      "|(6,[0,1],[41.0,33...|  5699.8375|\n",
      "|(6,[0,1],[48.0,40...|  7804.1605|\n",
      "|(6,[0,1],[52.0,34...|   9140.951|\n",
      "|(6,[0,1],[53.0,29...|  9487.6442|\n",
      "|(6,[0,1],[53.0,31...|27346.04207|\n",
      "|(6,[0,1],[58.0,49...| 11381.3254|\n",
      "|(6,[0,1],[59.0,26...|  11743.299|\n",
      "+--------------------+-----------+\n",
      "only showing top 20 rows\n",
      "\n"
     ]
    }
   ],
   "source": [
    "test.show()"
   ]
  },
  {
   "cell_type": "code",
   "execution_count": 142,
   "id": "6c71cdbe",
   "metadata": {},
   "outputs": [],
   "source": [
    "from pyspark.ml.regression import LinearRegression"
   ]
  },
  {
   "cell_type": "code",
   "execution_count": 143,
   "id": "ee90ed23",
   "metadata": {},
   "outputs": [],
   "source": [
    "lr = LinearRegression(featuresCol='features',labelCol='Charges')"
   ]
  },
  {
   "cell_type": "code",
   "execution_count": 144,
   "id": "f0cbebe0",
   "metadata": {},
   "outputs": [],
   "source": [
    "train_model = lr.fit(train)\n"
   ]
  },
  {
   "cell_type": "code",
   "execution_count": 145,
   "id": "c73baa8a",
   "metadata": {},
   "outputs": [
    {
     "name": "stdout",
     "output_type": "stream",
     "text": [
      "0.7333159902146604\n"
     ]
    }
   ],
   "source": [
    "rslt = train_model.evaluate(train)  #evaluate\n",
    "\n",
    "print(rslt.r2)"
   ]
  },
  {
   "cell_type": "code",
   "execution_count": 146,
   "id": "7e91cdc7",
   "metadata": {},
   "outputs": [
    {
     "name": "stdout",
     "output_type": "stream",
     "text": [
      "38907295.69582776\n"
     ]
    }
   ],
   "source": [
    "print(rslt.meanSquaredError)"
   ]
  },
  {
   "cell_type": "code",
   "execution_count": 147,
   "id": "98789c50",
   "metadata": {},
   "outputs": [
    {
     "name": "stdout",
     "output_type": "stream",
     "text": [
      "4294.992350328548\n"
     ]
    }
   ],
   "source": [
    "print(rslt.meanAbsoluteError)"
   ]
  },
  {
   "cell_type": "code",
   "execution_count": 156,
   "id": "e4409d2e",
   "metadata": {},
   "outputs": [
    {
     "name": "stdout",
     "output_type": "stream",
     "text": [
      "+--------------------+\n",
      "|            features|\n",
      "+--------------------+\n",
      "|(6,[0,1],[18.0,23...|\n",
      "|(6,[0,1],[18.0,30...|\n",
      "|(6,[0,1],[18.0,33...|\n",
      "|(6,[0,1],[18.0,34...|\n",
      "|(6,[0,1],[18.0,43...|\n",
      "|(6,[0,1],[20.0,33...|\n",
      "|(6,[0,1],[21.0,35...|\n",
      "|(6,[0,1],[23.0,32...|\n",
      "|(6,[0,1],[24.0,35...|\n",
      "|(6,[0,1],[27.0,23...|\n",
      "|(6,[0,1],[28.0,38...|\n",
      "|(6,[0,1],[33.0,30...|\n",
      "|(6,[0,1],[34.0,34...|\n",
      "|(6,[0,1],[41.0,33...|\n",
      "|(6,[0,1],[48.0,40...|\n",
      "|(6,[0,1],[52.0,34...|\n",
      "|(6,[0,1],[53.0,29...|\n",
      "|(6,[0,1],[53.0,31...|\n",
      "|(6,[0,1],[58.0,49...|\n",
      "|(6,[0,1],[59.0,26...|\n",
      "+--------------------+\n",
      "only showing top 20 rows\n",
      "\n"
     ]
    }
   ],
   "source": [
    "unlabled = test.select('features')   #prediction on test dataset\n",
    "unlabled.show()"
   ]
  },
  {
   "cell_type": "code",
   "execution_count": 157,
   "id": "0adc17c9",
   "metadata": {},
   "outputs": [
    {
     "name": "stdout",
     "output_type": "stream",
     "text": [
      "+--------------------+------------------+\n",
      "|            features|        prediction|\n",
      "+--------------------+------------------+\n",
      "|(6,[0,1],[18.0,23...| -487.954954873323|\n",
      "|(6,[0,1],[18.0,30...|1878.0788109682617|\n",
      "|(6,[0,1],[18.0,33...|2967.2054650858154|\n",
      "|(6,[0,1],[18.0,34...|3230.0981057348818|\n",
      "|(6,[0,1],[18.0,43...| 6272.141518959774|\n",
      "|(6,[0,1],[20.0,33...|3485.4174926675023|\n",
      "|(6,[0,1],[21.0,35...|  4495.64533688425|\n",
      "|(6,[0,1],[23.0,32...|3999.8428933909727|\n",
      "|(6,[0,1],[24.0,35...| 5385.631652820668|\n",
      "|(6,[0,1],[27.0,23...|1806.4430777229827|\n",
      "|(6,[0,1],[28.0,38...| 7173.177538409947|\n",
      "|(6,[0,1],[33.0,30...| 5802.225109352223|\n",
      "|(6,[0,1],[34.0,34...| 7413.350417909687|\n",
      "|(6,[0,1],[41.0,33...|  9001.75596531783|\n",
      "|(6,[0,1],[48.0,40...|13068.863553131441|\n",
      "|(6,[0,1],[52.0,34...|12039.702574623594|\n",
      "|(6,[0,1],[53.0,29...| 10721.45274452005|\n",
      "|(6,[0,1],[53.0,31...|11359.906300382061|\n",
      "|(6,[0,1],[58.0,49...|18701.967104264782|\n",
      "|(6,[0,1],[59.0,26...|11224.518264668854|\n",
      "+--------------------+------------------+\n",
      "only showing top 20 rows\n",
      "\n"
     ]
    }
   ],
   "source": [
    "predictions = train_model.transform(unlabled)\n",
    "predictions.show()"
   ]
  },
  {
   "cell_type": "code",
   "execution_count": null,
   "id": "6e045d33",
   "metadata": {},
   "outputs": [],
   "source": []
  },
  {
   "cell_type": "code",
   "execution_count": null,
   "id": "45c48524",
   "metadata": {},
   "outputs": [],
   "source": [
    "\n",
    "\n"
   ]
  }
 ],
 "metadata": {
  "kernelspec": {
   "display_name": "Python 3 (ipykernel)",
   "language": "python",
   "name": "python3"
  },
  "language_info": {
   "codemirror_mode": {
    "name": "ipython",
    "version": 3
   },
   "file_extension": ".py",
   "mimetype": "text/x-python",
   "name": "python",
   "nbconvert_exporter": "python",
   "pygments_lexer": "ipython3",
   "version": "3.11.4"
  }
 },
 "nbformat": 4,
 "nbformat_minor": 5
}
