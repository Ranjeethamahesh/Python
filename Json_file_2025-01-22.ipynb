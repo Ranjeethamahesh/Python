{
 "cells": [
  {
   "cell_type": "code",
   "execution_count": 0,
   "metadata": {
    "application/vnd.databricks.v1+cell": {
     "cellMetadata": {},
     "inputWidgets": {},
     "nuid": "07ea73a5-438b-426b-b865-7165722c6807",
     "showTitle": false,
     "tableResultSettingsMap": {},
     "title": ""
    }
   },
   "outputs": [],
   "source": [
    "from pyspark.sql import SparkSession\n",
    "\n",
    "spark = SparkSession.builder.getOrCreate()\n",
    "from pyspark.sql.types import *"
   ]
  },
  {
   "cell_type": "code",
   "execution_count": 0,
   "metadata": {
    "application/vnd.databricks.v1+cell": {
     "cellMetadata": {},
     "inputWidgets": {},
     "nuid": "caf6cac0-cefb-4ba0-9abf-3ae603b1470d",
     "showTitle": false,
     "tableResultSettingsMap": {},
     "title": ""
    }
   },
   "outputs": [],
   "source": [
    "data = [{\"EnqueuedTimeUtc\":\"2024-12-18T23:56:21.1970000Z\",\"Properties\":{\"appTopic\":\"rp.mib/dev/c3566d1b-4d59-47b3-8d9f-e5e056e90d83\"},\"SystemProperties\":{\"connectionDeviceId\":\"c3566d1b-4d59-47b3-8d9f-e5e056e90d83\",\"connectionAuthMethod\":\"{\\\"scope\\\":\\\"device\\\",\\\"type\\\":\\\"sas\\\",\\\"issuer\\\":\\\"iothub\\\"}\",\"connectionDeviceGenerationId\":\"638657983158498990\",\"contentType\":\"application/JSON\",\"contentEncoding\":\"UTF-8\",\"enqueuedTime\":\"2024-12-18T23:56:21.1970000Z\"},\"Body\":{\"type\":\"offline\",\"code\":\"90\",\"mnsn\":\"mn=QlA1MEMyNg==:sn=MjUxMjc1NTAxMg==\",\"timestamp\":1734566180757,\"scheduleName\":\"suppliesUpdate\"}},{\"EnqueuedTimeUtc\":\"2024-11-21T07:21:38.2250000Z\",\"Properties\":{\"appTopic\":\"rp.mib/dev/f6ee0457-9923-4c6f-a23b-dac32e3d36b5\"},\"SystemProperties\":{\"connectionDeviceId\":\"f6ee0457-9923-4c6f-a23b-dac32e3d36b5\",\"connectionAuthMethod\":\"{\\\"scope\\\":\\\"device\\\",\\\"type\\\":\\\"sas\\\",\\\"issuer\\\":\\\"iothub\\\"}\",\"connectionDeviceGenerationId\":\"638587804616854813\",\"contentType\":\"application/JSON\",\"contentEncoding\":\"UTF-8\",\"enqueuedTime\":\"2024-11-21T07:21:38.2250000Z\"},\"Body\":{\"type\":\"smsProps\",\"mnsn\":\"mn=TVgyNjYx:sn=MTUwMDQ2NjQwMA==\",\"timestamp\":1732173697951,\"scheduleName\":\"deviceStatus\",\"smsProperties\":{\"interface\":{\"ethernetList\":[{\"id\":\"1\",\"type\":\"6\",\"address\":\"AC-A8-8E-E6-52-31\"},{\"id\":\"2\",\"type\":\"24\",\"address\":\"\"}],\"ipList\":[{\"address\":\"10.36.111.12\",\"ethernetId\":\"1\",\"subnetMask\":\"255.255.255.0\",\"defaultRoute\":\"10.36.111.1\"},{\"address\":\"127.0.0.1\",\"ethernetId\":\"2\",\"subnetMask\":\"255.0.0.0\",\"defaultRoute\":\"10.36.111.1\"}]},\"device\":{\"modelName\":\"SHARP MX-2661\",\"address\":\"10.36.111.12\",\"maintenanceCodeList\":[],\"serialId\":\"1500466400\",\"familyName\":\"SHARP-133\",\"location\":{\"address\":\"\"},\"serviceCodeList\":[],\"statusSet\":{\"standby\":\"true\",\"paperJam\":\"false\",\"paperLow\":\"false\",\"stackerNotInstalled\":\"false\",\"offline\":\"false\",\"paperEmpty\":\"false\",\"specifiedOutputTrayMissing\":\"false\",\"nearOverduePreventMaintenance\":\"false\",\"overduePreventMaintenance\":\"false\",\"warmUp\":\"false\",\"coverOpen\":\"false\",\"outputTrayFull\":\"false\",\"tonerLow\":\"false\",\"allOutputTrayFull\":\"false\",\"printerWarning\":\"false\",\"outputTrayNearFull\":\"false\",\"printing\":\"false\",\"printerError\":\"false\",\"inputTrayMissing\":\"false\",\"accountLimit\":\"false\",\"specifiedInputTrayEmpty\":\"false\",\"outputTrayMissing\":\"false\",\"online\":\"false\",\"markerSupplyMissing\":\"false\",\"specifiedInputTrayMissing\":\"false\",\"tonerEmpty\":\"false\"},\"counter\":{\"TYPE\":{\"lifeCount\":{\"unit\":\"impressions\",\"type\":\"lifeCounter\",\"value\":9444}}},\"statusRawValue\":\"2100000\",\"friendlyName\":\"\"}}}},\n",
    "{\"EnqueuedTimeUtc\":\"2024-11-21T07:21:38.4600000Z\",\"Properties\":{\"appTopic\":\"rp.mib/dev/f6ee0457-9923-4c6f-a23b-dac32e3d36b5\"},\"SystemProperties\":{\"connectionDeviceId\":\"f6ee0457-9923-4c6f-a23b-dac32e3d36b5\",\"connectionAuthMethod\":\"{\\\"scope\\\":\\\"device\\\",\\\"type\\\":\\\"sas\\\",\\\"issuer\\\":\\\"iothub\\\"}\",\"connectionDeviceGenerationId\":\"638587804616854813\",\"contentType\":\"application/JSON\",\"contentEncoding\":\"UTF-8\",\"enqueuedTime\":\"2024-11-21T07:21:38.4600000Z\"},\"Body\":{\"type\":\"smsProps\",\"mnsn\":\"mn=TVgyNjYx:sn=MTUwMDQ2NjQwMA==\",\"timestamp\":1732173698195,\"scheduleName\":\"suppliesUpdate\",\"smsProperties\":{\"interface\":{\"ethernetList\":[{\"id\":\"1\",\"type\":\"6\",\"address\":\"AC-A8-8E-E6-52-31\"},{\"id\":\"2\",\"type\":\"24\",\"address\":\"\"}],\"ipList\":[{\"address\":\"10.36.111.12\",\"ethernetId\":\"1\",\"subnetMask\":\"255.255.255.0\",\"defaultRoute\":\"10.36.111.1\"},{\"address\":\"127.0.0.1\",\"ethernetId\":\"2\",\"subnetMask\":\"255.0.0.0\",\"defaultRoute\":\"10.36.111.1\"}]},\"device\":{\"markerList\":[{\"type\":\"toner\",\"description\":\"Cyan Toner\",\"color\":\"cyan\",\"amount\":{\"state\":\"ok\",\"capacity\":\"100\",\"typical\":\"84\",\"unit\":\"percent\"}},{\"type\":\"toner\",\"description\":\"Magenta Toner\",\"color\":\"magenta\",\"amount\":{\"state\":\"ok\",\"capacity\":\"100\",\"typical\":\"89\",\"unit\":\"percent\"}},{\"type\":\"toner\",\"description\":\"Yellow Toner\",\"color\":\"yellow\",\"amount\":{\"state\":\"ok\",\"capacity\":\"100\",\"typical\":\"91\",\"unit\":\"percent\"}},{\"type\":\"toner\",\"description\":\"Black Toner\",\"color\":\"black\",\"amount\":{\"state\":\"ok\",\"capacity\":\"100\",\"typical\":\"88\",\"unit\":\"percent\"}},{\"type\":\"opc\",\"description\":\"Cyan Photoconductive Drum (DC)\",\"color\":\"cyan\",\"amount\":{\"state\":\"ok\",\"capacity\":\"100\",\"typical\":\"96\",\"unit\":\"percent\"}},{\"type\":\"opc\",\"description\":\"Magenta Photoconductive Drum (DM)\",\"color\":\"magenta\",\"amount\":{\"state\":\"ok\",\"capacity\":\"100\",\"typical\":\"96\",\"unit\":\"percent\"}},{\"type\":\"opc\",\"description\":\"Yellow Photoconductive Drum (DY)\",\"color\":\"yellow\",\"amount\":{\"state\":\"ok\",\"capacity\":\"100\",\"typical\":\"96\",\"unit\":\"percent\"}},{\"type\":\"opc\",\"description\":\"Black Photoconductive Drum (DK)\",\"color\":\"black\",\"amount\":{\"state\":\"ok\",\"capacity\":\"100\",\"typical\":\"93\",\"unit\":\"percent\"}}],\"modelName\":\"SHARP MX-2661\",\"disposalMarkerList\":[{\"type\":\"wasteToner\",\"description\":\"Waste Toner\",\"color\":\"unknown\",\"amount\":{\"state\":\"dis_ok\",\"capacity\":\"\",\"typical\":\"100\",\"unit\":\"percent\"}}],\"address\":\"10.36.111.12\",\"serialId\":\"1500466400\",\"familyName\":\"SHARP-133\",\"location\":{\"address\":\"\"},\"inTrayList\":[{\"name\":\"Bypass Tray\",\"id\":\"1\",\"description\":\"Bypass Tray\",\"modelName\":\"Bypass Tray\",\"mediaSizeWidth\":\"148000\",\"inserter\":\"false\",\"mediaSize\":\"148000 x 148000\",\"mediaSizeName\":\"CUSTOM\",\"mediaType\":\"custom-media-type-stationery-heavyweight-1\",\"mediaSizeHeight\":\"148000\",\"mediaDimXFeed\":\"148000\",\"mediaDimFeed\":\"148000\",\"virtual\":\"false\",\"manual\":\"true\",\"mediaName\":\"unknown\",\"mediaSizeUnit\":\"micrometers\",\"amount\":{\"state\":\"empty\",\"capacity\":\"100\",\"typical\":\"0\",\"unit\":\"sheets\"}},{\"name\":\"Tray 1\",\"id\":\"2\",\"description\":\"Tray 1\",\"modelName\":\"TRAY 1\",\"mediaSizeWidth\":\"182000\",\"inserter\":\"false\",\"mediaSize\":\"182000 x 257000\",\"mediaSizeName\":\"B5\",\"mediaType\":\"custom-media-type-stationery-stationery-1\",\"mediaSizeHeight\":\"257000\",\"mediaDimXFeed\":\"257000\",\"mediaDimFeed\":\"182000\",\"virtual\":\"false\",\"manual\":\"false\",\"mediaName\":\"jis-b5-white\",\"mediaSizeUnit\":\"micrometers\",\"amount\":{\"state\":\"\",\"capacity\":\"600\",\"typical\":\"600\",\"unit\":\"sheets\"}},{\"name\":\"Tray 2\",\"id\":\"3\",\"description\":\"Tray 2\",\"modelName\":\"MX-DE27N-1\",\"mediaSizeWidth\":\"210000\",\"inserter\":\"false\",\"mediaSize\":\"210000 x 297000\",\"mediaSizeName\":\"A4\",\"mediaType\":\"custom-media-type-stationery-stationery-1\",\"mediaSizeHeight\":\"297000\",\"mediaDimXFeed\":\"297000\",\"mediaDimFeed\":\"210000\",\"virtual\":\"false\",\"manual\":\"false\",\"mediaName\":\"iso-a4-white\",\"mediaSizeUnit\":\"micrometers\",\"amount\":{\"state\":\"\",\"capacity\":\"600\",\"typical\":\"402\",\"unit\":\"sheets\"}},{\"name\":\"Tray 3\",\"id\":\"4\",\"description\":\"Tray 3\",\"modelName\":\"MX-DE27N-2\",\"mediaSizeWidth\":\"364000\",\"inserter\":\"false\",\"mediaSize\":\"364000 x 257000\",\"mediaSizeName\":\"B4R\",\"mediaType\":\"custom-media-type-stationery-stationery-1\",\"mediaSizeHeight\":\"257000\",\"mediaDimXFeed\":\"257000\",\"mediaDimFeed\":\"364000\",\"virtual\":\"false\",\"manual\":\"false\",\"mediaName\":\"jis-b4-white\",\"mediaSizeUnit\":\"micrometers\",\"amount\":{\"state\":\"\",\"capacity\":\"600\",\"typical\":\"600\",\"unit\":\"sheets\"}},{\"name\":\"Tray 4\",\"id\":\"5\",\"description\":\"Tray 4\",\"modelName\":\"MX-DE27N-3\",\"mediaSizeWidth\":\"420000\",\"inserter\":\"false\",\"mediaSize\":\"420000 x 297000\",\"mediaSizeName\":\"A3R\",\"mediaType\":\"custom-media-type-stationery-stationery-1\",\"mediaSizeHeight\":\"297000\",\"mediaDimXFeed\":\"297000\",\"mediaDimFeed\":\"420000\",\"virtual\":\"false\",\"manual\":\"false\",\"mediaName\":\"iso-a3-white\",\"mediaSizeUnit\":\"micrometers\",\"amount\":{\"state\":\"\",\"capacity\":\"600\",\"typical\":\"402\",\"unit\":\"sheets\"}},{\"name\":\"Auto Select\",\"id\":\"31\",\"description\":\"Auto Select\",\"modelName\":\"\",\"mediaSizeWidth\":\"-2\",\"inserter\":\"false\",\"mediaSize\":\"other\",\"mediaSizeName\":\"unknown\",\"mediaType\":\"unknown\",\"mediaSizeHeight\":\"-2\",\"mediaDimXFeed\":\"-2\",\"mediaDimFeed\":\"-2\",\"virtual\":\"true\",\"manual\":\"false\",\"mediaName\":\"unknown\",\"mediaSizeUnit\":\"micrometers\",\"amount\":{\"state\":\"unknown\",\"capacity\":\"\",\"typical\":\"\",\"unit\":\"sheets\"}}],\"outTrayList\":[{\"name\":\"Center Tray\",\"id\":\"1\",\"deliveryOrientation\":\"faceDown\",\"description\":\"Center Tray\",\"modelName\":\"Center Tray\",\"stackingOrder\":\"firstToLast\",\"amount\":{\"state\":\"notFull\",\"capacity\":\"250\",\"typical\":\"\",\"unit\":\"sheets\"}},{\"name\":\"Upper Tray\",\"id\":\"3\",\"deliveryOrientation\":\"faceDown\",\"description\":\"Upper Tray\",\"modelName\":\"MX-TR20\",\"stackingOrder\":\"firstToLast\",\"amount\":{\"state\":\"notFull\",\"capacity\":\"100\",\"typical\":\"\",\"unit\":\"sheets\"}}],\"statusRawValue\":\"2100000\",\"friendlyName\":\"\"}}}}]"
   ]
  },
  {
   "cell_type": "code",
   "execution_count": 0,
   "metadata": {
    "application/vnd.databricks.v1+cell": {
     "cellMetadata": {},
     "inputWidgets": {},
     "nuid": "2841ca01-3df8-4e13-a66b-7472b7879735",
     "showTitle": false,
     "tableResultSettingsMap": {},
     "title": ""
    }
   },
   "outputs": [],
   "source": [
    "schema = StructType([\n",
    "    StructField(\"EnqueuedTimeUtc\", StringType(), True),\n",
    "    StructField(\"Properties\", StructType([\n",
    "        StructField(\"appTopic\", StringType(), True)\n",
    "    ]), True),\n",
    "    StructField(\"SystemProperties\", StructType([\n",
    "        StructField(\"connectionDeviceId\", StringType(), True),\n",
    "        StructField(\"connectionAuthMethod\", StringType(), True),\n",
    "        StructField(\"connectionDeviceGenerationId\", StringType(), True),\n",
    "        StructField(\"contentType\", StringType(), True),\n",
    "        StructField(\"contentEncoding\", StringType(), True),\n",
    "        StructField(\"enqueuedTime\", StringType(), True)\n",
    "    ]), True),\n",
    "    StructField(\"Body\", StructType([\n",
    "        StructField(\"type\", StringType(), True),\n",
    "        StructField(\"code\", StringType(), True),\n",
    "        StructField(\"mnsn\", StringType(), True),\n",
    "        StructField(\"timestamp\", LongType(), True),\n",
    "        StructField(\"scheduleName\", StringType(), True),\n",
    "        StructField(\"smsProperties\", StructType([\n",
    "            StructField(\"interface\", StructType([\n",
    "                StructField(\"ethernetList\", ArrayType(StructType([\n",
    "                    StructField(\"id\", StringType(), True),\n",
    "                    StructField(\"type\", StringType(), True),\n",
    "                    StructField(\"address\", StringType(), True)\n",
    "                ])), True),\n",
    "                StructField(\"ipList\", ArrayType(StructType([\n",
    "                    StructField(\"address\", StringType(), True),\n",
    "                    StructField(\"ethernetId\", StringType(), True),\n",
    "                    StructField(\"subnetMask\", StringType(), True),\n",
    "                    StructField(\"defaultRoute\", StringType(), True)\n",
    "                ])), True)\n",
    "            ]), True),\n",
    "            StructField(\"device\", StructType([\n",
    "                StructField(\"modelName\", StringType(), True),\n",
    "                StructField(\"address\", StringType(), True),\n",
    "                StructField(\"maintenanceCodeList\", ArrayType(StringType()), True),\n",
    "                StructField(\"serialId\", StringType(), True),\n",
    "                StructField(\"familyName\", StringType(), True),\n",
    "                StructField(\"location\", StructType([\n",
    "                    StructField(\"address\", StringType(), True)\n",
    "                ]), True),\n",
    "                StructField(\"serviceCodeList\", ArrayType(StringType()), True),\n",
    "                StructField(\"statusSet\", MapType(StringType(), StringType()), True),\n",
    "                StructField(\"counter\", StructType([\n",
    "                    StructField(\"TYPE\", StructType([\n",
    "                        StructField(\"lifeCount\", StructType([\n",
    "                            StructField(\"unit\", StringType(), True),\n",
    "                            StructField(\"type\", StringType(), True),\n",
    "                            StructField(\"value\", IntegerType(), True)\n",
    "                        ]), True)\n",
    "                    ]), True)\n",
    "                ]), True),\n",
    "                StructField(\"statusRawValue\", StringType(), True),\n",
    "                StructField(\"friendlyName\", StringType(), True)\n",
    "            ]), True)\n",
    "        ]), True)\n",
    "    ]), True)\n",
    "])\n"
   ]
  },
  {
   "cell_type": "code",
   "execution_count": 0,
   "metadata": {
    "application/vnd.databricks.v1+cell": {
     "cellMetadata": {},
     "inputWidgets": {},
     "nuid": "212a76c7-06a0-46fe-9ccb-d7d3417d1b0a",
     "showTitle": false,
     "tableResultSettingsMap": {},
     "title": ""
    }
   },
   "outputs": [],
   "source": [
    "df.printSchema()"
   ]
  },
  {
   "cell_type": "code",
   "execution_count": 0,
   "metadata": {
    "application/vnd.databricks.v1+cell": {
     "cellMetadata": {},
     "inputWidgets": {},
     "nuid": "9a94c9f8-8a3b-4eaf-94f5-3a5a02dc1f6c",
     "showTitle": false,
     "tableResultSettingsMap": {},
     "title": ""
    }
   },
   "outputs": [
    {
     "output_type": "stream",
     "name": "stdout",
     "output_type": "stream",
     "text": [
      "+--------------------+--------------------+--------------------+--------------------+\n|     EnqueuedTimeUtc|          Properties|    SystemProperties|                Body|\n+--------------------+--------------------+--------------------+--------------------+\n|2024-12-06T08:02:...|{rp.mib/dev/2be00...|{2be00f09-5d33-47...|{smsProps, null, ...|\n|2024-12-18T23:56:...|{rp.mib/dev/c3566...|{c3566d1b-4d59-47...|{offline, 90, mn=...|\n|2024-11-21T07:21:...|{rp.mib/dev/f6ee0...|{f6ee0457-9923-4c...|{smsProps, null, ...|\n|2024-11-21T07:22:...|{rp.mib/dev/f6ee0...|{f6ee0457-9923-4c...|{offline, 90, mn=...|\n+--------------------+--------------------+--------------------+--------------------+\n\n"
     ]
    }
   ],
   "source": [
    "df = spark.read.format(\"json\").schema(schema).load(file_name)\n",
    "df.show()"
   ]
  },
  {
   "cell_type": "code",
   "execution_count": 0,
   "metadata": {
    "application/vnd.databricks.v1+cell": {
     "cellMetadata": {},
     "inputWidgets": {},
     "nuid": "c64e9622-d460-489c-aa8f-5a8889d45058",
     "showTitle": false,
     "tableResultSettingsMap": {},
     "title": ""
    }
   },
   "outputs": [],
   "source": [
    "# Convert JSON string to RDD\n",
    "json_rdd = spark.sparkContext.parallelize(data)"
   ]
  },
  {
   "cell_type": "code",
   "execution_count": 0,
   "metadata": {
    "application/vnd.databricks.v1+cell": {
     "cellMetadata": {},
     "inputWidgets": {},
     "nuid": "b6c13f5a-4ebd-4b3e-93a7-466228edafe3",
     "showTitle": false,
     "tableResultSettingsMap": {},
     "title": ""
    }
   },
   "outputs": [],
   "source": [
    "# Read the JSON RDD into a DataFrame with schema\n",
    "df = spark.read.schema(schema).json(json_rdd)"
   ]
  },
  {
   "cell_type": "code",
   "execution_count": 0,
   "metadata": {
    "application/vnd.databricks.v1+cell": {
     "cellMetadata": {},
     "inputWidgets": {},
     "nuid": "d4f5e380-0d43-46dc-b58b-b0f2e73556d9",
     "showTitle": false,
     "tableResultSettingsMap": {},
     "title": ""
    }
   },
   "outputs": [
    {
     "output_type": "stream",
     "name": "stdout",
     "output_type": "stream",
     "text": [
      "+--------------------+--------------------+--------------------+--------------------+\n|     EnqueuedTimeUtc|          Properties|    SystemProperties|                Body|\n+--------------------+--------------------+--------------------+--------------------+\n|2024-12-18T23:56:...|{rp.mib/dev/c3566...|{c3566d1b-4d59-47...|{offline, 90, mn=...|\n|2024-11-21T07:21:...|{rp.mib/dev/f6ee0...|{f6ee0457-9923-4c...|{smsProps, null, ...|\n|2024-11-21T07:21:...|{rp.mib/dev/f6ee0...|{f6ee0457-9923-4c...|{smsProps, null, ...|\n+--------------------+--------------------+--------------------+--------------------+\n\n"
     ]
    }
   ],
   "source": [
    "df.show()"
   ]
  },
  {
   "cell_type": "code",
   "execution_count": 0,
   "metadata": {
    "application/vnd.databricks.v1+cell": {
     "cellMetadata": {},
     "inputWidgets": {},
     "nuid": "c3088583-8f22-46de-8d88-93b803113daa",
     "showTitle": false,
     "tableResultSettingsMap": {},
     "title": ""
    }
   },
   "outputs": [
    {
     "output_type": "stream",
     "name": "stdout",
     "output_type": "stream",
     "text": [
      "root\n |-- EnqueuedTimeUtc: string (nullable = true)\n |-- Properties: struct (nullable = true)\n |    |-- appTopic: string (nullable = true)\n |-- SystemProperties: struct (nullable = true)\n |    |-- connectionDeviceId: string (nullable = true)\n |    |-- connectionAuthMethod: string (nullable = true)\n |    |-- connectionDeviceGenerationId: string (nullable = true)\n |    |-- contentType: string (nullable = true)\n |    |-- contentEncoding: string (nullable = true)\n |    |-- enqueuedTime: string (nullable = true)\n |-- Body: struct (nullable = true)\n |    |-- type: string (nullable = true)\n |    |-- code: string (nullable = true)\n |    |-- mnsn: string (nullable = true)\n |    |-- timestamp: long (nullable = true)\n |    |-- scheduleName: string (nullable = true)\n |    |-- smsProperties: struct (nullable = true)\n |    |    |-- interface: struct (nullable = true)\n |    |    |    |-- ethernetList: array (nullable = true)\n |    |    |    |    |-- element: struct (containsNull = true)\n |    |    |    |    |    |-- id: string (nullable = true)\n |    |    |    |    |    |-- type: string (nullable = true)\n |    |    |    |    |    |-- address: string (nullable = true)\n |    |    |    |-- ipList: array (nullable = true)\n |    |    |    |    |-- element: struct (containsNull = true)\n |    |    |    |    |    |-- address: string (nullable = true)\n |    |    |    |    |    |-- ethernetId: string (nullable = true)\n |    |    |    |    |    |-- subnetMask: string (nullable = true)\n |    |    |    |    |    |-- defaultRoute: string (nullable = true)\n |    |    |-- device: struct (nullable = true)\n |    |    |    |-- modelName: string (nullable = true)\n |    |    |    |-- address: string (nullable = true)\n |    |    |    |-- maintenanceCodeList: array (nullable = true)\n |    |    |    |    |-- element: string (containsNull = true)\n |    |    |    |-- serialId: string (nullable = true)\n |    |    |    |-- familyName: string (nullable = true)\n |    |    |    |-- location: struct (nullable = true)\n |    |    |    |    |-- address: string (nullable = true)\n |    |    |    |-- serviceCodeList: array (nullable = true)\n |    |    |    |    |-- element: string (containsNull = true)\n |    |    |    |-- statusSet: map (nullable = true)\n |    |    |    |    |-- key: string\n |    |    |    |    |-- value: string (valueContainsNull = true)\n |    |    |    |-- counter: struct (nullable = true)\n |    |    |    |    |-- TYPE: struct (nullable = true)\n |    |    |    |    |    |-- lifeCount: struct (nullable = true)\n |    |    |    |    |    |    |-- unit: string (nullable = true)\n |    |    |    |    |    |    |-- type: string (nullable = true)\n |    |    |    |    |    |    |-- value: integer (nullable = true)\n |    |    |    |-- statusRawValue: string (nullable = true)\n |    |    |    |-- friendlyName: string (nullable = true)\n\n"
     ]
    }
   ],
   "source": [
    "df.printSchema()"
   ]
  },
  {
   "cell_type": "code",
   "execution_count": 0,
   "metadata": {
    "application/vnd.databricks.v1+cell": {
     "cellMetadata": {},
     "inputWidgets": {},
     "nuid": "15410e32-d6d8-4d72-aa40-f82426661fff",
     "showTitle": false,
     "tableResultSettingsMap": {},
     "title": ""
    }
   },
   "outputs": [
    {
     "output_type": "stream",
     "name": "stdout",
     "output_type": "stream",
     "text": [
      "+--------------------+\n|                Body|\n+--------------------+\n|{offline, 90, mn=...|\n|{smsProps, null, ...|\n|{smsProps, null, ...|\n+--------------------+\n\n"
     ]
    }
   ],
   "source": [
    "sname = df.select('Body').show()"
   ]
  },
  {
   "cell_type": "code",
   "execution_count": 0,
   "metadata": {
    "application/vnd.databricks.v1+cell": {
     "cellMetadata": {},
     "inputWidgets": {},
     "nuid": "f63abecb-1f2f-44ca-a8a3-cc7ddcd2578b",
     "showTitle": false,
     "tableResultSettingsMap": {},
     "title": ""
    }
   },
   "outputs": [
    {
     "output_type": "stream",
     "name": "stdout",
     "output_type": "stream",
     "text": [
      "+--------------+\n|  scheduleName|\n+--------------+\n|suppliesUpdate|\n|  deviceStatus|\n+--------------+\n\n"
     ]
    }
   ],
   "source": [
    "sname = df.select('Body.scheduleName').distinct().show()"
   ]
  },
  {
   "cell_type": "code",
   "execution_count": 0,
   "metadata": {
    "application/vnd.databricks.v1+cell": {
     "cellMetadata": {},
     "inputWidgets": {},
     "nuid": "b1404f00-641a-4439-8997-b861466daa13",
     "showTitle": false,
     "tableResultSettingsMap": {},
     "title": ""
    }
   },
   "outputs": [],
   "source": [
    "schedule_names = df.select('Body.scheduleName').distinct().rdd.flatMap(lambda x: x).collect()"
   ]
  },
  {
   "cell_type": "code",
   "execution_count": 0,
   "metadata": {
    "application/vnd.databricks.v1+cell": {
     "cellMetadata": {},
     "inputWidgets": {},
     "nuid": "08843c09-e578-4d6e-a0ab-838681c5a41b",
     "showTitle": false,
     "tableResultSettingsMap": {},
     "title": ""
    }
   },
   "outputs": [],
   "source": [
    "schedule_dfs = {}\n",
    "for sname in schedule_names:\n",
    "    schedule_dfs[sname] = df.filter(df['Body.scheduleName'] == sname)\n"
   ]
  },
  {
   "cell_type": "code",
   "execution_count": 0,
   "metadata": {
    "application/vnd.databricks.v1+cell": {
     "cellMetadata": {},
     "inputWidgets": {},
     "nuid": "c7237a29-abcf-4c48-ac1a-165c08800bc2",
     "showTitle": false,
     "tableResultSettingsMap": {},
     "title": ""
    }
   },
   "outputs": [
    {
     "output_type": "stream",
     "name": "stdout",
     "output_type": "stream",
     "text": [
      "+--------------------+--------------------+--------------------+--------------------+\n|     EnqueuedTimeUtc|          Properties|    SystemProperties|                Body|\n+--------------------+--------------------+--------------------+--------------------+\n|2024-12-18T23:56:...|{rp.mib/dev/c3566...|{c3566d1b-4d59-47...|{offline, 90, mn=...|\n|2024-11-21T07:21:...|{rp.mib/dev/f6ee0...|{f6ee0457-9923-4c...|{smsProps, null, ...|\n+--------------------+--------------------+--------------------+--------------------+\n\n+--------------------+--------------------+--------------------+--------------------+\n|     EnqueuedTimeUtc|          Properties|    SystemProperties|                Body|\n+--------------------+--------------------+--------------------+--------------------+\n|2024-11-21T07:21:...|{rp.mib/dev/f6ee0...|{f6ee0457-9923-4c...|{smsProps, null, ...|\n+--------------------+--------------------+--------------------+--------------------+\n\n"
     ]
    }
   ],
   "source": [
    "S1 = schedule_dfs['suppliesUpdate'].show()\n",
    "S2 =schedule_dfs['deviceStatus'].show()"
   ]
  },
  {
   "cell_type": "code",
   "execution_count": 0,
   "metadata": {
    "application/vnd.databricks.v1+cell": {
     "cellMetadata": {},
     "inputWidgets": {},
     "nuid": "1f0b8291-bee6-4440-a7a3-4a2ec1e8c323",
     "showTitle": false,
     "tableResultSettingsMap": {},
     "title": ""
    }
   },
   "outputs": [],
   "source": [
    "json_delta_path2 = '/temp/json_delta_table1'"
   ]
  },
  {
   "cell_type": "code",
   "execution_count": 0,
   "metadata": {
    "application/vnd.databricks.v1+cell": {
     "cellMetadata": {},
     "inputWidgets": {},
     "nuid": "e5dcd60b-613b-44b7-918a-0a18787523ba",
     "showTitle": false,
     "tableResultSettingsMap": {},
     "title": ""
    }
   },
   "outputs": [],
   "source": [
    "df.write.format(\"delta\").mode(\"overwrite\").save(json_delta_path2)\n",
    "\n"
   ]
  },
  {
   "cell_type": "code",
   "execution_count": 0,
   "metadata": {
    "application/vnd.databricks.v1+cell": {
     "cellMetadata": {},
     "inputWidgets": {},
     "nuid": "004a2c09-6855-44b9-88f0-e8f80bb74943",
     "showTitle": false,
     "tableResultSettingsMap": {},
     "title": ""
    }
   },
   "outputs": [
    {
     "output_type": "stream",
     "name": "stdout",
     "output_type": "stream",
     "text": [
      "Out[109]: DataFrame[]"
     ]
    }
   ],
   "source": [
    "spark.sql(f\"CREATE TABLE IF NOT EXISTS my_delta_table USING DELTA LOCATION '{json_delta_path2}'\")\n"
   ]
  },
  {
   "cell_type": "code",
   "execution_count": 0,
   "metadata": {
    "application/vnd.databricks.v1+cell": {
     "cellMetadata": {},
     "inputWidgets": {},
     "nuid": "7d717bcc-dcc0-46ed-af21-8011ed021e3f",
     "showTitle": false,
     "tableResultSettingsMap": {},
     "title": ""
    }
   },
   "outputs": [
    {
     "output_type": "stream",
     "name": "stdout",
     "output_type": "stream",
     "text": [
      "+--------------------+--------------------+--------------------+--------------------+\n|     EnqueuedTimeUtc|          Properties|    SystemProperties|                Body|\n+--------------------+--------------------+--------------------+--------------------+\n|2024-11-21T07:21:...|{rp.mib/dev/f6ee0...|{f6ee0457-9923-4c...|{smsProps, null, ...|\n|2024-11-21T07:21:...|{rp.mib/dev/f6ee0...|{f6ee0457-9923-4c...|{smsProps, null, ...|\n|2024-12-18T23:56:...|{rp.mib/dev/c3566...|{c3566d1b-4d59-47...|{offline, 90, mn=...|\n+--------------------+--------------------+--------------------+--------------------+\n\n"
     ]
    }
   ],
   "source": [
    "spark.sql(\"SELECT * FROM my_delta_table\").show()"
   ]
  },
  {
   "cell_type": "code",
   "execution_count": 0,
   "metadata": {
    "application/vnd.databricks.v1+cell": {
     "cellMetadata": {},
     "inputWidgets": {},
     "nuid": "7ff37cd8-db7e-4102-bd53-06839e94f20c",
     "showTitle": false,
     "tableResultSettingsMap": {},
     "title": ""
    }
   },
   "outputs": [],
   "source": []
  },
  {
   "cell_type": "code",
   "execution_count": 0,
   "metadata": {
    "application/vnd.databricks.v1+cell": {
     "cellMetadata": {},
     "inputWidgets": {},
     "nuid": "363acfe1-e437-4d32-9ce4-e8d450389654",
     "showTitle": false,
     "tableResultSettingsMap": {},
     "title": ""
    }
   },
   "outputs": [],
   "source": []
  },
  {
   "cell_type": "code",
   "execution_count": 0,
   "metadata": {
    "application/vnd.databricks.v1+cell": {
     "cellMetadata": {
      "byteLimit": 2048000,
      "rowLimit": 10000
     },
     "inputWidgets": {},
     "nuid": "e142a80e-c1a3-49e4-ae0c-86641c5ce8fd",
     "showTitle": false,
     "tableResultSettingsMap": {},
     "title": ""
    }
   },
   "outputs": [],
   "source": [
    "from pyspark.sql import SparkSession\n",
    "\n",
    "spark = SparkSession.builder.getOrCreate()\n",
    "from pyspark.sql.types import *"
   ]
  },
  {
   "cell_type": "code",
   "execution_count": 0,
   "metadata": {
    "application/vnd.databricks.v1+cell": {
     "cellMetadata": {
      "byteLimit": 2048000,
      "rowLimit": 10000
     },
     "inputWidgets": {},
     "nuid": "2635c112-fb69-4aac-bbf0-ecaa350b21e0",
     "showTitle": false,
     "tableResultSettingsMap": {},
     "title": ""
    }
   },
   "outputs": [
    {
     "output_type": "display_data",
     "data": {
      "text/html": [
       "<style scoped>\n",
       "  .table-result-container {\n",
       "    max-height: 300px;\n",
       "    overflow: auto;\n",
       "  }\n",
       "  table, th, td {\n",
       "    border: 1px solid black;\n",
       "    border-collapse: collapse;\n",
       "  }\n",
       "  th, td {\n",
       "    padding: 5px;\n",
       "  }\n",
       "  th {\n",
       "    text-align: left;\n",
       "  }\n",
       "</style><div class='table-result-container'><table class='table-result'><thead style='background-color: white'><tr><th>Body</th><th>EnqueuedTimeUtc</th><th>Properties</th><th>SystemProperties</th></tr></thead><tbody><tr><td>List(mn=TVg4MDkwTg==:sn=NjUwNDYyMFgwMA==, manualUpdate, List(List(172.29.241.161, List(List(true, true, List(false, ), List(false, 0), List(true, 1), true, true, true, true)), CSET_WINLATIN1, List(duplex, List(false, 41,46,30,5,2,7,11,18,22,50,51)), , List(List(List(List(List(List(List(0), List(0), List(0), List(0), 0), List(0)), List(List(List(List(List(-1), List(-1), List(-1), 0), List(-1)), List(List(List(List(, -1), List(, -1), List(, -1), 0), List(, -1)), 0), List(List(List(List(, -1), List(, -1), List(, -1), 0), List(, -1)), 0), List(List(List(List(, -1), List(, -1), List(, -1), 0), List(, -1)), 0), List(List(List(List(, -1), List(, -1), List(, -1), 0), List(, -1)), 0), 0), List(List(List(List(-1), List(-1), List(-1), 0), List(-1)), List(List(List(List(, -1), List(, -1), List(, -1), 0), List(, -1)), 0), List(List(List(List(, -1), List(, -1), List(, -1), 0), List(, -1)), 0), List(List(List(List(, -1), List(, -1), List(, -1), 0), List(, -1)), 0), List(List(List(List(, -1), List(, -1), List(, -1), 0), List(, -1)), 0), 0), List(List(List(List(-1), 0), List(-1)), List(List(List(List(, -1), 0), List(, -1)), 0), 0), List(List(List(List(-1), List(-1), List(-1), List(-1), 0), List(-1)), List(List(List(List(, -1), List(, -1), List(, -1), List(, -1), 0), List(, -1)), 0), List(List(List(List(, -1), List(, -1), List(, -1), List(, -1), 0), List(, -1)), 0), List(List(List(List(, -1), List(, -1), List(, -1), List(, -1), 0), List(, -1)), 0), List(List(List(List(, -1), List(, -1), List(, -1), List(, -1), 0), List(, -1)), 0), 0)), List(List(List(List(0), List(0), List(0), List(0), 0), List(0)), 0), List(List(List(List(0), List(0), List(0), List(0), 0), List(0)), 0), List(List(List(List(0), List(0), List(0), List(0), 0), List(0)), 0), List(List(List(List(0), List(0), List(0), List(0), 0), List(0)), 0), 0)), List(List(List(List(List(List(List(683), List(-1), List(-1), 683), List(647)), List(List(List(List(, -1), List(, -1), List(, -1), 0), List(, -1)), 0), List(List(List(List(, -1), List(, -1), List(, -1), 0), List(, -1)), 0), List(List(List(List(, -1), List(, -1), List(, -1), 0), List(, -1)), 0), List(List(List(List(, -1), List(, -1), List(, -1), 0), List(, -1)), 0), 1330), List(List(List(0)), List(List(List(-1)), 0), List(List(List(-1)), 0), List(List(List(-1)), 0), 0), List(List(List(List(39), List(-1), List(-1), 39), List(24)), List(List(List(List(, -1), List(, -1), List(, -1), 0), List(, -1)), 0), List(List(List(List(, -1), List(, -1), List(, -1), 0), List(, -1)), 0), List(List(List(List(, -1), List(, -1), List(, -1), 0), List(, -1)), 0), List(List(List(List(, -1), List(, -1), List(, -1), 0), List(, -1)), 0), 63), List(List(List(-1)), 0), List(List(List(List(11), 11), List(329)), List(List(List(List(, -1), 0), List(, -1)), 0), 340), List(List(List(List(41085), List(-1), List(-1), List(-1), 41085), List(18781)), List(List(List(List(, -1), List(, -1), List(, -1), List(, -1), 0), List(, -1)), 0), List(List(List(List(, -1), List(, -1), List(, -1), List(, -1), 0), List(, -1)), 0), List(List(List(List(, -1), List(, -1), List(, -1), List(, -1), 0), List(, -1)), 0), List(List(List(List(, -1), List(, -1), List(, -1), List(, -1), 0), List(, -1)), 0), 59866))), List(List(List(List(List(0)), List(List(List(-1)), 0), List(List(List(-1)), 0), List(List(List(-1)), 0), 0), List(List(List(-1)), 0), List(List(List(List(1286), 1286), List(791)), 2077), List(List(List(List(20), List(-1), 20), List(58)), 78)))), List(38965), List(2680), List(lifeCounter, impressions, 61599), List(List(List(List(List(0), List(0), List(0), List(0), 0), List(0)), List(List(List(List(List(-1), List(-1), List(-1), 0), List(-1)), List(List(List(List(, -1), List(, -1), List(, -1), 0), List(, -1)), 0), List(List(List(List(, -1), List(, -1), List(, -1), 0), List(, -1)), 0), List(List(List(List(, -1), List(, -1), List(, -1), 0), List(, -1)), 0), List(List(List(List(, -1), List(, -1), List(, -1), 0), List(, -1)), 0), 0), List(List(List(List(-1), List(-1), List(-1), 0), List(-1)), List(List(List(List(, -1), List(, -1), List(, -1), 0), List(, -1)), 0), List(List(List(List(, -1), List(, -1), List(, -1), 0), List(, -1)), 0), List(List(List(List(, -1), List(, -1), List(, -1), 0), List(, -1)), 0), List(List(List(List(, -1), List(, -1), List(, -1), 0), List(, -1)), 0), 0), List(List(List(List(-1), List(-1), List(-1), List(-1), 0), List(-1)), List(List(List(List(, -1), List(, -1), List(, -1), List(, -1), 0), List(, -1)), 0), List(List(List(List(, -1), List(, -1), List(, -1), List(, -1), 0), List(, -1)), 0), List(List(List(List(, -1), List(, -1), List(, -1), List(, -1), 0), List(, -1)), 0), List(List(List(List(, -1), List(, -1), List(, -1), List(, -1), 0), List(, -1)), 0), 0)), List(List(List(List(0), List(0), List(0), List(0), 0), List(0)), 0), List(List(List(List(0), List(0), List(0), List(0), 0), List(0)), 0), List(List(List(List(0), List(0), List(0), List(0), 0), List(0)), 0), List(List(List(List(0), List(0), List(0), List(0), 0), List(0)), 0), 0)), List(powerOnCounter, impressions, 24), List(List(List(List(List(41818), List(0), List(0), List(0), 41818), List(19781)), List(List(List(List(0), List(0), List(0), List(0), 0), List(0)), 0), List(List(List(List(0), List(0), List(0), List(0), 0), List(0)), 0), List(List(List(List(0), List(0), List(0), List(0), 0), List(0)), 0), List(List(List(List(0), List(0), List(0), List(0), 0), List(0)), 0), 61599), List(List(List(List(1306), List(0), List(0), 1306), List(849)), 2155)))), List(List(Front Cover, doorClosed), List(Right Side Cover, doorClosed), List(Duplex Cover, doorClosed), List(Toner Cover, doorClosed), List(Waste Toner Cover, doorClosed), List(Vertical Feed Cover, doorClosed), List(LCC Upper Cover, doorClosed), List(Relay Unit Cover, doorClosed), List(Finisher Front Cover, doorClosed), List(Decurler Front Cover, doorClosed)), SHARP MX-8090N, List(List(SHARP MX-8090N, 1.3.6.1.4.1.2385.3.1.125.1.2, 1, 0, 3, 1.3.6.1.2.1.25.3.1.5), List(Ethernet port, 1.3.6.1.4.1.2385.3.1.125.1.2, 3, 0, 2, 1.3.6.1.2.1.25.3.1.4), List(Copier, 1.3.6.1.4.1.2385.3.1.125.1.2, 4, 0, 3, 1.3.6.1.4.1.2385.1.1.3.1.3), List(Multi-Functional Device, 1.3.6.1.4.1.2385.3.1.125.1.2, 5, 0, 3, 1.3.6.1.2.1.25.3.1.1), List(Scanner Unit, 1.3.6.1.4.1.2385.3.1.125.1.2, 6, 0, 2, 1.3.6.1.4.1.2385.1.1.3.1.1), List(Network Scanner, 1.3.6.1.4.1.2385.3.1.125.2.41, 7, 0, 2, 1.3.6.1.4.1.2385.1.1.3.1.2), List(Hard Disk Drive, 1.3.6.1.4.1.2385.3.1.125.2.46, 8, 0, 2, 1.3.6.1.2.1.25.3.1.6), List(Duplex Single Pass Feeder, 1.3.6.1.4.1.2385.3.1.125.2.30, 9, 0, 1, 1.3.6.1.4.1.2385.1.1.3.1.101), List(Bypass Tray, 1.3.6.1.4.1.2385.3.1.125.2.5, 21, 0, 2, 1.3.6.1.4.1.2385.1.1.3.1.102), List(Large Capacity Cassette, 1.3.6.1.4.1.2385.3.1.125.2.2, 27, 0, 2, 1.3.6.1.4.1.2385.1.1.3.1.102), List(Escape Tray, 1.3.6.1.4.1.2385.3.1.125.2.7, 41, 0, 2, 1.3.6.1.4.1.2385.1.1.3.1.203), List(Finisher, 1.3.6.1.4.1.2385.3.1.125.2.11, 54, 0, 2, 1.3.6.1.4.1.2385.1.1.3.1.203), List(Punch Module B, 1.3.6.1.4.1.2385.3.1.125.2.18, 57, 0, 2, 1.3.6.1.4.1.2385.1.1.3.1.203), List(De-curler Unit, 1.3.6.1.4.1.2385.3.1.125.2.22, 60, 0, 2, 1.3.6.1.4.1.2385.1.1.3.1.203), List(Application Communication Module, 1.3.6.1.4.1.2385.3.1.125.2.50, 86, 0, 2, 1.3.6.1.2.1.25.3.1.1), List(External Account Module, 1.3.6.1.4.1.2385.3.1.125.2.51, 87, 0, 2, 1.3.6.1.2.1.25.3.1.1)), List(List(bmp), List(, bmp, 100, 42:4D:BA:62:00:00:00:00:00:00:4A:00:00:00:28:00:00:00:F4:01:00:00:64:00:00:00:01:00:04:00:00:00:00:00:70:62:00:00:00:00:00:00:00:00:00:00:05:00:00:00:05:00:00:00:FF:FF:FF:00:00:00:00:00:80:80:80:00:C0:C0:C0:00:FF:FF:FF:00:00:00:00:00:00:00:00:00:00:00:00:00:00:00:00:00:00:00:00:00:00:00:00:00:00:00:00:00:00:00:00:00:00:00:00:00:00:00:00:00:00:00:00:00:00:00:00:00:00:00:00:00:00:00:00:00:00:00:00:00:00:00:00:00:00:00:00:00:00:00:00:00:00:00:00:00:00:0000:00:00:00:00:00:00:00:00:00:00:00:00:00:00:00:00:00:00:00:00:00:00:00:00:00:00:00:00:00:00:00:00:00:00:00:00:00:00:00:00:00:00:00:00:00:00:00:00:00:00:00:00:00:00:00:00:00:00:00:00:00:00:00:00:00:00:00:00:00:00:00:00:00:00:00:00:00:00:00:00:00:00:00:00:00:00:00:00:00:00:00:00:00:00:00:00:00:00:00:00:00:00:00:00:00:00:00:00:00:00:00:00:00:00:00:00:00:00:00:00:00:00:00:00:00:00:00:00:00:00:00:00:00:00:00:00:00:00:00:00:00:00:00:00:00:00:00:00:00:00:0000:00:00:00:00:00:00:00:00:00:00:00:00:00:00:00:00:00:00:00:00:00:00:00:00:00:00:00:00:00:00:00:00:00:00:00:00:00:00:00:00:00:00:00:00:00:00:00:00:00:00:00:00:00:00:00:00:00:00:00:00:00:00:00:00:00:00:00:00:00:00:00:00:00:00:00:00:00:00:00:00:00:00:00:00:00:00:00:00:00:00:00:00:00:00:00:00:00:00:00:00:00:00:00:00:00:00:00:00:00:00:00:00:00:00:00:00:00:00:00:00:00:00:00:00:00:00:00:00:00:00:00:00:00:00:00:00:00:00:00:00:00:00:00:00:00:00:00:00:00:00:0000:01:11:10:00:00:00:00:00:00:00:00:00:01:11:10:00:11:10:00:00:00:01:11:01:11:11:00:00:00:00:00:00:00:00:00:00:00:00:00:00:00:00:00:00:00:00:00:00:00:00:00:00:00:00:00:11:11:10:11:11:00:00:00:00:00:00:00:00:00:00:00:00:00:00:11:11:00:00:00:00:00:00:00:00:00:00:00:00:00:00:00:00:00:00:00:00:00:00:00:00:00:00:00:00:00:00:00:00:00:00:00:00:00:00:00:00:00:00:00:00:00:00:00:00:00:00:00:00:00:00:00:00:00:00:00:00:00:00:00:00:00:00:00:00:00:00:00:00:00:00:0000:00:00:00:00:00:00:00:00:00:00:00:00:00:00:00:00:00:00:00:00:00:00:00:00:00:00:00:00:00:00:00:00:00:00:00:00:00:00:00:00:00:00:00:00:00:00:00:00:00:00:00:00:00:00:00:00:00:00:00:00:00:00:00:00:00:00:00:00:00:00:00:00:00:00:00:00:00:00:00:00:00:00:00:00:00:00:00:00:00:00:00:00:00:00:00:00:00:00:00:00:01:11:10:00:00:00:00:00:00:00:00:00:01:11:10:00:11:10:00:00:00:01:11:01:11:11:00:00:00:00:00:00:00:00:00:00:00:00:00:00:00:00:00:00:00:00:00:00:00:00:0000:00:00:00:11:11:10:11:11:00:00:00:00:00:00:00:00:00:00:00:00:00:00:11:11:00:00:00:00:00:00:00:00:00:00:00:00:00:00:00:00:00:00:00:00:00:00:00:00:00:00:00:00:00:00:00:00:00:00:00:00:00:00:00:00:00:00:00:00:00:00:00:00:00:00:00:00:00:00:00:00:00:00:00:00:00:00:00:00:00:00:00:00:00:00:00:00:00:00:00:00:00:00:00:00:00:00:00:00:00:00:00:00:00:00:00:00:00:00:00:00:00:00:00:00:00:00:00:00:00:00:00:00:00:00:00:00:00:00:00:00:00:00:00:00:00:00:00:00:00:00:0000:00:00:00:00:00:00:00:00:00:00:00:00:00:00:00:00:00:00:00:00:00:00:00:00:00:00:00:00:00:00:00:00:00:00:00:00:00:00:00:00:00:00:00:00:00:00:00:02:22:22:22:22:22:22:22:22:22:22:22:22:22:22:22:22:22:22:22:22:22:22:22:22:22:22:22:22:22:22:22:22:22:22:22:22:22:22:22:22:22:22:22:22:22:22:22:22:22:22:11:11:11:11:11:11:11:12:22:22:22:22:22:22:22:22:22:22:22:22:22:22:22:22:22:22:22:00:00:00:00:00:00:00:00:00:00:00:00:00:00:00:00:00:00:00:00:00:00:00:00:00:0000:00:00:00:00:00:00:00:00:00:00:00:00:00:00:00:00:00:00:00:00:00:00:00:00:00:00:00:00:00:00:00:00:00:00:00:00:00:00:00:00:00:00:00:00:00:00:00:00:00:00:00:00:00:00:00:00:00:00:00:00:00:00:00:00:00:00:00:00:00:00:00:00:00:00:00:00:00:00:00:00:00:00:00:00:00:00:00:00:00:00:00:00:00:00:00:00:00:00:00:00:00:00:00:00:00:00:00:00:00:00:00:00:00:00:00:00:00:00:00:00:00:00:00:00:00:00:00:00:00:00:00:00:00:00:00:00:00:00:00:00:00:00:00:00:00:00:00:02:44:44:4444:44:44:44:44:44:44:44:44:44:44:44:24:44:44:44:44:44:44:44:42:44:44:44:44:44:44:44:44:44:44:44:44:44:44:44:44:44:44:44:44:44:44:44:44:44:44:11:11:11:11:11:11:11:14:44:44:44:44:44:44:44:44:44:44:44:44:44:44:44:44:44:44:42:00:00:00:00:00:00:00:00:00:00:00:00:00:00:00:00:00:00:00:00:00:00:00:00:00:00:00:00:00:00:00:00:00:00:00:00:00:00:00:00:00:00:00:00:00:00:00:00:00:00:00:00:00:00:00:00:00:00:00:00:00:00:00:00:00:00:00:00:00:00:00:00:00:00:00:00:00:0000:00:00:00:00:00:00:00:00:00:00:00:00:00:00:00:00:00:00:00:00:00:00:00:00:00:00:00:00:00:00:00:00:00:00:00:00:00:00:00:00:00:00:00:00:00:00:00:00:00:00:00:00:00:00:00:00:00:00:00:00:00:00:00:00:00:00:00:00:00:00:00:00:00:00:00:00:00:00:00:00:00:00:00:00:00:00:00:00:00:00:00:00:00:00:00:02:44:44:44:44:44:44:44:44:44:44:44:44:44:44:44:24:44:44:44:44:44:44:44:42:44:44:44:44:44:44:44:44:44:44:44:44:44:44:44:44:44:44:44:44:44:44:44:44:44:44:11:11:11:11:1111:11:14:44:44:44:44:44:44:44:44:44:44:44:44:44:44:44:44:44:44:42:00:00:00:00:00:00:00:00:00:00:00:00:00:00:00:00:00:00:00:00:00:00:00:00:00:00:00:00:00:00:00:00:00:00:00:00:00:00:00:00:00:00:00:00:00:00:00:00:00:00:00:00:00:00:00:00:00:00:00:00:00:00:00:00:00:00:00:00:00:00:00:00:00:00:00:00:00:00:00:00:00:00:00:00:00:00:00:00:00:00:00:00:00:00:00:00:00:00:00:00:00:00:00:00:00:00:00:00:00:00:00:00:00:00:00:00:00:00:00:00:00:00:00:00:00:00:00:00:00:0000:00:00:00:00:00:00:00:00:00:00:00:00:00:00:00:00:00:00:00:00:00:00:00:00:00:00:00:00:00:00:00:00:00:00:00:00:00:00:00:00:00:00:00:02:44:44:44:44:44:44:44:44:44:44:44:44:44:44:44:24:44:44:44:44:44:44:44:42:44:44:44:44:44:44:44:44:44:44:44:44:44:44:44:44:44:44:44:44:44:44:44:44:44:44:11:11:11:11:11:11:11:14:44:44:44:44:44:44:44:44:44:44:44:44:44:44:44:44:44:44:42:00:00:00:00:00:00:00:00:00:00:00:00:00:00:00:00:00:00:00:00:00:00:00:00:00:00:00:00:00:0000:00:00:00:00:00:00:00:00:00:00:00:00:00:00:00:00:00:00:00:00:00:00:00:00:00:00:00:00:00:00:00:00:00:00:00:00:00:00:00:00:00:00:00:00:00:00:00:00:00:00:00:00:00:00:00:00:00:00:00:00:00:00:00:00:00:00:00:00:00:00:00:00:00:00:00:00:00:00:00:00:00:00:00:00:00:00:00:00:00:00:00:00:00:00:00:00:00:00:00:00:00:00:00:00:00:00:00:00:00:00:00:00:00:00:00:00:00:00:00:00:00:00:00:00:00:00:00:00:00:00:00:00:00:00:00:00:00:00:00:00:00:00:00:02:44:44:44:44:44:44:4444:44:44:44:44:44:44:44:24:44:44:44:44:44:44:44:42:44:44:44:44:44:44:44:44:44:44:44:44:44:44:44:44:44:44:44:44:44:44:44:44:44:44:11:11:11:11:11:11:11:14:44:44:44:44:44:44:44:44:44:44:44:44:44:44:44:44:44:44:42:00:00:00:00:00:00:00:00:00:00:00:00:00:00:00:00:00:00:00:00:00:00:00:00:00:00:00:00:00:00:00:00:00:00:00:00:00:00:00:00:00:00:00:00:00:00:00:00:00:00:00:00:00:00:00:00:00:00:00:00:00:00:00:00:00:00:00:00:00:00:00:00:00:00:00:00:00:00:00:00:00:0000:00:00:00:00:00:00:00:00:00:00:00:00:00:00:00:00:00:00:00:00:00:00:00:00:00:00:00:00:00:00:00:00:00:00:00:00:00:00:00:00:00:00:00:00:00:00:00:00:00:00:00:00:00:00:00:00:00:00:00:00:00:00:00:00:00:00:00:00:00:00:00:00:00:00:00:00:00:00:00:00:00:00:00:00:00:00:00:00:00:00:00:02:44:44:44:44:44:44:44:44:44:44:44:44:44:44:44:24:44:44:44:44:44:44:44:42:44:44:44:44:44:44:44:44:44:44:44:44:44:44:44:44:44:44:44:44:44:44:44:44:44:44:11:11:11:11:11:11:11:14:4444:44:44:44:44:44:44:44:44:44:44:44:44:44:44:44:44:42:00:00:00:00:00:00:00:00:00:00:00:00:00:00:00:00:00:00:00:00:00:00:00:00:00:00:00:00:00:00:00:00:00:00:00:00:00:00:00:00:00:00:00:00:00:00:00:00:00:00:00:00:00:00:00:00:00:00:00:00:00:00:00:00:00:00:00:00:00:00:00:00:00:00:00:00:00:00:00:00:00:00:00:00:00:00:00:00:00:00:00:00:00:00:00:00:00:00:00:00:00:00:00:00:00:00:00:00:00:00:00:00:00:00:00:00:00:00:00:00:00:00:00:00:00:00:00:00:00:00:00:00:00:0000:00:00:00:00:00:00:00:00:00:00:00:00:00:00:00:00:00:00:00:00:00:00:00:00:00:00:00:00:00:00:00:00:00:00:00:00:00:00:00:02:44:44:44:44:44:44:44:44:44:44:44:44:44:44:44:24:44:44:44:44:44:44:44:42:44:44:44:44:44:44:44:44:44:44:44:44:44:44:44:44:44:44:44:44:44:44:44:44:44:44:11:11:11:11:11:11:11:14:44:44:44:44:44:44:44:44:44:44:44:44:44:44:44:44:44:44:42:00:00:00:00:00:00:00:00:00:00:00:00:00:00:00:00:00:00:00:00:00:00:00:00:00:00:00:00:00:00:00:00:00:0000:00:00:00:00:00:00:00:00:00:00:00:00:00:00:00:00:00:00:00:00:00:00:00:00:00:00:00:00:00:00:00:00:00:00:00:00:00:00:00:00:00:00:00:00:00:00:00:00:00:00:00:00:00:00:00:00:00:00:00:00:00:00:00:00:00:00:00:00:00:00:00:00:00:00:00:00:00:00:00:00:00:00:00:00:00:00:00:00:00:00:00:00:00:00:00:00:00:00:00:00:00:00:00:00:00:00:00:00:00:00:00:00:00:00:00:00:00:00:00:00:00:00:00:00:00:00:00:00:00:00:00:00:00:00:00:00:00:00:00:02:44:44:44:44:44:44:44:44:44:44:4444:44:44:44:24:44:44:44:44:44:44:44:42:44:44:44:44:44:44:44:44:44:44:44:44:44:44:44:44:44:44:44:44:44:44:44:44:44:44:11:11:11:11:11:11:11:14:44:44:44:44:44:44:44:44:44:44:44:44:44:44:44:44:44:44:42:00:00:00:00:00:00:00:00:00:00:00:00:00:00:00:00:00:00:00:00:00:00:00:00:00:00:00:00:00:00:00:00:00:00:00:00:00:00:00:00:00:00:00:00:00:00:00:00:00:00:00:00:00:00:00:00:00:00:00:00:00:00:00:00:00:00:00:00:00:00:00:00:00:00:00:00:00:00:00:00:00:00:00:00:00:0000:00:00:00:00:00:00:00:00:00:00:00:00:00:00:00:00:00:00:00:00:00:00:00:00:00:00:00:00:00:00:00:00:00:00:00:00:00:00:00:00:00:00:00:00:00:00:00:00:00:00:00:00:00:00:00:00:00:00:00:00:00:00:00:00:00:00:00:00:00:00:00:00:00:00:00:00:00:00:00:00:00:00:00:00:00:00:00:02:44:44:44:44:44:44:44:44:44:44:44:44:44:44:44:24:44:44:44:44:44:44:44:42:44:44:44:44:44:44:44:44:44:44:44:44:44:44:44:44:44:44:44:44:44:44:44:44:44:44:11:11:11:11:11:11:11:14:44:44:44:44:4444:44:44:44:44:44:44:44:44:44:44:44:44:42:00:00:00:00:00:00:00:00:00:00:00:00:00:00:00:00:00:00:00:00:00:00:00:00:00:00:00:00:00:00:00:00:00:00:00:00:00:00:00:00:00:00:00:00:00:00:00:00:00:00:00:00:00:00:00:00:00:00:00:00:00:00:00:00:00:00:00:00:00:00:00:00:00:00:00:00:00:00:00:00:00:00:00:00:00:00:00:00:00:00:00:00:00:00:00:00:00:00:00:00:00:00:00:00:00:00:00:00:00:00:00:00:00:00:00:00:00:00:00:00:00:00:00:00:00:00:00:00:00:00:00:00:00:00:00:00:00:0000:00:00:00:00:00:00:00:00:00:00:00:00:00:00:00:00:00:00:00:00:00:00:00:00:00:00:00:00:00:00:00:00:00:00:00:02:44:44:44:44:44:44:44:44:44:44:44:44:44:44:44:24:44:44:44:44:44:44:44:42:22:22:22:22:22:22:22:22:22:22:22:22:22:22:22:22:22:22:22:22:22:22:22:22:22:22:11:11:11:11:11:11:11:14:44:44:44:44:44:44:44:44:44:44:44:44:44:44:44:44:44:44:42:00:00:00:00:00:00:00:00:00:00:00:00:00:00:00:00:00:00:00:00:00:00:00:00:00:00:00:00:00:00:00:00:00:00:00:00:00:0000:00:00:00:00:00:00:00:00:00:00:00:00:00:00:00:00:00:00:00:00:00:00:00:00:00:00:00:00:00:00:00:00:00:00:00:00:00:00:00:00:00:00:00:00:00:00:00:00:00:00:00:00:00:00:00:00:00:00:00:00:00:00:00:00:00:00:00:00:00:00:00:00:00:00:00:00:00:00:00:00:00:00:00:00:00:00:00:00:00:00:00:00:00:00:00:00:00:00:00:00:00:00:00:00:00:00:00:00:00:00:00:00:00:00:00:00:00:00:00:00:00:00:00:00:00:00:00:00:00:00:00:00:00:00:00:02:44:44:44:44:44:44:44:44:44:44:44:44:44:44:4424:44:44:44:44:44:44:44:42:44:44:44:44:44:44:44:44:44:44:44:44:44:44:44:44:44:44:44:44:44:44:44:44:44:44:11:11:11:11:11:11:11:14:44:44:44:44:44:44:44:44:44:44:44:44:44:44:44:44:44:44:42:00:00:00:00:00:00:00:00:00:00:00:00:00:00:00:00:00:00:00:00:00:00:00:00:00:00:00:00:00:00:00:00:00:00:00:00:00:00:00:00:00:00:00:00:00:00:00:00:00:00:00:00:00:00:00:00:00:00:00:00:00:00:00:00:00:00:00:00:00:00:00:00:00:00:00:00:00:00:00:00:00:00:00:00:00:00:00:00:00:0000:00:00:00:00:00:00:00:00:00:00:00:00:00:00:00:00:00:00:00:00:00:00:00:00:00:00:00:00:00:00:00:00:00:00:00:00:00:00:00:00:00:00:00:00:00:00:00:00:00:00:00:00:00:00:00:00:00:00:00:00:00:00:00:00:00:00:00:00:00:00:00:00:00:00:00:00:00:00:00:00:00:00:00:02:44:44:44:44:44:44:44:44:44:44:44:44:44:44:44:24:44:44:44:44:44:44:44:42:44:44:44:44:44:44:44:44:44:44:44:44:44:44:44:44:44:44:44:44:44:44:44:44:44:44:11:11:11:11:11:11:11:14:44:44:44:44:44:44:44:44:4444:44:44:44:44:44:44:44:44:42:00:00:00:00:00:00:00:00:00:00:00:00:00:00:00:00:00:00:00:00:00:00:00:00:00:00:00:00:00:00:00:00:00:00:00:00:00:00:00:00:00:00:00:00:00:00:00:00:00:00:00:00:00:00:00:00:00:00:00:00:00:00:00:00:00:00:00:00:00:00:00:00:00:00:00:00:00:00:00:00:00:00:00:00:00:00:00:00:00:00:00:00:00:00:00:00:00:00:00:00:00:00:00:00:00:00:00:00:00:00:00:00:00:00:00:00:00:00:00:00:00:00:00:00:00:00:00:00:00:00:00:00:00:00:00:00:00:00:00:00:00:0000:00:00:00:00:00:00:00:00:00:00:00:00:00:00:00:00:00:00:00:00:00:00:00:00:00:00:00:00:00:00:00:02:44:44:44:44:44:44:44:44:44:44:44:44:44:44:44:24:44:44:44:44:44:44:44:42:44:44:44:44:44:44:44:44:44:44:44:44:44:44:44:44:44:44:44:44:44:44:44:44:44:44:11:11:11:11:11:11:11:14:44:44:44:44:44:44:44:44:44:44:44:44:44:44:44:44:44:44:42:00:00:00:00:00:00:00:00:00:00:00:00:00:00:00:00:00:00:00:00:00:00:00:00:00:00:00:00:00:00:00:00:00:00:00:00:00:00:00:00:00:0000:00:00:00:00:00:00:00:00:00:00:00:00:00:00:00:00:00:00:00:00:00:00:00:00:00:00:00:00:00:00:00:00:00:00:00:00:00:00:00:00:00:00:00:00:00:00:00:00:00:00:00:00:00:00:00:00:00:00:00:00:00:00:00:00:00:00:00:00:00:00:00:00:00:00:00:00:00:00:00:00:00:00:00:00:00:00:00:00:00:00:00:00:00:00:00:00:00:00:00:00:00:00:00:00:00:00:00:00:00:00:00:00:00:00:00:00:00:00:00:00:00:00:00:00:00:00:00:00:00:00:00:02:44:44:44:44:44:44:44:44:44:44:44:44:44:44:44:24:44:44:4444:44:44:44:42:44:44:44:44:44:44:44:44:44:44:44:44:44:44:44:44:44:44:44:44:44:44:44:44:44:44:11:11:11:11:11:11:11:14:44:44:44:44:44:44:44:44:44:44:44:44:44:44:44:44:44:44:42:00:00:00:00:00:00:00:00:00:00:00:00:00:00:00:00:00:00:00:00:00:00:00:00:00:00:00:00:00:00:00:00:00:00:00:00:00:00:00:00:00:00:00:00:00:00:00:00:00:00:00:00:00:00:00:00:00:00:00:00:00:00:00:00:00:00:00:00:00:00:00:00:00:00:00:00:00:00:00:00:00:00:00:00:00:00:00:00:00:00:00:00:00:0000:00:00:00:00:00:00:00:00:00:00:00:00:00:00:00:00:00:00:00:00:00:00:00:00:00:00:00:00:00:00:00:00:00:00:00:00:00:00:00:00:00:00:00:00:00:00:00:00:00:00:00:00:00:00:00:00:00:00:00:00:00:00:00:00:00:00:00:00:00:00:00:00:00:00:00:00:00:00:00:02:44:44:44:44:44:44:44:44:44:44:44:44:44:44:44:24:44:44:44:44:44:44:44:42:44:44:44:44:44:44:44:44:44:44:44:44:44:44:44:44:44:44:44:44:44:44:44:44:44:44:11:11:11:11:11:11:11:14:44:44:44:44:44:44:44:44:44:44:44:44:4444:44:44:44:44:42:00:00:00:00:00:00:00:00:00:00:00:00:00:00:00:00:00:00:00:00:00:00:00:00:00:00:00:00:00:00:00:00:00:00:00:00:00:00:00:00:00:00:00:00:00:00:00:00:00:00:00:00:00:00:00:00:00:00:00:00:00:00:00:00:00:00:00:00:00:00:00:00:00:00:00:00:00:00:00:00:00:00:00:00:00:00:00:00:00:00:00:00:00:00:00:00:00:00:00:00:00:00:00:00:00:00:00:00:00:00:00:00:00:00:00:00:00:00:00:00:00:00:00:00:00:00:00:00:00:00:00:00:00:00:00:00:00:00:00:00:00:00:00:00:00:0000:00:00:00:00:00:00:00:00:00:00:00:00:00:00:00:00:00:00:00:00:00:00:00:00:00:00:00:02:44:44:44:44:44:44:44:44:44:44:44:44:44:44:44:24:44:44:44:44:44:44:44:42:44:44:44:44:44:44:44:44:44:44:44:44:44:44:44:44:44:44:44:44:44:44:44:44:44:44:11:11:11:11:11:11:11:14:44:44:44:44:44:44:44:44:44:44:44:44:44:44:44:44:44:44:42:00:00:00:00:00:00:00:00:00:00:00:00:00:00:00:00:00:00:00:00:00:00:00:00:00:00:00:00:00:00:00:00:00:00:00:00:00:00:00:00:00:00:00:00:00:0000:00:00:00:00:00:00:00:00:00:00:00:00:00:00:00:00:00:00:00:00:00:00:00:00:00:00:00:00:00:00:00:00:00:00:00:00:00:00:00:00:00:00:00:00:00:00:00:00:00:00:00:00:00:00:00:00:00:00:00:00:00:00:00:00:00:00:00:00:00:00:00:00:00:00:00:00:00:00:00:00:00:00:00:00:00:00:00:00:00:00:00:00:00:00:00:00:00:00:00:00:00:00:00:00:00:00:00:00:00:00:00:00:00:00:00:00:00:00:00:00:00:00:00:00:00:00:00:02:44:44:44:44:44:44:44:44:44:44:44:44:44:44:44:24:44:44:44:44:44:44:4442:44:44:44:44:44:44:44:44:44:44:44:44:44:44:44:44:44:44:44:44:44:44:44:44:44:44:11:11:11:11:11:11:11:14:44:44:44:44:44:44:44:44:44:44:44:44:44:44:44:44:44:44:42:00:00:00:00:00:00:00:00:00:00:00:00:00:00:00:00:00:00:00:00:00:00:00:00:00:00:00:00:00:00:00:00:00:00:00:00:00:00:00:00:00:00:00:00:00:00:00:00:00:00:00:00:00:00:00:00:00:00:00:00:00:00:00:00:00:00:00:00:00:00:00:00:00:00:00:00:00:00:00:00:00:00:00:00:00:00:00:00:00:00:00:00:00:00:00:00:00:0000:00:00:00:00:00:00:00:00:00:00:00:00:00:00:00:00:00:00:00:00:00:00:00:00:00:00:00:00:00:00:00:00:00:00:00:00:00:00:00:00:00:00:00:00:00:00:00:00:00:00:00:00:00:00:00:00:00:00:00:00:00:00:00:00:00:00:00:00:00:00:00:00:00:00:00:02:44:44:44:44:44:44:44:44:44:44:44:44:44:44:44:24:44:44:44:44:44:44:44:42:44:44:44:44:44:44:44:44:44:44:44:44:44:44:44:44:44:44:44:44:44:44:44:44:44:44:11:11:11:11:11:11:11:14:44:44:44:44:44:44:44:44:44:44:44:44:44:44:44:44:4444:42:00:00:00:00:00:00:00:00:00:00:00:00:00:00:00:00:00:00:00:00:00:00:00:00:00:00:00:00:00:00:00:00:00:00:00:00:00:00:00:00:00:00:00:00:00:00:00:00:00:00:00:00:00:00:00:00:00:00:00:00:00:00:00:00:00:00:00:00:00:00:00:00:00:00:00:00:00:00:00:00:00:00:00:00:00:00:00:00:00:00:00:00:00:00:00:00:00:00:00:00:00:00:00:00:00:00:00:00:00:00:00:00:00:00:00:00:00:00:00:00:00:00:00:00:00:00:00:00:00:00:00:00:00:00:00:00:00:00:00:00:00:00:00:00:00:00:00:00:00:0000:00:00:00:00:00:00:00:00:00:00:00:00:00:00:00:00:00:00:00:00:00:00:00:02:44:44:44:44:44:44:44:44:44:44:44:44:44:44:44:24:44:44:44:44:44:44:44:42:22:22:22:22:22:22:22:22:22:22:22:22:22:22:22:22:22:22:22:22:22:22:22:22:22:22:11:11:11:11:11:11:11:14:44:44:44:44:44:44:44:44:44:44:44:44:44:44:44:44:44:44:42:00:00:00:00:00:00:00:00:00:00:00:00:00:00:00:00:00:00:00:00:00:00:00:00:00:00:00:00:00:00:00:00:00:00:00:00:00:00:00:00:00:00:00:00:00:00:00:00:00:0000:00:00:00:00:00:00:00:00:00:00:00:00:00:00:00:00:00:00:00:00:00:00:00:00:00:00:00:00:00:00:00:00:00:00:00:00:00:00:00:00:00:00:00:00:00:00:00:00:00:00:00:00:00:00:00:00:00:00:00:00:00:00:00:00:00:00:00:00:00:00:00:00:00:00:00:00:00:00:00:00:00:00:00:00:00:00:00:00:00:00:00:00:00:00:00:00:00:00:00:00:00:00:00:00:00:00:00:00:00:00:00:00:00:00:00:00:00:00:00:00:00:00:00:02:44:44:44:44:44:44:44:44:44:44:44:44:44:44:44:24:44:44:44:44:44:44:44:42:44:44:4444:44:44:44:44:44:44:44:44:44:44:44:44:44:44:44:44:44:44:44:44:44:44:11:11:11:11:11:11:11:14:44:44:44:44:44:44:44:44:44:44:44:44:44:44:44:44:44:44:42:00:00:00:00:00:00:00:00:00:00:00:00:00:00:00:00:00:00:00:00:00:00:00:00:00:00:00:00:00:00:00:00:00:00:00:00:00:00:00:00:00:00:00:00:00:00:00:00:00:00:00:00:00:00:00:00:00:00:00:00:00:00:00:00:00:00:00:00:00:00:00:00:00:00:00:00:00:00:00:00:00:00:00:00:00:00:00:00:00:00:00:00:00:00:00:00:00:00:00:00:00:0000:00:00:00:00:00:00:00:00:00:00:00:00:00:00:00:00:00:00:00:00:00:00:00:00:00:00:00:00:00:00:00:00:00:00:00:00:00:00:00:00:00:00:00:00:00:00:00:00:00:00:00:00:00:00:00:00:00:00:00:00:00:00:00:00:00:00:00:00:00:00:00:02:44:44:44:44:44:44:44:44:44:44:44:44:44:44:44:24:44:44:44:44:44:44:44:42:44:44:44:44:44:44:44:44:44:44:44:44:44:44:44:44:44:44:44:44:44:44:44:44:44:44:11:11:11:11:11:11:11:14:44:44:44:44:44:44:44:44:44:44:44:44:44:44:44:44:44:44:42:00:0000:00:00:00:00:00:00:00:00:00:00:00:00:00:00:00:00:00:00:00:00:00:00:00:00:00:00:00:00:00:00:00:00:00:00:00:00:00:00:00:00:00:00:00:00:00:00:00:00:00:00:00:00:00:00:00:00:00:00:00:00:00:00:00:00:00:00:00:00:00:00:00:00:00:00:00:00:00:00:00:00:00:00:00:00:00:00:00:00:00:00:00:00:00:00:00:00:00:00:00:00:00:00:00:00:00:00:00:00:00:00:00:00:00:00:00:00:00:00:00:00:00:00:00:00:00:00:00:00:00:00:00:00:00:00:00:00:00:00:00:00:00:00:00:00:00:00:00:00:00:00:0000:00:00:00:00:00:00:00:00:00:00:00:00:00:00:00:00:00:00:00:02:44:44:44:44:44:44:44:44:44:44:44:44:44:44:44:24:44:44:44:44:44:44:44:42:44:44:44:44:44:44:44:44:44:44:44:44:44:44:44:44:44:44:44:44:44:44:44:44:44:44:11:11:11:11:11:11:11:14:44:44:44:44:44:44:44:44:44:44:44:44:44:44:44:44:44:44:42:00:00:00:00:00:00:00:00:00:00:00:00:00:00:00:00:00:00:00:00:00:00:00:00:00:00:00:00:00:00:00:00:00:00:00:00:00:00:00:00:00:00:00:00:00:00:00:00:00:00:00:00:00:0000:00:00:00:00:00:00:00:00:00:00:00:00:00:00:00:00:00:00:00:00:00:00:00:00:00:00:00:00:00:00:00:00:00:00:00:00:00:00:00:00:00:00:00:00:00:00:00:00:00:00:00:00:00:00:00:00:00:00:00:00:00:00:00:00:00:00:00:00:00:00:00:00:00:00:00:00:00:00:00:00:00:00:00:00:00:00:00:00:00:00:00:00:00:00:00:00:00:00:00:00:00:00:00:00:00:00:00:00:00:00:00:00:00:00:00:00:00:00:00:02:44:44:44:44:44:44:44:44:44:44:44:44:44:44:44:24:44:44:44:44:44:44:44:42:44:44:44:44:44:44:4444:44:44:44:44:44:44:44:44:44:44:44:44:44:44:44:44:44:44:11:11:11:11:11:11:11:14:44:44:44:44:44:44:44:44:44:44:44:44:44:44:44:44:44:44:42:00:00:00:00:00:00:00:00:00:00:00:00:00:00:00:00:00:00:00:00:00:00:00:00:00:00:00:00:00:00:00:00:00:00:00:00:00:00:00:00:00:00:00:00:00:00:00:00:00:00:00:00:00:00:00:00:00:00:00:00:00:00:00:00:00:00:00:00:00:00:00:00:00:00:00:00:00:00:00:00:00:00:00:00:00:00:00:00:00:00:00:00:00:00:00:00:00:00:00:00:00:00:00:00:00:0000:00:00:00:00:00:00:00:00:00:00:00:00:00:00:00:00:00:00:00:00:00:00:00:00:00:00:00:00:00:00:00:00:00:00:00:00:00:00:00:00:00:00:00:00:00:00:00:00:00:00:00:00:00:00:00:00:00:00:00:00:00:00:00:00:00:00:00:02:44:44:44:44:44:44:44:44:44:44:44:44:44:44:44:24:44:44:44:44:44:44:44:42:44:44:44:44:44:44:44:44:44:44:44:44:44:44:44:44:44:44:44:44:44:44:44:44:44:44:11:11:11:11:11:11:11:14:44:44:44:44:44:44:44:44:44:44:44:44:44:44:44:44:44:44:42:00:00:00:00:00:0000:00:00:00:00:00:00:00:00:00:00:00:00:00:00:00:00:00:00:00:00:00:00:00:00:00:00:00:00:00:00:00:00:00:00:00:00:00:00:00:00:00:00:00:00:00:00:00:00:00:00:00:00:00:00:00:00:00:00:00:00:00:00:00:00:00:00:00:00:00:00:00:00:00:00:00:00:00:00:00:00:00:00:00:00:00:00:00:00:00:00:00:00:00:00:00:00:00:00:00:00:00:00:00:00:00:00:00:00:00:00:00:00:00:00:00:00:00:00:00:00:00:00:00:00:00:00:00:00:00:00:00:00:00:00:00:00:00:00:00:00:00:00:00:00:00:00:00:00:00:00:0000:00:00:00:00:00:00:00:00:00:00:00:00:00:00:02:22:44:44:44:44:44:44:44:44:44:44:44:44:44:44:44:24:44:44:44:44:44:44:44:42:44:44:44:44:44:44:44:44:44:44:44:44:44:44:44:44:44:44:44:44:44:44:44:44:44:44:11:11:11:11:11:11:11:14:44:44:44:44:44:44:44:44:44:44:44:44:44:44:44:44:44:44:42:00:00:00:00:00:00:00:00:00:00:00:00:00:00:00:00:00:00:00:00:00:00:00:00:00:00:00:00:00:00:00:00:00:00:00:00:00:00:00:00:00:00:00:00:00:00:00:00:00:00:00:00:00:00:00:00:00:0000:00:00:00:00:00:00:00:00:00:00:00:00:00:00:00:00:00:00:00:00:00:00:00:00:00:00:00:00:00:00:00:00:00:00:00:00:00:00:00:00:00:00:00:00:00:00:00:00:00:00:00:00:00:00:00:00:00:00:00:00:00:00:00:00:00:00:00:00:00:00:00:00:00:00:00:00:00:00:00:00:00:00:00:00:00:00:00:00:00:00:00:00:00:00:00:00:00:00:00:00:00:00:00:00:00:00:00:00:00:00:00:00:00:02:22:22:44:44:44:44:44:44:44:44:44:44:44:44:44:44:44:24:44:44:44:44:44:44:44:42:44:44:44:44:44:44:44:44:44:44:4444:44:44:44:44:44:44:44:44:44:44:44:44:44:44:11:11:11:11:11:11:11:14:44:44:44:44:44:44:44:44:44:44:44:44:44:44:44:44:44:44:42:00:00:00:00:00:00:00:00:00:00:00:00:00:00:00:00:00:00:00:00:00:00:00:00:00:00:00:00:00:00:00:00:00:00:00:00:00:00:00:00:00:00:00:00:00:00:00:00:00:00:00:00:00:00:00:00:00:00:00:00:00:00:00:00:00:00:00:00:00:00:00:00:00:00:00:00:00:00:00:00:00:00:00:00:00:00:00:00:00:00:00:00:00:00:00:00:00:00:00:00:00:00:00:00:00:00:00:00:00:0000:00:00:00:00:00:00:00:00:00:00:00:00:00:00:00:00:00:00:00:00:00:00:00:00:00:00:00:00:00:00:00:00:00:00:00:00:00:00:00:00:00:00:00:00:00:00:00:00:00:00:00:00:00:00:00:00:00:00:00:00:02:22:22:22:44:44:44:44:44:44:44:44:44:44:44:44:44:44:44:24:44:44:44:44:44:44:44:42:44:44:44:44:44:44:44:44:44:44:44:44:44:44:44:44:44:44:44:44:44:44:44:44:44:44:11:11:11:11:11:11:11:14:44:44:44:44:44:44:44:44:44:44:44:44:44:44:44:44:44:44:42:00:00:00:00:00:00:00:00:00:0000:00:00:00:00:00:00:00:00:00:00:00:00:00:00:00:00:00:00:00:00:00:00:00:00:00:00:00:00:00:00:00:00:00:00:00:00:00:00:00:00:00:00:00:00:00:00:00:00:00:00:00:00:00:00:00:00:00:00:00:00:00:00:00:00:00:00:00:00:00:00:00:00:00:00:00:00:00:00:00:00:00:00:00:00:00:00:00:00:00:00:00:00:00:00:00:00:00:00:00:00:00:00:00:00:00:00:00:00:00:00:00:00:00:00:00:00:00:00:00:00:00:00:00:00:00:00:00:00:00:00:00:00:00:00:00:00:00:00:00:00:00:00:00:00:00:00:00:00:00:00:0000:00:00:00:00:00:00:00:02:22:22:22:22:44:44:44:44:44:44:44:44:44:44:44:44:44:44:44:24:44:44:44:44:44:44:44:42:44:44:44:44:44:44:44:44:44:44:44:44:44:44:44:44:44:44:44:44:44:44:44:44:44:44:11:11:11:11:11:11:11:14:44:44:44:44:44:44:44:44:44:44:44:44:44:44:44:44:44:44:42:00:00:00:00:00:00:00:00:00:00:00:00:00:00:00:00:00:00:00:00:00:00:00:00:00:00:00:00:00:00:00:00:00:00:00:00:00:00:00:00:00:00:00:00:00:00:00:00:00:00:00:00:00:00:00:00:00:00:00:00:00:0000:00:00:00:00:00:00:00:00:00:00:00:00:00:00:00:00:00:00:00:00:00:00:00:00:00:00:00:00:00:00:00:00:00:00:00:00:00:00:00:00:00:00:00:00:00:00:00:00:00:00:00:00:00:00:00:00:00:00:00:00:00:00:00:00:00:00:00:00:00:00:00:00:00:00:00:00:00:00:00:00:00:00:00:00:00:00:00:00:00:00:00:00:00:00:00:00:00:00:00:00:00:00:00:00:00:00:00:22:22:22:22:22:44:44:44:44:44:44:44:44:44:44:44:44:44:44:44:24:44:44:44:44:44:44:44:42:44:44:44:44:44:44:44:44:44:44:44:44:44:44:4444:44:44:44:44:44:44:44:44:44:44:11:11:11:11:11:11:11:14:44:44:44:44:44:44:44:44:44:44:44:44:44:44:44:44:44:44:42:00:00:00:00:00:00:00:00:00:00:00:00:00:00:00:00:00:00:00:00:00:00:00:00:00:00:00:00:00:00:00:00:00:00:00:00:00:00:00:00:00:00:00:00:00:00:00:00:00:00:00:00:00:00:00:00:00:00:00:00:00:00:00:00:00:00:00:00:00:00:00:00:00:00:00:00:00:00:00:00:00:00:00:00:00:00:00:00:00:00:00:00:00:00:00:00:00:00:00:00:00:00:00:00:00:00:00:00:00:00:00:00:00:0000:00:00:00:00:00:00:00:00:00:00:00:00:00:00:00:00:00:00:00:00:00:00:00:00:00:00:00:00:00:00:00:00:00:00:00:00:00:00:00:00:00:00:00:00:00:00:00:00:00:00:00:00:00:00:00:22:22:22:22:22:44:44:44:44:44:44:44:44:44:44:44:44:44:44:44:24:44:44:44:44:44:44:44:42:44:44:44:44:44:44:44:44:44:44:44:44:44:44:44:44:44:44:44:44:44:44:44:44:44:44:11:11:11:11:11:11:11:14:44:44:44:44:44:44:44:44:44:44:44:44:44:44:44:44:44:44:42:00:00:00:00:00:00:00:00:00:00:00:00:00:0000:00:00:00:00:00:00:00:00:00:00:00:00:00:00:00:00:00:00:00:00:00:00:00:00:00:00:00:00:00:00:00:00:00:00:00:00:00:00:00:00:00:00:00:00:00:00:00:00:00:00:00:00:00:00:00:00:00:00:00:00:00:00:00:00:00:00:00:00:00:00:00:00:00:00:00:00:00:00:00:00:00:00:00:00:00:00:00:00:00:00:00:00:00:00:00:00:00:00:00:00:00:00:00:00:00:00:00:00:00:00:00:00:00:00:00:00:00:00:00:00:00:00:00:00:00:00:00:00:00:00:00:00:00:00:00:00:00:00:00:00:00:00:00:00:00:00:00:00:00:00:0000:00:00:00:22:22:22:22:22:44:44:44:44:44:44:44:44:44:44:44:44:44:44:44:24:44:44:44:44:44:44:44:42:44:44:44:44:44:44:44:44:44:44:44:44:44:44:44:44:44:44:44:44:44:44:44:44:44:44:11:11:11:11:11:11:11:14:44:44:44:44:44:44:44:44:44:44:44:44:44:44:44:44:44:44:42:00:00:00:00:00:00:00:00:00:00:00:00:00:00:00:00:00:00:00:00:00:00:00:00:00:00:00:00:00:00:00:00:00:00:00:00:00:00:00:00:00:00:00:00:00:00:00:00:00:00:00:00:00:00:00:00:00:00:00:00:00:00:00:00:00:0000:00:00:00:00:00:00:00:00:00:00:00:00:00:00:00:00:00:00:00:00:00:00:00:00:00:00:00:00:00:00:00:00:00:00:00:00:00:00:00:00:00:00:00:00:00:00:00:00:00:00:00:00:00:00:00:00:00:00:00:00:00:00:00:00:00:00:00:00:00:00:00:00:00:00:00:00:00:00:00:00:00:00:00:00:00:00:00:00:00:00:00:00:00:00:00:00:00:00:00:00:00:00:22:22:22:22:20:02:44:44:44:44:44:44:44:44:44:44:44:44:44:44:44:24:44:44:44:44:44:44:44:42:44:44:44:44:44:44:44:44:44:44:44:44:44:44:44:44:44:44:4444:44:44:44:44:44:44:11:11:11:11:11:11:11:14:44:44:44:44:44:44:44:44:44:44:44:44:44:44:44:44:44:44:42:00:00:00:00:00:00:00:00:00:00:00:00:00:00:00:00:00:00:00:00:00:00:00:00:00:00:00:00:00:00:00:00:00:00:00:00:00:00:00:00:00:00:00:00:00:00:00:00:00:00:00:00:00:00:00:00:00:00:00:00:00:00:00:00:00:00:00:00:00:00:00:00:00:00:00:00:00:00:00:00:00:00:00:00:00:00:00:00:00:00:00:00:00:00:00:00:00:00:00:00:00:00:00:00:00:00:00:00:00:00:00:00:00:00:00:00:00:0000:00:00:00:00:00:00:00:00:00:00:00:00:00:00:00:00:00:00:00:00:00:00:00:00:00:00:00:00:00:00:00:00:00:00:00:00:00:00:00:00:00:00:00:00:00:00:00:00:00:22:22:22:22:20:00:02:44:44:44:44:44:44:44:44:44:44:44:44:44:44:44:24:44:44:44:44:44:44:44:42:44:44:44:44:44:44:44:44:44:44:44:44:44:44:44:44:44:44:44:44:44:44:44:44:44:44:11:11:11:11:11:11:11:14:44:44:44:44:44:44:44:44:44:44:44:44:44:44:44:44:44:44:42:00:00:00:00:00:00:00:00:00:00:00:00:00:00:00:00:00:0000:00:00:00:00:00:00:00:00:00:00:00:00:00:00:00:00:00:00:00:00:00:00:00:00:00:00:00:00:00:00:00:00:00:00:00:00:00:00:00:00:00:00:00:00:00:00:00:00:00:00:00:00:00:00:00:00:00:00:00:00:00:00:00:00:00:00:00:00:00:00:00:00:00:00:00:00:00:00:00:00:00:00:00:00:00:00:00:00:00:00:00:00:00:00:00:00:00:00:00:00:00:00:00:00:00:00:00:00:00:00:00:00:00:00:00:00:00:00:00:00:00:00:00:00:00:00:00:00:00:00:00:00:00:00:00:00:00:00:00:00:00:00:00:00:00:00:00:00:22:22:2222:20:00:00:02:44:44:44:44:44:44:44:44:44:44:44:44:44:44:44:24:44:44:44:44:44:44:44:42:44:44:44:44:44:44:44:44:44:44:44:44:44:44:44:44:44:44:44:44:44:44:44:44:44:44:11:11:11:11:11:11:11:14:44:44:44:44:44:44:44:44:44:44:44:44:44:44:44:44:44:44:42:00:00:00:00:00:00:00:00:00:00:00:00:00:00:00:00:00:00:00:00:00:00:00:00:00:00:00:00:00:00:00:00:00:00:00:00:00:00:00:00:00:00:00:00:00:00:00:00:00:00:00:00:00:00:00:00:00:00:00:00:00:00:00:00:00:00:00:00:00:0000:00:00:00:00:00:00:00:00:00:00:00:00:00:00:00:00:00:00:00:00:00:00:00:00:00:00:00:00:00:00:00:00:00:00:00:00:00:00:00:00:00:00:00:00:00:00:00:00:00:00:00:00:00:00:00:00:00:00:00:00:00:00:00:00:00:00:00:00:00:00:00:00:00:00:00:00:00:00:00:00:00:00:00:00:00:00:00:00:00:00:00:00:00:00:00:22:22:22:22:20:00:00:00:02:44:44:44:44:44:44:44:44:44:44:44:44:44:44:44:24:44:44:44:44:44:44:44:42:44:44:44:44:44:44:44:44:44:44:44:44:44:44:44:44:44:44:44:44:44:44:4444:44:44:11:11:11:11:11:11:11:14:44:44:44:44:44:44:44:44:44:44:44:44:44:44:44:44:44:44:42:00:00:00:00:00:00:00:00:00:00:00:00:00:00:00:00:00:00:00:00:00:00:00:00:00:00:00:00:00:00:00:00:00:00:00:00:00:00:00:00:00:00:00:00:00:00:00:00:00:00:00:00:00:00:00:00:00:00:00:00:00:00:00:00:00:00:00:00:00:00:00:00:00:00:00:00:00:00:00:00:00:00:00:00:00:00:00:00:00:00:00:00:00:00:00:00:00:00:00:00:00:00:00:00:00:00:00:00:00:00:00:00:00:00:00:00:00:00:00:00:00:0000:00:00:00:00:00:00:00:00:00:00:00:00:00:00:00:00:00:00:00:00:00:00:00:00:00:00:00:00:00:00:00:00:00:00:00:00:00:00:00:00:00:00:22:22:22:22:20:00:00:00:00:02:44:44:44:44:44:44:44:44:44:44:44:44:44:44:44:24:44:44:44:44:44:44:44:42:44:44:44:44:44:44:44:44:44:44:44:44:44:44:44:44:44:44:44:44:44:44:44:44:44:44:11:11:11:11:11:11:11:14:44:44:44:44:44:44:44:44:44:44:44:44:44:44:44:44:44:44:42:00:00:00:00:00:00:00:00:00:00:00:00:00:00:00:00:00:00:00:00:00:0000:00:00:00:00:00:00:00:00:00:00:00:00:00:00:00:00:00:00:00:00:00:00:00:00:00:00:00:00:00:00:00:00:00:00:00:00:00:00:00:00:00:00:00:00:00:00:00:00:00:00:00:00:00:00:00:00:00:00:00:00:00:00:00:00:00:00:00:00:00:00:00:00:00:00:00:00:00:00:00:00:00:00:00:00:00:00:00:00:00:00:00:00:00:00:00:00:00:00:00:00:00:00:00:00:00:00:00:00:00:00:00:00:00:00:00:00:00:00:00:00:00:00:00:00:00:00:00:00:00:00:00:00:00:00:00:00:00:00:00:00:00:00:22:22:22:20:00:00:00:00:0002:22:22:22:22:22:22:22:22:22:22:22:22:22:22:22:22:22:22:22:22:22:22:22:22:22:22:22:22:22:22:22:22:22:22:22:22:22:22:22:22:22:22:22:22:22:22:22:22:22:22:11:11:11:11:11:11:11:14:44:44:44:44:44:44:44:44:44:44:44:44:44:44:44:44:44:44:42:00:00:00:00:00:00:00:00:00:00:00:00:00:00:00:00:00:00:00:00:00:00:00:00:00:00:00:00:00:00:00:00:00:00:00:00:00:00:00:00:00:00:00:00:00:00:00:00:00:00:00:00:00:00:00:00:00:00:00:00:00:00:00:00:00:00:00:00:00:00:00:00:00:0000:00:00:00:00:00:00:00:00:00:00:00:00:00:00:00:00:00:00:00:00:00:00:00:00:00:00:00:00:00:00:00:00:00:00:00:00:00:00:00:00:00:00:00:00:00:00:00:00:00:00:00:00:00:00:00:00:00:00:00:00:00:00:00:00:00:00:00:00:00:00:00:00:00:00:00:00:00:00:00:00:00:00:00:00:00:00:00:00:00:00:22:22:20:00:00:00:00:00:00:02:44:44:44:44:44:44:44:44:44:44:44:44:44:44:44:24:44:44:44:44:44:44:44:42:44:44:44:44:44:44:44:44:44:44:44:44:44:44:44:44:44:44:44:44:44:44:44:44:44:44:1111:11:11:11:11:11:12:22:22:22:22:22:22:22:22:22:22:22:22:22:22:22:22:22:22:22:00:00:00:00:00:00:00:00:00:00:00:00:00:00:00:00:00:00:00:00:00:00:00:00:00:00:00:00:00:00:00:00:00:00:00:00:00:00:00:00:00:00:00:00:00:00:00:00:00:00:00:00:00:00:00:00:00:00:00:00:00:00:00:00:00:00:00:00:00:00:00:00:00:00:00:00:00:00:00:00:00:00:00:00:00:00:00:00:00:00:00:00:00:00:00:00:00:00:00:00:00:00:00:00:00:00:00:00:00:00:00:00:00:00:00:00:00:00:00:00:00:00:00:00:00:0000:00:00:00:00:00:00:00:00:00:00:00:00:00:00:00:00:00:00:00:00:00:00:00:00:00:00:00:00:00:00:00:00:00:00:00:00:00:00:02:20:00:00:00:00:00:00:00:02:44:44:44:44:44:44:44:44:44:44:44:44:44:44:44:24:44:44:44:44:44:44:44:42:44:44:44:44:44:44:44:44:44:44:44:44:44:44:44:44:44:44:44:44:44:44:44:44:44:44:11:11:11:11:11:11:11:10:00:00:00:00:00:00:00:00:00:00:00:00:00:00:00:00:00:00:00:00:00:00:00:00:00:00:00:00:00:00:00:00:00:00:00:00:00:00:00:00:00:00:00:00:0000:00:00:00:00:00:00:00:00:00:00:00:00:00:00:00:00:00:00:00:00:00:00:00:00:00:00:00:00:00:00:00:00:00:00:00:00:00:00:00:00:00:00:00:00:00:00:00:00:00:00:00:00:00:00:00:00:00:00:00:00:00:00:00:00:00:00:00:00:00:00:00:00:00:00:00:00:00:00:00:00:00:00:00:00:00:00:00:00:00:00:00:00:00:00:00:00:00:00:00:00:00:00:00:00:00:00:00:00:00:00:00:00:00:00:00:00:00:00:00:00:00:00:00:00:00:00:00:00:00:00:00:00:00:00:00:00:00:00:00:00:00:00:00:00:00:00:00:02:44:44:4444:44:44:44:44:44:44:44:44:44:44:44:24:44:44:44:44:44:44:44:42:44:44:44:44:44:44:44:44:44:44:44:44:44:44:44:44:44:44:44:44:44:44:44:44:44:44:11:11:11:11:11:11:11:10:00:00:00:00:00:00:00:00:00:00:00:00:00:00:00:00:00:00:00:00:00:00:00:00:00:00:00:00:00:00:00:00:00:00:00:00:00:00:00:00:00:00:00:00:00:00:00:00:00:00:00:00:00:00:00:00:00:00:00:00:00:00:00:00:00:00:00:00:00:00:00:00:00:00:00:00:00:00:00:00:00:00:00:00:00:00:00:00:00:00:00:00:00:00:00:00:0000:00:00:00:00:00:00:00:00:00:00:00:00:00:00:00:00:00:00:00:00:00:00:00:00:00:00:00:00:00:00:00:00:00:00:00:00:00:00:00:00:00:00:00:00:00:00:00:00:00:00:00:00:00:00:00:00:00:00:00:00:00:00:00:00:00:00:00:00:00:00:00:00:00:00:00:00:00:00:00:00:00:00:00:00:00:00:00:00:00:00:00:00:00:00:00:02:44:44:44:44:44:44:44:44:44:44:44:44:44:44:44:24:44:44:44:44:44:44:44:42:44:44:44:44:44:44:44:44:44:44:44:44:44:44:44:44:44:44:44:44:44:44:44:44:44:44:11:11:11:11:1111:11:10:00:00:00:00:00:00:00:00:00:00:00:00:00:00:00:00:00:00:00:00:00:00:00:00:00:00:00:00:00:00:00:00:00:00:00:00:00:00:00:00:00:00:00:00:00:00:00:00:00:00:00:00:00:00:00:00:00:00:00:00:00:00:00:00:00:00:00:00:00:00:00:00:00:00:00:00:00:00:00:00:00:00:00:00:00:00:00:00:00:00:00:00:00:00:00:00:00:00:00:00:00:00:00:00:00:00:00:00:00:00:00:00:00:00:00:00:00:00:00:00:00:00:00:00:00:00:00:00:00:00:00:00:00:00:00:00:00:00:00:00:00:00:00:00:00:00:00:00:0000:00:00:00:00:00:00:00:00:00:00:00:00:00:00:00:00:00:00:00:00:00:00:00:00:00:00:00:00:00:00:00:00:00:00:00:00:00:00:00:00:00:00:00:02:44:44:44:44:44:44:44:44:44:44:44:44:44:44:44:24:44:44:44:44:44:44:44:42:44:44:44:44:44:44:44:44:44:44:44:44:44:44:44:44:44:44:44:44:44:44:44:44:44:44:11:11:11:11:11:11:11:10:00:00:00:00:00:00:00:00:00:00:00:00:00:00:00:00:00:00:00:00:00:00:00:00:00:00:00:00:00:00:00:00:00:00:00:00:00:00:00:00:00:00:00:00:00:00:00:00:0000:00:00:00:00:00:00:00:00:00:00:00:00:00:00:00:00:00:00:00:00:00:00:00:00:00:00:00:00:00:00:00:00:00:00:00:00:00:00:00:00:00:00:00:00:00:00:00:00:00:00:00:00:00:00:00:00:00:00:00:00:00:00:00:00:00:00:00:00:00:00:00:00:00:00:00:00:00:00:00:00:00:00:00:00:00:00:00:00:00:00:00:00:00:00:00:00:00:00:00:00:00:00:00:00:00:00:00:00:00:00:00:00:00:00:00:00:00:00:00:00:00:00:00:00:00:00:00:00:00:00:00:00:00:00:00:00:00:00:00:00:00:00:02:22:44:44:44:44:44:44:4444:44:44:44:44:44:44:44:24:44:44:44:44:44:44:44:42:44:44:44:44:44:44:44:44:44:44:44:44:44:44:44:44:44:44:44:44:44:44:44:44:44:44:11:11:11:11:11:11:11:10:00:00:00:00:00:00:00:00:00:00:00:00:00:00:00:00:00:00:00:00:00:00:00:00:00:00:00:00:00:00:00:00:00:00:00:00:00:00:00:00:00:00:00:00:00:00:00:00:00:00:00:00:00:00:00:00:00:00:00:00:00:00:00:00:00:00:00:00:00:00:00:00:00:00:00:00:00:00:00:00:00:00:00:00:00:00:00:00:00:00:00:00:00:00:00:00:00:00:00:00:0000:00:00:00:00:00:00:00:00:00:00:00:00:00:00:00:00:00:00:00:00:00:00:00:00:00:00:00:00:00:00:00:00:00:00:00:00:00:00:00:00:00:00:00:00:00:00:00:00:00:00:00:00:00:00:00:00:00:00:00:00:00:00:00:00:00:00:00:00:00:00:00:00:00:00:00:00:00:00:00:00:00:00:00:00:00:00:00:00:00:00:22:22:44:44:44:44:44:44:44:44:44:44:44:44:44:44:44:24:44:44:44:44:44:44:44:42:44:44:44:44:44:44:44:44:44:44:44:44:44:44:44:44:44:44:44:44:44:44:44:44:44:44:11:11:11:11:11:11:11:10:0000:00:00:00:00:00:00:00:00:00:00:00:00:00:00:00:00:00:00:00:00:00:00:00:00:00:00:00:00:00:00:00:00:00:00:00:00:00:00:00:00:00:00:00:00:00:00:00:00:00:00:00:00:00:00:00:00:00:00:00:00:00:00:00:00:00:00:00:00:00:00:00:00:00:00:00:00:00:00:00:00:00:00:00:00:00:00:00:00:00:00:00:00:00:00:00:00:00:00:00:00:00:00:00:00:00:00:00:00:00:00:00:00:00:00:00:00:00:00:00:00:00:00:00:00:00:00:00:00:00:00:00:00:00:00:00:00:00:00:00:00:00:00:00:00:00:00:00:00:00:00:0000:00:00:00:00:00:00:00:00:00:00:00:00:00:00:00:00:00:00:00:00:00:00:00:00:00:00:00:00:00:00:00:00:00:00:00:00:00:02:22:22:44:44:44:44:44:44:44:44:44:44:44:44:44:44:44:24:44:44:44:44:44:44:44:42:44:44:44:44:44:44:44:44:44:44:44:44:44:44:44:44:44:44:44:44:44:44:44:44:44:44:11:11:11:11:11:11:11:10:00:00:00:00:00:00:00:00:00:00:00:00:00:00:00:00:00:00:00:00:00:00:00:00:00:00:00:00:00:00:00:00:00:00:00:00:00:00:00:00:00:00:00:00:00:00:00:00:00:00:00:00:0000:00:00:00:00:00:00:00:00:00:00:00:00:00:00:00:00:00:00:00:00:00:00:00:00:00:00:00:00:00:00:00:00:00:00:00:00:00:00:00:00:00:00:00:00:00:00:00:00:00:00:00:00:00:00:00:00:00:00:00:00:00:00:00:00:00:00:00:00:00:00:00:00:00:00:00:00:00:00:00:00:00:00:00:00:00:00:00:00:00:00:00:00:00:00:00:00:00:00:00:00:00:00:00:00:00:00:00:00:00:00:00:00:00:00:00:00:00:00:00:00:00:00:00:00:00:00:00:00:00:00:00:00:00:00:00:00:00:22:22:22:44:44:44:44:44:44:44:44:44:44:4444:44:44:44:24:44:44:44:44:44:44:44:42:44:44:44:44:44:44:44:44:44:44:44:44:44:44:44:44:44:44:44:44:44:44:44:44:44:44:11:11:11:11:11:11:11:12:22:00:00:00:00:00:00:00:00:00:00:00:00:00:00:00:00:00:00:00:00:00:00:00:00:00:00:00:00:00:00:00:00:00:00:00:00:00:00:00:00:00:00:00:00:00:00:00:00:00:00:00:00:00:00:00:00:00:00:00:00:00:00:00:00:00:00:00:00:00:00:00:00:00:00:00:00:00:00:00:00:00:00:00:00:00:00:00:00:00:00:00:00:00:00:00:00:00:00:00:00:00:00:00:0000:00:00:00:00:00:00:00:00:00:00:00:00:00:00:00:00:00:00:00:00:00:00:00:00:00:00:00:00:00:00:00:00:00:00:00:00:00:00:00:00:00:00:00:00:00:00:00:00:00:00:00:00:00:00:00:00:00:00:00:00:00:00:00:00:00:00:00:00:00:00:00:00:00:00:00:00:00:00:00:00:00:00:00:00:11:22:22:22:44:44:44:44:44:44:44:44:44:44:44:44:44:44:44:24:44:44:44:44:44:44:44:42:44:44:44:44:44:44:44:44:44:44:44:44:44:44:44:44:44:44:44:44:44:44:44:44:44:44:11:11:11:11:11:11:11:14:44:22:20:00:0000:00:00:00:00:00:00:00:00:00:00:00:00:00:00:00:00:00:00:00:00:00:00:00:00:00:00:00:00:00:00:00:00:00:00:00:00:00:00:00:00:00:00:00:00:00:00:00:00:00:00:00:00:00:00:00:00:00:00:00:00:00:00:00:00:00:00:00:00:00:00:00:00:00:00:00:00:00:00:00:00:00:00:00:00:00:00:00:00:00:00:00:00:00:00:00:00:00:00:00:00:00:00:00:00:00:00:00:00:00:00:00:00:00:00:00:00:00:00:00:00:00:00:00:00:00:00:00:00:00:00:00:00:00:00:00:00:00:00:00:00:00:00:00:00:00:00:00:00:00:00:0000:00:00:00:00:00:00:00:00:00:00:00:00:00:00:00:00:00:00:00:00:00:00:00:00:00:00:00:00:00:00:00:11:11:22:22:22:44:44:44:44:44:44:44:44:44:44:44:44:44:44:44:24:44:44:44:44:44:44:44:42:44:44:44:44:44:44:44:44:44:44:44:44:44:44:44:44:44:44:44:44:44:44:44:44:44:44:11:11:11:11:11:11:11:14:44:44:42:22:00:00:00:00:00:00:00:00:00:00:00:00:00:00:00:00:00:00:00:00:00:00:00:00:00:00:00:00:00:00:00:00:00:00:00:00:00:00:00:00:00:00:00:00:00:00:00:00:00:00:00:00:0000:00:00:00:00:00:00:00:00:00:00:00:00:00:00:00:00:00:00:00:00:00:00:00:00:00:00:00:00:00:00:00:00:00:00:00:00:00:00:00:00:00:00:00:00:00:00:00:00:00:00:00:00:00:00:00:00:00:00:00:00:00:00:00:00:00:00:00:00:00:00:00:00:00:00:00:00:00:00:00:00:00:00:00:00:00:00:00:00:00:00:00:00:00:00:00:00:00:00:00:00:00:00:00:00:00:00:00:00:00:00:00:00:00:00:00:00:00:00:00:00:00:00:00:00:00:00:00:00:00:00:11:11:11:22:22:22:44:44:44:44:44:44:44:44:44:44:44:44:44:44:4424:44:44:44:44:44:44:44:42:44:44:44:44:44:44:44:44:44:44:44:44:44:44:44:44:44:44:44:44:44:44:44:44:44:44:11:11:11:11:11:11:11:12:22:44:44:44:22:20:00:00:00:00:00:00:00:00:00:00:00:00:00:00:00:00:00:00:00:00:00:00:00:00:00:00:00:00:00:00:00:00:00:00:00:00:00:00:00:00:00:00:00:00:00:00:00:00:00:00:00:00:00:00:00:00:00:00:00:00:00:00:00:00:00:00:00:00:00:00:00:00:00:00:00:00:00:00:00:00:00:00:00:00:00:00:00:00:00:00:00:00:00:00:00:00:00:00:00:00:00:00:0000:00:00:00:00:00:00:00:00:00:00:00:00:00:00:00:00:00:00:00:00:00:00:00:00:00:00:00:00:00:00:00:00:00:00:00:00:00:00:00:00:00:00:00:00:00:00:00:00:00:00:00:00:00:00:00:00:00:00:00:00:00:00:00:00:00:00:00:00:00:00:00:00:00:00:00:00:00:11:11:11:12:22:22:22:44:44:44:44:44:44:44:44:44:44:44:44:44:44:44:24:44:44:44:44:44:44:44:42:44:44:44:44:44:44:44:44:44:44:44:44:44:44:44:44:44:44:44:44:44:44:44:44:44:44:11:11:11:11:11:11:11:10:00:22:24:44:44:42:22:00:0000:00:00:00:00:00:00:00:00:00:00:00:00:00:00:00:00:00:00:00:00:00:00:00:00:00:00:00:00:00:00:00:00:00:00:00:00:00:00:00:00:00:00:00:00:00:00:00:00:00:00:00:00:00:00:00:00:00:00:00:00:00:00:00:00:00:00:00:00:00:00:00:00:00:00:00:00:00:00:00:00:00:00:00:00:00:00:00:00:00:00:00:00:00:00:00:00:00:00:00:00:00:00:00:00:00:00:00:00:00:00:00:00:00:00:00:00:00:00:00:00:00:00:00:00:00:00:00:00:00:00:00:00:00:00:00:00:00:00:00:00:00:00:00:00:00:00:00:00:00:00:0000:00:00:00:00:00:00:00:00:00:00:00:00:00:00:00:00:00:00:00:00:00:00:00:00:11:11:11:11:12:22:22:22:44:44:44:44:44:44:44:44:44:44:44:44:44:44:44:24:44:44:44:44:44:44:44:42:44:44:44:44:44:44:44:44:44:44:44:44:44:44:44:44:44:44:44:44:44:44:44:44:44:44:11:11:11:11:11:11:11:10:00:00:02:22:44:44:44:20:00:00:00:00:00:00:00:00:00:00:00:00:00:00:00:00:00:00:00:00:00:00:00:00:00:00:00:00:00:00:00:00:00:00:00:00:00:00:00:00:00:00:00:00:00:00:00:00:00:00:00:00:0000:00:00:00:00:00:00:00:00:00:00:00:00:00:00:00:00:00:00:00:00:00:00:00:00:00:00:00:00:00:00:00:00:00:00:00:00:00:00:00:00:00:00:00:00:00:00:00:00:00:00:00:00:00:00:00:00:00:00:00:00:00:00:00:00:00:00:00:00:00:00:00:00:00:00:00:00:00:00:00:00:00:00:00:00:00:00:00:00:00:00:00:00:00:00:00:00:00:00:00:00:00:00:00:00:00:00:00:00:00:00:00:00:00:00:00:00:00:00:00:00:00:00:00:00:11:11:11:11:22:22:22:22:44:44:44:44:44:44:44:44:44:44:44:44:44:44:44:24:44:44:4444:44:44:44:42:44:44:44:44:44:44:44:44:44:44:44:44:44:44:44:44:44:44:44:44:44:44:44:44:44:44:11:11:11:11:11:11:11:10:00:00:00:00:22:24:44:20:00:00:00:00:00:00:00:00:00:00:00:00:00:00:00:00:00:00:00:00:00:00:00:00:00:00:00:00:00:00:00:00:00:00:00:00:00:00:00:00:00:00:00:00:00:00:00:00:00:00:00:00:00:00:00:00:00:00:00:00:00:00:00:00:00:00:00:00:00:00:00:00:00:00:00:00:00:00:00:00:00:00:00:00:00:00:00:00:00:00:00:00:00:00:00:00:00:00:00:00:00:00:00:00:0000:00:00:00:00:00:00:00:00:00:00:00:00:00:00:00:00:00:00:00:00:00:00:00:00:00:00:00:00:00:00:00:00:00:00:00:00:00:00:00:00:00:00:00:00:00:00:00:00:00:00:00:00:00:00:00:00:00:00:00:00:00:00:00:00:00:00:00:00:00:00:00:00:11:00:11:11:22:22:22:22:44:44:44:44:44:44:44:44:44:44:44:44:44:44:44:24:44:44:44:44:44:44:44:42:44:44:44:44:44:44:44:44:44:44:44:44:44:44:44:44:44:44:44:44:44:44:44:44:44:44:11:11:11:11:11:11:11:10:00:00:00:00:00:02:22:20:00:00:00:00:0000:00:00:00:00:00:00:00:00:00:00:00:00:00:00:00:00:00:00:00:00:00:00:00:00:00:00:00:00:00:00:00:00:00:00:00:00:00:00:00:00:00:00:00:00:00:00:00:00:00:00:00:00:00:00:00:00:00:00:00:00:00:00:00:00:00:00:00:00:00:00:00:00:00:00:00:00:00:00:00:00:00:00:00:00:00:00:00:00:00:00:00:00:00:00:00:00:00:00:00:00:00:00:00:00:00:00:00:00:00:00:00:00:00:00:00:00:00:00:00:00:00:00:00:00:00:00:00:00:00:00:00:00:00:00:00:00:00:00:00:00:00:00:00:00:00:00:00:00:00:00:0000:00:00:00:00:00:00:00:00:00:00:00:00:00:00:00:00:00:00:00:00:00:00:11:22:22:22:22:22:44:44:44:44:44:44:44:44:44:44:44:44:44:44:44:24:44:44:44:44:44:44:44:42:44:44:44:44:44:44:44:44:44:44:44:44:44:44:44:44:44:44:44:44:44:44:44:44:44:44:11:11:11:11:11:11:11:10:00:00:00:00:00:00:00:00:00:00:00:00:00:00:00:00:00:00:00:00:00:00:00:00:00:00:00:00:00:00:00:00:00:00:00:00:00:00:00:00:00:00:00:00:00:00:00:00:00:00:00:00:00:00:00:00:00:00:00:00:00:00:00:00:0000:00:00:00:00:00:00:00:00:00:00:00:00:00:00:00:00:00:00:00:00:00:00:00:00:00:00:00:00:00:00:00:00:00:00:00:00:00:00:00:00:00:00:00:00:00:00:00:00:00:00:00:00:00:00:00:00:00:00:00:00:00:00:00:00:00:00:00:00:00:00:00:00:00:00:00:00:00:00:00:00:00:00:00:00:00:00:00:00:00:00:00:00:00:00:00:00:00:00:00:00:00:00:00:00:00:00:00:00:00:00:00:00:00:00:00:00:00:00:00:00:00:00:22:22:22:22:20:02:44:44:44:44:44:44:44:44:44:44:44:44:44:44:44:24:44:44:44:44:44:44:4442:44:44:44:44:44:44:44:44:44:44:44:44:44:44:44:44:44:44:44:44:44:44:44:44:44:44:11:11:11:11:11:11:11:10:00:00:00:00:00:00:00:00:00:00:00:00:00:00:00:00:00:00:00:00:00:00:00:00:00:00:00:00:00:00:00:00:00:00:00:00:00:00:00:00:00:00:00:00:00:00:00:00:00:00:00:00:00:00:00:00:00:00:00:00:00:00:00:00:00:00:00:00:00:00:00:00:00:00:00:00:00:00:00:00:00:00:00:00:00:00:00:00:00:00:00:00:00:00:00:00:00:00:00:00:00:00:00:00:00:00:00:00:00:00:00:00:00:00:00:00:0000:00:00:00:00:00:00:00:00:00:00:00:00:00:00:00:00:00:00:00:00:00:00:00:00:00:00:00:00:00:00:00:00:00:00:00:00:00:00:00:00:00:00:00:00:00:00:00:00:00:00:00:00:00:00:00:00:00:00:00:00:00:00:00:00:00:00:00:00:00:22:22:22:22:20:00:02:22:22:22:22:22:22:22:22:22:22:22:22:22:22:22:22:22:22:22:22:22:22:22:22:22:22:22:22:22:22:22:22:22:22:22:22:22:22:22:22:22:22:22:22:22:22:22:22:22:22:11:11:11:11:11:11:11:10:00:00:00:00:00:00:00:00:00:00:00:00:00:00:00:00:0000:00:00:00:00:00:00:00:00:00:00:00:00:00:00:00:00:00:00:00:00:00:00:00:00:00:00:00:00:00:00:00:00:00:00:00:00:00:00:00:00:00:00:00:00:00:00:00:00:00:00:00:00:00:00:00:00:00:00:00:00:00:00:00:00:00:00:00:00:00:00:00:00:00:00:00:00:00:00:00:00:00:00:00:00:00:00:00:00:00:00:00:00:00:00:00:00:00:00:00:00:00:00:00:00:00:00:00:00:00:00:00:00:00:00:00:00:00:00:00:00:00:00:00:00:00:00:00:00:00:00:00:00:00:00:00:00:00:00:00:00:00:00:00:00:00:00:00:00:00:00:0000:00:00:00:00:00:00:00:00:00:00:00:00:00:00:00:00:22:22:22:22:20:00:00:02:22:22:22:22:22:22:22:22:22:22:22:22:22:22:22:22:22:22:22:22:22:22:22:22:22:22:22:22:22:22:22:22:22:22:22:22:22:22:22:22:22:22:22:22:22:22:22:22:22:22:11:11:11:11:11:11:11:10:00:00:00:00:00:00:00:00:00:00:00:00:00:00:00:00:00:00:00:00:00:00:00:00:00:00:00:00:00:00:00:00:00:00:00:00:00:00:00:00:00:00:00:00:00:00:00:00:00:00:00:00:00:00:00:00:00:00:00:00:00:00:00:00:00:00:00:00:0000:00:00:00:00:00:00:00:00:00:00:00:00:00:00:00:00:00:00:00:00:00:00:00:00:00:00:00:00:00:00:00:00:00:00:00:00:00:00:00:00:00:00:00:00:00:00:00:00:00:00:00:00:00:00:00:00:00:00:00:00:00:00:00:00:00:00:00:00:00:00:00:00:00:00:00:00:00:00:00:00:00:00:00:00:00:00:00:00:00:00:00:00:00:00:00:00:00:00:00:00:00:00:00:00:00:00:00:00:00:00:00:00:00:00:00:22:22:22:22:20:00:00:00:02:22:22:22:22:22:22:22:22:22:22:22:22:22:22:22:22:22:22:22:22:22:22:22:22:22:22:2222:22:22:22:22:22:22:22:22:22:22:22:22:22:22:22:22:22:22:22:22:22:22:11:11:11:11:11:11:11:10:00:00:00:00:00:00:00:00:00:00:00:00:00:00:00:00:00:00:00:00:00:00:00:00:00:00:00:00:00:00:00:00:00:00:00:00:00:00:00:00:00:00:00:00:00:00:00:00:00:00:00:00:00:00:00:00:00:00:00:00:00:00:00:00:00:00:00:00:00:00:00:00:00:00:00:00:00:00:00:00:00:00:00:00:00:00:00:00:00:00:00:00:00:00:00:00:00:00:00:00:00:00:00:00:00:00:00:00:00:00:00:00:00:00:00:00:00:00:00:00:0000:00:00:00:00:00:00:00:00:00:00:00:00:00:00:00:00:00:00:00:00:00:00:00:00:00:00:00:00:00:00:00:00:00:00:00:00:00:00:00:00:00:00:00:00:00:00:00:00:00:00:00:00:00:00:00:00:00:00:00:00:00:00:02:22:22:22:20:00:00:00:00:02:44:44:44:44:44:44:44:44:44:44:44:44:44:44:44:24:44:44:44:44:44:44:44:42:44:44:44:44:44:44:44:44:44:44:44:44:44:44:44:44:44:44:44:44:44:44:44:44:44:44:11:11:11:11:11:11:11:10:00:00:00:00:00:00:00:00:00:00:00:00:00:00:00:00:00:00:00:00:0000:00:00:00:00:00:00:00:00:00:00:00:00:00:00:00:00:00:00:00:00:00:00:00:00:00:00:00:00:00:00:00:00:00:00:00:00:00:00:00:00:00:00:00:00:00:00:00:00:00:00:00:00:00:00:00:00:00:00:00:00:00:00:00:00:00:00:00:00:00:00:00:00:00:00:00:00:00:00:00:00:00:00:00:00:00:00:00:00:00:00:00:00:00:00:00:00:00:00:00:00:00:00:00:00:00:00:00:00:00:00:00:00:00:00:00:00:00:00:00:00:00:00:00:00:00:00:00:00:00:00:00:00:00:00:00:00:00:00:00:00:00:00:00:00:00:00:00:00:00:00:0000:00:00:00:00:00:00:00:00:00:00:02:22:22:20:00:00:00:00:00:02:44:44:44:44:44:44:44:44:44:44:44:44:44:44:44:24:44:44:44:44:44:44:44:42:44:44:44:44:44:44:44:44:44:44:44:44:44:44:44:44:44:44:44:44:44:44:44:44:44:44:11:11:11:11:11:11:11:10:00:00:00:00:00:00:00:00:00:00:00:00:00:00:00:00:00:00:00:00:00:00:00:00:00:00:00:00:00:00:00:00:00:00:00:00:00:00:00:00:00:00:00:00:00:00:00:00:00:00:00:00:00:00:00:00:00:00:00:00:00:00:00:00:00:00:00:00:00:00:00:00:0000:00:00:00:00:00:00:00:00:00:00:00:00:00:00:00:00:00:00:00:00:00:00:00:00:00:00:00:00:00:00:00:00:00:00:00:00:00:00:00:00:00:00:00:00:00:00:00:00:00:00:00:00:00:00:00:00:00:00:00:00:00:00:00:00:00:00:00:00:00:00:00:00:00:00:00:00:00:00:00:00:00:00:00:00:00:00:00:00:00:00:00:00:00:00:00:00:00:00:00:00:00:00:00:00:00:00:00:00:00:00:00:02:20:00:00:00:00:00:00:02:44:44:44:44:44:44:44:44:44:44:44:44:44:44:44:24:44:44:44:44:44:44:44:42:44:44:44:44:44:44:4444:44:44:44:44:44:44:44:44:44:44:44:44:44:44:44:44:44:44:11:11:11:11:11:11:11:10:00:00:00:00:00:00:00:00:00:00:00:00:00:00:00:00:00:00:00:00:00:00:00:00:00:00:00:00:00:00:00:00:00:00:00:00:00:00:00:00:00:00:00:00:00:00:00:00:00:00:00:00:00:00:00:00:00:00:00:00:00:00:00:00:00:00:00:00:00:00:00:00:00:00:00:00:00:00:00:00:00:00:00:00:00:00:00:00:00:00:00:00:00:00:00:00:00:00:00:00:00:00:00:00:00:00:00:00:00:00:00:00:00:00:00:00:00:00:00:00:00:00:00:00:0000:00:00:00:00:00:00:00:00:00:00:00:00:00:00:00:00:00:00:00:00:00:00:00:00:00:00:00:00:00:00:00:00:00:00:00:00:00:00:00:00:00:00:00:00:00:00:00:00:00:00:00:00:00:00:00:00:00:00:00:00:00:00:00:00:00:00:00:02:44:44:44:44:44:44:44:44:44:44:44:44:44:44:44:24:44:44:44:44:44:44:44:42:44:44:44:44:44:44:44:44:44:44:44:44:44:44:44:44:44:44:44:44:44:44:44:44:44:44:11:11:11:11:11:11:11:10:00:00:00:00:00:00:00:00:00:00:00:00:00:00:00:00:00:00:00:00:00:00:00:00:0000:00:00:00:00:00:00:00:00:00:00:00:00:00:00:00:00:00:00:00:00:00:00:00:00:00:00:00:00:00:00:00:00:00:00:00:00:00:00:00:00:00:00:00:00:00:00:00:00:00:00:00:00:00:00:00:00:00:00:00:00:00:00:00:00:00:00:00:00:00:00:00:00:00:00:00:00:00:00:00:00:00:00:00:00:00:00:00:00:00:00:00:00:00:00:00:00:00:00:00:00:00:00:00:00:00:00:00:00:00:00:00:00:00:00:00:00:00:00:00:00:00:00:00:00:00:00:00:00:00:00:00:00:00:00:00:00:00:00:00:00:00:00:00:00:00:00:00:00:00:00:0000:00:00:00:00:00:00:00:00:00:00:00:00:00:00:00:02:44:44:44:44:44:44:44:44:44:44:44:44:44:44:44:24:44:44:44:44:44:44:44:42:44:44:44:44:44:44:44:44:44:44:44:44:44:44:44:44:44:44:44:44:44:44:44:44:44:44:11:11:11:11:11:11:11:10:00:00:00:00:00:00:00:00:00:00:00:00:00:00:00:00:00:00:00:00:00:00:00:00:00:00:00:00:00:00:00:00:00:00:00:00:00:00:00:00:00:00:00:00:00:00:00:00:00:00:00:00:00:00:00:00:00:00:00:00:00:00:00:00:00:00:00:00:00:00:00:00:00:00:00:00:0000:00:00:00:00:00:00:00:00:00:00:00:00:00:00:00:00:00:00:00:00:00:00:00:00:00:00:00:00:00:00:00:00:00:00:00:00:00:00:00:00:00:00:00:00:00:00:00:00:00:00:00:00:00:00:00:00:00:00:00:00:00:00:00:00:00:00:00:00:00:00:00:00:00:00:00:00:00:00:00:00:00:00:00:00:00:00:00:00:00:00:00:00:00:00:00:00:00:00:00:00:00:00:00:00:00:00:00:00:00:00:00:00:00:00:00:02:44:44:44:44:44:44:44:44:44:44:44:44:44:44:44:24:44:44:44:44:44:44:44:42:44:44:44:44:44:44:44:44:44:44:4444:44:44:44:44:44:44:44:44:44:44:44:44:44:44:11:11:11:11:11:11:11:10:00:00:00:00:00:00:00:00:00:00:00:00:00:00:00:00:00:00:00:00:00:00:00:00:00:00:00:00:00:00:00:00:00:00:00:00:00:00:00:00:00:00:00:00:00:00:00:00:00:00:00:00:00:00:00:00:00:00:00:00:00:00:00:00:00:00:00:00:00:00:00:00:00:00:00:00:00:00:00:00:00:00:00:00:00:00:00:00:00:00:00:00:00:00:00:00:00:00:00:00:00:00:00:00:00:00:00:00:00:00:00:00:00:00:00:00:00:00:00:00:00:00:00:00:00:00:00:00:0000:00:00:00:00:00:00:00:00:00:00:00:00:00:00:00:00:00:00:00:00:00:00:00:00:00:00:00:00:00:00:00:00:00:00:00:00:00:00:00:00:00:00:00:00:00:00:00:00:00:00:00:00:00:00:00:00:00:00:00:00:00:00:00:02:44:44:44:44:44:44:44:44:44:44:44:44:44:44:44:24:44:44:44:44:44:44:44:42:44:44:44:44:44:44:44:44:44:44:44:44:44:44:44:44:44:44:44:44:44:44:44:44:44:44:11:11:11:11:11:11:11:12:22:00:00:00:00:00:00:00:00:00:00:00:00:00:00:00:00:00:00:00:00:00:00:00:00:00:00:00:0000:00:00:00:00:00:00:00:00:00:00:00:00:00:00:00:00:00:00:00:00:00:00:00:00:00:00:00:00:00:00:00:00:00:00:00:00:00:00:00:00:00:00:00:00:00:00:00:00:00:00:00:00:00:00:00:00:00:00:00:00:00:00:00:00:00:00:00:00:00:00:00:00:00:00:00:00:00:00:00:00:00:00:00:00:00:00:00:00:00:00:00:00:00:00:00:00:00:00:00:00:00:00:00:00:00:00:00:00:00:00:00:00:00:00:00:00:00:00:00:00:00:00:00:00:00:00:00:00:00:00:00:00:00:00:00:00:00:00:00:00:00:00:00:00:00:00:00:00:00:00:0000:00:00:00:00:00:00:00:00:00:00:00:02:44:44:44:44:44:44:44:44:44:44:44:44:44:44:44:24:44:44:44:44:44:44:44:42:44:44:44:44:44:44:44:44:44:44:44:44:44:44:44:44:44:44:44:44:44:44:44:44:44:44:11:11:11:11:11:11:11:14:44:22:20:00:00:00:00:00:00:00:00:00:00:00:00:00:00:00:00:00:00:00:00:00:00:00:00:00:00:00:00:00:00:00:00:00:00:00:00:00:00:00:00:00:00:00:00:00:00:00:00:00:00:00:00:00:00:00:00:00:00:00:00:00:00:00:00:00:00:00:00:00:00:00:00:00:00:00:00:00:0000:00:00:00:00:00:00:00:00:00:00:00:00:00:00:00:00:00:00:00:00:00:00:00:00:00:00:00:00:00:00:00:00:00:00:00:00:00:00:00:00:00:00:00:00:00:00:00:00:00:00:00:00:00:00:00:00:00:00:00:00:00:00:00:00:00:00:00:00:00:00:00:00:00:00:00:00:00:00:00:00:00:00:00:00:00:00:00:00:00:00:00:00:00:00:00:00:00:00:00:00:00:00:00:00:00:00:00:00:00:00:00:02:44:44:44:44:44:44:44:44:44:44:44:44:44:44:44:24:44:44:44:44:44:44:44:42:44:44:44:44:44:44:44:44:44:44:44:44:44:44:4444:44:44:44:44:44:44:44:44:44:44:11:11:11:11:11:11:11:14:44:44:42:22:00:00:00:00:00:00:00:00:00:00:00:00:00:00:00:00:00:00:00:00:00:00:00:00:00:00:00:00:00:00:00:00:00:00:00:00:00:00:00:00:00:00:00:00:00:00:00:00:00:00:00:00:00:00:00:00:00:00:00:00:00:00:00:00:00:00:00:00:00:00:00:00:00:00:00:00:00:00:00:00:00:00:00:00:00:00:00:00:00:00:00:00:00:00:00:00:00:00:00:00:00:00:00:00:00:00:00:00:00:00:00:00:00:00:00:00:00:00:00:00:00:00:00:00:00:00:00:00:0000:00:00:00:00:00:00:00:00:00:00:00:00:00:00:00:00:00:00:00:00:00:00:00:00:00:00:00:00:00:00:00:00:00:00:00:00:00:00:00:00:00:00:00:00:00:00:00:00:00:00:00:00:00:00:00:00:00:00:00:02:44:44:44:44:44:44:44:44:44:44:44:44:44:44:44:24:44:44:44:44:44:44:44:42:44:44:44:44:44:44:44:44:44:44:44:44:44:44:44:44:44:44:44:44:44:44:44:44:44:44:11:11:11:11:11:11:11:12:22:44:44:44:22:20:00:00:00:00:00:00:00:00:00:00:00:00:00:00:00:00:00:00:00:00:00:00:00:00:00:00:0000:00:00:00:00:00:00:00:00:00:00:00:00:00:00:00:00:00:00:00:00:00:00:00:00:00:00:00:00:00:00:00:00:00:00:00:00:00:00:00:00:00:00:00:00:00:00:00:00:00:00:00:00:00:00:00:00:00:00:00:00:00:00:00:00:00:00:00:00:00:00:00:00:00:00:00:00:00:00:00:00:00:00:00:00:00:00:00:00:00:00:00:00:00:00:00:00:00:00:00:00:00:00:00:00:00:00:00:00:00:00:00:00:00:00:00:00:00:00:00:00:00:00:00:00:00:00:00:00:00:00:00:00:00:00:00:00:00:00:00:00:00:00:00:00:00:00:00:00:00:00:0000:00:00:00:00:00:00:00:02:44:44:44:44:44:44:44:44:44:44:44:44:44:44:44:24:44:44:44:44:44:44:44:42:44:44:44:44:44:44:44:44:44:44:44:44:44:44:44:44:44:44:44:44:44:44:44:44:44:44:11:11:11:11:11:11:11:10:00:22:24:44:44:42:00:00:00:00:00:00:00:00:00:00:00:00:00:00:00:00:00:00:00:00:00:00:00:00:00:00:00:00:00:00:00:00:00:00:00:00:00:00:00:00:00:00:00:00:00:00:00:00:00:00:00:00:00:00:00:00:00:00:00:00:00:00:00:00:00:00:00:00:00:00:00:00:00:00:00:00:00:00:0000:00:00:00:00:00:00:00:00:00:00:00:00:00:00:00:00:00:00:00:00:00:00:00:00:00:00:00:00:00:00:00:00:00:00:00:00:00:00:00:00:00:00:00:00:00:00:00:00:00:00:00:00:00:00:00:00:00:00:00:00:00:00:00:00:00:00:00:00:00:00:00:00:00:00:00:00:00:00:00:00:00:00:00:00:00:00:00:00:00:00:00:00:00:00:00:00:00:00:00:00:00:00:00:00:00:00:00:02:44:44:44:44:44:44:44:44:44:44:44:44:44:44:44:24:44:44:44:44:44:44:44:42:44:44:44:44:44:44:44:44:44:44:44:44:44:44:44:44:44:44:4444:44:44:44:44:44:44:11:11:11:11:11:11:11:10:00:00:02:22:44:42:00:00:00:00:00:00:00:00:00:00:00:00:00:00:00:00:00:00:00:00:00:00:00:00:00:00:00:00:00:00:00:00:00:00:00:00:00:00:00:00:00:00:00:00:00:00:00:00:00:00:00:00:00:00:00:00:00:00:00:00:00:00:00:00:00:00:00:00:00:00:00:00:00:00:00:00:00:00:00:00:00:00:00:00:00:00:00:00:00:00:00:00:00:00:00:00:00:00:00:00:00:00:00:00:00:00:00:00:00:00:00:00:00:00:00:00:00:00:00:00:00:00:00:00:00:00:00:00:00:00:0000:00:00:00:00:00:00:00:00:00:00:00:00:00:00:00:00:00:00:00:00:00:00:00:00:00:00:00:00:00:00:00:00:00:00:00:00:00:00:00:00:00:00:00:00:00:00:00:00:00:00:00:00:00:00:00:02:44:44:44:44:44:44:44:44:44:44:44:44:44:44:44:24:44:44:44:44:44:44:44:42:44:44:44:44:44:44:44:44:44:44:44:44:44:44:44:44:44:44:44:44:44:44:44:44:44:44:11:11:11:11:11:11:11:10:00:00:00:00:22:22:00:00:00:00:00:00:00:00:00:00:00:00:00:00:00:00:00:00:00:00:00:00:00:00:00:00:00:00:00:00:0000:00:00:00:00:00:00:00:00:00:00:00:00:00:00:00:00:00:00:00:00:00:00:00:00:00:00:00:00:00:00:00:00:00:00:00:00:00:00:00:00:00:00:00:00:00:00:00:00:00:00:00:00:00:00:00:00:00:00:00:00:00:00:00:00:00:00:00:00:00:00:00:00:00:00:00:00:00:00:00:00:00:00:00:00:00:00:00:00:00:00:00:00:00:00:00:00:00:00:00:00:00:00:00:00:00:00:00:00:00:00:00:00:00:00:00:00:00:00:00:00:00:00:00:00:00:00:00:00:00:00:00:00:00:00:00:00:00:00:00:00:00:00:00:00:00:00:00:00:00:00:0000:00:00:00:02:44:44:44:44:44:44:44:44:44:44:44:44:44:44:44:24:44:44:44:44:44:44:44:42:44:44:44:44:44:44:44:44:44:44:44:44:44:44:44:44:44:44:44:44:44:44:44:44:44:44:11:11:11:11:11:11:11:10:00:00:00:00:00:00:00:00:00:00:00:00:00:00:00:00:00:00:00:00:00:00:00:00:00:00:00:00:00:00:00:00:00:00:00:00:00:00:00:00:00:00:00:00:00:00:00:00:00:00:00:00:00:00:00:00:00:00:00:00:00:00:00:00:00:00:00:00:00:00:00:00:00:00:00:00:00:00:00:00:00:00:00:00:00:00:00:00:0000:00:00:00:00:00:00:00:00:00:00:00:00:00:00:00:00:00:00:00:00:00:00:00:00:00:00:00:00:00:00:00:00:00:00:00:00:00:00:00:00:00:00:00:00:00:00:00:00:00:00:00:00:00:00:00:00:00:00:00:00:00:00:00:00:00:00:00:00:00:00:00:00:00:00:00:00:00:00:00:00:00:00:00:00:00:00:00:00:00:00:00:00:00:00:00:00:00:00:00:00:00:00:00:01:11:11:11:11:11:11:11:11:11:11:11:11:11:11:11:11:11:11:11:11:11:11:11:11:11:11:11:11:11:11:11:11:11:11:11:11:11:11:11:11:11:11:11:11:11:11:1111:11:11:11:11:11:11:11:11:11:10:00:00:00:00:00:00:00:00:00:00:00:00:00:00:00:00:00:00:00:00:00:00:00:00:00:00:00:00:00:00:00:00:00:00:00:00:00:00:00:00:00:00:00:00:00:00:00:00:00:00:00:00:00:00:00:00:00:00:00:00:00:00:00:00:00:00:00:00:00:00:00:00:00:00:00:00:00:00:00:00:00:00:00:00:00:00:00:00:00:00:00:00:00:00:00:00:00:00:00:00:00:00:00:00:00:00:00:00:00:00:00:00:00:00:00:00:00:00:00:00:00:00:00:00:00:00:00:00:00:00:00:00:00:00:00:00:00:00:00:00:0000:00:00:00:00:00:00:00:00:00:00:00:00:00:00:00:00:00:00:00:00:00:00:00:00:00:00:00:00:00:00:00:00:00:00:00:00:00:00:00:00:00:00:00:00:00:00:00:00:00:00:00:01:11:11:11:11:11:11:11:11:11:11:11:11:11:11:11:11:11:11:11:11:11:11:11:11:11:11:11:11:11:11:11:11:11:11:11:11:11:11:11:11:11:11:11:11:11:11:11:11:11:11:11:11:11:11:11:11:11:10:00:00:00:00:00:00:00:00:00:00:00:00:00:00:00:00:00:00:00:00:00:00:00:00:00:00:00:00:00:00:00:00:00:00:00:00:00:00:00:00:0000:00:00:00:00:00:00:00:00:00:00:00:00:00:00:00:00:00:00:00:00:00:00:00:00:00:00:00:00:00:00:00:00:00:00:00:00:00:00:00:00:00:00:00:00:00:00:00:00:00:00:00:00:00:00:00:00:00:00:00:00:00:00:00:00:00:00:00:00:00:00:00:00:00:00:00:00:00:00:00:00:00:00:00:00:00:00:00:00:00:00:00:00:00:00:00:00:00:00:00:00:00:00:00:00:00:00:00:00:00:00:00:00:00:00:00:00:00:00:00:00:00:00:00:00:00:00:00:00:00:00:00:00:00:00:00:00:00:00:00:00:00:00:00:00:00:00:00:00:00:00:0001:22:22:22:22:22:22:22:22:22:22:22:21:11:00:00:00:00:00:00:00:00:00:00:01:22:22:22:22:22:22:22:22:22:22:22:22:22:22:22:22:22:22:22:22:22:21:22:22:22:22:22:22:22:21:22:22:22:10:00:00:00:00:00:00:00:00:00:00:00:00:00:00:00:00:00:00:00:00:00:00:00:00:00:00:00:00:00:00:00:00:00:00:00:00:00:00:00:00:00:00:00:00:00:00:00:00:00:00:00:00:00:00:00:00:00:00:00:00:00:00:00:00:00:00:00:00:00:00:00:00:00:00:00:00:00:00:00:00:00:00:00:00:00:00:00:00:00:00:00:00:0000:00:00:00:00:00:00:00:00:00:00:00:00:00:00:00:00:00:00:00:00:00:00:00:00:00:00:00:00:00:00:00:00:00:00:00:00:00:00:00:00:00:00:00:00:00:00:00:00:00:00:00:00:00:00:00:00:00:00:00:00:00:00:00:00:00:00:00:00:00:00:00:00:00:00:00:00:00:00:00:00:00:00:00:00:00:00:00:00:00:00:00:00:00:00:00:00:00:00:00:01:22:22:22:22:22:22:22:22:22:22:11:10:00:00:00:00:00:00:00:00:00:00:00:01:22:22:22:22:22:22:22:22:22:22:22:22:22:22:22:22:22:22:22:22:22:21:22:22:22:22:2222:22:21:22:22:22:10:00:00:00:00:00:00:00:00:00:00:00:00:00:00:00:00:00:00:00:00:00:00:00:00:00:00:00:00:00:00:00:00:00:00:00:00:00:00:00:00:00:00:00:00:00:00:00:00:00:00:00:00:00:00:00:00:00:00:00:00:00:00:00:00:00:00:00:00:00:00:00:00:00:00:00:00:00:00:00:00:00:00:00:00:00:00:00:00:00:00:00:00:00:00:00:00:00:00:00:00:00:00:00:00:00:00:00:00:00:00:00:00:00:00:00:00:00:00:00:00:00:00:00:00:00:00:00:00:00:00:00:00:00:00:00:00:00:00:00:00:00:00:00:00:0000:00:00:00:00:00:00:00:00:00:00:00:00:00:00:00:00:00:00:00:00:00:00:00:00:00:00:00:00:00:00:00:00:00:00:00:00:00:00:00:00:00:00:00:00:00:00:00:01:22:22:22:22:22:22:22:22:21:11:00:00:00:00:00:00:00:00:00:00:00:00:00:01:22:22:22:22:22:22:22:22:22:22:22:22:22:22:22:22:22:22:22:22:22:21:22:22:22:22:22:22:22:21:22:22:22:10:00:00:00:00:00:00:00:00:00:00:00:00:00:00:00:00:00:00:00:00:00:00:00:00:00:00:00:00:00:00:00:00:00:00:00:00:00:00:00:00:00:00:00:00:0000:00:00:00:00:00:00:00:00:00:00:00:00:00:00:00:00:00:00:00:00:00:00:00:00:00:00:00:00:00:00:00:00:00:00:00:00:00:00:00:00:00:00:00:00:00:00:00:00:00:00:00:00:00:00:00:00:00:00:00:00:00:00:00:00:00:00:00:00:00:00:00:00:00:00:00:00:00:00:00:00:00:00:00:00:00:00:00:00:00:00:00:00:00:00:00:00:00:00:00:00:00:00:00:00:00:00:00:00:00:00:00:00:00:00:00:00:00:00:00:00:00:00:00:00:00:00:00:00:00:00:00:00:00:00:00:00:00:00:00:00:00:00:00:00:00:00:00:01:22:22:2222:22:22:22:11:10:00:00:00:00:00:00:00:00:00:00:00:00:00:00:01:22:22:22:22:22:22:22:22:22:22:22:22:22:22:22:22:22:22:22:22:22:21:22:22:22:22:22:22:22:21:22:22:22:10:00:00:00:00:00:00:00:00:00:00:00:00:00:00:00:00:00:00:00:00:00:00:00:00:00:00:00:00:00:00:00:00:00:00:00:00:00:00:00:00:00:00:00:00:00:00:00:00:00:00:00:00:00:00:00:00:00:00:00:00:00:00:00:00:00:00:00:00:00:00:00:00:00:00:00:00:00:00:00:00:00:00:00:00:00:00:00:00:00:00:00:00:00:00:00:00:0000:00:00:00:00:00:00:00:00:00:00:00:00:00:00:00:00:00:00:00:00:00:00:00:00:00:00:00:00:00:00:00:00:00:00:00:00:00:00:00:00:00:00:00:00:00:00:00:00:00:00:00:00:00:00:00:00:00:00:00:00:00:00:00:00:00:00:00:00:00:00:00:00:00:00:00:00:00:00:00:00:00:00:00:00:00:00:00:00:00:00:00:00:00:00:00:01:11:11:11:11:11:11:11:00:00:00:00:00:00:00:00:00:00:00:00:00:00:00:00:01:11:11:11:11:11:11:11:11:11:11:11:11:11:11:11:11:11:11:11:11:11:11:11:11:11:11:11:11:11:11:1111:11:10:00:00:00:00:00:00:00:00:00:00:00:00:00:00:00:00:00:00:00:00:00:00:00:00:00:00:00:00:00:00:00:00:00:00:00:00:00:00:00:00:00:00:00:00:00:00:00:00:00:00:00:00:00:00:00:00:00:00:00:00:00:00:00:00:00:00:00:00:00:00:00:00:00:00:00:00:00:00:00:00:00:00:00:00:00:00:00:00:00:00:00:00:00:00:00:00:00:00:00:00:00:00:00:00:00:00:00:00:00:00:00:00:00:00:00:00:00:00:00:00:00:00:00:00:00:00:00:00:00:00:00:00:00:00:00:00:00:00:00:00:00:00:00:00:00:00:00:00:0000:00:00:00:00:00:00:00:00:00:00:00:00:00:00:00:00:00:00:00:00:00:00:00:00:00:00:00:00:00:00:00:00:00:00:00:00:00:00:00:00:00:00:00:00:00:00:00:00:00:00:00:00:00:00:00:00:00:00:00:00:00:00:00:00:00:00:00:00:00:00:12:22:22:22:22:22:22:22:22:22:22:22:22:22:22:22:22:22:22:22:22:22:22:22:22:22:10:01:11:11:11:11:11:11:11:11:00:00:00:00:00:00:00:00:00:00:00:00:00:00:00:00:00:00:00:00:00:00:00:00:00:00:00:00:00:00:00:00:00:00:00:00:00:00:00:00:00:00:00:00:0000:00:00:00:00:00:00:00:00:00:00:00:00:00:00:00:00:00:00:00:00:00:00:00:00:00:00:00:00:00:00:00:00:00:00:00:00:00:00:00:00:00:00:00:00:00:00:00:00:00:00:00:00:00:00:00:00:00:00:00:00:00:00:00:00:00:00:00:00:00:00:00:00:00:00:00:00:00:00:00:00:00:00:00:00:00:00:00:00:00:00:00:00:00:00:00:00:00:00:00:00:00:00:00:00:00:00:00:00:00:00:00:00:00:00:00:00:00:00:00:00:00:00:00:00:00:00:00:00:00:00:00:00:00:00:00:00:00:00:00:00:00:00:00:00:00:00:00:00:00:00:0000:00:00:00:00:00:00:00:00:00:00:00:00:00:00:00:00:00:00:12:22:22:22:22:22:22:22:22:22:22:22:22:22:22:22:22:22:22:22:22:22:22:22:22:22:10:01:11:11:11:11:11:11:11:11:11:11:10:00:00:00:00:00:00:00:00:00:00:00:00:00:00:00:00:00:00:00:00:00:00:00:00:00:00:00:00:00:00:00:00:00:00:00:00:00:00:00:00:00:00:00:00:00:00:00:00:00:00:00:00:00:00:00:00:00:00:00:00:00:00:00:00:00:00:00:00:00:00:00:00:00:00:00:00:00:00:00:00:00:00:00:00:00:00:00:00:00:00:00:00:00:0000:00:00:00:00:00:00:00:00:00:00:00:00:00:00:00:00:00:00:00:00:00:00:00:00:00:00:00:00:00:00:00:00:00:00:00:00:00:00:00:00:00:00:00:00:00:00:00:00:00:00:00:00:00:00:00:00:00:00:00:00:00:00:00:00:00:00:00:00:00:00:00:00:00:00:00:00:00:00:00:00:00:00:00:00:00:00:00:00:00:00:00:00:00:00:00:00:00:00:00:00:00:00:00:00:00:00:00:00:00:00:00:00:00:00:00:00:00:00:12:22:22:22:22:22:22:22:22:22:22:22:22:22:22:22:22:22:22:22:22:22:22:22:22:22:10:01:11:11:11:11:1111:11:11:11:11:10:00:00:00:00:00:00:00:00:00:00:00:00:00:00:00:00:00:00:00:00:00:00:00:00:00:00:00:00:00:00:00:00:00:00:00:00:00:00:00:00:00:00:00:00:00:00:00:00:00:00:00:00:00:00:00:00:00:00:00:00:00:00:00:00:00:00:00:00:00:00:00:00:00:00:00:00:00:00:00:00:00:00:00:00:00:00:00:00:00:00:00:00:00:00:00:00:00:00:00:00:00:00:00:00:00:00:00:00:00:00:00:00:00:00:00:00:00:00:00:00:00:00:00:00:00:00:00:00:00:00:00:00:00:00:00:00:00:00:00:00:00:00:00:00:00:0000:00:00:00:00:00:00:00:00:00:00:00:00:00:00:00:00:00:00:00:00:00:00:00:00:00:00:00:00:00:00:00:00:00:00:00:00:00:00:00:00:00:00:00:00:00:00:00:00:00:00:00:00:00:00:00:00:00:00:00:00:00:00:00:00:00:00:12:22:22:22:22:22:22:22:22:22:22:22:22:22:22:22:22:22:22:22:22:22:22:22:22:22:10:01:13:33:33:33:33:33:33:33:33:31:10:00:00:00:00:00:00:00:00:00:00:00:00:00:00:00:00:00:00:00:00:00:00:00:00:00:00:00:00:00:00:00:00:00:00:00:00:00:00:00:00:00:00:00:00:00:0000:00:00:00:00:00:00:00:00:00:00:00:00:00:00:00:00:00:00:00:00:00:00:00:00:00:00:00:00:00:00:00:00:00:00:00:00:00:00:00:00:00:00:00:00:00:00:00:00:00:00:00:00:00:00:00:00:00:00:00:00:00:00:00:00:00:00:00:00:00:00:00:00:00:00:00:00:00:00:00:00:00:00:00:00:00:00:00:00:00:00:00:00:00:00:00:00:00:00:00:00:00:00:00:00:00:00:00:00:00:00:00:00:00:00:00:00:00:00:00:00:00:00:00:00:00:00:00:00:00:00:00:00:00:00:00:00:00:00:00:00:00:00:00:00:00:00:00:00:00:00:0000:00:00:00:00:00:00:00:00:00:00:00:00:00:00:11:11:11:11:11:11:11:11:11:11:11:11:11:11:11:11:11:11:11:11:11:11:11:11:12:22:21:11:13:33:33:33:33:33:33:33:33:31:10:00:00:00:00:00:00:00:00:00:00:00:00:00:00:00:00:00:00:00:00:00:00:00:00:00:00:00:00:00:00:00:00:00:00:00:00:00:00:00:00:00:00:00:00:00:00:00:00:00:00:00:00:00:00:00:00:00:00:00:00:00:00:00:00:00:00:00:00:00:00:00:00:00:00:00:00:00:00:00:00:00:00:00:00:00:00:00:00:00:00:00:00:00:00:00:00:00:0000:00:00:00:00:00:00:00:00:00:00:00:00:00:00:00:00:00:00:00:00:00:00:00:00:00:00:00:00:00:00:00:00:00:00:00:00:00:00:00:00:00:00:00:00:00:00:00:00:00:00:00:00:00:00:00:00:00:00:00:00:00:00:00:00:00:00:00:00:00:00:00:00:00:00:00:00:00:00:00:00:00:00:00:00:00:00:00:00:00:00:00:00:00:00:00:00:00:00:00:00:00:00:00:00:00:00:00:00:00:00:00:00:00:00:12:22:22:22:22:22:22:22:22:22:11:11:22:22:22:11:11:11:11:11:11:11:11:11:11:11:22:11:13:33:33:33:33:33:33:33:3331:10:00:00:00:00:00:00:00:00:00:00:00:00:00:00:00:00:00:00:00:00:00:00:00:00:00:00:00:00:00:00:00:00:00:00:00:00:00:00:00:00:00:00:00:00:00:00:00:00:00:00:00:00:00:00:00:00:00:00:00:00:00:00:00:00:00:00:00:00:00:00:00:00:00:00:00:00:00:00:00:00:00:00:00:00:00:00:00:00:00:00:00:00:00:00:00:00:00:00:00:00:00:00:00:00:00:00:00:00:00:00:00:00:00:00:00:00:00:00:00:00:00:00:00:00:00:00:00:00:00:00:00:00:00:00:00:00:00:00:00:00:00:00:00:00:00:00:00:00:00:0000:00:00:00:00:00:00:00:00:00:00:00:00:00:00:00:00:00:00:00:00:00:00:00:00:00:00:00:00:00:00:00:00:00:00:00:00:00:00:00:00:00:00:00:00:00:00:00:00:00:00:00:00:00:00:00:00:00:00:00:00:00:00:12:22:22:22:22:22:22:22:22:22:22:22:11:11:22:11:11:11:11:11:11:11:11:11:11:00:11:11:13:33:33:33:33:33:33:33:33:31:10:00:00:00:00:00:00:00:00:00:00:00:00:00:00:00:00:00:00:00:00:00:00:00:00:00:00:00:00:00:00:00:00:00:00:00:00:00:00:00:00:00:00:00:00:00:00:00:00:00:0000:00:00:00:00:00:00:00:00:00:00:00:00:00:00:00:00:00:00:00:00:00:00:00:00:00:00:00:00:00:00:00:00:00:00:00:00:00:00:00:00:00:00:00:00:00:00:00:00:00:00:00:00:00:00:00:00:00:00:00:00:00:00:00:00:00:00:00:00:00:00:00:00:00:00:00:00:00:00:00:00:00:00:00:00:00:00:00:00:00:00:00:00:00:00:00:00:00:00:00:00:00:00:00:00:00:00:00:00:00:00:00:00:00:00:00:00:00:00:00:00:00:00:00:00:00:00:00:00:00:00:00:00:00:00:00:00:00:00:00:00:00:00:00:00:00:00:00:00:00:00:0000:00:00:00:00:00:00:00:00:00:00:12:22:22:22:22:22:22:22:22:22:22:22:22:22:11:11:11:11:11:11:11:11:11:11:11:00:00:01:13:33:33:33:33:33:33:33:33:31:10:00:00:00:00:00:00:00:00:00:00:00:00:00:00:00:00:00:00:00:00:00:00:00:00:00:00:00:00:00:00:00:00:00:00:00:00:00:00:00:00:00:00:00:00:00:00:00:00:00:00:00:00:00:00:00:00:00:00:00:00:00:00:00:00:00:00:00:00:00:00:00:00:00:00:00:00:00:00:00:00:00:00:00:00:00:00:00:00:00:00:00:00:00:00:00:00:00:00:00:00:00:0000:00:00:00:00:00:00:00:00:00:00:00:00:00:00:00:00:00:00:00:00:00:00:00:00:00:00:00:00:00:00:00:00:00:00:00:00:00:00:00:00:00:00:00:00:00:00:00:00:00:00:00:00:00:00:00:00:00:00:00:00:00:00:00:00:00:00:00:00:00:00:00:00:00:00:00:00:00:00:00:00:00:00:00:00:00:00:00:00:00:00:00:00:00:00:00:00:00:00:00:00:00:00:00:00:00:00:00:00:00:00:12:22:22:22:22:22:22:22:22:22:22:22:22:22:22:22:11:11:11:11:11:11:11:11:11:00:00:01:13:33:33:33:33:33:33:33:33:31:10:00:0000:00:00:00:00:00:00:00:00:00:00:00:00:00:00:00:00:00:00:00:00:00:00:00:00:00:00:00:00:00:00:00:00:00:00:00:00:00:00:00:00:00:00:00:00:00:00:00:00:00:00:00:00:00:00:00:00:00:00:00:00:00:00:00:00:00:00:00:00:00:00:00:00:00:00:00:00:00:00:00:00:00:00:00:00:00:00:00:00:00:00:00:00:00:00:00:00:00:00:00:00:00:00:00:00:00:00:00:00:00:00:00:00:00:00:00:00:00:00:00:00:00:00:00:00:00:00:00:00:00:00:00:00:00:00:00:00:00:00:00:00:00:00:00:00:00:00:00:00:00:00:0000:00:00:00:00:00:00:00:00:00:00:00:00:00:00:00:00:00:00:00:00:00:00:00:00:00:00:00:00:00:00:00:00:00:00:00:00:00:00:00:00:00:00:00:00:00:00:00:00:00:00:00:00:00:00:00:00:00:00:12:22:22:22:22:22:22:22:22:22:22:22:22:22:22:22:22:22:11:11:11:11:11:11:11:00:00:01:13:33:33:33:33:33:33:33:33:31:10:00:00:00:00:00:00:00:00:00:00:00:00:00:00:00:00:00:00:00:00:00:00:00:00:00:00:00:00:00:00:00:00:00:00:00:00:00:00:00:00:00:00:00:00:00:00:00:00:00:00:00:00:00:0000:00:00:00:00:00:00:00:00:00:00:00:00:00:00:00:00:00:00:00:00:00:00:00:00:00:00:00:00:00:00:00:00:00:00:00:00:00:00:00:00:00:00:00:00:00:00:00:00:00:00:00:00:00:00:00:00:00:00:00:00:00:00:00:00:00:00:00:00:00:00:00:00:00:00:00:00:00:00:00:00:00:00:00:00:00:00:00:00:00:00:00:00:00:00:00:00:00:00:00:00:00:00:00:00:00:00:00:00:00:00:00:00:00:00:00:00:00:00:00:00:00:00:00:00:00:00:00:00:00:00:00:00:00:00:00:00:00:00:00:00:00:00:00:00:00:00:00:00:00:00:0000:00:00:00:00:00:00:12:22:22:22:22:22:22:22:22:22:22:22:22:22:22:22:22:22:22:22:11:11:11:11:11:00:00:01:13:33:33:33:33:33:33:33:33:31:10:00:00:00:00:00:00:00:00:00:00:00:00:00:00:00:00:00:00:00:00:00:00:00:00:00:00:00:00:00:00:00:00:00:00:00:00:00:00:00:00:00:00:00:00:00:00:00:00:00:00:00:00:00:00:00:00:00:00:00:00:00:00:00:00:00:00:00:00:00:00:00:00:00:00:00:00:00:00:00:00:00:00:00:00:00:00:00:00:00:00:00:00:00:00:00:00:00:00:00:00:00:00:00:00:00:0000:00:00:00:00:00:00:00:00:00:00:00:00:00:00:00:00:00:00:00:00:00:00:00:00:00:00:00:00:00:00:00:00:00:00:00:00:00:00:00:00:00:00:00:00:00:00:00:00:00:00:00:00:00:00:00:00:00:00:00:00:00:00:00:00:00:00:00:00:00:00:00:00:00:00:00:00:00:00:00:00:00:00:00:00:00:00:00:00:00:00:00:00:00:00:00:00:00:00:00:00:00:00:00:00:00:00:12:22:22:22:22:22:22:22:22:22:22:22:22:22:22:22:22:22:22:22:22:22:11:11:11:00:00:01:13:33:33:33:33:33:33:33:33:31:10:00:00:00:00:00:0000:00:00:00:00:00:00:00:00:00:00:00:00:00:00:00:00:00:00:00:00:00:00:00:00:00:00:00:00:00:00:00:00:00:00:00:00:00:00:00:00:00:00:00:00:00:00:00:00:00:00:00:00:00:00:00:00:00:00:00:00:00:00:00:00:00:00:00:00:00:00:00:00:00:00:00:00:00:00:00:00:00:00:00:00:00:00:00:00:00:00:00:00:00:00:00:00:00:00:00:00:00:00:00:00:00:00:00:00:00:00:00:00:00:00:00:00:00:00:00:00:00:00:00:00:00:00:00:00:00:00:00:00:00:00:00:00:00:00:00:00:00:00:00:00:00:00:00:00:00:00:0000:00:00:00:00:00:00:00:00:00:00:00:00:00:00:00:00:00:00:00:00:00:00:00:00:00:00:00:00:00:00:00:00:00:00:00:00:00:00:00:00:00:00:00:00:00:00:00:00:00:00:00:00:00:00:12:22:22:22:22:22:22:22:22:22:22:22:22:22:11:11:11:11:11:11:11:22:22:22:11:11:00:01:13:33:33:33:33:33:33:33:33:31:10:00:00:00:00:00:00:00:00:00:00:00:00:00:00:00:00:00:00:00:00:00:00:00:00:00:00:00:00:00:00:00:00:00:00:00:00:00:00:00:00:00:00:00:00:00:00:00:00:00:00:00:00:00:00:00:00:00:0000:00:00:00:00:00:00:00:00:00:00:00:00:00:00:00:00:00:00:00:00:00:00:00:00:00:00:00:00:00:00:00:00:00:00:00:00:00:00:00:00:00:00:00:00:00:00:00:00:00:00:00:00:00:00:00:00:00:00:00:00:00:00:00:00:00:00:00:00:00:00:00:00:00:00:00:00:00:00:00:00:00:00:00:00:00:00:00:00:00:00:00:00:00:00:00:00:00:00:00:00:00:00:00:00:00:00:00:00:00:00:00:00:00:00:00:00:00:00:00:00:00:00:00:00:00:00:00:00:00:00:00:00:00:00:00:00:00:00:00:00:00:00:00:00:00:00:00:00:00:00:0000:00:00:12:22:22:22:22:22:22:22:22:22:22:22:22:21:00:00:00:00:00:00:00:11:11:12:22:22:10:01:11:11:11:11:11:11:11:11:11:11:10:00:00:00:00:00:00:00:00:00:00:00:00:00:00:00:00:00:00:00:00:00:00:00:00:00:00:00:00:00:00:00:00:00:00:00:00:00:00:00:00:00:00:00:00:00:00:00:00:00:00:00:00:00:00:00:00:00:00:00:00:00:00:00:00:00:00:00:00:00:00:00:00:00:00:00:00:00:00:00:00:00:00:00:00:00:00:00:00:00:00:00:00:00:00:00:00:00:00:00:00:00:00:00:00:00:00:00:00:00:0000:00:00:00:00:00:00:00:00:00:00:00:00:00:00:00:00:00:00:00:00:00:00:00:00:00:00:00:00:00:00:00:00:00:00:00:00:00:00:00:00:00:00:00:00:00:00:00:00:00:00:00:00:00:00:00:00:00:00:00:00:00:00:00:00:00:00:00:00:00:00:00:00:00:00:00:00:00:00:00:00:00:00:00:00:00:00:00:00:00:00:00:00:00:00:00:00:00:00:00:00:00:00:11:11:11:11:11:11:11:11:11:11:11:11:11:10:00:00:00:00:00:00:00:00:00:01:11:11:10:01:11:11:11:11:11:11:11:11:11:11:10:00:00:00:00:00:00:00:00:00:0000:00:00:00:00:00:00:00:00:00:00:00:00:00:00:00:00:00:00:00:00:00:00:00:00:00:00:00:00:00:00:00:00:00:00:00:00:00:00:00:00:00:00:00:00:00:00:00:00:00:00:00:00:00:00:00:00:00:00:00:00:00:00:00:00:00:00:00:00:00:00:00:00:00:00:00:00:00:00:00:00:00:00:00:00:00:00:00:00:00:00:00:00:00:00:00:00:00:00:00:00:00:00:00:00:00:00:00:00:00:00:00:00:00:00:00:00:00:00:00:00:00:00:00:00:00:00:00:00:00:00:00:00:00:00:00:00:00:00:00:00:00:00:00:00:00:00:00:00:00:00:0000:00:00:00:00:00:00:00:00:00:00:00:00:00:00:00:00:00:00:00:00:00:00:00:00:00:00:00:00:00:00:00:00:00:00:00:00:00:00:00:00:00:00:00:00:00:00:00:00:00:00:00:00:00:00:00:00:00:00:00:00:00:00:00:00:00:00:00:00:00:00:00:00:00:00:00:00:00:00:00:00:00:00:00:00:00:00:00:00:00:00:00:00:00:00:00:00:00:00:00:00:00:00:00:00:00:00:00:00:00:00:00:00:00:00:00:00:00:00:00:00:00:00:00:00:00:00:00:00:00:00:00:00:00:00:00:00:00:00:00:00:00:00:00:00:00:00:00:00:00:00:0000:00:00:00:00:00:00:00:00:00:00:00:00:00:00:00:00:00:00:00:00:00:00:00:00:00:00:00:00:00:00:00:00:00:00:00:00:00:00:00:00:00:00:00:00:00:00:00:00:00:00:00:00:00:00:00:00:00:00:00:00:00:00:00:00:00:00:00:00:00:00:00:00:00:00:00:00:00:00:00:00:00:00:00:00:00:00:00:00:00:00:00:00:00:00:00:00:00:00:00:00:00:00:00:00:00:00:00:00:00:00:00:00:00:00:00:00:00:00:00:00:00:00:00:00:00:00:00:00:00:00:00:00:00:00:00:00:00:00:00:00:00:00:00:00:00:00:00:00:00:00:0000:00:00:00:00:00:00:00:00:00:00:00:00:00:00:00:00:00:00:00:00:00:00:00:00:00:00:00:00:00:00:00:00:00:00:00:00:00:00:00:00:00:00:00:00:00:00:00:00:00:00:00:00:00:00:00:00:00:00:00:00:00:00:00:00:00:00:00:00:00:00:00:00:00:00:00:00:00:00:00:00:00:00:00:00:00:00:00:00:00:00:00:00:00:00:00:00:00:00:00:00:00:00:00:00:00:00:00:00:00:00:00:00:00:00:00:00:00:00:00:00:00:00:00:00:00:00:00:00:00:00:00:00:00:00:00:00:00:00:00:00:00:00:00:00:00:00:00:00:00:00:0000:00:00:00:00:00:00:00:00:00:00:00:00:00:00:00:00:00:00:00:00:00:00:00:00:00:00:00:00:00:00:00:00:00:00:00:00:00:00:00:00:00:00:00:00:00:00:00:00:00:00:00:00:00:00:00:00:00:00:00:00:00:00:00:00:00:00:00:00:00:00:00:00:00:00:00:00:00:00:00:00:00:00:00:00:00:00:00:00:00:00:00:00:00:00:00:00:00:00:00:00:00:00:00:00:00:00:00:00:00:00:00:00:00:00:00:00:00:00:00:00:00:00:00:00:00:00:00:00:00:00:00:00:00:00:00:00:00:00:00:00:00:00:00:00:00:00:00:00:00:00:0000:00:00:00:00:00:00:00:00:00:00:00:00:00:00:00:00:00:00:00:00:00:00:00:00:00:00:00:00:00:00:00:00:00:00:00:00:00:00:00:00:00, 100 x 500, 500)), List(List(List(, dis_ok, 100, percent), unknown, Waste Toner, wasteToner)), false, List(4800), warning, SHARP-125, List(List(List(5000, -3, 18), Staple Cartridge, 32)), #N/A, , 31, List(List(List(100, empty, 0, sheets), Bypass Tray, 1, false, true, -2, -2, unknown, other, -2, unknown, micrometers, -2, custom-media-type-stationery-stationery-1, MX-MF10, Bypass Tray, false), List(List(1200, empty, 0, sheets), Tray 1, 2, false, false, 215900, 279400, na-letter-white, 215900 x 279400, 279400, LETTER, micrometers, 215900, custom-media-type-stationery-stationery-1, TRAY 1, Tray 1, false), List(List(800, , 400, sheets), Tray 2, 3, false, false, 210000, 297000, iso-a4-white, 210000 x 297000, 297000, A4, micrometers, 210000, custom-media-type-stationery-stationery-1, TRAY 2, Tray 2, false), List(List(500, empty, 0, sheets), Tray 3, 4, false, false, 279400, 215900, na-letter-white, 279400 x 215900, 215900, LETTERR, micrometers, 279400, custom-media-type-stationery-stationery-1, TRAY 3, Tray 3, false), List(List(500, empty, 0, sheets), Tray 4, 5, false, false, 215900, 279400, na-letter-transparent, 215900 x 279400, 279400, LETTER, micrometers, 215900, transparency, TRAY 4, Tray 4, false), List(List(3000, empty, 0, sheets), Large Capacity Cassette, 11, false, false, 431800, 279400, ledger-white, 431800 x 279400, 279400, LEDGERR, micrometers, 431800, custom-media-type-stationery-stationery-1, MX-LCX3, Large Capacity Cassette, false), List(List(, unknown, , sheets), Auto Select, 31, false, false, -2, -2, unknown, other, -2, unknown, micrometers, -2, unknown, , Auto Select, true)), List(, US, en), , List(), List(List(List(100, ok, 37, percent), cyan, Cyan Toner, toner), List(List(100, ok, 17, percent), magenta, Magenta Toner, toner), List(List(100, ok, 30, percent), yellow, Yellow Toner, toner), List(List(100, ok, 20, percent), black, Black Toner, toner), List(List(100, ok, 87, percent), cyan, Cyan Photoconductive Drum, opc), List(List(100, ok, 87, percent), magenta, Magenta Photoconductive Drum, opc), List(List(100, ok, 87, percent), yellow, Yellow Photoconductive Drum, opc), List(List(100, ok, 85, percent), black, Black Photoconductive Drum, opc), List(List(100, ok, 53, percent), cyan, Cyan Developer, developer), List(List(100, ok, 53, percent), magenta, Magenta Developer, developer), List(List(100, ok, 53, percent), yellow, Yellow Developer, developer), List(List(100, ok, 43, percent), black, Black Developer, developer)), List(4194304), SHARP MX-8090N, 12, List(List(List(100, notFull, , sheets), faceDown, Right Tray, 2, MX-TR14, Right Tray, firstToLast), List(List(1500, , 1500, sheets), faceDown, Finisher Upper Tray, 12, MX-FN21-1, Finisher Upper Tray, firstToLast), List(List(2500, , 2500, sheets), faceDown, Finisher Lower Tray, 13, MX-FN21-3, Finisher Lower Tray, firstToLast), List(List(250, , 250, sheets), faceDown, Finisher Middle Tray, 14, MX-FN21-2, Finisher Middle Tray, firstToLast)), 6504620X00, List(), 3308192, List(false, false, false, false, false, false, false, false, false, false, false, false, false, false, false, false, false, false, false, false, false, false, false, false, true, false), 1, 7 days, 2:00:51.75), List(List(List(24-31-84-A2-0F-16, 1, 6), List(, 2, 24)), List(List(127.0.0.1, 172.29.240.22, 2, 255.0.0.0), List(172.29.241.161, 172.29.240.22, 1, 255.255.254.0))), List(List(List(List(0, 1, 1), List(0, 2, 1), List(0, 3, 1), List(0, 4, 1), List(0, 5, 1)), List(), List(List(1, simplex), List(2, duplexLongEdgeBinding), List(3, duplexShortEdgeBinding))))), 1733472136665, smsProps)</td><td>2024-12-06T08:02:16.8400000Z</td><td>List(rp.mib/dev/2be00f09-5d33-47a3-ba1e-97fece8e7ff6)</td><td>List({\"scope\":\"device\",\"type\":\"sas\",\"issuer\":\"iothub\"}, 638658819029400530, 2be00f09-5d33-47a3-ba1e-97fece8e7ff6, UTF-8, application/JSON, 2024-12-06T08:02:16.8400000Z)</td></tr></tbody></table></div>"
      ]
     },
     "metadata": {
      "application/vnd.databricks.v1+output": {
       "addedWidgets": {},
       "aggData": [],
       "aggError": "",
       "aggOverflow": false,
       "aggSchema": [],
       "aggSeriesLimitReached": false,
       "aggType": "",
       "arguments": {},
       "columnCustomDisplayInfos": {},
       "data": [
        [
         [
          "mn=TVg4MDkwTg==:sn=NjUwNDYyMFgwMA==",
          "manualUpdate",
          [
           [
            "172.29.241.161",
            [
             [
              "true",
              "true",
              [
               "false",
               ""
              ],
              [
               "false",
               "0"
              ],
              [
               "true",
               "1"
              ],
              "true",
              "true",
              "true",
              "true"
             ]
            ],
            "CSET_WINLATIN1",
            [
             "duplex",
             [
              "false",
              "41,46,30,5,2,7,11,18,22,50,51"
             ]
            ],
            "",
            [
             [
              [
               [
                [
                 [
                  [
                   0
                  ],
                  [
                   0
                  ],
                  [
                   0
                  ],
                  [
                   0
                  ],
                  0
                 ],
                 [
                  0
                 ]
                ],
                [
                 [
                  [
                   [
                    [
                     -1
                    ],
                    [
                     -1
                    ],
                    [
                     -1
                    ],
                    0
                   ],
                   [
                    -1
                   ]
                  ],
                  [
                   [
                    [
                     [
                      "",
                      -1
                     ],
                     [
                      "",
                      -1
                     ],
                     [
                      "",
                      -1
                     ],
                     0
                    ],
                    [
                     "",
                     -1
                    ]
                   ],
                   0
                  ],
                  [
                   [
                    [
                     [
                      "",
                      -1
                     ],
                     [
                      "",
                      -1
                     ],
                     [
                      "",
                      -1
                     ],
                     0
                    ],
                    [
                     "",
                     -1
                    ]
                   ],
                   0
                  ],
                  [
                   [
                    [
                     [
                      "",
                      -1
                     ],
                     [
                      "",
                      -1
                     ],
                     [
                      "",
                      -1
                     ],
                     0
                    ],
                    [
                     "",
                     -1
                    ]
                   ],
                   0
                  ],
                  [
                   [
                    [
                     [
                      "",
                      -1
                     ],
                     [
                      "",
                      -1
                     ],
                     [
                      "",
                      -1
                     ],
                     0
                    ],
                    [
                     "",
                     -1
                    ]
                   ],
                   0
                  ],
                  0
                 ],
                 [
                  [
                   [
                    [
                     -1
                    ],
                    [
                     -1
                    ],
                    [
                     -1
                    ],
                    0
                   ],
                   [
                    -1
                   ]
                  ],
                  [
                   [
                    [
                     [
                      "",
                      -1
                     ],
                     [
                      "",
                      -1
                     ],
                     [
                      "",
                      -1
                     ],
                     0
                    ],
                    [
                     "",
                     -1
                    ]
                   ],
                   0
                  ],
                  [
                   [
                    [
                     [
                      "",
                      -1
                     ],
                     [
                      "",
                      -1
                     ],
                     [
                      "",
                      -1
                     ],
                     0
                    ],
                    [
                     "",
                     -1
                    ]
                   ],
                   0
                  ],
                  [
                   [
                    [
                     [
                      "",
                      -1
                     ],
                     [
                      "",
                      -1
                     ],
                     [
                      "",
                      -1
                     ],
                     0
                    ],
                    [
                     "",
                     -1
                    ]
                   ],
                   0
                  ],
                  [
                   [
                    [
                     [
                      "",
                      -1
                     ],
                     [
                      "",
                      -1
                     ],
                     [
                      "",
                      -1
                     ],
                     0
                    ],
                    [
                     "",
                     -1
                    ]
                   ],
                   0
                  ],
                  0
                 ],
                 [
                  [
                   [
                    [
                     -1
                    ],
                    0
                   ],
                   [
                    -1
                   ]
                  ],
                  [
                   [
                    [
                     [
                      "",
                      -1
                     ],
                     0
                    ],
                    [
                     "",
                     -1
                    ]
                   ],
                   0
                  ],
                  0
                 ],
                 [
                  [
                   [
                    [
                     -1
                    ],
                    [
                     -1
                    ],
                    [
                     -1
                    ],
                    [
                     -1
                    ],
                    0
                   ],
                   [
                    -1
                   ]
                  ],
                  [
                   [
                    [
                     [
                      "",
                      -1
                     ],
                     [
                      "",
                      -1
                     ],
                     [
                      "",
                      -1
                     ],
                     [
                      "",
                      -1
                     ],
                     0
                    ],
                    [
                     "",
                     -1
                    ]
                   ],
                   0
                  ],
                  [
                   [
                    [
                     [
                      "",
                      -1
                     ],
                     [
                      "",
                      -1
                     ],
                     [
                      "",
                      -1
                     ],
                     [
                      "",
                      -1
                     ],
                     0
                    ],
                    [
                     "",
                     -1
                    ]
                   ],
                   0
                  ],
                  [
                   [
                    [
                     [
                      "",
                      -1
                     ],
                     [
                      "",
                      -1
                     ],
                     [
                      "",
                      -1
                     ],
                     [
                      "",
                      -1
                     ],
                     0
                    ],
                    [
                     "",
                     -1
                    ]
                   ],
                   0
                  ],
                  [
                   [
                    [
                     [
                      "",
                      -1
                     ],
                     [
                      "",
                      -1
                     ],
                     [
                      "",
                      -1
                     ],
                     [
                      "",
                      -1
                     ],
                     0
                    ],
                    [
                     "",
                     -1
                    ]
                   ],
                   0
                  ],
                  0
                 ]
                ],
                [
                 [
                  [
                   [
                    0
                   ],
                   [
                    0
                   ],
                   [
                    0
                   ],
                   [
                    0
                   ],
                   0
                  ],
                  [
                   0
                  ]
                 ],
                 0
                ],
                [
                 [
                  [
                   [
                    0
                   ],
                   [
                    0
                   ],
                   [
                    0
                   ],
                   [
                    0
                   ],
                   0
                  ],
                  [
                   0
                  ]
                 ],
                 0
                ],
                [
                 [
                  [
                   [
                    0
                   ],
                   [
                    0
                   ],
                   [
                    0
                   ],
                   [
                    0
                   ],
                   0
                  ],
                  [
                   0
                  ]
                 ],
                 0
                ],
                [
                 [
                  [
                   [
                    0
                   ],
                   [
                    0
                   ],
                   [
                    0
                   ],
                   [
                    0
                   ],
                   0
                  ],
                  [
                   0
                  ]
                 ],
                 0
                ],
                0
               ]
              ],
              [
               [
                [
                 [
                  [
                   [
                    [
                     683
                    ],
                    [
                     -1
                    ],
                    [
                     -1
                    ],
                    683
                   ],
                   [
                    647
                   ]
                  ],
                  [
                   [
                    [
                     [
                      "",
                      -1
                     ],
                     [
                      "",
                      -1
                     ],
                     [
                      "",
                      -1
                     ],
                     0
                    ],
                    [
                     "",
                     -1
                    ]
                   ],
                   0
                  ],
                  [
                   [
                    [
                     [
                      "",
                      -1
                     ],
                     [
                      "",
                      -1
                     ],
                     [
                      "",
                      -1
                     ],
                     0
                    ],
                    [
                     "",
                     -1
                    ]
                   ],
                   0
                  ],
                  [
                   [
                    [
                     [
                      "",
                      -1
                     ],
                     [
                      "",
                      -1
                     ],
                     [
                      "",
                      -1
                     ],
                     0
                    ],
                    [
                     "",
                     -1
                    ]
                   ],
                   0
                  ],
                  [
                   [
                    [
                     [
                      "",
                      -1
                     ],
                     [
                      "",
                      -1
                     ],
                     [
                      "",
                      -1
                     ],
                     0
                    ],
                    [
                     "",
                     -1
                    ]
                   ],
                   0
                  ],
                  1330
                 ],
                 [
                  [
                   [
                    0
                   ]
                  ],
                  [
                   [
                    [
                     -1
                    ]
                   ],
                   0
                  ],
                  [
                   [
                    [
                     -1
                    ]
                   ],
                   0
                  ],
                  [
                   [
                    [
                     -1
                    ]
                   ],
                   0
                  ],
                  0
                 ],
                 [
                  [
                   [
                    [
                     39
                    ],
                    [
                     -1
                    ],
                    [
                     -1
                    ],
                    39
                   ],
                   [
                    24
                   ]
                  ],
                  [
                   [
                    [
                     [
                      "",
                      -1
                     ],
                     [
                      "",
                      -1
                     ],
                     [
                      "",
                      -1
                     ],
                     0
                    ],
                    [
                     "",
                     -1
                    ]
                   ],
                   0
                  ],
                  [
                   [
                    [
                     [
                      "",
                      -1
                     ],
                     [
                      "",
                      -1
                     ],
                     [
                      "",
                      -1
                     ],
                     0
                    ],
                    [
                     "",
                     -1
                    ]
                   ],
                   0
                  ],
                  [
                   [
                    [
                     [
                      "",
                      -1
                     ],
                     [
                      "",
                      -1
                     ],
                     [
                      "",
                      -1
                     ],
                     0
                    ],
                    [
                     "",
                     -1
                    ]
                   ],
                   0
                  ],
                  [
                   [
                    [
                     [
                      "",
                      -1
                     ],
                     [
                      "",
                      -1
                     ],
                     [
                      "",
                      -1
                     ],
                     0
                    ],
                    [
                     "",
                     -1
                    ]
                   ],
                   0
                  ],
                  63
                 ],
                 [
                  [
                   [
                    -1
                   ]
                  ],
                  0
                 ],
                 [
                  [
                   [
                    [
                     11
                    ],
                    11
                   ],
                   [
                    329
                   ]
                  ],
                  [
                   [
                    [
                     [
                      "",
                      -1
                     ],
                     0
                    ],
                    [
                     "",
                     -1
                    ]
                   ],
                   0
                  ],
                  340
                 ],
                 [
                  [
                   [
                    [
                     41085
                    ],
                    [
                     -1
                    ],
                    [
                     -1
                    ],
                    [
                     -1
                    ],
                    41085
                   ],
                   [
                    18781
                   ]
                  ],
                  [
                   [
                    [
                     [
                      "",
                      -1
                     ],
                     [
                      "",
                      -1
                     ],
                     [
                      "",
                      -1
                     ],
                     [
                      "",
                      -1
                     ],
                     0
                    ],
                    [
                     "",
                     -1
                    ]
                   ],
                   0
                  ],
                  [
                   [
                    [
                     [
                      "",
                      -1
                     ],
                     [
                      "",
                      -1
                     ],
                     [
                      "",
                      -1
                     ],
                     [
                      "",
                      -1
                     ],
                     0
                    ],
                    [
                     "",
                     -1
                    ]
                   ],
                   0
                  ],
                  [
                   [
                    [
                     [
                      "",
                      -1
                     ],
                     [
                      "",
                      -1
                     ],
                     [
                      "",
                      -1
                     ],
                     [
                      "",
                      -1
                     ],
                     0
                    ],
                    [
                     "",
                     -1
                    ]
                   ],
                   0
                  ],
                  [
                   [
                    [
                     [
                      "",
                      -1
                     ],
                     [
                      "",
                      -1
                     ],
                     [
                      "",
                      -1
                     ],
                     [
                      "",
                      -1
                     ],
                     0
                    ],
                    [
                     "",
                     -1
                    ]
                   ],
                   0
                  ],
                  59866
                 ]
                ]
               ],
               [
                [
                 [
                  [
                   [
                    0
                   ]
                  ],
                  [
                   [
                    [
                     -1
                    ]
                   ],
                   0
                  ],
                  [
                   [
                    [
                     -1
                    ]
                   ],
                   0
                  ],
                  [
                   [
                    [
                     -1
                    ]
                   ],
                   0
                  ],
                  0
                 ],
                 [
                  [
                   [
                    -1
                   ]
                  ],
                  0
                 ],
                 [
                  [
                   [
                    [
                     1286
                    ],
                    1286
                   ],
                   [
                    791
                   ]
                  ],
                  2077
                 ],
                 [
                  [
                   [
                    [
                     20
                    ],
                    [
                     -1
                    ],
                    20
                   ],
                   [
                    58
                   ]
                  ],
                  78
                 ]
                ]
               ]
              ],
              [
               38965
              ],
              [
               2680
              ],
              [
               "lifeCounter",
               "impressions",
               61599
              ],
              [
               [
                [
                 [
                  [
                   0
                  ],
                  [
                   0
                  ],
                  [
                   0
                  ],
                  [
                   0
                  ],
                  0
                 ],
                 [
                  0
                 ]
                ],
                [
                 [
                  [
                   [
                    [
                     -1
                    ],
                    [
                     -1
                    ],
                    [
                     -1
                    ],
                    0
                   ],
                   [
                    -1
                   ]
                  ],
                  [
                   [
                    [
                     [
                      "",
                      -1
                     ],
                     [
                      "",
                      -1
                     ],
                     [
                      "",
                      -1
                     ],
                     0
                    ],
                    [
                     "",
                     -1
                    ]
                   ],
                   0
                  ],
                  [
                   [
                    [
                     [
                      "",
                      -1
                     ],
                     [
                      "",
                      -1
                     ],
                     [
                      "",
                      -1
                     ],
                     0
                    ],
                    [
                     "",
                     -1
                    ]
                   ],
                   0
                  ],
                  [
                   [
                    [
                     [
                      "",
                      -1
                     ],
                     [
                      "",
                      -1
                     ],
                     [
                      "",
                      -1
                     ],
                     0
                    ],
                    [
                     "",
                     -1
                    ]
                   ],
                   0
                  ],
                  [
                   [
                    [
                     [
                      "",
                      -1
                     ],
                     [
                      "",
                      -1
                     ],
                     [
                      "",
                      -1
                     ],
                     0
                    ],
                    [
                     "",
                     -1
                    ]
                   ],
                   0
                  ],
                  0
                 ],
                 [
                  [
                   [
                    [
                     -1
                    ],
                    [
                     -1
                    ],
                    [
                     -1
                    ],
                    0
                   ],
                   [
                    -1
                   ]
                  ],
                  [
                   [
                    [
                     [
                      "",
                      -1
                     ],
                     [
                      "",
                      -1
                     ],
                     [
                      "",
                      -1
                     ],
                     0
                    ],
                    [
                     "",
                     -1
                    ]
                   ],
                   0
                  ],
                  [
                   [
                    [
                     [
                      "",
                      -1
                     ],
                     [
                      "",
                      -1
                     ],
                     [
                      "",
                      -1
                     ],
                     0
                    ],
                    [
                     "",
                     -1
                    ]
                   ],
                   0
                  ],
                  [
                   [
                    [
                     [
                      "",
                      -1
                     ],
                     [
                      "",
                      -1
                     ],
                     [
                      "",
                      -1
                     ],
                     0
                    ],
                    [
                     "",
                     -1
                    ]
                   ],
                   0
                  ],
                  [
                   [
                    [
                     [
                      "",
                      -1
                     ],
                     [
                      "",
                      -1
                     ],
                     [
                      "",
                      -1
                     ],
                     0
                    ],
                    [
                     "",
                     -1
                    ]
                   ],
                   0
                  ],
                  0
                 ],
                 [
                  [
                   [
                    [
                     -1
                    ],
                    [
                     -1
                    ],
                    [
                     -1
                    ],
                    [
                     -1
                    ],
                    0
                   ],
                   [
                    -1
                   ]
                  ],
                  [
                   [
                    [
                     [
                      "",
                      -1
                     ],
                     [
                      "",
                      -1
                     ],
                     [
                      "",
                      -1
                     ],
                     [
                      "",
                      -1
                     ],
                     0
                    ],
                    [
                     "",
                     -1
                    ]
                   ],
                   0
                  ],
                  [
                   [
                    [
                     [
                      "",
                      -1
                     ],
                     [
                      "",
                      -1
                     ],
                     [
                      "",
                      -1
                     ],
                     [
                      "",
                      -1
                     ],
                     0
                    ],
                    [
                     "",
                     -1
                    ]
                   ],
                   0
                  ],
                  [
                   [
                    [
                     [
                      "",
                      -1
                     ],
                     [
                      "",
                      -1
                     ],
                     [
                      "",
                      -1
                     ],
                     [
                      "",
                      -1
                     ],
                     0
                    ],
                    [
                     "",
                     -1
                    ]
                   ],
                   0
                  ],
                  [
                   [
                    [
                     [
                      "",
                      -1
                     ],
                     [
                      "",
                      -1
                     ],
                     [
                      "",
                      -1
                     ],
                     [
                      "",
                      -1
                     ],
                     0
                    ],
                    [
                     "",
                     -1
                    ]
                   ],
                   0
                  ],
                  0
                 ]
                ],
                [
                 [
                  [
                   [
                    0
                   ],
                   [
                    0
                   ],
                   [
                    0
                   ],
                   [
                    0
                   ],
                   0
                  ],
                  [
                   0
                  ]
                 ],
                 0
                ],
                [
                 [
                  [
                   [
                    0
                   ],
                   [
                    0
                   ],
                   [
                    0
                   ],
                   [
                    0
                   ],
                   0
                  ],
                  [
                   0
                  ]
                 ],
                 0
                ],
                [
                 [
                  [
                   [
                    0
                   ],
                   [
                    0
                   ],
                   [
                    0
                   ],
                   [
                    0
                   ],
                   0
                  ],
                  [
                   0
                  ]
                 ],
                 0
                ],
                [
                 [
                  [
                   [
                    0
                   ],
                   [
                    0
                   ],
                   [
                    0
                   ],
                   [
                    0
                   ],
                   0
                  ],
                  [
                   0
                  ]
                 ],
                 0
                ],
                0
               ]
              ],
              [
               "powerOnCounter",
               "impressions",
               24
              ],
              [
               [
                [
                 [
                  [
                   41818
                  ],
                  [
                   0
                  ],
                  [
                   0
                  ],
                  [
                   0
                  ],
                  41818
                 ],
                 [
                  19781
                 ]
                ],
                [
                 [
                  [
                   [
                    0
                   ],
                   [
                    0
                   ],
                   [
                    0
                   ],
                   [
                    0
                   ],
                   0
                  ],
                  [
                   0
                  ]
                 ],
                 0
                ],
                [
                 [
                  [
                   [
                    0
                   ],
                   [
                    0
                   ],
                   [
                    0
                   ],
                   [
                    0
                   ],
                   0
                  ],
                  [
                   0
                  ]
                 ],
                 0
                ],
                [
                 [
                  [
                   [
                    0
                   ],
                   [
                    0
                   ],
                   [
                    0
                   ],
                   [
                    0
                   ],
                   0
                  ],
                  [
                   0
                  ]
                 ],
                 0
                ],
                [
                 [
                  [
                   [
                    0
                   ],
                   [
                    0
                   ],
                   [
                    0
                   ],
                   [
                    0
                   ],
                   0
                  ],
                  [
                   0
                  ]
                 ],
                 0
                ],
                61599
               ],
               [
                [
                 [
                  [
                   1306
                  ],
                  [
                   0
                  ],
                  [
                   0
                  ],
                  1306
                 ],
                 [
                  849
                 ]
                ],
                2155
               ]
              ]
             ]
            ],
            [
             [
              "Front Cover",
              "doorClosed"
             ],
             [
              "Right Side Cover",
              "doorClosed"
             ],
             [
              "Duplex Cover",
              "doorClosed"
             ],
             [
              "Toner Cover",
              "doorClosed"
             ],
             [
              "Waste Toner Cover",
              "doorClosed"
             ],
             [
              "Vertical Feed Cover",
              "doorClosed"
             ],
             [
              "LCC Upper Cover",
              "doorClosed"
             ],
             [
              "Relay Unit Cover",
              "doorClosed"
             ],
             [
              "Finisher Front Cover",
              "doorClosed"
             ],
             [
              "Decurler Front Cover",
              "doorClosed"
             ]
            ],
            "SHARP MX-8090N",
            [
             [
              "SHARP MX-8090N",
              "1.3.6.1.4.1.2385.3.1.125.1.2",
              "1",
              "0",
              "3",
              "1.3.6.1.2.1.25.3.1.5"
             ],
             [
              "Ethernet port",
              "1.3.6.1.4.1.2385.3.1.125.1.2",
              "3",
              "0",
              "2",
              "1.3.6.1.2.1.25.3.1.4"
             ],
             [
              "Copier",
              "1.3.6.1.4.1.2385.3.1.125.1.2",
              "4",
              "0",
              "3",
              "1.3.6.1.4.1.2385.1.1.3.1.3"
             ],
             [
              "Multi-Functional Device",
              "1.3.6.1.4.1.2385.3.1.125.1.2",
              "5",
              "0",
              "3",
              "1.3.6.1.2.1.25.3.1.1"
             ],
             [
              "Scanner Unit",
              "1.3.6.1.4.1.2385.3.1.125.1.2",
              "6",
              "0",
              "2",
              "1.3.6.1.4.1.2385.1.1.3.1.1"
             ],
             [
              "Network Scanner",
              "1.3.6.1.4.1.2385.3.1.125.2.41",
              "7",
              "0",
              "2",
              "1.3.6.1.4.1.2385.1.1.3.1.2"
             ],
             [
              "Hard Disk Drive",
              "1.3.6.1.4.1.2385.3.1.125.2.46",
              "8",
              "0",
              "2",
              "1.3.6.1.2.1.25.3.1.6"
             ],
             [
              "Duplex Single Pass Feeder",
              "1.3.6.1.4.1.2385.3.1.125.2.30",
              "9",
              "0",
              "1",
              "1.3.6.1.4.1.2385.1.1.3.1.101"
             ],
             [
              "Bypass Tray",
              "1.3.6.1.4.1.2385.3.1.125.2.5",
              "21",
              "0",
              "2",
              "1.3.6.1.4.1.2385.1.1.3.1.102"
             ],
             [
              "Large Capacity Cassette",
              "1.3.6.1.4.1.2385.3.1.125.2.2",
              "27",
              "0",
              "2",
              "1.3.6.1.4.1.2385.1.1.3.1.102"
             ],
             [
              "Escape Tray",
              "1.3.6.1.4.1.2385.3.1.125.2.7",
              "41",
              "0",
              "2",
              "1.3.6.1.4.1.2385.1.1.3.1.203"
             ],
             [
              "Finisher",
              "1.3.6.1.4.1.2385.3.1.125.2.11",
              "54",
              "0",
              "2",
              "1.3.6.1.4.1.2385.1.1.3.1.203"
             ],
             [
              "Punch Module B",
              "1.3.6.1.4.1.2385.3.1.125.2.18",
              "57",
              "0",
              "2",
              "1.3.6.1.4.1.2385.1.1.3.1.203"
             ],
             [
              "De-curler Unit",
              "1.3.6.1.4.1.2385.3.1.125.2.22",
              "60",
              "0",
              "2",
              "1.3.6.1.4.1.2385.1.1.3.1.203"
             ],
             [
              "Application Communication Module",
              "1.3.6.1.4.1.2385.3.1.125.2.50",
              "86",
              "0",
              "2",
              "1.3.6.1.2.1.25.3.1.1"
             ],
             [
              "External Account Module",
              "1.3.6.1.4.1.2385.3.1.125.2.51",
              "87",
              "0",
              "2",
              "1.3.6.1.2.1.25.3.1.1"
             ]
            ],
            [
             [
              "bmp"
             ],
             [
              "",
              "bmp",
              "100",
              "42:4D:BA:62:00:00:00:00:00:00:4A:00:00:00:28:00:00:00:F4:01:00:00:64:00:00:00:01:00:04:00:00:00:00:00:70:62:00:00:00:00:00:00:00:00:00:00:05:00:00:00:05:00:00:00:FF:FF:FF:00:00:00:00:00:80:80:80:00:C0:C0:C0:00:FF:FF:FF:00:00:00:00:00:00:00:00:00:00:00:00:00:00:00:00:00:00:00:00:00:00:00:00:00:00:00:00:00:00:00:00:00:00:00:00:00:00:00:00:00:00:00:00:00:00:00:00:00:00:00:00:00:00:00:00:00:00:00:00:00:00:00:00:00:00:00:00:00:00:00:00:00:00:00:00:00:00:0000:00:00:00:00:00:00:00:00:00:00:00:00:00:00:00:00:00:00:00:00:00:00:00:00:00:00:00:00:00:00:00:00:00:00:00:00:00:00:00:00:00:00:00:00:00:00:00:00:00:00:00:00:00:00:00:00:00:00:00:00:00:00:00:00:00:00:00:00:00:00:00:00:00:00:00:00:00:00:00:00:00:00:00:00:00:00:00:00:00:00:00:00:00:00:00:00:00:00:00:00:00:00:00:00:00:00:00:00:00:00:00:00:00:00:00:00:00:00:00:00:00:00:00:00:00:00:00:00:00:00:00:00:00:00:00:00:00:00:00:00:00:00:00:00:00:00:00:00:00:00:0000:00:00:00:00:00:00:00:00:00:00:00:00:00:00:00:00:00:00:00:00:00:00:00:00:00:00:00:00:00:00:00:00:00:00:00:00:00:00:00:00:00:00:00:00:00:00:00:00:00:00:00:00:00:00:00:00:00:00:00:00:00:00:00:00:00:00:00:00:00:00:00:00:00:00:00:00:00:00:00:00:00:00:00:00:00:00:00:00:00:00:00:00:00:00:00:00:00:00:00:00:00:00:00:00:00:00:00:00:00:00:00:00:00:00:00:00:00:00:00:00:00:00:00:00:00:00:00:00:00:00:00:00:00:00:00:00:00:00:00:00:00:00:00:00:00:00:00:00:00:00:0000:01:11:10:00:00:00:00:00:00:00:00:00:01:11:10:00:11:10:00:00:00:01:11:01:11:11:00:00:00:00:00:00:00:00:00:00:00:00:00:00:00:00:00:00:00:00:00:00:00:00:00:00:00:00:00:11:11:10:11:11:00:00:00:00:00:00:00:00:00:00:00:00:00:00:11:11:00:00:00:00:00:00:00:00:00:00:00:00:00:00:00:00:00:00:00:00:00:00:00:00:00:00:00:00:00:00:00:00:00:00:00:00:00:00:00:00:00:00:00:00:00:00:00:00:00:00:00:00:00:00:00:00:00:00:00:00:00:00:00:00:00:00:00:00:00:00:00:00:00:00:0000:00:00:00:00:00:00:00:00:00:00:00:00:00:00:00:00:00:00:00:00:00:00:00:00:00:00:00:00:00:00:00:00:00:00:00:00:00:00:00:00:00:00:00:00:00:00:00:00:00:00:00:00:00:00:00:00:00:00:00:00:00:00:00:00:00:00:00:00:00:00:00:00:00:00:00:00:00:00:00:00:00:00:00:00:00:00:00:00:00:00:00:00:00:00:00:00:00:00:00:00:01:11:10:00:00:00:00:00:00:00:00:00:01:11:10:00:11:10:00:00:00:01:11:01:11:11:00:00:00:00:00:00:00:00:00:00:00:00:00:00:00:00:00:00:00:00:00:00:00:00:0000:00:00:00:11:11:10:11:11:00:00:00:00:00:00:00:00:00:00:00:00:00:00:11:11:00:00:00:00:00:00:00:00:00:00:00:00:00:00:00:00:00:00:00:00:00:00:00:00:00:00:00:00:00:00:00:00:00:00:00:00:00:00:00:00:00:00:00:00:00:00:00:00:00:00:00:00:00:00:00:00:00:00:00:00:00:00:00:00:00:00:00:00:00:00:00:00:00:00:00:00:00:00:00:00:00:00:00:00:00:00:00:00:00:00:00:00:00:00:00:00:00:00:00:00:00:00:00:00:00:00:00:00:00:00:00:00:00:00:00:00:00:00:00:00:00:00:00:00:00:00:0000:00:00:00:00:00:00:00:00:00:00:00:00:00:00:00:00:00:00:00:00:00:00:00:00:00:00:00:00:00:00:00:00:00:00:00:00:00:00:00:00:00:00:00:00:00:00:00:02:22:22:22:22:22:22:22:22:22:22:22:22:22:22:22:22:22:22:22:22:22:22:22:22:22:22:22:22:22:22:22:22:22:22:22:22:22:22:22:22:22:22:22:22:22:22:22:22:22:22:11:11:11:11:11:11:11:12:22:22:22:22:22:22:22:22:22:22:22:22:22:22:22:22:22:22:22:00:00:00:00:00:00:00:00:00:00:00:00:00:00:00:00:00:00:00:00:00:00:00:00:00:0000:00:00:00:00:00:00:00:00:00:00:00:00:00:00:00:00:00:00:00:00:00:00:00:00:00:00:00:00:00:00:00:00:00:00:00:00:00:00:00:00:00:00:00:00:00:00:00:00:00:00:00:00:00:00:00:00:00:00:00:00:00:00:00:00:00:00:00:00:00:00:00:00:00:00:00:00:00:00:00:00:00:00:00:00:00:00:00:00:00:00:00:00:00:00:00:00:00:00:00:00:00:00:00:00:00:00:00:00:00:00:00:00:00:00:00:00:00:00:00:00:00:00:00:00:00:00:00:00:00:00:00:00:00:00:00:00:00:00:00:00:00:00:00:00:00:00:00:02:44:44:4444:44:44:44:44:44:44:44:44:44:44:44:24:44:44:44:44:44:44:44:42:44:44:44:44:44:44:44:44:44:44:44:44:44:44:44:44:44:44:44:44:44:44:44:44:44:44:11:11:11:11:11:11:11:14:44:44:44:44:44:44:44:44:44:44:44:44:44:44:44:44:44:44:42:00:00:00:00:00:00:00:00:00:00:00:00:00:00:00:00:00:00:00:00:00:00:00:00:00:00:00:00:00:00:00:00:00:00:00:00:00:00:00:00:00:00:00:00:00:00:00:00:00:00:00:00:00:00:00:00:00:00:00:00:00:00:00:00:00:00:00:00:00:00:00:00:00:00:00:00:00:0000:00:00:00:00:00:00:00:00:00:00:00:00:00:00:00:00:00:00:00:00:00:00:00:00:00:00:00:00:00:00:00:00:00:00:00:00:00:00:00:00:00:00:00:00:00:00:00:00:00:00:00:00:00:00:00:00:00:00:00:00:00:00:00:00:00:00:00:00:00:00:00:00:00:00:00:00:00:00:00:00:00:00:00:00:00:00:00:00:00:00:00:00:00:00:00:02:44:44:44:44:44:44:44:44:44:44:44:44:44:44:44:24:44:44:44:44:44:44:44:42:44:44:44:44:44:44:44:44:44:44:44:44:44:44:44:44:44:44:44:44:44:44:44:44:44:44:11:11:11:11:1111:11:14:44:44:44:44:44:44:44:44:44:44:44:44:44:44:44:44:44:44:42:00:00:00:00:00:00:00:00:00:00:00:00:00:00:00:00:00:00:00:00:00:00:00:00:00:00:00:00:00:00:00:00:00:00:00:00:00:00:00:00:00:00:00:00:00:00:00:00:00:00:00:00:00:00:00:00:00:00:00:00:00:00:00:00:00:00:00:00:00:00:00:00:00:00:00:00:00:00:00:00:00:00:00:00:00:00:00:00:00:00:00:00:00:00:00:00:00:00:00:00:00:00:00:00:00:00:00:00:00:00:00:00:00:00:00:00:00:00:00:00:00:00:00:00:00:00:00:00:00:0000:00:00:00:00:00:00:00:00:00:00:00:00:00:00:00:00:00:00:00:00:00:00:00:00:00:00:00:00:00:00:00:00:00:00:00:00:00:00:00:00:00:00:00:02:44:44:44:44:44:44:44:44:44:44:44:44:44:44:44:24:44:44:44:44:44:44:44:42:44:44:44:44:44:44:44:44:44:44:44:44:44:44:44:44:44:44:44:44:44:44:44:44:44:44:11:11:11:11:11:11:11:14:44:44:44:44:44:44:44:44:44:44:44:44:44:44:44:44:44:44:42:00:00:00:00:00:00:00:00:00:00:00:00:00:00:00:00:00:00:00:00:00:00:00:00:00:00:00:00:00:0000:00:00:00:00:00:00:00:00:00:00:00:00:00:00:00:00:00:00:00:00:00:00:00:00:00:00:00:00:00:00:00:00:00:00:00:00:00:00:00:00:00:00:00:00:00:00:00:00:00:00:00:00:00:00:00:00:00:00:00:00:00:00:00:00:00:00:00:00:00:00:00:00:00:00:00:00:00:00:00:00:00:00:00:00:00:00:00:00:00:00:00:00:00:00:00:00:00:00:00:00:00:00:00:00:00:00:00:00:00:00:00:00:00:00:00:00:00:00:00:00:00:00:00:00:00:00:00:00:00:00:00:00:00:00:00:00:00:00:00:00:00:00:00:02:44:44:44:44:44:44:4444:44:44:44:44:44:44:44:24:44:44:44:44:44:44:44:42:44:44:44:44:44:44:44:44:44:44:44:44:44:44:44:44:44:44:44:44:44:44:44:44:44:44:11:11:11:11:11:11:11:14:44:44:44:44:44:44:44:44:44:44:44:44:44:44:44:44:44:44:42:00:00:00:00:00:00:00:00:00:00:00:00:00:00:00:00:00:00:00:00:00:00:00:00:00:00:00:00:00:00:00:00:00:00:00:00:00:00:00:00:00:00:00:00:00:00:00:00:00:00:00:00:00:00:00:00:00:00:00:00:00:00:00:00:00:00:00:00:00:00:00:00:00:00:00:00:00:00:00:00:00:0000:00:00:00:00:00:00:00:00:00:00:00:00:00:00:00:00:00:00:00:00:00:00:00:00:00:00:00:00:00:00:00:00:00:00:00:00:00:00:00:00:00:00:00:00:00:00:00:00:00:00:00:00:00:00:00:00:00:00:00:00:00:00:00:00:00:00:00:00:00:00:00:00:00:00:00:00:00:00:00:00:00:00:00:00:00:00:00:00:00:00:00:02:44:44:44:44:44:44:44:44:44:44:44:44:44:44:44:24:44:44:44:44:44:44:44:42:44:44:44:44:44:44:44:44:44:44:44:44:44:44:44:44:44:44:44:44:44:44:44:44:44:44:11:11:11:11:11:11:11:14:4444:44:44:44:44:44:44:44:44:44:44:44:44:44:44:44:44:42:00:00:00:00:00:00:00:00:00:00:00:00:00:00:00:00:00:00:00:00:00:00:00:00:00:00:00:00:00:00:00:00:00:00:00:00:00:00:00:00:00:00:00:00:00:00:00:00:00:00:00:00:00:00:00:00:00:00:00:00:00:00:00:00:00:00:00:00:00:00:00:00:00:00:00:00:00:00:00:00:00:00:00:00:00:00:00:00:00:00:00:00:00:00:00:00:00:00:00:00:00:00:00:00:00:00:00:00:00:00:00:00:00:00:00:00:00:00:00:00:00:00:00:00:00:00:00:00:00:00:00:00:00:0000:00:00:00:00:00:00:00:00:00:00:00:00:00:00:00:00:00:00:00:00:00:00:00:00:00:00:00:00:00:00:00:00:00:00:00:00:00:00:00:02:44:44:44:44:44:44:44:44:44:44:44:44:44:44:44:24:44:44:44:44:44:44:44:42:44:44:44:44:44:44:44:44:44:44:44:44:44:44:44:44:44:44:44:44:44:44:44:44:44:44:11:11:11:11:11:11:11:14:44:44:44:44:44:44:44:44:44:44:44:44:44:44:44:44:44:44:42:00:00:00:00:00:00:00:00:00:00:00:00:00:00:00:00:00:00:00:00:00:00:00:00:00:00:00:00:00:00:00:00:00:0000:00:00:00:00:00:00:00:00:00:00:00:00:00:00:00:00:00:00:00:00:00:00:00:00:00:00:00:00:00:00:00:00:00:00:00:00:00:00:00:00:00:00:00:00:00:00:00:00:00:00:00:00:00:00:00:00:00:00:00:00:00:00:00:00:00:00:00:00:00:00:00:00:00:00:00:00:00:00:00:00:00:00:00:00:00:00:00:00:00:00:00:00:00:00:00:00:00:00:00:00:00:00:00:00:00:00:00:00:00:00:00:00:00:00:00:00:00:00:00:00:00:00:00:00:00:00:00:00:00:00:00:00:00:00:00:00:00:00:00:02:44:44:44:44:44:44:44:44:44:44:4444:44:44:44:24:44:44:44:44:44:44:44:42:44:44:44:44:44:44:44:44:44:44:44:44:44:44:44:44:44:44:44:44:44:44:44:44:44:44:11:11:11:11:11:11:11:14:44:44:44:44:44:44:44:44:44:44:44:44:44:44:44:44:44:44:42:00:00:00:00:00:00:00:00:00:00:00:00:00:00:00:00:00:00:00:00:00:00:00:00:00:00:00:00:00:00:00:00:00:00:00:00:00:00:00:00:00:00:00:00:00:00:00:00:00:00:00:00:00:00:00:00:00:00:00:00:00:00:00:00:00:00:00:00:00:00:00:00:00:00:00:00:00:00:00:00:00:00:00:00:00:0000:00:00:00:00:00:00:00:00:00:00:00:00:00:00:00:00:00:00:00:00:00:00:00:00:00:00:00:00:00:00:00:00:00:00:00:00:00:00:00:00:00:00:00:00:00:00:00:00:00:00:00:00:00:00:00:00:00:00:00:00:00:00:00:00:00:00:00:00:00:00:00:00:00:00:00:00:00:00:00:00:00:00:00:00:00:00:00:02:44:44:44:44:44:44:44:44:44:44:44:44:44:44:44:24:44:44:44:44:44:44:44:42:44:44:44:44:44:44:44:44:44:44:44:44:44:44:44:44:44:44:44:44:44:44:44:44:44:44:11:11:11:11:11:11:11:14:44:44:44:44:4444:44:44:44:44:44:44:44:44:44:44:44:44:42:00:00:00:00:00:00:00:00:00:00:00:00:00:00:00:00:00:00:00:00:00:00:00:00:00:00:00:00:00:00:00:00:00:00:00:00:00:00:00:00:00:00:00:00:00:00:00:00:00:00:00:00:00:00:00:00:00:00:00:00:00:00:00:00:00:00:00:00:00:00:00:00:00:00:00:00:00:00:00:00:00:00:00:00:00:00:00:00:00:00:00:00:00:00:00:00:00:00:00:00:00:00:00:00:00:00:00:00:00:00:00:00:00:00:00:00:00:00:00:00:00:00:00:00:00:00:00:00:00:00:00:00:00:00:00:00:00:0000:00:00:00:00:00:00:00:00:00:00:00:00:00:00:00:00:00:00:00:00:00:00:00:00:00:00:00:00:00:00:00:00:00:00:00:02:44:44:44:44:44:44:44:44:44:44:44:44:44:44:44:24:44:44:44:44:44:44:44:42:22:22:22:22:22:22:22:22:22:22:22:22:22:22:22:22:22:22:22:22:22:22:22:22:22:22:11:11:11:11:11:11:11:14:44:44:44:44:44:44:44:44:44:44:44:44:44:44:44:44:44:44:42:00:00:00:00:00:00:00:00:00:00:00:00:00:00:00:00:00:00:00:00:00:00:00:00:00:00:00:00:00:00:00:00:00:00:00:00:00:0000:00:00:00:00:00:00:00:00:00:00:00:00:00:00:00:00:00:00:00:00:00:00:00:00:00:00:00:00:00:00:00:00:00:00:00:00:00:00:00:00:00:00:00:00:00:00:00:00:00:00:00:00:00:00:00:00:00:00:00:00:00:00:00:00:00:00:00:00:00:00:00:00:00:00:00:00:00:00:00:00:00:00:00:00:00:00:00:00:00:00:00:00:00:00:00:00:00:00:00:00:00:00:00:00:00:00:00:00:00:00:00:00:00:00:00:00:00:00:00:00:00:00:00:00:00:00:00:00:00:00:00:00:00:00:00:02:44:44:44:44:44:44:44:44:44:44:44:44:44:44:4424:44:44:44:44:44:44:44:42:44:44:44:44:44:44:44:44:44:44:44:44:44:44:44:44:44:44:44:44:44:44:44:44:44:44:11:11:11:11:11:11:11:14:44:44:44:44:44:44:44:44:44:44:44:44:44:44:44:44:44:44:42:00:00:00:00:00:00:00:00:00:00:00:00:00:00:00:00:00:00:00:00:00:00:00:00:00:00:00:00:00:00:00:00:00:00:00:00:00:00:00:00:00:00:00:00:00:00:00:00:00:00:00:00:00:00:00:00:00:00:00:00:00:00:00:00:00:00:00:00:00:00:00:00:00:00:00:00:00:00:00:00:00:00:00:00:00:00:00:00:00:0000:00:00:00:00:00:00:00:00:00:00:00:00:00:00:00:00:00:00:00:00:00:00:00:00:00:00:00:00:00:00:00:00:00:00:00:00:00:00:00:00:00:00:00:00:00:00:00:00:00:00:00:00:00:00:00:00:00:00:00:00:00:00:00:00:00:00:00:00:00:00:00:00:00:00:00:00:00:00:00:00:00:00:00:02:44:44:44:44:44:44:44:44:44:44:44:44:44:44:44:24:44:44:44:44:44:44:44:42:44:44:44:44:44:44:44:44:44:44:44:44:44:44:44:44:44:44:44:44:44:44:44:44:44:44:11:11:11:11:11:11:11:14:44:44:44:44:44:44:44:44:4444:44:44:44:44:44:44:44:44:42:00:00:00:00:00:00:00:00:00:00:00:00:00:00:00:00:00:00:00:00:00:00:00:00:00:00:00:00:00:00:00:00:00:00:00:00:00:00:00:00:00:00:00:00:00:00:00:00:00:00:00:00:00:00:00:00:00:00:00:00:00:00:00:00:00:00:00:00:00:00:00:00:00:00:00:00:00:00:00:00:00:00:00:00:00:00:00:00:00:00:00:00:00:00:00:00:00:00:00:00:00:00:00:00:00:00:00:00:00:00:00:00:00:00:00:00:00:00:00:00:00:00:00:00:00:00:00:00:00:00:00:00:00:00:00:00:00:00:00:00:00:0000:00:00:00:00:00:00:00:00:00:00:00:00:00:00:00:00:00:00:00:00:00:00:00:00:00:00:00:00:00:00:00:02:44:44:44:44:44:44:44:44:44:44:44:44:44:44:44:24:44:44:44:44:44:44:44:42:44:44:44:44:44:44:44:44:44:44:44:44:44:44:44:44:44:44:44:44:44:44:44:44:44:44:11:11:11:11:11:11:11:14:44:44:44:44:44:44:44:44:44:44:44:44:44:44:44:44:44:44:42:00:00:00:00:00:00:00:00:00:00:00:00:00:00:00:00:00:00:00:00:00:00:00:00:00:00:00:00:00:00:00:00:00:00:00:00:00:00:00:00:00:0000:00:00:00:00:00:00:00:00:00:00:00:00:00:00:00:00:00:00:00:00:00:00:00:00:00:00:00:00:00:00:00:00:00:00:00:00:00:00:00:00:00:00:00:00:00:00:00:00:00:00:00:00:00:00:00:00:00:00:00:00:00:00:00:00:00:00:00:00:00:00:00:00:00:00:00:00:00:00:00:00:00:00:00:00:00:00:00:00:00:00:00:00:00:00:00:00:00:00:00:00:00:00:00:00:00:00:00:00:00:00:00:00:00:00:00:00:00:00:00:00:00:00:00:00:00:00:00:00:00:00:00:02:44:44:44:44:44:44:44:44:44:44:44:44:44:44:44:24:44:44:4444:44:44:44:42:44:44:44:44:44:44:44:44:44:44:44:44:44:44:44:44:44:44:44:44:44:44:44:44:44:44:11:11:11:11:11:11:11:14:44:44:44:44:44:44:44:44:44:44:44:44:44:44:44:44:44:44:42:00:00:00:00:00:00:00:00:00:00:00:00:00:00:00:00:00:00:00:00:00:00:00:00:00:00:00:00:00:00:00:00:00:00:00:00:00:00:00:00:00:00:00:00:00:00:00:00:00:00:00:00:00:00:00:00:00:00:00:00:00:00:00:00:00:00:00:00:00:00:00:00:00:00:00:00:00:00:00:00:00:00:00:00:00:00:00:00:00:00:00:00:00:0000:00:00:00:00:00:00:00:00:00:00:00:00:00:00:00:00:00:00:00:00:00:00:00:00:00:00:00:00:00:00:00:00:00:00:00:00:00:00:00:00:00:00:00:00:00:00:00:00:00:00:00:00:00:00:00:00:00:00:00:00:00:00:00:00:00:00:00:00:00:00:00:00:00:00:00:00:00:00:00:02:44:44:44:44:44:44:44:44:44:44:44:44:44:44:44:24:44:44:44:44:44:44:44:42:44:44:44:44:44:44:44:44:44:44:44:44:44:44:44:44:44:44:44:44:44:44:44:44:44:44:11:11:11:11:11:11:11:14:44:44:44:44:44:44:44:44:44:44:44:44:4444:44:44:44:44:42:00:00:00:00:00:00:00:00:00:00:00:00:00:00:00:00:00:00:00:00:00:00:00:00:00:00:00:00:00:00:00:00:00:00:00:00:00:00:00:00:00:00:00:00:00:00:00:00:00:00:00:00:00:00:00:00:00:00:00:00:00:00:00:00:00:00:00:00:00:00:00:00:00:00:00:00:00:00:00:00:00:00:00:00:00:00:00:00:00:00:00:00:00:00:00:00:00:00:00:00:00:00:00:00:00:00:00:00:00:00:00:00:00:00:00:00:00:00:00:00:00:00:00:00:00:00:00:00:00:00:00:00:00:00:00:00:00:00:00:00:00:00:00:00:00:0000:00:00:00:00:00:00:00:00:00:00:00:00:00:00:00:00:00:00:00:00:00:00:00:00:00:00:00:02:44:44:44:44:44:44:44:44:44:44:44:44:44:44:44:24:44:44:44:44:44:44:44:42:44:44:44:44:44:44:44:44:44:44:44:44:44:44:44:44:44:44:44:44:44:44:44:44:44:44:11:11:11:11:11:11:11:14:44:44:44:44:44:44:44:44:44:44:44:44:44:44:44:44:44:44:42:00:00:00:00:00:00:00:00:00:00:00:00:00:00:00:00:00:00:00:00:00:00:00:00:00:00:00:00:00:00:00:00:00:00:00:00:00:00:00:00:00:00:00:00:00:0000:00:00:00:00:00:00:00:00:00:00:00:00:00:00:00:00:00:00:00:00:00:00:00:00:00:00:00:00:00:00:00:00:00:00:00:00:00:00:00:00:00:00:00:00:00:00:00:00:00:00:00:00:00:00:00:00:00:00:00:00:00:00:00:00:00:00:00:00:00:00:00:00:00:00:00:00:00:00:00:00:00:00:00:00:00:00:00:00:00:00:00:00:00:00:00:00:00:00:00:00:00:00:00:00:00:00:00:00:00:00:00:00:00:00:00:00:00:00:00:00:00:00:00:00:00:00:00:02:44:44:44:44:44:44:44:44:44:44:44:44:44:44:44:24:44:44:44:44:44:44:4442:44:44:44:44:44:44:44:44:44:44:44:44:44:44:44:44:44:44:44:44:44:44:44:44:44:44:11:11:11:11:11:11:11:14:44:44:44:44:44:44:44:44:44:44:44:44:44:44:44:44:44:44:42:00:00:00:00:00:00:00:00:00:00:00:00:00:00:00:00:00:00:00:00:00:00:00:00:00:00:00:00:00:00:00:00:00:00:00:00:00:00:00:00:00:00:00:00:00:00:00:00:00:00:00:00:00:00:00:00:00:00:00:00:00:00:00:00:00:00:00:00:00:00:00:00:00:00:00:00:00:00:00:00:00:00:00:00:00:00:00:00:00:00:00:00:00:00:00:00:00:0000:00:00:00:00:00:00:00:00:00:00:00:00:00:00:00:00:00:00:00:00:00:00:00:00:00:00:00:00:00:00:00:00:00:00:00:00:00:00:00:00:00:00:00:00:00:00:00:00:00:00:00:00:00:00:00:00:00:00:00:00:00:00:00:00:00:00:00:00:00:00:00:00:00:00:00:02:44:44:44:44:44:44:44:44:44:44:44:44:44:44:44:24:44:44:44:44:44:44:44:42:44:44:44:44:44:44:44:44:44:44:44:44:44:44:44:44:44:44:44:44:44:44:44:44:44:44:11:11:11:11:11:11:11:14:44:44:44:44:44:44:44:44:44:44:44:44:44:44:44:44:4444:42:00:00:00:00:00:00:00:00:00:00:00:00:00:00:00:00:00:00:00:00:00:00:00:00:00:00:00:00:00:00:00:00:00:00:00:00:00:00:00:00:00:00:00:00:00:00:00:00:00:00:00:00:00:00:00:00:00:00:00:00:00:00:00:00:00:00:00:00:00:00:00:00:00:00:00:00:00:00:00:00:00:00:00:00:00:00:00:00:00:00:00:00:00:00:00:00:00:00:00:00:00:00:00:00:00:00:00:00:00:00:00:00:00:00:00:00:00:00:00:00:00:00:00:00:00:00:00:00:00:00:00:00:00:00:00:00:00:00:00:00:00:00:00:00:00:00:00:00:00:0000:00:00:00:00:00:00:00:00:00:00:00:00:00:00:00:00:00:00:00:00:00:00:00:02:44:44:44:44:44:44:44:44:44:44:44:44:44:44:44:24:44:44:44:44:44:44:44:42:22:22:22:22:22:22:22:22:22:22:22:22:22:22:22:22:22:22:22:22:22:22:22:22:22:22:11:11:11:11:11:11:11:14:44:44:44:44:44:44:44:44:44:44:44:44:44:44:44:44:44:44:42:00:00:00:00:00:00:00:00:00:00:00:00:00:00:00:00:00:00:00:00:00:00:00:00:00:00:00:00:00:00:00:00:00:00:00:00:00:00:00:00:00:00:00:00:00:00:00:00:00:0000:00:00:00:00:00:00:00:00:00:00:00:00:00:00:00:00:00:00:00:00:00:00:00:00:00:00:00:00:00:00:00:00:00:00:00:00:00:00:00:00:00:00:00:00:00:00:00:00:00:00:00:00:00:00:00:00:00:00:00:00:00:00:00:00:00:00:00:00:00:00:00:00:00:00:00:00:00:00:00:00:00:00:00:00:00:00:00:00:00:00:00:00:00:00:00:00:00:00:00:00:00:00:00:00:00:00:00:00:00:00:00:00:00:00:00:00:00:00:00:00:00:00:00:02:44:44:44:44:44:44:44:44:44:44:44:44:44:44:44:24:44:44:44:44:44:44:44:42:44:44:4444:44:44:44:44:44:44:44:44:44:44:44:44:44:44:44:44:44:44:44:44:44:44:11:11:11:11:11:11:11:14:44:44:44:44:44:44:44:44:44:44:44:44:44:44:44:44:44:44:42:00:00:00:00:00:00:00:00:00:00:00:00:00:00:00:00:00:00:00:00:00:00:00:00:00:00:00:00:00:00:00:00:00:00:00:00:00:00:00:00:00:00:00:00:00:00:00:00:00:00:00:00:00:00:00:00:00:00:00:00:00:00:00:00:00:00:00:00:00:00:00:00:00:00:00:00:00:00:00:00:00:00:00:00:00:00:00:00:00:00:00:00:00:00:00:00:00:00:00:00:00:0000:00:00:00:00:00:00:00:00:00:00:00:00:00:00:00:00:00:00:00:00:00:00:00:00:00:00:00:00:00:00:00:00:00:00:00:00:00:00:00:00:00:00:00:00:00:00:00:00:00:00:00:00:00:00:00:00:00:00:00:00:00:00:00:00:00:00:00:00:00:00:00:02:44:44:44:44:44:44:44:44:44:44:44:44:44:44:44:24:44:44:44:44:44:44:44:42:44:44:44:44:44:44:44:44:44:44:44:44:44:44:44:44:44:44:44:44:44:44:44:44:44:44:11:11:11:11:11:11:11:14:44:44:44:44:44:44:44:44:44:44:44:44:44:44:44:44:44:44:42:00:0000:00:00:00:00:00:00:00:00:00:00:00:00:00:00:00:00:00:00:00:00:00:00:00:00:00:00:00:00:00:00:00:00:00:00:00:00:00:00:00:00:00:00:00:00:00:00:00:00:00:00:00:00:00:00:00:00:00:00:00:00:00:00:00:00:00:00:00:00:00:00:00:00:00:00:00:00:00:00:00:00:00:00:00:00:00:00:00:00:00:00:00:00:00:00:00:00:00:00:00:00:00:00:00:00:00:00:00:00:00:00:00:00:00:00:00:00:00:00:00:00:00:00:00:00:00:00:00:00:00:00:00:00:00:00:00:00:00:00:00:00:00:00:00:00:00:00:00:00:00:00:0000:00:00:00:00:00:00:00:00:00:00:00:00:00:00:00:00:00:00:00:02:44:44:44:44:44:44:44:44:44:44:44:44:44:44:44:24:44:44:44:44:44:44:44:42:44:44:44:44:44:44:44:44:44:44:44:44:44:44:44:44:44:44:44:44:44:44:44:44:44:44:11:11:11:11:11:11:11:14:44:44:44:44:44:44:44:44:44:44:44:44:44:44:44:44:44:44:42:00:00:00:00:00:00:00:00:00:00:00:00:00:00:00:00:00:00:00:00:00:00:00:00:00:00:00:00:00:00:00:00:00:00:00:00:00:00:00:00:00:00:00:00:00:00:00:00:00:00:00:00:00:0000:00:00:00:00:00:00:00:00:00:00:00:00:00:00:00:00:00:00:00:00:00:00:00:00:00:00:00:00:00:00:00:00:00:00:00:00:00:00:00:00:00:00:00:00:00:00:00:00:00:00:00:00:00:00:00:00:00:00:00:00:00:00:00:00:00:00:00:00:00:00:00:00:00:00:00:00:00:00:00:00:00:00:00:00:00:00:00:00:00:00:00:00:00:00:00:00:00:00:00:00:00:00:00:00:00:00:00:00:00:00:00:00:00:00:00:00:00:00:00:02:44:44:44:44:44:44:44:44:44:44:44:44:44:44:44:24:44:44:44:44:44:44:44:42:44:44:44:44:44:44:4444:44:44:44:44:44:44:44:44:44:44:44:44:44:44:44:44:44:44:11:11:11:11:11:11:11:14:44:44:44:44:44:44:44:44:44:44:44:44:44:44:44:44:44:44:42:00:00:00:00:00:00:00:00:00:00:00:00:00:00:00:00:00:00:00:00:00:00:00:00:00:00:00:00:00:00:00:00:00:00:00:00:00:00:00:00:00:00:00:00:00:00:00:00:00:00:00:00:00:00:00:00:00:00:00:00:00:00:00:00:00:00:00:00:00:00:00:00:00:00:00:00:00:00:00:00:00:00:00:00:00:00:00:00:00:00:00:00:00:00:00:00:00:00:00:00:00:00:00:00:00:0000:00:00:00:00:00:00:00:00:00:00:00:00:00:00:00:00:00:00:00:00:00:00:00:00:00:00:00:00:00:00:00:00:00:00:00:00:00:00:00:00:00:00:00:00:00:00:00:00:00:00:00:00:00:00:00:00:00:00:00:00:00:00:00:00:00:00:00:02:44:44:44:44:44:44:44:44:44:44:44:44:44:44:44:24:44:44:44:44:44:44:44:42:44:44:44:44:44:44:44:44:44:44:44:44:44:44:44:44:44:44:44:44:44:44:44:44:44:44:11:11:11:11:11:11:11:14:44:44:44:44:44:44:44:44:44:44:44:44:44:44:44:44:44:44:42:00:00:00:00:00:0000:00:00:00:00:00:00:00:00:00:00:00:00:00:00:00:00:00:00:00:00:00:00:00:00:00:00:00:00:00:00:00:00:00:00:00:00:00:00:00:00:00:00:00:00:00:00:00:00:00:00:00:00:00:00:00:00:00:00:00:00:00:00:00:00:00:00:00:00:00:00:00:00:00:00:00:00:00:00:00:00:00:00:00:00:00:00:00:00:00:00:00:00:00:00:00:00:00:00:00:00:00:00:00:00:00:00:00:00:00:00:00:00:00:00:00:00:00:00:00:00:00:00:00:00:00:00:00:00:00:00:00:00:00:00:00:00:00:00:00:00:00:00:00:00:00:00:00:00:00:00:0000:00:00:00:00:00:00:00:00:00:00:00:00:00:00:02:22:44:44:44:44:44:44:44:44:44:44:44:44:44:44:44:24:44:44:44:44:44:44:44:42:44:44:44:44:44:44:44:44:44:44:44:44:44:44:44:44:44:44:44:44:44:44:44:44:44:44:11:11:11:11:11:11:11:14:44:44:44:44:44:44:44:44:44:44:44:44:44:44:44:44:44:44:42:00:00:00:00:00:00:00:00:00:00:00:00:00:00:00:00:00:00:00:00:00:00:00:00:00:00:00:00:00:00:00:00:00:00:00:00:00:00:00:00:00:00:00:00:00:00:00:00:00:00:00:00:00:00:00:00:00:0000:00:00:00:00:00:00:00:00:00:00:00:00:00:00:00:00:00:00:00:00:00:00:00:00:00:00:00:00:00:00:00:00:00:00:00:00:00:00:00:00:00:00:00:00:00:00:00:00:00:00:00:00:00:00:00:00:00:00:00:00:00:00:00:00:00:00:00:00:00:00:00:00:00:00:00:00:00:00:00:00:00:00:00:00:00:00:00:00:00:00:00:00:00:00:00:00:00:00:00:00:00:00:00:00:00:00:00:00:00:00:00:00:00:02:22:22:44:44:44:44:44:44:44:44:44:44:44:44:44:44:44:24:44:44:44:44:44:44:44:42:44:44:44:44:44:44:44:44:44:44:4444:44:44:44:44:44:44:44:44:44:44:44:44:44:44:11:11:11:11:11:11:11:14:44:44:44:44:44:44:44:44:44:44:44:44:44:44:44:44:44:44:42:00:00:00:00:00:00:00:00:00:00:00:00:00:00:00:00:00:00:00:00:00:00:00:00:00:00:00:00:00:00:00:00:00:00:00:00:00:00:00:00:00:00:00:00:00:00:00:00:00:00:00:00:00:00:00:00:00:00:00:00:00:00:00:00:00:00:00:00:00:00:00:00:00:00:00:00:00:00:00:00:00:00:00:00:00:00:00:00:00:00:00:00:00:00:00:00:00:00:00:00:00:00:00:00:00:00:00:00:00:0000:00:00:00:00:00:00:00:00:00:00:00:00:00:00:00:00:00:00:00:00:00:00:00:00:00:00:00:00:00:00:00:00:00:00:00:00:00:00:00:00:00:00:00:00:00:00:00:00:00:00:00:00:00:00:00:00:00:00:00:00:02:22:22:22:44:44:44:44:44:44:44:44:44:44:44:44:44:44:44:24:44:44:44:44:44:44:44:42:44:44:44:44:44:44:44:44:44:44:44:44:44:44:44:44:44:44:44:44:44:44:44:44:44:44:11:11:11:11:11:11:11:14:44:44:44:44:44:44:44:44:44:44:44:44:44:44:44:44:44:44:42:00:00:00:00:00:00:00:00:00:0000:00:00:00:00:00:00:00:00:00:00:00:00:00:00:00:00:00:00:00:00:00:00:00:00:00:00:00:00:00:00:00:00:00:00:00:00:00:00:00:00:00:00:00:00:00:00:00:00:00:00:00:00:00:00:00:00:00:00:00:00:00:00:00:00:00:00:00:00:00:00:00:00:00:00:00:00:00:00:00:00:00:00:00:00:00:00:00:00:00:00:00:00:00:00:00:00:00:00:00:00:00:00:00:00:00:00:00:00:00:00:00:00:00:00:00:00:00:00:00:00:00:00:00:00:00:00:00:00:00:00:00:00:00:00:00:00:00:00:00:00:00:00:00:00:00:00:00:00:00:00:0000:00:00:00:00:00:00:00:02:22:22:22:22:44:44:44:44:44:44:44:44:44:44:44:44:44:44:44:24:44:44:44:44:44:44:44:42:44:44:44:44:44:44:44:44:44:44:44:44:44:44:44:44:44:44:44:44:44:44:44:44:44:44:11:11:11:11:11:11:11:14:44:44:44:44:44:44:44:44:44:44:44:44:44:44:44:44:44:44:42:00:00:00:00:00:00:00:00:00:00:00:00:00:00:00:00:00:00:00:00:00:00:00:00:00:00:00:00:00:00:00:00:00:00:00:00:00:00:00:00:00:00:00:00:00:00:00:00:00:00:00:00:00:00:00:00:00:00:00:00:00:0000:00:00:00:00:00:00:00:00:00:00:00:00:00:00:00:00:00:00:00:00:00:00:00:00:00:00:00:00:00:00:00:00:00:00:00:00:00:00:00:00:00:00:00:00:00:00:00:00:00:00:00:00:00:00:00:00:00:00:00:00:00:00:00:00:00:00:00:00:00:00:00:00:00:00:00:00:00:00:00:00:00:00:00:00:00:00:00:00:00:00:00:00:00:00:00:00:00:00:00:00:00:00:00:00:00:00:00:22:22:22:22:22:44:44:44:44:44:44:44:44:44:44:44:44:44:44:44:24:44:44:44:44:44:44:44:42:44:44:44:44:44:44:44:44:44:44:44:44:44:44:4444:44:44:44:44:44:44:44:44:44:44:11:11:11:11:11:11:11:14:44:44:44:44:44:44:44:44:44:44:44:44:44:44:44:44:44:44:42:00:00:00:00:00:00:00:00:00:00:00:00:00:00:00:00:00:00:00:00:00:00:00:00:00:00:00:00:00:00:00:00:00:00:00:00:00:00:00:00:00:00:00:00:00:00:00:00:00:00:00:00:00:00:00:00:00:00:00:00:00:00:00:00:00:00:00:00:00:00:00:00:00:00:00:00:00:00:00:00:00:00:00:00:00:00:00:00:00:00:00:00:00:00:00:00:00:00:00:00:00:00:00:00:00:00:00:00:00:00:00:00:00:0000:00:00:00:00:00:00:00:00:00:00:00:00:00:00:00:00:00:00:00:00:00:00:00:00:00:00:00:00:00:00:00:00:00:00:00:00:00:00:00:00:00:00:00:00:00:00:00:00:00:00:00:00:00:00:00:22:22:22:22:22:44:44:44:44:44:44:44:44:44:44:44:44:44:44:44:24:44:44:44:44:44:44:44:42:44:44:44:44:44:44:44:44:44:44:44:44:44:44:44:44:44:44:44:44:44:44:44:44:44:44:11:11:11:11:11:11:11:14:44:44:44:44:44:44:44:44:44:44:44:44:44:44:44:44:44:44:42:00:00:00:00:00:00:00:00:00:00:00:00:00:0000:00:00:00:00:00:00:00:00:00:00:00:00:00:00:00:00:00:00:00:00:00:00:00:00:00:00:00:00:00:00:00:00:00:00:00:00:00:00:00:00:00:00:00:00:00:00:00:00:00:00:00:00:00:00:00:00:00:00:00:00:00:00:00:00:00:00:00:00:00:00:00:00:00:00:00:00:00:00:00:00:00:00:00:00:00:00:00:00:00:00:00:00:00:00:00:00:00:00:00:00:00:00:00:00:00:00:00:00:00:00:00:00:00:00:00:00:00:00:00:00:00:00:00:00:00:00:00:00:00:00:00:00:00:00:00:00:00:00:00:00:00:00:00:00:00:00:00:00:00:00:0000:00:00:00:22:22:22:22:22:44:44:44:44:44:44:44:44:44:44:44:44:44:44:44:24:44:44:44:44:44:44:44:42:44:44:44:44:44:44:44:44:44:44:44:44:44:44:44:44:44:44:44:44:44:44:44:44:44:44:11:11:11:11:11:11:11:14:44:44:44:44:44:44:44:44:44:44:44:44:44:44:44:44:44:44:42:00:00:00:00:00:00:00:00:00:00:00:00:00:00:00:00:00:00:00:00:00:00:00:00:00:00:00:00:00:00:00:00:00:00:00:00:00:00:00:00:00:00:00:00:00:00:00:00:00:00:00:00:00:00:00:00:00:00:00:00:00:00:00:00:00:0000:00:00:00:00:00:00:00:00:00:00:00:00:00:00:00:00:00:00:00:00:00:00:00:00:00:00:00:00:00:00:00:00:00:00:00:00:00:00:00:00:00:00:00:00:00:00:00:00:00:00:00:00:00:00:00:00:00:00:00:00:00:00:00:00:00:00:00:00:00:00:00:00:00:00:00:00:00:00:00:00:00:00:00:00:00:00:00:00:00:00:00:00:00:00:00:00:00:00:00:00:00:00:22:22:22:22:20:02:44:44:44:44:44:44:44:44:44:44:44:44:44:44:44:24:44:44:44:44:44:44:44:42:44:44:44:44:44:44:44:44:44:44:44:44:44:44:44:44:44:44:4444:44:44:44:44:44:44:11:11:11:11:11:11:11:14:44:44:44:44:44:44:44:44:44:44:44:44:44:44:44:44:44:44:42:00:00:00:00:00:00:00:00:00:00:00:00:00:00:00:00:00:00:00:00:00:00:00:00:00:00:00:00:00:00:00:00:00:00:00:00:00:00:00:00:00:00:00:00:00:00:00:00:00:00:00:00:00:00:00:00:00:00:00:00:00:00:00:00:00:00:00:00:00:00:00:00:00:00:00:00:00:00:00:00:00:00:00:00:00:00:00:00:00:00:00:00:00:00:00:00:00:00:00:00:00:00:00:00:00:00:00:00:00:00:00:00:00:00:00:00:00:0000:00:00:00:00:00:00:00:00:00:00:00:00:00:00:00:00:00:00:00:00:00:00:00:00:00:00:00:00:00:00:00:00:00:00:00:00:00:00:00:00:00:00:00:00:00:00:00:00:00:22:22:22:22:20:00:02:44:44:44:44:44:44:44:44:44:44:44:44:44:44:44:24:44:44:44:44:44:44:44:42:44:44:44:44:44:44:44:44:44:44:44:44:44:44:44:44:44:44:44:44:44:44:44:44:44:44:11:11:11:11:11:11:11:14:44:44:44:44:44:44:44:44:44:44:44:44:44:44:44:44:44:44:42:00:00:00:00:00:00:00:00:00:00:00:00:00:00:00:00:00:0000:00:00:00:00:00:00:00:00:00:00:00:00:00:00:00:00:00:00:00:00:00:00:00:00:00:00:00:00:00:00:00:00:00:00:00:00:00:00:00:00:00:00:00:00:00:00:00:00:00:00:00:00:00:00:00:00:00:00:00:00:00:00:00:00:00:00:00:00:00:00:00:00:00:00:00:00:00:00:00:00:00:00:00:00:00:00:00:00:00:00:00:00:00:00:00:00:00:00:00:00:00:00:00:00:00:00:00:00:00:00:00:00:00:00:00:00:00:00:00:00:00:00:00:00:00:00:00:00:00:00:00:00:00:00:00:00:00:00:00:00:00:00:00:00:00:00:00:00:22:22:2222:20:00:00:02:44:44:44:44:44:44:44:44:44:44:44:44:44:44:44:24:44:44:44:44:44:44:44:42:44:44:44:44:44:44:44:44:44:44:44:44:44:44:44:44:44:44:44:44:44:44:44:44:44:44:11:11:11:11:11:11:11:14:44:44:44:44:44:44:44:44:44:44:44:44:44:44:44:44:44:44:42:00:00:00:00:00:00:00:00:00:00:00:00:00:00:00:00:00:00:00:00:00:00:00:00:00:00:00:00:00:00:00:00:00:00:00:00:00:00:00:00:00:00:00:00:00:00:00:00:00:00:00:00:00:00:00:00:00:00:00:00:00:00:00:00:00:00:00:00:00:0000:00:00:00:00:00:00:00:00:00:00:00:00:00:00:00:00:00:00:00:00:00:00:00:00:00:00:00:00:00:00:00:00:00:00:00:00:00:00:00:00:00:00:00:00:00:00:00:00:00:00:00:00:00:00:00:00:00:00:00:00:00:00:00:00:00:00:00:00:00:00:00:00:00:00:00:00:00:00:00:00:00:00:00:00:00:00:00:00:00:00:00:00:00:00:00:22:22:22:22:20:00:00:00:02:44:44:44:44:44:44:44:44:44:44:44:44:44:44:44:24:44:44:44:44:44:44:44:42:44:44:44:44:44:44:44:44:44:44:44:44:44:44:44:44:44:44:44:44:44:44:4444:44:44:11:11:11:11:11:11:11:14:44:44:44:44:44:44:44:44:44:44:44:44:44:44:44:44:44:44:42:00:00:00:00:00:00:00:00:00:00:00:00:00:00:00:00:00:00:00:00:00:00:00:00:00:00:00:00:00:00:00:00:00:00:00:00:00:00:00:00:00:00:00:00:00:00:00:00:00:00:00:00:00:00:00:00:00:00:00:00:00:00:00:00:00:00:00:00:00:00:00:00:00:00:00:00:00:00:00:00:00:00:00:00:00:00:00:00:00:00:00:00:00:00:00:00:00:00:00:00:00:00:00:00:00:00:00:00:00:00:00:00:00:00:00:00:00:00:00:00:00:0000:00:00:00:00:00:00:00:00:00:00:00:00:00:00:00:00:00:00:00:00:00:00:00:00:00:00:00:00:00:00:00:00:00:00:00:00:00:00:00:00:00:00:22:22:22:22:20:00:00:00:00:02:44:44:44:44:44:44:44:44:44:44:44:44:44:44:44:24:44:44:44:44:44:44:44:42:44:44:44:44:44:44:44:44:44:44:44:44:44:44:44:44:44:44:44:44:44:44:44:44:44:44:11:11:11:11:11:11:11:14:44:44:44:44:44:44:44:44:44:44:44:44:44:44:44:44:44:44:42:00:00:00:00:00:00:00:00:00:00:00:00:00:00:00:00:00:00:00:00:00:0000:00:00:00:00:00:00:00:00:00:00:00:00:00:00:00:00:00:00:00:00:00:00:00:00:00:00:00:00:00:00:00:00:00:00:00:00:00:00:00:00:00:00:00:00:00:00:00:00:00:00:00:00:00:00:00:00:00:00:00:00:00:00:00:00:00:00:00:00:00:00:00:00:00:00:00:00:00:00:00:00:00:00:00:00:00:00:00:00:00:00:00:00:00:00:00:00:00:00:00:00:00:00:00:00:00:00:00:00:00:00:00:00:00:00:00:00:00:00:00:00:00:00:00:00:00:00:00:00:00:00:00:00:00:00:00:00:00:00:00:00:00:00:22:22:22:20:00:00:00:00:0002:22:22:22:22:22:22:22:22:22:22:22:22:22:22:22:22:22:22:22:22:22:22:22:22:22:22:22:22:22:22:22:22:22:22:22:22:22:22:22:22:22:22:22:22:22:22:22:22:22:22:11:11:11:11:11:11:11:14:44:44:44:44:44:44:44:44:44:44:44:44:44:44:44:44:44:44:42:00:00:00:00:00:00:00:00:00:00:00:00:00:00:00:00:00:00:00:00:00:00:00:00:00:00:00:00:00:00:00:00:00:00:00:00:00:00:00:00:00:00:00:00:00:00:00:00:00:00:00:00:00:00:00:00:00:00:00:00:00:00:00:00:00:00:00:00:00:00:00:00:00:0000:00:00:00:00:00:00:00:00:00:00:00:00:00:00:00:00:00:00:00:00:00:00:00:00:00:00:00:00:00:00:00:00:00:00:00:00:00:00:00:00:00:00:00:00:00:00:00:00:00:00:00:00:00:00:00:00:00:00:00:00:00:00:00:00:00:00:00:00:00:00:00:00:00:00:00:00:00:00:00:00:00:00:00:00:00:00:00:00:00:00:22:22:20:00:00:00:00:00:00:02:44:44:44:44:44:44:44:44:44:44:44:44:44:44:44:24:44:44:44:44:44:44:44:42:44:44:44:44:44:44:44:44:44:44:44:44:44:44:44:44:44:44:44:44:44:44:44:44:44:44:1111:11:11:11:11:11:12:22:22:22:22:22:22:22:22:22:22:22:22:22:22:22:22:22:22:22:00:00:00:00:00:00:00:00:00:00:00:00:00:00:00:00:00:00:00:00:00:00:00:00:00:00:00:00:00:00:00:00:00:00:00:00:00:00:00:00:00:00:00:00:00:00:00:00:00:00:00:00:00:00:00:00:00:00:00:00:00:00:00:00:00:00:00:00:00:00:00:00:00:00:00:00:00:00:00:00:00:00:00:00:00:00:00:00:00:00:00:00:00:00:00:00:00:00:00:00:00:00:00:00:00:00:00:00:00:00:00:00:00:00:00:00:00:00:00:00:00:00:00:00:00:0000:00:00:00:00:00:00:00:00:00:00:00:00:00:00:00:00:00:00:00:00:00:00:00:00:00:00:00:00:00:00:00:00:00:00:00:00:00:00:02:20:00:00:00:00:00:00:00:02:44:44:44:44:44:44:44:44:44:44:44:44:44:44:44:24:44:44:44:44:44:44:44:42:44:44:44:44:44:44:44:44:44:44:44:44:44:44:44:44:44:44:44:44:44:44:44:44:44:44:11:11:11:11:11:11:11:10:00:00:00:00:00:00:00:00:00:00:00:00:00:00:00:00:00:00:00:00:00:00:00:00:00:00:00:00:00:00:00:00:00:00:00:00:00:00:00:00:00:00:00:00:0000:00:00:00:00:00:00:00:00:00:00:00:00:00:00:00:00:00:00:00:00:00:00:00:00:00:00:00:00:00:00:00:00:00:00:00:00:00:00:00:00:00:00:00:00:00:00:00:00:00:00:00:00:00:00:00:00:00:00:00:00:00:00:00:00:00:00:00:00:00:00:00:00:00:00:00:00:00:00:00:00:00:00:00:00:00:00:00:00:00:00:00:00:00:00:00:00:00:00:00:00:00:00:00:00:00:00:00:00:00:00:00:00:00:00:00:00:00:00:00:00:00:00:00:00:00:00:00:00:00:00:00:00:00:00:00:00:00:00:00:00:00:00:00:00:00:00:00:02:44:44:4444:44:44:44:44:44:44:44:44:44:44:44:24:44:44:44:44:44:44:44:42:44:44:44:44:44:44:44:44:44:44:44:44:44:44:44:44:44:44:44:44:44:44:44:44:44:44:11:11:11:11:11:11:11:10:00:00:00:00:00:00:00:00:00:00:00:00:00:00:00:00:00:00:00:00:00:00:00:00:00:00:00:00:00:00:00:00:00:00:00:00:00:00:00:00:00:00:00:00:00:00:00:00:00:00:00:00:00:00:00:00:00:00:00:00:00:00:00:00:00:00:00:00:00:00:00:00:00:00:00:00:00:00:00:00:00:00:00:00:00:00:00:00:00:00:00:00:00:00:00:00:0000:00:00:00:00:00:00:00:00:00:00:00:00:00:00:00:00:00:00:00:00:00:00:00:00:00:00:00:00:00:00:00:00:00:00:00:00:00:00:00:00:00:00:00:00:00:00:00:00:00:00:00:00:00:00:00:00:00:00:00:00:00:00:00:00:00:00:00:00:00:00:00:00:00:00:00:00:00:00:00:00:00:00:00:00:00:00:00:00:00:00:00:00:00:00:00:02:44:44:44:44:44:44:44:44:44:44:44:44:44:44:44:24:44:44:44:44:44:44:44:42:44:44:44:44:44:44:44:44:44:44:44:44:44:44:44:44:44:44:44:44:44:44:44:44:44:44:11:11:11:11:1111:11:10:00:00:00:00:00:00:00:00:00:00:00:00:00:00:00:00:00:00:00:00:00:00:00:00:00:00:00:00:00:00:00:00:00:00:00:00:00:00:00:00:00:00:00:00:00:00:00:00:00:00:00:00:00:00:00:00:00:00:00:00:00:00:00:00:00:00:00:00:00:00:00:00:00:00:00:00:00:00:00:00:00:00:00:00:00:00:00:00:00:00:00:00:00:00:00:00:00:00:00:00:00:00:00:00:00:00:00:00:00:00:00:00:00:00:00:00:00:00:00:00:00:00:00:00:00:00:00:00:00:00:00:00:00:00:00:00:00:00:00:00:00:00:00:00:00:00:00:00:0000:00:00:00:00:00:00:00:00:00:00:00:00:00:00:00:00:00:00:00:00:00:00:00:00:00:00:00:00:00:00:00:00:00:00:00:00:00:00:00:00:00:00:00:02:44:44:44:44:44:44:44:44:44:44:44:44:44:44:44:24:44:44:44:44:44:44:44:42:44:44:44:44:44:44:44:44:44:44:44:44:44:44:44:44:44:44:44:44:44:44:44:44:44:44:11:11:11:11:11:11:11:10:00:00:00:00:00:00:00:00:00:00:00:00:00:00:00:00:00:00:00:00:00:00:00:00:00:00:00:00:00:00:00:00:00:00:00:00:00:00:00:00:00:00:00:00:00:00:00:00:0000:00:00:00:00:00:00:00:00:00:00:00:00:00:00:00:00:00:00:00:00:00:00:00:00:00:00:00:00:00:00:00:00:00:00:00:00:00:00:00:00:00:00:00:00:00:00:00:00:00:00:00:00:00:00:00:00:00:00:00:00:00:00:00:00:00:00:00:00:00:00:00:00:00:00:00:00:00:00:00:00:00:00:00:00:00:00:00:00:00:00:00:00:00:00:00:00:00:00:00:00:00:00:00:00:00:00:00:00:00:00:00:00:00:00:00:00:00:00:00:00:00:00:00:00:00:00:00:00:00:00:00:00:00:00:00:00:00:00:00:00:00:00:02:22:44:44:44:44:44:44:4444:44:44:44:44:44:44:44:24:44:44:44:44:44:44:44:42:44:44:44:44:44:44:44:44:44:44:44:44:44:44:44:44:44:44:44:44:44:44:44:44:44:44:11:11:11:11:11:11:11:10:00:00:00:00:00:00:00:00:00:00:00:00:00:00:00:00:00:00:00:00:00:00:00:00:00:00:00:00:00:00:00:00:00:00:00:00:00:00:00:00:00:00:00:00:00:00:00:00:00:00:00:00:00:00:00:00:00:00:00:00:00:00:00:00:00:00:00:00:00:00:00:00:00:00:00:00:00:00:00:00:00:00:00:00:00:00:00:00:00:00:00:00:00:00:00:00:00:00:00:00:0000:00:00:00:00:00:00:00:00:00:00:00:00:00:00:00:00:00:00:00:00:00:00:00:00:00:00:00:00:00:00:00:00:00:00:00:00:00:00:00:00:00:00:00:00:00:00:00:00:00:00:00:00:00:00:00:00:00:00:00:00:00:00:00:00:00:00:00:00:00:00:00:00:00:00:00:00:00:00:00:00:00:00:00:00:00:00:00:00:00:00:22:22:44:44:44:44:44:44:44:44:44:44:44:44:44:44:44:24:44:44:44:44:44:44:44:42:44:44:44:44:44:44:44:44:44:44:44:44:44:44:44:44:44:44:44:44:44:44:44:44:44:44:11:11:11:11:11:11:11:10:0000:00:00:00:00:00:00:00:00:00:00:00:00:00:00:00:00:00:00:00:00:00:00:00:00:00:00:00:00:00:00:00:00:00:00:00:00:00:00:00:00:00:00:00:00:00:00:00:00:00:00:00:00:00:00:00:00:00:00:00:00:00:00:00:00:00:00:00:00:00:00:00:00:00:00:00:00:00:00:00:00:00:00:00:00:00:00:00:00:00:00:00:00:00:00:00:00:00:00:00:00:00:00:00:00:00:00:00:00:00:00:00:00:00:00:00:00:00:00:00:00:00:00:00:00:00:00:00:00:00:00:00:00:00:00:00:00:00:00:00:00:00:00:00:00:00:00:00:00:00:00:0000:00:00:00:00:00:00:00:00:00:00:00:00:00:00:00:00:00:00:00:00:00:00:00:00:00:00:00:00:00:00:00:00:00:00:00:00:00:02:22:22:44:44:44:44:44:44:44:44:44:44:44:44:44:44:44:24:44:44:44:44:44:44:44:42:44:44:44:44:44:44:44:44:44:44:44:44:44:44:44:44:44:44:44:44:44:44:44:44:44:44:11:11:11:11:11:11:11:10:00:00:00:00:00:00:00:00:00:00:00:00:00:00:00:00:00:00:00:00:00:00:00:00:00:00:00:00:00:00:00:00:00:00:00:00:00:00:00:00:00:00:00:00:00:00:00:00:00:00:00:00:0000:00:00:00:00:00:00:00:00:00:00:00:00:00:00:00:00:00:00:00:00:00:00:00:00:00:00:00:00:00:00:00:00:00:00:00:00:00:00:00:00:00:00:00:00:00:00:00:00:00:00:00:00:00:00:00:00:00:00:00:00:00:00:00:00:00:00:00:00:00:00:00:00:00:00:00:00:00:00:00:00:00:00:00:00:00:00:00:00:00:00:00:00:00:00:00:00:00:00:00:00:00:00:00:00:00:00:00:00:00:00:00:00:00:00:00:00:00:00:00:00:00:00:00:00:00:00:00:00:00:00:00:00:00:00:00:00:00:22:22:22:44:44:44:44:44:44:44:44:44:44:4444:44:44:44:24:44:44:44:44:44:44:44:42:44:44:44:44:44:44:44:44:44:44:44:44:44:44:44:44:44:44:44:44:44:44:44:44:44:44:11:11:11:11:11:11:11:12:22:00:00:00:00:00:00:00:00:00:00:00:00:00:00:00:00:00:00:00:00:00:00:00:00:00:00:00:00:00:00:00:00:00:00:00:00:00:00:00:00:00:00:00:00:00:00:00:00:00:00:00:00:00:00:00:00:00:00:00:00:00:00:00:00:00:00:00:00:00:00:00:00:00:00:00:00:00:00:00:00:00:00:00:00:00:00:00:00:00:00:00:00:00:00:00:00:00:00:00:00:00:00:00:0000:00:00:00:00:00:00:00:00:00:00:00:00:00:00:00:00:00:00:00:00:00:00:00:00:00:00:00:00:00:00:00:00:00:00:00:00:00:00:00:00:00:00:00:00:00:00:00:00:00:00:00:00:00:00:00:00:00:00:00:00:00:00:00:00:00:00:00:00:00:00:00:00:00:00:00:00:00:00:00:00:00:00:00:00:11:22:22:22:44:44:44:44:44:44:44:44:44:44:44:44:44:44:44:24:44:44:44:44:44:44:44:42:44:44:44:44:44:44:44:44:44:44:44:44:44:44:44:44:44:44:44:44:44:44:44:44:44:44:11:11:11:11:11:11:11:14:44:22:20:00:0000:00:00:00:00:00:00:00:00:00:00:00:00:00:00:00:00:00:00:00:00:00:00:00:00:00:00:00:00:00:00:00:00:00:00:00:00:00:00:00:00:00:00:00:00:00:00:00:00:00:00:00:00:00:00:00:00:00:00:00:00:00:00:00:00:00:00:00:00:00:00:00:00:00:00:00:00:00:00:00:00:00:00:00:00:00:00:00:00:00:00:00:00:00:00:00:00:00:00:00:00:00:00:00:00:00:00:00:00:00:00:00:00:00:00:00:00:00:00:00:00:00:00:00:00:00:00:00:00:00:00:00:00:00:00:00:00:00:00:00:00:00:00:00:00:00:00:00:00:00:00:0000:00:00:00:00:00:00:00:00:00:00:00:00:00:00:00:00:00:00:00:00:00:00:00:00:00:00:00:00:00:00:00:11:11:22:22:22:44:44:44:44:44:44:44:44:44:44:44:44:44:44:44:24:44:44:44:44:44:44:44:42:44:44:44:44:44:44:44:44:44:44:44:44:44:44:44:44:44:44:44:44:44:44:44:44:44:44:11:11:11:11:11:11:11:14:44:44:42:22:00:00:00:00:00:00:00:00:00:00:00:00:00:00:00:00:00:00:00:00:00:00:00:00:00:00:00:00:00:00:00:00:00:00:00:00:00:00:00:00:00:00:00:00:00:00:00:00:00:00:00:00:0000:00:00:00:00:00:00:00:00:00:00:00:00:00:00:00:00:00:00:00:00:00:00:00:00:00:00:00:00:00:00:00:00:00:00:00:00:00:00:00:00:00:00:00:00:00:00:00:00:00:00:00:00:00:00:00:00:00:00:00:00:00:00:00:00:00:00:00:00:00:00:00:00:00:00:00:00:00:00:00:00:00:00:00:00:00:00:00:00:00:00:00:00:00:00:00:00:00:00:00:00:00:00:00:00:00:00:00:00:00:00:00:00:00:00:00:00:00:00:00:00:00:00:00:00:00:00:00:00:00:00:11:11:11:22:22:22:44:44:44:44:44:44:44:44:44:44:44:44:44:44:4424:44:44:44:44:44:44:44:42:44:44:44:44:44:44:44:44:44:44:44:44:44:44:44:44:44:44:44:44:44:44:44:44:44:44:11:11:11:11:11:11:11:12:22:44:44:44:22:20:00:00:00:00:00:00:00:00:00:00:00:00:00:00:00:00:00:00:00:00:00:00:00:00:00:00:00:00:00:00:00:00:00:00:00:00:00:00:00:00:00:00:00:00:00:00:00:00:00:00:00:00:00:00:00:00:00:00:00:00:00:00:00:00:00:00:00:00:00:00:00:00:00:00:00:00:00:00:00:00:00:00:00:00:00:00:00:00:00:00:00:00:00:00:00:00:00:00:00:00:00:00:0000:00:00:00:00:00:00:00:00:00:00:00:00:00:00:00:00:00:00:00:00:00:00:00:00:00:00:00:00:00:00:00:00:00:00:00:00:00:00:00:00:00:00:00:00:00:00:00:00:00:00:00:00:00:00:00:00:00:00:00:00:00:00:00:00:00:00:00:00:00:00:00:00:00:00:00:00:00:11:11:11:12:22:22:22:44:44:44:44:44:44:44:44:44:44:44:44:44:44:44:24:44:44:44:44:44:44:44:42:44:44:44:44:44:44:44:44:44:44:44:44:44:44:44:44:44:44:44:44:44:44:44:44:44:44:11:11:11:11:11:11:11:10:00:22:24:44:44:42:22:00:0000:00:00:00:00:00:00:00:00:00:00:00:00:00:00:00:00:00:00:00:00:00:00:00:00:00:00:00:00:00:00:00:00:00:00:00:00:00:00:00:00:00:00:00:00:00:00:00:00:00:00:00:00:00:00:00:00:00:00:00:00:00:00:00:00:00:00:00:00:00:00:00:00:00:00:00:00:00:00:00:00:00:00:00:00:00:00:00:00:00:00:00:00:00:00:00:00:00:00:00:00:00:00:00:00:00:00:00:00:00:00:00:00:00:00:00:00:00:00:00:00:00:00:00:00:00:00:00:00:00:00:00:00:00:00:00:00:00:00:00:00:00:00:00:00:00:00:00:00:00:00:0000:00:00:00:00:00:00:00:00:00:00:00:00:00:00:00:00:00:00:00:00:00:00:00:00:11:11:11:11:12:22:22:22:44:44:44:44:44:44:44:44:44:44:44:44:44:44:44:24:44:44:44:44:44:44:44:42:44:44:44:44:44:44:44:44:44:44:44:44:44:44:44:44:44:44:44:44:44:44:44:44:44:44:11:11:11:11:11:11:11:10:00:00:02:22:44:44:44:20:00:00:00:00:00:00:00:00:00:00:00:00:00:00:00:00:00:00:00:00:00:00:00:00:00:00:00:00:00:00:00:00:00:00:00:00:00:00:00:00:00:00:00:00:00:00:00:00:00:00:00:00:0000:00:00:00:00:00:00:00:00:00:00:00:00:00:00:00:00:00:00:00:00:00:00:00:00:00:00:00:00:00:00:00:00:00:00:00:00:00:00:00:00:00:00:00:00:00:00:00:00:00:00:00:00:00:00:00:00:00:00:00:00:00:00:00:00:00:00:00:00:00:00:00:00:00:00:00:00:00:00:00:00:00:00:00:00:00:00:00:00:00:00:00:00:00:00:00:00:00:00:00:00:00:00:00:00:00:00:00:00:00:00:00:00:00:00:00:00:00:00:00:00:00:00:00:00:11:11:11:11:22:22:22:22:44:44:44:44:44:44:44:44:44:44:44:44:44:44:44:24:44:44:4444:44:44:44:42:44:44:44:44:44:44:44:44:44:44:44:44:44:44:44:44:44:44:44:44:44:44:44:44:44:44:11:11:11:11:11:11:11:10:00:00:00:00:22:24:44:20:00:00:00:00:00:00:00:00:00:00:00:00:00:00:00:00:00:00:00:00:00:00:00:00:00:00:00:00:00:00:00:00:00:00:00:00:00:00:00:00:00:00:00:00:00:00:00:00:00:00:00:00:00:00:00:00:00:00:00:00:00:00:00:00:00:00:00:00:00:00:00:00:00:00:00:00:00:00:00:00:00:00:00:00:00:00:00:00:00:00:00:00:00:00:00:00:00:00:00:00:00:00:00:00:0000:00:00:00:00:00:00:00:00:00:00:00:00:00:00:00:00:00:00:00:00:00:00:00:00:00:00:00:00:00:00:00:00:00:00:00:00:00:00:00:00:00:00:00:00:00:00:00:00:00:00:00:00:00:00:00:00:00:00:00:00:00:00:00:00:00:00:00:00:00:00:00:00:11:00:11:11:22:22:22:22:44:44:44:44:44:44:44:44:44:44:44:44:44:44:44:24:44:44:44:44:44:44:44:42:44:44:44:44:44:44:44:44:44:44:44:44:44:44:44:44:44:44:44:44:44:44:44:44:44:44:11:11:11:11:11:11:11:10:00:00:00:00:00:02:22:20:00:00:00:00:0000:00:00:00:00:00:00:00:00:00:00:00:00:00:00:00:00:00:00:00:00:00:00:00:00:00:00:00:00:00:00:00:00:00:00:00:00:00:00:00:00:00:00:00:00:00:00:00:00:00:00:00:00:00:00:00:00:00:00:00:00:00:00:00:00:00:00:00:00:00:00:00:00:00:00:00:00:00:00:00:00:00:00:00:00:00:00:00:00:00:00:00:00:00:00:00:00:00:00:00:00:00:00:00:00:00:00:00:00:00:00:00:00:00:00:00:00:00:00:00:00:00:00:00:00:00:00:00:00:00:00:00:00:00:00:00:00:00:00:00:00:00:00:00:00:00:00:00:00:00:00:0000:00:00:00:00:00:00:00:00:00:00:00:00:00:00:00:00:00:00:00:00:00:00:11:22:22:22:22:22:44:44:44:44:44:44:44:44:44:44:44:44:44:44:44:24:44:44:44:44:44:44:44:42:44:44:44:44:44:44:44:44:44:44:44:44:44:44:44:44:44:44:44:44:44:44:44:44:44:44:11:11:11:11:11:11:11:10:00:00:00:00:00:00:00:00:00:00:00:00:00:00:00:00:00:00:00:00:00:00:00:00:00:00:00:00:00:00:00:00:00:00:00:00:00:00:00:00:00:00:00:00:00:00:00:00:00:00:00:00:00:00:00:00:00:00:00:00:00:00:00:00:0000:00:00:00:00:00:00:00:00:00:00:00:00:00:00:00:00:00:00:00:00:00:00:00:00:00:00:00:00:00:00:00:00:00:00:00:00:00:00:00:00:00:00:00:00:00:00:00:00:00:00:00:00:00:00:00:00:00:00:00:00:00:00:00:00:00:00:00:00:00:00:00:00:00:00:00:00:00:00:00:00:00:00:00:00:00:00:00:00:00:00:00:00:00:00:00:00:00:00:00:00:00:00:00:00:00:00:00:00:00:00:00:00:00:00:00:00:00:00:00:00:00:00:22:22:22:22:20:02:44:44:44:44:44:44:44:44:44:44:44:44:44:44:44:24:44:44:44:44:44:44:4442:44:44:44:44:44:44:44:44:44:44:44:44:44:44:44:44:44:44:44:44:44:44:44:44:44:44:11:11:11:11:11:11:11:10:00:00:00:00:00:00:00:00:00:00:00:00:00:00:00:00:00:00:00:00:00:00:00:00:00:00:00:00:00:00:00:00:00:00:00:00:00:00:00:00:00:00:00:00:00:00:00:00:00:00:00:00:00:00:00:00:00:00:00:00:00:00:00:00:00:00:00:00:00:00:00:00:00:00:00:00:00:00:00:00:00:00:00:00:00:00:00:00:00:00:00:00:00:00:00:00:00:00:00:00:00:00:00:00:00:00:00:00:00:00:00:00:00:00:00:00:0000:00:00:00:00:00:00:00:00:00:00:00:00:00:00:00:00:00:00:00:00:00:00:00:00:00:00:00:00:00:00:00:00:00:00:00:00:00:00:00:00:00:00:00:00:00:00:00:00:00:00:00:00:00:00:00:00:00:00:00:00:00:00:00:00:00:00:00:00:00:22:22:22:22:20:00:02:22:22:22:22:22:22:22:22:22:22:22:22:22:22:22:22:22:22:22:22:22:22:22:22:22:22:22:22:22:22:22:22:22:22:22:22:22:22:22:22:22:22:22:22:22:22:22:22:22:22:11:11:11:11:11:11:11:10:00:00:00:00:00:00:00:00:00:00:00:00:00:00:00:00:0000:00:00:00:00:00:00:00:00:00:00:00:00:00:00:00:00:00:00:00:00:00:00:00:00:00:00:00:00:00:00:00:00:00:00:00:00:00:00:00:00:00:00:00:00:00:00:00:00:00:00:00:00:00:00:00:00:00:00:00:00:00:00:00:00:00:00:00:00:00:00:00:00:00:00:00:00:00:00:00:00:00:00:00:00:00:00:00:00:00:00:00:00:00:00:00:00:00:00:00:00:00:00:00:00:00:00:00:00:00:00:00:00:00:00:00:00:00:00:00:00:00:00:00:00:00:00:00:00:00:00:00:00:00:00:00:00:00:00:00:00:00:00:00:00:00:00:00:00:00:00:0000:00:00:00:00:00:00:00:00:00:00:00:00:00:00:00:00:22:22:22:22:20:00:00:02:22:22:22:22:22:22:22:22:22:22:22:22:22:22:22:22:22:22:22:22:22:22:22:22:22:22:22:22:22:22:22:22:22:22:22:22:22:22:22:22:22:22:22:22:22:22:22:22:22:22:11:11:11:11:11:11:11:10:00:00:00:00:00:00:00:00:00:00:00:00:00:00:00:00:00:00:00:00:00:00:00:00:00:00:00:00:00:00:00:00:00:00:00:00:00:00:00:00:00:00:00:00:00:00:00:00:00:00:00:00:00:00:00:00:00:00:00:00:00:00:00:00:00:00:00:00:0000:00:00:00:00:00:00:00:00:00:00:00:00:00:00:00:00:00:00:00:00:00:00:00:00:00:00:00:00:00:00:00:00:00:00:00:00:00:00:00:00:00:00:00:00:00:00:00:00:00:00:00:00:00:00:00:00:00:00:00:00:00:00:00:00:00:00:00:00:00:00:00:00:00:00:00:00:00:00:00:00:00:00:00:00:00:00:00:00:00:00:00:00:00:00:00:00:00:00:00:00:00:00:00:00:00:00:00:00:00:00:00:00:00:00:00:22:22:22:22:20:00:00:00:02:22:22:22:22:22:22:22:22:22:22:22:22:22:22:22:22:22:22:22:22:22:22:22:22:22:22:2222:22:22:22:22:22:22:22:22:22:22:22:22:22:22:22:22:22:22:22:22:22:22:11:11:11:11:11:11:11:10:00:00:00:00:00:00:00:00:00:00:00:00:00:00:00:00:00:00:00:00:00:00:00:00:00:00:00:00:00:00:00:00:00:00:00:00:00:00:00:00:00:00:00:00:00:00:00:00:00:00:00:00:00:00:00:00:00:00:00:00:00:00:00:00:00:00:00:00:00:00:00:00:00:00:00:00:00:00:00:00:00:00:00:00:00:00:00:00:00:00:00:00:00:00:00:00:00:00:00:00:00:00:00:00:00:00:00:00:00:00:00:00:00:00:00:00:00:00:00:00:0000:00:00:00:00:00:00:00:00:00:00:00:00:00:00:00:00:00:00:00:00:00:00:00:00:00:00:00:00:00:00:00:00:00:00:00:00:00:00:00:00:00:00:00:00:00:00:00:00:00:00:00:00:00:00:00:00:00:00:00:00:00:00:02:22:22:22:20:00:00:00:00:02:44:44:44:44:44:44:44:44:44:44:44:44:44:44:44:24:44:44:44:44:44:44:44:42:44:44:44:44:44:44:44:44:44:44:44:44:44:44:44:44:44:44:44:44:44:44:44:44:44:44:11:11:11:11:11:11:11:10:00:00:00:00:00:00:00:00:00:00:00:00:00:00:00:00:00:00:00:00:0000:00:00:00:00:00:00:00:00:00:00:00:00:00:00:00:00:00:00:00:00:00:00:00:00:00:00:00:00:00:00:00:00:00:00:00:00:00:00:00:00:00:00:00:00:00:00:00:00:00:00:00:00:00:00:00:00:00:00:00:00:00:00:00:00:00:00:00:00:00:00:00:00:00:00:00:00:00:00:00:00:00:00:00:00:00:00:00:00:00:00:00:00:00:00:00:00:00:00:00:00:00:00:00:00:00:00:00:00:00:00:00:00:00:00:00:00:00:00:00:00:00:00:00:00:00:00:00:00:00:00:00:00:00:00:00:00:00:00:00:00:00:00:00:00:00:00:00:00:00:00:0000:00:00:00:00:00:00:00:00:00:00:02:22:22:20:00:00:00:00:00:02:44:44:44:44:44:44:44:44:44:44:44:44:44:44:44:24:44:44:44:44:44:44:44:42:44:44:44:44:44:44:44:44:44:44:44:44:44:44:44:44:44:44:44:44:44:44:44:44:44:44:11:11:11:11:11:11:11:10:00:00:00:00:00:00:00:00:00:00:00:00:00:00:00:00:00:00:00:00:00:00:00:00:00:00:00:00:00:00:00:00:00:00:00:00:00:00:00:00:00:00:00:00:00:00:00:00:00:00:00:00:00:00:00:00:00:00:00:00:00:00:00:00:00:00:00:00:00:00:00:00:0000:00:00:00:00:00:00:00:00:00:00:00:00:00:00:00:00:00:00:00:00:00:00:00:00:00:00:00:00:00:00:00:00:00:00:00:00:00:00:00:00:00:00:00:00:00:00:00:00:00:00:00:00:00:00:00:00:00:00:00:00:00:00:00:00:00:00:00:00:00:00:00:00:00:00:00:00:00:00:00:00:00:00:00:00:00:00:00:00:00:00:00:00:00:00:00:00:00:00:00:00:00:00:00:00:00:00:00:00:00:00:00:02:20:00:00:00:00:00:00:02:44:44:44:44:44:44:44:44:44:44:44:44:44:44:44:24:44:44:44:44:44:44:44:42:44:44:44:44:44:44:4444:44:44:44:44:44:44:44:44:44:44:44:44:44:44:44:44:44:44:11:11:11:11:11:11:11:10:00:00:00:00:00:00:00:00:00:00:00:00:00:00:00:00:00:00:00:00:00:00:00:00:00:00:00:00:00:00:00:00:00:00:00:00:00:00:00:00:00:00:00:00:00:00:00:00:00:00:00:00:00:00:00:00:00:00:00:00:00:00:00:00:00:00:00:00:00:00:00:00:00:00:00:00:00:00:00:00:00:00:00:00:00:00:00:00:00:00:00:00:00:00:00:00:00:00:00:00:00:00:00:00:00:00:00:00:00:00:00:00:00:00:00:00:00:00:00:00:00:00:00:00:0000:00:00:00:00:00:00:00:00:00:00:00:00:00:00:00:00:00:00:00:00:00:00:00:00:00:00:00:00:00:00:00:00:00:00:00:00:00:00:00:00:00:00:00:00:00:00:00:00:00:00:00:00:00:00:00:00:00:00:00:00:00:00:00:00:00:00:00:02:44:44:44:44:44:44:44:44:44:44:44:44:44:44:44:24:44:44:44:44:44:44:44:42:44:44:44:44:44:44:44:44:44:44:44:44:44:44:44:44:44:44:44:44:44:44:44:44:44:44:11:11:11:11:11:11:11:10:00:00:00:00:00:00:00:00:00:00:00:00:00:00:00:00:00:00:00:00:00:00:00:00:0000:00:00:00:00:00:00:00:00:00:00:00:00:00:00:00:00:00:00:00:00:00:00:00:00:00:00:00:00:00:00:00:00:00:00:00:00:00:00:00:00:00:00:00:00:00:00:00:00:00:00:00:00:00:00:00:00:00:00:00:00:00:00:00:00:00:00:00:00:00:00:00:00:00:00:00:00:00:00:00:00:00:00:00:00:00:00:00:00:00:00:00:00:00:00:00:00:00:00:00:00:00:00:00:00:00:00:00:00:00:00:00:00:00:00:00:00:00:00:00:00:00:00:00:00:00:00:00:00:00:00:00:00:00:00:00:00:00:00:00:00:00:00:00:00:00:00:00:00:00:00:0000:00:00:00:00:00:00:00:00:00:00:00:00:00:00:00:02:44:44:44:44:44:44:44:44:44:44:44:44:44:44:44:24:44:44:44:44:44:44:44:42:44:44:44:44:44:44:44:44:44:44:44:44:44:44:44:44:44:44:44:44:44:44:44:44:44:44:11:11:11:11:11:11:11:10:00:00:00:00:00:00:00:00:00:00:00:00:00:00:00:00:00:00:00:00:00:00:00:00:00:00:00:00:00:00:00:00:00:00:00:00:00:00:00:00:00:00:00:00:00:00:00:00:00:00:00:00:00:00:00:00:00:00:00:00:00:00:00:00:00:00:00:00:00:00:00:00:00:00:00:00:0000:00:00:00:00:00:00:00:00:00:00:00:00:00:00:00:00:00:00:00:00:00:00:00:00:00:00:00:00:00:00:00:00:00:00:00:00:00:00:00:00:00:00:00:00:00:00:00:00:00:00:00:00:00:00:00:00:00:00:00:00:00:00:00:00:00:00:00:00:00:00:00:00:00:00:00:00:00:00:00:00:00:00:00:00:00:00:00:00:00:00:00:00:00:00:00:00:00:00:00:00:00:00:00:00:00:00:00:00:00:00:00:00:00:00:00:02:44:44:44:44:44:44:44:44:44:44:44:44:44:44:44:24:44:44:44:44:44:44:44:42:44:44:44:44:44:44:44:44:44:44:4444:44:44:44:44:44:44:44:44:44:44:44:44:44:44:11:11:11:11:11:11:11:10:00:00:00:00:00:00:00:00:00:00:00:00:00:00:00:00:00:00:00:00:00:00:00:00:00:00:00:00:00:00:00:00:00:00:00:00:00:00:00:00:00:00:00:00:00:00:00:00:00:00:00:00:00:00:00:00:00:00:00:00:00:00:00:00:00:00:00:00:00:00:00:00:00:00:00:00:00:00:00:00:00:00:00:00:00:00:00:00:00:00:00:00:00:00:00:00:00:00:00:00:00:00:00:00:00:00:00:00:00:00:00:00:00:00:00:00:00:00:00:00:00:00:00:00:00:00:00:00:0000:00:00:00:00:00:00:00:00:00:00:00:00:00:00:00:00:00:00:00:00:00:00:00:00:00:00:00:00:00:00:00:00:00:00:00:00:00:00:00:00:00:00:00:00:00:00:00:00:00:00:00:00:00:00:00:00:00:00:00:00:00:00:00:02:44:44:44:44:44:44:44:44:44:44:44:44:44:44:44:24:44:44:44:44:44:44:44:42:44:44:44:44:44:44:44:44:44:44:44:44:44:44:44:44:44:44:44:44:44:44:44:44:44:44:11:11:11:11:11:11:11:12:22:00:00:00:00:00:00:00:00:00:00:00:00:00:00:00:00:00:00:00:00:00:00:00:00:00:00:00:0000:00:00:00:00:00:00:00:00:00:00:00:00:00:00:00:00:00:00:00:00:00:00:00:00:00:00:00:00:00:00:00:00:00:00:00:00:00:00:00:00:00:00:00:00:00:00:00:00:00:00:00:00:00:00:00:00:00:00:00:00:00:00:00:00:00:00:00:00:00:00:00:00:00:00:00:00:00:00:00:00:00:00:00:00:00:00:00:00:00:00:00:00:00:00:00:00:00:00:00:00:00:00:00:00:00:00:00:00:00:00:00:00:00:00:00:00:00:00:00:00:00:00:00:00:00:00:00:00:00:00:00:00:00:00:00:00:00:00:00:00:00:00:00:00:00:00:00:00:00:00:0000:00:00:00:00:00:00:00:00:00:00:00:02:44:44:44:44:44:44:44:44:44:44:44:44:44:44:44:24:44:44:44:44:44:44:44:42:44:44:44:44:44:44:44:44:44:44:44:44:44:44:44:44:44:44:44:44:44:44:44:44:44:44:11:11:11:11:11:11:11:14:44:22:20:00:00:00:00:00:00:00:00:00:00:00:00:00:00:00:00:00:00:00:00:00:00:00:00:00:00:00:00:00:00:00:00:00:00:00:00:00:00:00:00:00:00:00:00:00:00:00:00:00:00:00:00:00:00:00:00:00:00:00:00:00:00:00:00:00:00:00:00:00:00:00:00:00:00:00:00:00:0000:00:00:00:00:00:00:00:00:00:00:00:00:00:00:00:00:00:00:00:00:00:00:00:00:00:00:00:00:00:00:00:00:00:00:00:00:00:00:00:00:00:00:00:00:00:00:00:00:00:00:00:00:00:00:00:00:00:00:00:00:00:00:00:00:00:00:00:00:00:00:00:00:00:00:00:00:00:00:00:00:00:00:00:00:00:00:00:00:00:00:00:00:00:00:00:00:00:00:00:00:00:00:00:00:00:00:00:00:00:00:00:02:44:44:44:44:44:44:44:44:44:44:44:44:44:44:44:24:44:44:44:44:44:44:44:42:44:44:44:44:44:44:44:44:44:44:44:44:44:44:4444:44:44:44:44:44:44:44:44:44:44:11:11:11:11:11:11:11:14:44:44:42:22:00:00:00:00:00:00:00:00:00:00:00:00:00:00:00:00:00:00:00:00:00:00:00:00:00:00:00:00:00:00:00:00:00:00:00:00:00:00:00:00:00:00:00:00:00:00:00:00:00:00:00:00:00:00:00:00:00:00:00:00:00:00:00:00:00:00:00:00:00:00:00:00:00:00:00:00:00:00:00:00:00:00:00:00:00:00:00:00:00:00:00:00:00:00:00:00:00:00:00:00:00:00:00:00:00:00:00:00:00:00:00:00:00:00:00:00:00:00:00:00:00:00:00:00:00:00:00:00:0000:00:00:00:00:00:00:00:00:00:00:00:00:00:00:00:00:00:00:00:00:00:00:00:00:00:00:00:00:00:00:00:00:00:00:00:00:00:00:00:00:00:00:00:00:00:00:00:00:00:00:00:00:00:00:00:00:00:00:00:02:44:44:44:44:44:44:44:44:44:44:44:44:44:44:44:24:44:44:44:44:44:44:44:42:44:44:44:44:44:44:44:44:44:44:44:44:44:44:44:44:44:44:44:44:44:44:44:44:44:44:11:11:11:11:11:11:11:12:22:44:44:44:22:20:00:00:00:00:00:00:00:00:00:00:00:00:00:00:00:00:00:00:00:00:00:00:00:00:00:00:0000:00:00:00:00:00:00:00:00:00:00:00:00:00:00:00:00:00:00:00:00:00:00:00:00:00:00:00:00:00:00:00:00:00:00:00:00:00:00:00:00:00:00:00:00:00:00:00:00:00:00:00:00:00:00:00:00:00:00:00:00:00:00:00:00:00:00:00:00:00:00:00:00:00:00:00:00:00:00:00:00:00:00:00:00:00:00:00:00:00:00:00:00:00:00:00:00:00:00:00:00:00:00:00:00:00:00:00:00:00:00:00:00:00:00:00:00:00:00:00:00:00:00:00:00:00:00:00:00:00:00:00:00:00:00:00:00:00:00:00:00:00:00:00:00:00:00:00:00:00:00:0000:00:00:00:00:00:00:00:02:44:44:44:44:44:44:44:44:44:44:44:44:44:44:44:24:44:44:44:44:44:44:44:42:44:44:44:44:44:44:44:44:44:44:44:44:44:44:44:44:44:44:44:44:44:44:44:44:44:44:11:11:11:11:11:11:11:10:00:22:24:44:44:42:00:00:00:00:00:00:00:00:00:00:00:00:00:00:00:00:00:00:00:00:00:00:00:00:00:00:00:00:00:00:00:00:00:00:00:00:00:00:00:00:00:00:00:00:00:00:00:00:00:00:00:00:00:00:00:00:00:00:00:00:00:00:00:00:00:00:00:00:00:00:00:00:00:00:00:00:00:00:0000:00:00:00:00:00:00:00:00:00:00:00:00:00:00:00:00:00:00:00:00:00:00:00:00:00:00:00:00:00:00:00:00:00:00:00:00:00:00:00:00:00:00:00:00:00:00:00:00:00:00:00:00:00:00:00:00:00:00:00:00:00:00:00:00:00:00:00:00:00:00:00:00:00:00:00:00:00:00:00:00:00:00:00:00:00:00:00:00:00:00:00:00:00:00:00:00:00:00:00:00:00:00:00:00:00:00:00:02:44:44:44:44:44:44:44:44:44:44:44:44:44:44:44:24:44:44:44:44:44:44:44:42:44:44:44:44:44:44:44:44:44:44:44:44:44:44:44:44:44:44:4444:44:44:44:44:44:44:11:11:11:11:11:11:11:10:00:00:02:22:44:42:00:00:00:00:00:00:00:00:00:00:00:00:00:00:00:00:00:00:00:00:00:00:00:00:00:00:00:00:00:00:00:00:00:00:00:00:00:00:00:00:00:00:00:00:00:00:00:00:00:00:00:00:00:00:00:00:00:00:00:00:00:00:00:00:00:00:00:00:00:00:00:00:00:00:00:00:00:00:00:00:00:00:00:00:00:00:00:00:00:00:00:00:00:00:00:00:00:00:00:00:00:00:00:00:00:00:00:00:00:00:00:00:00:00:00:00:00:00:00:00:00:00:00:00:00:00:00:00:00:00:0000:00:00:00:00:00:00:00:00:00:00:00:00:00:00:00:00:00:00:00:00:00:00:00:00:00:00:00:00:00:00:00:00:00:00:00:00:00:00:00:00:00:00:00:00:00:00:00:00:00:00:00:00:00:00:00:02:44:44:44:44:44:44:44:44:44:44:44:44:44:44:44:24:44:44:44:44:44:44:44:42:44:44:44:44:44:44:44:44:44:44:44:44:44:44:44:44:44:44:44:44:44:44:44:44:44:44:11:11:11:11:11:11:11:10:00:00:00:00:22:22:00:00:00:00:00:00:00:00:00:00:00:00:00:00:00:00:00:00:00:00:00:00:00:00:00:00:00:00:00:00:0000:00:00:00:00:00:00:00:00:00:00:00:00:00:00:00:00:00:00:00:00:00:00:00:00:00:00:00:00:00:00:00:00:00:00:00:00:00:00:00:00:00:00:00:00:00:00:00:00:00:00:00:00:00:00:00:00:00:00:00:00:00:00:00:00:00:00:00:00:00:00:00:00:00:00:00:00:00:00:00:00:00:00:00:00:00:00:00:00:00:00:00:00:00:00:00:00:00:00:00:00:00:00:00:00:00:00:00:00:00:00:00:00:00:00:00:00:00:00:00:00:00:00:00:00:00:00:00:00:00:00:00:00:00:00:00:00:00:00:00:00:00:00:00:00:00:00:00:00:00:00:0000:00:00:00:02:44:44:44:44:44:44:44:44:44:44:44:44:44:44:44:24:44:44:44:44:44:44:44:42:44:44:44:44:44:44:44:44:44:44:44:44:44:44:44:44:44:44:44:44:44:44:44:44:44:44:11:11:11:11:11:11:11:10:00:00:00:00:00:00:00:00:00:00:00:00:00:00:00:00:00:00:00:00:00:00:00:00:00:00:00:00:00:00:00:00:00:00:00:00:00:00:00:00:00:00:00:00:00:00:00:00:00:00:00:00:00:00:00:00:00:00:00:00:00:00:00:00:00:00:00:00:00:00:00:00:00:00:00:00:00:00:00:00:00:00:00:00:00:00:00:00:0000:00:00:00:00:00:00:00:00:00:00:00:00:00:00:00:00:00:00:00:00:00:00:00:00:00:00:00:00:00:00:00:00:00:00:00:00:00:00:00:00:00:00:00:00:00:00:00:00:00:00:00:00:00:00:00:00:00:00:00:00:00:00:00:00:00:00:00:00:00:00:00:00:00:00:00:00:00:00:00:00:00:00:00:00:00:00:00:00:00:00:00:00:00:00:00:00:00:00:00:00:00:00:00:01:11:11:11:11:11:11:11:11:11:11:11:11:11:11:11:11:11:11:11:11:11:11:11:11:11:11:11:11:11:11:11:11:11:11:11:11:11:11:11:11:11:11:11:11:11:11:1111:11:11:11:11:11:11:11:11:11:10:00:00:00:00:00:00:00:00:00:00:00:00:00:00:00:00:00:00:00:00:00:00:00:00:00:00:00:00:00:00:00:00:00:00:00:00:00:00:00:00:00:00:00:00:00:00:00:00:00:00:00:00:00:00:00:00:00:00:00:00:00:00:00:00:00:00:00:00:00:00:00:00:00:00:00:00:00:00:00:00:00:00:00:00:00:00:00:00:00:00:00:00:00:00:00:00:00:00:00:00:00:00:00:00:00:00:00:00:00:00:00:00:00:00:00:00:00:00:00:00:00:00:00:00:00:00:00:00:00:00:00:00:00:00:00:00:00:00:00:00:0000:00:00:00:00:00:00:00:00:00:00:00:00:00:00:00:00:00:00:00:00:00:00:00:00:00:00:00:00:00:00:00:00:00:00:00:00:00:00:00:00:00:00:00:00:00:00:00:00:00:00:00:01:11:11:11:11:11:11:11:11:11:11:11:11:11:11:11:11:11:11:11:11:11:11:11:11:11:11:11:11:11:11:11:11:11:11:11:11:11:11:11:11:11:11:11:11:11:11:11:11:11:11:11:11:11:11:11:11:11:10:00:00:00:00:00:00:00:00:00:00:00:00:00:00:00:00:00:00:00:00:00:00:00:00:00:00:00:00:00:00:00:00:00:00:00:00:00:00:00:00:0000:00:00:00:00:00:00:00:00:00:00:00:00:00:00:00:00:00:00:00:00:00:00:00:00:00:00:00:00:00:00:00:00:00:00:00:00:00:00:00:00:00:00:00:00:00:00:00:00:00:00:00:00:00:00:00:00:00:00:00:00:00:00:00:00:00:00:00:00:00:00:00:00:00:00:00:00:00:00:00:00:00:00:00:00:00:00:00:00:00:00:00:00:00:00:00:00:00:00:00:00:00:00:00:00:00:00:00:00:00:00:00:00:00:00:00:00:00:00:00:00:00:00:00:00:00:00:00:00:00:00:00:00:00:00:00:00:00:00:00:00:00:00:00:00:00:00:00:00:00:00:0001:22:22:22:22:22:22:22:22:22:22:22:21:11:00:00:00:00:00:00:00:00:00:00:01:22:22:22:22:22:22:22:22:22:22:22:22:22:22:22:22:22:22:22:22:22:21:22:22:22:22:22:22:22:21:22:22:22:10:00:00:00:00:00:00:00:00:00:00:00:00:00:00:00:00:00:00:00:00:00:00:00:00:00:00:00:00:00:00:00:00:00:00:00:00:00:00:00:00:00:00:00:00:00:00:00:00:00:00:00:00:00:00:00:00:00:00:00:00:00:00:00:00:00:00:00:00:00:00:00:00:00:00:00:00:00:00:00:00:00:00:00:00:00:00:00:00:00:00:00:00:0000:00:00:00:00:00:00:00:00:00:00:00:00:00:00:00:00:00:00:00:00:00:00:00:00:00:00:00:00:00:00:00:00:00:00:00:00:00:00:00:00:00:00:00:00:00:00:00:00:00:00:00:00:00:00:00:00:00:00:00:00:00:00:00:00:00:00:00:00:00:00:00:00:00:00:00:00:00:00:00:00:00:00:00:00:00:00:00:00:00:00:00:00:00:00:00:00:00:00:00:01:22:22:22:22:22:22:22:22:22:22:11:10:00:00:00:00:00:00:00:00:00:00:00:01:22:22:22:22:22:22:22:22:22:22:22:22:22:22:22:22:22:22:22:22:22:21:22:22:22:22:2222:22:21:22:22:22:10:00:00:00:00:00:00:00:00:00:00:00:00:00:00:00:00:00:00:00:00:00:00:00:00:00:00:00:00:00:00:00:00:00:00:00:00:00:00:00:00:00:00:00:00:00:00:00:00:00:00:00:00:00:00:00:00:00:00:00:00:00:00:00:00:00:00:00:00:00:00:00:00:00:00:00:00:00:00:00:00:00:00:00:00:00:00:00:00:00:00:00:00:00:00:00:00:00:00:00:00:00:00:00:00:00:00:00:00:00:00:00:00:00:00:00:00:00:00:00:00:00:00:00:00:00:00:00:00:00:00:00:00:00:00:00:00:00:00:00:00:00:00:00:00:0000:00:00:00:00:00:00:00:00:00:00:00:00:00:00:00:00:00:00:00:00:00:00:00:00:00:00:00:00:00:00:00:00:00:00:00:00:00:00:00:00:00:00:00:00:00:00:00:01:22:22:22:22:22:22:22:22:21:11:00:00:00:00:00:00:00:00:00:00:00:00:00:01:22:22:22:22:22:22:22:22:22:22:22:22:22:22:22:22:22:22:22:22:22:21:22:22:22:22:22:22:22:21:22:22:22:10:00:00:00:00:00:00:00:00:00:00:00:00:00:00:00:00:00:00:00:00:00:00:00:00:00:00:00:00:00:00:00:00:00:00:00:00:00:00:00:00:00:00:00:00:0000:00:00:00:00:00:00:00:00:00:00:00:00:00:00:00:00:00:00:00:00:00:00:00:00:00:00:00:00:00:00:00:00:00:00:00:00:00:00:00:00:00:00:00:00:00:00:00:00:00:00:00:00:00:00:00:00:00:00:00:00:00:00:00:00:00:00:00:00:00:00:00:00:00:00:00:00:00:00:00:00:00:00:00:00:00:00:00:00:00:00:00:00:00:00:00:00:00:00:00:00:00:00:00:00:00:00:00:00:00:00:00:00:00:00:00:00:00:00:00:00:00:00:00:00:00:00:00:00:00:00:00:00:00:00:00:00:00:00:00:00:00:00:00:00:00:00:00:01:22:22:2222:22:22:22:11:10:00:00:00:00:00:00:00:00:00:00:00:00:00:00:01:22:22:22:22:22:22:22:22:22:22:22:22:22:22:22:22:22:22:22:22:22:21:22:22:22:22:22:22:22:21:22:22:22:10:00:00:00:00:00:00:00:00:00:00:00:00:00:00:00:00:00:00:00:00:00:00:00:00:00:00:00:00:00:00:00:00:00:00:00:00:00:00:00:00:00:00:00:00:00:00:00:00:00:00:00:00:00:00:00:00:00:00:00:00:00:00:00:00:00:00:00:00:00:00:00:00:00:00:00:00:00:00:00:00:00:00:00:00:00:00:00:00:00:00:00:00:00:00:00:00:0000:00:00:00:00:00:00:00:00:00:00:00:00:00:00:00:00:00:00:00:00:00:00:00:00:00:00:00:00:00:00:00:00:00:00:00:00:00:00:00:00:00:00:00:00:00:00:00:00:00:00:00:00:00:00:00:00:00:00:00:00:00:00:00:00:00:00:00:00:00:00:00:00:00:00:00:00:00:00:00:00:00:00:00:00:00:00:00:00:00:00:00:00:00:00:00:01:11:11:11:11:11:11:11:00:00:00:00:00:00:00:00:00:00:00:00:00:00:00:00:01:11:11:11:11:11:11:11:11:11:11:11:11:11:11:11:11:11:11:11:11:11:11:11:11:11:11:11:11:11:11:1111:11:10:00:00:00:00:00:00:00:00:00:00:00:00:00:00:00:00:00:00:00:00:00:00:00:00:00:00:00:00:00:00:00:00:00:00:00:00:00:00:00:00:00:00:00:00:00:00:00:00:00:00:00:00:00:00:00:00:00:00:00:00:00:00:00:00:00:00:00:00:00:00:00:00:00:00:00:00:00:00:00:00:00:00:00:00:00:00:00:00:00:00:00:00:00:00:00:00:00:00:00:00:00:00:00:00:00:00:00:00:00:00:00:00:00:00:00:00:00:00:00:00:00:00:00:00:00:00:00:00:00:00:00:00:00:00:00:00:00:00:00:00:00:00:00:00:00:00:00:00:0000:00:00:00:00:00:00:00:00:00:00:00:00:00:00:00:00:00:00:00:00:00:00:00:00:00:00:00:00:00:00:00:00:00:00:00:00:00:00:00:00:00:00:00:00:00:00:00:00:00:00:00:00:00:00:00:00:00:00:00:00:00:00:00:00:00:00:00:00:00:00:12:22:22:22:22:22:22:22:22:22:22:22:22:22:22:22:22:22:22:22:22:22:22:22:22:22:10:01:11:11:11:11:11:11:11:11:00:00:00:00:00:00:00:00:00:00:00:00:00:00:00:00:00:00:00:00:00:00:00:00:00:00:00:00:00:00:00:00:00:00:00:00:00:00:00:00:00:00:00:00:0000:00:00:00:00:00:00:00:00:00:00:00:00:00:00:00:00:00:00:00:00:00:00:00:00:00:00:00:00:00:00:00:00:00:00:00:00:00:00:00:00:00:00:00:00:00:00:00:00:00:00:00:00:00:00:00:00:00:00:00:00:00:00:00:00:00:00:00:00:00:00:00:00:00:00:00:00:00:00:00:00:00:00:00:00:00:00:00:00:00:00:00:00:00:00:00:00:00:00:00:00:00:00:00:00:00:00:00:00:00:00:00:00:00:00:00:00:00:00:00:00:00:00:00:00:00:00:00:00:00:00:00:00:00:00:00:00:00:00:00:00:00:00:00:00:00:00:00:00:00:00:0000:00:00:00:00:00:00:00:00:00:00:00:00:00:00:00:00:00:00:12:22:22:22:22:22:22:22:22:22:22:22:22:22:22:22:22:22:22:22:22:22:22:22:22:22:10:01:11:11:11:11:11:11:11:11:11:11:10:00:00:00:00:00:00:00:00:00:00:00:00:00:00:00:00:00:00:00:00:00:00:00:00:00:00:00:00:00:00:00:00:00:00:00:00:00:00:00:00:00:00:00:00:00:00:00:00:00:00:00:00:00:00:00:00:00:00:00:00:00:00:00:00:00:00:00:00:00:00:00:00:00:00:00:00:00:00:00:00:00:00:00:00:00:00:00:00:00:00:00:00:00:0000:00:00:00:00:00:00:00:00:00:00:00:00:00:00:00:00:00:00:00:00:00:00:00:00:00:00:00:00:00:00:00:00:00:00:00:00:00:00:00:00:00:00:00:00:00:00:00:00:00:00:00:00:00:00:00:00:00:00:00:00:00:00:00:00:00:00:00:00:00:00:00:00:00:00:00:00:00:00:00:00:00:00:00:00:00:00:00:00:00:00:00:00:00:00:00:00:00:00:00:00:00:00:00:00:00:00:00:00:00:00:00:00:00:00:00:00:00:00:12:22:22:22:22:22:22:22:22:22:22:22:22:22:22:22:22:22:22:22:22:22:22:22:22:22:10:01:11:11:11:11:1111:11:11:11:11:10:00:00:00:00:00:00:00:00:00:00:00:00:00:00:00:00:00:00:00:00:00:00:00:00:00:00:00:00:00:00:00:00:00:00:00:00:00:00:00:00:00:00:00:00:00:00:00:00:00:00:00:00:00:00:00:00:00:00:00:00:00:00:00:00:00:00:00:00:00:00:00:00:00:00:00:00:00:00:00:00:00:00:00:00:00:00:00:00:00:00:00:00:00:00:00:00:00:00:00:00:00:00:00:00:00:00:00:00:00:00:00:00:00:00:00:00:00:00:00:00:00:00:00:00:00:00:00:00:00:00:00:00:00:00:00:00:00:00:00:00:00:00:00:00:00:0000:00:00:00:00:00:00:00:00:00:00:00:00:00:00:00:00:00:00:00:00:00:00:00:00:00:00:00:00:00:00:00:00:00:00:00:00:00:00:00:00:00:00:00:00:00:00:00:00:00:00:00:00:00:00:00:00:00:00:00:00:00:00:00:00:00:00:12:22:22:22:22:22:22:22:22:22:22:22:22:22:22:22:22:22:22:22:22:22:22:22:22:22:10:01:13:33:33:33:33:33:33:33:33:31:10:00:00:00:00:00:00:00:00:00:00:00:00:00:00:00:00:00:00:00:00:00:00:00:00:00:00:00:00:00:00:00:00:00:00:00:00:00:00:00:00:00:00:00:00:00:0000:00:00:00:00:00:00:00:00:00:00:00:00:00:00:00:00:00:00:00:00:00:00:00:00:00:00:00:00:00:00:00:00:00:00:00:00:00:00:00:00:00:00:00:00:00:00:00:00:00:00:00:00:00:00:00:00:00:00:00:00:00:00:00:00:00:00:00:00:00:00:00:00:00:00:00:00:00:00:00:00:00:00:00:00:00:00:00:00:00:00:00:00:00:00:00:00:00:00:00:00:00:00:00:00:00:00:00:00:00:00:00:00:00:00:00:00:00:00:00:00:00:00:00:00:00:00:00:00:00:00:00:00:00:00:00:00:00:00:00:00:00:00:00:00:00:00:00:00:00:00:0000:00:00:00:00:00:00:00:00:00:00:00:00:00:00:11:11:11:11:11:11:11:11:11:11:11:11:11:11:11:11:11:11:11:11:11:11:11:11:12:22:21:11:13:33:33:33:33:33:33:33:33:31:10:00:00:00:00:00:00:00:00:00:00:00:00:00:00:00:00:00:00:00:00:00:00:00:00:00:00:00:00:00:00:00:00:00:00:00:00:00:00:00:00:00:00:00:00:00:00:00:00:00:00:00:00:00:00:00:00:00:00:00:00:00:00:00:00:00:00:00:00:00:00:00:00:00:00:00:00:00:00:00:00:00:00:00:00:00:00:00:00:00:00:00:00:00:00:00:00:00:0000:00:00:00:00:00:00:00:00:00:00:00:00:00:00:00:00:00:00:00:00:00:00:00:00:00:00:00:00:00:00:00:00:00:00:00:00:00:00:00:00:00:00:00:00:00:00:00:00:00:00:00:00:00:00:00:00:00:00:00:00:00:00:00:00:00:00:00:00:00:00:00:00:00:00:00:00:00:00:00:00:00:00:00:00:00:00:00:00:00:00:00:00:00:00:00:00:00:00:00:00:00:00:00:00:00:00:00:00:00:00:00:00:00:00:12:22:22:22:22:22:22:22:22:22:11:11:22:22:22:11:11:11:11:11:11:11:11:11:11:11:22:11:13:33:33:33:33:33:33:33:3331:10:00:00:00:00:00:00:00:00:00:00:00:00:00:00:00:00:00:00:00:00:00:00:00:00:00:00:00:00:00:00:00:00:00:00:00:00:00:00:00:00:00:00:00:00:00:00:00:00:00:00:00:00:00:00:00:00:00:00:00:00:00:00:00:00:00:00:00:00:00:00:00:00:00:00:00:00:00:00:00:00:00:00:00:00:00:00:00:00:00:00:00:00:00:00:00:00:00:00:00:00:00:00:00:00:00:00:00:00:00:00:00:00:00:00:00:00:00:00:00:00:00:00:00:00:00:00:00:00:00:00:00:00:00:00:00:00:00:00:00:00:00:00:00:00:00:00:00:00:00:0000:00:00:00:00:00:00:00:00:00:00:00:00:00:00:00:00:00:00:00:00:00:00:00:00:00:00:00:00:00:00:00:00:00:00:00:00:00:00:00:00:00:00:00:00:00:00:00:00:00:00:00:00:00:00:00:00:00:00:00:00:00:00:12:22:22:22:22:22:22:22:22:22:22:22:11:11:22:11:11:11:11:11:11:11:11:11:11:00:11:11:13:33:33:33:33:33:33:33:33:31:10:00:00:00:00:00:00:00:00:00:00:00:00:00:00:00:00:00:00:00:00:00:00:00:00:00:00:00:00:00:00:00:00:00:00:00:00:00:00:00:00:00:00:00:00:00:00:00:00:00:0000:00:00:00:00:00:00:00:00:00:00:00:00:00:00:00:00:00:00:00:00:00:00:00:00:00:00:00:00:00:00:00:00:00:00:00:00:00:00:00:00:00:00:00:00:00:00:00:00:00:00:00:00:00:00:00:00:00:00:00:00:00:00:00:00:00:00:00:00:00:00:00:00:00:00:00:00:00:00:00:00:00:00:00:00:00:00:00:00:00:00:00:00:00:00:00:00:00:00:00:00:00:00:00:00:00:00:00:00:00:00:00:00:00:00:00:00:00:00:00:00:00:00:00:00:00:00:00:00:00:00:00:00:00:00:00:00:00:00:00:00:00:00:00:00:00:00:00:00:00:00:0000:00:00:00:00:00:00:00:00:00:00:12:22:22:22:22:22:22:22:22:22:22:22:22:22:11:11:11:11:11:11:11:11:11:11:11:00:00:01:13:33:33:33:33:33:33:33:33:31:10:00:00:00:00:00:00:00:00:00:00:00:00:00:00:00:00:00:00:00:00:00:00:00:00:00:00:00:00:00:00:00:00:00:00:00:00:00:00:00:00:00:00:00:00:00:00:00:00:00:00:00:00:00:00:00:00:00:00:00:00:00:00:00:00:00:00:00:00:00:00:00:00:00:00:00:00:00:00:00:00:00:00:00:00:00:00:00:00:00:00:00:00:00:00:00:00:00:00:00:00:00:0000:00:00:00:00:00:00:00:00:00:00:00:00:00:00:00:00:00:00:00:00:00:00:00:00:00:00:00:00:00:00:00:00:00:00:00:00:00:00:00:00:00:00:00:00:00:00:00:00:00:00:00:00:00:00:00:00:00:00:00:00:00:00:00:00:00:00:00:00:00:00:00:00:00:00:00:00:00:00:00:00:00:00:00:00:00:00:00:00:00:00:00:00:00:00:00:00:00:00:00:00:00:00:00:00:00:00:00:00:00:00:12:22:22:22:22:22:22:22:22:22:22:22:22:22:22:22:11:11:11:11:11:11:11:11:11:00:00:01:13:33:33:33:33:33:33:33:33:31:10:00:0000:00:00:00:00:00:00:00:00:00:00:00:00:00:00:00:00:00:00:00:00:00:00:00:00:00:00:00:00:00:00:00:00:00:00:00:00:00:00:00:00:00:00:00:00:00:00:00:00:00:00:00:00:00:00:00:00:00:00:00:00:00:00:00:00:00:00:00:00:00:00:00:00:00:00:00:00:00:00:00:00:00:00:00:00:00:00:00:00:00:00:00:00:00:00:00:00:00:00:00:00:00:00:00:00:00:00:00:00:00:00:00:00:00:00:00:00:00:00:00:00:00:00:00:00:00:00:00:00:00:00:00:00:00:00:00:00:00:00:00:00:00:00:00:00:00:00:00:00:00:00:0000:00:00:00:00:00:00:00:00:00:00:00:00:00:00:00:00:00:00:00:00:00:00:00:00:00:00:00:00:00:00:00:00:00:00:00:00:00:00:00:00:00:00:00:00:00:00:00:00:00:00:00:00:00:00:00:00:00:00:12:22:22:22:22:22:22:22:22:22:22:22:22:22:22:22:22:22:11:11:11:11:11:11:11:00:00:01:13:33:33:33:33:33:33:33:33:31:10:00:00:00:00:00:00:00:00:00:00:00:00:00:00:00:00:00:00:00:00:00:00:00:00:00:00:00:00:00:00:00:00:00:00:00:00:00:00:00:00:00:00:00:00:00:00:00:00:00:00:00:00:00:0000:00:00:00:00:00:00:00:00:00:00:00:00:00:00:00:00:00:00:00:00:00:00:00:00:00:00:00:00:00:00:00:00:00:00:00:00:00:00:00:00:00:00:00:00:00:00:00:00:00:00:00:00:00:00:00:00:00:00:00:00:00:00:00:00:00:00:00:00:00:00:00:00:00:00:00:00:00:00:00:00:00:00:00:00:00:00:00:00:00:00:00:00:00:00:00:00:00:00:00:00:00:00:00:00:00:00:00:00:00:00:00:00:00:00:00:00:00:00:00:00:00:00:00:00:00:00:00:00:00:00:00:00:00:00:00:00:00:00:00:00:00:00:00:00:00:00:00:00:00:00:0000:00:00:00:00:00:00:12:22:22:22:22:22:22:22:22:22:22:22:22:22:22:22:22:22:22:22:11:11:11:11:11:00:00:01:13:33:33:33:33:33:33:33:33:31:10:00:00:00:00:00:00:00:00:00:00:00:00:00:00:00:00:00:00:00:00:00:00:00:00:00:00:00:00:00:00:00:00:00:00:00:00:00:00:00:00:00:00:00:00:00:00:00:00:00:00:00:00:00:00:00:00:00:00:00:00:00:00:00:00:00:00:00:00:00:00:00:00:00:00:00:00:00:00:00:00:00:00:00:00:00:00:00:00:00:00:00:00:00:00:00:00:00:00:00:00:00:00:00:00:00:0000:00:00:00:00:00:00:00:00:00:00:00:00:00:00:00:00:00:00:00:00:00:00:00:00:00:00:00:00:00:00:00:00:00:00:00:00:00:00:00:00:00:00:00:00:00:00:00:00:00:00:00:00:00:00:00:00:00:00:00:00:00:00:00:00:00:00:00:00:00:00:00:00:00:00:00:00:00:00:00:00:00:00:00:00:00:00:00:00:00:00:00:00:00:00:00:00:00:00:00:00:00:00:00:00:00:00:12:22:22:22:22:22:22:22:22:22:22:22:22:22:22:22:22:22:22:22:22:22:11:11:11:00:00:01:13:33:33:33:33:33:33:33:33:31:10:00:00:00:00:00:0000:00:00:00:00:00:00:00:00:00:00:00:00:00:00:00:00:00:00:00:00:00:00:00:00:00:00:00:00:00:00:00:00:00:00:00:00:00:00:00:00:00:00:00:00:00:00:00:00:00:00:00:00:00:00:00:00:00:00:00:00:00:00:00:00:00:00:00:00:00:00:00:00:00:00:00:00:00:00:00:00:00:00:00:00:00:00:00:00:00:00:00:00:00:00:00:00:00:00:00:00:00:00:00:00:00:00:00:00:00:00:00:00:00:00:00:00:00:00:00:00:00:00:00:00:00:00:00:00:00:00:00:00:00:00:00:00:00:00:00:00:00:00:00:00:00:00:00:00:00:00:0000:00:00:00:00:00:00:00:00:00:00:00:00:00:00:00:00:00:00:00:00:00:00:00:00:00:00:00:00:00:00:00:00:00:00:00:00:00:00:00:00:00:00:00:00:00:00:00:00:00:00:00:00:00:00:12:22:22:22:22:22:22:22:22:22:22:22:22:22:11:11:11:11:11:11:11:22:22:22:11:11:00:01:13:33:33:33:33:33:33:33:33:31:10:00:00:00:00:00:00:00:00:00:00:00:00:00:00:00:00:00:00:00:00:00:00:00:00:00:00:00:00:00:00:00:00:00:00:00:00:00:00:00:00:00:00:00:00:00:00:00:00:00:00:00:00:00:00:00:00:00:0000:00:00:00:00:00:00:00:00:00:00:00:00:00:00:00:00:00:00:00:00:00:00:00:00:00:00:00:00:00:00:00:00:00:00:00:00:00:00:00:00:00:00:00:00:00:00:00:00:00:00:00:00:00:00:00:00:00:00:00:00:00:00:00:00:00:00:00:00:00:00:00:00:00:00:00:00:00:00:00:00:00:00:00:00:00:00:00:00:00:00:00:00:00:00:00:00:00:00:00:00:00:00:00:00:00:00:00:00:00:00:00:00:00:00:00:00:00:00:00:00:00:00:00:00:00:00:00:00:00:00:00:00:00:00:00:00:00:00:00:00:00:00:00:00:00:00:00:00:00:00:0000:00:00:12:22:22:22:22:22:22:22:22:22:22:22:22:21:00:00:00:00:00:00:00:11:11:12:22:22:10:01:11:11:11:11:11:11:11:11:11:11:10:00:00:00:00:00:00:00:00:00:00:00:00:00:00:00:00:00:00:00:00:00:00:00:00:00:00:00:00:00:00:00:00:00:00:00:00:00:00:00:00:00:00:00:00:00:00:00:00:00:00:00:00:00:00:00:00:00:00:00:00:00:00:00:00:00:00:00:00:00:00:00:00:00:00:00:00:00:00:00:00:00:00:00:00:00:00:00:00:00:00:00:00:00:00:00:00:00:00:00:00:00:00:00:00:00:00:00:00:00:0000:00:00:00:00:00:00:00:00:00:00:00:00:00:00:00:00:00:00:00:00:00:00:00:00:00:00:00:00:00:00:00:00:00:00:00:00:00:00:00:00:00:00:00:00:00:00:00:00:00:00:00:00:00:00:00:00:00:00:00:00:00:00:00:00:00:00:00:00:00:00:00:00:00:00:00:00:00:00:00:00:00:00:00:00:00:00:00:00:00:00:00:00:00:00:00:00:00:00:00:00:00:00:11:11:11:11:11:11:11:11:11:11:11:11:11:10:00:00:00:00:00:00:00:00:00:01:11:11:10:01:11:11:11:11:11:11:11:11:11:11:10:00:00:00:00:00:00:00:00:00:0000:00:00:00:00:00:00:00:00:00:00:00:00:00:00:00:00:00:00:00:00:00:00:00:00:00:00:00:00:00:00:00:00:00:00:00:00:00:00:00:00:00:00:00:00:00:00:00:00:00:00:00:00:00:00:00:00:00:00:00:00:00:00:00:00:00:00:00:00:00:00:00:00:00:00:00:00:00:00:00:00:00:00:00:00:00:00:00:00:00:00:00:00:00:00:00:00:00:00:00:00:00:00:00:00:00:00:00:00:00:00:00:00:00:00:00:00:00:00:00:00:00:00:00:00:00:00:00:00:00:00:00:00:00:00:00:00:00:00:00:00:00:00:00:00:00:00:00:00:00:00:0000:00:00:00:00:00:00:00:00:00:00:00:00:00:00:00:00:00:00:00:00:00:00:00:00:00:00:00:00:00:00:00:00:00:00:00:00:00:00:00:00:00:00:00:00:00:00:00:00:00:00:00:00:00:00:00:00:00:00:00:00:00:00:00:00:00:00:00:00:00:00:00:00:00:00:00:00:00:00:00:00:00:00:00:00:00:00:00:00:00:00:00:00:00:00:00:00:00:00:00:00:00:00:00:00:00:00:00:00:00:00:00:00:00:00:00:00:00:00:00:00:00:00:00:00:00:00:00:00:00:00:00:00:00:00:00:00:00:00:00:00:00:00:00:00:00:00:00:00:00:00:0000:00:00:00:00:00:00:00:00:00:00:00:00:00:00:00:00:00:00:00:00:00:00:00:00:00:00:00:00:00:00:00:00:00:00:00:00:00:00:00:00:00:00:00:00:00:00:00:00:00:00:00:00:00:00:00:00:00:00:00:00:00:00:00:00:00:00:00:00:00:00:00:00:00:00:00:00:00:00:00:00:00:00:00:00:00:00:00:00:00:00:00:00:00:00:00:00:00:00:00:00:00:00:00:00:00:00:00:00:00:00:00:00:00:00:00:00:00:00:00:00:00:00:00:00:00:00:00:00:00:00:00:00:00:00:00:00:00:00:00:00:00:00:00:00:00:00:00:00:00:00:0000:00:00:00:00:00:00:00:00:00:00:00:00:00:00:00:00:00:00:00:00:00:00:00:00:00:00:00:00:00:00:00:00:00:00:00:00:00:00:00:00:00:00:00:00:00:00:00:00:00:00:00:00:00:00:00:00:00:00:00:00:00:00:00:00:00:00:00:00:00:00:00:00:00:00:00:00:00:00:00:00:00:00:00:00:00:00:00:00:00:00:00:00:00:00:00:00:00:00:00:00:00:00:00:00:00:00:00:00:00:00:00:00:00:00:00:00:00:00:00:00:00:00:00:00:00:00:00:00:00:00:00:00:00:00:00:00:00:00:00:00:00:00:00:00:00:00:00:00:00:00:0000:00:00:00:00:00:00:00:00:00:00:00:00:00:00:00:00:00:00:00:00:00:00:00:00:00:00:00:00:00:00:00:00:00:00:00:00:00:00:00:00:00:00:00:00:00:00:00:00:00:00:00:00:00:00:00:00:00:00:00:00:00:00:00:00:00:00:00:00:00:00:00:00:00:00:00:00:00:00:00:00:00:00:00:00:00:00:00:00:00:00:00:00:00:00:00:00:00:00:00:00:00:00:00:00:00:00:00:00:00:00:00:00:00:00:00:00:00:00:00:00:00:00:00:00:00:00:00:00:00:00:00:00:00:00:00:00:00:00:00:00:00:00:00:00:00:00:00:00:00:00:0000:00:00:00:00:00:00:00:00:00:00:00:00:00:00:00:00:00:00:00:00:00:00:00:00:00:00:00:00:00:00:00:00:00:00:00:00:00:00:00:00:00",
              "100 x 500",
              "500"
             ]
            ],
            [
             [
              [
               "",
               "dis_ok",
               "100",
               "percent"
              ],
              "unknown",
              "Waste Toner",
              "wasteToner"
             ]
            ],
            "false",
            [
             "4800"
            ],
            "warning",
            "SHARP-125",
            [
             [
              [
               "5000",
               "-3",
               "18"
              ],
              "Staple Cartridge",
              "32"
             ]
            ],
            "#N/A",
            "",
            "31",
            [
             [
              [
               "100",
               "empty",
               "0",
               "sheets"
              ],
              "Bypass Tray",
              "1",
              "false",
              "true",
              "-2",
              "-2",
              "unknown",
              "other",
              "-2",
              "unknown",
              "micrometers",
              "-2",
              "custom-media-type-stationery-stationery-1",
              "MX-MF10",
              "Bypass Tray",
              "false"
             ],
             [
              [
               "1200",
               "empty",
               "0",
               "sheets"
              ],
              "Tray 1",
              "2",
              "false",
              "false",
              "215900",
              "279400",
              "na-letter-white",
              "215900 x 279400",
              "279400",
              "LETTER",
              "micrometers",
              "215900",
              "custom-media-type-stationery-stationery-1",
              "TRAY 1",
              "Tray 1",
              "false"
             ],
             [
              [
               "800",
               "",
               "400",
               "sheets"
              ],
              "Tray 2",
              "3",
              "false",
              "false",
              "210000",
              "297000",
              "iso-a4-white",
              "210000 x 297000",
              "297000",
              "A4",
              "micrometers",
              "210000",
              "custom-media-type-stationery-stationery-1",
              "TRAY 2",
              "Tray 2",
              "false"
             ],
             [
              [
               "500",
               "empty",
               "0",
               "sheets"
              ],
              "Tray 3",
              "4",
              "false",
              "false",
              "279400",
              "215900",
              "na-letter-white",
              "279400 x 215900",
              "215900",
              "LETTERR",
              "micrometers",
              "279400",
              "custom-media-type-stationery-stationery-1",
              "TRAY 3",
              "Tray 3",
              "false"
             ],
             [
              [
               "500",
               "empty",
               "0",
               "sheets"
              ],
              "Tray 4",
              "5",
              "false",
              "false",
              "215900",
              "279400",
              "na-letter-transparent",
              "215900 x 279400",
              "279400",
              "LETTER",
              "micrometers",
              "215900",
              "transparency",
              "TRAY 4",
              "Tray 4",
              "false"
             ],
             [
              [
               "3000",
               "empty",
               "0",
               "sheets"
              ],
              "Large Capacity Cassette",
              "11",
              "false",
              "false",
              "431800",
              "279400",
              "ledger-white",
              "431800 x 279400",
              "279400",
              "LEDGERR",
              "micrometers",
              "431800",
              "custom-media-type-stationery-stationery-1",
              "MX-LCX3",
              "Large Capacity Cassette",
              "false"
             ],
             [
              [
               "",
               "unknown",
               "",
               "sheets"
              ],
              "Auto Select",
              "31",
              "false",
              "false",
              "-2",
              "-2",
              "unknown",
              "other",
              "-2",
              "unknown",
              "micrometers",
              "-2",
              "unknown",
              "",
              "Auto Select",
              "true"
             ]
            ],
            [
             "",
             "US",
             "en"
            ],
            "",
            [],
            [
             [
              [
               "100",
               "ok",
               "37",
               "percent"
              ],
              "cyan",
              "Cyan Toner",
              "toner"
             ],
             [
              [
               "100",
               "ok",
               "17",
               "percent"
              ],
              "magenta",
              "Magenta Toner",
              "toner"
             ],
             [
              [
               "100",
               "ok",
               "30",
               "percent"
              ],
              "yellow",
              "Yellow Toner",
              "toner"
             ],
             [
              [
               "100",
               "ok",
               "20",
               "percent"
              ],
              "black",
              "Black Toner",
              "toner"
             ],
             [
              [
               "100",
               "ok",
               "87",
               "percent"
              ],
              "cyan",
              "Cyan Photoconductive Drum",
              "opc"
             ],
             [
              [
               "100",
               "ok",
               "87",
               "percent"
              ],
              "magenta",
              "Magenta Photoconductive Drum",
              "opc"
             ],
             [
              [
               "100",
               "ok",
               "87",
               "percent"
              ],
              "yellow",
              "Yellow Photoconductive Drum",
              "opc"
             ],
             [
              [
               "100",
               "ok",
               "85",
               "percent"
              ],
              "black",
              "Black Photoconductive Drum",
              "opc"
             ],
             [
              [
               "100",
               "ok",
               "53",
               "percent"
              ],
              "cyan",
              "Cyan Developer",
              "developer"
             ],
             [
              [
               "100",
               "ok",
               "53",
               "percent"
              ],
              "magenta",
              "Magenta Developer",
              "developer"
             ],
             [
              [
               "100",
               "ok",
               "53",
               "percent"
              ],
              "yellow",
              "Yellow Developer",
              "developer"
             ],
             [
              [
               "100",
               "ok",
               "43",
               "percent"
              ],
              "black",
              "Black Developer",
              "developer"
             ]
            ],
            [
             "4194304"
            ],
            "SHARP MX-8090N",
            "12",
            [
             [
              [
               "100",
               "notFull",
               "",
               "sheets"
              ],
              "faceDown",
              "Right Tray",
              "2",
              "MX-TR14",
              "Right Tray",
              "firstToLast"
             ],
             [
              [
               "1500",
               "",
               "1500",
               "sheets"
              ],
              "faceDown",
              "Finisher Upper Tray",
              "12",
              "MX-FN21-1",
              "Finisher Upper Tray",
              "firstToLast"
             ],
             [
              [
               "2500",
               "",
               "2500",
               "sheets"
              ],
              "faceDown",
              "Finisher Lower Tray",
              "13",
              "MX-FN21-3",
              "Finisher Lower Tray",
              "firstToLast"
             ],
             [
              [
               "250",
               "",
               "250",
               "sheets"
              ],
              "faceDown",
              "Finisher Middle Tray",
              "14",
              "MX-FN21-2",
              "Finisher Middle Tray",
              "firstToLast"
             ]
            ],
            "6504620X00",
            [],
            "3308192",
            [
             "false",
             "false",
             "false",
             "false",
             "false",
             "false",
             "false",
             "false",
             "false",
             "false",
             "false",
             "false",
             "false",
             "false",
             "false",
             "false",
             "false",
             "false",
             "false",
             "false",
             "false",
             "false",
             "false",
             "false",
             "true",
             "false"
            ],
            "1",
            "7 days, 2:00:51.75"
           ],
           [
            [
             [
              "24-31-84-A2-0F-16",
              "1",
              "6"
             ],
             [
              "",
              "2",
              "24"
             ]
            ],
            [
             [
              "127.0.0.1",
              "172.29.240.22",
              "2",
              "255.0.0.0"
             ],
             [
              "172.29.241.161",
              "172.29.240.22",
              "1",
              "255.255.254.0"
             ]
            ]
           ],
           [
            [
             [
              [
               "0",
               "1",
               "1"
              ],
              [
               "0",
               "2",
               "1"
              ],
              [
               "0",
               "3",
               "1"
              ],
              [
               "0",
               "4",
               "1"
              ],
              [
               "0",
               "5",
               "1"
              ]
             ],
             [],
             [
              [
               "1",
               "simplex"
              ],
              [
               "2",
               "duplexLongEdgeBinding"
              ],
              [
               "3",
               "duplexShortEdgeBinding"
              ]
             ]
            ]
           ]
          ],
          1733472136665,
          "smsProps"
         ],
         "2024-12-06T08:02:16.8400000Z",
         [
          "rp.mib/dev/2be00f09-5d33-47a3-ba1e-97fece8e7ff6"
         ],
         [
          "{\"scope\":\"device\",\"type\":\"sas\",\"issuer\":\"iothub\"}",
          "638658819029400530",
          "2be00f09-5d33-47a3-ba1e-97fece8e7ff6",
          "UTF-8",
          "application/JSON",
          "2024-12-06T08:02:16.8400000Z"
         ]
        ]
       ],
       "datasetInfos": [],
       "dbfsResultPath": null,
       "isJsonSchema": true,
       "metadata": {},
       "overflow": false,
       "plotOptions": {
        "customPlotOptions": {},
        "displayType": "table",
        "pivotAggregation": null,
        "pivotColumns": null,
        "xColumns": null,
        "yColumns": null
       },
       "removedWidgets": [],
       "schema": [
        {
         "metadata": "{}",
         "name": "Body",
         "type": "{\"type\":\"struct\",\"fields\":[{\"name\":\"mnsn\",\"type\":\"string\",\"nullable\":true,\"metadata\":{}},{\"name\":\"scheduleName\",\"type\":\"string\",\"nullable\":true,\"metadata\":{}},{\"name\":\"smsProperties\",\"type\":{\"type\":\"struct\",\"fields\":[{\"name\":\"device\",\"type\":{\"type\":\"struct\",\"fields\":[{\"name\":\"address\",\"type\":\"string\",\"nullable\":true,\"metadata\":{}},{\"name\":\"capability\",\"type\":{\"type\":\"struct\",\"fields\":[{\"name\":\"function\",\"type\":{\"type\":\"struct\",\"fields\":[{\"name\":\"deviceCloning\",\"type\":\"string\",\"nullable\":true,\"metadata\":{}},{\"name\":\"fss\",\"type\":\"string\",\"nullable\":true,\"metadata\":{}},{\"name\":\"fssDataCloning\",\"type\":{\"type\":\"struct\",\"fields\":[{\"name\":\"available\",\"type\":\"string\",\"nullable\":true,\"metadata\":{}},{\"name\":\"version\",\"type\":\"string\",\"nullable\":true,\"metadata\":{}}]},\"nullable\":true,\"metadata\":{}},{\"name\":\"fwUpdateOTA\",\"type\":{\"type\":\"struct\",\"fields\":[{\"name\":\"available\",\"type\":\"string\",\"nullable\":true,\"metadata\":{}},{\"name\":\"version\",\"type\":\"string\",\"nullable\":true,\"metadata\":{}}]},\"nullable\":true,\"metadata\":{}},{\"name\":\"logData\",\"type\":{\"type\":\"struct\",\"fields\":[{\"name\":\"available\",\"type\":\"string\",\"nullable\":true,\"metadata\":{}},{\"name\":\"version\",\"type\":\"string\",\"nullable\":true,\"metadata\":{}}]},\"nullable\":true,\"metadata\":{}},{\"name\":\"powerManagement\",\"type\":\"string\",\"nullable\":true,\"metadata\":{}},{\"name\":\"poweroff\",\"type\":\"string\",\"nullable\":true,\"metadata\":{}},{\"name\":\"security\",\"type\":\"string\",\"nullable\":true,\"metadata\":{}},{\"name\":\"serviceReport\",\"type\":\"string\",\"nullable\":true,\"metadata\":{}}]},\"nullable\":true,\"metadata\":{}}]},\"nullable\":true,\"metadata\":{}},{\"name\":\"codeSet\",\"type\":\"string\",\"nullable\":true,\"metadata\":{}},{\"name\":\"configuration\",\"type\":{\"type\":\"struct\",\"fields\":[{\"name\":\"duplexModule\",\"type\":\"string\",\"nullable\":true,\"metadata\":{}},{\"name\":\"installedOptions\",\"type\":{\"type\":\"struct\",\"fields\":[{\"name\":\"dsk\",\"type\":\"string\",\"nullable\":true,\"metadata\":{}},{\"name\":\"value\",\"type\":\"string\",\"nullable\":true,\"metadata\":{}}]},\"nullable\":true,\"metadata\":{}}]},\"nullable\":true,\"metadata\":{}},{\"name\":\"contactAddress\",\"type\":\"string\",\"nullable\":true,\"metadata\":{}},{\"name\":\"counter\",\"type\":{\"type\":\"struct\",\"fields\":[{\"name\":\"TYPE\",\"type\":{\"type\":\"struct\",\"fields\":[{\"name\":\"a3orAbove\",\"type\":{\"type\":\"struct\",\"fields\":[{\"name\":\"output\",\"type\":{\"type\":\"struct\",\"fields\":[{\"name\":\"COLORTYPE\",\"type\":{\"type\":\"struct\",\"fields\":[{\"name\":\"color\",\"type\":{\"type\":\"struct\",\"fields\":[{\"name\":\"fullcolor\",\"type\":{\"type\":\"struct\",\"fields\":[{\"name\":\"value\",\"type\":\"long\",\"nullable\":true,\"metadata\":{}}]},\"nullable\":true,\"metadata\":{}},{\"name\":\"singlecolor\",\"type\":{\"type\":\"struct\",\"fields\":[{\"name\":\"value\",\"type\":\"long\",\"nullable\":true,\"metadata\":{}}]},\"nullable\":true,\"metadata\":{}},{\"name\":\"threecolor\",\"type\":{\"type\":\"struct\",\"fields\":[{\"name\":\"value\",\"type\":\"long\",\"nullable\":true,\"metadata\":{}}]},\"nullable\":true,\"metadata\":{}},{\"name\":\"twocolor\",\"type\":{\"type\":\"struct\",\"fields\":[{\"name\":\"value\",\"type\":\"long\",\"nullable\":true,\"metadata\":{}}]},\"nullable\":true,\"metadata\":{}},{\"name\":\"value\",\"type\":\"long\",\"nullable\":true,\"metadata\":{}}]},\"nullable\":true,\"metadata\":{}},{\"name\":\"monochrome\",\"type\":{\"type\":\"struct\",\"fields\":[{\"name\":\"value\",\"type\":\"long\",\"nullable\":true,\"metadata\":{}}]},\"nullable\":true,\"metadata\":{}}]},\"nullable\":true,\"metadata\":{}},{\"name\":\"JOBTYPE\",\"type\":{\"type\":\"struct\",\"fields\":[{\"name\":\"copies\",\"type\":{\"type\":\"struct\",\"fields\":[{\"name\":\"COLORTYPE\",\"type\":{\"type\":\"struct\",\"fields\":[{\"name\":\"color\",\"type\":{\"type\":\"struct\",\"fields\":[{\"name\":\"fullcolor\",\"type\":{\"type\":\"struct\",\"fields\":[{\"name\":\"value\",\"type\":\"long\",\"nullable\":true,\"metadata\":{}}]},\"nullable\":true,\"metadata\":{}},{\"name\":\"singlecolor\",\"type\":{\"type\":\"struct\",\"fields\":[{\"name\":\"value\",\"type\":\"long\",\"nullable\":true,\"metadata\":{}}]},\"nullable\":true,\"metadata\":{}},{\"name\":\"twocolor\",\"type\":{\"type\":\"struct\",\"fields\":[{\"name\":\"value\",\"type\":\"long\",\"nullable\":true,\"metadata\":{}}]},\"nullable\":true,\"metadata\":{}},{\"name\":\"value\",\"type\":\"long\",\"nullable\":true,\"metadata\":{}}]},\"nullable\":true,\"metadata\":{}},{\"name\":\"monochrome\",\"type\":{\"type\":\"struct\",\"fields\":[{\"name\":\"value\",\"type\":\"long\",\"nullable\":true,\"metadata\":{}}]},\"nullable\":true,\"metadata\":{}}]},\"nullable\":true,\"metadata\":{}},{\"name\":\"UC0\",\"type\":{\"type\":\"struct\",\"fields\":[{\"name\":\"COLORTYPE\",\"type\":{\"type\":\"struct\",\"fields\":[{\"name\":\"color\",\"type\":{\"type\":\"struct\",\"fields\":[{\"name\":\"fullcolor\",\"type\":{\"type\":\"struct\",\"fields\":[{\"name\":\"description\",\"type\":\"string\",\"nullable\":true,\"metadata\":{}},{\"name\":\"value\",\"type\":\"long\",\"nullable\":true,\"metadata\":{}}]},\"nullable\":true,\"metadata\":{}},{\"name\":\"singlecolor\",\"type\":{\"type\":\"struct\",\"fields\":[{\"name\":\"description\",\"type\":\"string\",\"nullable\":true,\"metadata\":{}},{\"name\":\"value\",\"type\":\"long\",\"nullable\":true,\"metadata\":{}}]},\"nullable\":true,\"metadata\":{}},{\"name\":\"twocolor\",\"type\":{\"type\":\"struct\",\"fields\":[{\"name\":\"description\",\"type\":\"string\",\"nullable\":true,\"metadata\":{}},{\"name\":\"value\",\"type\":\"long\",\"nullable\":true,\"metadata\":{}}]},\"nullable\":true,\"metadata\":{}},{\"name\":\"value\",\"type\":\"long\",\"nullable\":true,\"metadata\":{}}]},\"nullable\":true,\"metadata\":{}},{\"name\":\"monochrome\",\"type\":{\"type\":\"struct\",\"fields\":[{\"name\":\"description\",\"type\":\"string\",\"nullable\":true,\"metadata\":{}},{\"name\":\"value\",\"type\":\"long\",\"nullable\":true,\"metadata\":{}}]},\"nullable\":true,\"metadata\":{}}]},\"nullable\":true,\"metadata\":{}},{\"name\":\"value\",\"type\":\"long\",\"nullable\":true,\"metadata\":{}}]},\"nullable\":true,\"metadata\":{}},{\"name\":\"UC1\",\"type\":{\"type\":\"struct\",\"fields\":[{\"name\":\"COLORTYPE\",\"type\":{\"type\":\"struct\",\"fields\":[{\"name\":\"color\",\"type\":{\"type\":\"struct\",\"fields\":[{\"name\":\"fullcolor\",\"type\":{\"type\":\"struct\",\"fields\":[{\"name\":\"description\",\"type\":\"string\",\"nullable\":true,\"metadata\":{}},{\"name\":\"value\",\"type\":\"long\",\"nullable\":true,\"metadata\":{}}]},\"nullable\":true,\"metadata\":{}},{\"name\":\"singlecolor\",\"type\":{\"type\":\"struct\",\"fields\":[{\"name\":\"description\",\"type\":\"string\",\"nullable\":true,\"metadata\":{}},{\"name\":\"value\",\"type\":\"long\",\"nullable\":true,\"metadata\":{}}]},\"nullable\":true,\"metadata\":{}},{\"name\":\"twocolor\",\"type\":{\"type\":\"struct\",\"fields\":[{\"name\":\"description\",\"type\":\"string\",\"nullable\":true,\"metadata\":{}},{\"name\":\"value\",\"type\":\"long\",\"nullable\":true,\"metadata\":{}}]},\"nullable\":true,\"metadata\":{}},{\"name\":\"value\",\"type\":\"long\",\"nullable\":true,\"metadata\":{}}]},\"nullable\":true,\"metadata\":{}},{\"name\":\"monochrome\",\"type\":{\"type\":\"struct\",\"fields\":[{\"name\":\"description\",\"type\":\"string\",\"nullable\":true,\"metadata\":{}},{\"name\":\"value\",\"type\":\"long\",\"nullable\":true,\"metadata\":{}}]},\"nullable\":true,\"metadata\":{}}]},\"nullable\":true,\"metadata\":{}},{\"name\":\"value\",\"type\":\"long\",\"nullable\":true,\"metadata\":{}}]},\"nullable\":true,\"metadata\":{}},{\"name\":\"UC2\",\"type\":{\"type\":\"struct\",\"fields\":[{\"name\":\"COLORTYPE\",\"type\":{\"type\":\"struct\",\"fields\":[{\"name\":\"color\",\"type\":{\"type\":\"struct\",\"fields\":[{\"name\":\"fullcolor\",\"type\":{\"type\":\"struct\",\"fields\":[{\"name\":\"description\",\"type\":\"string\",\"nullable\":true,\"metadata\":{}},{\"name\":\"value\",\"type\":\"long\",\"nullable\":true,\"metadata\":{}}]},\"nullable\":true,\"metadata\":{}},{\"name\":\"singlecolor\",\"type\":{\"type\":\"struct\",\"fields\":[{\"name\":\"description\",\"type\":\"string\",\"nullable\":true,\"metadata\":{}},{\"name\":\"value\",\"type\":\"long\",\"nullable\":true,\"metadata\":{}}]},\"nullable\":true,\"metadata\":{}},{\"name\":\"twocolor\",\"type\":{\"type\":\"struct\",\"fields\":[{\"name\":\"description\",\"type\":\"string\",\"nullable\":true,\"metadata\":{}},{\"name\":\"value\",\"type\":\"long\",\"nullable\":true,\"metadata\":{}}]},\"nullable\":true,\"metadata\":{}},{\"name\":\"value\",\"type\":\"long\",\"nullable\":true,\"metadata\":{}}]},\"nullable\":true,\"metadata\":{}},{\"name\":\"monochrome\",\"type\":{\"type\":\"struct\",\"fields\":[{\"name\":\"description\",\"type\":\"string\",\"nullable\":true,\"metadata\":{}},{\"name\":\"value\",\"type\":\"long\",\"nullable\":true,\"metadata\":{}}]},\"nullable\":true,\"metadata\":{}}]},\"nullable\":true,\"metadata\":{}},{\"name\":\"value\",\"type\":\"long\",\"nullable\":true,\"metadata\":{}}]},\"nullable\":true,\"metadata\":{}},{\"name\":\"UC3\",\"type\":{\"type\":\"struct\",\"fields\":[{\"name\":\"COLORTYPE\",\"type\":{\"type\":\"struct\",\"fields\":[{\"name\":\"color\",\"type\":{\"type\":\"struct\",\"fields\":[{\"name\":\"fullcolor\",\"type\":{\"type\":\"struct\",\"fields\":[{\"name\":\"description\",\"type\":\"string\",\"nullable\":true,\"metadata\":{}},{\"name\":\"value\",\"type\":\"long\",\"nullable\":true,\"metadata\":{}}]},\"nullable\":true,\"metadata\":{}},{\"name\":\"singlecolor\",\"type\":{\"type\":\"struct\",\"fields\":[{\"name\":\"description\",\"type\":\"string\",\"nullable\":true,\"metadata\":{}},{\"name\":\"value\",\"type\":\"long\",\"nullable\":true,\"metadata\":{}}]},\"nullable\":true,\"metadata\":{}},{\"name\":\"twocolor\",\"type\":{\"type\":\"struct\",\"fields\":[{\"name\":\"description\",\"type\":\"string\",\"nullable\":true,\"metadata\":{}},{\"name\":\"value\",\"type\":\"long\",\"nullable\":true,\"metadata\":{}}]},\"nullable\":true,\"metadata\":{}},{\"name\":\"value\",\"type\":\"long\",\"nullable\":true,\"metadata\":{}}]},\"nullable\":true,\"metadata\":{}},{\"name\":\"monochrome\",\"type\":{\"type\":\"struct\",\"fields\":[{\"name\":\"description\",\"type\":\"string\",\"nullable\":true,\"metadata\":{}},{\"name\":\"value\",\"type\":\"long\",\"nullable\":true,\"metadata\":{}}]},\"nullable\":true,\"metadata\":{}}]},\"nullable\":true,\"metadata\":{}},{\"name\":\"value\",\"type\":\"long\",\"nullable\":true,\"metadata\":{}}]},\"nullable\":true,\"metadata\":{}},{\"name\":\"value\",\"type\":\"long\",\"nullable\":true,\"metadata\":{}}]},\"nullable\":true,\"metadata\":{}},{\"name\":\"filingData\",\"type\":{\"type\":\"struct\",\"fields\":[{\"name\":\"COLORTYPE\",\"type\":{\"type\":\"struct\",\"fields\":[{\"name\":\"color\",\"type\":{\"type\":\"struct\",\"fields\":[{\"name\":\"fullcolor\",\"type\":{\"type\":\"struct\",\"fields\":[{\"name\":\"value\",\"type\":\"long\",\"nullable\":true,\"metadata\":{}}]},\"nullable\":true,\"metadata\":{}},{\"name\":\"singlecolor\",\"type\":{\"type\":\"struct\",\"fields\":[{\"name\":\"value\",\"type\":\"long\",\"nullable\":true,\"metadata\":{}}]},\"nullable\":true,\"metadata\":{}},{\"name\":\"twocolor\",\"type\":{\"type\":\"struct\",\"fields\":[{\"name\":\"value\",\"type\":\"long\",\"nullable\":true,\"metadata\":{}}]},\"nullable\":true,\"metadata\":{}},{\"name\":\"value\",\"type\":\"long\",\"nullable\":true,\"metadata\":{}}]},\"nullable\":true,\"metadata\":{}},{\"name\":\"monochrome\",\"type\":{\"type\":\"struct\",\"fields\":[{\"name\":\"value\",\"type\":\"long\",\"nullable\":true,\"metadata\":{}}]},\"nullable\":true,\"metadata\":{}}]},\"nullable\":true,\"metadata\":{}},{\"name\":\"UC0\",\"type\":{\"type\":\"struct\",\"fields\":[{\"name\":\"COLORTYPE\",\"type\":{\"type\":\"struct\",\"fields\":[{\"name\":\"color\",\"type\":{\"type\":\"struct\",\"fields\":[{\"name\":\"fullcolor\",\"type\":{\"type\":\"struct\",\"fields\":[{\"name\":\"description\",\"type\":\"string\",\"nullable\":true,\"metadata\":{}},{\"name\":\"value\",\"type\":\"long\",\"nullable\":true,\"metadata\":{}}]},\"nullable\":true,\"metadata\":{}},{\"name\":\"singlecolor\",\"type\":{\"type\":\"struct\",\"fields\":[{\"name\":\"description\",\"type\":\"string\",\"nullable\":true,\"metadata\":{}},{\"name\":\"value\",\"type\":\"long\",\"nullable\":true,\"metadata\":{}}]},\"nullable\":true,\"metadata\":{}},{\"name\":\"twocolor\",\"type\":{\"type\":\"struct\",\"fields\":[{\"name\":\"description\",\"type\":\"string\",\"nullable\":true,\"metadata\":{}},{\"name\":\"value\",\"type\":\"long\",\"nullable\":true,\"metadata\":{}}]},\"nullable\":true,\"metadata\":{}},{\"name\":\"value\",\"type\":\"long\",\"nullable\":true,\"metadata\":{}}]},\"nullable\":true,\"metadata\":{}},{\"name\":\"monochrome\",\"type\":{\"type\":\"struct\",\"fields\":[{\"name\":\"description\",\"type\":\"string\",\"nullable\":true,\"metadata\":{}},{\"name\":\"value\",\"type\":\"long\",\"nullable\":true,\"metadata\":{}}]},\"nullable\":true,\"metadata\":{}}]},\"nullable\":true,\"metadata\":{}},{\"name\":\"value\",\"type\":\"long\",\"nullable\":true,\"metadata\":{}}]},\"nullable\":true,\"metadata\":{}},{\"name\":\"UC1\",\"type\":{\"type\":\"struct\",\"fields\":[{\"name\":\"COLORTYPE\",\"type\":{\"type\":\"struct\",\"fields\":[{\"name\":\"color\",\"type\":{\"type\":\"struct\",\"fields\":[{\"name\":\"fullcolor\",\"type\":{\"type\":\"struct\",\"fields\":[{\"name\":\"description\",\"type\":\"string\",\"nullable\":true,\"metadata\":{}},{\"name\":\"value\",\"type\":\"long\",\"nullable\":true,\"metadata\":{}}]},\"nullable\":true,\"metadata\":{}},{\"name\":\"singlecolor\",\"type\":{\"type\":\"struct\",\"fields\":[{\"name\":\"description\",\"type\":\"string\",\"nullable\":true,\"metadata\":{}},{\"name\":\"value\",\"type\":\"long\",\"nullable\":true,\"metadata\":{}}]},\"nullable\":true,\"metadata\":{}},{\"name\":\"twocolor\",\"type\":{\"type\":\"struct\",\"fields\":[{\"name\":\"description\",\"type\":\"string\",\"nullable\":true,\"metadata\":{}},{\"name\":\"value\",\"type\":\"long\",\"nullable\":true,\"metadata\":{}}]},\"nullable\":true,\"metadata\":{}},{\"name\":\"value\",\"type\":\"long\",\"nullable\":true,\"metadata\":{}}]},\"nullable\":true,\"metadata\":{}},{\"name\":\"monochrome\",\"type\":{\"type\":\"struct\",\"fields\":[{\"name\":\"description\",\"type\":\"string\",\"nullable\":true,\"metadata\":{}},{\"name\":\"value\",\"type\":\"long\",\"nullable\":true,\"metadata\":{}}]},\"nullable\":true,\"metadata\":{}}]},\"nullable\":true,\"metadata\":{}},{\"name\":\"value\",\"type\":\"long\",\"nullable\":true,\"metadata\":{}}]},\"nullable\":true,\"metadata\":{}},{\"name\":\"UC2\",\"type\":{\"type\":\"struct\",\"fields\":[{\"name\":\"COLORTYPE\",\"type\":{\"type\":\"struct\",\"fields\":[{\"name\":\"color\",\"type\":{\"type\":\"struct\",\"fields\":[{\"name\":\"fullcolor\",\"type\":{\"type\":\"struct\",\"fields\":[{\"name\":\"description\",\"type\":\"string\",\"nullable\":true,\"metadata\":{}},{\"name\":\"value\",\"type\":\"long\",\"nullable\":true,\"metadata\":{}}]},\"nullable\":true,\"metadata\":{}},{\"name\":\"singlecolor\",\"type\":{\"type\":\"struct\",\"fields\":[{\"name\":\"description\",\"type\":\"string\",\"nullable\":true,\"metadata\":{}},{\"name\":\"value\",\"type\":\"long\",\"nullable\":true,\"metadata\":{}}]},\"nullable\":true,\"metadata\":{}},{\"name\":\"twocolor\",\"type\":{\"type\":\"struct\",\"fields\":[{\"name\":\"description\",\"type\":\"string\",\"nullable\":true,\"metadata\":{}},{\"name\":\"value\",\"type\":\"long\",\"nullable\":true,\"metadata\":{}}]},\"nullable\":true,\"metadata\":{}},{\"name\":\"value\",\"type\":\"long\",\"nullable\":true,\"metadata\":{}}]},\"nullable\":true,\"metadata\":{}},{\"name\":\"monochrome\",\"type\":{\"type\":\"struct\",\"fields\":[{\"name\":\"description\",\"type\":\"string\",\"nullable\":true,\"metadata\":{}},{\"name\":\"value\",\"type\":\"long\",\"nullable\":true,\"metadata\":{}}]},\"nullable\":true,\"metadata\":{}}]},\"nullable\":true,\"metadata\":{}},{\"name\":\"value\",\"type\":\"long\",\"nullable\":true,\"metadata\":{}}]},\"nullable\":true,\"metadata\":{}},{\"name\":\"UC3\",\"type\":{\"type\":\"struct\",\"fields\":[{\"name\":\"COLORTYPE\",\"type\":{\"type\":\"struct\",\"fields\":[{\"name\":\"color\",\"type\":{\"type\":\"struct\",\"fields\":[{\"name\":\"fullcolor\",\"type\":{\"type\":\"struct\",\"fields\":[{\"name\":\"description\",\"type\":\"string\",\"nullable\":true,\"metadata\":{}},{\"name\":\"value\",\"type\":\"long\",\"nullable\":true,\"metadata\":{}}]},\"nullable\":true,\"metadata\":{}},{\"name\":\"singlecolor\",\"type\":{\"type\":\"struct\",\"fields\":[{\"name\":\"description\",\"type\":\"string\",\"nullable\":true,\"metadata\":{}},{\"name\":\"value\",\"type\":\"long\",\"nullable\":true,\"metadata\":{}}]},\"nullable\":true,\"metadata\":{}},{\"name\":\"twocolor\",\"type\":{\"type\":\"struct\",\"fields\":[{\"name\":\"description\",\"type\":\"string\",\"nullable\":true,\"metadata\":{}},{\"name\":\"value\",\"type\":\"long\",\"nullable\":true,\"metadata\":{}}]},\"nullable\":true,\"metadata\":{}},{\"name\":\"value\",\"type\":\"long\",\"nullable\":true,\"metadata\":{}}]},\"nullable\":true,\"metadata\":{}},{\"name\":\"monochrome\",\"type\":{\"type\":\"struct\",\"fields\":[{\"name\":\"description\",\"type\":\"string\",\"nullable\":true,\"metadata\":{}},{\"name\":\"value\",\"type\":\"long\",\"nullable\":true,\"metadata\":{}}]},\"nullable\":true,\"metadata\":{}}]},\"nullable\":true,\"metadata\":{}},{\"name\":\"value\",\"type\":\"long\",\"nullable\":true,\"metadata\":{}}]},\"nullable\":true,\"metadata\":{}},{\"name\":\"value\",\"type\":\"long\",\"nullable\":true,\"metadata\":{}}]},\"nullable\":true,\"metadata\":{}},{\"name\":\"others\",\"type\":{\"type\":\"struct\",\"fields\":[{\"name\":\"COLORTYPE\",\"type\":{\"type\":\"struct\",\"fields\":[{\"name\":\"color\",\"type\":{\"type\":\"struct\",\"fields\":[{\"name\":\"fullcolor\",\"type\":{\"type\":\"struct\",\"fields\":[{\"name\":\"value\",\"type\":\"long\",\"nullable\":true,\"metadata\":{}}]},\"nullable\":true,\"metadata\":{}},{\"name\":\"value\",\"type\":\"long\",\"nullable\":true,\"metadata\":{}}]},\"nullable\":true,\"metadata\":{}},{\"name\":\"monochrome\",\"type\":{\"type\":\"struct\",\"fields\":[{\"name\":\"value\",\"type\":\"long\",\"nullable\":true,\"metadata\":{}}]},\"nullable\":true,\"metadata\":{}}]},\"nullable\":true,\"metadata\":{}},{\"name\":\"UC0\",\"type\":{\"type\":\"struct\",\"fields\":[{\"name\":\"COLORTYPE\",\"type\":{\"type\":\"struct\",\"fields\":[{\"name\":\"color\",\"type\":{\"type\":\"struct\",\"fields\":[{\"name\":\"fullcolor\",\"type\":{\"type\":\"struct\",\"fields\":[{\"name\":\"description\",\"type\":\"string\",\"nullable\":true,\"metadata\":{}},{\"name\":\"value\",\"type\":\"long\",\"nullable\":true,\"metadata\":{}}]},\"nullable\":true,\"metadata\":{}},{\"name\":\"value\",\"type\":\"long\",\"nullable\":true,\"metadata\":{}}]},\"nullable\":true,\"metadata\":{}},{\"name\":\"monochrome\",\"type\":{\"type\":\"struct\",\"fields\":[{\"name\":\"description\",\"type\":\"string\",\"nullable\":true,\"metadata\":{}},{\"name\":\"value\",\"type\":\"long\",\"nullable\":true,\"metadata\":{}}]},\"nullable\":true,\"metadata\":{}}]},\"nullable\":true,\"metadata\":{}},{\"name\":\"value\",\"type\":\"long\",\"nullable\":true,\"metadata\":{}}]},\"nullable\":true,\"metadata\":{}},{\"name\":\"value\",\"type\":\"long\",\"nullable\":true,\"metadata\":{}}]},\"nullable\":true,\"metadata\":{}},{\"name\":\"prints\",\"type\":{\"type\":\"struct\",\"fields\":[{\"name\":\"COLORTYPE\",\"type\":{\"type\":\"struct\",\"fields\":[{\"name\":\"color\",\"type\":{\"type\":\"struct\",\"fields\":[{\"name\":\"fullcolor\",\"type\":{\"type\":\"struct\",\"fields\":[{\"name\":\"value\",\"type\":\"long\",\"nullable\":true,\"metadata\":{}}]},\"nullable\":true,\"metadata\":{}},{\"name\":\"singlecolor\",\"type\":{\"type\":\"struct\",\"fields\":[{\"name\":\"value\",\"type\":\"long\",\"nullable\":true,\"metadata\":{}}]},\"nullable\":true,\"metadata\":{}},{\"name\":\"threecolor\",\"type\":{\"type\":\"struct\",\"fields\":[{\"name\":\"value\",\"type\":\"long\",\"nullable\":true,\"metadata\":{}}]},\"nullable\":true,\"metadata\":{}},{\"name\":\"twocolor\",\"type\":{\"type\":\"struct\",\"fields\":[{\"name\":\"value\",\"type\":\"long\",\"nullable\":true,\"metadata\":{}}]},\"nullable\":true,\"metadata\":{}},{\"name\":\"value\",\"type\":\"long\",\"nullable\":true,\"metadata\":{}}]},\"nullable\":true,\"metadata\":{}},{\"name\":\"monochrome\",\"type\":{\"type\":\"struct\",\"fields\":[{\"name\":\"value\",\"type\":\"long\",\"nullable\":true,\"metadata\":{}}]},\"nullable\":true,\"metadata\":{}}]},\"nullable\":true,\"metadata\":{}},{\"name\":\"UC0\",\"type\":{\"type\":\"struct\",\"fields\":[{\"name\":\"COLORTYPE\",\"type\":{\"type\":\"struct\",\"fields\":[{\"name\":\"color\",\"type\":{\"type\":\"struct\",\"fields\":[{\"name\":\"fullcolor\",\"type\":{\"type\":\"struct\",\"fields\":[{\"name\":\"description\",\"type\":\"string\",\"nullable\":true,\"metadata\":{}},{\"name\":\"value\",\"type\":\"long\",\"nullable\":true,\"metadata\":{}}]},\"nullable\":true,\"metadata\":{}},{\"name\":\"singlecolor\",\"type\":{\"type\":\"struct\",\"fields\":[{\"name\":\"description\",\"type\":\"string\",\"nullable\":true,\"metadata\":{}},{\"name\":\"value\",\"type\":\"long\",\"nullable\":true,\"metadata\":{}}]},\"nullable\":true,\"metadata\":{}},{\"name\":\"threecolor\",\"type\":{\"type\":\"struct\",\"fields\":[{\"name\":\"description\",\"type\":\"string\",\"nullable\":true,\"metadata\":{}},{\"name\":\"value\",\"type\":\"long\",\"nullable\":true,\"metadata\":{}}]},\"nullable\":true,\"metadata\":{}},{\"name\":\"twocolor\",\"type\":{\"type\":\"struct\",\"fields\":[{\"name\":\"description\",\"type\":\"string\",\"nullable\":true,\"metadata\":{}},{\"name\":\"value\",\"type\":\"long\",\"nullable\":true,\"metadata\":{}}]},\"nullable\":true,\"metadata\":{}},{\"name\":\"value\",\"type\":\"long\",\"nullable\":true,\"metadata\":{}}]},\"nullable\":true,\"metadata\":{}},{\"name\":\"monochrome\",\"type\":{\"type\":\"struct\",\"fields\":[{\"name\":\"description\",\"type\":\"string\",\"nullable\":true,\"metadata\":{}},{\"name\":\"value\",\"type\":\"long\",\"nullable\":true,\"metadata\":{}}]},\"nullable\":true,\"metadata\":{}}]},\"nullable\":true,\"metadata\":{}},{\"name\":\"value\",\"type\":\"long\",\"nullable\":true,\"metadata\":{}}]},\"nullable\":true,\"metadata\":{}},{\"name\":\"UC1\",\"type\":{\"type\":\"struct\",\"fields\":[{\"name\":\"COLORTYPE\",\"type\":{\"type\":\"struct\",\"fields\":[{\"name\":\"color\",\"type\":{\"type\":\"struct\",\"fields\":[{\"name\":\"fullcolor\",\"type\":{\"type\":\"struct\",\"fields\":[{\"name\":\"description\",\"type\":\"string\",\"nullable\":true,\"metadata\":{}},{\"name\":\"value\",\"type\":\"long\",\"nullable\":true,\"metadata\":{}}]},\"nullable\":true,\"metadata\":{}},{\"name\":\"singlecolor\",\"type\":{\"type\":\"struct\",\"fields\":[{\"name\":\"description\",\"type\":\"string\",\"nullable\":true,\"metadata\":{}},{\"name\":\"value\",\"type\":\"long\",\"nullable\":true,\"metadata\":{}}]},\"nullable\":true,\"metadata\":{}},{\"name\":\"threecolor\",\"type\":{\"type\":\"struct\",\"fields\":[{\"name\":\"description\",\"type\":\"string\",\"nullable\":true,\"metadata\":{}},{\"name\":\"value\",\"type\":\"long\",\"nullable\":true,\"metadata\":{}}]},\"nullable\":true,\"metadata\":{}},{\"name\":\"twocolor\",\"type\":{\"type\":\"struct\",\"fields\":[{\"name\":\"description\",\"type\":\"string\",\"nullable\":true,\"metadata\":{}},{\"name\":\"value\",\"type\":\"long\",\"nullable\":true,\"metadata\":{}}]},\"nullable\":true,\"metadata\":{}},{\"name\":\"value\",\"type\":\"long\",\"nullable\":true,\"metadata\":{}}]},\"nullable\":true,\"metadata\":{}},{\"name\":\"monochrome\",\"type\":{\"type\":\"struct\",\"fields\":[{\"name\":\"description\",\"type\":\"string\",\"nullable\":true,\"metadata\":{}},{\"name\":\"value\",\"type\":\"long\",\"nullable\":true,\"metadata\":{}}]},\"nullable\":true,\"metadata\":{}}]},\"nullable\":true,\"metadata\":{}},{\"name\":\"value\",\"type\":\"long\",\"nullable\":true,\"metadata\":{}}]},\"nullable\":true,\"metadata\":{}},{\"name\":\"UC2\",\"type\":{\"type\":\"struct\",\"fields\":[{\"name\":\"COLORTYPE\",\"type\":{\"type\":\"struct\",\"fields\":[{\"name\":\"color\",\"type\":{\"type\":\"struct\",\"fields\":[{\"name\":\"fullcolor\",\"type\":{\"type\":\"struct\",\"fields\":[{\"name\":\"description\",\"type\":\"string\",\"nullable\":true,\"metadata\":{}},{\"name\":\"value\",\"type\":\"long\",\"nullable\":true,\"metadata\":{}}]},\"nullable\":true,\"metadata\":{}},{\"name\":\"singlecolor\",\"type\":{\"type\":\"struct\",\"fields\":[{\"name\":\"description\",\"type\":\"string\",\"nullable\":true,\"metadata\":{}},{\"name\":\"value\",\"type\":\"long\",\"nullable\":true,\"metadata\":{}}]},\"nullable\":true,\"metadata\":{}},{\"name\":\"threecolor\",\"type\":{\"type\":\"struct\",\"fields\":[{\"name\":\"description\",\"type\":\"string\",\"nullable\":true,\"metadata\":{}},{\"name\":\"value\",\"type\":\"long\",\"nullable\":true,\"metadata\":{}}]},\"nullable\":true,\"metadata\":{}},{\"name\":\"twocolor\",\"type\":{\"type\":\"struct\",\"fields\":[{\"name\":\"description\",\"type\":\"string\",\"nullable\":true,\"metadata\":{}},{\"name\":\"value\",\"type\":\"long\",\"nullable\":true,\"metadata\":{}}]},\"nullable\":true,\"metadata\":{}},{\"name\":\"value\",\"type\":\"long\",\"nullable\":true,\"metadata\":{}}]},\"nullable\":true,\"metadata\":{}},{\"name\":\"monochrome\",\"type\":{\"type\":\"struct\",\"fields\":[{\"name\":\"description\",\"type\":\"string\",\"nullable\":true,\"metadata\":{}},{\"name\":\"value\",\"type\":\"long\",\"nullable\":true,\"metadata\":{}}]},\"nullable\":true,\"metadata\":{}}]},\"nullable\":true,\"metadata\":{}},{\"name\":\"value\",\"type\":\"long\",\"nullable\":true,\"metadata\":{}}]},\"nullable\":true,\"metadata\":{}},{\"name\":\"UC3\",\"type\":{\"type\":\"struct\",\"fields\":[{\"name\":\"COLORTYPE\",\"type\":{\"type\":\"struct\",\"fields\":[{\"name\":\"color\",\"type\":{\"type\":\"struct\",\"fields\":[{\"name\":\"fullcolor\",\"type\":{\"type\":\"struct\",\"fields\":[{\"name\":\"description\",\"type\":\"string\",\"nullable\":true,\"metadata\":{}},{\"name\":\"value\",\"type\":\"long\",\"nullable\":true,\"metadata\":{}}]},\"nullable\":true,\"metadata\":{}},{\"name\":\"singlecolor\",\"type\":{\"type\":\"struct\",\"fields\":[{\"name\":\"description\",\"type\":\"string\",\"nullable\":true,\"metadata\":{}},{\"name\":\"value\",\"type\":\"long\",\"nullable\":true,\"metadata\":{}}]},\"nullable\":true,\"metadata\":{}},{\"name\":\"threecolor\",\"type\":{\"type\":\"struct\",\"fields\":[{\"name\":\"description\",\"type\":\"string\",\"nullable\":true,\"metadata\":{}},{\"name\":\"value\",\"type\":\"long\",\"nullable\":true,\"metadata\":{}}]},\"nullable\":true,\"metadata\":{}},{\"name\":\"twocolor\",\"type\":{\"type\":\"struct\",\"fields\":[{\"name\":\"description\",\"type\":\"string\",\"nullable\":true,\"metadata\":{}},{\"name\":\"value\",\"type\":\"long\",\"nullable\":true,\"metadata\":{}}]},\"nullable\":true,\"metadata\":{}},{\"name\":\"value\",\"type\":\"long\",\"nullable\":true,\"metadata\":{}}]},\"nullable\":true,\"metadata\":{}},{\"name\":\"monochrome\",\"type\":{\"type\":\"struct\",\"fields\":[{\"name\":\"description\",\"type\":\"string\",\"nullable\":true,\"metadata\":{}},{\"name\":\"value\",\"type\":\"long\",\"nullable\":true,\"metadata\":{}}]},\"nullable\":true,\"metadata\":{}}]},\"nullable\":true,\"metadata\":{}},{\"name\":\"value\",\"type\":\"long\",\"nullable\":true,\"metadata\":{}}]},\"nullable\":true,\"metadata\":{}},{\"name\":\"value\",\"type\":\"long\",\"nullable\":true,\"metadata\":{}}]},\"nullable\":true,\"metadata\":{}}]},\"nullable\":true,\"metadata\":{}},{\"name\":\"UC0\",\"type\":{\"type\":\"struct\",\"fields\":[{\"name\":\"COLORTYPE\",\"type\":{\"type\":\"struct\",\"fields\":[{\"name\":\"color\",\"type\":{\"type\":\"struct\",\"fields\":[{\"name\":\"fullcolor\",\"type\":{\"type\":\"struct\",\"fields\":[{\"name\":\"value\",\"type\":\"long\",\"nullable\":true,\"metadata\":{}}]},\"nullable\":true,\"metadata\":{}},{\"name\":\"singlecolor\",\"type\":{\"type\":\"struct\",\"fields\":[{\"name\":\"value\",\"type\":\"long\",\"nullable\":true,\"metadata\":{}}]},\"nullable\":true,\"metadata\":{}},{\"name\":\"threecolor\",\"type\":{\"type\":\"struct\",\"fields\":[{\"name\":\"value\",\"type\":\"long\",\"nullable\":true,\"metadata\":{}}]},\"nullable\":true,\"metadata\":{}},{\"name\":\"twocolor\",\"type\":{\"type\":\"struct\",\"fields\":[{\"name\":\"value\",\"type\":\"long\",\"nullable\":true,\"metadata\":{}}]},\"nullable\":true,\"metadata\":{}},{\"name\":\"value\",\"type\":\"long\",\"nullable\":true,\"metadata\":{}}]},\"nullable\":true,\"metadata\":{}},{\"name\":\"monochrome\",\"type\":{\"type\":\"struct\",\"fields\":[{\"name\":\"value\",\"type\":\"long\",\"nullable\":true,\"metadata\":{}}]},\"nullable\":true,\"metadata\":{}}]},\"nullable\":true,\"metadata\":{}},{\"name\":\"value\",\"type\":\"long\",\"nullable\":true,\"metadata\":{}}]},\"nullable\":true,\"metadata\":{}},{\"name\":\"UC1\",\"type\":{\"type\":\"struct\",\"fields\":[{\"name\":\"COLORTYPE\",\"type\":{\"type\":\"struct\",\"fields\":[{\"name\":\"color\",\"type\":{\"type\":\"struct\",\"fields\":[{\"name\":\"fullcolor\",\"type\":{\"type\":\"struct\",\"fields\":[{\"name\":\"value\",\"type\":\"long\",\"nullable\":true,\"metadata\":{}}]},\"nullable\":true,\"metadata\":{}},{\"name\":\"singlecolor\",\"type\":{\"type\":\"struct\",\"fields\":[{\"name\":\"value\",\"type\":\"long\",\"nullable\":true,\"metadata\":{}}]},\"nullable\":true,\"metadata\":{}},{\"name\":\"threecolor\",\"type\":{\"type\":\"struct\",\"fields\":[{\"name\":\"value\",\"type\":\"long\",\"nullable\":true,\"metadata\":{}}]},\"nullable\":true,\"metadata\":{}},{\"name\":\"twocolor\",\"type\":{\"type\":\"struct\",\"fields\":[{\"name\":\"value\",\"type\":\"long\",\"nullable\":true,\"metadata\":{}}]},\"nullable\":true,\"metadata\":{}},{\"name\":\"value\",\"type\":\"long\",\"nullable\":true,\"metadata\":{}}]},\"nullable\":true,\"metadata\":{}},{\"name\":\"monochrome\",\"type\":{\"type\":\"struct\",\"fields\":[{\"name\":\"value\",\"type\":\"long\",\"nullable\":true,\"metadata\":{}}]},\"nullable\":true,\"metadata\":{}}]},\"nullable\":true,\"metadata\":{}},{\"name\":\"value\",\"type\":\"long\",\"nullable\":true,\"metadata\":{}}]},\"nullable\":true,\"metadata\":{}},{\"name\":\"UC2\",\"type\":{\"type\":\"struct\",\"fields\":[{\"name\":\"COLORTYPE\",\"type\":{\"type\":\"struct\",\"fields\":[{\"name\":\"color\",\"type\":{\"type\":\"struct\",\"fields\":[{\"name\":\"fullcolor\",\"type\":{\"type\":\"struct\",\"fields\":[{\"name\":\"value\",\"type\":\"long\",\"nullable\":true,\"metadata\":{}}]},\"nullable\":true,\"metadata\":{}},{\"name\":\"singlecolor\",\"type\":{\"type\":\"struct\",\"fields\":[{\"name\":\"value\",\"type\":\"long\",\"nullable\":true,\"metadata\":{}}]},\"nullable\":true,\"metadata\":{}},{\"name\":\"threecolor\",\"type\":{\"type\":\"struct\",\"fields\":[{\"name\":\"value\",\"type\":\"long\",\"nullable\":true,\"metadata\":{}}]},\"nullable\":true,\"metadata\":{}},{\"name\":\"twocolor\",\"type\":{\"type\":\"struct\",\"fields\":[{\"name\":\"value\",\"type\":\"long\",\"nullable\":true,\"metadata\":{}}]},\"nullable\":true,\"metadata\":{}},{\"name\":\"value\",\"type\":\"long\",\"nullable\":true,\"metadata\":{}}]},\"nullable\":true,\"metadata\":{}},{\"name\":\"monochrome\",\"type\":{\"type\":\"struct\",\"fields\":[{\"name\":\"value\",\"type\":\"long\",\"nullable\":true,\"metadata\":{}}]},\"nullable\":true,\"metadata\":{}}]},\"nullable\":true,\"metadata\":{}},{\"name\":\"value\",\"type\":\"long\",\"nullable\":true,\"metadata\":{}}]},\"nullable\":true,\"metadata\":{}},{\"name\":\"UC3\",\"type\":{\"type\":\"struct\",\"fields\":[{\"name\":\"COLORTYPE\",\"type\":{\"type\":\"struct\",\"fields\":[{\"name\":\"color\",\"type\":{\"type\":\"struct\",\"fields\":[{\"name\":\"fullcolor\",\"type\":{\"type\":\"struct\",\"fields\":[{\"name\":\"value\",\"type\":\"long\",\"nullable\":true,\"metadata\":{}}]},\"nullable\":true,\"metadata\":{}},{\"name\":\"singlecolor\",\"type\":{\"type\":\"struct\",\"fields\":[{\"name\":\"value\",\"type\":\"long\",\"nullable\":true,\"metadata\":{}}]},\"nullable\":true,\"metadata\":{}},{\"name\":\"threecolor\",\"type\":{\"type\":\"struct\",\"fields\":[{\"name\":\"value\",\"type\":\"long\",\"nullable\":true,\"metadata\":{}}]},\"nullable\":true,\"metadata\":{}},{\"name\":\"twocolor\",\"type\":{\"type\":\"struct\",\"fields\":[{\"name\":\"value\",\"type\":\"long\",\"nullable\":true,\"metadata\":{}}]},\"nullable\":true,\"metadata\":{}},{\"name\":\"value\",\"type\":\"long\",\"nullable\":true,\"metadata\":{}}]},\"nullable\":true,\"metadata\":{}},{\"name\":\"monochrome\",\"type\":{\"type\":\"struct\",\"fields\":[{\"name\":\"value\",\"type\":\"long\",\"nullable\":true,\"metadata\":{}}]},\"nullable\":true,\"metadata\":{}}]},\"nullable\":true,\"metadata\":{}},{\"name\":\"value\",\"type\":\"long\",\"nullable\":true,\"metadata\":{}}]},\"nullable\":true,\"metadata\":{}},{\"name\":\"value\",\"type\":\"long\",\"nullable\":true,\"metadata\":{}}]},\"nullable\":true,\"metadata\":{}}]},\"nullable\":true,\"metadata\":{}},{\"name\":\"detail\",\"type\":{\"type\":\"struct\",\"fields\":[{\"name\":\"output\",\"type\":{\"type\":\"struct\",\"fields\":[{\"name\":\"JOBTYPE\",\"type\":{\"type\":\"struct\",\"fields\":[{\"name\":\"copies\",\"type\":{\"type\":\"struct\",\"fields\":[{\"name\":\"COLORTYPE\",\"type\":{\"type\":\"struct\",\"fields\":[{\"name\":\"color\",\"type\":{\"type\":\"struct\",\"fields\":[{\"name\":\"fullcolor\",\"type\":{\"type\":\"struct\",\"fields\":[{\"name\":\"value\",\"type\":\"long\",\"nullable\":true,\"metadata\":{}}]},\"nullable\":true,\"metadata\":{}},{\"name\":\"singlecolor\",\"type\":{\"type\":\"struct\",\"fields\":[{\"name\":\"value\",\"type\":\"long\",\"nullable\":true,\"metadata\":{}}]},\"nullable\":true,\"metadata\":{}},{\"name\":\"twocolor\",\"type\":{\"type\":\"struct\",\"fields\":[{\"name\":\"value\",\"type\":\"long\",\"nullable\":true,\"metadata\":{}}]},\"nullable\":true,\"metadata\":{}},{\"name\":\"value\",\"type\":\"long\",\"nullable\":true,\"metadata\":{}}]},\"nullable\":true,\"metadata\":{}},{\"name\":\"monochrome\",\"type\":{\"type\":\"struct\",\"fields\":[{\"name\":\"value\",\"type\":\"long\",\"nullable\":true,\"metadata\":{}}]},\"nullable\":true,\"metadata\":{}}]},\"nullable\":true,\"metadata\":{}},{\"name\":\"UC0\",\"type\":{\"type\":\"struct\",\"fields\":[{\"name\":\"COLORTYPE\",\"type\":{\"type\":\"struct\",\"fields\":[{\"name\":\"color\",\"type\":{\"type\":\"struct\",\"fields\":[{\"name\":\"fullcolor\",\"type\":{\"type\":\"struct\",\"fields\":[{\"name\":\"description\",\"type\":\"string\",\"nullable\":true,\"metadata\":{}},{\"name\":\"value\",\"type\":\"long\",\"nullable\":true,\"metadata\":{}}]},\"nullable\":true,\"metadata\":{}},{\"name\":\"singlecolor\",\"type\":{\"type\":\"struct\",\"fields\":[{\"name\":\"description\",\"type\":\"string\",\"nullable\":true,\"metadata\":{}},{\"name\":\"value\",\"type\":\"long\",\"nullable\":true,\"metadata\":{}}]},\"nullable\":true,\"metadata\":{}},{\"name\":\"twocolor\",\"type\":{\"type\":\"struct\",\"fields\":[{\"name\":\"description\",\"type\":\"string\",\"nullable\":true,\"metadata\":{}},{\"name\":\"value\",\"type\":\"long\",\"nullable\":true,\"metadata\":{}}]},\"nullable\":true,\"metadata\":{}},{\"name\":\"value\",\"type\":\"long\",\"nullable\":true,\"metadata\":{}}]},\"nullable\":true,\"metadata\":{}},{\"name\":\"monochrome\",\"type\":{\"type\":\"struct\",\"fields\":[{\"name\":\"description\",\"type\":\"string\",\"nullable\":true,\"metadata\":{}},{\"name\":\"value\",\"type\":\"long\",\"nullable\":true,\"metadata\":{}}]},\"nullable\":true,\"metadata\":{}}]},\"nullable\":true,\"metadata\":{}},{\"name\":\"value\",\"type\":\"long\",\"nullable\":true,\"metadata\":{}}]},\"nullable\":true,\"metadata\":{}},{\"name\":\"UC1\",\"type\":{\"type\":\"struct\",\"fields\":[{\"name\":\"COLORTYPE\",\"type\":{\"type\":\"struct\",\"fields\":[{\"name\":\"color\",\"type\":{\"type\":\"struct\",\"fields\":[{\"name\":\"fullcolor\",\"type\":{\"type\":\"struct\",\"fields\":[{\"name\":\"description\",\"type\":\"string\",\"nullable\":true,\"metadata\":{}},{\"name\":\"value\",\"type\":\"long\",\"nullable\":true,\"metadata\":{}}]},\"nullable\":true,\"metadata\":{}},{\"name\":\"singlecolor\",\"type\":{\"type\":\"struct\",\"fields\":[{\"name\":\"description\",\"type\":\"string\",\"nullable\":true,\"metadata\":{}},{\"name\":\"value\",\"type\":\"long\",\"nullable\":true,\"metadata\":{}}]},\"nullable\":true,\"metadata\":{}},{\"name\":\"twocolor\",\"type\":{\"type\":\"struct\",\"fields\":[{\"name\":\"description\",\"type\":\"string\",\"nullable\":true,\"metadata\":{}},{\"name\":\"value\",\"type\":\"long\",\"nullable\":true,\"metadata\":{}}]},\"nullable\":true,\"metadata\":{}},{\"name\":\"value\",\"type\":\"long\",\"nullable\":true,\"metadata\":{}}]},\"nullable\":true,\"metadata\":{}},{\"name\":\"monochrome\",\"type\":{\"type\":\"struct\",\"fields\":[{\"name\":\"description\",\"type\":\"string\",\"nullable\":true,\"metadata\":{}},{\"name\":\"value\",\"type\":\"long\",\"nullable\":true,\"metadata\":{}}]},\"nullable\":true,\"metadata\":{}}]},\"nullable\":true,\"metadata\":{}},{\"name\":\"value\",\"type\":\"long\",\"nullable\":true,\"metadata\":{}}]},\"nullable\":true,\"metadata\":{}},{\"name\":\"UC2\",\"type\":{\"type\":\"struct\",\"fields\":[{\"name\":\"COLORTYPE\",\"type\":{\"type\":\"struct\",\"fields\":[{\"name\":\"color\",\"type\":{\"type\":\"struct\",\"fields\":[{\"name\":\"fullcolor\",\"type\":{\"type\":\"struct\",\"fields\":[{\"name\":\"description\",\"type\":\"string\",\"nullable\":true,\"metadata\":{}},{\"name\":\"value\",\"type\":\"long\",\"nullable\":true,\"metadata\":{}}]},\"nullable\":true,\"metadata\":{}},{\"name\":\"singlecolor\",\"type\":{\"type\":\"struct\",\"fields\":[{\"name\":\"description\",\"type\":\"string\",\"nullable\":true,\"metadata\":{}},{\"name\":\"value\",\"type\":\"long\",\"nullable\":true,\"metadata\":{}}]},\"nullable\":true,\"metadata\":{}},{\"name\":\"twocolor\",\"type\":{\"type\":\"struct\",\"fields\":[{\"name\":\"description\",\"type\":\"string\",\"nullable\":true,\"metadata\":{}},{\"name\":\"value\",\"type\":\"long\",\"nullable\":true,\"metadata\":{}}]},\"nullable\":true,\"metadata\":{}},{\"name\":\"value\",\"type\":\"long\",\"nullable\":true,\"metadata\":{}}]},\"nullable\":true,\"metadata\":{}},{\"name\":\"monochrome\",\"type\":{\"type\":\"struct\",\"fields\":[{\"name\":\"description\",\"type\":\"string\",\"nullable\":true,\"metadata\":{}},{\"name\":\"value\",\"type\":\"long\",\"nullable\":true,\"metadata\":{}}]},\"nullable\":true,\"metadata\":{}}]},\"nullable\":true,\"metadata\":{}},{\"name\":\"value\",\"type\":\"long\",\"nullable\":true,\"metadata\":{}}]},\"nullable\":true,\"metadata\":{}},{\"name\":\"UC3\",\"type\":{\"type\":\"struct\",\"fields\":[{\"name\":\"COLORTYPE\",\"type\":{\"type\":\"struct\",\"fields\":[{\"name\":\"color\",\"type\":{\"type\":\"struct\",\"fields\":[{\"name\":\"fullcolor\",\"type\":{\"type\":\"struct\",\"fields\":[{\"name\":\"description\",\"type\":\"string\",\"nullable\":true,\"metadata\":{}},{\"name\":\"value\",\"type\":\"long\",\"nullable\":true,\"metadata\":{}}]},\"nullable\":true,\"metadata\":{}},{\"name\":\"singlecolor\",\"type\":{\"type\":\"struct\",\"fields\":[{\"name\":\"description\",\"type\":\"string\",\"nullable\":true,\"metadata\":{}},{\"name\":\"value\",\"type\":\"long\",\"nullable\":true,\"metadata\":{}}]},\"nullable\":true,\"metadata\":{}},{\"name\":\"twocolor\",\"type\":{\"type\":\"struct\",\"fields\":[{\"name\":\"description\",\"type\":\"string\",\"nullable\":true,\"metadata\":{}},{\"name\":\"value\",\"type\":\"long\",\"nullable\":true,\"metadata\":{}}]},\"nullable\":true,\"metadata\":{}},{\"name\":\"value\",\"type\":\"long\",\"nullable\":true,\"metadata\":{}}]},\"nullable\":true,\"metadata\":{}},{\"name\":\"monochrome\",\"type\":{\"type\":\"struct\",\"fields\":[{\"name\":\"description\",\"type\":\"string\",\"nullable\":true,\"metadata\":{}},{\"name\":\"value\",\"type\":\"long\",\"nullable\":true,\"metadata\":{}}]},\"nullable\":true,\"metadata\":{}}]},\"nullable\":true,\"metadata\":{}},{\"name\":\"value\",\"type\":\"long\",\"nullable\":true,\"metadata\":{}}]},\"nullable\":true,\"metadata\":{}},{\"name\":\"value\",\"type\":\"long\",\"nullable\":true,\"metadata\":{}}]},\"nullable\":true,\"metadata\":{}},{\"name\":\"fax\",\"type\":{\"type\":\"struct\",\"fields\":[{\"name\":\"COLORTYPE\",\"type\":{\"type\":\"struct\",\"fields\":[{\"name\":\"monochrome\",\"type\":{\"type\":\"struct\",\"fields\":[{\"name\":\"value\",\"type\":\"long\",\"nullable\":true,\"metadata\":{}}]},\"nullable\":true,\"metadata\":{}}]},\"nullable\":true,\"metadata\":{}},{\"name\":\"fax1\",\"type\":{\"type\":\"struct\",\"fields\":[{\"name\":\"COLORTYPE\",\"type\":{\"type\":\"struct\",\"fields\":[{\"name\":\"monochrome\",\"type\":{\"type\":\"struct\",\"fields\":[{\"name\":\"value\",\"type\":\"long\",\"nullable\":true,\"metadata\":{}}]},\"nullable\":true,\"metadata\":{}}]},\"nullable\":true,\"metadata\":{}},{\"name\":\"value\",\"type\":\"long\",\"nullable\":true,\"metadata\":{}}]},\"nullable\":true,\"metadata\":{}},{\"name\":\"fax2\",\"type\":{\"type\":\"struct\",\"fields\":[{\"name\":\"COLORTYPE\",\"type\":{\"type\":\"struct\",\"fields\":[{\"name\":\"monochrome\",\"type\":{\"type\":\"struct\",\"fields\":[{\"name\":\"value\",\"type\":\"long\",\"nullable\":true,\"metadata\":{}}]},\"nullable\":true,\"metadata\":{}}]},\"nullable\":true,\"metadata\":{}},{\"name\":\"value\",\"type\":\"long\",\"nullable\":true,\"metadata\":{}}]},\"nullable\":true,\"metadata\":{}},{\"name\":\"fax3\",\"type\":{\"type\":\"struct\",\"fields\":[{\"name\":\"COLORTYPE\",\"type\":{\"type\":\"struct\",\"fields\":[{\"name\":\"monochrome\",\"type\":{\"type\":\"struct\",\"fields\":[{\"name\":\"value\",\"type\":\"long\",\"nullable\":true,\"metadata\":{}}]},\"nullable\":true,\"metadata\":{}}]},\"nullable\":true,\"metadata\":{}},{\"name\":\"value\",\"type\":\"long\",\"nullable\":true,\"metadata\":{}}]},\"nullable\":true,\"metadata\":{}},{\"name\":\"value\",\"type\":\"long\",\"nullable\":true,\"metadata\":{}}]},\"nullable\":true,\"metadata\":{}},{\"name\":\"filingData\",\"type\":{\"type\":\"struct\",\"fields\":[{\"name\":\"COLORTYPE\",\"type\":{\"type\":\"struct\",\"fields\":[{\"name\":\"color\",\"type\":{\"type\":\"struct\",\"fields\":[{\"name\":\"fullcolor\",\"type\":{\"type\":\"struct\",\"fields\":[{\"name\":\"value\",\"type\":\"long\",\"nullable\":true,\"metadata\":{}}]},\"nullable\":true,\"metadata\":{}},{\"name\":\"singlecolor\",\"type\":{\"type\":\"struct\",\"fields\":[{\"name\":\"value\",\"type\":\"long\",\"nullable\":true,\"metadata\":{}}]},\"nullable\":true,\"metadata\":{}},{\"name\":\"twocolor\",\"type\":{\"type\":\"struct\",\"fields\":[{\"name\":\"value\",\"type\":\"long\",\"nullable\":true,\"metadata\":{}}]},\"nullable\":true,\"metadata\":{}},{\"name\":\"value\",\"type\":\"long\",\"nullable\":true,\"metadata\":{}}]},\"nullable\":true,\"metadata\":{}},{\"name\":\"monochrome\",\"type\":{\"type\":\"struct\",\"fields\":[{\"name\":\"value\",\"type\":\"long\",\"nullable\":true,\"metadata\":{}}]},\"nullable\":true,\"metadata\":{}}]},\"nullable\":true,\"metadata\":{}},{\"name\":\"UC0\",\"type\":{\"type\":\"struct\",\"fields\":[{\"name\":\"COLORTYPE\",\"type\":{\"type\":\"struct\",\"fields\":[{\"name\":\"color\",\"type\":{\"type\":\"struct\",\"fields\":[{\"name\":\"fullcolor\",\"type\":{\"type\":\"struct\",\"fields\":[{\"name\":\"description\",\"type\":\"string\",\"nullable\":true,\"metadata\":{}},{\"name\":\"value\",\"type\":\"long\",\"nullable\":true,\"metadata\":{}}]},\"nullable\":true,\"metadata\":{}},{\"name\":\"singlecolor\",\"type\":{\"type\":\"struct\",\"fields\":[{\"name\":\"description\",\"type\":\"string\",\"nullable\":true,\"metadata\":{}},{\"name\":\"value\",\"type\":\"long\",\"nullable\":true,\"metadata\":{}}]},\"nullable\":true,\"metadata\":{}},{\"name\":\"twocolor\",\"type\":{\"type\":\"struct\",\"fields\":[{\"name\":\"description\",\"type\":\"string\",\"nullable\":true,\"metadata\":{}},{\"name\":\"value\",\"type\":\"long\",\"nullable\":true,\"metadata\":{}}]},\"nullable\":true,\"metadata\":{}},{\"name\":\"value\",\"type\":\"long\",\"nullable\":true,\"metadata\":{}}]},\"nullable\":true,\"metadata\":{}},{\"name\":\"monochrome\",\"type\":{\"type\":\"struct\",\"fields\":[{\"name\":\"description\",\"type\":\"string\",\"nullable\":true,\"metadata\":{}},{\"name\":\"value\",\"type\":\"long\",\"nullable\":true,\"metadata\":{}}]},\"nullable\":true,\"metadata\":{}}]},\"nullable\":true,\"metadata\":{}},{\"name\":\"value\",\"type\":\"long\",\"nullable\":true,\"metadata\":{}}]},\"nullable\":true,\"metadata\":{}},{\"name\":\"UC1\",\"type\":{\"type\":\"struct\",\"fields\":[{\"name\":\"COLORTYPE\",\"type\":{\"type\":\"struct\",\"fields\":[{\"name\":\"color\",\"type\":{\"type\":\"struct\",\"fields\":[{\"name\":\"fullcolor\",\"type\":{\"type\":\"struct\",\"fields\":[{\"name\":\"description\",\"type\":\"string\",\"nullable\":true,\"metadata\":{}},{\"name\":\"value\",\"type\":\"long\",\"nullable\":true,\"metadata\":{}}]},\"nullable\":true,\"metadata\":{}},{\"name\":\"singlecolor\",\"type\":{\"type\":\"struct\",\"fields\":[{\"name\":\"description\",\"type\":\"string\",\"nullable\":true,\"metadata\":{}},{\"name\":\"value\",\"type\":\"long\",\"nullable\":true,\"metadata\":{}}]},\"nullable\":true,\"metadata\":{}},{\"name\":\"twocolor\",\"type\":{\"type\":\"struct\",\"fields\":[{\"name\":\"description\",\"type\":\"string\",\"nullable\":true,\"metadata\":{}},{\"name\":\"value\",\"type\":\"long\",\"nullable\":true,\"metadata\":{}}]},\"nullable\":true,\"metadata\":{}},{\"name\":\"value\",\"type\":\"long\",\"nullable\":true,\"metadata\":{}}]},\"nullable\":true,\"metadata\":{}},{\"name\":\"monochrome\",\"type\":{\"type\":\"struct\",\"fields\":[{\"name\":\"description\",\"type\":\"string\",\"nullable\":true,\"metadata\":{}},{\"name\":\"value\",\"type\":\"long\",\"nullable\":true,\"metadata\":{}}]},\"nullable\":true,\"metadata\":{}}]},\"nullable\":true,\"metadata\":{}},{\"name\":\"value\",\"type\":\"long\",\"nullable\":true,\"metadata\":{}}]},\"nullable\":true,\"metadata\":{}},{\"name\":\"UC2\",\"type\":{\"type\":\"struct\",\"fields\":[{\"name\":\"COLORTYPE\",\"type\":{\"type\":\"struct\",\"fields\":[{\"name\":\"color\",\"type\":{\"type\":\"struct\",\"fields\":[{\"name\":\"fullcolor\",\"type\":{\"type\":\"struct\",\"fields\":[{\"name\":\"description\",\"type\":\"string\",\"nullable\":true,\"metadata\":{}},{\"name\":\"value\",\"type\":\"long\",\"nullable\":true,\"metadata\":{}}]},\"nullable\":true,\"metadata\":{}},{\"name\":\"singlecolor\",\"type\":{\"type\":\"struct\",\"fields\":[{\"name\":\"description\",\"type\":\"string\",\"nullable\":true,\"metadata\":{}},{\"name\":\"value\",\"type\":\"long\",\"nullable\":true,\"metadata\":{}}]},\"nullable\":true,\"metadata\":{}},{\"name\":\"twocolor\",\"type\":{\"type\":\"struct\",\"fields\":[{\"name\":\"description\",\"type\":\"string\",\"nullable\":true,\"metadata\":{}},{\"name\":\"value\",\"type\":\"long\",\"nullable\":true,\"metadata\":{}}]},\"nullable\":true,\"metadata\":{}},{\"name\":\"value\",\"type\":\"long\",\"nullable\":true,\"metadata\":{}}]},\"nullable\":true,\"metadata\":{}},{\"name\":\"monochrome\",\"type\":{\"type\":\"struct\",\"fields\":[{\"name\":\"description\",\"type\":\"string\",\"nullable\":true,\"metadata\":{}},{\"name\":\"value\",\"type\":\"long\",\"nullable\":true,\"metadata\":{}}]},\"nullable\":true,\"metadata\":{}}]},\"nullable\":true,\"metadata\":{}},{\"name\":\"value\",\"type\":\"long\",\"nullable\":true,\"metadata\":{}}]},\"nullable\":true,\"metadata\":{}},{\"name\":\"UC3\",\"type\":{\"type\":\"struct\",\"fields\":[{\"name\":\"COLORTYPE\",\"type\":{\"type\":\"struct\",\"fields\":[{\"name\":\"color\",\"type\":{\"type\":\"struct\",\"fields\":[{\"name\":\"fullcolor\",\"type\":{\"type\":\"struct\",\"fields\":[{\"name\":\"description\",\"type\":\"string\",\"nullable\":true,\"metadata\":{}},{\"name\":\"value\",\"type\":\"long\",\"nullable\":true,\"metadata\":{}}]},\"nullable\":true,\"metadata\":{}},{\"name\":\"singlecolor\",\"type\":{\"type\":\"struct\",\"fields\":[{\"name\":\"description\",\"type\":\"string\",\"nullable\":true,\"metadata\":{}},{\"name\":\"value\",\"type\":\"long\",\"nullable\":true,\"metadata\":{}}]},\"nullable\":true,\"metadata\":{}},{\"name\":\"twocolor\",\"type\":{\"type\":\"struct\",\"fields\":[{\"name\":\"description\",\"type\":\"string\",\"nullable\":true,\"metadata\":{}},{\"name\":\"value\",\"type\":\"long\",\"nullable\":true,\"metadata\":{}}]},\"nullable\":true,\"metadata\":{}},{\"name\":\"value\",\"type\":\"long\",\"nullable\":true,\"metadata\":{}}]},\"nullable\":true,\"metadata\":{}},{\"name\":\"monochrome\",\"type\":{\"type\":\"struct\",\"fields\":[{\"name\":\"description\",\"type\":\"string\",\"nullable\":true,\"metadata\":{}},{\"name\":\"value\",\"type\":\"long\",\"nullable\":true,\"metadata\":{}}]},\"nullable\":true,\"metadata\":{}}]},\"nullable\":true,\"metadata\":{}},{\"name\":\"value\",\"type\":\"long\",\"nullable\":true,\"metadata\":{}}]},\"nullable\":true,\"metadata\":{}},{\"name\":\"value\",\"type\":\"long\",\"nullable\":true,\"metadata\":{}}]},\"nullable\":true,\"metadata\":{}},{\"name\":\"internetFax\",\"type\":{\"type\":\"struct\",\"fields\":[{\"name\":\"COLORTYPE\",\"type\":{\"type\":\"struct\",\"fields\":[{\"name\":\"monochrome\",\"type\":{\"type\":\"struct\",\"fields\":[{\"name\":\"value\",\"type\":\"long\",\"nullable\":true,\"metadata\":{}}]},\"nullable\":true,\"metadata\":{}}]},\"nullable\":true,\"metadata\":{}},{\"name\":\"value\",\"type\":\"long\",\"nullable\":true,\"metadata\":{}}]},\"nullable\":true,\"metadata\":{}},{\"name\":\"others\",\"type\":{\"type\":\"struct\",\"fields\":[{\"name\":\"COLORTYPE\",\"type\":{\"type\":\"struct\",\"fields\":[{\"name\":\"color\",\"type\":{\"type\":\"struct\",\"fields\":[{\"name\":\"fullcolor\",\"type\":{\"type\":\"struct\",\"fields\":[{\"name\":\"value\",\"type\":\"long\",\"nullable\":true,\"metadata\":{}}]},\"nullable\":true,\"metadata\":{}},{\"name\":\"value\",\"type\":\"long\",\"nullable\":true,\"metadata\":{}}]},\"nullable\":true,\"metadata\":{}},{\"name\":\"monochrome\",\"type\":{\"type\":\"struct\",\"fields\":[{\"name\":\"value\",\"type\":\"long\",\"nullable\":true,\"metadata\":{}}]},\"nullable\":true,\"metadata\":{}}]},\"nullable\":true,\"metadata\":{}},{\"name\":\"UC0\",\"type\":{\"type\":\"struct\",\"fields\":[{\"name\":\"COLORTYPE\",\"type\":{\"type\":\"struct\",\"fields\":[{\"name\":\"color\",\"type\":{\"type\":\"struct\",\"fields\":[{\"name\":\"fullcolor\",\"type\":{\"type\":\"struct\",\"fields\":[{\"name\":\"description\",\"type\":\"string\",\"nullable\":true,\"metadata\":{}},{\"name\":\"value\",\"type\":\"long\",\"nullable\":true,\"metadata\":{}}]},\"nullable\":true,\"metadata\":{}},{\"name\":\"value\",\"type\":\"long\",\"nullable\":true,\"metadata\":{}}]},\"nullable\":true,\"metadata\":{}},{\"name\":\"monochrome\",\"type\":{\"type\":\"struct\",\"fields\":[{\"name\":\"description\",\"type\":\"string\",\"nullable\":true,\"metadata\":{}},{\"name\":\"value\",\"type\":\"long\",\"nullable\":true,\"metadata\":{}}]},\"nullable\":true,\"metadata\":{}}]},\"nullable\":true,\"metadata\":{}},{\"name\":\"value\",\"type\":\"long\",\"nullable\":true,\"metadata\":{}}]},\"nullable\":true,\"metadata\":{}},{\"name\":\"value\",\"type\":\"long\",\"nullable\":true,\"metadata\":{}}]},\"nullable\":true,\"metadata\":{}},{\"name\":\"prints\",\"type\":{\"type\":\"struct\",\"fields\":[{\"name\":\"COLORTYPE\",\"type\":{\"type\":\"struct\",\"fields\":[{\"name\":\"color\",\"type\":{\"type\":\"struct\",\"fields\":[{\"name\":\"fullcolor\",\"type\":{\"type\":\"struct\",\"fields\":[{\"name\":\"value\",\"type\":\"long\",\"nullable\":true,\"metadata\":{}}]},\"nullable\":true,\"metadata\":{}},{\"name\":\"singlecolor\",\"type\":{\"type\":\"struct\",\"fields\":[{\"name\":\"value\",\"type\":\"long\",\"nullable\":true,\"metadata\":{}}]},\"nullable\":true,\"metadata\":{}},{\"name\":\"threecolor\",\"type\":{\"type\":\"struct\",\"fields\":[{\"name\":\"value\",\"type\":\"long\",\"nullable\":true,\"metadata\":{}}]},\"nullable\":true,\"metadata\":{}},{\"name\":\"twocolor\",\"type\":{\"type\":\"struct\",\"fields\":[{\"name\":\"value\",\"type\":\"long\",\"nullable\":true,\"metadata\":{}}]},\"nullable\":true,\"metadata\":{}},{\"name\":\"value\",\"type\":\"long\",\"nullable\":true,\"metadata\":{}}]},\"nullable\":true,\"metadata\":{}},{\"name\":\"monochrome\",\"type\":{\"type\":\"struct\",\"fields\":[{\"name\":\"value\",\"type\":\"long\",\"nullable\":true,\"metadata\":{}}]},\"nullable\":true,\"metadata\":{}}]},\"nullable\":true,\"metadata\":{}},{\"name\":\"UC0\",\"type\":{\"type\":\"struct\",\"fields\":[{\"name\":\"COLORTYPE\",\"type\":{\"type\":\"struct\",\"fields\":[{\"name\":\"color\",\"type\":{\"type\":\"struct\",\"fields\":[{\"name\":\"fullcolor\",\"type\":{\"type\":\"struct\",\"fields\":[{\"name\":\"description\",\"type\":\"string\",\"nullable\":true,\"metadata\":{}},{\"name\":\"value\",\"type\":\"long\",\"nullable\":true,\"metadata\":{}}]},\"nullable\":true,\"metadata\":{}},{\"name\":\"singlecolor\",\"type\":{\"type\":\"struct\",\"fields\":[{\"name\":\"description\",\"type\":\"string\",\"nullable\":true,\"metadata\":{}},{\"name\":\"value\",\"type\":\"long\",\"nullable\":true,\"metadata\":{}}]},\"nullable\":true,\"metadata\":{}},{\"name\":\"threecolor\",\"type\":{\"type\":\"struct\",\"fields\":[{\"name\":\"description\",\"type\":\"string\",\"nullable\":true,\"metadata\":{}},{\"name\":\"value\",\"type\":\"long\",\"nullable\":true,\"metadata\":{}}]},\"nullable\":true,\"metadata\":{}},{\"name\":\"twocolor\",\"type\":{\"type\":\"struct\",\"fields\":[{\"name\":\"description\",\"type\":\"string\",\"nullable\":true,\"metadata\":{}},{\"name\":\"value\",\"type\":\"long\",\"nullable\":true,\"metadata\":{}}]},\"nullable\":true,\"metadata\":{}},{\"name\":\"value\",\"type\":\"long\",\"nullable\":true,\"metadata\":{}}]},\"nullable\":true,\"metadata\":{}},{\"name\":\"monochrome\",\"type\":{\"type\":\"struct\",\"fields\":[{\"name\":\"description\",\"type\":\"string\",\"nullable\":true,\"metadata\":{}},{\"name\":\"value\",\"type\":\"long\",\"nullable\":true,\"metadata\":{}}]},\"nullable\":true,\"metadata\":{}}]},\"nullable\":true,\"metadata\":{}},{\"name\":\"value\",\"type\":\"long\",\"nullable\":true,\"metadata\":{}}]},\"nullable\":true,\"metadata\":{}},{\"name\":\"UC1\",\"type\":{\"type\":\"struct\",\"fields\":[{\"name\":\"COLORTYPE\",\"type\":{\"type\":\"struct\",\"fields\":[{\"name\":\"color\",\"type\":{\"type\":\"struct\",\"fields\":[{\"name\":\"fullcolor\",\"type\":{\"type\":\"struct\",\"fields\":[{\"name\":\"description\",\"type\":\"string\",\"nullable\":true,\"metadata\":{}},{\"name\":\"value\",\"type\":\"long\",\"nullable\":true,\"metadata\":{}}]},\"nullable\":true,\"metadata\":{}},{\"name\":\"singlecolor\",\"type\":{\"type\":\"struct\",\"fields\":[{\"name\":\"description\",\"type\":\"string\",\"nullable\":true,\"metadata\":{}},{\"name\":\"value\",\"type\":\"long\",\"nullable\":true,\"metadata\":{}}]},\"nullable\":true,\"metadata\":{}},{\"name\":\"threecolor\",\"type\":{\"type\":\"struct\",\"fields\":[{\"name\":\"description\",\"type\":\"string\",\"nullable\":true,\"metadata\":{}},{\"name\":\"value\",\"type\":\"long\",\"nullable\":true,\"metadata\":{}}]},\"nullable\":true,\"metadata\":{}},{\"name\":\"twocolor\",\"type\":{\"type\":\"struct\",\"fields\":[{\"name\":\"description\",\"type\":\"string\",\"nullable\":true,\"metadata\":{}},{\"name\":\"value\",\"type\":\"long\",\"nullable\":true,\"metadata\":{}}]},\"nullable\":true,\"metadata\":{}},{\"name\":\"value\",\"type\":\"long\",\"nullable\":true,\"metadata\":{}}]},\"nullable\":true,\"metadata\":{}},{\"name\":\"monochrome\",\"type\":{\"type\":\"struct\",\"fields\":[{\"name\":\"description\",\"type\":\"string\",\"nullable\":true,\"metadata\":{}},{\"name\":\"value\",\"type\":\"long\",\"nullable\":true,\"metadata\":{}}]},\"nullable\":true,\"metadata\":{}}]},\"nullable\":true,\"metadata\":{}},{\"name\":\"value\",\"type\":\"long\",\"nullable\":true,\"metadata\":{}}]},\"nullable\":true,\"metadata\":{}},{\"name\":\"UC2\",\"type\":{\"type\":\"struct\",\"fields\":[{\"name\":\"COLORTYPE\",\"type\":{\"type\":\"struct\",\"fields\":[{\"name\":\"color\",\"type\":{\"type\":\"struct\",\"fields\":[{\"name\":\"fullcolor\",\"type\":{\"type\":\"struct\",\"fields\":[{\"name\":\"description\",\"type\":\"string\",\"nullable\":true,\"metadata\":{}},{\"name\":\"value\",\"type\":\"long\",\"nullable\":true,\"metadata\":{}}]},\"nullable\":true,\"metadata\":{}},{\"name\":\"singlecolor\",\"type\":{\"type\":\"struct\",\"fields\":[{\"name\":\"description\",\"type\":\"string\",\"nullable\":true,\"metadata\":{}},{\"name\":\"value\",\"type\":\"long\",\"nullable\":true,\"metadata\":{}}]},\"nullable\":true,\"metadata\":{}},{\"name\":\"threecolor\",\"type\":{\"type\":\"struct\",\"fields\":[{\"name\":\"description\",\"type\":\"string\",\"nullable\":true,\"metadata\":{}},{\"name\":\"value\",\"type\":\"long\",\"nullable\":true,\"metadata\":{}}]},\"nullable\":true,\"metadata\":{}},{\"name\":\"twocolor\",\"type\":{\"type\":\"struct\",\"fields\":[{\"name\":\"description\",\"type\":\"string\",\"nullable\":true,\"metadata\":{}},{\"name\":\"value\",\"type\":\"long\",\"nullable\":true,\"metadata\":{}}]},\"nullable\":true,\"metadata\":{}},{\"name\":\"value\",\"type\":\"long\",\"nullable\":true,\"metadata\":{}}]},\"nullable\":true,\"metadata\":{}},{\"name\":\"monochrome\",\"type\":{\"type\":\"struct\",\"fields\":[{\"name\":\"description\",\"type\":\"string\",\"nullable\":true,\"metadata\":{}},{\"name\":\"value\",\"type\":\"long\",\"nullable\":true,\"metadata\":{}}]},\"nullable\":true,\"metadata\":{}}]},\"nullable\":true,\"metadata\":{}},{\"name\":\"value\",\"type\":\"long\",\"nullable\":true,\"metadata\":{}}]},\"nullable\":true,\"metadata\":{}},{\"name\":\"UC3\",\"type\":{\"type\":\"struct\",\"fields\":[{\"name\":\"COLORTYPE\",\"type\":{\"type\":\"struct\",\"fields\":[{\"name\":\"color\",\"type\":{\"type\":\"struct\",\"fields\":[{\"name\":\"fullcolor\",\"type\":{\"type\":\"struct\",\"fields\":[{\"name\":\"description\",\"type\":\"string\",\"nullable\":true,\"metadata\":{}},{\"name\":\"value\",\"type\":\"long\",\"nullable\":true,\"metadata\":{}}]},\"nullable\":true,\"metadata\":{}},{\"name\":\"singlecolor\",\"type\":{\"type\":\"struct\",\"fields\":[{\"name\":\"description\",\"type\":\"string\",\"nullable\":true,\"metadata\":{}},{\"name\":\"value\",\"type\":\"long\",\"nullable\":true,\"metadata\":{}}]},\"nullable\":true,\"metadata\":{}},{\"name\":\"threecolor\",\"type\":{\"type\":\"struct\",\"fields\":[{\"name\":\"description\",\"type\":\"string\",\"nullable\":true,\"metadata\":{}},{\"name\":\"value\",\"type\":\"long\",\"nullable\":true,\"metadata\":{}}]},\"nullable\":true,\"metadata\":{}},{\"name\":\"twocolor\",\"type\":{\"type\":\"struct\",\"fields\":[{\"name\":\"description\",\"type\":\"string\",\"nullable\":true,\"metadata\":{}},{\"name\":\"value\",\"type\":\"long\",\"nullable\":true,\"metadata\":{}}]},\"nullable\":true,\"metadata\":{}},{\"name\":\"value\",\"type\":\"long\",\"nullable\":true,\"metadata\":{}}]},\"nullable\":true,\"metadata\":{}},{\"name\":\"monochrome\",\"type\":{\"type\":\"struct\",\"fields\":[{\"name\":\"description\",\"type\":\"string\",\"nullable\":true,\"metadata\":{}},{\"name\":\"value\",\"type\":\"long\",\"nullable\":true,\"metadata\":{}}]},\"nullable\":true,\"metadata\":{}}]},\"nullable\":true,\"metadata\":{}},{\"name\":\"value\",\"type\":\"long\",\"nullable\":true,\"metadata\":{}}]},\"nullable\":true,\"metadata\":{}},{\"name\":\"value\",\"type\":\"long\",\"nullable\":true,\"metadata\":{}}]},\"nullable\":true,\"metadata\":{}}]},\"nullable\":true,\"metadata\":{}}]},\"nullable\":true,\"metadata\":{}},{\"name\":\"send\",\"type\":{\"type\":\"struct\",\"fields\":[{\"name\":\"JOBTYPE\",\"type\":{\"type\":\"struct\",\"fields\":[{\"name\":\"faxSend\",\"type\":{\"type\":\"struct\",\"fields\":[{\"name\":\"COLORTYPE\",\"type\":{\"type\":\"struct\",\"fields\":[{\"name\":\"monochrome\",\"type\":{\"type\":\"struct\",\"fields\":[{\"name\":\"value\",\"type\":\"long\",\"nullable\":true,\"metadata\":{}}]},\"nullable\":true,\"metadata\":{}}]},\"nullable\":true,\"metadata\":{}},{\"name\":\"fax1Send\",\"type\":{\"type\":\"struct\",\"fields\":[{\"name\":\"COLORTYPE\",\"type\":{\"type\":\"struct\",\"fields\":[{\"name\":\"monochrome\",\"type\":{\"type\":\"struct\",\"fields\":[{\"name\":\"value\",\"type\":\"long\",\"nullable\":true,\"metadata\":{}}]},\"nullable\":true,\"metadata\":{}}]},\"nullable\":true,\"metadata\":{}},{\"name\":\"value\",\"type\":\"long\",\"nullable\":true,\"metadata\":{}}]},\"nullable\":true,\"metadata\":{}},{\"name\":\"fax2Send\",\"type\":{\"type\":\"struct\",\"fields\":[{\"name\":\"COLORTYPE\",\"type\":{\"type\":\"struct\",\"fields\":[{\"name\":\"monochrome\",\"type\":{\"type\":\"struct\",\"fields\":[{\"name\":\"value\",\"type\":\"long\",\"nullable\":true,\"metadata\":{}}]},\"nullable\":true,\"metadata\":{}}]},\"nullable\":true,\"metadata\":{}},{\"name\":\"value\",\"type\":\"long\",\"nullable\":true,\"metadata\":{}}]},\"nullable\":true,\"metadata\":{}},{\"name\":\"fax3Send\",\"type\":{\"type\":\"struct\",\"fields\":[{\"name\":\"COLORTYPE\",\"type\":{\"type\":\"struct\",\"fields\":[{\"name\":\"monochrome\",\"type\":{\"type\":\"struct\",\"fields\":[{\"name\":\"value\",\"type\":\"long\",\"nullable\":true,\"metadata\":{}}]},\"nullable\":true,\"metadata\":{}}]},\"nullable\":true,\"metadata\":{}},{\"name\":\"value\",\"type\":\"long\",\"nullable\":true,\"metadata\":{}}]},\"nullable\":true,\"metadata\":{}},{\"name\":\"value\",\"type\":\"long\",\"nullable\":true,\"metadata\":{}}]},\"nullable\":true,\"metadata\":{}},{\"name\":\"internetFaxSend\",\"type\":{\"type\":\"struct\",\"fields\":[{\"name\":\"COLORTYPE\",\"type\":{\"type\":\"struct\",\"fields\":[{\"name\":\"monochrome\",\"type\":{\"type\":\"struct\",\"fields\":[{\"name\":\"value\",\"type\":\"long\",\"nullable\":true,\"metadata\":{}}]},\"nullable\":true,\"metadata\":{}}]},\"nullable\":true,\"metadata\":{}},{\"name\":\"value\",\"type\":\"long\",\"nullable\":true,\"metadata\":{}}]},\"nullable\":true,\"metadata\":{}},{\"name\":\"scanToEmail\",\"type\":{\"type\":\"struct\",\"fields\":[{\"name\":\"COLORTYPE\",\"type\":{\"type\":\"struct\",\"fields\":[{\"name\":\"color\",\"type\":{\"type\":\"struct\",\"fields\":[{\"name\":\"fullcolor\",\"type\":{\"type\":\"struct\",\"fields\":[{\"name\":\"value\",\"type\":\"long\",\"nullable\":true,\"metadata\":{}}]},\"nullable\":true,\"metadata\":{}},{\"name\":\"value\",\"type\":\"long\",\"nullable\":true,\"metadata\":{}}]},\"nullable\":true,\"metadata\":{}},{\"name\":\"monochrome\",\"type\":{\"type\":\"struct\",\"fields\":[{\"name\":\"value\",\"type\":\"long\",\"nullable\":true,\"metadata\":{}}]},\"nullable\":true,\"metadata\":{}}]},\"nullable\":true,\"metadata\":{}},{\"name\":\"value\",\"type\":\"long\",\"nullable\":true,\"metadata\":{}}]},\"nullable\":true,\"metadata\":{}},{\"name\":\"scanToHDD\",\"type\":{\"type\":\"struct\",\"fields\":[{\"name\":\"COLORTYPE\",\"type\":{\"type\":\"struct\",\"fields\":[{\"name\":\"color\",\"type\":{\"type\":\"struct\",\"fields\":[{\"name\":\"fullcolor\",\"type\":{\"type\":\"struct\",\"fields\":[{\"name\":\"value\",\"type\":\"long\",\"nullable\":true,\"metadata\":{}}]},\"nullable\":true,\"metadata\":{}},{\"name\":\"twocolor\",\"type\":{\"type\":\"struct\",\"fields\":[{\"name\":\"value\",\"type\":\"long\",\"nullable\":true,\"metadata\":{}}]},\"nullable\":true,\"metadata\":{}},{\"name\":\"value\",\"type\":\"long\",\"nullable\":true,\"metadata\":{}}]},\"nullable\":true,\"metadata\":{}},{\"name\":\"monochrome\",\"type\":{\"type\":\"struct\",\"fields\":[{\"name\":\"value\",\"type\":\"long\",\"nullable\":true,\"metadata\":{}}]},\"nullable\":true,\"metadata\":{}}]},\"nullable\":true,\"metadata\":{}},{\"name\":\"value\",\"type\":\"long\",\"nullable\":true,\"metadata\":{}}]},\"nullable\":true,\"metadata\":{}}]},\"nullable\":true,\"metadata\":{}}]},\"nullable\":true,\"metadata\":{}}]},\"nullable\":true,\"metadata\":{}},{\"name\":\"duplex\",\"type\":{\"type\":\"struct\",\"fields\":[{\"name\":\"value\",\"type\":\"long\",\"nullable\":true,\"metadata\":{}}]},\"nullable\":true,\"metadata\":{}},{\"name\":\"feeder\",\"type\":{\"type\":\"struct\",\"fields\":[{\"name\":\"value\",\"type\":\"long\",\"nullable\":true,\"metadata\":{}}]},\"nullable\":true,\"metadata\":{}},{\"name\":\"lifeCount\",\"type\":{\"type\":\"struct\",\"fields\":[{\"name\":\"type\",\"type\":\"string\",\"nullable\":true,\"metadata\":{}},{\"name\":\"unit\",\"type\":\"string\",\"nullable\":true,\"metadata\":{}},{\"name\":\"value\",\"type\":\"long\",\"nullable\":true,\"metadata\":{}}]},\"nullable\":true,\"metadata\":{}},{\"name\":\"postcard\",\"type\":{\"type\":\"struct\",\"fields\":[{\"name\":\"output\",\"type\":{\"type\":\"struct\",\"fields\":[{\"name\":\"COLORTYPE\",\"type\":{\"type\":\"struct\",\"fields\":[{\"name\":\"color\",\"type\":{\"type\":\"struct\",\"fields\":[{\"name\":\"fullcolor\",\"type\":{\"type\":\"struct\",\"fields\":[{\"name\":\"value\",\"type\":\"long\",\"nullable\":true,\"metadata\":{}}]},\"nullable\":true,\"metadata\":{}},{\"name\":\"singlecolor\",\"type\":{\"type\":\"struct\",\"fields\":[{\"name\":\"value\",\"type\":\"long\",\"nullable\":true,\"metadata\":{}}]},\"nullable\":true,\"metadata\":{}},{\"name\":\"threecolor\",\"type\":{\"type\":\"struct\",\"fields\":[{\"name\":\"value\",\"type\":\"long\",\"nullable\":true,\"metadata\":{}}]},\"nullable\":true,\"metadata\":{}},{\"name\":\"twocolor\",\"type\":{\"type\":\"struct\",\"fields\":[{\"name\":\"value\",\"type\":\"long\",\"nullable\":true,\"metadata\":{}}]},\"nullable\":true,\"metadata\":{}},{\"name\":\"value\",\"type\":\"long\",\"nullable\":true,\"metadata\":{}}]},\"nullable\":true,\"metadata\":{}},{\"name\":\"monochrome\",\"type\":{\"type\":\"struct\",\"fields\":[{\"name\":\"value\",\"type\":\"long\",\"nullable\":true,\"metadata\":{}}]},\"nullable\":true,\"metadata\":{}}]},\"nullable\":true,\"metadata\":{}},{\"name\":\"JOBTYPE\",\"type\":{\"type\":\"struct\",\"fields\":[{\"name\":\"copies\",\"type\":{\"type\":\"struct\",\"fields\":[{\"name\":\"COLORTYPE\",\"type\":{\"type\":\"struct\",\"fields\":[{\"name\":\"color\",\"type\":{\"type\":\"struct\",\"fields\":[{\"name\":\"fullcolor\",\"type\":{\"type\":\"struct\",\"fields\":[{\"name\":\"value\",\"type\":\"long\",\"nullable\":true,\"metadata\":{}}]},\"nullable\":true,\"metadata\":{}},{\"name\":\"singlecolor\",\"type\":{\"type\":\"struct\",\"fields\":[{\"name\":\"value\",\"type\":\"long\",\"nullable\":true,\"metadata\":{}}]},\"nullable\":true,\"metadata\":{}},{\"name\":\"twocolor\",\"type\":{\"type\":\"struct\",\"fields\":[{\"name\":\"value\",\"type\":\"long\",\"nullable\":true,\"metadata\":{}}]},\"nullable\":true,\"metadata\":{}},{\"name\":\"value\",\"type\":\"long\",\"nullable\":true,\"metadata\":{}}]},\"nullable\":true,\"metadata\":{}},{\"name\":\"monochrome\",\"type\":{\"type\":\"struct\",\"fields\":[{\"name\":\"value\",\"type\":\"long\",\"nullable\":true,\"metadata\":{}}]},\"nullable\":true,\"metadata\":{}}]},\"nullable\":true,\"metadata\":{}},{\"name\":\"UC0\",\"type\":{\"type\":\"struct\",\"fields\":[{\"name\":\"COLORTYPE\",\"type\":{\"type\":\"struct\",\"fields\":[{\"name\":\"color\",\"type\":{\"type\":\"struct\",\"fields\":[{\"name\":\"fullcolor\",\"type\":{\"type\":\"struct\",\"fields\":[{\"name\":\"description\",\"type\":\"string\",\"nullable\":true,\"metadata\":{}},{\"name\":\"value\",\"type\":\"long\",\"nullable\":true,\"metadata\":{}}]},\"nullable\":true,\"metadata\":{}},{\"name\":\"singlecolor\",\"type\":{\"type\":\"struct\",\"fields\":[{\"name\":\"description\",\"type\":\"string\",\"nullable\":true,\"metadata\":{}},{\"name\":\"value\",\"type\":\"long\",\"nullable\":true,\"metadata\":{}}]},\"nullable\":true,\"metadata\":{}},{\"name\":\"twocolor\",\"type\":{\"type\":\"struct\",\"fields\":[{\"name\":\"description\",\"type\":\"string\",\"nullable\":true,\"metadata\":{}},{\"name\":\"value\",\"type\":\"long\",\"nullable\":true,\"metadata\":{}}]},\"nullable\":true,\"metadata\":{}},{\"name\":\"value\",\"type\":\"long\",\"nullable\":true,\"metadata\":{}}]},\"nullable\":true,\"metadata\":{}},{\"name\":\"monochrome\",\"type\":{\"type\":\"struct\",\"fields\":[{\"name\":\"description\",\"type\":\"string\",\"nullable\":true,\"metadata\":{}},{\"name\":\"value\",\"type\":\"long\",\"nullable\":true,\"metadata\":{}}]},\"nullable\":true,\"metadata\":{}}]},\"nullable\":true,\"metadata\":{}},{\"name\":\"value\",\"type\":\"long\",\"nullable\":true,\"metadata\":{}}]},\"nullable\":true,\"metadata\":{}},{\"name\":\"UC1\",\"type\":{\"type\":\"struct\",\"fields\":[{\"name\":\"COLORTYPE\",\"type\":{\"type\":\"struct\",\"fields\":[{\"name\":\"color\",\"type\":{\"type\":\"struct\",\"fields\":[{\"name\":\"fullcolor\",\"type\":{\"type\":\"struct\",\"fields\":[{\"name\":\"description\",\"type\":\"string\",\"nullable\":true,\"metadata\":{}},{\"name\":\"value\",\"type\":\"long\",\"nullable\":true,\"metadata\":{}}]},\"nullable\":true,\"metadata\":{}},{\"name\":\"singlecolor\",\"type\":{\"type\":\"struct\",\"fields\":[{\"name\":\"description\",\"type\":\"string\",\"nullable\":true,\"metadata\":{}},{\"name\":\"value\",\"type\":\"long\",\"nullable\":true,\"metadata\":{}}]},\"nullable\":true,\"metadata\":{}},{\"name\":\"twocolor\",\"type\":{\"type\":\"struct\",\"fields\":[{\"name\":\"description\",\"type\":\"string\",\"nullable\":true,\"metadata\":{}},{\"name\":\"value\",\"type\":\"long\",\"nullable\":true,\"metadata\":{}}]},\"nullable\":true,\"metadata\":{}},{\"name\":\"value\",\"type\":\"long\",\"nullable\":true,\"metadata\":{}}]},\"nullable\":true,\"metadata\":{}},{\"name\":\"monochrome\",\"type\":{\"type\":\"struct\",\"fields\":[{\"name\":\"description\",\"type\":\"string\",\"nullable\":true,\"metadata\":{}},{\"name\":\"value\",\"type\":\"long\",\"nullable\":true,\"metadata\":{}}]},\"nullable\":true,\"metadata\":{}}]},\"nullable\":true,\"metadata\":{}},{\"name\":\"value\",\"type\":\"long\",\"nullable\":true,\"metadata\":{}}]},\"nullable\":true,\"metadata\":{}},{\"name\":\"UC2\",\"type\":{\"type\":\"struct\",\"fields\":[{\"name\":\"COLORTYPE\",\"type\":{\"type\":\"struct\",\"fields\":[{\"name\":\"color\",\"type\":{\"type\":\"struct\",\"fields\":[{\"name\":\"fullcolor\",\"type\":{\"type\":\"struct\",\"fields\":[{\"name\":\"description\",\"type\":\"string\",\"nullable\":true,\"metadata\":{}},{\"name\":\"value\",\"type\":\"long\",\"nullable\":true,\"metadata\":{}}]},\"nullable\":true,\"metadata\":{}},{\"name\":\"singlecolor\",\"type\":{\"type\":\"struct\",\"fields\":[{\"name\":\"description\",\"type\":\"string\",\"nullable\":true,\"metadata\":{}},{\"name\":\"value\",\"type\":\"long\",\"nullable\":true,\"metadata\":{}}]},\"nullable\":true,\"metadata\":{}},{\"name\":\"twocolor\",\"type\":{\"type\":\"struct\",\"fields\":[{\"name\":\"description\",\"type\":\"string\",\"nullable\":true,\"metadata\":{}},{\"name\":\"value\",\"type\":\"long\",\"nullable\":true,\"metadata\":{}}]},\"nullable\":true,\"metadata\":{}},{\"name\":\"value\",\"type\":\"long\",\"nullable\":true,\"metadata\":{}}]},\"nullable\":true,\"metadata\":{}},{\"name\":\"monochrome\",\"type\":{\"type\":\"struct\",\"fields\":[{\"name\":\"description\",\"type\":\"string\",\"nullable\":true,\"metadata\":{}},{\"name\":\"value\",\"type\":\"long\",\"nullable\":true,\"metadata\":{}}]},\"nullable\":true,\"metadata\":{}}]},\"nullable\":true,\"metadata\":{}},{\"name\":\"value\",\"type\":\"long\",\"nullable\":true,\"metadata\":{}}]},\"nullable\":true,\"metadata\":{}},{\"name\":\"UC3\",\"type\":{\"type\":\"struct\",\"fields\":[{\"name\":\"COLORTYPE\",\"type\":{\"type\":\"struct\",\"fields\":[{\"name\":\"color\",\"type\":{\"type\":\"struct\",\"fields\":[{\"name\":\"fullcolor\",\"type\":{\"type\":\"struct\",\"fields\":[{\"name\":\"description\",\"type\":\"string\",\"nullable\":true,\"metadata\":{}},{\"name\":\"value\",\"type\":\"long\",\"nullable\":true,\"metadata\":{}}]},\"nullable\":true,\"metadata\":{}},{\"name\":\"singlecolor\",\"type\":{\"type\":\"struct\",\"fields\":[{\"name\":\"description\",\"type\":\"string\",\"nullable\":true,\"metadata\":{}},{\"name\":\"value\",\"type\":\"long\",\"nullable\":true,\"metadata\":{}}]},\"nullable\":true,\"metadata\":{}},{\"name\":\"twocolor\",\"type\":{\"type\":\"struct\",\"fields\":[{\"name\":\"description\",\"type\":\"string\",\"nullable\":true,\"metadata\":{}},{\"name\":\"value\",\"type\":\"long\",\"nullable\":true,\"metadata\":{}}]},\"nullable\":true,\"metadata\":{}},{\"name\":\"value\",\"type\":\"long\",\"nullable\":true,\"metadata\":{}}]},\"nullable\":true,\"metadata\":{}},{\"name\":\"monochrome\",\"type\":{\"type\":\"struct\",\"fields\":[{\"name\":\"description\",\"type\":\"string\",\"nullable\":true,\"metadata\":{}},{\"name\":\"value\",\"type\":\"long\",\"nullable\":true,\"metadata\":{}}]},\"nullable\":true,\"metadata\":{}}]},\"nullable\":true,\"metadata\":{}},{\"name\":\"value\",\"type\":\"long\",\"nullable\":true,\"metadata\":{}}]},\"nullable\":true,\"metadata\":{}},{\"name\":\"value\",\"type\":\"long\",\"nullable\":true,\"metadata\":{}}]},\"nullable\":true,\"metadata\":{}},{\"name\":\"filingData\",\"type\":{\"type\":\"struct\",\"fields\":[{\"name\":\"COLORTYPE\",\"type\":{\"type\":\"struct\",\"fields\":[{\"name\":\"color\",\"type\":{\"type\":\"struct\",\"fields\":[{\"name\":\"fullcolor\",\"type\":{\"type\":\"struct\",\"fields\":[{\"name\":\"value\",\"type\":\"long\",\"nullable\":true,\"metadata\":{}}]},\"nullable\":true,\"metadata\":{}},{\"name\":\"singlecolor\",\"type\":{\"type\":\"struct\",\"fields\":[{\"name\":\"value\",\"type\":\"long\",\"nullable\":true,\"metadata\":{}}]},\"nullable\":true,\"metadata\":{}},{\"name\":\"twocolor\",\"type\":{\"type\":\"struct\",\"fields\":[{\"name\":\"value\",\"type\":\"long\",\"nullable\":true,\"metadata\":{}}]},\"nullable\":true,\"metadata\":{}},{\"name\":\"value\",\"type\":\"long\",\"nullable\":true,\"metadata\":{}}]},\"nullable\":true,\"metadata\":{}},{\"name\":\"monochrome\",\"type\":{\"type\":\"struct\",\"fields\":[{\"name\":\"value\",\"type\":\"long\",\"nullable\":true,\"metadata\":{}}]},\"nullable\":true,\"metadata\":{}}]},\"nullable\":true,\"metadata\":{}},{\"name\":\"UC0\",\"type\":{\"type\":\"struct\",\"fields\":[{\"name\":\"COLORTYPE\",\"type\":{\"type\":\"struct\",\"fields\":[{\"name\":\"color\",\"type\":{\"type\":\"struct\",\"fields\":[{\"name\":\"fullcolor\",\"type\":{\"type\":\"struct\",\"fields\":[{\"name\":\"description\",\"type\":\"string\",\"nullable\":true,\"metadata\":{}},{\"name\":\"value\",\"type\":\"long\",\"nullable\":true,\"metadata\":{}}]},\"nullable\":true,\"metadata\":{}},{\"name\":\"singlecolor\",\"type\":{\"type\":\"struct\",\"fields\":[{\"name\":\"description\",\"type\":\"string\",\"nullable\":true,\"metadata\":{}},{\"name\":\"value\",\"type\":\"long\",\"nullable\":true,\"metadata\":{}}]},\"nullable\":true,\"metadata\":{}},{\"name\":\"twocolor\",\"type\":{\"type\":\"struct\",\"fields\":[{\"name\":\"description\",\"type\":\"string\",\"nullable\":true,\"metadata\":{}},{\"name\":\"value\",\"type\":\"long\",\"nullable\":true,\"metadata\":{}}]},\"nullable\":true,\"metadata\":{}},{\"name\":\"value\",\"type\":\"long\",\"nullable\":true,\"metadata\":{}}]},\"nullable\":true,\"metadata\":{}},{\"name\":\"monochrome\",\"type\":{\"type\":\"struct\",\"fields\":[{\"name\":\"description\",\"type\":\"string\",\"nullable\":true,\"metadata\":{}},{\"name\":\"value\",\"type\":\"long\",\"nullable\":true,\"metadata\":{}}]},\"nullable\":true,\"metadata\":{}}]},\"nullable\":true,\"metadata\":{}},{\"name\":\"value\",\"type\":\"long\",\"nullable\":true,\"metadata\":{}}]},\"nullable\":true,\"metadata\":{}},{\"name\":\"UC1\",\"type\":{\"type\":\"struct\",\"fields\":[{\"name\":\"COLORTYPE\",\"type\":{\"type\":\"struct\",\"fields\":[{\"name\":\"color\",\"type\":{\"type\":\"struct\",\"fields\":[{\"name\":\"fullcolor\",\"type\":{\"type\":\"struct\",\"fields\":[{\"name\":\"description\",\"type\":\"string\",\"nullable\":true,\"metadata\":{}},{\"name\":\"value\",\"type\":\"long\",\"nullable\":true,\"metadata\":{}}]},\"nullable\":true,\"metadata\":{}},{\"name\":\"singlecolor\",\"type\":{\"type\":\"struct\",\"fields\":[{\"name\":\"description\",\"type\":\"string\",\"nullable\":true,\"metadata\":{}},{\"name\":\"value\",\"type\":\"long\",\"nullable\":true,\"metadata\":{}}]},\"nullable\":true,\"metadata\":{}},{\"name\":\"twocolor\",\"type\":{\"type\":\"struct\",\"fields\":[{\"name\":\"description\",\"type\":\"string\",\"nullable\":true,\"metadata\":{}},{\"name\":\"value\",\"type\":\"long\",\"nullable\":true,\"metadata\":{}}]},\"nullable\":true,\"metadata\":{}},{\"name\":\"value\",\"type\":\"long\",\"nullable\":true,\"metadata\":{}}]},\"nullable\":true,\"metadata\":{}},{\"name\":\"monochrome\",\"type\":{\"type\":\"struct\",\"fields\":[{\"name\":\"description\",\"type\":\"string\",\"nullable\":true,\"metadata\":{}},{\"name\":\"value\",\"type\":\"long\",\"nullable\":true,\"metadata\":{}}]},\"nullable\":true,\"metadata\":{}}]},\"nullable\":true,\"metadata\":{}},{\"name\":\"value\",\"type\":\"long\",\"nullable\":true,\"metadata\":{}}]},\"nullable\":true,\"metadata\":{}},{\"name\":\"UC2\",\"type\":{\"type\":\"struct\",\"fields\":[{\"name\":\"COLORTYPE\",\"type\":{\"type\":\"struct\",\"fields\":[{\"name\":\"color\",\"type\":{\"type\":\"struct\",\"fields\":[{\"name\":\"fullcolor\",\"type\":{\"type\":\"struct\",\"fields\":[{\"name\":\"description\",\"type\":\"string\",\"nullable\":true,\"metadata\":{}},{\"name\":\"value\",\"type\":\"long\",\"nullable\":true,\"metadata\":{}}]},\"nullable\":true,\"metadata\":{}},{\"name\":\"singlecolor\",\"type\":{\"type\":\"struct\",\"fields\":[{\"name\":\"description\",\"type\":\"string\",\"nullable\":true,\"metadata\":{}},{\"name\":\"value\",\"type\":\"long\",\"nullable\":true,\"metadata\":{}}]},\"nullable\":true,\"metadata\":{}},{\"name\":\"twocolor\",\"type\":{\"type\":\"struct\",\"fields\":[{\"name\":\"description\",\"type\":\"string\",\"nullable\":true,\"metadata\":{}},{\"name\":\"value\",\"type\":\"long\",\"nullable\":true,\"metadata\":{}}]},\"nullable\":true,\"metadata\":{}},{\"name\":\"value\",\"type\":\"long\",\"nullable\":true,\"metadata\":{}}]},\"nullable\":true,\"metadata\":{}},{\"name\":\"monochrome\",\"type\":{\"type\":\"struct\",\"fields\":[{\"name\":\"description\",\"type\":\"string\",\"nullable\":true,\"metadata\":{}},{\"name\":\"value\",\"type\":\"long\",\"nullable\":true,\"metadata\":{}}]},\"nullable\":true,\"metadata\":{}}]},\"nullable\":true,\"metadata\":{}},{\"name\":\"value\",\"type\":\"long\",\"nullable\":true,\"metadata\":{}}]},\"nullable\":true,\"metadata\":{}},{\"name\":\"UC3\",\"type\":{\"type\":\"struct\",\"fields\":[{\"name\":\"COLORTYPE\",\"type\":{\"type\":\"struct\",\"fields\":[{\"name\":\"color\",\"type\":{\"type\":\"struct\",\"fields\":[{\"name\":\"fullcolor\",\"type\":{\"type\":\"struct\",\"fields\":[{\"name\":\"description\",\"type\":\"string\",\"nullable\":true,\"metadata\":{}},{\"name\":\"value\",\"type\":\"long\",\"nullable\":true,\"metadata\":{}}]},\"nullable\":true,\"metadata\":{}},{\"name\":\"singlecolor\",\"type\":{\"type\":\"struct\",\"fields\":[{\"name\":\"description\",\"type\":\"string\",\"nullable\":true,\"metadata\":{}},{\"name\":\"value\",\"type\":\"long\",\"nullable\":true,\"metadata\":{}}]},\"nullable\":true,\"metadata\":{}},{\"name\":\"twocolor\",\"type\":{\"type\":\"struct\",\"fields\":[{\"name\":\"description\",\"type\":\"string\",\"nullable\":true,\"metadata\":{}},{\"name\":\"value\",\"type\":\"long\",\"nullable\":true,\"metadata\":{}}]},\"nullable\":true,\"metadata\":{}},{\"name\":\"value\",\"type\":\"long\",\"nullable\":true,\"metadata\":{}}]},\"nullable\":true,\"metadata\":{}},{\"name\":\"monochrome\",\"type\":{\"type\":\"struct\",\"fields\":[{\"name\":\"description\",\"type\":\"string\",\"nullable\":true,\"metadata\":{}},{\"name\":\"value\",\"type\":\"long\",\"nullable\":true,\"metadata\":{}}]},\"nullable\":true,\"metadata\":{}}]},\"nullable\":true,\"metadata\":{}},{\"name\":\"value\",\"type\":\"long\",\"nullable\":true,\"metadata\":{}}]},\"nullable\":true,\"metadata\":{}},{\"name\":\"value\",\"type\":\"long\",\"nullable\":true,\"metadata\":{}}]},\"nullable\":true,\"metadata\":{}},{\"name\":\"prints\",\"type\":{\"type\":\"struct\",\"fields\":[{\"name\":\"COLORTYPE\",\"type\":{\"type\":\"struct\",\"fields\":[{\"name\":\"color\",\"type\":{\"type\":\"struct\",\"fields\":[{\"name\":\"fullcolor\",\"type\":{\"type\":\"struct\",\"fields\":[{\"name\":\"value\",\"type\":\"long\",\"nullable\":true,\"metadata\":{}}]},\"nullable\":true,\"metadata\":{}},{\"name\":\"singlecolor\",\"type\":{\"type\":\"struct\",\"fields\":[{\"name\":\"value\",\"type\":\"long\",\"nullable\":true,\"metadata\":{}}]},\"nullable\":true,\"metadata\":{}},{\"name\":\"threecolor\",\"type\":{\"type\":\"struct\",\"fields\":[{\"name\":\"value\",\"type\":\"long\",\"nullable\":true,\"metadata\":{}}]},\"nullable\":true,\"metadata\":{}},{\"name\":\"twocolor\",\"type\":{\"type\":\"struct\",\"fields\":[{\"name\":\"value\",\"type\":\"long\",\"nullable\":true,\"metadata\":{}}]},\"nullable\":true,\"metadata\":{}},{\"name\":\"value\",\"type\":\"long\",\"nullable\":true,\"metadata\":{}}]},\"nullable\":true,\"metadata\":{}},{\"name\":\"monochrome\",\"type\":{\"type\":\"struct\",\"fields\":[{\"name\":\"value\",\"type\":\"long\",\"nullable\":true,\"metadata\":{}}]},\"nullable\":true,\"metadata\":{}}]},\"nullable\":true,\"metadata\":{}},{\"name\":\"UC0\",\"type\":{\"type\":\"struct\",\"fields\":[{\"name\":\"COLORTYPE\",\"type\":{\"type\":\"struct\",\"fields\":[{\"name\":\"color\",\"type\":{\"type\":\"struct\",\"fields\":[{\"name\":\"fullcolor\",\"type\":{\"type\":\"struct\",\"fields\":[{\"name\":\"description\",\"type\":\"string\",\"nullable\":true,\"metadata\":{}},{\"name\":\"value\",\"type\":\"long\",\"nullable\":true,\"metadata\":{}}]},\"nullable\":true,\"metadata\":{}},{\"name\":\"singlecolor\",\"type\":{\"type\":\"struct\",\"fields\":[{\"name\":\"description\",\"type\":\"string\",\"nullable\":true,\"metadata\":{}},{\"name\":\"value\",\"type\":\"long\",\"nullable\":true,\"metadata\":{}}]},\"nullable\":true,\"metadata\":{}},{\"name\":\"threecolor\",\"type\":{\"type\":\"struct\",\"fields\":[{\"name\":\"description\",\"type\":\"string\",\"nullable\":true,\"metadata\":{}},{\"name\":\"value\",\"type\":\"long\",\"nullable\":true,\"metadata\":{}}]},\"nullable\":true,\"metadata\":{}},{\"name\":\"twocolor\",\"type\":{\"type\":\"struct\",\"fields\":[{\"name\":\"description\",\"type\":\"string\",\"nullable\":true,\"metadata\":{}},{\"name\":\"value\",\"type\":\"long\",\"nullable\":true,\"metadata\":{}}]},\"nullable\":true,\"metadata\":{}},{\"name\":\"value\",\"type\":\"long\",\"nullable\":true,\"metadata\":{}}]},\"nullable\":true,\"metadata\":{}},{\"name\":\"monochrome\",\"type\":{\"type\":\"struct\",\"fields\":[{\"name\":\"description\",\"type\":\"string\",\"nullable\":true,\"metadata\":{}},{\"name\":\"value\",\"type\":\"long\",\"nullable\":true,\"metadata\":{}}]},\"nullable\":true,\"metadata\":{}}]},\"nullable\":true,\"metadata\":{}},{\"name\":\"value\",\"type\":\"long\",\"nullable\":true,\"metadata\":{}}]},\"nullable\":true,\"metadata\":{}},{\"name\":\"UC1\",\"type\":{\"type\":\"struct\",\"fields\":[{\"name\":\"COLORTYPE\",\"type\":{\"type\":\"struct\",\"fields\":[{\"name\":\"color\",\"type\":{\"type\":\"struct\",\"fields\":[{\"name\":\"fullcolor\",\"type\":{\"type\":\"struct\",\"fields\":[{\"name\":\"description\",\"type\":\"string\",\"nullable\":true,\"metadata\":{}},{\"name\":\"value\",\"type\":\"long\",\"nullable\":true,\"metadata\":{}}]},\"nullable\":true,\"metadata\":{}},{\"name\":\"singlecolor\",\"type\":{\"type\":\"struct\",\"fields\":[{\"name\":\"description\",\"type\":\"string\",\"nullable\":true,\"metadata\":{}},{\"name\":\"value\",\"type\":\"long\",\"nullable\":true,\"metadata\":{}}]},\"nullable\":true,\"metadata\":{}},{\"name\":\"threecolor\",\"type\":{\"type\":\"struct\",\"fields\":[{\"name\":\"description\",\"type\":\"string\",\"nullable\":true,\"metadata\":{}},{\"name\":\"value\",\"type\":\"long\",\"nullable\":true,\"metadata\":{}}]},\"nullable\":true,\"metadata\":{}},{\"name\":\"twocolor\",\"type\":{\"type\":\"struct\",\"fields\":[{\"name\":\"description\",\"type\":\"string\",\"nullable\":true,\"metadata\":{}},{\"name\":\"value\",\"type\":\"long\",\"nullable\":true,\"metadata\":{}}]},\"nullable\":true,\"metadata\":{}},{\"name\":\"value\",\"type\":\"long\",\"nullable\":true,\"metadata\":{}}]},\"nullable\":true,\"metadata\":{}},{\"name\":\"monochrome\",\"type\":{\"type\":\"struct\",\"fields\":[{\"name\":\"description\",\"type\":\"string\",\"nullable\":true,\"metadata\":{}},{\"name\":\"value\",\"type\":\"long\",\"nullable\":true,\"metadata\":{}}]},\"nullable\":true,\"metadata\":{}}]},\"nullable\":true,\"metadata\":{}},{\"name\":\"value\",\"type\":\"long\",\"nullable\":true,\"metadata\":{}}]},\"nullable\":true,\"metadata\":{}},{\"name\":\"UC2\",\"type\":{\"type\":\"struct\",\"fields\":[{\"name\":\"COLORTYPE\",\"type\":{\"type\":\"struct\",\"fields\":[{\"name\":\"color\",\"type\":{\"type\":\"struct\",\"fields\":[{\"name\":\"fullcolor\",\"type\":{\"type\":\"struct\",\"fields\":[{\"name\":\"description\",\"type\":\"string\",\"nullable\":true,\"metadata\":{}},{\"name\":\"value\",\"type\":\"long\",\"nullable\":true,\"metadata\":{}}]},\"nullable\":true,\"metadata\":{}},{\"name\":\"singlecolor\",\"type\":{\"type\":\"struct\",\"fields\":[{\"name\":\"description\",\"type\":\"string\",\"nullable\":true,\"metadata\":{}},{\"name\":\"value\",\"type\":\"long\",\"nullable\":true,\"metadata\":{}}]},\"nullable\":true,\"metadata\":{}},{\"name\":\"threecolor\",\"type\":{\"type\":\"struct\",\"fields\":[{\"name\":\"description\",\"type\":\"string\",\"nullable\":true,\"metadata\":{}},{\"name\":\"value\",\"type\":\"long\",\"nullable\":true,\"metadata\":{}}]},\"nullable\":true,\"metadata\":{}},{\"name\":\"twocolor\",\"type\":{\"type\":\"struct\",\"fields\":[{\"name\":\"description\",\"type\":\"string\",\"nullable\":true,\"metadata\":{}},{\"name\":\"value\",\"type\":\"long\",\"nullable\":true,\"metadata\":{}}]},\"nullable\":true,\"metadata\":{}},{\"name\":\"value\",\"type\":\"long\",\"nullable\":true,\"metadata\":{}}]},\"nullable\":true,\"metadata\":{}},{\"name\":\"monochrome\",\"type\":{\"type\":\"struct\",\"fields\":[{\"name\":\"description\",\"type\":\"string\",\"nullable\":true,\"metadata\":{}},{\"name\":\"value\",\"type\":\"long\",\"nullable\":true,\"metadata\":{}}]},\"nullable\":true,\"metadata\":{}}]},\"nullable\":true,\"metadata\":{}},{\"name\":\"value\",\"type\":\"long\",\"nullable\":true,\"metadata\":{}}]},\"nullable\":true,\"metadata\":{}},{\"name\":\"UC3\",\"type\":{\"type\":\"struct\",\"fields\":[{\"name\":\"COLORTYPE\",\"type\":{\"type\":\"struct\",\"fields\":[{\"name\":\"color\",\"type\":{\"type\":\"struct\",\"fields\":[{\"name\":\"fullcolor\",\"type\":{\"type\":\"struct\",\"fields\":[{\"name\":\"description\",\"type\":\"string\",\"nullable\":true,\"metadata\":{}},{\"name\":\"value\",\"type\":\"long\",\"nullable\":true,\"metadata\":{}}]},\"nullable\":true,\"metadata\":{}},{\"name\":\"singlecolor\",\"type\":{\"type\":\"struct\",\"fields\":[{\"name\":\"description\",\"type\":\"string\",\"nullable\":true,\"metadata\":{}},{\"name\":\"value\",\"type\":\"long\",\"nullable\":true,\"metadata\":{}}]},\"nullable\":true,\"metadata\":{}},{\"name\":\"threecolor\",\"type\":{\"type\":\"struct\",\"fields\":[{\"name\":\"description\",\"type\":\"string\",\"nullable\":true,\"metadata\":{}},{\"name\":\"value\",\"type\":\"long\",\"nullable\":true,\"metadata\":{}}]},\"nullable\":true,\"metadata\":{}},{\"name\":\"twocolor\",\"type\":{\"type\":\"struct\",\"fields\":[{\"name\":\"description\",\"type\":\"string\",\"nullable\":true,\"metadata\":{}},{\"name\":\"value\",\"type\":\"long\",\"nullable\":true,\"metadata\":{}}]},\"nullable\":true,\"metadata\":{}},{\"name\":\"value\",\"type\":\"long\",\"nullable\":true,\"metadata\":{}}]},\"nullable\":true,\"metadata\":{}},{\"name\":\"monochrome\",\"type\":{\"type\":\"struct\",\"fields\":[{\"name\":\"description\",\"type\":\"string\",\"nullable\":true,\"metadata\":{}},{\"name\":\"value\",\"type\":\"long\",\"nullable\":true,\"metadata\":{}}]},\"nullable\":true,\"metadata\":{}}]},\"nullable\":true,\"metadata\":{}},{\"name\":\"value\",\"type\":\"long\",\"nullable\":true,\"metadata\":{}}]},\"nullable\":true,\"metadata\":{}},{\"name\":\"value\",\"type\":\"long\",\"nullable\":true,\"metadata\":{}}]},\"nullable\":true,\"metadata\":{}}]},\"nullable\":true,\"metadata\":{}},{\"name\":\"UC0\",\"type\":{\"type\":\"struct\",\"fields\":[{\"name\":\"COLORTYPE\",\"type\":{\"type\":\"struct\",\"fields\":[{\"name\":\"color\",\"type\":{\"type\":\"struct\",\"fields\":[{\"name\":\"fullcolor\",\"type\":{\"type\":\"struct\",\"fields\":[{\"name\":\"value\",\"type\":\"long\",\"nullable\":true,\"metadata\":{}}]},\"nullable\":true,\"metadata\":{}},{\"name\":\"singlecolor\",\"type\":{\"type\":\"struct\",\"fields\":[{\"name\":\"value\",\"type\":\"long\",\"nullable\":true,\"metadata\":{}}]},\"nullable\":true,\"metadata\":{}},{\"name\":\"threecolor\",\"type\":{\"type\":\"struct\",\"fields\":[{\"name\":\"value\",\"type\":\"long\",\"nullable\":true,\"metadata\":{}}]},\"nullable\":true,\"metadata\":{}},{\"name\":\"twocolor\",\"type\":{\"type\":\"struct\",\"fields\":[{\"name\":\"value\",\"type\":\"long\",\"nullable\":true,\"metadata\":{}}]},\"nullable\":true,\"metadata\":{}},{\"name\":\"value\",\"type\":\"long\",\"nullable\":true,\"metadata\":{}}]},\"nullable\":true,\"metadata\":{}},{\"name\":\"monochrome\",\"type\":{\"type\":\"struct\",\"fields\":[{\"name\":\"value\",\"type\":\"long\",\"nullable\":true,\"metadata\":{}}]},\"nullable\":true,\"metadata\":{}}]},\"nullable\":true,\"metadata\":{}},{\"name\":\"value\",\"type\":\"long\",\"nullable\":true,\"metadata\":{}}]},\"nullable\":true,\"metadata\":{}},{\"name\":\"UC1\",\"type\":{\"type\":\"struct\",\"fields\":[{\"name\":\"COLORTYPE\",\"type\":{\"type\":\"struct\",\"fields\":[{\"name\":\"color\",\"type\":{\"type\":\"struct\",\"fields\":[{\"name\":\"fullcolor\",\"type\":{\"type\":\"struct\",\"fields\":[{\"name\":\"value\",\"type\":\"long\",\"nullable\":true,\"metadata\":{}}]},\"nullable\":true,\"metadata\":{}},{\"name\":\"singlecolor\",\"type\":{\"type\":\"struct\",\"fields\":[{\"name\":\"value\",\"type\":\"long\",\"nullable\":true,\"metadata\":{}}]},\"nullable\":true,\"metadata\":{}},{\"name\":\"threecolor\",\"type\":{\"type\":\"struct\",\"fields\":[{\"name\":\"value\",\"type\":\"long\",\"nullable\":true,\"metadata\":{}}]},\"nullable\":true,\"metadata\":{}},{\"name\":\"twocolor\",\"type\":{\"type\":\"struct\",\"fields\":[{\"name\":\"value\",\"type\":\"long\",\"nullable\":true,\"metadata\":{}}]},\"nullable\":true,\"metadata\":{}},{\"name\":\"value\",\"type\":\"long\",\"nullable\":true,\"metadata\":{}}]},\"nullable\":true,\"metadata\":{}},{\"name\":\"monochrome\",\"type\":{\"type\":\"struct\",\"fields\":[{\"name\":\"value\",\"type\":\"long\",\"nullable\":true,\"metadata\":{}}]},\"nullable\":true,\"metadata\":{}}]},\"nullable\":true,\"metadata\":{}},{\"name\":\"value\",\"type\":\"long\",\"nullable\":true,\"metadata\":{}}]},\"nullable\":true,\"metadata\":{}},{\"name\":\"UC2\",\"type\":{\"type\":\"struct\",\"fields\":[{\"name\":\"COLORTYPE\",\"type\":{\"type\":\"struct\",\"fields\":[{\"name\":\"color\",\"type\":{\"type\":\"struct\",\"fields\":[{\"name\":\"fullcolor\",\"type\":{\"type\":\"struct\",\"fields\":[{\"name\":\"value\",\"type\":\"long\",\"nullable\":true,\"metadata\":{}}]},\"nullable\":true,\"metadata\":{}},{\"name\":\"singlecolor\",\"type\":{\"type\":\"struct\",\"fields\":[{\"name\":\"value\",\"type\":\"long\",\"nullable\":true,\"metadata\":{}}]},\"nullable\":true,\"metadata\":{}},{\"name\":\"threecolor\",\"type\":{\"type\":\"struct\",\"fields\":[{\"name\":\"value\",\"type\":\"long\",\"nullable\":true,\"metadata\":{}}]},\"nullable\":true,\"metadata\":{}},{\"name\":\"twocolor\",\"type\":{\"type\":\"struct\",\"fields\":[{\"name\":\"value\",\"type\":\"long\",\"nullable\":true,\"metadata\":{}}]},\"nullable\":true,\"metadata\":{}},{\"name\":\"value\",\"type\":\"long\",\"nullable\":true,\"metadata\":{}}]},\"nullable\":true,\"metadata\":{}},{\"name\":\"monochrome\",\"type\":{\"type\":\"struct\",\"fields\":[{\"name\":\"value\",\"type\":\"long\",\"nullable\":true,\"metadata\":{}}]},\"nullable\":true,\"metadata\":{}}]},\"nullable\":true,\"metadata\":{}},{\"name\":\"value\",\"type\":\"long\",\"nullable\":true,\"metadata\":{}}]},\"nullable\":true,\"metadata\":{}},{\"name\":\"UC3\",\"type\":{\"type\":\"struct\",\"fields\":[{\"name\":\"COLORTYPE\",\"type\":{\"type\":\"struct\",\"fields\":[{\"name\":\"color\",\"type\":{\"type\":\"struct\",\"fields\":[{\"name\":\"fullcolor\",\"type\":{\"type\":\"struct\",\"fields\":[{\"name\":\"value\",\"type\":\"long\",\"nullable\":true,\"metadata\":{}}]},\"nullable\":true,\"metadata\":{}},{\"name\":\"singlecolor\",\"type\":{\"type\":\"struct\",\"fields\":[{\"name\":\"value\",\"type\":\"long\",\"nullable\":true,\"metadata\":{}}]},\"nullable\":true,\"metadata\":{}},{\"name\":\"threecolor\",\"type\":{\"type\":\"struct\",\"fields\":[{\"name\":\"value\",\"type\":\"long\",\"nullable\":true,\"metadata\":{}}]},\"nullable\":true,\"metadata\":{}},{\"name\":\"twocolor\",\"type\":{\"type\":\"struct\",\"fields\":[{\"name\":\"value\",\"type\":\"long\",\"nullable\":true,\"metadata\":{}}]},\"nullable\":true,\"metadata\":{}},{\"name\":\"value\",\"type\":\"long\",\"nullable\":true,\"metadata\":{}}]},\"nullable\":true,\"metadata\":{}},{\"name\":\"monochrome\",\"type\":{\"type\":\"struct\",\"fields\":[{\"name\":\"value\",\"type\":\"long\",\"nullable\":true,\"metadata\":{}}]},\"nullable\":true,\"metadata\":{}}]},\"nullable\":true,\"metadata\":{}},{\"name\":\"value\",\"type\":\"long\",\"nullable\":true,\"metadata\":{}}]},\"nullable\":true,\"metadata\":{}},{\"name\":\"value\",\"type\":\"long\",\"nullable\":true,\"metadata\":{}}]},\"nullable\":true,\"metadata\":{}}]},\"nullable\":true,\"metadata\":{}},{\"name\":\"powerOnCount\",\"type\":{\"type\":\"struct\",\"fields\":[{\"name\":\"type\",\"type\":\"string\",\"nullable\":true,\"metadata\":{}},{\"name\":\"unit\",\"type\":\"string\",\"nullable\":true,\"metadata\":{}},{\"name\":\"value\",\"type\":\"long\",\"nullable\":true,\"metadata\":{}}]},\"nullable\":true,\"metadata\":{}},{\"name\":\"total\",\"type\":{\"type\":\"struct\",\"fields\":[{\"name\":\"output\",\"type\":{\"type\":\"struct\",\"fields\":[{\"name\":\"COLORTYPE\",\"type\":{\"type\":\"struct\",\"fields\":[{\"name\":\"color\",\"type\":{\"type\":\"struct\",\"fields\":[{\"name\":\"fullcolor\",\"type\":{\"type\":\"struct\",\"fields\":[{\"name\":\"value\",\"type\":\"long\",\"nullable\":true,\"metadata\":{}}]},\"nullable\":true,\"metadata\":{}},{\"name\":\"singlecolor\",\"type\":{\"type\":\"struct\",\"fields\":[{\"name\":\"value\",\"type\":\"long\",\"nullable\":true,\"metadata\":{}}]},\"nullable\":true,\"metadata\":{}},{\"name\":\"threecolor\",\"type\":{\"type\":\"struct\",\"fields\":[{\"name\":\"value\",\"type\":\"long\",\"nullable\":true,\"metadata\":{}}]},\"nullable\":true,\"metadata\":{}},{\"name\":\"twocolor\",\"type\":{\"type\":\"struct\",\"fields\":[{\"name\":\"value\",\"type\":\"long\",\"nullable\":true,\"metadata\":{}}]},\"nullable\":true,\"metadata\":{}},{\"name\":\"value\",\"type\":\"long\",\"nullable\":true,\"metadata\":{}}]},\"nullable\":true,\"metadata\":{}},{\"name\":\"monochrome\",\"type\":{\"type\":\"struct\",\"fields\":[{\"name\":\"value\",\"type\":\"long\",\"nullable\":true,\"metadata\":{}}]},\"nullable\":true,\"metadata\":{}}]},\"nullable\":true,\"metadata\":{}},{\"name\":\"UC0\",\"type\":{\"type\":\"struct\",\"fields\":[{\"name\":\"COLORTYPE\",\"type\":{\"type\":\"struct\",\"fields\":[{\"name\":\"color\",\"type\":{\"type\":\"struct\",\"fields\":[{\"name\":\"fullcolor\",\"type\":{\"type\":\"struct\",\"fields\":[{\"name\":\"value\",\"type\":\"long\",\"nullable\":true,\"metadata\":{}}]},\"nullable\":true,\"metadata\":{}},{\"name\":\"singlecolor\",\"type\":{\"type\":\"struct\",\"fields\":[{\"name\":\"value\",\"type\":\"long\",\"nullable\":true,\"metadata\":{}}]},\"nullable\":true,\"metadata\":{}},{\"name\":\"threecolor\",\"type\":{\"type\":\"struct\",\"fields\":[{\"name\":\"value\",\"type\":\"long\",\"nullable\":true,\"metadata\":{}}]},\"nullable\":true,\"metadata\":{}},{\"name\":\"twocolor\",\"type\":{\"type\":\"struct\",\"fields\":[{\"name\":\"value\",\"type\":\"long\",\"nullable\":true,\"metadata\":{}}]},\"nullable\":true,\"metadata\":{}},{\"name\":\"value\",\"type\":\"long\",\"nullable\":true,\"metadata\":{}}]},\"nullable\":true,\"metadata\":{}},{\"name\":\"monochrome\",\"type\":{\"type\":\"struct\",\"fields\":[{\"name\":\"value\",\"type\":\"long\",\"nullable\":true,\"metadata\":{}}]},\"nullable\":true,\"metadata\":{}}]},\"nullable\":true,\"metadata\":{}},{\"name\":\"value\",\"type\":\"long\",\"nullable\":true,\"metadata\":{}}]},\"nullable\":true,\"metadata\":{}},{\"name\":\"UC1\",\"type\":{\"type\":\"struct\",\"fields\":[{\"name\":\"COLORTYPE\",\"type\":{\"type\":\"struct\",\"fields\":[{\"name\":\"color\",\"type\":{\"type\":\"struct\",\"fields\":[{\"name\":\"fullcolor\",\"type\":{\"type\":\"struct\",\"fields\":[{\"name\":\"value\",\"type\":\"long\",\"nullable\":true,\"metadata\":{}}]},\"nullable\":true,\"metadata\":{}},{\"name\":\"singlecolor\",\"type\":{\"type\":\"struct\",\"fields\":[{\"name\":\"value\",\"type\":\"long\",\"nullable\":true,\"metadata\":{}}]},\"nullable\":true,\"metadata\":{}},{\"name\":\"threecolor\",\"type\":{\"type\":\"struct\",\"fields\":[{\"name\":\"value\",\"type\":\"long\",\"nullable\":true,\"metadata\":{}}]},\"nullable\":true,\"metadata\":{}},{\"name\":\"twocolor\",\"type\":{\"type\":\"struct\",\"fields\":[{\"name\":\"value\",\"type\":\"long\",\"nullable\":true,\"metadata\":{}}]},\"nullable\":true,\"metadata\":{}},{\"name\":\"value\",\"type\":\"long\",\"nullable\":true,\"metadata\":{}}]},\"nullable\":true,\"metadata\":{}},{\"name\":\"monochrome\",\"type\":{\"type\":\"struct\",\"fields\":[{\"name\":\"value\",\"type\":\"long\",\"nullable\":true,\"metadata\":{}}]},\"nullable\":true,\"metadata\":{}}]},\"nullable\":true,\"metadata\":{}},{\"name\":\"value\",\"type\":\"long\",\"nullable\":true,\"metadata\":{}}]},\"nullable\":true,\"metadata\":{}},{\"name\":\"UC2\",\"type\":{\"type\":\"struct\",\"fields\":[{\"name\":\"COLORTYPE\",\"type\":{\"type\":\"struct\",\"fields\":[{\"name\":\"color\",\"type\":{\"type\":\"struct\",\"fields\":[{\"name\":\"fullcolor\",\"type\":{\"type\":\"struct\",\"fields\":[{\"name\":\"value\",\"type\":\"long\",\"nullable\":true,\"metadata\":{}}]},\"nullable\":true,\"metadata\":{}},{\"name\":\"singlecolor\",\"type\":{\"type\":\"struct\",\"fields\":[{\"name\":\"value\",\"type\":\"long\",\"nullable\":true,\"metadata\":{}}]},\"nullable\":true,\"metadata\":{}},{\"name\":\"threecolor\",\"type\":{\"type\":\"struct\",\"fields\":[{\"name\":\"value\",\"type\":\"long\",\"nullable\":true,\"metadata\":{}}]},\"nullable\":true,\"metadata\":{}},{\"name\":\"twocolor\",\"type\":{\"type\":\"struct\",\"fields\":[{\"name\":\"value\",\"type\":\"long\",\"nullable\":true,\"metadata\":{}}]},\"nullable\":true,\"metadata\":{}},{\"name\":\"value\",\"type\":\"long\",\"nullable\":true,\"metadata\":{}}]},\"nullable\":true,\"metadata\":{}},{\"name\":\"monochrome\",\"type\":{\"type\":\"struct\",\"fields\":[{\"name\":\"value\",\"type\":\"long\",\"nullable\":true,\"metadata\":{}}]},\"nullable\":true,\"metadata\":{}}]},\"nullable\":true,\"metadata\":{}},{\"name\":\"value\",\"type\":\"long\",\"nullable\":true,\"metadata\":{}}]},\"nullable\":true,\"metadata\":{}},{\"name\":\"UC3\",\"type\":{\"type\":\"struct\",\"fields\":[{\"name\":\"COLORTYPE\",\"type\":{\"type\":\"struct\",\"fields\":[{\"name\":\"color\",\"type\":{\"type\":\"struct\",\"fields\":[{\"name\":\"fullcolor\",\"type\":{\"type\":\"struct\",\"fields\":[{\"name\":\"value\",\"type\":\"long\",\"nullable\":true,\"metadata\":{}}]},\"nullable\":true,\"metadata\":{}},{\"name\":\"singlecolor\",\"type\":{\"type\":\"struct\",\"fields\":[{\"name\":\"value\",\"type\":\"long\",\"nullable\":true,\"metadata\":{}}]},\"nullable\":true,\"metadata\":{}},{\"name\":\"threecolor\",\"type\":{\"type\":\"struct\",\"fields\":[{\"name\":\"value\",\"type\":\"long\",\"nullable\":true,\"metadata\":{}}]},\"nullable\":true,\"metadata\":{}},{\"name\":\"twocolor\",\"type\":{\"type\":\"struct\",\"fields\":[{\"name\":\"value\",\"type\":\"long\",\"nullable\":true,\"metadata\":{}}]},\"nullable\":true,\"metadata\":{}},{\"name\":\"value\",\"type\":\"long\",\"nullable\":true,\"metadata\":{}}]},\"nullable\":true,\"metadata\":{}},{\"name\":\"monochrome\",\"type\":{\"type\":\"struct\",\"fields\":[{\"name\":\"value\",\"type\":\"long\",\"nullable\":true,\"metadata\":{}}]},\"nullable\":true,\"metadata\":{}}]},\"nullable\":true,\"metadata\":{}},{\"name\":\"value\",\"type\":\"long\",\"nullable\":true,\"metadata\":{}}]},\"nullable\":true,\"metadata\":{}},{\"name\":\"value\",\"type\":\"long\",\"nullable\":true,\"metadata\":{}}]},\"nullable\":true,\"metadata\":{}},{\"name\":\"send\",\"type\":{\"type\":\"struct\",\"fields\":[{\"name\":\"COLORTYPE\",\"type\":{\"type\":\"struct\",\"fields\":[{\"name\":\"color\",\"type\":{\"type\":\"struct\",\"fields\":[{\"name\":\"fullcolor\",\"type\":{\"type\":\"struct\",\"fields\":[{\"name\":\"value\",\"type\":\"long\",\"nullable\":true,\"metadata\":{}}]},\"nullable\":true,\"metadata\":{}},{\"name\":\"singlecolor\",\"type\":{\"type\":\"struct\",\"fields\":[{\"name\":\"value\",\"type\":\"long\",\"nullable\":true,\"metadata\":{}}]},\"nullable\":true,\"metadata\":{}},{\"name\":\"twocolor\",\"type\":{\"type\":\"struct\",\"fields\":[{\"name\":\"value\",\"type\":\"long\",\"nullable\":true,\"metadata\":{}}]},\"nullable\":true,\"metadata\":{}},{\"name\":\"value\",\"type\":\"long\",\"nullable\":true,\"metadata\":{}}]},\"nullable\":true,\"metadata\":{}},{\"name\":\"monochrome\",\"type\":{\"type\":\"struct\",\"fields\":[{\"name\":\"value\",\"type\":\"long\",\"nullable\":true,\"metadata\":{}}]},\"nullable\":true,\"metadata\":{}}]},\"nullable\":true,\"metadata\":{}},{\"name\":\"value\",\"type\":\"long\",\"nullable\":true,\"metadata\":{}}]},\"nullable\":true,\"metadata\":{}}]},\"nullable\":true,\"metadata\":{}}]},\"nullable\":true,\"metadata\":{}}]},\"nullable\":true,\"metadata\":{}},{\"name\":\"coverList\",\"type\":{\"type\":\"array\",\"elementType\":{\"type\":\"struct\",\"fields\":[{\"name\":\"description\",\"type\":\"string\",\"nullable\":true,\"metadata\":{}},{\"name\":\"status\",\"type\":\"string\",\"nullable\":true,\"metadata\":{}}]},\"containsNull\":true},\"nullable\":true,\"metadata\":{}},{\"name\":\"description\",\"type\":\"string\",\"nullable\":true,\"metadata\":{}},{\"name\":\"deviceEntryList\",\"type\":{\"type\":\"array\",\"elementType\":{\"type\":\"struct\",\"fields\":[{\"name\":\"description\",\"type\":\"string\",\"nullable\":true,\"metadata\":{}},{\"name\":\"deviceID\",\"type\":\"string\",\"nullable\":true,\"metadata\":{}},{\"name\":\"deviceIndex\",\"type\":\"string\",\"nullable\":true,\"metadata\":{}},{\"name\":\"errors\",\"type\":\"string\",\"nullable\":true,\"metadata\":{}},{\"name\":\"status\",\"type\":\"string\",\"nullable\":true,\"metadata\":{}},{\"name\":\"type\",\"type\":\"string\",\"nullable\":true,\"metadata\":{}}]},\"containsNull\":true},\"nullable\":true,\"metadata\":{}},{\"name\":\"deviceImage\",\"type\":{\"type\":\"struct\",\"fields\":[{\"name\":\"allowedFormat\",\"type\":{\"type\":\"struct\",\"fields\":[{\"name\":\"format\",\"type\":\"string\",\"nullable\":true,\"metadata\":{}}]},\"nullable\":true,\"metadata\":{}},{\"name\":\"currentImage\",\"type\":{\"type\":\"struct\",\"fields\":[{\"name\":\"URL\",\"type\":\"string\",\"nullable\":true,\"metadata\":{}},{\"name\":\"format\",\"type\":\"string\",\"nullable\":true,\"metadata\":{}},{\"name\":\"height\",\"type\":\"string\",\"nullable\":true,\"metadata\":{}},{\"name\":\"rawData\",\"type\":\"string\",\"nullable\":true,\"metadata\":{}},{\"name\":\"size\",\"type\":\"string\",\"nullable\":true,\"metadata\":{}},{\"name\":\"width\",\"type\":\"string\",\"nullable\":true,\"metadata\":{}}]},\"nullable\":true,\"metadata\":{}}]},\"nullable\":true,\"metadata\":{}},{\"name\":\"disposalMarkerList\",\"type\":{\"type\":\"array\",\"elementType\":{\"type\":\"struct\",\"fields\":[{\"name\":\"amount\",\"type\":{\"type\":\"struct\",\"fields\":[{\"name\":\"capacity\",\"type\":\"string\",\"nullable\":true,\"metadata\":{}},{\"name\":\"state\",\"type\":\"string\",\"nullable\":true,\"metadata\":{}},{\"name\":\"typical\",\"type\":\"string\",\"nullable\":true,\"metadata\":{}},{\"name\":\"unit\",\"type\":\"string\",\"nullable\":true,\"metadata\":{}}]},\"nullable\":true,\"metadata\":{}},{\"name\":\"color\",\"type\":\"string\",\"nullable\":true,\"metadata\":{}},{\"name\":\"description\",\"type\":\"string\",\"nullable\":true,\"metadata\":{}},{\"name\":\"type\",\"type\":\"string\",\"nullable\":true,\"metadata\":{}}]},\"containsNull\":true},\"nullable\":true,\"metadata\":{}},{\"name\":\"embededWebServerSupported\",\"type\":\"string\",\"nullable\":true,\"metadata\":{}},{\"name\":\"engine\",\"type\":{\"type\":\"struct\",\"fields\":[{\"name\":\"pagesPerMinitues\",\"type\":\"string\",\"nullable\":true,\"metadata\":{}}]},\"nullable\":true,\"metadata\":{}},{\"name\":\"errorLevel\",\"type\":\"string\",\"nullable\":true,\"metadata\":{}},{\"name\":\"familyName\",\"type\":\"string\",\"nullable\":true,\"metadata\":{}},{\"name\":\"finishingList\",\"type\":{\"type\":\"array\",\"elementType\":{\"type\":\"struct\",\"fields\":[{\"name\":\"amount\",\"type\":{\"type\":\"struct\",\"fields\":[{\"name\":\"capacity\",\"type\":\"string\",\"nullable\":true,\"metadata\":{}},{\"name\":\"typical\",\"type\":\"string\",\"nullable\":true,\"metadata\":{}},{\"name\":\"unit\",\"type\":\"string\",\"nullable\":true,\"metadata\":{}}]},\"nullable\":true,\"metadata\":{}},{\"name\":\"description\",\"type\":\"string\",\"nullable\":true,\"metadata\":{}},{\"name\":\"type\",\"type\":\"string\",\"nullable\":true,\"metadata\":{}}]},\"containsNull\":true},\"nullable\":true,\"metadata\":{}},{\"name\":\"firmwareVersion\",\"type\":\"string\",\"nullable\":true,\"metadata\":{}},{\"name\":\"friendlyName\",\"type\":\"string\",\"nullable\":true,\"metadata\":{}},{\"name\":\"inTrayDefault\",\"type\":\"string\",\"nullable\":true,\"metadata\":{}},{\"name\":\"inTrayList\",\"type\":{\"type\":\"array\",\"elementType\":{\"type\":\"struct\",\"fields\":[{\"name\":\"amount\",\"type\":{\"type\":\"struct\",\"fields\":[{\"name\":\"capacity\",\"type\":\"string\",\"nullable\":true,\"metadata\":{}},{\"name\":\"state\",\"type\":\"string\",\"nullable\":true,\"metadata\":{}},{\"name\":\"typical\",\"type\":\"string\",\"nullable\":true,\"metadata\":{}},{\"name\":\"unit\",\"type\":\"string\",\"nullable\":true,\"metadata\":{}}]},\"nullable\":true,\"metadata\":{}},{\"name\":\"description\",\"type\":\"string\",\"nullable\":true,\"metadata\":{}},{\"name\":\"id\",\"type\":\"string\",\"nullable\":true,\"metadata\":{}},{\"name\":\"inserter\",\"type\":\"string\",\"nullable\":true,\"metadata\":{}},{\"name\":\"manual\",\"type\":\"string\",\"nullable\":true,\"metadata\":{}},{\"name\":\"mediaDimFeed\",\"type\":\"string\",\"nullable\":true,\"metadata\":{}},{\"name\":\"mediaDimXFeed\",\"type\":\"string\",\"nullable\":true,\"metadata\":{}},{\"name\":\"mediaName\",\"type\":\"string\",\"nullable\":true,\"metadata\":{}},{\"name\":\"mediaSize\",\"type\":\"string\",\"nullable\":true,\"metadata\":{}},{\"name\":\"mediaSizeHeight\",\"type\":\"string\",\"nullable\":true,\"metadata\":{}},{\"name\":\"mediaSizeName\",\"type\":\"string\",\"nullable\":true,\"metadata\":{}},{\"name\":\"mediaSizeUnit\",\"type\":\"string\",\"nullable\":true,\"metadata\":{}},{\"name\":\"mediaSizeWidth\",\"type\":\"string\",\"nullable\":true,\"metadata\":{}},{\"name\":\"mediaType\",\"type\":\"string\",\"nullable\":true,\"metadata\":{}},{\"name\":\"modelName\",\"type\":\"string\",\"nullable\":true,\"metadata\":{}},{\"name\":\"name\",\"type\":\"string\",\"nullable\":true,\"metadata\":{}},{\"name\":\"virtual\",\"type\":\"string\",\"nullable\":true,\"metadata\":{}}]},\"containsNull\":true},\"nullable\":true,\"metadata\":{}},{\"name\":\"location\",\"type\":{\"type\":\"struct\",\"fields\":[{\"name\":\"address\",\"type\":\"string\",\"nullable\":true,\"metadata\":{}},{\"name\":\"country\",\"type\":\"string\",\"nullable\":true,\"metadata\":{}},{\"name\":\"language\",\"type\":\"string\",\"nullable\":true,\"metadata\":{}}]},\"nullable\":true,\"metadata\":{}},{\"name\":\"machineId\",\"type\":\"string\",\"nullable\":true,\"metadata\":{}},{\"name\":\"maintenanceCodeList\",\"type\":{\"type\":\"array\",\"elementType\":\"string\",\"containsNull\":true},\"nullable\":true,\"metadata\":{}},{\"name\":\"markerList\",\"type\":{\"type\":\"array\",\"elementType\":{\"type\":\"struct\",\"fields\":[{\"name\":\"amount\",\"type\":{\"type\":\"struct\",\"fields\":[{\"name\":\"capacity\",\"type\":\"string\",\"nullable\":true,\"metadata\":{}},{\"name\":\"state\",\"type\":\"string\",\"nullable\":true,\"metadata\":{}},{\"name\":\"typical\",\"type\":\"string\",\"nullable\":true,\"metadata\":{}},{\"name\":\"unit\",\"type\":\"string\",\"nullable\":true,\"metadata\":{}}]},\"nullable\":true,\"metadata\":{}},{\"name\":\"color\",\"type\":\"string\",\"nullable\":true,\"metadata\":{}},{\"name\":\"description\",\"type\":\"string\",\"nullable\":true,\"metadata\":{}},{\"name\":\"type\",\"type\":\"string\",\"nullable\":true,\"metadata\":{}}]},\"containsNull\":true},\"nullable\":true,\"metadata\":{}},{\"name\":\"memory\",\"type\":{\"type\":\"struct\",\"fields\":[{\"name\":\"size\",\"type\":\"string\",\"nullable\":true,\"metadata\":{}}]},\"nullable\":true,\"metadata\":{}},{\"name\":\"modelName\",\"type\":\"string\",\"nullable\":true,\"metadata\":{}},{\"name\":\"outTrayDefault\",\"type\":\"string\",\"nullable\":true,\"metadata\":{}},{\"name\":\"outTrayList\",\"type\":{\"type\":\"array\",\"elementType\":{\"type\":\"struct\",\"fields\":[{\"name\":\"amount\",\"type\":{\"type\":\"struct\",\"fields\":[{\"name\":\"capacity\",\"type\":\"string\",\"nullable\":true,\"metadata\":{}},{\"name\":\"state\",\"type\":\"string\",\"nullable\":true,\"metadata\":{}},{\"name\":\"typical\",\"type\":\"string\",\"nullable\":true,\"metadata\":{}},{\"name\":\"unit\",\"type\":\"string\",\"nullable\":true,\"metadata\":{}}]},\"nullable\":true,\"metadata\":{}},{\"name\":\"deliveryOrientation\",\"type\":\"string\",\"nullable\":true,\"metadata\":{}},{\"name\":\"description\",\"type\":\"string\",\"nullable\":true,\"metadata\":{}},{\"name\":\"id\",\"type\":\"string\",\"nullable\":true,\"metadata\":{}},{\"name\":\"modelName\",\"type\":\"string\",\"nullable\":true,\"metadata\":{}},{\"name\":\"name\",\"type\":\"string\",\"nullable\":true,\"metadata\":{}},{\"name\":\"stackingOrder\",\"type\":\"string\",\"nullable\":true,\"metadata\":{}}]},\"containsNull\":true},\"nullable\":true,\"metadata\":{}},{\"name\":\"serialId\",\"type\":\"string\",\"nullable\":true,\"metadata\":{}},{\"name\":\"serviceCodeList\",\"type\":{\"type\":\"array\",\"elementType\":\"string\",\"containsNull\":true},\"nullable\":true,\"metadata\":{}},{\"name\":\"statusRawValue\",\"type\":\"string\",\"nullable\":true,\"metadata\":{}},{\"name\":\"statusSet\",\"type\":{\"type\":\"struct\",\"fields\":[{\"name\":\"accountLimit\",\"type\":\"string\",\"nullable\":true,\"metadata\":{}},{\"name\":\"allOutputTrayFull\",\"type\":\"string\",\"nullable\":true,\"metadata\":{}},{\"name\":\"coverOpen\",\"type\":\"string\",\"nullable\":true,\"metadata\":{}},{\"name\":\"inputTrayMissing\",\"type\":\"string\",\"nullable\":true,\"metadata\":{}},{\"name\":\"markerSupplyMissing\",\"type\":\"string\",\"nullable\":true,\"metadata\":{}},{\"name\":\"nearOverduePreventMaintenance\",\"type\":\"string\",\"nullable\":true,\"metadata\":{}},{\"name\":\"offline\",\"type\":\"string\",\"nullable\":true,\"metadata\":{}},{\"name\":\"online\",\"type\":\"string\",\"nullable\":true,\"metadata\":{}},{\"name\":\"outputTrayFull\",\"type\":\"string\",\"nullable\":true,\"metadata\":{}},{\"name\":\"outputTrayMissing\",\"type\":\"string\",\"nullable\":true,\"metadata\":{}},{\"name\":\"outputTrayNearFull\",\"type\":\"string\",\"nullable\":true,\"metadata\":{}},{\"name\":\"overduePreventMaintenance\",\"type\":\"string\",\"nullable\":true,\"metadata\":{}},{\"name\":\"paperEmpty\",\"type\":\"string\",\"nullable\":true,\"metadata\":{}},{\"name\":\"paperJam\",\"type\":\"string\",\"nullable\":true,\"metadata\":{}},{\"name\":\"paperLow\",\"type\":\"string\",\"nullable\":true,\"metadata\":{}},{\"name\":\"printerError\",\"type\":\"string\",\"nullable\":true,\"metadata\":{}},{\"name\":\"printerWarning\",\"type\":\"string\",\"nullable\":true,\"metadata\":{}},{\"name\":\"printing\",\"type\":\"string\",\"nullable\":true,\"metadata\":{}},{\"name\":\"specifiedInputTrayEmpty\",\"type\":\"string\",\"nullable\":true,\"metadata\":{}},{\"name\":\"specifiedInputTrayMissing\",\"type\":\"string\",\"nullable\":true,\"metadata\":{}},{\"name\":\"specifiedOutputTrayMissing\",\"type\":\"string\",\"nullable\":true,\"metadata\":{}},{\"name\":\"stackerNotInstalled\",\"type\":\"string\",\"nullable\":true,\"metadata\":{}},{\"name\":\"standby\",\"type\":\"string\",\"nullable\":true,\"metadata\":{}},{\"name\":\"tonerEmpty\",\"type\":\"string\",\"nullable\":true,\"metadata\":{}},{\"name\":\"tonerLow\",\"type\":\"string\",\"nullable\":true,\"metadata\":{}},{\"name\":\"warmUp\",\"type\":\"string\",\"nullable\":true,\"metadata\":{}}]},\"nullable\":true,\"metadata\":{}},{\"name\":\"trapSupported\",\"type\":\"string\",\"nullable\":true,\"metadata\":{}},{\"name\":\"upTime\",\"type\":\"string\",\"nullable\":true,\"metadata\":{}}]},\"nullable\":true,\"metadata\":{}},{\"name\":\"interface\",\"type\":{\"type\":\"struct\",\"fields\":[{\"name\":\"ethernetList\",\"type\":{\"type\":\"array\",\"elementType\":{\"type\":\"struct\",\"fields\":[{\"name\":\"address\",\"type\":\"string\",\"nullable\":true,\"metadata\":{}},{\"name\":\"id\",\"type\":\"string\",\"nullable\":true,\"metadata\":{}},{\"name\":\"type\",\"type\":\"string\",\"nullable\":true,\"metadata\":{}}]},\"containsNull\":true},\"nullable\":true,\"metadata\":{}},{\"name\":\"ipList\",\"type\":{\"type\":\"array\",\"elementType\":{\"type\":\"struct\",\"fields\":[{\"name\":\"address\",\"type\":\"string\",\"nullable\":true,\"metadata\":{}},{\"name\":\"defaultRoute\",\"type\":\"string\",\"nullable\":true,\"metadata\":{}},{\"name\":\"ethernetId\",\"type\":\"string\",\"nullable\":true,\"metadata\":{}},{\"name\":\"subnetMask\",\"type\":\"string\",\"nullable\":true,\"metadata\":{}}]},\"containsNull\":true},\"nullable\":true,\"metadata\":{}}]},\"nullable\":true,\"metadata\":{}},{\"name\":\"service\",\"type\":{\"type\":\"struct\",\"fields\":[{\"name\":\"print\",\"type\":{\"type\":\"struct\",\"fields\":[{\"name\":\"channelList\",\"type\":{\"type\":\"array\",\"elementType\":{\"type\":\"struct\",\"fields\":[{\"name\":\"descriptionLanguageDefault\",\"type\":\"string\",\"nullable\":true,\"metadata\":{}},{\"name\":\"id\",\"type\":\"string\",\"nullable\":true,\"metadata\":{}},{\"name\":\"mediaPathDefault\",\"type\":\"string\",\"nullable\":true,\"metadata\":{}}]},\"containsNull\":true},\"nullable\":true,\"metadata\":{}},{\"name\":\"descriptionLanguageList\",\"type\":{\"type\":\"array\",\"elementType\":\"string\",\"containsNull\":true},\"nullable\":true,\"metadata\":{}},{\"name\":\"mediaPathList\",\"type\":{\"type\":\"array\",\"elementType\":{\"type\":\"struct\",\"fields\":[{\"name\":\"id\",\"type\":\"string\",\"nullable\":true,\"metadata\":{}},{\"name\":\"type\",\"type\":\"string\",\"nullable\":true,\"metadata\":{}}]},\"containsNull\":true},\"nullable\":true,\"metadata\":{}}]},\"nullable\":true,\"metadata\":{}}]},\"nullable\":true,\"metadata\":{}}]},\"nullable\":true,\"metadata\":{}},{\"name\":\"timestamp\",\"type\":\"long\",\"nullable\":true,\"metadata\":{}},{\"name\":\"type\",\"type\":\"string\",\"nullable\":true,\"metadata\":{}}]}"
        },
        {
         "metadata": "{}",
         "name": "EnqueuedTimeUtc",
         "type": "\"string\""
        },
        {
         "metadata": "{}",
         "name": "Properties",
         "type": "{\"type\":\"struct\",\"fields\":[{\"name\":\"appTopic\",\"type\":\"string\",\"nullable\":true,\"metadata\":{}}]}"
        },
        {
         "metadata": "{}",
         "name": "SystemProperties",
         "type": "{\"type\":\"struct\",\"fields\":[{\"name\":\"connectionAuthMethod\",\"type\":\"string\",\"nullable\":true,\"metadata\":{}},{\"name\":\"connectionDeviceGenerationId\",\"type\":\"string\",\"nullable\":true,\"metadata\":{}},{\"name\":\"connectionDeviceId\",\"type\":\"string\",\"nullable\":true,\"metadata\":{}},{\"name\":\"contentEncoding\",\"type\":\"string\",\"nullable\":true,\"metadata\":{}},{\"name\":\"contentType\",\"type\":\"string\",\"nullable\":true,\"metadata\":{}},{\"name\":\"enqueuedTime\",\"type\":\"string\",\"nullable\":true,\"metadata\":{}}]}"
        }
       ],
       "type": "table"
      }
     },
     "output_type": "display_data"
    }
   ],
   "source": [
    "file_name = \"/FileStore/tables/printermessages.json\"\n",
    "\n",
    "df = spark.read.option(\"multiLine\", \"true\").format(\"json\").load(file_name)\n",
    "df.display()"
   ]
  },
  {
   "cell_type": "code",
   "execution_count": 0,
   "metadata": {
    "application/vnd.databricks.v1+cell": {
     "cellMetadata": {
      "byteLimit": 2048000,
      "rowLimit": 10000
     },
     "inputWidgets": {},
     "nuid": "c48d6b3f-da41-4ad1-8a81-6245163121ba",
     "showTitle": false,
     "tableResultSettingsMap": {},
     "title": ""
    }
   },
   "outputs": [],
   "source": [
    "schema = StructType([\n",
    "    StructField(\"EnqueuedTimeUtc\", StringType(), True),\n",
    "    StructField(\"Properties\", StructType([\n",
    "        StructField(\"appTopic\", StringType(), True)\n",
    "    ]), True),\n",
    "    StructField(\"SystemProperties\", StructType([\n",
    "        StructField(\"connectionDeviceId\", StringType(), True),\n",
    "        StructField(\"connectionAuthMethod\", StringType(), True),\n",
    "        StructField(\"connectionDeviceGenerationId\", StringType(), True),\n",
    "        StructField(\"contentType\", StringType(), True),\n",
    "        StructField(\"contentEncoding\", StringType(), True),\n",
    "\n",
    "        \n",
    "        StructField(\"enqueuedTime\", StringType(), True)\n",
    "    ]), True),\n",
    "    StructField(\"Body\", StructType([\n",
    "        StructField(\"type\", StringType(), True),\n",
    "        StructField(\"code\", StringType(), True),\n",
    "        StructField(\"mnsn\", StringType(), True),\n",
    "        StructField(\"timestamp\", LongType(), True),\n",
    "        StructField(\"scheduleName\", StringType(), True),\n",
    "        StructField(\"smsProperties\", StructType([\n",
    "            StructField(\"interface\", StructType([\n",
    "                StructField(\"ethernetList\", ArrayType(StructType([\n",
    "                    StructField(\"id\", StringType(), True),\n",
    "                    StructField(\"type\", StringType(), True),\n",
    "                    StructField(\"address\", StringType(), True)\n",
    "                ])), True),\n",
    "                StructField(\"ipList\", ArrayType(StructType([\n",
    "                    StructField(\"address\", StringType(), True),\n",
    "                    StructField(\"ethernetId\", StringType(), True),\n",
    "                    StructField(\"subnetMask\", StringType(), True),\n",
    "                    StructField(\"defaultRoute\", StringType(), True)\n",
    "                ])), True)\n",
    "            ]), True),\n",
    "            StructField(\"device\", StructType([\n",
    "                StructField(\"modelName\", StringType(), True),\n",
    "                StructField(\"address\", StringType(), True),\n",
    "                StructField(\"maintenanceCodeList\", ArrayType(StringType()), True),\n",
    "                StructField(\"serialId\", StringType(), True),\n",
    "                StructField(\"familyName\", StringType(), True),\n",
    "                StructField(\"location\", StructType([\n",
    "                    StructField(\"address\", StringType(), True)\n",
    "                ]), True),\n",
    "                StructField(\"serviceCodeList\", ArrayType(StringType()), True),\n",
    "                StructField(\"statusSet\", MapType(StringType(), StringType()), True),\n",
    "                StructField(\"counter\", StructType([\n",
    "                    StructField(\"TYPE\", StructType([\n",
    "                        StructField(\"lifeCount\", StructType([\n",
    "                            StructField(\"unit\", StringType(), True),\n",
    "                            StructField(\"type\", StringType(), True),\n",
    "                            StructField(\"value\", IntegerType(), True)\n",
    "                        ]), True)\n",
    "                    ]), True)\n",
    "                ]), True),\n",
    "                StructField(\"statusRawValue\", StringType(), True),\n",
    "                StructField(\"friendlyName\", StringType(), True)\n",
    "            ]), True)\n",
    "        ]), True)\n",
    "    ]), True)\n",
    "])\n"
   ]
  },
  {
   "cell_type": "code",
   "execution_count": 0,
   "metadata": {
    "application/vnd.databricks.v1+cell": {
     "cellMetadata": {
      "byteLimit": 2048000,
      "rowLimit": 10000
     },
     "inputWidgets": {},
     "nuid": "91d8b138-aecb-46b8-8d34-efab24bfa5f8",
     "showTitle": false,
     "tableResultSettingsMap": {},
     "title": ""
    }
   },
   "outputs": [
    {
     "output_type": "stream",
     "name": "stdout",
     "output_type": "stream",
     "text": [
      "root\n |-- Body: struct (nullable = true)\n |    |-- mnsn: string (nullable = true)\n |    |-- scheduleName: string (nullable = true)\n |    |-- smsProperties: struct (nullable = true)\n |    |    |-- device: struct (nullable = true)\n |    |    |    |-- address: string (nullable = true)\n |    |    |    |-- capability: struct (nullable = true)\n |    |    |    |    |-- function: struct (nullable = true)\n |    |    |    |    |    |-- deviceCloning: string (nullable = true)\n |    |    |    |    |    |-- fss: string (nullable = true)\n |    |    |    |    |    |-- fssDataCloning: struct (nullable = true)\n |    |    |    |    |    |    |-- available: string (nullable = true)\n |    |    |    |    |    |    |-- version: string (nullable = true)\n |    |    |    |    |    |-- fwUpdateOTA: struct (nullable = true)\n |    |    |    |    |    |    |-- available: string (nullable = true)\n |    |    |    |    |    |    |-- version: string (nullable = true)\n |    |    |    |    |    |-- logData: struct (nullable = true)\n |    |    |    |    |    |    |-- available: string (nullable = true)\n |    |    |    |    |    |    |-- version: string (nullable = true)\n |    |    |    |    |    |-- powerManagement: string (nullable = true)\n |    |    |    |    |    |-- poweroff: string (nullable = true)\n |    |    |    |    |    |-- security: string (nullable = true)\n |    |    |    |    |    |-- serviceReport: string (nullable = true)\n |    |    |    |-- codeSet: string (nullable = true)\n |    |    |    |-- configuration: struct (nullable = true)\n |    |    |    |    |-- duplexModule: string (nullable = true)\n |    |    |    |    |-- installedOptions: struct (nullable = true)\n |    |    |    |    |    |-- dsk: string (nullable = true)\n |    |    |    |    |    |-- value: string (nullable = true)\n |    |    |    |-- contactAddress: string (nullable = true)\n |    |    |    |-- counter: struct (nullable = true)\n |    |    |    |    |-- TYPE: struct (nullable = true)\n |    |    |    |    |    |-- a3orAbove: struct (nullable = true)\n |    |    |    |    |    |    |-- output: struct (nullable = true)\n |    |    |    |    |    |    |    |-- COLORTYPE: struct (nullable = true)\n |    |    |    |    |    |    |    |    |-- color: struct (nullable = true)\n |    |    |    |    |    |    |    |    |    |-- fullcolor: struct (nullable = true)\n |    |    |    |    |    |    |    |    |    |    |-- value: long (nullable = true)\n |    |    |    |    |    |    |    |    |    |-- singlecolor: struct (nullable = true)\n |    |    |    |    |    |    |    |    |    |    |-- value: long (nullable = true)\n |    |    |    |    |    |    |    |    |    |-- threecolor: struct (nullable = true)\n |    |    |    |    |    |    |    |    |    |    |-- value: long (nullable = true)\n |    |    |    |    |    |    |    |    |    |-- twocolor: struct (nullable = true)\n |    |    |    |    |    |    |    |    |    |    |-- value: long (nullable = true)\n |    |    |    |    |    |    |    |    |    |-- value: long (nullable = true)\n |    |    |    |    |    |    |    |    |-- monochrome: struct (nullable = true)\n |    |    |    |    |    |    |    |    |    |-- value: long (nullable = true)\n |    |    |    |    |    |    |    |-- JOBTYPE: struct (nullable = true)\n |    |    |    |    |    |    |    |    |-- copies: struct (nullable = true)\n |    |    |    |    |    |    |    |    |    |-- COLORTYPE: struct (nullable = true)\n |    |    |    |    |    |    |    |    |    |    |-- color: struct (nullable = true)\n |    |    |    |    |    |    |    |    |    |    |    |-- fullcolor: struct (nullable = true)\n |    |    |    |    |    |    |    |    |    |    |    |    |-- value: long (nullable = true)\n |    |    |    |    |    |    |    |    |    |    |    |-- singlecolor: struct (nullable = true)\n |    |    |    |    |    |    |    |    |    |    |    |    |-- value: long (nullable = true)\n |    |    |    |    |    |    |    |    |    |    |    |-- twocolor: struct (nullable = true)\n |    |    |    |    |    |    |    |    |    |    |    |    |-- value: long (nullable = true)\n |    |    |    |    |    |    |    |    |    |    |    |-- value: long (nullable = true)\n |    |    |    |    |    |    |    |    |    |    |-- monochrome: struct (nullable = true)\n |    |    |    |    |    |    |    |    |    |    |    |-- value: long (nullable = true)\n |    |    |    |    |    |    |    |    |    |-- UC0: struct (nullable = true)\n |    |    |    |    |    |    |    |    |    |    |-- COLORTYPE: struct (nullable = true)\n |    |    |    |    |    |    |    |    |    |    |    |-- color: struct (nullable = true)\n |    |    |    |    |    |    |    |    |    |    |    |    |-- fullcolor: struct (nullable = true)\n |    |    |    |    |    |    |    |    |    |    |    |    |    |-- description: string (nullable = true)\n |    |    |    |    |    |    |    |    |    |    |    |    |    |-- value: long (nullable = true)\n |    |    |    |    |    |    |    |    |    |    |    |    |-- singlecolor: struct (nullable = true)\n |    |    |    |    |    |    |    |    |    |    |    |    |    |-- description: string (nullable = true)\n |    |    |    |    |    |    |    |    |    |    |    |    |    |-- value: long (nullable = true)\n |    |    |    |    |    |    |    |    |    |    |    |    |-- twocolor: struct (nullable = true)\n |    |    |    |    |    |    |    |    |    |    |    |    |    |-- description: string (nullable = true)\n |    |    |    |    |    |    |    |    |    |    |    |    |    |-- value: long (nullable = true)\n |    |    |    |    |    |    |    |    |    |    |    |    |-- value: long (nullable = true)\n |    |    |    |    |    |    |    |    |    |    |    |-- monochrome: struct (nullable = true)\n |    |    |    |    |    |    |    |    |    |    |    |    |-- description: string (nullable = true)\n |    |    |    |    |    |    |    |    |    |    |    |    |-- value: long (nullable = true)\n |    |    |    |    |    |    |    |    |    |    |-- value: long (nullable = true)\n |    |    |    |    |    |    |    |    |    |-- UC1: struct (nullable = true)\n |    |    |    |    |    |    |    |    |    |    |-- COLORTYPE: struct (nullable = true)\n |    |    |    |    |    |    |    |    |    |    |    |-- color: struct (nullable = true)\n |    |    |    |    |    |    |    |    |    |    |    |    |-- fullcolor: struct (nullable = true)\n |    |    |    |    |    |    |    |    |    |    |    |    |    |-- description: string (nullable = true)\n |    |    |    |    |    |    |    |    |    |    |    |    |    |-- value: long (nullable = true)\n |    |    |    |    |    |    |    |    |    |    |    |    |-- singlecolor: struct (nullable = true)\n |    |    |    |    |    |    |    |    |    |    |    |    |    |-- description: string (nullable = true)\n |    |    |    |    |    |    |    |    |    |    |    |    |    |-- value: long (nullable = true)\n |    |    |    |    |    |    |    |    |    |    |    |    |-- twocolor: struct (nullable = true)\n |    |    |    |    |    |    |    |    |    |    |    |    |    |-- description: string (nullable = true)\n |    |    |    |    |    |    |    |    |    |    |    |    |    |-- value: long (nullable = true)\n |    |    |    |    |    |    |    |    |    |    |    |    |-- value: long (nullable = true)\n |    |    |    |    |    |    |    |    |    |    |    |-- monochrome: struct (nullable = true)\n |    |    |    |    |    |    |    |    |    |    |    |    |-- description: string (nullable = true)\n |    |    |    |    |    |    |    |    |    |    |    |    |-- value: long (nullable = true)\n |    |    |    |    |    |    |    |    |    |    |-- value: long (nullable = true)\n |    |    |    |    |    |    |    |    |    |-- UC2: struct (nullable = true)\n |    |    |    |    |    |    |    |    |    |    |-- COLORTYPE: struct (nullable = true)\n |    |    |    |    |    |    |    |    |    |    |    |-- color: struct (nullable = true)\n |    |    |    |    |    |    |    |    |    |    |    |    |-- fullcolor: struct (nullable = true)\n |    |    |    |    |    |    |    |    |    |    |    |    |    |-- description: string (nullable = true)\n |    |    |    |    |    |    |    |    |    |    |    |    |    |-- value: long (nullable = true)\n |    |    |    |    |    |    |    |    |    |    |    |    |-- singlecolor: struct (nullable = true)\n |    |    |    |    |    |    |    |    |    |    |    |    |    |-- description: string (nullable = true)\n |    |    |    |    |    |    |    |    |    |    |    |    |    |-- value: long (nullable = true)\n |    |    |    |    |    |    |    |    |    |    |    |    |-- twocolor: struct (nullable = true)\n |    |    |    |    |    |    |    |    |    |    |    |    |    |-- description: string (nullable = true)\n |    |    |    |    |    |    |    |    |    |    |    |    |    |-- value: long (nullable = true)\n |    |    |    |    |    |    |    |    |    |    |    |    |-- value: long (nullable = true)\n |    |    |    |    |    |    |    |    |    |    |    |-- monochrome: struct (nullable = true)\n |    |    |    |    |    |    |    |    |    |    |    |    |-- description: string (nullable = true)\n |    |    |    |    |    |    |    |    |    |    |    |    |-- value: long (nullable = true)\n |    |    |    |    |    |    |    |    |    |    |-- value: long (nullable = true)\n |    |    |    |    |    |    |    |    |    |-- UC3: struct (nullable = true)\n |    |    |    |    |    |    |    |    |    |    |-- COLORTYPE: struct (nullable = true)\n |    |    |    |    |    |    |    |    |    |    |    |-- color: struct (nullable = true)\n |    |    |    |    |    |    |    |    |    |    |    |    |-- fullcolor: struct (nullable = true)\n |    |    |    |    |    |    |    |    |    |    |    |    |    |-- description: string (nullable = true)\n |    |    |    |    |    |    |    |    |    |    |    |    |    |-- value: long (nullable = true)\n |    |    |    |    |    |    |    |    |    |    |    |    |-- singlecolor: struct (nullable = true)\n |    |    |    |    |    |    |    |    |    |    |    |    |    |-- description: string (nullable = true)\n |    |    |    |    |    |    |    |    |    |    |    |    |    |-- value: long (nullable = true)\n |    |    |    |    |    |    |    |    |    |    |    |    |-- twocolor: struct (nullable = true)\n |    |    |    |    |    |    |    |    |    |    |    |    |    |-- description: string (nullable = true)\n |    |    |    |    |    |    |    |    |    |    |    |    |    |-- value: long (nullable = true)\n |    |    |    |    |    |    |    |    |    |    |    |    |-- value: long (nullable = true)\n |    |    |    |    |    |    |    |    |    |    |    |-- monochrome: struct (nullable = true)\n |    |    |    |    |    |    |    |    |    |    |    |    |-- description: string (nullable = true)\n |    |    |    |    |    |    |    |    |    |    |    |    |-- value: long (nullable = true)\n |    |    |    |    |    |    |    |    |    |    |-- value: long (nullable = true)\n |    |    |    |    |    |    |    |    |    |-- value: long (nullable = true)\n |    |    |    |    |    |    |    |    |-- filingData: struct (nullable = true)\n |    |    |    |    |    |    |    |    |    |-- COLORTYPE: struct (nullable = true)\n |    |    |    |    |    |    |    |    |    |    |-- color: struct (nullable = true)\n |    |    |    |    |    |    |    |    |    |    |    |-- fullcolor: struct (nullable = true)\n |    |    |    |    |    |    |    |    |    |    |    |    |-- value: long (nullable = true)\n |    |    |    |    |    |    |    |    |    |    |    |-- singlecolor: struct (nullable = true)\n |    |    |    |    |    |    |    |    |    |    |    |    |-- value: long (nullable = true)\n |    |    |    |    |    |    |    |    |    |    |    |-- twocolor: struct (nullable = true)\n |    |    |    |    |    |    |    |    |    |    |    |    |-- value: long (nullable = true)\n |    |    |    |    |    |    |    |    |    |    |    |-- value: long (nullable = true)\n |    |    |    |    |    |    |    |    |    |    |-- monochrome: struct (nullable = true)\n |    |    |    |    |    |    |    |    |    |    |    |-- value: long (nullable = true)\n |    |    |    |    |    |    |    |    |    |-- UC0: struct (nullable = true)\n |    |    |    |    |    |    |    |    |    |    |-- COLORTYPE: struct (nullable = true)\n |    |    |    |    |    |    |    |    |    |    |    |-- color: struct (nullable = true)\n |    |    |    |    |    |    |    |    |    |    |    |    |-- fullcolor: struct (nullable = true)\n |    |    |    |    |    |    |    |    |    |    |    |    |    |-- description: string (nullable = true)\n |    |    |    |    |    |    |    |    |    |    |    |    |    |-- value: long (nullable = true)\n |    |    |    |    |    |    |    |    |    |    |    |    |-- singlecolor: struct (nullable = true)\n |    |    |    |    |    |    |    |    |    |    |    |    |    |-- description: string (nullable = true)\n |    |    |    |    |    |    |    |    |    |    |    |    |    |-- value: long (nullable = true)\n |    |    |    |    |    |    |    |    |    |    |    |    |-- twocolor: struct (nullable = true)\n |    |    |    |    |    |    |    |    |    |    |    |    |    |-- description: string (nullable = true)\n |    |    |    |    |    |    |    |    |    |    |    |    |    |-- value: long (nullable = true)\n |    |    |    |    |    |    |    |    |    |    |    |    |-- value: long (nullable = true)\n |    |    |    |    |    |    |    |    |    |    |    |-- monochrome: struct (nullable = true)\n |    |    |    |    |    |    |    |    |    |    |    |    |-- description: string (nullable = true)\n |    |    |    |    |    |    |    |    |    |    |    |    |-- value: long (nullable = true)\n |    |    |    |    |    |    |    |    |    |    |-- value: long (nullable = true)\n |    |    |    |    |    |    |    |    |    |-- UC1: struct (nullable = true)\n |    |    |    |    |    |    |    |    |    |    |-- COLORTYPE: struct (nullable = true)\n |    |    |    |    |    |    |    |    |    |    |    |-- color: struct (nullable = true)\n |    |    |    |    |    |    |    |    |    |    |    |    |-- fullcolor: struct (nullable = true)\n |    |    |    |    |    |    |    |    |    |    |    |    |    |-- description: string (nullable = true)\n |    |    |    |    |    |    |    |    |    |    |    |    |    |-- value: long (nullable = true)\n |    |    |    |    |    |    |    |    |    |    |    |    |-- singlecolor: struct (nullable = true)\n |    |    |    |    |    |    |    |    |    |    |    |    |    |-- description: string (nullable = true)\n |    |    |    |    |    |    |    |    |    |    |    |    |    |-- value: long (nullable = true)\n |    |    |    |    |    |    |    |    |    |    |    |    |-- twocolor: struct (nullable = true)\n |    |    |    |    |    |    |    |    |    |    |    |    |    |-- description: string (nullable = true)\n |    |    |    |    |    |    |    |    |    |    |    |    |    |-- value: long (nullable = true)\n |    |    |    |    |    |    |    |    |    |    |    |    |-- value: long (nullable = true)\n |    |    |    |    |    |    |    |    |    |    |    |-- monochrome: struct (nullable = true)\n |    |    |    |    |    |    |    |    |    |    |    |    |-- description: string (nullable = true)\n |    |    |    |    |    |    |    |    |    |    |    |    |-- value: long (nullable = true)\n |    |    |    |    |    |    |    |    |    |    |-- value: long (nullable = true)\n |    |    |    |    |    |    |    |    |    |-- UC2: struct (nullable = true)\n |    |    |    |    |    |    |    |    |    |    |-- COLORTYPE: struct (nullable = true)\n |    |    |    |    |    |    |    |    |    |    |    |-- color: struct (nullable = true)\n |    |    |    |    |    |    |    |    |    |    |    |    |-- fullcolor: struct (nullable = true)\n |    |    |    |    |    |    |    |    |    |    |    |    |    |-- description: string (nullable = true)\n |    |    |    |    |    |    |    |    |    |    |    |    |    |-- value: long (nullable = true)\n |    |    |    |    |    |    |    |    |    |    |    |    |-- singlecolor: struct (nullable = true)\n |    |    |    |    |    |    |    |    |    |    |    |    |    |-- description: string (nullable = true)\n |    |    |    |    |    |    |    |    |    |    |    |    |    |-- value: long (nullable = true)\n |    |    |    |    |    |    |    |    |    |    |    |    |-- twocolor: struct (nullable = true)\n |    |    |    |    |    |    |    |    |    |    |    |    |    |-- description: string (nullable = true)\n |    |    |    |    |    |    |    |    |    |    |    |    |    |-- value: long (nullable = true)\n |    |    |    |    |    |    |    |    |    |    |    |    |-- value: long (nullable = true)\n |    |    |    |    |    |    |    |    |    |    |    |-- monochrome: struct (nullable = true)\n |    |    |    |    |    |    |    |    |    |    |    |    |-- description: string (nullable = true)\n |    |    |    |    |    |    |    |    |    |    |    |    |-- value: long (nullable = true)\n |    |    |    |    |    |    |    |    |    |    |-- value: long (nullable = true)\n |    |    |    |    |    |    |    |    |    |-- UC3: struct (nullable = true)\n |    |    |    |    |    |    |    |    |    |    |-- COLORTYPE: struct (nullable = true)\n |    |    |    |    |    |    |    |    |    |    |    |-- color: struct (nullable = true)\n |    |    |    |    |    |    |    |    |    |    |    |    |-- fullcolor: struct (nullable = true)\n |    |    |    |    |    |    |    |    |    |    |    |    |    |-- description: string (nullable = true)\n |    |    |    |    |    |    |    |    |    |    |    |    |    |-- value: long (nullable = true)\n |    |    |    |    |    |    |    |    |    |    |    |    |-- singlecolor: struct (nullable = true)\n |    |    |    |    |    |    |    |    |    |    |    |    |    |-- description: string (nullable = true)\n |    |    |    |    |    |    |    |    |    |    |    |    |    |-- value: long (nullable = true)\n |    |    |    |    |    |    |    |    |    |    |    |    |-- twocolor: struct (nullable = true)\n |    |    |    |    |    |    |    |    |    |    |    |    |    |-- description: string (nullable = true)\n |    |    |    |    |    |    |    |    |    |    |    |    |    |-- value: long (nullable = true)\n |    |    |    |    |    |    |    |    |    |    |    |    |-- value: long (nullable = true)\n |    |    |    |    |    |    |    |    |    |    |    |-- monochrome: struct (nullable = true)\n |    |    |    |    |    |    |    |    |    |    |    |    |-- description: string (nullable = true)\n |    |    |    |    |    |    |    |    |    |    |    |    |-- value: long (nullable = true)\n |    |    |    |    |    |    |    |    |    |    |-- value: long (nullable = true)\n |    |    |    |    |    |    |    |    |    |-- value: long (nullable = true)\n |    |    |    |    |    |    |    |    |-- others: struct (nullable = true)\n |    |    |    |    |    |    |    |    |    |-- COLORTYPE: struct (nullable = true)\n |    |    |    |    |    |    |    |    |    |    |-- color: struct (nullable = true)\n |    |    |    |    |    |    |    |    |    |    |    |-- fullcolor: struct (nullable = true)\n |    |    |    |    |    |    |    |    |    |    |    |    |-- value: long (nullable = true)\n |    |    |    |    |    |    |    |    |    |    |    |-- value: long (nullable = true)\n |    |    |    |    |    |    |    |    |    |    |-- monochrome: struct (nullable = true)\n |    |    |    |    |    |    |    |    |    |    |    |-- value: long (nullable = true)\n |    |    |    |    |    |    |    |    |    |-- UC0: struct (nullable = true)\n |    |    |    |    |    |    |    |    |    |    |-- COLORTYPE: struct (nullable = true)\n |    |    |    |    |    |    |    |    |    |    |    |-- color: struct (nullable = true)\n |    |    |    |    |    |    |    |    |    |    |    |    |-- fullcolor: struct (nullable = true)\n |    |    |    |    |    |    |    |    |    |    |    |    |    |-- description: string (nullable = true)\n |    |    |    |    |    |    |    |    |    |    |    |    |    |-- value: long (nullable = true)\n |    |    |    |    |    |    |    |    |    |    |    |    |-- value: long (nullable = true)\n |    |    |    |    |    |    |    |    |    |    |    |-- monochrome: struct (nullable = true)\n |    |    |    |    |    |    |    |    |    |    |    |    |-- description: string (nullable = true)\n |    |    |    |    |    |    |    |    |    |    |    |    |-- value: long (nullable = true)\n |    |    |    |    |    |    |    |    |    |    |-- value: long (nullable = true)\n |    |    |    |    |    |    |    |    |    |-- value: long (nullable = true)\n |    |    |    |    |    |    |    |    |-- prints: struct (nullable = true)\n |    |    |    |    |    |    |    |    |    |-- COLORTYPE: struct (nullable = true)\n |    |    |    |    |    |    |    |    |    |    |-- color: struct (nullable = true)\n |    |    |    |    |    |    |    |    |    |    |    |-- fullcolor: struct (nullable = true)\n |    |    |    |    |    |    |    |    |    |    |    |    |-- value: long (nullable = true)\n |    |    |    |    |    |    |    |    |    |    |    |-- singlecolor: struct (nullable = true)\n |    |    |    |    |    |    |    |    |    |    |    |    |-- value: long (nullable = true)\n |    |    |    |    |    |    |    |    |    |    |    |-- threecolor: struct (nullable = true)\n |    |    |    |    |    |    |    |    |    |    |    |    |-- value: long (nullable = true)\n |    |    |    |    |    |    |    |    |    |    |    |-- twocolor: struct (nullable = true)\n |    |    |    |    |    |    |    |    |    |    |    |    |-- value: long (nullable = true)\n |    |    |    |    |    |    |    |    |    |    |    |-- value: long (nullable = true)\n |    |    |    |    |    |    |    |    |    |    |-- monochrome: struct (nullable = true)\n |    |    |    |    |    |    |    |    |    |    |    |-- value: long (nullable = true)\n |    |    |    |    |    |    |    |    |    |-- UC0: struct (nullable = true)\n |    |    |    |    |    |    |    |    |    |    |-- COLORTYPE: struct (nullable = true)\n |    |    |    |    |    |    |    |    |    |    |    |-- color: struct (nullable = true)\n |    |    |    |    |    |    |    |    |    |    |    |    |-- fullcolor: struct (nullable = true)\n |    |    |    |    |    |    |    |    |    |    |    |    |    |-- description: string (nullable = true)\n |    |    |    |    |    |    |    |    |    |    |    |    |    |-- value: long (nullable = true)\n |    |    |    |    |    |    |    |    |    |    |    |    |-- singlecolor: struct (nullable = true)\n |    |    |    |    |    |    |    |    |    |    |    |    |    |-- description: string (nullable = true)\n |    |    |    |    |    |    |    |    |    |    |    |    |    |-- value: long (nullable = true)\n |    |    |    |    |    |    |    |    |    |    |    |    |-- threecolor: struct (nullable = true)\n |    |    |    |    |    |    |    |    |    |    |    |    |    |-- description: string (nullable = true)\n |    |    |    |    |    |    |    |    |    |    |    |    |    |-- value: long (nullable = true)\n |    |    |    |    |    |    |    |    |    |    |    |    |-- twocolor: struct (nullable = true)\n |    |    |    |    |    |    |    |    |    |    |    |    |    |-- description: string (nullable = true)\n |    |    |    |    |    |    |    |    |    |    |    |    |    |-- value: long (nullable = true)\n |    |    |    |    |    |    |    |    |    |    |    |    |-- value: long (nullable = true)\n |    |    |    |    |    |    |    |    |    |    |    |-- monochrome: struct (nullable = true)\n |    |    |    |    |    |    |    |    |    |    |    |    |-- description: string (nullable = true)\n |    |    |    |    |    |    |    |    |    |    |    |    |-- value: long (nullable = true)\n |    |    |    |    |    |    |    |    |    |    |-- value: long (nullable = true)\n |    |    |    |    |    |    |    |    |    |-- UC1: struct (nullable = true)\n |    |    |    |    |    |    |    |    |    |    |-- COLORTYPE: struct (nullable = true)\n |    |    |    |    |    |    |    |    |    |    |    |-- color: struct (nullable = true)\n |    |    |    |    |    |    |    |    |    |    |    |    |-- fullcolor: struct (nullable = true)\n |    |    |    |    |    |    |    |    |    |    |    |    |    |-- description: string (nullable = true)\n |    |    |    |    |    |    |    |    |    |    |    |    |    |-- value: long (nullable = true)\n |    |    |    |    |    |    |    |    |    |    |    |    |-- singlecolor: struct (nullable = true)\n |    |    |    |    |    |    |    |    |    |    |    |    |    |-- description: string (nullable = true)\n |    |    |    |    |    |    |    |    |    |    |    |    |    |-- value: long (nullable = true)\n |    |    |    |    |    |    |    |    |    |    |    |    |-- threeco\n\n*** WARNING: max output size exceeded, skipping output. ***\n\n  |    |    |    |-- value: long (nullable = true)\n |    |    |    |    |    |    |    |    |    |    |    |    |-- twocolor: struct (nullable = true)\n |    |    |    |    |    |    |    |    |    |    |    |    |    |-- description: string (nullable = true)\n |    |    |    |    |    |    |    |    |    |    |    |    |    |-- value: long (nullable = true)\n |    |    |    |    |    |    |    |    |    |    |    |    |-- value: long (nullable = true)\n |    |    |    |    |    |    |    |    |    |    |    |-- monochrome: struct (nullable = true)\n |    |    |    |    |    |    |    |    |    |    |    |    |-- description: string (nullable = true)\n |    |    |    |    |    |    |    |    |    |    |    |    |-- value: long (nullable = true)\n |    |    |    |    |    |    |    |    |    |    |-- value: long (nullable = true)\n |    |    |    |    |    |    |    |    |    |-- value: long (nullable = true)\n |    |    |    |    |    |    |    |-- UC0: struct (nullable = true)\n |    |    |    |    |    |    |    |    |-- COLORTYPE: struct (nullable = true)\n |    |    |    |    |    |    |    |    |    |-- color: struct (nullable = true)\n |    |    |    |    |    |    |    |    |    |    |-- fullcolor: struct (nullable = true)\n |    |    |    |    |    |    |    |    |    |    |    |-- value: long (nullable = true)\n |    |    |    |    |    |    |    |    |    |    |-- singlecolor: struct (nullable = true)\n |    |    |    |    |    |    |    |    |    |    |    |-- value: long (nullable = true)\n |    |    |    |    |    |    |    |    |    |    |-- threecolor: struct (nullable = true)\n |    |    |    |    |    |    |    |    |    |    |    |-- value: long (nullable = true)\n |    |    |    |    |    |    |    |    |    |    |-- twocolor: struct (nullable = true)\n |    |    |    |    |    |    |    |    |    |    |    |-- value: long (nullable = true)\n |    |    |    |    |    |    |    |    |    |    |-- value: long (nullable = true)\n |    |    |    |    |    |    |    |    |    |-- monochrome: struct (nullable = true)\n |    |    |    |    |    |    |    |    |    |    |-- value: long (nullable = true)\n |    |    |    |    |    |    |    |    |-- value: long (nullable = true)\n |    |    |    |    |    |    |    |-- UC1: struct (nullable = true)\n |    |    |    |    |    |    |    |    |-- COLORTYPE: struct (nullable = true)\n |    |    |    |    |    |    |    |    |    |-- color: struct (nullable = true)\n |    |    |    |    |    |    |    |    |    |    |-- fullcolor: struct (nullable = true)\n |    |    |    |    |    |    |    |    |    |    |    |-- value: long (nullable = true)\n |    |    |    |    |    |    |    |    |    |    |-- singlecolor: struct (nullable = true)\n |    |    |    |    |    |    |    |    |    |    |    |-- value: long (nullable = true)\n |    |    |    |    |    |    |    |    |    |    |-- threecolor: struct (nullable = true)\n |    |    |    |    |    |    |    |    |    |    |    |-- value: long (nullable = true)\n |    |    |    |    |    |    |    |    |    |    |-- twocolor: struct (nullable = true)\n |    |    |    |    |    |    |    |    |    |    |    |-- value: long (nullable = true)\n |    |    |    |    |    |    |    |    |    |    |-- value: long (nullable = true)\n |    |    |    |    |    |    |    |    |    |-- monochrome: struct (nullable = true)\n |    |    |    |    |    |    |    |    |    |    |-- value: long (nullable = true)\n |    |    |    |    |    |    |    |    |-- value: long (nullable = true)\n |    |    |    |    |    |    |    |-- UC2: struct (nullable = true)\n |    |    |    |    |    |    |    |    |-- COLORTYPE: struct (nullable = true)\n |    |    |    |    |    |    |    |    |    |-- color: struct (nullable = true)\n |    |    |    |    |    |    |    |    |    |    |-- fullcolor: struct (nullable = true)\n |    |    |    |    |    |    |    |    |    |    |    |-- value: long (nullable = true)\n |    |    |    |    |    |    |    |    |    |    |-- singlecolor: struct (nullable = true)\n |    |    |    |    |    |    |    |    |    |    |    |-- value: long (nullable = true)\n |    |    |    |    |    |    |    |    |    |    |-- threecolor: struct (nullable = true)\n |    |    |    |    |    |    |    |    |    |    |    |-- value: long (nullable = true)\n |    |    |    |    |    |    |    |    |    |    |-- twocolor: struct (nullable = true)\n |    |    |    |    |    |    |    |    |    |    |    |-- value: long (nullable = true)\n |    |    |    |    |    |    |    |    |    |    |-- value: long (nullable = true)\n |    |    |    |    |    |    |    |    |    |-- monochrome: struct (nullable = true)\n |    |    |    |    |    |    |    |    |    |    |-- value: long (nullable = true)\n |    |    |    |    |    |    |    |    |-- value: long (nullable = true)\n |    |    |    |    |    |    |    |-- UC3: struct (nullable = true)\n |    |    |    |    |    |    |    |    |-- COLORTYPE: struct (nullable = true)\n |    |    |    |    |    |    |    |    |    |-- color: struct (nullable = true)\n |    |    |    |    |    |    |    |    |    |    |-- fullcolor: struct (nullable = true)\n |    |    |    |    |    |    |    |    |    |    |    |-- value: long (nullable = true)\n |    |    |    |    |    |    |    |    |    |    |-- singlecolor: struct (nullable = true)\n |    |    |    |    |    |    |    |    |    |    |    |-- value: long (nullable = true)\n |    |    |    |    |    |    |    |    |    |    |-- threecolor: struct (nullable = true)\n |    |    |    |    |    |    |    |    |    |    |    |-- value: long (nullable = true)\n |    |    |    |    |    |    |    |    |    |    |-- twocolor: struct (nullable = true)\n |    |    |    |    |    |    |    |    |    |    |    |-- value: long (nullable = true)\n |    |    |    |    |    |    |    |    |    |    |-- value: long (nullable = true)\n |    |    |    |    |    |    |    |    |    |-- monochrome: struct (nullable = true)\n |    |    |    |    |    |    |    |    |    |    |-- value: long (nullable = true)\n |    |    |    |    |    |    |    |    |-- value: long (nullable = true)\n |    |    |    |    |    |    |    |-- value: long (nullable = true)\n |    |    |    |    |    |-- powerOnCount: struct (nullable = true)\n |    |    |    |    |    |    |-- type: string (nullable = true)\n |    |    |    |    |    |    |-- unit: string (nullable = true)\n |    |    |    |    |    |    |-- value: long (nullable = true)\n |    |    |    |    |    |-- total: struct (nullable = true)\n |    |    |    |    |    |    |-- output: struct (nullable = true)\n |    |    |    |    |    |    |    |-- COLORTYPE: struct (nullable = true)\n |    |    |    |    |    |    |    |    |-- color: struct (nullable = true)\n |    |    |    |    |    |    |    |    |    |-- fullcolor: struct (nullable = true)\n |    |    |    |    |    |    |    |    |    |    |-- value: long (nullable = true)\n |    |    |    |    |    |    |    |    |    |-- singlecolor: struct (nullable = true)\n |    |    |    |    |    |    |    |    |    |    |-- value: long (nullable = true)\n |    |    |    |    |    |    |    |    |    |-- threecolor: struct (nullable = true)\n |    |    |    |    |    |    |    |    |    |    |-- value: long (nullable = true)\n |    |    |    |    |    |    |    |    |    |-- twocolor: struct (nullable = true)\n |    |    |    |    |    |    |    |    |    |    |-- value: long (nullable = true)\n |    |    |    |    |    |    |    |    |    |-- value: long (nullable = true)\n |    |    |    |    |    |    |    |    |-- monochrome: struct (nullable = true)\n |    |    |    |    |    |    |    |    |    |-- value: long (nullable = true)\n |    |    |    |    |    |    |    |-- UC0: struct (nullable = true)\n |    |    |    |    |    |    |    |    |-- COLORTYPE: struct (nullable = true)\n |    |    |    |    |    |    |    |    |    |-- color: struct (nullable = true)\n |    |    |    |    |    |    |    |    |    |    |-- fullcolor: struct (nullable = true)\n |    |    |    |    |    |    |    |    |    |    |    |-- value: long (nullable = true)\n |    |    |    |    |    |    |    |    |    |    |-- singlecolor: struct (nullable = true)\n |    |    |    |    |    |    |    |    |    |    |    |-- value: long (nullable = true)\n |    |    |    |    |    |    |    |    |    |    |-- threecolor: struct (nullable = true)\n |    |    |    |    |    |    |    |    |    |    |    |-- value: long (nullable = true)\n |    |    |    |    |    |    |    |    |    |    |-- twocolor: struct (nullable = true)\n |    |    |    |    |    |    |    |    |    |    |    |-- value: long (nullable = true)\n |    |    |    |    |    |    |    |    |    |    |-- value: long (nullable = true)\n |    |    |    |    |    |    |    |    |    |-- monochrome: struct (nullable = true)\n |    |    |    |    |    |    |    |    |    |    |-- value: long (nullable = true)\n |    |    |    |    |    |    |    |    |-- value: long (nullable = true)\n |    |    |    |    |    |    |    |-- UC1: struct (nullable = true)\n |    |    |    |    |    |    |    |    |-- COLORTYPE: struct (nullable = true)\n |    |    |    |    |    |    |    |    |    |-- color: struct (nullable = true)\n |    |    |    |    |    |    |    |    |    |    |-- fullcolor: struct (nullable = true)\n |    |    |    |    |    |    |    |    |    |    |    |-- value: long (nullable = true)\n |    |    |    |    |    |    |    |    |    |    |-- singlecolor: struct (nullable = true)\n |    |    |    |    |    |    |    |    |    |    |    |-- value: long (nullable = true)\n |    |    |    |    |    |    |    |    |    |    |-- threecolor: struct (nullable = true)\n |    |    |    |    |    |    |    |    |    |    |    |-- value: long (nullable = true)\n |    |    |    |    |    |    |    |    |    |    |-- twocolor: struct (nullable = true)\n |    |    |    |    |    |    |    |    |    |    |    |-- value: long (nullable = true)\n |    |    |    |    |    |    |    |    |    |    |-- value: long (nullable = true)\n |    |    |    |    |    |    |    |    |    |-- monochrome: struct (nullable = true)\n |    |    |    |    |    |    |    |    |    |    |-- value: long (nullable = true)\n |    |    |    |    |    |    |    |    |-- value: long (nullable = true)\n |    |    |    |    |    |    |    |-- UC2: struct (nullable = true)\n |    |    |    |    |    |    |    |    |-- COLORTYPE: struct (nullable = true)\n |    |    |    |    |    |    |    |    |    |-- color: struct (nullable = true)\n |    |    |    |    |    |    |    |    |    |    |-- fullcolor: struct (nullable = true)\n |    |    |    |    |    |    |    |    |    |    |    |-- value: long (nullable = true)\n |    |    |    |    |    |    |    |    |    |    |-- singlecolor: struct (nullable = true)\n |    |    |    |    |    |    |    |    |    |    |    |-- value: long (nullable = true)\n |    |    |    |    |    |    |    |    |    |    |-- threecolor: struct (nullable = true)\n |    |    |    |    |    |    |    |    |    |    |    |-- value: long (nullable = true)\n |    |    |    |    |    |    |    |    |    |    |-- twocolor: struct (nullable = true)\n |    |    |    |    |    |    |    |    |    |    |    |-- value: long (nullable = true)\n |    |    |    |    |    |    |    |    |    |    |-- value: long (nullable = true)\n |    |    |    |    |    |    |    |    |    |-- monochrome: struct (nullable = true)\n |    |    |    |    |    |    |    |    |    |    |-- value: long (nullable = true)\n |    |    |    |    |    |    |    |    |-- value: long (nullable = true)\n |    |    |    |    |    |    |    |-- UC3: struct (nullable = true)\n |    |    |    |    |    |    |    |    |-- COLORTYPE: struct (nullable = true)\n |    |    |    |    |    |    |    |    |    |-- color: struct (nullable = true)\n |    |    |    |    |    |    |    |    |    |    |-- fullcolor: struct (nullable = true)\n |    |    |    |    |    |    |    |    |    |    |    |-- value: long (nullable = true)\n |    |    |    |    |    |    |    |    |    |    |-- singlecolor: struct (nullable = true)\n |    |    |    |    |    |    |    |    |    |    |    |-- value: long (nullable = true)\n |    |    |    |    |    |    |    |    |    |    |-- threecolor: struct (nullable = true)\n |    |    |    |    |    |    |    |    |    |    |    |-- value: long (nullable = true)\n |    |    |    |    |    |    |    |    |    |    |-- twocolor: struct (nullable = true)\n |    |    |    |    |    |    |    |    |    |    |    |-- value: long (nullable = true)\n |    |    |    |    |    |    |    |    |    |    |-- value: long (nullable = true)\n |    |    |    |    |    |    |    |    |    |-- monochrome: struct (nullable = true)\n |    |    |    |    |    |    |    |    |    |    |-- value: long (nullable = true)\n |    |    |    |    |    |    |    |    |-- value: long (nullable = true)\n |    |    |    |    |    |    |    |-- value: long (nullable = true)\n |    |    |    |    |    |    |-- send: struct (nullable = true)\n |    |    |    |    |    |    |    |-- COLORTYPE: struct (nullable = true)\n |    |    |    |    |    |    |    |    |-- color: struct (nullable = true)\n |    |    |    |    |    |    |    |    |    |-- fullcolor: struct (nullable = true)\n |    |    |    |    |    |    |    |    |    |    |-- value: long (nullable = true)\n |    |    |    |    |    |    |    |    |    |-- singlecolor: struct (nullable = true)\n |    |    |    |    |    |    |    |    |    |    |-- value: long (nullable = true)\n |    |    |    |    |    |    |    |    |    |-- twocolor: struct (nullable = true)\n |    |    |    |    |    |    |    |    |    |    |-- value: long (nullable = true)\n |    |    |    |    |    |    |    |    |    |-- value: long (nullable = true)\n |    |    |    |    |    |    |    |    |-- monochrome: struct (nullable = true)\n |    |    |    |    |    |    |    |    |    |-- value: long (nullable = true)\n |    |    |    |    |    |    |    |-- value: long (nullable = true)\n |    |    |    |-- coverList: array (nullable = true)\n |    |    |    |    |-- element: struct (containsNull = true)\n |    |    |    |    |    |-- description: string (nullable = true)\n |    |    |    |    |    |-- status: string (nullable = true)\n |    |    |    |-- description: string (nullable = true)\n |    |    |    |-- deviceEntryList: array (nullable = true)\n |    |    |    |    |-- element: struct (containsNull = true)\n |    |    |    |    |    |-- description: string (nullable = true)\n |    |    |    |    |    |-- deviceID: string (nullable = true)\n |    |    |    |    |    |-- deviceIndex: string (nullable = true)\n |    |    |    |    |    |-- errors: string (nullable = true)\n |    |    |    |    |    |-- status: string (nullable = true)\n |    |    |    |    |    |-- type: string (nullable = true)\n |    |    |    |-- deviceImage: struct (nullable = true)\n |    |    |    |    |-- allowedFormat: struct (nullable = true)\n |    |    |    |    |    |-- format: string (nullable = true)\n |    |    |    |    |-- currentImage: struct (nullable = true)\n |    |    |    |    |    |-- URL: string (nullable = true)\n |    |    |    |    |    |-- format: string (nullable = true)\n |    |    |    |    |    |-- height: string (nullable = true)\n |    |    |    |    |    |-- rawData: string (nullable = true)\n |    |    |    |    |    |-- size: string (nullable = true)\n |    |    |    |    |    |-- width: string (nullable = true)\n |    |    |    |-- disposalMarkerList: array (nullable = true)\n |    |    |    |    |-- element: struct (containsNull = true)\n |    |    |    |    |    |-- amount: struct (nullable = true)\n |    |    |    |    |    |    |-- capacity: string (nullable = true)\n |    |    |    |    |    |    |-- state: string (nullable = true)\n |    |    |    |    |    |    |-- typical: string (nullable = true)\n |    |    |    |    |    |    |-- unit: string (nullable = true)\n |    |    |    |    |    |-- color: string (nullable = true)\n |    |    |    |    |    |-- description: string (nullable = true)\n |    |    |    |    |    |-- type: string (nullable = true)\n |    |    |    |-- embededWebServerSupported: string (nullable = true)\n |    |    |    |-- engine: struct (nullable = true)\n |    |    |    |    |-- pagesPerMinitues: string (nullable = true)\n |    |    |    |-- errorLevel: string (nullable = true)\n |    |    |    |-- familyName: string (nullable = true)\n |    |    |    |-- finishingList: array (nullable = true)\n |    |    |    |    |-- element: struct (containsNull = true)\n |    |    |    |    |    |-- amount: struct (nullable = true)\n |    |    |    |    |    |    |-- capacity: string (nullable = true)\n |    |    |    |    |    |    |-- typical: string (nullable = true)\n |    |    |    |    |    |    |-- unit: string (nullable = true)\n |    |    |    |    |    |-- description: string (nullable = true)\n |    |    |    |    |    |-- type: string (nullable = true)\n |    |    |    |-- firmwareVersion: string (nullable = true)\n |    |    |    |-- friendlyName: string (nullable = true)\n |    |    |    |-- inTrayDefault: string (nullable = true)\n |    |    |    |-- inTrayList: array (nullable = true)\n |    |    |    |    |-- element: struct (containsNull = true)\n |    |    |    |    |    |-- amount: struct (nullable = true)\n |    |    |    |    |    |    |-- capacity: string (nullable = true)\n |    |    |    |    |    |    |-- state: string (nullable = true)\n |    |    |    |    |    |    |-- typical: string (nullable = true)\n |    |    |    |    |    |    |-- unit: string (nullable = true)\n |    |    |    |    |    |-- description: string (nullable = true)\n |    |    |    |    |    |-- id: string (nullable = true)\n |    |    |    |    |    |-- inserter: string (nullable = true)\n |    |    |    |    |    |-- manual: string (nullable = true)\n |    |    |    |    |    |-- mediaDimFeed: string (nullable = true)\n |    |    |    |    |    |-- mediaDimXFeed: string (nullable = true)\n |    |    |    |    |    |-- mediaName: string (nullable = true)\n |    |    |    |    |    |-- mediaSize: string (nullable = true)\n |    |    |    |    |    |-- mediaSizeHeight: string (nullable = true)\n |    |    |    |    |    |-- mediaSizeName: string (nullable = true)\n |    |    |    |    |    |-- mediaSizeUnit: string (nullable = true)\n |    |    |    |    |    |-- mediaSizeWidth: string (nullable = true)\n |    |    |    |    |    |-- mediaType: string (nullable = true)\n |    |    |    |    |    |-- modelName: string (nullable = true)\n |    |    |    |    |    |-- name: string (nullable = true)\n |    |    |    |    |    |-- virtual: string (nullable = true)\n |    |    |    |-- location: struct (nullable = true)\n |    |    |    |    |-- address: string (nullable = true)\n |    |    |    |    |-- country: string (nullable = true)\n |    |    |    |    |-- language: string (nullable = true)\n |    |    |    |-- machineId: string (nullable = true)\n |    |    |    |-- maintenanceCodeList: array (nullable = true)\n |    |    |    |    |-- element: string (containsNull = true)\n |    |    |    |-- markerList: array (nullable = true)\n |    |    |    |    |-- element: struct (containsNull = true)\n |    |    |    |    |    |-- amount: struct (nullable = true)\n |    |    |    |    |    |    |-- capacity: string (nullable = true)\n |    |    |    |    |    |    |-- state: string (nullable = true)\n |    |    |    |    |    |    |-- typical: string (nullable = true)\n |    |    |    |    |    |    |-- unit: string (nullable = true)\n |    |    |    |    |    |-- color: string (nullable = true)\n |    |    |    |    |    |-- description: string (nullable = true)\n |    |    |    |    |    |-- type: string (nullable = true)\n |    |    |    |-- memory: struct (nullable = true)\n |    |    |    |    |-- size: string (nullable = true)\n |    |    |    |-- modelName: string (nullable = true)\n |    |    |    |-- outTrayDefault: string (nullable = true)\n |    |    |    |-- outTrayList: array (nullable = true)\n |    |    |    |    |-- element: struct (containsNull = true)\n |    |    |    |    |    |-- amount: struct (nullable = true)\n |    |    |    |    |    |    |-- capacity: string (nullable = true)\n |    |    |    |    |    |    |-- state: string (nullable = true)\n |    |    |    |    |    |    |-- typical: string (nullable = true)\n |    |    |    |    |    |    |-- unit: string (nullable = true)\n |    |    |    |    |    |-- deliveryOrientation: string (nullable = true)\n |    |    |    |    |    |-- description: string (nullable = true)\n |    |    |    |    |    |-- id: string (nullable = true)\n |    |    |    |    |    |-- modelName: string (nullable = true)\n |    |    |    |    |    |-- name: string (nullable = true)\n |    |    |    |    |    |-- stackingOrder: string (nullable = true)\n |    |    |    |-- serialId: string (nullable = true)\n |    |    |    |-- serviceCodeList: array (nullable = true)\n |    |    |    |    |-- element: string (containsNull = true)\n |    |    |    |-- statusRawValue: string (nullable = true)\n |    |    |    |-- statusSet: struct (nullable = true)\n |    |    |    |    |-- accountLimit: string (nullable = true)\n |    |    |    |    |-- allOutputTrayFull: string (nullable = true)\n |    |    |    |    |-- coverOpen: string (nullable = true)\n |    |    |    |    |-- inputTrayMissing: string (nullable = true)\n |    |    |    |    |-- markerSupplyMissing: string (nullable = true)\n |    |    |    |    |-- nearOverduePreventMaintenance: string (nullable = true)\n |    |    |    |    |-- offline: string (nullable = true)\n |    |    |    |    |-- online: string (nullable = true)\n |    |    |    |    |-- outputTrayFull: string (nullable = true)\n |    |    |    |    |-- outputTrayMissing: string (nullable = true)\n |    |    |    |    |-- outputTrayNearFull: string (nullable = true)\n |    |    |    |    |-- overduePreventMaintenance: string (nullable = true)\n |    |    |    |    |-- paperEmpty: string (nullable = true)\n |    |    |    |    |-- paperJam: string (nullable = true)\n |    |    |    |    |-- paperLow: string (nullable = true)\n |    |    |    |    |-- printerError: string (nullable = true)\n |    |    |    |    |-- printerWarning: string (nullable = true)\n |    |    |    |    |-- printing: string (nullable = true)\n |    |    |    |    |-- specifiedInputTrayEmpty: string (nullable = true)\n |    |    |    |    |-- specifiedInputTrayMissing: string (nullable = true)\n |    |    |    |    |-- specifiedOutputTrayMissing: string (nullable = true)\n |    |    |    |    |-- stackerNotInstalled: string (nullable = true)\n |    |    |    |    |-- standby: string (nullable = true)\n |    |    |    |    |-- tonerEmpty: string (nullable = true)\n |    |    |    |    |-- tonerLow: string (nullable = true)\n |    |    |    |    |-- warmUp: string (nullable = true)\n |    |    |    |-- trapSupported: string (nullable = true)\n |    |    |    |-- upTime: string (nullable = true)\n |    |    |-- interface: struct (nullable = true)\n |    |    |    |-- ethernetList: array (nullable = true)\n |    |    |    |    |-- element: struct (containsNull = true)\n |    |    |    |    |    |-- address: string (nullable = true)\n |    |    |    |    |    |-- id: string (nullable = true)\n |    |    |    |    |    |-- type: string (nullable = true)\n |    |    |    |-- ipList: array (nullable = true)\n |    |    |    |    |-- element: struct (containsNull = true)\n |    |    |    |    |    |-- address: string (nullable = true)\n |    |    |    |    |    |-- defaultRoute: string (nullable = true)\n |    |    |    |    |    |-- ethernetId: string (nullable = true)\n |    |    |    |    |    |-- subnetMask: string (nullable = true)\n |    |    |-- service: struct (nullable = true)\n |    |    |    |-- print: struct (nullable = true)\n |    |    |    |    |-- channelList: array (nullable = true)\n |    |    |    |    |    |-- element: struct (containsNull = true)\n |    |    |    |    |    |    |-- descriptionLanguageDefault: string (nullable = true)\n |    |    |    |    |    |    |-- id: string (nullable = true)\n |    |    |    |    |    |    |-- mediaPathDefault: string (nullable = true)\n |    |    |    |    |-- descriptionLanguageList: array (nullable = true)\n |    |    |    |    |    |-- element: string (containsNull = true)\n |    |    |    |    |-- mediaPathList: array (nullable = true)\n |    |    |    |    |    |-- element: struct (containsNull = true)\n |    |    |    |    |    |    |-- id: string (nullable = true)\n |    |    |    |    |    |    |-- type: string (nullable = true)\n |    |-- timestamp: long (nullable = true)\n |    |-- type: string (nullable = true)\n |-- EnqueuedTimeUtc: string (nullable = true)\n |-- Properties: struct (nullable = true)\n |    |-- appTopic: string (nullable = true)\n |-- SystemProperties: struct (nullable = true)\n |    |-- connectionAuthMethod: string (nullable = true)\n |    |-- connectionDeviceGenerationId: string (nullable = true)\n |    |-- connectionDeviceId: string (nullable = true)\n |    |-- contentEncoding: string (nullable = true)\n |    |-- contentType: string (nullable = true)\n |    |-- enqueuedTime: string (nullable = true)\n\n"
     ]
    }
   ],
   "source": [
    "df.printSchema()"
   ]
  },
  {
   "cell_type": "code",
   "execution_count": 0,
   "metadata": {
    "application/vnd.databricks.v1+cell": {
     "cellMetadata": {
      "byteLimit": 2048000,
      "rowLimit": 10000
     },
     "inputWidgets": {},
     "nuid": "b323408b-2fba-443a-9b47-f5126e9b10b9",
     "showTitle": false,
     "tableResultSettingsMap": {},
     "title": ""
    }
   },
   "outputs": [
    {
     "output_type": "stream",
     "name": "stdout",
     "output_type": "stream",
     "text": [
      "+--------------------+--------------------+--------------------+--------------------+\n|     EnqueuedTimeUtc|          Properties|    SystemProperties|                Body|\n+--------------------+--------------------+--------------------+--------------------+\n|2024-12-06T08:02:...|{rp.mib/dev/2be00...|{2be00f09-5d33-47...|{smsProps, null, ...|\n|2024-12-18T23:56:...|{rp.mib/dev/c3566...|{c3566d1b-4d59-47...|{offline, 90, mn=...|\n|2024-11-21T07:21:...|{rp.mib/dev/f6ee0...|{f6ee0457-9923-4c...|{smsProps, null, ...|\n|2024-11-21T07:22:...|{rp.mib/dev/f6ee0...|{f6ee0457-9923-4c...|{offline, 90, mn=...|\n+--------------------+--------------------+--------------------+--------------------+\n\n"
     ]
    }
   ],
   "source": [
    "df = spark.read.format(\"json\").schema(schema).load(file_name)\n",
    "df.show()"
   ]
  },
  {
   "cell_type": "code",
   "execution_count": 0,
   "metadata": {
    "application/vnd.databricks.v1+cell": {
     "cellMetadata": {
      "byteLimit": 2048000,
      "rowLimit": 10000
     },
     "inputWidgets": {},
     "nuid": "b7796cf1-c985-4ca6-9007-eb9654c9e784",
     "showTitle": false,
     "tableResultSettingsMap": {},
     "title": ""
    }
   },
   "outputs": [
    {
     "output_type": "stream",
     "name": "stdout",
     "output_type": "stream",
     "text": [
      "+--------------------+\n|                Body|\n+--------------------+\n|{smsProps, null, ...|\n|{offline, 90, mn=...|\n|{smsProps, null, ...|\n|{offline, 90, mn=...|\n+--------------------+\n\n"
     ]
    }
   ],
   "source": [
    "sname = df.select('Body').show()"
   ]
  },
  {
   "cell_type": "code",
   "execution_count": 0,
   "metadata": {
    "application/vnd.databricks.v1+cell": {
     "cellMetadata": {
      "byteLimit": 2048000,
      "rowLimit": 10000
     },
     "inputWidgets": {},
     "nuid": "f31bb56e-449f-4747-91a7-6c74eab20bdd",
     "showTitle": false,
     "tableResultSettingsMap": {},
     "title": ""
    }
   },
   "outputs": [],
   "source": [
    "schedule_names = df.select(\"Body.scheduleName\").distinct().collect()\n",
    "\n",
    "# Convert Row objects to a list of strings\n",
    "schedule_names = [row[\"scheduleName\"] for row in schedule_names]"
   ]
  },
  {
   "cell_type": "code",
   "execution_count": 0,
   "metadata": {
    "application/vnd.databricks.v1+cell": {
     "cellMetadata": {
      "byteLimit": 2048000,
      "rowLimit": 10000
     },
     "inputWidgets": {},
     "nuid": "af80b8a9-736b-46c5-8a89-d7ee9c20889a",
     "showTitle": false,
     "tableResultSettingsMap": {},
     "title": ""
    }
   },
   "outputs": [],
   "source": [
    "json_delta_path1 = '/temp/json_delta_table2'"
   ]
  },
  {
   "cell_type": "code",
   "execution_count": 0,
   "metadata": {
    "application/vnd.databricks.v1+cell": {
     "cellMetadata": {
      "byteLimit": 2048000,
      "rowLimit": 10000
     },
     "inputWidgets": {},
     "nuid": "0c67cf00-c432-4f5c-9cc7-2051149ed64d",
     "showTitle": false,
     "tableResultSettingsMap": {},
     "title": ""
    }
   },
   "outputs": [],
   "source": [
    "df.write.format(\"delta\").mode(\"overwrite\").save(json_delta_path1)\n"
   ]
  },
  {
   "cell_type": "code",
   "execution_count": 0,
   "metadata": {
    "application/vnd.databricks.v1+cell": {
     "cellMetadata": {
      "byteLimit": 2048000,
      "rowLimit": 10000
     },
     "inputWidgets": {},
     "nuid": "d74a12d2-b27b-4175-965d-f54acf5af9db",
     "showTitle": false,
     "tableResultSettingsMap": {},
     "title": ""
    }
   },
   "outputs": [
    {
     "output_type": "stream",
     "name": "stdout",
     "output_type": "stream",
     "text": [
      "Out[11]: DataFrame[]"
     ]
    }
   ],
   "source": [
    "spark.sql(f\"CREATE TABLE IF NOT EXISTS my_delta_table USING DELTA LOCATION '{json_delta_path1}'\")\n"
   ]
  },
  {
   "cell_type": "code",
   "execution_count": 0,
   "metadata": {
    "application/vnd.databricks.v1+cell": {
     "cellMetadata": {
      "byteLimit": 2048000,
      "rowLimit": 10000
     },
     "inputWidgets": {},
     "nuid": "1918d4c8-441a-41a6-87bd-dfd66b47cb14",
     "showTitle": false,
     "tableResultSettingsMap": {},
     "title": ""
    }
   },
   "outputs": [
    {
     "output_type": "stream",
     "name": "stdout",
     "output_type": "stream",
     "text": [
      "+--------------------+--------------------+--------------------+--------------------+\n|     EnqueuedTimeUtc|          Properties|    SystemProperties|                Body|\n+--------------------+--------------------+--------------------+--------------------+\n|2024-12-06T08:02:...|{rp.mib/dev/2be00...|{2be00f09-5d33-47...|{smsProps, null, ...|\n|2024-12-18T23:56:...|{rp.mib/dev/c3566...|{c3566d1b-4d59-47...|{offline, 90, mn=...|\n|2024-11-21T07:21:...|{rp.mib/dev/f6ee0...|{f6ee0457-9923-4c...|{smsProps, null, ...|\n|2024-11-21T07:22:...|{rp.mib/dev/f6ee0...|{f6ee0457-9923-4c...|{offline, 90, mn=...|\n+--------------------+--------------------+--------------------+--------------------+\n\n"
     ]
    }
   ],
   "source": [
    "spark.sql(\"SELECT * FROM my_delta_table\").show()"
   ]
  },
  {
   "cell_type": "code",
   "execution_count": 0,
   "metadata": {
    "application/vnd.databricks.v1+cell": {
     "cellMetadata": {
      "byteLimit": 2048000,
      "rowLimit": 10000
     },
     "inputWidgets": {},
     "nuid": "d9c3a30f-68ff-4db8-a138-719dd1c7f498",
     "showTitle": false,
     "tableResultSettingsMap": {},
     "title": ""
    }
   },
   "outputs": [
    {
     "output_type": "stream",
     "name": "stdout",
     "output_type": "stream",
     "text": [
      "Out[13]: 4"
     ]
    }
   ],
   "source": [
    "df.select('Body.scheduleName').count()\n"
   ]
  },
  {
   "cell_type": "code",
   "execution_count": 0,
   "metadata": {
    "application/vnd.databricks.v1+cell": {
     "cellMetadata": {
      "byteLimit": 2048000,
      "rowLimit": 10000
     },
     "inputWidgets": {},
     "nuid": "0b97ddb1-b389-4637-a2d3-347235117451",
     "showTitle": false,
     "tableResultSettingsMap": {},
     "title": ""
    }
   },
   "outputs": [
    {
     "output_type": "stream",
     "name": "stdout",
     "output_type": "stream",
     "text": [
      "Out[14]: 0"
     ]
    }
   ],
   "source": [
    "df.filter(df['Body.scheduleName'].isNull()).count()"
   ]
  },
  {
   "cell_type": "code",
   "execution_count": 0,
   "metadata": {
    "application/vnd.databricks.v1+cell": {
     "cellMetadata": {
      "byteLimit": 2048000,
      "rowLimit": 10000
     },
     "inputWidgets": {},
     "nuid": "4f0a30de-5711-4767-a347-848851115bdb",
     "showTitle": false,
     "tableResultSettingsMap": {},
     "title": ""
    }
   },
   "outputs": [
    {
     "output_type": "stream",
     "name": "stdout",
     "output_type": "stream",
     "text": [
      "+--------------+-----+\n|  scheduleName|count|\n+--------------+-----+\n|suppliesUpdate|    2|\n|  deviceStatus|    1|\n|  manualUpdate|    1|\n+--------------+-----+\n\n"
     ]
    }
   ],
   "source": [
    "df.groupBy('Body.scheduleName').count().orderBy('count', ascending=False).show()\n"
   ]
  },
  {
   "cell_type": "code",
   "execution_count": 0,
   "metadata": {
    "application/vnd.databricks.v1+cell": {
     "cellMetadata": {
      "byteLimit": 2048000,
      "rowLimit": 10000
     },
     "inputWidgets": {},
     "nuid": "bb2e0773-cf96-4a2d-985b-adefa3ac5a5c",
     "showTitle": false,
     "tableResultSettingsMap": {},
     "title": ""
    }
   },
   "outputs": [
    {
     "output_type": "stream",
     "name": "stdout",
     "output_type": "stream",
     "text": [
      "+----------------------------+-------------------------------------------------+--------------------------------------------------------------------------------------------------------------------------------------------------------------------+----------------------------------------------------------------------------------------------------------------------------------------------------------------------------------------------------------------------------------------------------------------------------------------------------------------------------------------------------------------------------------------------------------------------------------------------------------------------------------------------------------------------------------------------------------------------------------------------------------------------------------------------------------------------------------------------------------------------------------------------------------------------------------------------------------------------------------------------------------------------------------------------------------------------------------------------------------------------------------------------------------------------------------------+\n|EnqueuedTimeUtc             |Properties                                       |SystemProperties                                                                                                                                                    |Body                                                                                                                                                                                                                                                                                                                                                                                                                                                                                                                                                                                                                                                                                                                                                                                                                                                                                                                                                                                                                                    |\n+----------------------------+-------------------------------------------------+--------------------------------------------------------------------------------------------------------------------------------------------------------------------+----------------------------------------------------------------------------------------------------------------------------------------------------------------------------------------------------------------------------------------------------------------------------------------------------------------------------------------------------------------------------------------------------------------------------------------------------------------------------------------------------------------------------------------------------------------------------------------------------------------------------------------------------------------------------------------------------------------------------------------------------------------------------------------------------------------------------------------------------------------------------------------------------------------------------------------------------------------------------------------------------------------------------------------+\n|2024-11-21T07:22:08.1800000Z|{rp.mib/dev/f6ee0457-9923-4c6f-a23b-dac32e3d36b5}|{f6ee0457-9923-4c6f-a23b-dac32e3d36b5, {\"scope\":\"device\",\"type\":\"sas\",\"issuer\":\"iothub\"}, 638587804616854813, application/JSON, UTF-8, 2024-11-21T07:22:08.1800000Z}|{offline, 90, mn=QlBDMTMxV0Q=:sn=NDAxMDAzODUwMA==, 1732173727911, deviceStatus, null}                                                                                                                                                                                                                                                                                                                                                                                                                                                                                                                                                                                                                                                                                                                                                                                                                                                                                                                                                   |\n|2024-12-06T08:02:16.8400000Z|{rp.mib/dev/2be00f09-5d33-47a3-ba1e-97fece8e7ff6}|{2be00f09-5d33-47a3-ba1e-97fece8e7ff6, {\"scope\":\"device\",\"type\":\"sas\",\"issuer\":\"iothub\"}, 638658819029400530, application/JSON, UTF-8, 2024-12-06T08:02:16.8400000Z}|{smsProps, null, mn=TVg4MDkwTg==:sn=NjUwNDYyMFgwMA==, 1733472136665, manualUpdate, {{[{1, 6, 24-31-84-A2-0F-16}, {2, 24, }], [{127.0.0.1, 2, 255.0.0.0, 172.29.240.22}, {172.29.241.161, 1, 255.255.254.0, 172.29.240.22}]}, {SHARP MX-8090N, 172.29.241.161, [], 6504620X00, SHARP-125, {}, [], {allOutputTrayFull -> false, inputTrayMissing -> false, specifiedOutputTrayMissing -> false, outputTrayFull -> false, tonerEmpty -> false, coverOpen -> false, paperEmpty -> false, printerError -> false, standby -> false, warmUp -> false, printing -> false, printerWarning -> false, paperJam -> false, accountLimit -> false, tonerLow -> true, offline -> false, paperLow -> false, nearOverduePreventMaintenance -> false, overduePreventMaintenance -> false, markerSupplyMissing -> false, specifiedInputTrayEmpty -> false, specifiedInputTrayMissing -> false, outputTrayNearFull -> false, outputTrayMissing -> false, online -> false, stackerNotInstalled -> false}, {{{impressions, lifeCounter, 61599}}}, 3308192, }}}|\n|2024-12-18T23:56:21.1970000Z|{rp.mib/dev/c3566d1b-4d59-47b3-8d9f-e5e056e90d83}|{c3566d1b-4d59-47b3-8d9f-e5e056e90d83, {\"scope\":\"device\",\"type\":\"sas\",\"issuer\":\"iothub\"}, 638657983158498990, application/JSON, UTF-8, 2024-12-18T23:56:21.1970000Z}|{offline, 90, mn=QlA1MEMyNg==:sn=MjUxMjc1NTAxMg==, 1734566180757, suppliesUpdate, null}                                                                                                                                                                                                                                                                                                                                                                                                                                                                                                                                                                                                                                                                                                                                                                                                                                                                                                                                                 |\n|2024-11-21T07:21:38.4600000Z|{rp.mib/dev/f6ee0457-9923-4c6f-a23b-dac32e3d36b5}|{f6ee0457-9923-4c6f-a23b-dac32e3d36b5, {\"scope\":\"device\",\"type\":\"sas\",\"issuer\":\"iothub\"}, 638587804616854813, application/JSON, UTF-8, 2024-11-21T07:21:38.4600000Z}|{smsProps, null, mn=TVgyNjYx:sn=MTUwMDQ2NjQwMA==, 1732173698195, suppliesUpdate, {{[{1, 6, AC-A8-8E-E6-52-31}, {2, 24, }], [{10.36.111.12, 1, 255.255.255.0, 10.36.111.1}, {127.0.0.1, 2, 255.0.0.0, 10.36.111.1}]}, {SHARP MX-2661, 10.36.111.12, null, 1500466400, SHARP-133, {}, null, null, null, 2100000, }}}                                                                                                                                                                                                                                                                                                                                                                                                                                                                                                                                                                                                                                                                                                                      |\n+----------------------------+-------------------------------------------------+--------------------------------------------------------------------------------------------------------------------------------------------------------------------+----------------------------------------------------------------------------------------------------------------------------------------------------------------------------------------------------------------------------------------------------------------------------------------------------------------------------------------------------------------------------------------------------------------------------------------------------------------------------------------------------------------------------------------------------------------------------------------------------------------------------------------------------------------------------------------------------------------------------------------------------------------------------------------------------------------------------------------------------------------------------------------------------------------------------------------------------------------------------------------------------------------------------------------+\n\n"
     ]
    }
   ],
   "source": [
    "sorted_df = df.orderBy('Body.scheduleName')\n",
    "sorted_df.show(truncate = False)"
   ]
  },
  {
   "cell_type": "code",
   "execution_count": 0,
   "metadata": {
    "application/vnd.databricks.v1+cell": {
     "cellMetadata": {},
     "inputWidgets": {},
     "nuid": "f2d7ace7-51f6-4e74-8374-eddeb754a6b4",
     "showTitle": false,
     "tableResultSettingsMap": {},
     "title": ""
    }
   },
   "outputs": [],
   "source": []
  }
 ],
 "metadata": {
  "application/vnd.databricks.v1+notebook": {
   "computePreferences": null,
   "dashboards": [],
   "environmentMetadata": {
    "base_environment": "",
    "client": "1"
   },
   "language": "python",
   "notebookMetadata": {
    "pythonIndentUnit": 4
   },
   "notebookName": "Json_file 2025-01-22 10:36:37",
   "widgets": {}
  }
 },
 "nbformat": 4,
 "nbformat_minor": 0
}
