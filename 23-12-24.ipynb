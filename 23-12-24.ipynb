{
 "cells": [
  {
   "cell_type": "markdown",
   "id": "2931f22e",
   "metadata": {},
   "source": [
    "RDD"
   ]
  },
  {
   "cell_type": "code",
   "execution_count": 12,
   "id": "d0dda941",
   "metadata": {},
   "outputs": [],
   "source": [
    "from pyspark.sql import SparkSession\n",
    "\n",
    "spark = SparkSession.builder.getOrCreate()"
   ]
  },
  {
   "cell_type": "code",
   "execution_count": 13,
   "id": "8f38407a",
   "metadata": {},
   "outputs": [],
   "source": [
    "rdds = spark.sparkContext.parallelize([(\"Mysore\",2),(\"Mandya\", 4)])"
   ]
  },
  {
   "cell_type": "code",
   "execution_count": 23,
   "id": "d82bd8b0",
   "metadata": {},
   "outputs": [
    {
     "data": {
      "text/plain": [
       "[('Mysore', 2), ('Mandya', 4)]"
      ]
     },
     "execution_count": 23,
     "metadata": {},
     "output_type": "execute_result"
    }
   ],
   "source": [
    "rdds.collect()"
   ]
  },
  {
   "cell_type": "code",
   "execution_count": 24,
   "id": "a793925b",
   "metadata": {},
   "outputs": [
    {
     "data": {
      "text/plain": [
       "2"
      ]
     },
     "execution_count": 24,
     "metadata": {},
     "output_type": "execute_result"
    }
   ],
   "source": [
    "rdds.count()"
   ]
  },
  {
   "cell_type": "markdown",
   "id": "7c2043c1",
   "metadata": {},
   "source": [
    "DATAFRAME FROM RDD"
   ]
  },
  {
   "cell_type": "code",
   "execution_count": 22,
   "id": "3dd889a0",
   "metadata": {},
   "outputs": [
    {
     "name": "stderr",
     "output_type": "stream",
     "text": [
      "C:\\Users\\ranju\\anaconda3\\Lib\\site-packages\\pandas\\core\\arrays\\masked.py:60: UserWarning: Pandas requires version '1.3.6' or newer of 'bottleneck' (version '1.3.5' currently installed).\n",
      "  from pandas.core import (\n"
     ]
    },
    {
     "name": "stdout",
     "output_type": "stream",
     "text": [
      "+------+----+\n",
      "|  city|rank|\n",
      "+------+----+\n",
      "|Mysore|   2|\n",
      "|Mandya|   4|\n",
      "+------+----+\n",
      "\n"
     ]
    }
   ],
   "source": [
    "df = spark.createDataFrame(rdds, schema =(\"city\",\"rank\"))\n",
    "\n",
    "df.show()"
   ]
  },
  {
   "cell_type": "code",
   "execution_count": 25,
   "id": "f141434c",
   "metadata": {},
   "outputs": [
    {
     "name": "stdout",
     "output_type": "stream",
     "text": [
      "+------+----+\n",
      "|  city|rank|\n",
      "+------+----+\n",
      "|Mysore|   2|\n",
      "+------+----+\n",
      "only showing top 1 row\n",
      "\n"
     ]
    }
   ],
   "source": [
    "df.show(1)"
   ]
  },
  {
   "cell_type": "code",
   "execution_count": 27,
   "id": "352fda7d",
   "metadata": {},
   "outputs": [
    {
     "name": "stdout",
     "output_type": "stream",
     "text": [
      "root\n",
      " |-- city: string (nullable = true)\n",
      " |-- rank: long (nullable = true)\n",
      "\n"
     ]
    }
   ],
   "source": [
    "df.printSchema()"
   ]
  },
  {
   "cell_type": "code",
   "execution_count": 73,
   "id": "d3310daa",
   "metadata": {},
   "outputs": [
    {
     "name": "stdout",
     "output_type": "stream",
     "text": [
      "+-------+------+------+----------------+\n",
      "|MovieID|UserID|Rating|       Timestamp|\n",
      "+-------+------+------+----------------+\n",
      "|      1|   101|     4|19-12-2024 08:00|\n",
      "|      2|   102|     5|19-12-2024 08:10|\n",
      "|      3|   103|     3|19-12-2024 08:15|\n",
      "|      4|   104|     2|19-12-2024 08:20|\n",
      "|      5|   105|     4|19-12-2024 08:25|\n",
      "|      6|   106|     5|19-12-2024 08:30|\n",
      "|      7|   107|     4|19-12-2024 08:35|\n",
      "|      8|   108|     3|19-12-2024 08:40|\n",
      "|      9|   109|     5|19-12-2024 08:45|\n",
      "|     10|   110|     2|19-12-2024 08:50|\n",
      "|     11|   101|     4|19-12-2024 08:55|\n",
      "|     12|   102|     3|19-12-2024 09:00|\n",
      "|     13|   103|     5|19-12-2024 09:05|\n",
      "|     14|   104|     2|19-12-2024 09:10|\n",
      "|     15|   105|     4|19-12-2024 09:15|\n",
      "|     16|   106|     5|19-12-2024 09:20|\n",
      "|     17|   107|     3|19-12-2024 09:25|\n",
      "|     18|   108|     4|19-12-2024 09:30|\n",
      "|     19|   109|     2|19-12-2024 09:35|\n",
      "|     20|   110|     5|19-12-2024 09:40|\n",
      "+-------+------+------+----------------+\n",
      "\n"
     ]
    }
   ],
   "source": [
    "df1 = spark.read.csv(r\"C:\\Users\\ranju\\Downloads\\movie_ratings.csv\",inferSchema = True ,header = True )\n",
    "\n",
    "df1.show()"
   ]
  },
  {
   "cell_type": "code",
   "execution_count": 74,
   "id": "0f4de387",
   "metadata": {},
   "outputs": [
    {
     "name": "stdout",
     "output_type": "stream",
     "text": [
      "root\n",
      " |-- MovieID: integer (nullable = true)\n",
      " |-- UserID: integer (nullable = true)\n",
      " |-- Rating: integer (nullable = true)\n",
      " |-- Timestamp: string (nullable = true)\n",
      "\n"
     ]
    }
   ],
   "source": [
    "df1.printSchema()"
   ]
  },
  {
   "cell_type": "code",
   "execution_count": 75,
   "id": "0640ca41",
   "metadata": {},
   "outputs": [
    {
     "data": {
      "text/plain": [
       "20"
      ]
     },
     "execution_count": 75,
     "metadata": {},
     "output_type": "execute_result"
    }
   ],
   "source": [
    "df1.count()"
   ]
  },
  {
   "cell_type": "code",
   "execution_count": 76,
   "id": "7419f059",
   "metadata": {},
   "outputs": [
    {
     "name": "stdout",
     "output_type": "stream",
     "text": [
      "+-------+------+\n",
      "|MovieID|Rating|\n",
      "+-------+------+\n",
      "|      1|     4|\n",
      "|      2|     5|\n",
      "|      3|     3|\n",
      "|      4|     2|\n",
      "|      5|     4|\n",
      "+-------+------+\n",
      "only showing top 5 rows\n",
      "\n"
     ]
    }
   ],
   "source": [
    "df1.select(\"MovieID\",\"Rating\").show(5)\n"
   ]
  },
  {
   "cell_type": "code",
   "execution_count": 77,
   "id": "7a60d097",
   "metadata": {},
   "outputs": [
    {
     "name": "stdout",
     "output_type": "stream",
     "text": [
      "+-------+------+------+----------------+\n",
      "|MovieID|UserID|Rating|       Timestamp|\n",
      "+-------+------+------+----------------+\n",
      "|      1|   101|     4|19-12-2024 08:00|\n",
      "|      2|   102|     5|19-12-2024 08:10|\n",
      "|      5|   105|     4|19-12-2024 08:25|\n",
      "|      6|   106|     5|19-12-2024 08:30|\n",
      "|      7|   107|     4|19-12-2024 08:35|\n",
      "|      9|   109|     5|19-12-2024 08:45|\n",
      "|     11|   101|     4|19-12-2024 08:55|\n",
      "|     13|   103|     5|19-12-2024 09:05|\n",
      "|     15|   105|     4|19-12-2024 09:15|\n",
      "|     16|   106|     5|19-12-2024 09:20|\n",
      "|     18|   108|     4|19-12-2024 09:30|\n",
      "|     20|   110|     5|19-12-2024 09:40|\n",
      "+-------+------+------+----------------+\n",
      "\n"
     ]
    }
   ],
   "source": [
    "df1.filter(df1[\"Rating\"] > 3).show()"
   ]
  },
  {
   "cell_type": "code",
   "execution_count": 78,
   "id": "7b001ca4",
   "metadata": {},
   "outputs": [
    {
     "name": "stdout",
     "output_type": "stream",
     "text": [
      "+-------+------+------+----------------+\n",
      "|MovieID|UserID|Rating|       Timestamp|\n",
      "+-------+------+------+----------------+\n",
      "|      1|   101|     4|19-12-2024 08:00|\n",
      "|     11|   101|     4|19-12-2024 08:55|\n",
      "|      2|   102|     5|19-12-2024 08:10|\n",
      "|     12|   102|     3|19-12-2024 09:00|\n",
      "|      3|   103|     3|19-12-2024 08:15|\n",
      "+-------+------+------+----------------+\n",
      "only showing top 5 rows\n",
      "\n",
      "+-------+------+------+----------------+\n",
      "|MovieID|UserID|Rating|       Timestamp|\n",
      "+-------+------+------+----------------+\n",
      "|     10|   110|     2|19-12-2024 08:50|\n",
      "|     20|   110|     5|19-12-2024 09:40|\n",
      "|      9|   109|     5|19-12-2024 08:45|\n",
      "|     19|   109|     2|19-12-2024 09:35|\n",
      "|      8|   108|     3|19-12-2024 08:40|\n",
      "+-------+------+------+----------------+\n",
      "only showing top 5 rows\n",
      "\n"
     ]
    }
   ],
   "source": [
    "df1.sort(\"UserID\").show(5) # ascending order \n",
    "\n",
    "df1.sort(\"UserID\" , ascending = False).show(5) #descending order "
   ]
  },
  {
   "cell_type": "code",
   "execution_count": 79,
   "id": "c6fb5e97",
   "metadata": {},
   "outputs": [
    {
     "name": "stdout",
     "output_type": "stream",
     "text": [
      "+-------+-----------------+-----------------+------------------+----------------+\n",
      "|summary|          MovieID|           UserID|            Rating|       Timestamp|\n",
      "+-------+-----------------+-----------------+------------------+----------------+\n",
      "|  count|               20|               20|                20|              20|\n",
      "|   mean|             10.5|            105.5|               3.7|            NULL|\n",
      "| stddev|5.916079783099616|2.946898458772511|1.1285761872936695|            NULL|\n",
      "|    min|                1|              101|                 2|19-12-2024 08:00|\n",
      "|    max|               20|              110|                 5|19-12-2024 09:40|\n",
      "+-------+-----------------+-----------------+------------------+----------------+\n",
      "\n"
     ]
    }
   ],
   "source": [
    "df1.describe().show()"
   ]
  },
  {
   "cell_type": "code",
   "execution_count": 80,
   "id": "1cec2782",
   "metadata": {},
   "outputs": [
    {
     "data": {
      "text/plain": [
       "['MovieID', 'UserID', 'Rating', 'Timestamp']"
      ]
     },
     "execution_count": 80,
     "metadata": {},
     "output_type": "execute_result"
    }
   ],
   "source": [
    "df1.columns"
   ]
  },
  {
   "cell_type": "code",
   "execution_count": 62,
   "id": "dda2fb4c",
   "metadata": {},
   "outputs": [],
   "source": [
    "spark.stop()"
   ]
  },
  {
   "cell_type": "markdown",
   "id": "444dc9fe",
   "metadata": {},
   "source": [
    "READING JSON"
   ]
  },
  {
   "cell_type": "code",
   "execution_count": 64,
   "id": "a665e513",
   "metadata": {},
   "outputs": [],
   "source": [
    "from pyspark.sql import SparkSession\n",
    "\n",
    "spark = SparkSession.builder.getOrCreate()"
   ]
  },
  {
   "cell_type": "code",
   "execution_count": null,
   "id": "5ab97832",
   "metadata": {},
   "outputs": [],
   "source": []
  },
  {
   "cell_type": "code",
   "execution_count": 69,
   "id": "becd86e3",
   "metadata": {},
   "outputs": [],
   "source": [
    "fileName = \"C:\\\\Users\\\\ranju\\\\Downloads\\\\sample1.json\"\n",
    "df_raw = spark.read.option(\"multiLine\", \"true\").format(\"json\").load(fileName)"
   ]
  },
  {
   "cell_type": "code",
   "execution_count": 70,
   "id": "5afcef66",
   "metadata": {},
   "outputs": [
    {
     "name": "stdout",
     "output_type": "stream",
     "text": [
      "+-----+-----+-----+\n",
      "|color|fruit| size|\n",
      "+-----+-----+-----+\n",
      "|  Red|Apple|Large|\n",
      "+-----+-----+-----+\n",
      "\n"
     ]
    }
   ],
   "source": [
    "df_raw.show()"
   ]
  },
  {
   "cell_type": "code",
   "execution_count": 71,
   "id": "40accd79",
   "metadata": {},
   "outputs": [],
   "source": [
    "spark.stop()"
   ]
  },
  {
   "cell_type": "markdown",
   "id": "d3bdbadf",
   "metadata": {},
   "source": [
    "createOrReplacetempView"
   ]
  },
  {
   "cell_type": "code",
   "execution_count": 1,
   "id": "d4b250f1",
   "metadata": {},
   "outputs": [],
   "source": [
    "from pyspark.sql import SparkSession\n",
    "import pyspark.sql.functions as F\n",
    "from pyspark.sql import Window\n",
    "import pyspark.sql.types as T\n",
    "\n",
    "spark = SparkSession.builder.getOrCreate()"
   ]
  },
  {
   "cell_type": "code",
   "execution_count": 3,
   "id": "d48916db",
   "metadata": {},
   "outputs": [],
   "source": [
    "df4 = spark.read.csv(r\"C:\\Users\\ranju\\Downloads\\movie_ratings.csv\",inferSchema =True,header=True)"
   ]
  },
  {
   "cell_type": "code",
   "execution_count": 4,
   "id": "cb600e2a",
   "metadata": {},
   "outputs": [
    {
     "name": "stdout",
     "output_type": "stream",
     "text": [
      "+-------+------+------+----------------+\n",
      "|MovieID|UserID|Rating|       Timestamp|\n",
      "+-------+------+------+----------------+\n",
      "|      1|   101|     4|19-12-2024 08:00|\n",
      "|      2|   102|     5|19-12-2024 08:10|\n",
      "|      3|   103|     3|19-12-2024 08:15|\n",
      "|      4|   104|     2|19-12-2024 08:20|\n",
      "|      5|   105|     4|19-12-2024 08:25|\n",
      "|      6|   106|     5|19-12-2024 08:30|\n",
      "|      7|   107|     4|19-12-2024 08:35|\n",
      "|      8|   108|     3|19-12-2024 08:40|\n",
      "|      9|   109|     5|19-12-2024 08:45|\n",
      "|     10|   110|     2|19-12-2024 08:50|\n",
      "|     11|   101|     4|19-12-2024 08:55|\n",
      "|     12|   102|     3|19-12-2024 09:00|\n",
      "|     13|   103|     5|19-12-2024 09:05|\n",
      "|     14|   104|     2|19-12-2024 09:10|\n",
      "|     15|   105|     4|19-12-2024 09:15|\n",
      "|     16|   106|     5|19-12-2024 09:20|\n",
      "|     17|   107|     3|19-12-2024 09:25|\n",
      "|     18|   108|     4|19-12-2024 09:30|\n",
      "|     19|   109|     2|19-12-2024 09:35|\n",
      "|     20|   110|     5|19-12-2024 09:40|\n",
      "+-------+------+------+----------------+\n",
      "\n"
     ]
    }
   ],
   "source": [
    "df4.show()"
   ]
  },
  {
   "cell_type": "code",
   "execution_count": 5,
   "id": "fccc19de",
   "metadata": {},
   "outputs": [],
   "source": [
    "df4.createOrReplaceTempView(\"df4\")"
   ]
  },
  {
   "cell_type": "code",
   "execution_count": 6,
   "id": "30a65cc0",
   "metadata": {},
   "outputs": [
    {
     "name": "stdout",
     "output_type": "stream",
     "text": [
      "+-------+------+------+----------------+\n",
      "|MovieID|UserID|Rating|       Timestamp|\n",
      "+-------+------+------+----------------+\n",
      "|      1|   101|     4|19-12-2024 08:00|\n",
      "|      2|   102|     5|19-12-2024 08:10|\n",
      "|      3|   103|     3|19-12-2024 08:15|\n",
      "|      4|   104|     2|19-12-2024 08:20|\n",
      "|      5|   105|     4|19-12-2024 08:25|\n",
      "|      6|   106|     5|19-12-2024 08:30|\n",
      "|      7|   107|     4|19-12-2024 08:35|\n",
      "|      8|   108|     3|19-12-2024 08:40|\n",
      "|      9|   109|     5|19-12-2024 08:45|\n",
      "|     10|   110|     2|19-12-2024 08:50|\n",
      "|     11|   101|     4|19-12-2024 08:55|\n",
      "|     12|   102|     3|19-12-2024 09:00|\n",
      "|     13|   103|     5|19-12-2024 09:05|\n",
      "|     14|   104|     2|19-12-2024 09:10|\n",
      "|     15|   105|     4|19-12-2024 09:15|\n",
      "|     16|   106|     5|19-12-2024 09:20|\n",
      "|     17|   107|     3|19-12-2024 09:25|\n",
      "|     18|   108|     4|19-12-2024 09:30|\n",
      "|     19|   109|     2|19-12-2024 09:35|\n",
      "|     20|   110|     5|19-12-2024 09:40|\n",
      "+-------+------+------+----------------+\n",
      "\n"
     ]
    }
   ],
   "source": [
    "spark.sql(\"select * from df4\").show()"
   ]
  },
  {
   "cell_type": "code",
   "execution_count": 7,
   "id": "a546c3a1",
   "metadata": {},
   "outputs": [
    {
     "name": "stdout",
     "output_type": "stream",
     "text": [
      "+-------------+\n",
      "|count(Rating)|\n",
      "+-------------+\n",
      "|           20|\n",
      "+-------------+\n",
      "\n"
     ]
    }
   ],
   "source": [
    "spark.sql(\"select count (Rating) from df4\").show()"
   ]
  },
  {
   "cell_type": "code",
   "execution_count": 8,
   "id": "9b18dc8f",
   "metadata": {},
   "outputs": [
    {
     "name": "stdout",
     "output_type": "stream",
     "text": [
      "+-------+------+------+\n",
      "|MovieID|UserID|Rating|\n",
      "+-------+------+------+\n",
      "|      1|   101|     4|\n",
      "|      5|   105|     4|\n",
      "|      7|   107|     4|\n",
      "|     11|   101|     4|\n",
      "|     15|   105|     4|\n",
      "|     18|   108|     4|\n",
      "+-------+------+------+\n",
      "\n"
     ]
    }
   ],
   "source": [
    "spark.sql(\"select MovieID,UserID , Rating from df4 where Rating = 4 \").show()"
   ]
  },
  {
   "cell_type": "code",
   "execution_count": 9,
   "id": "481250f8",
   "metadata": {},
   "outputs": [
    {
     "name": "stdout",
     "output_type": "stream",
     "text": [
      "+-------+------+------+----------------+\n",
      "|MovieID|UserID|Rating|       Timestamp|\n",
      "+-------+------+------+----------------+\n",
      "|      1|   101|     4|19-12-2024 08:00|\n",
      "|      2|   102|     5|19-12-2024 08:10|\n",
      "|      3|   103|     3|19-12-2024 08:15|\n",
      "|      4|   104|     2|19-12-2024 08:20|\n",
      "|      5|   105|     4|19-12-2024 08:25|\n",
      "|      6|   106|     5|19-12-2024 08:30|\n",
      "|      7|   107|     4|19-12-2024 08:35|\n",
      "|      8|   108|     3|19-12-2024 08:40|\n",
      "|      9|   109|     5|19-12-2024 08:45|\n",
      "|     10|   110|     2|19-12-2024 08:50|\n",
      "|     11|   101|     4|19-12-2024 08:55|\n",
      "|     12|   102|     3|19-12-2024 09:00|\n",
      "|     13|   103|     5|19-12-2024 09:05|\n",
      "|     14|   104|     2|19-12-2024 09:10|\n",
      "|     15|   105|     4|19-12-2024 09:15|\n",
      "|     16|   106|     5|19-12-2024 09:20|\n",
      "|     17|   107|     3|19-12-2024 09:25|\n",
      "|     18|   108|     4|19-12-2024 09:30|\n",
      "|     19|   109|     2|19-12-2024 09:35|\n",
      "|     20|   110|     5|19-12-2024 09:40|\n",
      "+-------+------+------+----------------+\n",
      "\n"
     ]
    }
   ],
   "source": [
    "sqldf = spark.sql(\"select * from df4\")\n",
    "sqldf.show()"
   ]
  },
  {
   "cell_type": "code",
   "execution_count": 10,
   "id": "c0a91fa8",
   "metadata": {},
   "outputs": [
    {
     "data": {
      "text/plain": [
       "20"
      ]
     },
     "execution_count": 10,
     "metadata": {},
     "output_type": "execute_result"
    }
   ],
   "source": [
    "df4.count()"
   ]
  },
  {
   "cell_type": "code",
   "execution_count": 11,
   "id": "cad62b7f",
   "metadata": {},
   "outputs": [
    {
     "data": {
      "text/plain": [
       "['MovieID', 'UserID', 'Rating', 'Timestamp']"
      ]
     },
     "execution_count": 11,
     "metadata": {},
     "output_type": "execute_result"
    }
   ],
   "source": [
    "df4.columns"
   ]
  },
  {
   "cell_type": "code",
   "execution_count": 12,
   "id": "0dc6e50e",
   "metadata": {},
   "outputs": [
    {
     "name": "stdout",
     "output_type": "stream",
     "text": [
      "+-------+------+------+----------------+----------+\n",
      "|MovieID|UserID|Rating|       Timestamp|new_Rating|\n",
      "+-------+------+------+----------------+----------+\n",
      "|      1|   101|     4|19-12-2024 08:00|         8|\n",
      "|      2|   102|     5|19-12-2024 08:10|        10|\n",
      "|      3|   103|     3|19-12-2024 08:15|         6|\n",
      "|      4|   104|     2|19-12-2024 08:20|         4|\n",
      "|      5|   105|     4|19-12-2024 08:25|         8|\n",
      "|      6|   106|     5|19-12-2024 08:30|        10|\n",
      "|      7|   107|     4|19-12-2024 08:35|         8|\n",
      "|      8|   108|     3|19-12-2024 08:40|         6|\n",
      "|      9|   109|     5|19-12-2024 08:45|        10|\n",
      "|     10|   110|     2|19-12-2024 08:50|         4|\n",
      "|     11|   101|     4|19-12-2024 08:55|         8|\n",
      "|     12|   102|     3|19-12-2024 09:00|         6|\n",
      "|     13|   103|     5|19-12-2024 09:05|        10|\n",
      "|     14|   104|     2|19-12-2024 09:10|         4|\n",
      "|     15|   105|     4|19-12-2024 09:15|         8|\n",
      "|     16|   106|     5|19-12-2024 09:20|        10|\n",
      "|     17|   107|     3|19-12-2024 09:25|         6|\n",
      "|     18|   108|     4|19-12-2024 09:30|         8|\n",
      "|     19|   109|     2|19-12-2024 09:35|         4|\n",
      "|     20|   110|     5|19-12-2024 09:40|        10|\n",
      "+-------+------+------+----------------+----------+\n",
      "\n"
     ]
    }
   ],
   "source": [
    "df4.withColumn(\"new_Rating\", df4.Rating * 2).show() #withColumn used to creat new column "
   ]
  },
  {
   "cell_type": "code",
   "execution_count": 13,
   "id": "1fe1b200",
   "metadata": {},
   "outputs": [
    {
     "name": "stdout",
     "output_type": "stream",
     "text": [
      "+-------+------+------+----------------+-----------+\n",
      "|MovieID|UserID|Rating|       Timestamp|Half_Rating|\n",
      "+-------+------+------+----------------+-----------+\n",
      "|      1|   101|     4|19-12-2024 08:00|        2.0|\n",
      "|      2|   102|     5|19-12-2024 08:10|        2.5|\n",
      "|      3|   103|     3|19-12-2024 08:15|        1.5|\n",
      "|      4|   104|     2|19-12-2024 08:20|        1.0|\n",
      "|      5|   105|     4|19-12-2024 08:25|        2.0|\n",
      "|      6|   106|     5|19-12-2024 08:30|        2.5|\n",
      "|      7|   107|     4|19-12-2024 08:35|        2.0|\n",
      "|      8|   108|     3|19-12-2024 08:40|        1.5|\n",
      "|      9|   109|     5|19-12-2024 08:45|        2.5|\n",
      "|     10|   110|     2|19-12-2024 08:50|        1.0|\n",
      "|     11|   101|     4|19-12-2024 08:55|        2.0|\n",
      "|     12|   102|     3|19-12-2024 09:00|        1.5|\n",
      "|     13|   103|     5|19-12-2024 09:05|        2.5|\n",
      "|     14|   104|     2|19-12-2024 09:10|        1.0|\n",
      "|     15|   105|     4|19-12-2024 09:15|        2.0|\n",
      "|     16|   106|     5|19-12-2024 09:20|        2.5|\n",
      "|     17|   107|     3|19-12-2024 09:25|        1.5|\n",
      "|     18|   108|     4|19-12-2024 09:30|        2.0|\n",
      "|     19|   109|     2|19-12-2024 09:35|        1.0|\n",
      "|     20|   110|     5|19-12-2024 09:40|        2.5|\n",
      "+-------+------+------+----------------+-----------+\n",
      "\n"
     ]
    }
   ],
   "source": [
    "df4.withColumn(\"Half_Rating\", df4.Rating / 2).show()"
   ]
  },
  {
   "cell_type": "code",
   "execution_count": 15,
   "id": "21faafbc",
   "metadata": {},
   "outputs": [
    {
     "name": "stdout",
     "output_type": "stream",
     "text": [
      "+-------+------+-------------+----------------+\n",
      "|MovieID|UserID|Movie_Rating |       Timestamp|\n",
      "+-------+------+-------------+----------------+\n",
      "|      1|   101|            4|19-12-2024 08:00|\n",
      "|      2|   102|            5|19-12-2024 08:10|\n",
      "|      3|   103|            3|19-12-2024 08:15|\n",
      "|      4|   104|            2|19-12-2024 08:20|\n",
      "|      5|   105|            4|19-12-2024 08:25|\n",
      "|      6|   106|            5|19-12-2024 08:30|\n",
      "|      7|   107|            4|19-12-2024 08:35|\n",
      "|      8|   108|            3|19-12-2024 08:40|\n",
      "|      9|   109|            5|19-12-2024 08:45|\n",
      "|     10|   110|            2|19-12-2024 08:50|\n",
      "|     11|   101|            4|19-12-2024 08:55|\n",
      "|     12|   102|            3|19-12-2024 09:00|\n",
      "|     13|   103|            5|19-12-2024 09:05|\n",
      "|     14|   104|            2|19-12-2024 09:10|\n",
      "|     15|   105|            4|19-12-2024 09:15|\n",
      "|     16|   106|            5|19-12-2024 09:20|\n",
      "|     17|   107|            3|19-12-2024 09:25|\n",
      "|     18|   108|            4|19-12-2024 09:30|\n",
      "|     19|   109|            2|19-12-2024 09:35|\n",
      "|     20|   110|            5|19-12-2024 09:40|\n",
      "+-------+------+-------------+----------------+\n",
      "\n"
     ]
    }
   ],
   "source": [
    "df4.withColumnRenamed(\"Rating\",\"Movie_Rating \").show()"
   ]
  },
  {
   "cell_type": "code",
   "execution_count": 18,
   "id": "b68ccf03",
   "metadata": {},
   "outputs": [
    {
     "name": "stdout",
     "output_type": "stream",
     "text": [
      "+-----------------+\n",
      "|Movie_performance|\n",
      "+-----------------+\n",
      "|                4|\n",
      "|                5|\n",
      "|                3|\n",
      "|                2|\n",
      "|                4|\n",
      "|                5|\n",
      "|                4|\n",
      "|                3|\n",
      "|                5|\n",
      "|                2|\n",
      "|                4|\n",
      "|                3|\n",
      "|                5|\n",
      "|                2|\n",
      "|                4|\n",
      "|                5|\n",
      "|                3|\n",
      "|                4|\n",
      "|                2|\n",
      "|                5|\n",
      "+-----------------+\n",
      "\n"
     ]
    }
   ],
   "source": [
    "df4.select(df4.Rating.alias(\"Movie_performance\")).show()"
   ]
  },
  {
   "cell_type": "code",
   "execution_count": 23,
   "id": "a7a766bf",
   "metadata": {},
   "outputs": [
    {
     "name": "stdout",
     "output_type": "stream",
     "text": [
      "+------+\n",
      "|Rating|\n",
      "+------+\n",
      "|     3|\n",
      "|     5|\n",
      "|     4|\n",
      "|     2|\n",
      "+------+\n",
      "\n"
     ]
    }
   ],
   "source": [
    "df4.select(\"Rating\").distinct().show()"
   ]
  },
  {
   "cell_type": "code",
   "execution_count": 24,
   "id": "2c0a0534",
   "metadata": {},
   "outputs": [
    {
     "name": "stdout",
     "output_type": "stream",
     "text": [
      "+------+\n",
      "|Rating|\n",
      "+------+\n",
      "|     2|\n",
      "|     2|\n",
      "|     2|\n",
      "|     2|\n",
      "|     3|\n",
      "|     3|\n",
      "|     3|\n",
      "|     3|\n",
      "|     4|\n",
      "|     4|\n",
      "|     4|\n",
      "|     4|\n",
      "|     4|\n",
      "|     4|\n",
      "|     5|\n",
      "|     5|\n",
      "|     5|\n",
      "|     5|\n",
      "|     5|\n",
      "|     5|\n",
      "+------+\n",
      "\n"
     ]
    }
   ],
   "source": [
    "df4.select(\"Rating\").orderBy(df4.Rating.asc()).show()"
   ]
  },
  {
   "cell_type": "code",
   "execution_count": 25,
   "id": "3ae06f6e",
   "metadata": {},
   "outputs": [
    {
     "name": "stdout",
     "output_type": "stream",
     "text": [
      "+------+\n",
      "|Rating|\n",
      "+------+\n",
      "|     5|\n",
      "|     5|\n",
      "|     5|\n",
      "|     5|\n",
      "|     5|\n",
      "|     5|\n",
      "|     4|\n",
      "|     4|\n",
      "|     4|\n",
      "|     4|\n",
      "|     4|\n",
      "|     4|\n",
      "|     3|\n",
      "|     3|\n",
      "|     3|\n",
      "|     3|\n",
      "|     2|\n",
      "|     2|\n",
      "|     2|\n",
      "|     2|\n",
      "+------+\n",
      "\n"
     ]
    }
   ],
   "source": [
    "df4.select(\"Rating\").orderBy(df4.Rating.desc()).show()"
   ]
  },
  {
   "cell_type": "code",
   "execution_count": null,
   "id": "3420483a",
   "metadata": {},
   "outputs": [],
   "source": []
  }
 ],
 "metadata": {
  "kernelspec": {
   "display_name": "Python 3 (ipykernel)",
   "language": "python",
   "name": "python3"
  },
  "language_info": {
   "codemirror_mode": {
    "name": "ipython",
    "version": 3
   },
   "file_extension": ".py",
   "mimetype": "text/x-python",
   "name": "python",
   "nbconvert_exporter": "python",
   "pygments_lexer": "ipython3",
   "version": "3.11.4"
  }
 },
 "nbformat": 4,
 "nbformat_minor": 5
}
