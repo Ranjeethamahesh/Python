{
 "cells": [
  {
   "cell_type": "code",
   "execution_count": 92,
   "id": "d10fc864",
   "metadata": {},
   "outputs": [],
   "source": [
    "from pyspark.sql import SparkSession\n",
    "import pyspark.sql.functions as F\n",
    "\n",
    "from pyspark.sql import Window\n",
    "import pyspark.sql.types as T\n",
    "from pyspark.sql.functions import col, rank\n",
    "\n",
    "spark = SparkSession.builder.getOrCreate()"
   ]
  },
  {
   "cell_type": "code",
   "execution_count": 95,
   "id": "4e505c04",
   "metadata": {},
   "outputs": [
    {
     "data": {
      "text/plain": [
       "1338"
      ]
     },
     "execution_count": 95,
     "metadata": {},
     "output_type": "execute_result"
    }
   ],
   "source": [
    "df.count()"
   ]
  },
  {
   "cell_type": "markdown",
   "id": "f8cbb0f1",
   "metadata": {},
   "source": [
    "#### difference of groupby and window"
   ]
  },
  {
   "cell_type": "code",
   "execution_count": 91,
   "id": "75a7e606",
   "metadata": {},
   "outputs": [
    {
     "name": "stdout",
     "output_type": "stream",
     "text": [
      "+-----+----------+------+\n",
      "| Name|Department|Salary|\n",
      "+-----+----------+------+\n",
      "|Alice|     Sales|  5000|\n",
      "|  Bob|     Sales|  4000|\n",
      "|Cathy|        HR|  3500|\n",
      "|David|        HR|  4500|\n",
      "|  Eve|        IT|  6000|\n",
      "|Frank|        IT|  7000|\n",
      "+-----+----------+------+\n",
      "\n"
     ]
    }
   ],
   "source": [
    "data = [\n",
    "    (\"Alice\", \"Sales\", 5000),\n",
    "    (\"Bob\", \"Sales\", 4000),\n",
    "    (\"Cathy\", \"HR\", 3500),\n",
    "    (\"David\", \"HR\", 4500),\n",
    "    (\"Eve\", \"IT\", 6000),\n",
    "    (\"Frank\", \"IT\", 7000),\n",
    "]\n",
    "columns = [\"Name\", \"Department\", \"Salary\"]\n",
    "\n",
    "df = spark.createDataFrame(data, columns)\n",
    "df.show()"
   ]
  },
  {
   "cell_type": "code",
   "execution_count": 103,
   "id": "0ede68a0",
   "metadata": {},
   "outputs": [
    {
     "name": "stdout",
     "output_type": "stream",
     "text": [
      "+-----+----------+------+---------+\n",
      "| Name|Department|Salary|RowNumber|\n",
      "+-----+----------+------+---------+\n",
      "|Cathy|        HR|  3500|        1|\n",
      "|David|        HR|  4500|        2|\n",
      "|  Eve|        IT|  6000|        1|\n",
      "|Frank|        IT|  7000|        2|\n",
      "|  Bob|     Sales|  4000|        1|\n",
      "|Alice|     Sales|  5000|        2|\n",
      "+-----+----------+------+---------+\n",
      "\n"
     ]
    }
   ],
   "source": [
    "window_spec = Window.partitionBy(\"Department\").orderBy(\"Salary\")\n",
    "\n",
    "row = df.withColumn(\"RowNumber\", row_number().over(window_spec))\n",
    "row.show()"
   ]
  },
  {
   "cell_type": "code",
   "execution_count": 104,
   "id": "5885b84e",
   "metadata": {},
   "outputs": [
    {
     "name": "stdout",
     "output_type": "stream",
     "text": [
      "+----------+--------------+\n",
      "|Department|Average Salary|\n",
      "+----------+--------------+\n",
      "|     Sales|        4500.0|\n",
      "|        HR|        4000.0|\n",
      "|        IT|        6500.0|\n",
      "+----------+--------------+\n",
      "\n"
     ]
    }
   ],
   "source": [
    "df.groupBy(\"Department\").agg(F.avg('Salary').alias('Average Salary')).show()"
   ]
  },
  {
   "cell_type": "markdown",
   "id": "09240f61",
   "metadata": {},
   "source": [
    "#### windows operations"
   ]
  },
  {
   "cell_type": "code",
   "execution_count": 105,
   "id": "767cfa8b",
   "metadata": {},
   "outputs": [
    {
     "name": "stdout",
     "output_type": "stream",
     "text": [
      "+-----+----------+------+------+\n",
      "| Name|Department|Salary|row_no|\n",
      "+-----+----------+------+------+\n",
      "|David|        HR|  4500|     1|\n",
      "|Cathy|        HR|  3500|     2|\n",
      "|Frank|        IT|  7000|     1|\n",
      "|  Eve|        IT|  6000|     2|\n",
      "|Alice|     Sales|  5000|     1|\n",
      "|  Bob|     Sales|  4000|     2|\n",
      "+-----+----------+------+------+\n",
      "\n"
     ]
    }
   ],
   "source": [
    "window_spec = Window.partitionBy(\"Department\").orderBy(col(\"Salary\").desc())\n",
    "\n",
    "data = df.withColumn(\"row_no\", row_number().over(window_spec))\n",
    "data.show()"
   ]
  },
  {
   "cell_type": "code",
   "execution_count": 106,
   "id": "88f1045f",
   "metadata": {},
   "outputs": [
    {
     "name": "stdout",
     "output_type": "stream",
     "text": [
      "+-----+----------+------+----+\n",
      "| Name|Department|Salary|rank|\n",
      "+-----+----------+------+----+\n",
      "|David|        HR|  4500|   1|\n",
      "|Cathy|        HR|  3500|   2|\n",
      "|Frank|        IT|  7000|   1|\n",
      "|  Eve|        IT|  6000|   2|\n",
      "|Alice|     Sales|  5000|   1|\n",
      "|  Bob|     Sales|  4000|   2|\n",
      "+-----+----------+------+----+\n",
      "\n"
     ]
    }
   ],
   "source": [
    "window_spec = Window.partitionBy(\"Department\").orderBy(col(\"Salary\").desc())\n",
    "\n",
    "data1 = df.withColumn(\"rank\", rank().over(window_spec))\n",
    "data1.show()"
   ]
  },
  {
   "cell_type": "code",
   "execution_count": 107,
   "id": "0240889f",
   "metadata": {},
   "outputs": [
    {
     "name": "stdout",
     "output_type": "stream",
     "text": [
      "+-----+----------+------+---------+\n",
      "| Name|Department|Salary|Dens_rank|\n",
      "+-----+----------+------+---------+\n",
      "|David|        HR|  4500|        1|\n",
      "|Cathy|        HR|  3500|        2|\n",
      "|Frank|        IT|  7000|        1|\n",
      "|  Eve|        IT|  6000|        2|\n",
      "|Alice|     Sales|  5000|        1|\n",
      "|  Bob|     Sales|  4000|        2|\n",
      "+-----+----------+------+---------+\n",
      "\n"
     ]
    }
   ],
   "source": [
    "window_spec = Window.partitionBy(\"Department\").orderBy(col(\"Salary\").desc())\n",
    "\n",
    "data3 = df.withColumn(\"Dens_rank\", dense_rank().over(window_spec))\n",
    "data3.show()"
   ]
  },
  {
   "cell_type": "code",
   "execution_count": 109,
   "id": "d20d347e",
   "metadata": {},
   "outputs": [
    {
     "name": "stdout",
     "output_type": "stream",
     "text": [
      "+-----+----------+------+---------------+\n",
      "| Name|Department|Salary|previous_Salary|\n",
      "+-----+----------+------+---------------+\n",
      "|David|        HR|  4500|           NULL|\n",
      "|Cathy|        HR|  3500|           4500|\n",
      "|Frank|        IT|  7000|           NULL|\n",
      "|  Eve|        IT|  6000|           7000|\n",
      "|Alice|     Sales|  5000|           NULL|\n",
      "|  Bob|     Sales|  4000|           5000|\n",
      "+-----+----------+------+---------------+\n",
      "\n"
     ]
    }
   ],
   "source": [
    "window_spec = Window.partitionBy(\"Department\").orderBy(col(\"Salary\").desc())\n",
    "\n",
    "data4 = df.withColumn(\"previous_Salary\", lag(\"Salary\", 1).over(window_spec))\n",
    "data4.show()"
   ]
  },
  {
   "cell_type": "code",
   "execution_count": 110,
   "id": "20bad221",
   "metadata": {},
   "outputs": [
    {
     "name": "stdout",
     "output_type": "stream",
     "text": [
      "+-----+----------+------+-----------+\n",
      "| Name|Department|Salary|next_Salary|\n",
      "+-----+----------+------+-----------+\n",
      "|David|        HR|  4500|       NULL|\n",
      "|Cathy|        HR|  3500|       4500|\n",
      "|Frank|        IT|  7000|       NULL|\n",
      "|  Eve|        IT|  6000|       7000|\n",
      "|Alice|     Sales|  5000|       NULL|\n",
      "|  Bob|     Sales|  4000|       5000|\n",
      "+-----+----------+------+-----------+\n",
      "\n"
     ]
    }
   ],
   "source": [
    "window_spec = Window.partitionBy(\"Department\").orderBy(col(\"Salary\").desc())\n",
    "\n",
    "data5 = df.withColumn(\"next_Salary\", lag(\"Salary\", 1).over(window_spec))\n",
    "data5.show()"
   ]
  },
  {
   "cell_type": "markdown",
   "id": "24d96fd6",
   "metadata": {},
   "source": [
    "#### MissingValues"
   ]
  },
  {
   "cell_type": "code",
   "execution_count": 111,
   "id": "299a371b",
   "metadata": {},
   "outputs": [
    {
     "name": "stdout",
     "output_type": "stream",
     "text": [
      "+-----+----------+------+\n",
      "| Name|Department|Salary|\n",
      "+-----+----------+------+\n",
      "|Alice|     Sales|  5000|\n",
      "|  Bob|     Sales|  4000|\n",
      "|Cathy|        HR|  3500|\n",
      "|David|        HR|  4500|\n",
      "|  Eve|        IT|  6000|\n",
      "|Frank|        IT|  7000|\n",
      "+-----+----------+------+\n",
      "\n"
     ]
    }
   ],
   "source": [
    "df.filter(df.Salary.isNotNull()).show()"
   ]
  },
  {
   "cell_type": "code",
   "execution_count": 112,
   "id": "fe46e4fb",
   "metadata": {},
   "outputs": [
    {
     "name": "stdout",
     "output_type": "stream",
     "text": [
      "+----+----------+------+\n",
      "|Name|Department|Salary|\n",
      "+----+----------+------+\n",
      "+----+----------+------+\n",
      "\n"
     ]
    }
   ],
   "source": [
    "df.filter(df.Salary.isNull()).show()"
   ]
  },
  {
   "cell_type": "code",
   "execution_count": 113,
   "id": "bca6a504",
   "metadata": {},
   "outputs": [
    {
     "name": "stdout",
     "output_type": "stream",
     "text": [
      "+-----+----------+------+\n",
      "| Name|Department|Salary|\n",
      "+-----+----------+------+\n",
      "|Alice|     Sales|  5000|\n",
      "|  Bob|     Sales|  4000|\n",
      "|Cathy|        HR|  3500|\n",
      "|David|        HR|  4500|\n",
      "|  Eve|        IT|  6000|\n",
      "|Frank|        IT|  7000|\n",
      "+-----+----------+------+\n",
      "\n"
     ]
    }
   ],
   "source": [
    "df.na.drop().show()"
   ]
  },
  {
   "cell_type": "markdown",
   "id": "1c6f3ef3",
   "metadata": {},
   "source": [
    "#### DF operations"
   ]
  },
  {
   "cell_type": "code",
   "execution_count": 114,
   "id": "9aa83769",
   "metadata": {},
   "outputs": [
    {
     "name": "stdout",
     "output_type": "stream",
     "text": [
      "+-----+----------+------+\n",
      "| Name|Department|Salary|\n",
      "+-----+----------+------+\n",
      "|Alice|     Sales|  5000|\n",
      "|  Bob|     Sales|  4000|\n",
      "+-----+----------+------+\n",
      "\n"
     ]
    }
   ],
   "source": [
    "df.filter(df[\"Department\"].isin(\"Sales\")).show()\n",
    "\n"
   ]
  },
  {
   "cell_type": "code",
   "execution_count": 115,
   "id": "722f9f8f",
   "metadata": {},
   "outputs": [
    {
     "name": "stdout",
     "output_type": "stream",
     "text": [
      "+-----+----------+------+\n",
      "| Name|Department|Salary|\n",
      "+-----+----------+------+\n",
      "|David|        HR|  4500|\n",
      "+-----+----------+------+\n",
      "\n"
     ]
    }
   ],
   "source": [
    "df.filter(df[\"Name\"].like(\"D%\")).show()\n"
   ]
  },
  {
   "cell_type": "code",
   "execution_count": 116,
   "id": "a89cdc04",
   "metadata": {},
   "outputs": [
    {
     "name": "stdout",
     "output_type": "stream",
     "text": [
      "+-----+----------+------+--------------+\n",
      "| Name|Department|Salary|first_3_letter|\n",
      "+-----+----------+------+--------------+\n",
      "|Alice|     Sales|  5000|           Ali|\n",
      "|  Bob|     Sales|  4000|           Bob|\n",
      "|Cathy|        HR|  3500|           Cat|\n",
      "|David|        HR|  4500|           Dav|\n",
      "|  Eve|        IT|  6000|           Eve|\n",
      "|Frank|        IT|  7000|           Fra|\n",
      "+-----+----------+------+--------------+\n",
      "\n"
     ]
    }
   ],
   "source": [
    "df.withColumn(\"first_3_letter\",df[\"Name\"].substr(1,3)).show()"
   ]
  },
  {
   "cell_type": "code",
   "execution_count": null,
   "id": "bac17c12",
   "metadata": {},
   "outputs": [],
   "source": []
  },
  {
   "cell_type": "code",
   "execution_count": 117,
   "id": "dee45222",
   "metadata": {},
   "outputs": [
    {
     "name": "stdout",
     "output_type": "stream",
     "text": [
      "+---+------+------+--------+------+---------+-----------+\n",
      "|age|gender|   bmi|children|smoker|   region|    charges|\n",
      "+---+------+------+--------+------+---------+-----------+\n",
      "| 19|female|  27.9|       0|   yes|southwest|  16884.924|\n",
      "| 18|  male| 33.77|       1|    no|southeast|  1725.5523|\n",
      "| 28|  male|  33.0|       3|    no|southeast|   4449.462|\n",
      "| 33|  male|22.705|       0|    no|northwest|21984.47061|\n",
      "| 32|  male| 28.88|       0|    no|northwest|  3866.8552|\n",
      "| 31|female| 25.74|       0|    no|southeast|  3756.6216|\n",
      "| 46|female| 33.44|       1|    no|southeast|  8240.5896|\n",
      "| 37|female| 27.74|       3|    no|northwest|  7281.5056|\n",
      "| 37|  male| 29.83|       2|    no|northeast|  6406.4107|\n",
      "| 60|female| 25.84|       0|    no|northwest|28923.13692|\n",
      "| 25|  male| 26.22|       0|    no|northeast|  2721.3208|\n",
      "| 62|female| 26.29|       0|   yes|southeast| 27808.7251|\n",
      "| 23|  male|  34.4|       0|    no|southwest|   1826.843|\n",
      "| 56|female| 39.82|       0|    no|southeast| 11090.7178|\n",
      "| 27|  male| 42.13|       0|   yes|southeast| 39611.7577|\n",
      "| 19|  male|  24.6|       1|    no|southwest|   1837.237|\n",
      "| 52|female| 30.78|       1|    no|northeast| 10797.3362|\n",
      "| 23|  male|23.845|       0|    no|northeast| 2395.17155|\n",
      "| 56|  male|  40.3|       0|    no|southwest|  10602.385|\n",
      "| 30|  male|  35.3|       0|   yes|southwest|  36837.467|\n",
      "+---+------+------+--------+------+---------+-----------+\n",
      "only showing top 20 rows\n",
      "\n"
     ]
    }
   ],
   "source": [
    "df = spark.read.csv(r\"C:\\Users\\ranju\\Downloads\\insurance.csv\",inferSchema= True,header=True)\n",
    "df.show()"
   ]
  },
  {
   "cell_type": "markdown",
   "id": "382c2621",
   "metadata": {},
   "source": [
    "#### Rank Individuals by Charges Within Each Region\n"
   ]
  },
  {
   "cell_type": "code",
   "execution_count": 74,
   "id": "5ab6047d",
   "metadata": {},
   "outputs": [
    {
     "name": "stdout",
     "output_type": "stream",
     "text": [
      "+---+------+------+--------+------+---------+-----------+----+\n",
      "|age|gender|   bmi|children|smoker|   region|    charges|Rank|\n",
      "+---+------+------+--------+------+---------+-----------+----+\n",
      "| 31|female|38.095|       1|   yes|northeast|58571.07448|   1|\n",
      "| 54|  male|40.565|       3|   yes|northeast|48549.17835|   2|\n",
      "| 61|female|36.385|       1|   yes|northeast|48517.56315|   3|\n",
      "| 59|female|36.765|       1|   yes|northeast|47896.79135|   4|\n",
      "| 51|female| 37.05|       3|   yes|northeast| 46255.1125|   5|\n",
      "| 62|  male|32.015|       0|   yes|northeast|45710.20785|   6|\n",
      "| 51|female| 34.96|       2|   yes|northeast| 44641.1974|   7|\n",
      "| 36|  male|41.895|       3|   yes|northeast|43753.33705|   8|\n",
      "| 53|  male|34.105|       0|   yes|northeast|43254.41795|   9|\n",
      "| 55|  male|30.685|       0|   yes|northeast|42303.69215|  10|\n",
      "| 46|female| 35.53|       0|   yes|northeast| 42111.6647|  11|\n",
      "| 50|  male|  32.3|       1|   yes|northeast|  41919.097|  12|\n",
      "| 50|  male|31.825|       0|   yes|northeast|41097.16175|  13|\n",
      "| 43|  male| 34.96|       1|   yes|northeast| 41034.2214|  14|\n",
      "| 23|female| 42.75|       1|   yes|northeast| 40904.1995|  15|\n",
      "| 35|  male| 36.67|       1|   yes|northeast| 39774.2763|  16|\n",
      "| 41|  male| 30.78|       3|   yes|northeast| 39597.4072|  17|\n",
      "| 44|  male| 31.35|       1|   yes|northeast| 39556.4945|  18|\n",
      "| 40|  male|32.775|       1|   yes|northeast|39125.33225|  19|\n",
      "| 37|  male|  34.2|       1|   yes|northeast|  39047.285|  20|\n",
      "+---+------+------+--------+------+---------+-----------+----+\n",
      "only showing top 20 rows\n",
      "\n"
     ]
    }
   ],
   "source": [
    "\n",
    "windowSpec = Window.partitionBy(\"region\").orderBy(col(\"charges\").desc())\n",
    "\n",
    "rank = df.withColumn(\"Rank\", rank().over(windowSpec))\n",
    "\n",
    "rank.show()\n"
   ]
  },
  {
   "cell_type": "markdown",
   "id": "fa1650c0",
   "metadata": {},
   "source": [
    "#### Calculate the Average BMI for Each Gender\n"
   ]
  },
  {
   "cell_type": "code",
   "execution_count": 75,
   "id": "b7b209b2",
   "metadata": {},
   "outputs": [
    {
     "name": "stdout",
     "output_type": "stream",
     "text": [
      "+---+------+------+--------+------+---------+-----------+------------------+\n",
      "|age|gender|   bmi|children|smoker|   region|    charges|       average_bmi|\n",
      "+---+------+------+--------+------+---------+-----------+------------------+\n",
      "| 19|female|  27.9|       0|   yes|southwest|  16884.924|30.377749244713023|\n",
      "| 31|female| 25.74|       0|    no|southeast|  3756.6216|30.377749244713023|\n",
      "| 46|female| 33.44|       1|    no|southeast|  8240.5896|30.377749244713023|\n",
      "| 37|female| 27.74|       3|    no|northwest|  7281.5056|30.377749244713023|\n",
      "| 60|female| 25.84|       0|    no|northwest|28923.13692|30.377749244713023|\n",
      "| 62|female| 26.29|       0|   yes|southeast| 27808.7251|30.377749244713023|\n",
      "| 56|female| 39.82|       0|    no|southeast| 11090.7178|30.377749244713023|\n",
      "| 52|female| 30.78|       1|    no|northeast| 10797.3362|30.377749244713023|\n",
      "| 60|female|36.005|       0|    no|northeast|13228.84695|30.377749244713023|\n",
      "| 30|female|  32.4|       1|    no|southwest|   4149.736|30.377749244713023|\n",
      "| 34|female| 31.92|       1|   yes|northeast| 37701.8768|30.377749244713023|\n",
      "| 59|female| 27.72|       3|    no|southeast| 14001.1338|30.377749244713023|\n",
      "| 63|female|23.085|       0|    no|northeast|14451.83515|30.377749244713023|\n",
      "| 55|female|32.775|       2|    no|northwest|12268.63225|30.377749244713023|\n",
      "| 18|female|26.315|       0|    no|northeast| 2198.18985|30.377749244713023|\n",
      "| 19|female|  28.6|       5|    no|southwest|   4687.797|30.377749244713023|\n",
      "| 62|female|32.965|       3|    no|northwest|15612.19335|30.377749244713023|\n",
      "| 24|female|  26.6|       0|    no|northeast|   3046.062|30.377749244713023|\n",
      "| 31|female| 36.63|       2|    no|southeast|  4949.7587|30.377749244713023|\n",
      "| 37|female|  30.8|       2|    no|southeast|   6313.759|30.377749244713023|\n",
      "+---+------+------+--------+------+---------+-----------+------------------+\n",
      "only showing top 20 rows\n",
      "\n"
     ]
    }
   ],
   "source": [
    "windowSpec = Window.partitionBy(\"gender\")\n",
    "\n",
    "avg = df.withColumn(\"average_bmi\",F. avg(\"bmi\").over(windowSpec))\n",
    "avg.show()\n"
   ]
  },
  {
   "cell_type": "markdown",
   "id": "4a1c1b57",
   "metadata": {},
   "source": [
    "#### Row Number for Each Individual in Their Region\n"
   ]
  },
  {
   "cell_type": "code",
   "execution_count": 76,
   "id": "42a7b4dd",
   "metadata": {},
   "outputs": [
    {
     "name": "stdout",
     "output_type": "stream",
     "text": [
      "+---+------+------+--------+------+---------+-----------+----------+\n",
      "|age|gender|   bmi|children|smoker|   region|    charges|row_number|\n",
      "+---+------+------+--------+------+---------+-----------+----------+\n",
      "| 18|female|26.315|       0|    no|northeast| 2198.18985|         1|\n",
      "| 18|female|38.665|       2|    no|northeast| 3393.35635|         2|\n",
      "| 18|female|35.625|       0|    no|northeast| 2211.13075|         3|\n",
      "| 18|female|30.115|       0|    no|northeast| 21344.8467|         4|\n",
      "| 18|  male| 23.75|       0|    no|northeast|  1705.6245|         5|\n",
      "| 18|  male|25.175|       0|   yes|northeast|15518.18025|         6|\n",
      "| 18|  male| 15.96|       0|    no|northeast|  1694.7964|         7|\n",
      "| 18|  male| 17.29|       2|   yes|northeast| 12829.4551|         8|\n",
      "| 18|  male| 22.99|       0|    no|northeast|  1704.5681|         9|\n",
      "| 18|  male|  30.4|       3|    no|northeast|   3481.868|        10|\n",
      "| 18|female|29.165|       0|    no|northeast|7323.734819|        11|\n",
      "| 18|female|30.115|       0|    no|northeast| 2203.47185|        12|\n",
      "| 18|female| 25.08|       0|    no|northeast|  2196.4732|        13|\n",
      "| 18|  male| 25.46|       0|    no|northeast|  1708.0014|        14|\n",
      "| 18|female|33.155|       0|    no|northeast| 2207.69745|        15|\n",
      "| 18|  male|33.535|       0|   yes|northeast|34617.84065|        16|\n",
      "| 18|  male|  28.5|       0|    no|northeast|   1712.227|        17|\n",
      "| 18|female| 40.28|       0|    no|northeast|  2217.6012|        18|\n",
      "| 18|  male| 31.73|       0|   yes|northeast| 33732.6867|        19|\n",
      "| 18|female|40.185|       0|    no|northeast| 2217.46915|        20|\n",
      "+---+------+------+--------+------+---------+-----------+----------+\n",
      "only showing top 20 rows\n",
      "\n"
     ]
    }
   ],
   "source": [
    "window_spec = Window.partitionBy(\"region\").orderBy(\"age\")\n",
    "row = df.withColumn(\"row_number\",row_number().over(window_spec))\n",
    "row.show()"
   ]
  },
  {
   "cell_type": "markdown",
   "id": "cac0e493",
   "metadata": {},
   "source": [
    "#### Find the Difference Between Charges and the Average Charges by Region"
   ]
  },
  {
   "cell_type": "code",
   "execution_count": 77,
   "id": "3aff17c9",
   "metadata": {},
   "outputs": [
    {
     "name": "stdout",
     "output_type": "stream",
     "text": [
      "+---+------+------+--------+------+---------+-----------+----------------+-------------------+\n",
      "|age|gender|   bmi|children|smoker|   region|    charges|  average_charge|         difference|\n",
      "+---+------+------+--------+------+---------+-----------+----------------+-------------------+\n",
      "| 37|  male| 29.83|       2|    no|northeast|  6406.4107|13406.3845163858|   -6999.9738163858|\n",
      "| 25|  male| 26.22|       0|    no|northeast|  2721.3208|13406.3845163858|-10685.063716385801|\n",
      "| 52|female| 30.78|       1|    no|northeast| 10797.3362|13406.3845163858|-2609.0483163858007|\n",
      "| 23|  male|23.845|       0|    no|northeast| 2395.17155|13406.3845163858|  -11011.2129663858|\n",
      "| 60|female|36.005|       0|    no|northeast|13228.84695|13406.3845163858|-177.53756638580126|\n",
      "| 34|female| 31.92|       1|   yes|northeast| 37701.8768|13406.3845163858|   24295.4922836142|\n",
      "| 63|female|23.085|       0|    no|northeast|14451.83515|13406.3845163858| 1045.4506336142003|\n",
      "| 18|female|26.315|       0|    no|northeast| 2198.18985|13406.3845163858|  -11208.1946663858|\n",
      "| 35|  male| 36.67|       1|   yes|northeast| 39774.2763|13406.3845163858|   26367.8917836142|\n",
      "| 24|female|  26.6|       0|    no|northeast|   3046.062|13406.3845163858|  -10360.3225163858|\n",
      "| 38|  male| 37.05|       1|    no|northeast|  6079.6715|13406.3845163858|   -7326.7130163858|\n",
      "| 18|female|38.665|       2|    no|northeast| 3393.35635|13406.3845163858|  -10013.0281663858|\n",
      "| 18|female|35.625|       0|    no|northeast| 2211.13075|13406.3845163858|  -11195.2537663858|\n",
      "| 58|female|31.825|       2|    no|northeast|13607.36875|13406.3845163858| 200.98423361419918|\n",
      "| 43|  male| 27.36|       3|    no|northeast|  8606.2174|13406.3845163858| -4800.167116385801|\n",
      "| 31|  male|  28.5|       5|    no|northeast|   6799.458|13406.3845163858| -6606.926516385801|\n",
      "| 22|female|39.805|       0|    no|northeast| 2755.02095|13406.3845163858|  -10651.3635663858|\n",
      "| 31|  male|26.885|       1|    no|northeast| 4441.21315|13406.3845163858|   -8965.1713663858|\n",
      "| 45|female|38.285|       0|    no|northeast| 7935.29115|13406.3845163858|   -5471.0933663858|\n",
      "| 59|  male| 29.83|       3|   yes|northeast| 30184.9367|13406.3845163858|   16778.5521836142|\n",
      "+---+------+------+--------+------+---------+-----------+----------------+-------------------+\n",
      "only showing top 20 rows\n",
      "\n"
     ]
    }
   ],
   "source": [
    "window_spec = Window.partitionBy(\"region\")\n",
    "\n",
    "avg_charge = df.withColumn(\"average_charge\",F.avg(\"charges\").over(window_spec))\n",
    "\n",
    "diff = avg_charge.withColumn(\"difference\",col(\"charges\") - col(\"average_charge\"))\n",
    "\n",
    "diff.show()"
   ]
  },
  {
   "cell_type": "code",
   "execution_count": null,
   "id": "1429b98f",
   "metadata": {},
   "outputs": [],
   "source": []
  }
 ],
 "metadata": {
  "kernelspec": {
   "display_name": "Python 3 (ipykernel)",
   "language": "python",
   "name": "python3"
  },
  "language_info": {
   "codemirror_mode": {
    "name": "ipython",
    "version": 3
   },
   "file_extension": ".py",
   "mimetype": "text/x-python",
   "name": "python",
   "nbconvert_exporter": "python",
   "pygments_lexer": "ipython3",
   "version": "3.11.4"
  }
 },
 "nbformat": 4,
 "nbformat_minor": 5
}
