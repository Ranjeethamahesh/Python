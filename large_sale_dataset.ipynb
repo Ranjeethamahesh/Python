{
 "cells": [
  {
   "cell_type": "code",
   "execution_count": 1,
   "id": "4c753199",
   "metadata": {},
   "outputs": [
    {
     "name": "stderr",
     "output_type": "stream",
     "text": [
      "C:\\Users\\ranju\\anaconda3\\Lib\\site-packages\\pandas\\core\\arrays\\masked.py:60: UserWarning: Pandas requires version '1.3.6' or newer of 'bottleneck' (version '1.3.5' currently installed).\n",
      "  from pandas.core import (\n"
     ]
    },
    {
     "data": {
      "text/html": [
       "<div>\n",
       "<style scoped>\n",
       "    .dataframe tbody tr th:only-of-type {\n",
       "        vertical-align: middle;\n",
       "    }\n",
       "\n",
       "    .dataframe tbody tr th {\n",
       "        vertical-align: top;\n",
       "    }\n",
       "\n",
       "    .dataframe thead th {\n",
       "        text-align: right;\n",
       "    }\n",
       "</style>\n",
       "<table border=\"1\" class=\"dataframe\">\n",
       "  <thead>\n",
       "    <tr style=\"text-align: right;\">\n",
       "      <th></th>\n",
       "      <th>OrderID</th>\n",
       "      <th>Product</th>\n",
       "      <th>Category</th>\n",
       "      <th>Price</th>\n",
       "      <th>Quantity</th>\n",
       "      <th>Region</th>\n",
       "      <th>Date</th>\n",
       "      <th>Total_Sale</th>\n",
       "    </tr>\n",
       "  </thead>\n",
       "  <tbody>\n",
       "    <tr>\n",
       "      <th>0</th>\n",
       "      <td>1001</td>\n",
       "      <td>Table</td>\n",
       "      <td>Electronics</td>\n",
       "      <td>34</td>\n",
       "      <td>7</td>\n",
       "      <td>East</td>\n",
       "      <td>2024-12-01</td>\n",
       "      <td>238</td>\n",
       "    </tr>\n",
       "    <tr>\n",
       "      <th>1</th>\n",
       "      <td>1002</td>\n",
       "      <td>Desk</td>\n",
       "      <td>Electronics</td>\n",
       "      <td>832</td>\n",
       "      <td>7</td>\n",
       "      <td>South</td>\n",
       "      <td>2024-12-02</td>\n",
       "      <td>5824</td>\n",
       "    </tr>\n",
       "    <tr>\n",
       "      <th>2</th>\n",
       "      <td>1003</td>\n",
       "      <td>Headphone</td>\n",
       "      <td>Furniture</td>\n",
       "      <td>84</td>\n",
       "      <td>9</td>\n",
       "      <td>East</td>\n",
       "      <td>2024-12-03</td>\n",
       "      <td>756</td>\n",
       "    </tr>\n",
       "    <tr>\n",
       "      <th>3</th>\n",
       "      <td>1004</td>\n",
       "      <td>Phone</td>\n",
       "      <td>Electronics</td>\n",
       "      <td>876</td>\n",
       "      <td>3</td>\n",
       "      <td>North</td>\n",
       "      <td>2024-12-04</td>\n",
       "      <td>2628</td>\n",
       "    </tr>\n",
       "    <tr>\n",
       "      <th>4</th>\n",
       "      <td>1005</td>\n",
       "      <td>Table</td>\n",
       "      <td>Furniture</td>\n",
       "      <td>858</td>\n",
       "      <td>7</td>\n",
       "      <td>East</td>\n",
       "      <td>2024-12-05</td>\n",
       "      <td>6006</td>\n",
       "    </tr>\n",
       "    <tr>\n",
       "      <th>5</th>\n",
       "      <td>1006</td>\n",
       "      <td>Lamp</td>\n",
       "      <td>Furniture</td>\n",
       "      <td>540</td>\n",
       "      <td>1</td>\n",
       "      <td>West</td>\n",
       "      <td>2024-12-06</td>\n",
       "      <td>540</td>\n",
       "    </tr>\n",
       "    <tr>\n",
       "      <th>6</th>\n",
       "      <td>1007</td>\n",
       "      <td>Chair</td>\n",
       "      <td>Furniture</td>\n",
       "      <td>363</td>\n",
       "      <td>4</td>\n",
       "      <td>West</td>\n",
       "      <td>2024-12-07</td>\n",
       "      <td>1452</td>\n",
       "    </tr>\n",
       "    <tr>\n",
       "      <th>7</th>\n",
       "      <td>1008</td>\n",
       "      <td>Table</td>\n",
       "      <td>Furniture</td>\n",
       "      <td>148</td>\n",
       "      <td>4</td>\n",
       "      <td>South</td>\n",
       "      <td>2024-12-08</td>\n",
       "      <td>592</td>\n",
       "    </tr>\n",
       "    <tr>\n",
       "      <th>8</th>\n",
       "      <td>1009</td>\n",
       "      <td>Headphone</td>\n",
       "      <td>Furniture</td>\n",
       "      <td>667</td>\n",
       "      <td>5</td>\n",
       "      <td>West</td>\n",
       "      <td>2024-12-09</td>\n",
       "      <td>3335</td>\n",
       "    </tr>\n",
       "    <tr>\n",
       "      <th>9</th>\n",
       "      <td>1010</td>\n",
       "      <td>Phone</td>\n",
       "      <td>Furniture</td>\n",
       "      <td>491</td>\n",
       "      <td>7</td>\n",
       "      <td>North</td>\n",
       "      <td>2024-12-10</td>\n",
       "      <td>3437</td>\n",
       "    </tr>\n",
       "  </tbody>\n",
       "</table>\n",
       "</div>"
      ],
      "text/plain": [
       "   OrderID    Product     Category  Price  Quantity Region        Date  \\\n",
       "0     1001      Table  Electronics     34         7   East  2024-12-01   \n",
       "1     1002       Desk  Electronics    832         7  South  2024-12-02   \n",
       "2     1003  Headphone    Furniture     84         9   East  2024-12-03   \n",
       "3     1004      Phone  Electronics    876         3  North  2024-12-04   \n",
       "4     1005      Table    Furniture    858         7   East  2024-12-05   \n",
       "5     1006       Lamp    Furniture    540         1   West  2024-12-06   \n",
       "6     1007      Chair    Furniture    363         4   West  2024-12-07   \n",
       "7     1008      Table    Furniture    148         4  South  2024-12-08   \n",
       "8     1009  Headphone    Furniture    667         5   West  2024-12-09   \n",
       "9     1010      Phone    Furniture    491         7  North  2024-12-10   \n",
       "\n",
       "   Total_Sale  \n",
       "0         238  \n",
       "1        5824  \n",
       "2         756  \n",
       "3        2628  \n",
       "4        6006  \n",
       "5         540  \n",
       "6        1452  \n",
       "7         592  \n",
       "8        3335  \n",
       "9        3437  "
      ]
     },
     "execution_count": 1,
     "metadata": {},
     "output_type": "execute_result"
    }
   ],
   "source": [
    "import pandas as pd\n",
    "\n",
    "df = pd.read_csv(r\"C:\\Users\\ranju\\Downloads\\large_sales_data.csv\")\n",
    "df.head(10)\n"
   ]
  },
  {
   "cell_type": "code",
   "execution_count": 6,
   "id": "dbb41892",
   "metadata": {},
   "outputs": [
    {
     "name": "stdout",
     "output_type": "stream",
     "text": [
      "Product     10\n",
      "Category     2\n",
      "dtype: int64\n",
      "['Table' 'Desk' 'Headphone' 'Phone' 'Lamp' 'Chair' 'Monitor' 'Mouse'\n",
      " 'Laptop' 'Sofa']\n",
      "['Electronics' 'Furniture']\n"
     ]
    }
   ],
   "source": [
    "unique_counts = df[['Product','Category']].nunique()\n",
    "\n",
    "print(unique_counts)\n",
    "\n",
    "unique_products = df['Product'].unique()\n",
    "unique_categories = df['Category'].unique()\n",
    "print(unique_products)\n",
    "print(unique_categories)"
   ]
  },
  {
   "cell_type": "code",
   "execution_count": 4,
   "id": "0ef9831a",
   "metadata": {},
   "outputs": [
    {
     "name": "stdout",
     "output_type": "stream",
     "text": [
      "    OrderID    Product     Category  Price  Quantity Region        Date  \\\n",
      "0      1001      Table  Electronics     34         7   East  2024-12-01   \n",
      "1      1002       Desk  Electronics    832         7  South  2024-12-02   \n",
      "2      1003  Headphone    Furniture     84         9   East  2024-12-03   \n",
      "3      1004      Phone  Electronics    876         3  North  2024-12-04   \n",
      "4      1005      Table    Furniture    858         7   East  2024-12-05   \n",
      "5      1006       Lamp    Furniture    540         1   West  2024-12-06   \n",
      "6      1007      Chair    Furniture    363         4   West  2024-12-07   \n",
      "7      1008      Table    Furniture    148         4  South  2024-12-08   \n",
      "8      1009  Headphone    Furniture    667         5   West  2024-12-09   \n",
      "9      1010      Phone    Furniture    491         7  North  2024-12-10   \n",
      "10     1011       Desk    Furniture     82         7   East  2024-12-11   \n",
      "11     1012  Headphone    Furniture    158         4  South  2024-12-12   \n",
      "12     1013  Headphone    Furniture    518         7   East  2024-12-13   \n",
      "13     1014      Chair    Furniture    612         3   East  2024-12-14   \n",
      "14     1015    Monitor    Furniture    411         6  North  2024-12-15   \n",
      "15     1016      Phone  Electronics    694         2   West  2024-12-16   \n",
      "16     1017      Mouse  Electronics    438         9   West  2024-12-17   \n",
      "17     1018  Headphone    Furniture    308         5   East  2024-12-18   \n",
      "18     1019    Monitor    Furniture    398         6  South  2024-12-19   \n",
      "19     1020      Mouse    Furniture    792         4   West  2024-12-20   \n",
      "20     1021      Phone    Furniture    509         7  South  2024-12-21   \n",
      "21     1022     Laptop    Furniture    250         9   West  2024-12-22   \n",
      "22     1023       Lamp    Furniture     60         7  South  2024-12-23   \n",
      "23     1024    Monitor    Furniture     47         1  North  2024-12-24   \n",
      "24     1025       Sofa    Furniture    154         1  South  2024-12-25   \n",
      "25     1026     Laptop  Electronics    220         9  North  2024-12-26   \n",
      "26     1027       Lamp    Furniture    859         9  North  2024-12-27   \n",
      "27     1028      Chair  Electronics    799         4  South  2024-12-28   \n",
      "28     1029      Table    Furniture    949         9  North  2024-12-29   \n",
      "29     1030       Desk    Furniture     52         3   East  2024-12-30   \n",
      "30     1031       Sofa  Electronics     67         7  North  2024-12-31   \n",
      "31     1032      Chair    Furniture    522         6   West  2025-01-01   \n",
      "32     1033      Phone  Electronics    426         8  South  2025-01-02   \n",
      "33     1034      Chair    Furniture    593         9   East  2025-01-03   \n",
      "34     1035      Table    Furniture    747         5  South  2025-01-04   \n",
      "35     1036      Phone  Electronics    824         1   West  2025-01-05   \n",
      "36     1037       Sofa    Furniture    118         3   West  2025-01-06   \n",
      "37     1038      Table  Electronics    703         8   West  2025-01-07   \n",
      "38     1039      Mouse    Furniture    891         6  North  2025-01-08   \n",
      "39     1040       Desk  Electronics    745         8  North  2025-01-09   \n",
      "40     1041       Sofa  Electronics    566         9  South  2025-01-10   \n",
      "41     1042      Mouse    Furniture    980         4  South  2025-01-11   \n",
      "42     1043       Lamp    Furniture    758         1   East  2025-01-12   \n",
      "43     1044       Sofa  Electronics    632         1   East  2025-01-13   \n",
      "44     1045       Lamp    Furniture    962         4  South  2025-01-14   \n",
      "45     1046      Phone    Furniture    481         7  North  2025-01-15   \n",
      "46     1047      Mouse    Furniture    662         2   West  2025-01-16   \n",
      "47     1048       Desk  Electronics    788         3  South  2025-01-17   \n",
      "48     1049      Table  Electronics     24         1   East  2025-01-18   \n",
      "49     1050  Headphone  Electronics    237         5  North  2025-01-19   \n",
      "\n",
      "    Total_Sale  \n",
      "0          238  \n",
      "1         5824  \n",
      "2          756  \n",
      "3         2628  \n",
      "4         6006  \n",
      "5          540  \n",
      "6         1452  \n",
      "7          592  \n",
      "8         3335  \n",
      "9         3437  \n",
      "10         574  \n",
      "11         632  \n",
      "12        3626  \n",
      "13        1836  \n",
      "14        2466  \n",
      "15        1388  \n",
      "16        3942  \n",
      "17        1540  \n",
      "18        2388  \n",
      "19        3168  \n",
      "20        3563  \n",
      "21        2250  \n",
      "22         420  \n",
      "23          47  \n",
      "24         154  \n",
      "25        1980  \n",
      "26        7731  \n",
      "27        3196  \n",
      "28        8541  \n",
      "29         156  \n",
      "30         469  \n",
      "31        3132  \n",
      "32        3408  \n",
      "33        5337  \n",
      "34        3735  \n",
      "35         824  \n",
      "36         354  \n",
      "37        5624  \n",
      "38        5346  \n",
      "39        5960  \n",
      "40        5094  \n",
      "41        3920  \n",
      "42         758  \n",
      "43         632  \n",
      "44        3848  \n",
      "45        3367  \n",
      "46        1324  \n",
      "47        2364  \n",
      "48          24  \n",
      "49        1185  \n"
     ]
    }
   ],
   "source": [
    "a = df.drop_duplicates()\n",
    "print(a)"
   ]
  },
  {
   "cell_type": "code",
   "execution_count": 5,
   "id": "4a011411",
   "metadata": {},
   "outputs": [
    {
     "name": "stdout",
     "output_type": "stream",
     "text": [
      "Region\n",
      "East     21483\n",
      "North    43157\n",
      "South    39138\n",
      "West     27333\n",
      "Name: Total_Sale, dtype: int64\n"
     ]
    }
   ],
   "source": [
    "total_sale = df.groupby('Region')['Total_Sale'].sum()\n",
    "print(total_sale)"
   ]
  },
  {
   "cell_type": "code",
   "execution_count": 6,
   "id": "eaa513c7",
   "metadata": {},
   "outputs": [
    {
     "name": "stdout",
     "output_type": "stream",
     "text": [
      "Product\n",
      "Table    24760\n",
      "Phone    18615\n",
      "Mouse    17700\n",
      "Name: Total_Sale, dtype: int64\n"
     ]
    }
   ],
   "source": [
    "#Find the top 3 products with the highest total sales.\n",
    "high_sale = df.groupby('Product')['Total_Sale'].sum()\n",
    "\n",
    "s = high_sale.sort_values(ascending = False).head(3)\n",
    "print(s)\n"
   ]
  },
  {
   "cell_type": "code",
   "execution_count": 7,
   "id": "3fe2f034",
   "metadata": {},
   "outputs": [
    {
     "name": "stdout",
     "output_type": "stream",
     "text": [
      "                  Price  Quantity\n",
      "Category                         \n",
      "Electronics  523.823529  5.411765\n",
      "Furniture    485.575758  5.212121\n"
     ]
    }
   ],
   "source": [
    "#Group the data by Category and find the average Price and Quantity for each category.\n",
    "grp = df.groupby('Category')[['Price','Quantity']].mean()\n",
    "print(grp)"
   ]
  },
  {
   "cell_type": "code",
   "execution_count": 8,
   "id": "69dce60b",
   "metadata": {},
   "outputs": [
    {
     "name": "stdout",
     "output_type": "stream",
     "text": [
      "Region\n",
      "North    3596.416667\n",
      "Name: Total_Sale, dtype: float64\n"
     ]
    }
   ],
   "source": [
    "#Determine the region with the highest average sales.\n",
    "h_avg = df.groupby('Region')['Total_Sale'].mean()\n",
    "a1  = h_avg.sort_values(ascending=False).head(1)\n",
    "print(a1)"
   ]
  },
  {
   "cell_type": "code",
   "execution_count": 9,
   "id": "f1a6c842",
   "metadata": {},
   "outputs": [
    {
     "name": "stdout",
     "output_type": "stream",
     "text": [
      "    OrderID    Product     Category  Price  Quantity Region        Date  \\\n",
      "0      1001      Table  Electronics     34         7   East  2024-12-01   \n",
      "1      1002       Desk  Electronics    832         7  South  2024-12-02   \n",
      "2      1003  Headphone    Furniture     84         9   East  2024-12-03   \n",
      "3      1004      Phone  Electronics    876         3  North  2024-12-04   \n",
      "4      1005      Table    Furniture    858         7   East  2024-12-05   \n",
      "5      1006       Lamp    Furniture    540         1   West  2024-12-06   \n",
      "6      1007      Chair    Furniture    363         4   West  2024-12-07   \n",
      "7      1008      Table    Furniture    148         4  South  2024-12-08   \n",
      "8      1009  Headphone    Furniture    667         5   West  2024-12-09   \n",
      "9      1010      Phone    Furniture    491         7  North  2024-12-10   \n",
      "10     1011       Desk    Furniture     82         7   East  2024-12-11   \n",
      "11     1012  Headphone    Furniture    158         4  South  2024-12-12   \n",
      "12     1013  Headphone    Furniture    518         7   East  2024-12-13   \n",
      "13     1014      Chair    Furniture    612         3   East  2024-12-14   \n",
      "14     1015    Monitor    Furniture    411         6  North  2024-12-15   \n",
      "15     1016      Phone  Electronics    694         2   West  2024-12-16   \n",
      "16     1017      Mouse  Electronics    438         9   West  2024-12-17   \n",
      "17     1018  Headphone    Furniture    308         5   East  2024-12-18   \n",
      "18     1019    Monitor    Furniture    398         6  South  2024-12-19   \n",
      "19     1020      Mouse    Furniture    792         4   West  2024-12-20   \n",
      "20     1021      Phone    Furniture    509         7  South  2024-12-21   \n",
      "21     1022     Laptop    Furniture    250         9   West  2024-12-22   \n",
      "22     1023       Lamp    Furniture     60         7  South  2024-12-23   \n",
      "23     1024    Monitor    Furniture     47         1  North  2024-12-24   \n",
      "24     1025       Sofa    Furniture    154         1  South  2024-12-25   \n",
      "25     1026     Laptop  Electronics    220         9  North  2024-12-26   \n",
      "26     1027       Lamp    Furniture    859         9  North  2024-12-27   \n",
      "27     1028      Chair  Electronics    799         4  South  2024-12-28   \n",
      "28     1029      Table    Furniture    949         9  North  2024-12-29   \n",
      "29     1030       Desk    Furniture     52         3   East  2024-12-30   \n",
      "30     1031       Sofa  Electronics     67         7  North  2024-12-31   \n",
      "31     1032      Chair    Furniture    522         6   West  2025-01-01   \n",
      "32     1033      Phone  Electronics    426         8  South  2025-01-02   \n",
      "33     1034      Chair    Furniture    593         9   East  2025-01-03   \n",
      "34     1035      Table    Furniture    747         5  South  2025-01-04   \n",
      "35     1036      Phone  Electronics    824         1   West  2025-01-05   \n",
      "36     1037       Sofa    Furniture    118         3   West  2025-01-06   \n",
      "37     1038      Table  Electronics    703         8   West  2025-01-07   \n",
      "38     1039      Mouse    Furniture    891         6  North  2025-01-08   \n",
      "39     1040       Desk  Electronics    745         8  North  2025-01-09   \n",
      "40     1041       Sofa  Electronics    566         9  South  2025-01-10   \n",
      "41     1042      Mouse    Furniture    980         4  South  2025-01-11   \n",
      "42     1043       Lamp    Furniture    758         1   East  2025-01-12   \n",
      "43     1044       Sofa  Electronics    632         1   East  2025-01-13   \n",
      "44     1045       Lamp    Furniture    962         4  South  2025-01-14   \n",
      "45     1046      Phone    Furniture    481         7  North  2025-01-15   \n",
      "46     1047      Mouse    Furniture    662         2   West  2025-01-16   \n",
      "47     1048       Desk  Electronics    788         3  South  2025-01-17   \n",
      "48     1049      Table  Electronics     24         1   East  2025-01-18   \n",
      "49     1050  Headphone  Electronics    237         5  North  2025-01-19   \n",
      "\n",
      "    Total_Sale   profit  \n",
      "0          238    59.50  \n",
      "1         5824  1456.00  \n",
      "2          756   189.00  \n",
      "3         2628   657.00  \n",
      "4         6006  1501.50  \n",
      "5          540   135.00  \n",
      "6         1452   363.00  \n",
      "7          592   148.00  \n",
      "8         3335   833.75  \n",
      "9         3437   859.25  \n",
      "10         574   143.50  \n",
      "11         632   158.00  \n",
      "12        3626   906.50  \n",
      "13        1836   459.00  \n",
      "14        2466   616.50  \n",
      "15        1388   347.00  \n",
      "16        3942   985.50  \n",
      "17        1540   385.00  \n",
      "18        2388   597.00  \n",
      "19        3168   792.00  \n",
      "20        3563   890.75  \n",
      "21        2250   562.50  \n",
      "22         420   105.00  \n",
      "23          47    11.75  \n",
      "24         154    38.50  \n",
      "25        1980   495.00  \n",
      "26        7731  1932.75  \n",
      "27        3196   799.00  \n",
      "28        8541  2135.25  \n",
      "29         156    39.00  \n",
      "30         469   117.25  \n",
      "31        3132   783.00  \n",
      "32        3408   852.00  \n",
      "33        5337  1334.25  \n",
      "34        3735   933.75  \n",
      "35         824   206.00  \n",
      "36         354    88.50  \n",
      "37        5624  1406.00  \n",
      "38        5346  1336.50  \n",
      "39        5960  1490.00  \n",
      "40        5094  1273.50  \n",
      "41        3920   980.00  \n",
      "42         758   189.50  \n",
      "43         632   158.00  \n",
      "44        3848   962.00  \n",
      "45        3367   841.75  \n",
      "46        1324   331.00  \n",
      "47        2364   591.00  \n",
      "48          24     6.00  \n",
      "49        1185   296.25  \n"
     ]
    }
   ],
   "source": [
    "#Add a column Profit assuming a profit margin of 25% on Total_Sale.\n",
    "df['profit'] = df['Total_Sale']*0.25\n",
    "print(df)"
   ]
  },
  {
   "cell_type": "code",
   "execution_count": 10,
   "id": "a5ff7867",
   "metadata": {},
   "outputs": [
    {
     "name": "stdout",
     "output_type": "stream",
     "text": [
      "28    2135.25\n",
      "26    1932.75\n",
      "4     1501.50\n",
      "39    1490.00\n",
      "1     1456.00\n",
      "Name: profit, dtype: float64\n"
     ]
    }
   ],
   "source": [
    "#Sort the dataset by Profit in descending order and display the top 5 rows.\n",
    "dataset = df['profit'].sort_values(ascending = False).head(5)\n",
    "print(dataset)"
   ]
  },
  {
   "cell_type": "raw",
   "id": "9a2d153e",
   "metadata": {},
   "source": [
    "Check for missing values in the dataset. If any, suggest how to handle them.\n",
    "Calculate the median Total_Sale for each category and region combination.\n",
    "Identify the most frequently sold product in the dataset."
   ]
  },
  {
   "cell_type": "code",
   "execution_count": 11,
   "id": "e517858b",
   "metadata": {},
   "outputs": [
    {
     "name": "stdout",
     "output_type": "stream",
     "text": [
      "Category     Region\n",
      "Electronics  East       238.0\n",
      "             North     1980.0\n",
      "             South     3408.0\n",
      "             West      2665.0\n",
      "Furniture    East      1540.0\n",
      "             North     3437.0\n",
      "             South     2388.0\n",
      "             West      1851.0\n",
      "Name: Total_Sale, dtype: float64\n"
     ]
    }
   ],
   "source": [
    "med = df.groupby(['Category','Region'])['Total_Sale'].median()\n",
    "print(med)"
   ]
  },
  {
   "cell_type": "code",
   "execution_count": 8,
   "id": "8bb0f261",
   "metadata": {},
   "outputs": [
    {
     "name": "stdout",
     "output_type": "stream",
     "text": [
      "Table\n"
     ]
    }
   ],
   "source": [
    "frequent_sale = df['Product'].value_counts().idxmax()\n",
    "print(frequent_sale)"
   ]
  },
  {
   "cell_type": "code",
   "execution_count": 16,
   "id": "14c75950",
   "metadata": {},
   "outputs": [
    {
     "name": "stdout",
     "output_type": "stream",
     "text": [
      "    OrderID    Product     Category  Price  Quantity Region        Date  \\\n",
      "4      1005      Table    Furniture    858         7   East  2024-12-05   \n",
      "12     1013  Headphone    Furniture    518         7   East  2024-12-13   \n",
      "13     1014      Chair    Furniture    612         3   East  2024-12-14   \n",
      "33     1034      Chair    Furniture    593         9   East  2025-01-03   \n",
      "42     1043       Lamp    Furniture    758         1   East  2025-01-12   \n",
      "43     1044       Sofa  Electronics    632         1   East  2025-01-13   \n",
      "\n",
      "    Total_Sale   profit  \n",
      "4         6006  1501.50  \n",
      "12        3626   906.50  \n",
      "13        1836   459.00  \n",
      "33        5337  1334.25  \n",
      "42         758   189.50  \n",
      "43         632   158.00  \n"
     ]
    }
   ],
   "source": [
    "#Find all orders where the Price is above $500 and the Region is \"East.\"\n",
    "oder = df[(df['Region']== 'East') & (df['Price']>500)]\n",
    "print(oder)"
   ]
  },
  {
   "cell_type": "code",
   "execution_count": 46,
   "id": "448fa040",
   "metadata": {},
   "outputs": [
    {
     "name": "stdout",
     "output_type": "stream",
     "text": [
      "datetime64[ns]\n"
     ]
    }
   ],
   "source": [
    "#Extract orders made in December with a Total_Sale greater than $2000.\n",
    "\n",
    "date = df['Date'].dtype\n",
    "print(date)"
   ]
  },
  {
   "cell_type": "code",
   "execution_count": 64,
   "id": "89de62e8",
   "metadata": {},
   "outputs": [
    {
     "name": "stdout",
     "output_type": "stream",
     "text": [
      "Region\n",
      "East     6\n",
      "North    9\n",
      "South    6\n",
      "West     4\n",
      "Name: OrderID, dtype: int64\n"
     ]
    }
   ],
   "source": [
    "byy = df[df['Quantity']> 5]\n",
    "\n",
    "\n",
    "rev  = byy.groupby('Region')['OrderID'].count()\n",
    "print(rev)"
   ]
  },
  {
   "cell_type": "code",
   "execution_count": null,
   "id": "7ae36094",
   "metadata": {},
   "outputs": [],
   "source": [
    "\n"
   ]
  },
  {
   "cell_type": "code",
   "execution_count": null,
   "id": "925f3fe3",
   "metadata": {},
   "outputs": [],
   "source": []
  }
 ],
 "metadata": {
  "kernelspec": {
   "display_name": "Python 3 (ipykernel)",
   "language": "python",
   "name": "python3"
  },
  "language_info": {
   "codemirror_mode": {
    "name": "ipython",
    "version": 3
   },
   "file_extension": ".py",
   "mimetype": "text/x-python",
   "name": "python",
   "nbconvert_exporter": "python",
   "pygments_lexer": "ipython3",
   "version": "3.11.4"
  }
 },
 "nbformat": 4,
 "nbformat_minor": 5
}
