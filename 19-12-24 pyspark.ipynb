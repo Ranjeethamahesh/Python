{
 "cells": [
  {
   "cell_type": "raw",
   "id": "76f3739e",
   "metadata": {},
   "source": [
    "Movie Data\n",
    "0. Generate data with schema: MovieID, UserID, Rating and Timestamp\n",
    "\n",
    "1. Load the dataset into a PySpark DataFrame.\n",
    "\n",
    "2. Convert the Timestamp column to a human-readable date format\n",
    "\n",
    "3. Find the average rating for each movie.\n",
    "\n",
    "4. Identify users who have rated more than 5 movies.\n",
    "\n",
    "5. Determine the top 5 highest-rated movies.\n",
    "\n",
    "6. Visualise the users vs number of movies they rated"
   ]
  },
  {
   "cell_type": "code",
   "execution_count": 2,
   "id": "a1d73880",
   "metadata": {},
   "outputs": [],
   "source": [
    "import pyspark\n",
    "import random\n",
    "import time\n",
    "from pyspark.sql import functions as F\n",
    "\n",
    "from pyspark.sql.functions import *\n",
    "\n",
    "from pyspark.sql import SparkSession\n",
    "spark = SparkSession.builder.appName(\"Custom Details\").getOrCreate()\n"
   ]
  },
  {
   "cell_type": "code",
   "execution_count": 3,
   "id": "9c77e199",
   "metadata": {},
   "outputs": [
    {
     "name": "stderr",
     "output_type": "stream",
     "text": [
      "C:\\Users\\ranju\\anaconda3\\Lib\\site-packages\\pandas\\core\\arrays\\masked.py:60: UserWarning: Pandas requires version '1.3.6' or newer of 'bottleneck' (version '1.3.5' currently installed).\n",
      "  from pandas.core import (\n"
     ]
    }
   ],
   "source": [
    "movies = 50\n",
    "users = 100\n",
    "records = 1000\n",
    "\n",
    "data =[]\n",
    "for _ in range(records):\n",
    "    m_id = random.randint(1,movies)\n",
    "    u_id = random.randint(1,users)\n",
    "    rating = random.randint(1,5)\n",
    "    time_stamp = random.randint(1000000000,int(time.time()))\n",
    "    data.append((m_id,u_id,rating,time_stamp))\n",
    "\n",
    "schema = ['MovieID', 'UserID', 'Rating' ,'Timestamp']\n",
    "df = spark.createDataFrame(data,schema = schema)"
   ]
  },
  {
   "cell_type": "code",
   "execution_count": 4,
   "id": "84d6ea7c",
   "metadata": {},
   "outputs": [
    {
     "name": "stdout",
     "output_type": "stream",
     "text": [
      "+-------+------+------+----------+\n",
      "|MovieID|UserID|Rating| Timestamp|\n",
      "+-------+------+------+----------+\n",
      "|     42|    74|     2|1340713679|\n",
      "|     29|    69|     3|1576480350|\n",
      "|     32|    61|     3|1510888305|\n",
      "|     28|    76|     5|1247202021|\n",
      "|     40|    88|     5|1165440721|\n",
      "|     18|    41|     1|1125777299|\n",
      "|     16|    76|     1|1586756300|\n",
      "|     17|    75|     2|1348530025|\n",
      "|     34|    48|     4|1313070485|\n",
      "|     41|    67|     5|1622562631|\n",
      "|      2|    15|     2|1551622299|\n",
      "|      3|    77|     2|1178126233|\n",
      "|     24|    89|     3|1312739510|\n",
      "|     26|    45|     2|1576174939|\n",
      "|     10|    78|     3|1193681423|\n",
      "|     49|    15|     4|1351426075|\n",
      "|     40|    48|     2|1479525782|\n",
      "|     16|    37|     2|1127361718|\n",
      "|     29|    33|     5|1649266625|\n",
      "|      4|    87|     5|1607896005|\n",
      "+-------+------+------+----------+\n",
      "only showing top 20 rows\n",
      "\n"
     ]
    }
   ],
   "source": [
    "df.show()"
   ]
  },
  {
   "cell_type": "code",
   "execution_count": 5,
   "id": "9316baa1",
   "metadata": {},
   "outputs": [
    {
     "name": "stdout",
     "output_type": "stream",
     "text": [
      "+-------+------+------+----------+-------------------+\n",
      "|MovieID|UserID|Rating| Timestamp| Readable_Timestamp|\n",
      "+-------+------+------+----------+-------------------+\n",
      "|     42|    74|     2|1340713679|2012-06-26 17:57:59|\n",
      "|     29|    69|     3|1576480350|2019-12-16 12:42:30|\n",
      "|     32|    61|     3|1510888305|2017-11-17 08:41:45|\n",
      "|     28|    76|     5|1247202021|2009-07-10 10:30:21|\n",
      "|     40|    88|     5|1165440721|2006-12-07 03:02:01|\n",
      "|     18|    41|     1|1125777299|2005-09-04 01:24:59|\n",
      "|     16|    76|     1|1586756300|2020-04-13 11:08:20|\n",
      "|     17|    75|     2|1348530025|2012-09-25 05:10:25|\n",
      "|     34|    48|     4|1313070485|2011-08-11 19:18:05|\n",
      "|     41|    67|     5|1622562631|2021-06-01 21:20:31|\n",
      "|      2|    15|     2|1551622299|2019-03-03 19:41:39|\n",
      "|      3|    77|     2|1178126233|2007-05-02 22:47:13|\n",
      "|     24|    89|     3|1312739510|2011-08-07 23:21:50|\n",
      "|     26|    45|     2|1576174939|2019-12-12 23:52:19|\n",
      "|     10|    78|     3|1193681423|2007-10-29 23:40:23|\n",
      "|     49|    15|     4|1351426075|2012-10-28 17:37:55|\n",
      "|     40|    48|     2|1479525782|2016-11-19 08:53:02|\n",
      "|     16|    37|     2|1127361718|2005-09-22 09:31:58|\n",
      "|     29|    33|     5|1649266625|2022-04-06 23:07:05|\n",
      "|      4|    87|     5|1607896005|2020-12-14 03:16:45|\n",
      "+-------+------+------+----------+-------------------+\n",
      "only showing top 20 rows\n",
      "\n"
     ]
    }
   ],
   "source": [
    "from pyspark.sql.functions import from_unixtime\n",
    "df = df.withColumn(\"Readable_Timestamp\", from_unixtime(df.Timestamp))\n",
    "df.show()"
   ]
  },
  {
   "cell_type": "code",
   "execution_count": 6,
   "id": "570ea5d0",
   "metadata": {},
   "outputs": [
    {
     "name": "stdout",
     "output_type": "stream",
     "text": [
      "+-------+------------------+\n",
      "|MovieID|    Average_Rating|\n",
      "+-------+------------------+\n",
      "|     29|            3.1875|\n",
      "|     26|2.6666666666666665|\n",
      "|      7| 2.652173913043478|\n",
      "|     34|               3.5|\n",
      "|     50|3.1363636363636362|\n",
      "|     32|3.3529411764705883|\n",
      "|     43| 2.923076923076923|\n",
      "|     31|2.9285714285714284|\n",
      "|     39|2.8095238095238093|\n",
      "|      6| 2.857142857142857|\n",
      "|      9|            3.1875|\n",
      "|     27|3.1666666666666665|\n",
      "|     17|2.8260869565217392|\n",
      "|     41|3.1666666666666665|\n",
      "|     28| 3.608695652173913|\n",
      "|      5|               3.2|\n",
      "|      1|               2.7|\n",
      "|     10|3.3636363636363638|\n",
      "|     48| 3.217391304347826|\n",
      "|     44|3.0476190476190474|\n",
      "+-------+------------------+\n",
      "only showing top 20 rows\n",
      "\n"
     ]
    }
   ],
   "source": [
    "average_ratings = df.groupBy(\"MovieID\").agg(avg(\"Rating\").alias(\"Average_Rating\"))\n",
    "\n",
    "average_ratings.show()"
   ]
  },
  {
   "cell_type": "code",
   "execution_count": 7,
   "id": "3f3e6fb9",
   "metadata": {},
   "outputs": [
    {
     "name": "stdout",
     "output_type": "stream",
     "text": [
      "+------+------------+\n",
      "|UserID|Rating_Count|\n",
      "+------+------------+\n",
      "|    29|           6|\n",
      "|    54|          11|\n",
      "|    77|          12|\n",
      "|    34|          11|\n",
      "|    94|          10|\n",
      "|    43|           6|\n",
      "|    31|          11|\n",
      "|    98|          11|\n",
      "|    39|          13|\n",
      "|    95|           7|\n",
      "|    68|          16|\n",
      "|    87|          14|\n",
      "|    72|          15|\n",
      "|    58|          11|\n",
      "|    27|          11|\n",
      "|    56|          10|\n",
      "|    17|          11|\n",
      "|    79|           7|\n",
      "|    41|           7|\n",
      "|    88|          11|\n",
      "+------+------------+\n",
      "only showing top 20 rows\n",
      "\n"
     ]
    }
   ],
   "source": [
    "user_count = df.groupBy(\"UserID\").agg(count(\"Rating\").alias(\"Rating_Count\"))\n",
    "users_ratings = user_count.filter(user_count.Rating_Count > 5)\n",
    "\n",
    "users_ratings.show()\n"
   ]
  },
  {
   "cell_type": "code",
   "execution_count": 8,
   "id": "e6f4d59a",
   "metadata": {},
   "outputs": [
    {
     "name": "stdout",
     "output_type": "stream",
     "text": [
      "+-------+------------------+\n",
      "|MovieID|        avg_rating|\n",
      "+-------+------------------+\n",
      "|     25| 3.611111111111111|\n",
      "|     28| 3.608695652173913|\n",
      "|      4|3.5454545454545454|\n",
      "|     38|3.5454545454545454|\n",
      "|     34|               3.5|\n",
      "+-------+------------------+\n",
      "\n"
     ]
    }
   ],
   "source": [
    "high_rated = df.groupby('MovieID').agg(avg('Rating').alias(\"avg_rating\"))\n",
    "top = high_rated.orderBy('avg_rating',ascending = False).limit(5)\n",
    "top.show()"
   ]
  },
  {
   "cell_type": "code",
   "execution_count": 9,
   "id": "36bad71e",
   "metadata": {},
   "outputs": [
    {
     "name": "stderr",
     "output_type": "stream",
     "text": [
      "C:\\Users\\ranju\\anaconda3\\Lib\\site-packages\\seaborn\\_oldcore.py:1119: FutureWarning: use_inf_as_na option is deprecated and will be removed in a future version. Convert inf values to NaN before operating instead.\n",
      "  with pd.option_context('mode.use_inf_as_na', True):\n"
     ]
    },
    {
     "data": {
      "image/png": "[encoded data removed]",
      "text/plain": [
       "<Figure size 500x300 with 1 Axes>"
      ]
     },
     "metadata": {},
     "output_type": "display_data"
    }
   ],
   "source": [
    "import matplotlib.pyplot as plt\n",
    "import seaborn as sns\n",
    "\n",
    "# Count the number of movies rated by each user\n",
    "user_ratings_count = df.groupBy(\"UserID\").agg(count(\"MovieID\").alias(\"Movies_Rated\"))\n",
    "\n",
    "# Convert the Spark DataFrame to Pandas DataFrame\n",
    "user_ratings_count_pd = user_ratings_count.toPandas()\n",
    "\n",
    "# Plot the visualization\n",
    "plt.figure(figsize=(5,3))\n",
    "sns.histplot(user_ratings_count_pd[\"Movies_Rated\"], bins=30, kde=False, color='skyblue')\n",
    "plt.title(\"Distribution of Number of Movies Rated by Users\")\n",
    "plt.xlabel(\"Number of Movies Rated\")\n",
    "plt.ylabel(\"Number of Users\")\n",
    "plt.grid(True)\n",
    "plt.show()\n"
   ]
  },
  {
   "cell_type": "code",
   "execution_count": 10,
   "id": "031f47a5",
   "metadata": {},
   "outputs": [],
   "source": [
    "spark.stop()"
   ]
  },
  {
   "cell_type": "code",
   "execution_count": null,
   "id": "e111f8cc",
   "metadata": {},
   "outputs": [],
   "source": []
  },
  {
   "cell_type": "raw",
   "id": "52f7338a",
   "metadata": {},
   "source": [
    "Analyse Trip data\n",
    "0. Generate data with schema: TripID, StartTime, EndTime, Distance and Fare\n",
    "1. Load the dataset into a PySpark DataFrame.\n",
    "2. Calculate the trip duration for each trip.\n",
    "3. Find the average fare per mile.\n",
    "4. Identify the top 3 longest trips (based on distance).\n",
    "5. Group trips by hour of the day and calculate the total number of trips per hour.\n",
    "6. Represent the hours of the day vs number of trips in that hour with a suitable chart.\n",
    " "
   ]
  },
  {
   "cell_type": "code",
   "execution_count": 11,
   "id": "506906c2",
   "metadata": {},
   "outputs": [
    {
     "name": "stdout",
     "output_type": "stream",
     "text": [
      "+------+-------------------+-------------------+--------+----+\n",
      "|TripID|          StartTime|            EndTime|Distance|Fare|\n",
      "+------+-------------------+-------------------+--------+----+\n",
      "|     1|2024-12-17 17:38:11|2024-12-17 17:55:11|       3|  49|\n",
      "|     2|2024-12-11 17:38:11|2024-12-11 18:13:11|      48|  98|\n",
      "|     3|2024-12-12 17:38:11|2024-12-12 18:18:11|       4|  92|\n",
      "|     4|2024-11-30 17:38:11|2024-11-30 18:11:11|      32|   7|\n",
      "|     5|2024-12-17 17:38:11|2024-12-17 18:03:11|      35|  32|\n",
      "+------+-------------------+-------------------+--------+----+\n",
      "only showing top 5 rows\n",
      "\n"
     ]
    }
   ],
   "source": [
    "from pyspark.sql import SparkSession\n",
    "from pyspark.sql.functions import col, unix_timestamp\n",
    "import random\n",
    "from datetime import datetime, timedelta\n",
    "\n",
    "\n",
    "spark = SparkSession.builder.appName('TripAnalysis').getOrCreate()\n",
    "\n",
    "schema = [\"TripID\", \"StartTime\", \"EndTime\", \"Distance\", \"Fare\"]\n",
    "\n",
    "data = []\n",
    "for i in range(1, 101):  \n",
    "    trip_id = i\n",
    "    start_time = datetime.now() - timedelta(days=random.randint(0, 30))\n",
    "    end_time = start_time + timedelta(minutes=random.randint(10, 60))\n",
    "    distance = random.randint(1, 50)  # distance in miles\n",
    "    fare = random.randint(5, 100)  # fare in dollars\n",
    "    data.append((trip_id, start_time.strftime(\"%Y-%m-%d %H:%M:%S\"), \n",
    "                 end_time.strftime(\"%Y-%m-%d %H:%M:%S\"), distance, fare))\n",
    "\n",
    "\n",
    "df = spark.createDataFrame(data, schema)\n",
    "df.show(5)  \n"
   ]
  },
  {
   "cell_type": "code",
   "execution_count": 12,
   "id": "f6cea782",
   "metadata": {},
   "outputs": [
    {
     "name": "stdout",
     "output_type": "stream",
     "text": [
      "+------+-------------------+-------------------+--------+----+--------+\n",
      "|TripID|          StartTime|            EndTime|Distance|Fare|Duration|\n",
      "+------+-------------------+-------------------+--------+----+--------+\n",
      "|     1|2024-12-17 17:38:11|2024-12-17 17:55:11|       3|  49|    17.0|\n",
      "|     2|2024-12-11 17:38:11|2024-12-11 18:13:11|      48|  98|    35.0|\n",
      "|     3|2024-12-12 17:38:11|2024-12-12 18:18:11|       4|  92|    40.0|\n",
      "|     4|2024-11-30 17:38:11|2024-11-30 18:11:11|      32|   7|    33.0|\n",
      "|     5|2024-12-17 17:38:11|2024-12-17 18:03:11|      35|  32|    25.0|\n",
      "+------+-------------------+-------------------+--------+----+--------+\n",
      "only showing top 5 rows\n",
      "\n"
     ]
    }
   ],
   "source": [
    "# Convert string columns to timestamp format\n",
    "df = df.withColumn(\"StartTime\", unix_timestamp(\"StartTime\", \"yyyy-MM-dd HH:mm:ss\").cast(\"timestamp\"))\n",
    "df = df.withColumn(\"EndTime\", unix_timestamp(\"EndTime\", \"yyyy-MM-dd HH:mm:ss\").cast(\"timestamp\"))\n",
    "\n",
    "df = df.withColumn(\"Duration\", (col(\"EndTime\").cast(\"long\") - col(\"StartTime\").cast(\"long\")) / 60)\n",
    "df.show(5)\n"
   ]
  },
  {
   "cell_type": "code",
   "execution_count": 13,
   "id": "05f5b451",
   "metadata": {},
   "outputs": [
    {
     "name": "stdout",
     "output_type": "stream",
     "text": [
      "+------+------------------+\n",
      "|TripID|       FarePerMile|\n",
      "+------+------------------+\n",
      "|     1|16.333333333333332|\n",
      "|     2|2.0416666666666665|\n",
      "|     3|              23.0|\n",
      "|     4|           0.21875|\n",
      "|     5|0.9142857142857143|\n",
      "+------+------------------+\n",
      "only showing top 5 rows\n",
      "\n"
     ]
    }
   ],
   "source": [
    "df = df.withColumn(\"FarePerMile\", col(\"Fare\") / col(\"Distance\"))\n",
    "df.select(\"TripID\", \"FarePerMile\").show(5)\n"
   ]
  },
  {
   "cell_type": "code",
   "execution_count": 14,
   "id": "e2e49539",
   "metadata": {},
   "outputs": [
    {
     "name": "stdout",
     "output_type": "stream",
     "text": [
      "+------+-------------------+-------------------+--------+----+--------+------------------+\n",
      "|TripID|          StartTime|            EndTime|Distance|Fare|Duration|       FarePerMile|\n",
      "+------+-------------------+-------------------+--------+----+--------+------------------+\n",
      "|    96|2024-11-23 17:38:11|2024-11-23 18:02:11|      50|  53|    24.0|              1.06|\n",
      "|    28|2024-12-13 17:38:11|2024-12-13 17:52:11|      50|  10|    14.0|               0.2|\n",
      "|    12|2024-11-28 17:38:11|2024-11-28 17:54:11|      49|  79|    16.0|1.6122448979591837|\n",
      "+------+-------------------+-------------------+--------+----+--------+------------------+\n",
      "\n"
     ]
    }
   ],
   "source": [
    "top_3_longest_trips = df.orderBy(col(\"Distance\").desc()).limit(3)\n",
    "top_3_longest_trips.show()"
   ]
  },
  {
   "cell_type": "code",
   "execution_count": 15,
   "id": "8bf00bbe",
   "metadata": {},
   "outputs": [
    {
     "name": "stdout",
     "output_type": "stream",
     "text": [
      "+------+-------------------+-------------------+--------+----+--------+------------------+---------+\n",
      "|TripID|          StartTime|            EndTime|Distance|Fare|Duration|       FarePerMile|HourOfDay|\n",
      "+------+-------------------+-------------------+--------+----+--------+------------------+---------+\n",
      "|     1|2024-12-17 17:38:11|2024-12-17 17:55:11|       3|  49|    17.0|16.333333333333332|       17|\n",
      "|     2|2024-12-11 17:38:11|2024-12-11 18:13:11|      48|  98|    35.0|2.0416666666666665|       17|\n",
      "|     3|2024-12-12 17:38:11|2024-12-12 18:18:11|       4|  92|    40.0|              23.0|       17|\n",
      "|     4|2024-11-30 17:38:11|2024-11-30 18:11:11|      32|   7|    33.0|           0.21875|       17|\n",
      "|     5|2024-12-17 17:38:11|2024-12-17 18:03:11|      35|  32|    25.0|0.9142857142857143|       17|\n",
      "|     6|2024-12-15 17:38:11|2024-12-15 17:50:11|      47|  86|    12.0|1.8297872340425532|       17|\n",
      "|     7|2024-12-07 17:38:11|2024-12-07 18:18:11|      26|  77|    40.0|2.9615384615384617|       17|\n",
      "|     8|2024-12-20 17:38:11|2024-12-20 17:54:11|      34|  77|    16.0| 2.264705882352941|       17|\n",
      "|     9|2024-11-20 17:38:11|2024-11-20 18:37:11|      11|  69|    59.0|6.2727272727272725|       17|\n",
      "|    10|2024-12-17 17:38:11|2024-12-17 18:09:11|      40|  67|    31.0|             1.675|       17|\n",
      "|    11|2024-12-04 17:38:11|2024-12-04 18:04:11|      33|  62|    26.0| 1.878787878787879|       17|\n",
      "|    12|2024-11-28 17:38:11|2024-11-28 17:54:11|      49|  79|    16.0|1.6122448979591837|       17|\n",
      "|    13|2024-12-05 17:38:11|2024-12-05 17:50:11|      23|  77|    12.0| 3.347826086956522|       17|\n",
      "|    14|2024-12-03 17:38:11|2024-12-03 17:58:11|      29|  57|    20.0|1.9655172413793103|       17|\n",
      "|    15|2024-12-05 17:38:11|2024-12-05 18:06:11|      21|  26|    28.0|1.2380952380952381|       17|\n",
      "|    16|2024-11-21 17:38:11|2024-11-21 17:59:11|      28|  89|    21.0|3.1785714285714284|       17|\n",
      "|    17|2024-11-30 17:38:11|2024-11-30 17:55:11|      33|  58|    17.0|1.7575757575757576|       17|\n",
      "|    18|2024-12-14 17:38:11|2024-12-14 17:59:11|       5|  54|    21.0|              10.8|       17|\n",
      "|    19|2024-11-23 17:38:11|2024-11-23 17:55:11|      23|  48|    17.0|2.0869565217391304|       17|\n",
      "|    20|2024-11-26 17:38:11|2024-11-26 17:59:11|      13|  75|    21.0| 5.769230769230769|       17|\n",
      "+------+-------------------+-------------------+--------+----+--------+------------------+---------+\n",
      "only showing top 20 rows\n",
      "\n",
      "+---------+-----+\n",
      "|HourOfDay|count|\n",
      "+---------+-----+\n",
      "|       17|  100|\n",
      "+---------+-----+\n",
      "\n"
     ]
    }
   ],
   "source": [
    "# Extract hour from StartTime\n",
    "df = df.withColumn(\"HourOfDay\", hour(\"StartTime\"))\n",
    "df.show()\n",
    "\n",
    "# Group by HourOfDay and count trips\n",
    "hourly_trip_count = df.groupBy(\"HourOfDay\").count().orderBy(\"HourOfDay\")\n",
    "hourly_trip_count.show()"
   ]
  },
  {
   "cell_type": "code",
   "execution_count": 16,
   "id": "85dfcd9b",
   "metadata": {},
   "outputs": [
    {
     "data": {
      "image/png": "[encoded data removed]",
      "text/plain": [
       "<Figure size 600x400 with 1 Axes>"
      ]
     },
     "metadata": {},
     "output_type": "display_data"
    }
   ],
   "source": [
    "hourly_trip_count_pd = hourly_trip_count.toPandas()\n",
    "\n",
    "plt.figure(figsize=(6,4))\n",
    "plt.bar(hourly_trip_count_pd[\"HourOfDay\"], hourly_trip_count_pd[\"count\"], color='blue')\n",
    "plt.xlabel(\"Hour of Day\")\n",
    "plt.ylabel(\"Number of Trips\")\n",
    "plt.title(\"Trips per Hour of the Day\")\n",
    "plt.xticks(range(24))  \n",
    "plt.grid(True)\n",
    "plt.show()"
   ]
  },
  {
   "cell_type": "code",
   "execution_count": 17,
   "id": "a1d10d2d",
   "metadata": {},
   "outputs": [],
   "source": [
    "spark.stop()"
   ]
  },
  {
   "cell_type": "code",
   "execution_count": null,
   "id": "863602a5",
   "metadata": {},
   "outputs": [],
   "source": []
  },
  {
   "cell_type": "raw",
   "id": "ea5e046e",
   "metadata": {},
   "source": [
    "Assignment-3: Log Analysis \n",
    "0. Generate a log file with the following kind of data: \n",
    "    2024-12-18 10:15:32 INFO User logged in\n",
    "    2024-12-18 10:16:02 ERROR Page not found\n",
    "    2024-12-18 10:17:20 INFO Data uploaded successfully\n",
    "1. Load the log file into a PySpark DataFrame (use spark.read.text).\n",
    "2. Extract the timestamp, log level (INFO, ERROR, etc.), and message.\n",
    "3. Count the number of occurrences of each log level.\n",
    "4. Filter and display only the ERROR logs.\n",
    "5. Group logs by hour and count the number of logs in each hour.\n",
    "6. Visualize the above data (of step 5) with a suitable graph."
   ]
  },
  {
   "cell_type": "code",
   "execution_count": 19,
   "id": "0aa26f34",
   "metadata": {},
   "outputs": [
    {
     "name": "stdout",
     "output_type": "stream",
     "text": [
      "+--------------------+\n",
      "|               value|\n",
      "+--------------------+\n",
      "|2024-12-20 12:09:...|\n",
      "|2024-12-20 09:20:...|\n",
      "|2024-12-20 03:47:...|\n",
      "|2024-12-20 14:54:...|\n",
      "|2024-12-20 10:47:...|\n",
      "|2024-12-20 05:54:...|\n",
      "|2024-12-20 12:35:...|\n",
      "|2024-12-20 06:17:...|\n",
      "|2024-12-20 14:44:...|\n",
      "|2024-12-20 04:48:...|\n",
      "+--------------------+\n",
      "only showing top 10 rows\n",
      "\n"
     ]
    }
   ],
   "source": [
    "from pyspark.sql import SparkSession\n",
    "from pyspark.sql.functions import regexp_extract\n",
    "from datetime import datetime, timedelta\n",
    "import random\n",
    "\n",
    "spark = SparkSession.builder.appName('LogAnalysis').getOrCreate()\n",
    "\n",
    "log_levels = ['INFO', 'ERROR', 'DEBUG', 'WARN']\n",
    "messages = {\n",
    "    'INFO': ['User logged in', 'Data uploaded successfully', 'Request processed'],\n",
    "    'ERROR': ['Page not found', 'Database connection failed', 'Unauthorized access'],\n",
    "    'DEBUG': ['Debugging issue X', 'Memory usage is high', 'API response time'],\n",
    "    'WARN': ['Low disk space', 'High CPU usage']\n",
    "}\n",
    "\n",
    "# Create a log file\n",
    "with open('sample_log.txt', 'w') as f:\n",
    "    for i in range(100): \n",
    "        timestamp = (datetime.now() - timedelta(minutes=random.randint(1, 1000))).strftime('%Y-%m-%d %H:%M:%S')\n",
    "        log_level = random.choice(log_levels)\n",
    "        message = random.choice(messages[log_level])\n",
    "        log_entry = f\"{timestamp} {log_level} {message}\\n\"\n",
    "        f.write(log_entry)\n",
    "        \n",
    "#Load the Log File into a PySpark DataFrame\n",
    "log_df = spark.read.text('sample_log.txt')\n",
    "log_df.show(10)"
   ]
  },
  {
   "cell_type": "code",
   "execution_count": 20,
   "id": "b69d03f7",
   "metadata": {},
   "outputs": [
    {
     "name": "stdout",
     "output_type": "stream",
     "text": [
      "+-------------------+--------+-------+\n",
      "|          Timestamp|LogLevel|Message|\n",
      "+-------------------+--------+-------+\n",
      "|2024-12-20 12:09:39|    INFO|   2024|\n",
      "|2024-12-20 09:20:39|   DEBUG|   2024|\n",
      "|2024-12-20 03:47:39|   ERROR|   2024|\n",
      "|2024-12-20 14:54:39|    WARN|   2024|\n",
      "|2024-12-20 10:47:39|    INFO|   2024|\n",
      "|2024-12-20 05:54:39|    WARN|   2024|\n",
      "|2024-12-20 12:35:39|    WARN|   2024|\n",
      "|2024-12-20 06:17:39|    INFO|   2024|\n",
      "|2024-12-20 14:44:39|    WARN|   2024|\n",
      "|2024-12-20 04:48:39|    INFO|   2024|\n",
      "+-------------------+--------+-------+\n",
      "only showing top 10 rows\n",
      "\n"
     ]
    }
   ],
   "source": [
    "log_df = log_df.withColumn('Timestamp', regexp_extract('value', r'(\\d{4}-\\d{2}-\\d{2} \\d{2}:\\d{2}:\\d{2})', 1)) \\\n",
    "               .withColumn('LogLevel', regexp_extract('value', r'\\s([A-Z]+)\\s', 1)) \\\n",
    "               .withColumn('Message', regexp_extract('value', r'([A-Za-z0-9\\s]+)', 1))\n",
    "\n",
    "log_df.select('Timestamp', 'LogLevel', 'Message').show(10)"
   ]
  },
  {
   "cell_type": "code",
   "execution_count": 21,
   "id": "8b54082a",
   "metadata": {},
   "outputs": [
    {
     "name": "stdout",
     "output_type": "stream",
     "text": [
      "+--------+-----+\n",
      "|LogLevel|count|\n",
      "+--------+-----+\n",
      "|    INFO|   29|\n",
      "|   ERROR|   20|\n",
      "|    WARN|   28|\n",
      "|   DEBUG|   23|\n",
      "+--------+-----+\n",
      "\n"
     ]
    }
   ],
   "source": [
    "log_count = log_df.groupBy('LogLevel').count()\n",
    "log_count.show()"
   ]
  },
  {
   "cell_type": "code",
   "execution_count": 22,
   "id": "6b009d33",
   "metadata": {
    "scrolled": false
   },
   "outputs": [
    {
     "name": "stdout",
     "output_type": "stream",
     "text": [
      "+--------------------+-------------------+--------+-------+\n",
      "|               value|          Timestamp|LogLevel|Message|\n",
      "+--------------------+-------------------+--------+-------+\n",
      "|2024-12-20 03:47:...|2024-12-20 03:47:39|   ERROR|   2024|\n",
      "|2024-12-20 12:25:...|2024-12-20 12:25:39|   ERROR|   2024|\n",
      "|2024-12-20 16:21:...|2024-12-20 16:21:39|   ERROR|   2024|\n",
      "|2024-12-20 02:13:...|2024-12-20 02:13:39|   ERROR|   2024|\n",
      "|2024-12-20 11:17:...|2024-12-20 11:17:39|   ERROR|   2024|\n",
      "|2024-12-20 07:23:...|2024-12-20 07:23:39|   ERROR|   2024|\n",
      "|2024-12-20 01:10:...|2024-12-20 01:10:39|   ERROR|   2024|\n",
      "|2024-12-20 04:08:...|2024-12-20 04:08:39|   ERROR|   2024|\n",
      "|2024-12-20 15:29:...|2024-12-20 15:29:39|   ERROR|   2024|\n",
      "|2024-12-20 06:38:...|2024-12-20 06:38:39|   ERROR|   2024|\n",
      "|2024-12-20 06:18:...|2024-12-20 06:18:39|   ERROR|   2024|\n",
      "|2024-12-20 01:35:...|2024-12-20 01:35:39|   ERROR|   2024|\n",
      "|2024-12-20 07:02:...|2024-12-20 07:02:39|   ERROR|   2024|\n",
      "|2024-12-20 09:12:...|2024-12-20 09:12:39|   ERROR|   2024|\n",
      "|2024-12-20 15:02:...|2024-12-20 15:02:39|   ERROR|   2024|\n",
      "|2024-12-20 10:04:...|2024-12-20 10:04:39|   ERROR|   2024|\n",
      "|2024-12-20 06:21:...|2024-12-20 06:21:39|   ERROR|   2024|\n",
      "|2024-12-20 14:57:...|2024-12-20 14:57:39|   ERROR|   2024|\n",
      "|2024-12-20 11:05:...|2024-12-20 11:05:39|   ERROR|   2024|\n",
      "|2024-12-20 12:08:...|2024-12-20 12:08:39|   ERROR|   2024|\n",
      "+--------------------+-------------------+--------+-------+\n",
      "\n"
     ]
    },
    {
     "data": {
      "text/plain": [
       "20"
      ]
     },
     "execution_count": 22,
     "metadata": {},
     "output_type": "execute_result"
    }
   ],
   "source": [
    "error = log_df.filter(log_df.LogLevel == 'ERROR')\n",
    "error.show()\n",
    "error.count()"
   ]
  },
  {
   "cell_type": "code",
   "execution_count": 23,
   "id": "a1c1a6bf",
   "metadata": {},
   "outputs": [
    {
     "name": "stdout",
     "output_type": "stream",
     "text": [
      "+----+-----+\n",
      "|Hour|count|\n",
      "+----+-----+\n",
      "|   1|   10|\n",
      "|   2|    5|\n",
      "|   3|    4|\n",
      "|   4|    7|\n",
      "|   5|    5|\n",
      "|   6|    7|\n",
      "|   7|    7|\n",
      "|   8|    7|\n",
      "|   9|    8|\n",
      "|  10|    7|\n",
      "|  11|    5|\n",
      "|  12|    9|\n",
      "|  13|    3|\n",
      "|  14|    4|\n",
      "|  15|    5|\n",
      "|  16|    3|\n",
      "|  17|    4|\n",
      "+----+-----+\n",
      "\n"
     ]
    }
   ],
   "source": [
    "log_df = log_df.withColumn('Timestamp', to_timestamp('Timestamp', 'yyyy-MM-dd HH:mm:ss'))\n",
    "\n",
    "log_df = log_df.withColumn('Hour', hour('Timestamp'))\n",
    "\n",
    "hour_log = log_df.groupBy('Hour').count().orderBy('Hour')\n",
    "hour_log.show()"
   ]
  },
  {
   "cell_type": "code",
   "execution_count": 26,
   "id": "1cf43ff5",
   "metadata": {},
   "outputs": [
    {
     "data": {
      "image/png": "[encoded data removed]",
      "text/plain": [
       "<Figure size 1000x600 with 1 Axes>"
      ]
     },
     "metadata": {},
     "output_type": "display_data"
    }
   ],
   "source": [
    "hour_pd = hour_log.toPandas()\n",
    "\n",
    "plt.figure(figsize=(10, 6))\n",
    "plt.bar(hour_pd['Hour'], hour_pd['count'], color='skyblue')\n",
    "plt.xlabel('Hour of Day')\n",
    "plt.ylabel('Number of Logs')\n",
    "plt.title('Log Count per Hour of Day')\n",
    "plt.xticks(range(24))  \n",
    "plt.grid(True)\n",
    "plt.show()"
   ]
  },
  {
   "cell_type": "code",
   "execution_count": 27,
   "id": "3ed3799b",
   "metadata": {},
   "outputs": [],
   "source": [
    "spark.stop()"
   ]
  },
  {
   "cell_type": "code",
   "execution_count": null,
   "id": "9f43a2be",
   "metadata": {},
   "outputs": [],
   "source": []
  }
 ],
 "metadata": {
  "kernelspec": {
   "display_name": "Python 3 (ipykernel)",
   "language": "python",
   "name": "python3"
  },
  "language_info": {
   "codemirror_mode": {
    "name": "ipython",
    "version": 3
   },
   "file_extension": ".py",
   "mimetype": "text/x-python",
   "name": "python",
   "nbconvert_exporter": "python",
   "pygments_lexer": "ipython3",
   "version": "3.11.4"
  }
 },
 "nbformat": 4,
 "nbformat_minor": 5
}
