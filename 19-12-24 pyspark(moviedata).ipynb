{
 "cells": [
  {
   "cell_type": "raw",
   "id": "76f3739e",
   "metadata": {},
   "source": [
    "0. Generate data with schema: MovieID, UserID, Rating and Timestamp\n",
    "\n",
    "1. Load the dataset into a PySpark DataFrame.\n",
    "\n",
    "2. Convert the Timestamp column to a human-readable date format\n",
    "\n",
    "3. Find the average rating for each movie.\n",
    "\n",
    "4. Identify users who have rated more than 5 movies.\n",
    "\n",
    "5. Determine the top 5 highest-rated movies.\n",
    "\n",
    "6. Visualise the users vs number of movies they rated"
   ]
  },
  {
   "cell_type": "code",
   "execution_count": 26,
   "id": "a1d73880",
   "metadata": {},
   "outputs": [],
   "source": [
    "import pyspark\n",
    "import random\n",
    "import time\n",
    "\n",
    "from pyspark.sql.functions import *\n",
    "\n",
    "from pyspark.sql import SparkSession\n",
    "spark = SparkSession.builder.appName(\"Custom Details\").getOrCreate()\n"
   ]
  },
  {
   "cell_type": "code",
   "execution_count": 17,
   "id": "9c77e199",
   "metadata": {},
   "outputs": [
    {
     "name": "stderr",
     "output_type": "stream",
     "text": [
      "C:\\Users\\ranju\\anaconda3\\Lib\\site-packages\\pandas\\core\\arrays\\masked.py:60: UserWarning: Pandas requires version '1.3.6' or newer of 'bottleneck' (version '1.3.5' currently installed).\n",
      "  from pandas.core import (\n"
     ]
    }
   ],
   "source": [
    "movies = 50\n",
    "users = 100\n",
    "records = 1000\n",
    "\n",
    "data =[]\n",
    "for _ in range(records):\n",
    "    m_id = random.randint(1,movies)\n",
    "    u_id = random.randint(1,users)\n",
    "    rating = random.randint(1,5)\n",
    "    time_stamp = random.randint(1000000000,int(time.time()))\n",
    "    data.append((m_id,u_id,rating,time_stamp))\n",
    "\n",
    "schema = ['MovieID', 'UserID', 'Rating' ,'Timestamp']\n",
    "df = spark.createDataFrame(data,schema = schema)"
   ]
  },
  {
   "cell_type": "code",
   "execution_count": 18,
   "id": "84d6ea7c",
   "metadata": {},
   "outputs": [
    {
     "name": "stdout",
     "output_type": "stream",
     "text": [
      "+-------+------+------+----------+\n",
      "|MovieID|UserID|Rating| Timestamp|\n",
      "+-------+------+------+----------+\n",
      "|     29|    80|     3|1175957855|\n",
      "|     28|    28|     5|1162353719|\n",
      "|     32|    19|     3|1390879621|\n",
      "|      9|    64|     5|1107970811|\n",
      "|     25|    65|     1|1680127977|\n",
      "|     40|    13|     1|1343808818|\n",
      "|     16|    40|     2|1698311739|\n",
      "|     17|    15|     4|1686104878|\n",
      "|     34|    63|     5|1143843502|\n",
      "|      5|    60|     1|1363827172|\n",
      "|     21|    83|     5|1584532215|\n",
      "|     32|    26|     3|1166419704|\n",
      "|     17|    42|     5|1364159964|\n",
      "|     40|    16|     2|1264967818|\n",
      "|     15|    79|     4|1568441913|\n",
      "|     41|    14|     1|1502060726|\n",
      "|     11|    53|     3|1479732744|\n",
      "|      9|    40|     3|1199087655|\n",
      "|      7|    53|     3|1655599971|\n",
      "|     37|    95|     4|1596614730|\n",
      "+-------+------+------+----------+\n",
      "only showing top 20 rows\n",
      "\n"
     ]
    }
   ],
   "source": [
    "df.show()"
   ]
  },
  {
   "cell_type": "code",
   "execution_count": 25,
   "id": "9316baa1",
   "metadata": {},
   "outputs": [
    {
     "name": "stdout",
     "output_type": "stream",
     "text": [
      "+-------+------+------+----------+-------------------+\n",
      "|MovieID|UserID|Rating| Timestamp| Readable_Timestamp|\n",
      "+-------+------+------+----------+-------------------+\n",
      "|     29|    80|     3|1175957855|2007-04-07 20:27:35|\n",
      "|     28|    28|     5|1162353719|2006-11-01 09:31:59|\n",
      "|     32|    19|     3|1390879621|2014-01-28 08:57:01|\n",
      "|      9|    64|     5|1107970811|2005-02-09 23:10:11|\n",
      "|     25|    65|     1|1680127977|2023-03-30 03:42:57|\n",
      "|     40|    13|     1|1343808818|2012-08-01 13:43:38|\n",
      "|     16|    40|     2|1698311739|2023-10-26 14:45:39|\n",
      "|     17|    15|     4|1686104878|2023-06-07 07:57:58|\n",
      "|     34|    63|     5|1143843502|2006-04-01 03:48:22|\n",
      "|      5|    60|     1|1363827172|2013-03-21 06:22:52|\n",
      "|     21|    83|     5|1584532215|2020-03-18 17:20:15|\n",
      "|     32|    26|     3|1166419704|2006-12-18 10:58:24|\n",
      "|     17|    42|     5|1364159964|2013-03-25 02:49:24|\n",
      "|     40|    16|     2|1264967818|2010-02-01 01:26:58|\n",
      "|     15|    79|     4|1568441913|2019-09-14 11:48:33|\n",
      "|     41|    14|     1|1502060726|2017-08-07 04:35:26|\n",
      "|     11|    53|     3|1479732744|2016-11-21 18:22:24|\n",
      "|      9|    40|     3|1199087655|2007-12-31 13:24:15|\n",
      "|      7|    53|     3|1655599971|2022-06-19 06:22:51|\n",
      "|     37|    95|     4|1596614730|2020-08-05 13:35:30|\n",
      "+-------+------+------+----------+-------------------+\n",
      "only showing top 20 rows\n",
      "\n"
     ]
    }
   ],
   "source": [
    "from pyspark.sql.functions import from_unixtime\n",
    "df = df.withColumn(\"Readable_Timestamp\", from_unixtime(df.Timestamp))\n",
    "df.show()"
   ]
  },
  {
   "cell_type": "code",
   "execution_count": 27,
   "id": "570ea5d0",
   "metadata": {},
   "outputs": [
    {
     "name": "stdout",
     "output_type": "stream",
     "text": [
      "+-------+------------------+\n",
      "|MovieID|    Average_Rating|\n",
      "+-------+------------------+\n",
      "|     29|3.2857142857142856|\n",
      "|     26|              2.48|\n",
      "|     19|               3.5|\n",
      "|      7|3.3461538461538463|\n",
      "|     34| 3.380952380952381|\n",
      "|     50|              2.52|\n",
      "|     32|              3.28|\n",
      "|     43|3.1538461538461537|\n",
      "|     31|2.5714285714285716|\n",
      "|     39|3.0526315789473686|\n",
      "|     25|               3.5|\n",
      "|      6|2.6666666666666665|\n",
      "|      9|              2.96|\n",
      "|     27|3.1904761904761907|\n",
      "|     17|               3.0|\n",
      "|     41|3.1818181818181817|\n",
      "|     28|              3.04|\n",
      "|     33|2.9285714285714284|\n",
      "|      5|               2.8|\n",
      "|      1|               2.7|\n",
      "+-------+------------------+\n",
      "only showing top 20 rows\n",
      "\n"
     ]
    }
   ],
   "source": [
    "average_ratings = df.groupBy(\"MovieID\").agg(avg(\"Rating\").alias(\"Average_Rating\"))\n",
    "\n",
    "average_ratings.show()"
   ]
  },
  {
   "cell_type": "code",
   "execution_count": 30,
   "id": "3f3e6fb9",
   "metadata": {},
   "outputs": [
    {
     "name": "stdout",
     "output_type": "stream",
     "text": [
      "+------+------------+\n",
      "|UserID|Rating_Count|\n",
      "+------+------------+\n",
      "|    26|          13|\n",
      "|    65|           7|\n",
      "|    19|           8|\n",
      "|    54|           8|\n",
      "|    22|          10|\n",
      "|    77|          11|\n",
      "|    50|          11|\n",
      "|    32|          14|\n",
      "|    84|          10|\n",
      "|    39|          18|\n",
      "|    95|          13|\n",
      "|    71|           8|\n",
      "|     6|          16|\n",
      "|    87|           9|\n",
      "|    63|           8|\n",
      "|    27|           9|\n",
      "|    52|          12|\n",
      "|    79|          13|\n",
      "|    28|          11|\n",
      "|    88|          11|\n",
      "+------+------------+\n",
      "only showing top 20 rows\n",
      "\n"
     ]
    }
   ],
   "source": [
    "user_count = df.groupBy(\"UserID\").agg(count(\"Rating\").alias(\"Rating_Count\"))\n",
    "users_ratings = user_count.filter(user_count.Rating_Count > 5)\n",
    "\n",
    "users_ratings.show()\n"
   ]
  },
  {
   "cell_type": "code",
   "execution_count": 39,
   "id": "e6f4d59a",
   "metadata": {},
   "outputs": [
    {
     "name": "stdout",
     "output_type": "stream",
     "text": [
      "+-------+------------------+\n",
      "|MovieID|        avg_rating|\n",
      "+-------+------------------+\n",
      "|     35|3.6666666666666665|\n",
      "|      3|              3.52|\n",
      "|     19|               3.5|\n",
      "|     25|               3.5|\n",
      "|     23|               3.5|\n",
      "+-------+------------------+\n",
      "\n"
     ]
    }
   ],
   "source": [
    "high_rated = df.groupby('MovieID').agg(avg('Rating').alias(\"avg_rating\"))\n",
    "top = high_rated.orderBy('avg_rating',ascending = False).limit(5)\n",
    "top.show()"
   ]
  },
  {
   "cell_type": "code",
   "execution_count": 41,
   "id": "36bad71e",
   "metadata": {},
   "outputs": [
    {
     "name": "stderr",
     "output_type": "stream",
     "text": [
      "C:\\Users\\ranju\\anaconda3\\Lib\\site-packages\\seaborn\\_oldcore.py:1119: FutureWarning: use_inf_as_na option is deprecated and will be removed in a future version. Convert inf values to NaN before operating instead.\n",
      "  with pd.option_context('mode.use_inf_as_na', True):\n"
     ]
    },
    {
     "data": {
      "image/png": "[encoded data removed]",
      "text/plain": [
       "<Figure size 500x300 with 1 Axes>"
      ]
     },
     "metadata": {},
     "output_type": "display_data"
    }
   ],
   "source": [
    "import matplotlib.pyplot as plt\n",
    "import seaborn as sns\n",
    "\n",
    "# Count the number of movies rated by each user\n",
    "user_ratings_count = df.groupBy(\"UserID\").agg(count(\"MovieID\").alias(\"Movies_Rated\"))\n",
    "\n",
    "# Convert the Spark DataFrame to Pandas DataFrame\n",
    "user_ratings_count_pd = user_ratings_count.toPandas()\n",
    "\n",
    "# Plot the visualization\n",
    "plt.figure(figsize=(5,3))\n",
    "sns.histplot(user_ratings_count_pd[\"Movies_Rated\"], bins=30, kde=False, color='skyblue')\n",
    "plt.title(\"Distribution of Number of Movies Rated by Users\")\n",
    "plt.xlabel(\"Number of Movies Rated\")\n",
    "plt.ylabel(\"Number of Users\")\n",
    "plt.grid(True)\n",
    "plt.show()"
   ]
  },
  {
   "cell_type": "code",
   "execution_count": null,
   "id": "6416a09f",
   "metadata": {},
   "outputs": [],
   "source": [
    "\n",
    "\n"
   ]
  }
 ],
 "metadata": {
  "kernelspec": {
   "display_name": "Python 3 (ipykernel)",
   "language": "python",
   "name": "python3"
  },
  "language_info": {
   "codemirror_mode": {
    "name": "ipython",
    "version": 3
   },
   "file_extension": ".py",
   "mimetype": "text/x-python",
   "name": "python",
   "nbconvert_exporter": "python",
   "pygments_lexer": "ipython3",
   "version": "3.11.4"
  }
 },
 "nbformat": 4,
 "nbformat_minor": 5
}
