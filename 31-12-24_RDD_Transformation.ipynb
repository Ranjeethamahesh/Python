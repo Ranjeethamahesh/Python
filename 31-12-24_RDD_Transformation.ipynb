{
 "cells": [
  {
   "cell_type": "code",
   "execution_count": 1,
   "id": "13d53589",
   "metadata": {},
   "outputs": [],
   "source": [
    "from pyspark.sql import SparkSession\n",
    "\n",
    "spark = SparkSession.builder.getOrCreate()"
   ]
  },
  {
   "cell_type": "markdown",
   "id": "cfe67334",
   "metadata": {},
   "source": [
    "### Map and FlatMap"
   ]
  },
  {
   "cell_type": "code",
   "execution_count": 2,
   "id": "220652af",
   "metadata": {},
   "outputs": [
    {
     "name": "stderr",
     "output_type": "stream",
     "text": [
      "C:\\Users\\ranju\\anaconda3\\Lib\\site-packages\\pandas\\core\\arrays\\masked.py:60: UserWarning: Pandas requires version '1.3.6' or newer of 'bottleneck' (version '1.3.5' currently installed).\n",
      "  from pandas.core import (\n"
     ]
    },
    {
     "name": "stdout",
     "output_type": "stream",
     "text": [
      "+--------+--------+\n",
      "|1st_name|2nd_name|\n",
      "+--------+--------+\n",
      "|     Bob|   Cathy|\n",
      "|   David|   Frank|\n",
      "+--------+--------+\n",
      "\n",
      "+--------+--------+-----------+\n",
      "|1st_name|2nd_name|  full_name|\n",
      "+--------+--------+-----------+\n",
      "|     Bob|   Cathy|  Bob Cathy|\n",
      "|   David|   Frank|David Frank|\n",
      "+--------+--------+-----------+\n",
      "\n"
     ]
    }
   ],
   "source": [
    "data = [('Bob','Cathy'),('David','Frank')]\n",
    "\n",
    "rdd = spark.sparkContext.parallelize(data)\n",
    "\n",
    "df = spark.createDataFrame(data, schema= ['1st_name', '2nd_name'])\n",
    "df. show()\n",
    "\n",
    "rdd1 = df.rdd.map(lambda x : x + (x[0] +' ' + x[1],))\n",
    "df1 = rdd1.toDF( ['1st_name', '2nd_name','full_name'])\n",
    "\n",
    "\n",
    "df1.show()"
   ]
  },
  {
   "cell_type": "code",
   "execution_count": 3,
   "id": "51bbb7b0",
   "metadata": {},
   "outputs": [
    {
     "name": "stdout",
     "output_type": "stream",
     "text": [
      "Bob Cathy\n",
      "David Frank\n",
      "['Bob', 'Cathy']\n",
      "['David', 'Frank']\n",
      "Bob\n",
      "Cathy\n",
      "David\n",
      "Frank\n"
     ]
    }
   ],
   "source": [
    "#FlatMAp\n",
    "\n",
    "data = ['Bob Cathy','David Frank']\n",
    "rdd = spark.sparkContext.parallelize(data)\n",
    "\n",
    "for item in rdd.collect():\n",
    "    print(item)\n",
    "    \n",
    "rdd1 = rdd.map(lambda x: x.split(' '))  #map() function\n",
    "for item in rdd1.collect():\n",
    "    print(item)\n",
    "    \n",
    "\n",
    "rdd2 = rdd.flatMap(lambda x: x.split(' '))  #Flatmap() function\n",
    "for item in rdd2.collect():\n",
    "    print(item)"
   ]
  },
  {
   "cell_type": "markdown",
   "id": "b712be1d",
   "metadata": {},
   "source": [
    "### MapValues"
   ]
  },
  {
   "cell_type": "code",
   "execution_count": 12,
   "id": "ed030999",
   "metadata": {},
   "outputs": [
    {
     "data": {
      "text/plain": [
       "[('apple', 1), ('banana', 2), ('orange', 5)]"
      ]
     },
     "execution_count": 12,
     "metadata": {},
     "output_type": "execute_result"
    }
   ],
   "source": [
    "data = [(\"apple\", 1), (\"banana\", 2), (\"orange\", 5)]\n",
    "\n",
    "rdd = spark.sparkContext.parallelize(data)\n",
    "\n",
    "rdd.collect()"
   ]
  },
  {
   "cell_type": "code",
   "execution_count": 14,
   "id": "963ad8b9",
   "metadata": {},
   "outputs": [
    {
     "data": {
      "text/plain": [
       "[('apple', 11), ('banana', 12), ('orange', 15)]"
      ]
     },
     "execution_count": 14,
     "metadata": {},
     "output_type": "execute_result"
    }
   ],
   "source": [
    "rdd1 = rdd.mapValues(lambda x:x+10)\n",
    "rdd1.collect()\n"
   ]
  },
  {
   "cell_type": "code",
   "execution_count": 15,
   "id": "0c254f9b",
   "metadata": {},
   "outputs": [
    {
     "data": {
      "text/plain": [
       "[('apple', 10), ('banana', 20), ('orange', 50)]"
      ]
     },
     "execution_count": 15,
     "metadata": {},
     "output_type": "execute_result"
    }
   ],
   "source": [
    "rdd2 = rdd.mapValues(lambda x : x * 10)\n",
    "rdd2.collect()"
   ]
  },
  {
   "cell_type": "code",
   "execution_count": null,
   "id": "aeaaad8f",
   "metadata": {},
   "outputs": [],
   "source": []
  },
  {
   "cell_type": "code",
   "execution_count": 16,
   "id": "0348152c",
   "metadata": {},
   "outputs": [
    {
     "data": {
      "text/plain": [
       "[('apple', [1, 1]), ('banana', [2, 2]), ('orange', [5, 5])]"
      ]
     },
     "execution_count": 16,
     "metadata": {},
     "output_type": "execute_result"
    }
   ],
   "source": [
    "rdd_map=rdd.mapValues(lambda x:[x,x])   \n",
    "rdd_map.collect()"
   ]
  },
  {
   "cell_type": "markdown",
   "id": "f0d8e3d8",
   "metadata": {},
   "source": [
    "### flatMapValues"
   ]
  },
  {
   "cell_type": "code",
   "execution_count": 20,
   "id": "cfaf6866",
   "metadata": {},
   "outputs": [
    {
     "data": {
      "text/plain": [
       "[('apple', 1),\n",
       " ('apple', 1),\n",
       " ('banana', 2),\n",
       " ('banana', 2),\n",
       " ('orange', 5),\n",
       " ('orange', 5)]"
      ]
     },
     "execution_count": 20,
     "metadata": {},
     "output_type": "execute_result"
    }
   ],
   "source": [
    "rdd_map=rdd.flatMapValues(lambda x:[x,x])   \n",
    "rdd_map.collect()"
   ]
  },
  {
   "cell_type": "code",
   "execution_count": 21,
   "id": "6b44dc21",
   "metadata": {},
   "outputs": [
    {
     "data": {
      "text/plain": [
       "[('apple', 1),\n",
       " ('banana', 1),\n",
       " ('banana', 2),\n",
       " ('orange', 1),\n",
       " ('orange', 2),\n",
       " ('orange', 3),\n",
       " ('orange', 4),\n",
       " ('orange', 5)]"
      ]
     },
     "execution_count": 21,
     "metadata": {},
     "output_type": "execute_result"
    }
   ],
   "source": [
    "rdd_flatmap = rdd.flatMapValues(lambda x: range(1, x+1))  \n",
    "rdd_flatmap.collect()"
   ]
  },
  {
   "cell_type": "markdown",
   "id": "fc4b51c3",
   "metadata": {},
   "source": [
    "### ReduceBykey"
   ]
  },
  {
   "cell_type": "code",
   "execution_count": 27,
   "id": "a2f04337",
   "metadata": {},
   "outputs": [
    {
     "data": {
      "text/plain": [
       "[('apple', 1), ('banana', 2), ('apple', 3), ('banana', 4), ('orange', 5)]"
      ]
     },
     "execution_count": 27,
     "metadata": {},
     "output_type": "execute_result"
    }
   ],
   "source": [
    "data = [(\"apple\", 1), (\"banana\", 2), (\"apple\", 3), (\"banana\", 4), (\"orange\", 5)]\n",
    "\n",
    "rdd = spark.sparkContext.parallelize(data)\n",
    "rdd.collect()"
   ]
  },
  {
   "cell_type": "code",
   "execution_count": 28,
   "id": "28775b1e",
   "metadata": {},
   "outputs": [
    {
     "data": {
      "text/plain": [
       "[('apple', 4), ('banana', 6), ('orange', 5)]"
      ]
     },
     "execution_count": 28,
     "metadata": {},
     "output_type": "execute_result"
    }
   ],
   "source": [
    "rdd_reduce = rdd.reduceByKey(lambda x, y : x + y) #counting the items\n",
    "rdd_reduce.collect() "
   ]
  },
  {
   "cell_type": "code",
   "execution_count": 29,
   "id": "62132ec7",
   "metadata": {},
   "outputs": [
    {
     "data": {
      "text/plain": [
       "[('apple', 5),\n",
       " ('banana', 10),\n",
       " ('apple', 8),\n",
       " ('banana', 3),\n",
       " ('orange', 7),\n",
       " ('apple', 12)]"
      ]
     },
     "execution_count": 29,
     "metadata": {},
     "output_type": "execute_result"
    }
   ],
   "source": [
    "data = [(\"apple\", 5), (\"banana\", 10), (\"apple\", 8), (\"banana\", 3), (\"orange\", 7), (\"apple\", 12)]\n",
    "rdd = spark.sparkContext.parallelize(data)\n",
    "rdd.collect()"
   ]
  },
  {
   "cell_type": "code",
   "execution_count": 31,
   "id": "d8e1f3ac",
   "metadata": {},
   "outputs": [
    {
     "data": {
      "text/plain": [
       "[('apple', 12), ('banana', 10), ('orange', 7)]"
      ]
     },
     "execution_count": 31,
     "metadata": {},
     "output_type": "execute_result"
    }
   ],
   "source": [
    "rdd_max = rdd.reduceByKey(lambda x, y: max(x, y))  #maximum value for each key\n",
    "rdd_max.collect()"
   ]
  },
  {
   "cell_type": "markdown",
   "id": "59d46a1a",
   "metadata": {},
   "source": [
    "### groupByKey"
   ]
  },
  {
   "cell_type": "code",
   "execution_count": 34,
   "id": "04ae3a90",
   "metadata": {},
   "outputs": [
    {
     "data": {
      "text/plain": [
       "[('apple', <pyspark.resultiterable.ResultIterable at 0x26d8ff89210>),\n",
       " ('banana', <pyspark.resultiterable.ResultIterable at 0x26d8ff8b890>),\n",
       " ('orange', <pyspark.resultiterable.ResultIterable at 0x26d8ff91810>)]"
      ]
     },
     "execution_count": 34,
     "metadata": {},
     "output_type": "execute_result"
    }
   ],
   "source": [
    "rdd_grp = rdd.groupByKey()\n",
    "rdd_grp.collect()  # here the values stored as iterables not in list"
   ]
  },
  {
   "cell_type": "code",
   "execution_count": 36,
   "id": "ac5dddbb",
   "metadata": {},
   "outputs": [
    {
     "data": {
      "text/plain": [
       "[('apple', [5, 8, 12]), ('banana', [10, 3]), ('orange', [7])]"
      ]
     },
     "execution_count": 36,
     "metadata": {},
     "output_type": "execute_result"
    }
   ],
   "source": [
    "rdd_grp = rdd_grp.mapValues(list)  #converting iterables to lists\n",
    "rdd_grp.collect()"
   ]
  },
  {
   "cell_type": "markdown",
   "id": "7ac110d6",
   "metadata": {},
   "source": [
    "### sortByKey"
   ]
  },
  {
   "cell_type": "code",
   "execution_count": 39,
   "id": "d67a6946",
   "metadata": {},
   "outputs": [
    {
     "data": {
      "text/plain": [
       "[('apple', 3), ('grapes', 1), ('apple', 1), ('banana', 2), ('orange', 5)]"
      ]
     },
     "execution_count": 39,
     "metadata": {},
     "output_type": "execute_result"
    }
   ],
   "source": [
    "data = [(\"apple\", 3), (\"grapes\", 1), (\"apple\", 1), (\"banana\", 2), (\"orange\", 5)]\n",
    "rdd = spark.sparkContext.parallelize(data)\n",
    "rdd.collect()"
   ]
  },
  {
   "cell_type": "code",
   "execution_count": 40,
   "id": "80fcceb4",
   "metadata": {},
   "outputs": [
    {
     "data": {
      "text/plain": [
       "[('apple', 3), ('apple', 1), ('banana', 2), ('grapes', 1), ('orange', 5)]"
      ]
     },
     "execution_count": 40,
     "metadata": {},
     "output_type": "execute_result"
    }
   ],
   "source": [
    "rdd_sort = rdd.sortByKey(ascending=True)\n",
    "rdd_sort.collect()"
   ]
  },
  {
   "cell_type": "code",
   "execution_count": 41,
   "id": "ffeabf05",
   "metadata": {},
   "outputs": [
    {
     "data": {
      "text/plain": [
       "[('orange', 5), ('grapes', 1), ('banana', 2), ('apple', 3), ('apple', 1)]"
      ]
     },
     "execution_count": 41,
     "metadata": {},
     "output_type": "execute_result"
    }
   ],
   "source": [
    "rdd_sort = rdd.sortByKey(ascending=False)\n",
    "rdd_sort.collect()"
   ]
  },
  {
   "cell_type": "code",
   "execution_count": 42,
   "id": "3d7f4ada",
   "metadata": {},
   "outputs": [
    {
     "data": {
      "text/plain": [
       "[(7, 'A'), (3, 'B'), (10, 'C'), (1, 'D'), (7, 'E')]"
      ]
     },
     "execution_count": 42,
     "metadata": {},
     "output_type": "execute_result"
    }
   ],
   "source": [
    "data = [(7 , 'A'), (3 ,'B'), (10 , 'C'), (1 ,'D'), (7,'E')]\n",
    "rdd = spark.sparkContext.parallelize(data)\n",
    "rdd.collect()"
   ]
  },
  {
   "cell_type": "code",
   "execution_count": 43,
   "id": "2db3ad80",
   "metadata": {},
   "outputs": [
    {
     "data": {
      "text/plain": [
       "[(1, 'D'), (3, 'B'), (7, 'A'), (7, 'E'), (10, 'C')]"
      ]
     },
     "execution_count": 43,
     "metadata": {},
     "output_type": "execute_result"
    }
   ],
   "source": [
    "rdd_sort = rdd.sortByKey(ascending=True)\n",
    "rdd_sort.collect()"
   ]
  },
  {
   "cell_type": "code",
   "execution_count": null,
   "id": "c6a2e31a",
   "metadata": {},
   "outputs": [],
   "source": []
  }
 ],
 "metadata": {
  "kernelspec": {
   "display_name": "Python 3 (ipykernel)",
   "language": "python",
   "name": "python3"
  },
  "language_info": {
   "codemirror_mode": {
    "name": "ipython",
    "version": 3
   },
   "file_extension": ".py",
   "mimetype": "text/x-python",
   "name": "python",
   "nbconvert_exporter": "python",
   "pygments_lexer": "ipython3",
   "version": "3.11.4"
  }
 },
 "nbformat": 4,
 "nbformat_minor": 5
}
