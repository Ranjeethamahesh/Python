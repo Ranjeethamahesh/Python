{
 "cells": [
  {
   "cell_type": "code",
   "execution_count": 2,
   "id": "27e9dd0b",
   "metadata": {},
   "outputs": [
    {
     "name": "stderr",
     "output_type": "stream",
     "text": [
      "C:\\Users\\ranju\\anaconda3\\Lib\\site-packages\\pandas\\core\\arrays\\masked.py:60: UserWarning: Pandas requires version '1.3.6' or newer of 'bottleneck' (version '1.3.5' currently installed).\n",
      "  from pandas.core import (\n"
     ]
    },
    {
     "name": "stdout",
     "output_type": "stream",
     "text": [
      "   deviceid  customerid  price  alerts   location state\n",
      "0         1        11.0    100      14  Bengaluru    KA\n",
      "1         2        22.0  \"200\"      25     Mysuru    KA\n",
      "2         3        33.0    300       6         AP   NaN\n",
      "3         4        44.0    ten       7    Chennai    TN\n",
      "4         5         NaN    250       8   Hubballi    KA\n",
      "5         6        66.0    600       9      Bidar    KA\n",
      "6         7        77.0    NaN       7    Belgavi    KA\n"
     ]
    }
   ],
   "source": [
    "import pandas as pd\n",
    "\n",
    "df = pd.read_csv(r\"C:\\Users\\ranju\\Downloads\\customer.txt\",delimiter=\"\\t\")\n",
    "print(df)"
   ]
  },
  {
   "cell_type": "raw",
   "id": "298c39ea",
   "metadata": {},
   "source": [
    "# Load the tsv file and add custom headers namely Device ID, Customer ID, Price, Alerts, City and State\n",
    "# Print a message if the dataset contains any missing values\n",
    "# Print the columns with number of missing values\n",
    "# Fill missing or incompatible or invalid values in the price column with the mean price\n",
    "# Drop the rows with missing values in the Device ID or Customer ID column\n",
    "# Find the total price of all the devices\n",
    "# Show the total number of alarms from valid devices from each state\n",
    "# Display the devices with more alarms than the mean"
   ]
  },
  {
   "cell_type": "code",
   "execution_count": 3,
   "id": "d8d32072",
   "metadata": {},
   "outputs": [
    {
     "name": "stdout",
     "output_type": "stream",
     "text": [
      "Index(['Device ID', 'Customer_ID', 'Price', 'Alerts', 'Location', 'State'], dtype='object')\n",
      "   Device ID  Customer_ID  Price  Alerts   Location State\n",
      "0          1         11.0    100      14  Bengaluru    KA\n",
      "1          2         22.0  \"200\"      25     Mysuru    KA\n",
      "2          3         33.0    300       6         AP   NaN\n",
      "3          4         44.0    ten       7    Chennai    TN\n",
      "4          5          NaN    250       8   Hubballi    KA\n",
      "5          6         66.0    600       9      Bidar    KA\n",
      "6          7         77.0    NaN       7    Belgavi    KA\n"
     ]
    }
   ],
   "source": [
    "df.rename(columns = {'deviceid' :'Device ID','customerid':'Customer_ID','price':'Price','alerts':'Alerts','location':'Location','state':'State'}, inplace = True)\n",
    "print(df.columns)\n",
    "print(df)"
   ]
  },
  {
   "cell_type": "code",
   "execution_count": 4,
   "id": "2d959875",
   "metadata": {},
   "outputs": [
    {
     "name": "stdout",
     "output_type": "stream",
     "text": [
      "The Dataset contain the missing values\n"
     ]
    }
   ],
   "source": [
    "if df.isnull().values.any():\n",
    "     print(\"The Dataset contain the missing values\")\n",
    "else:\n",
    "    print(\"No Missing values in the Dataset\")\n"
   ]
  },
  {
   "cell_type": "code",
   "execution_count": 5,
   "id": "7c76b1ab",
   "metadata": {},
   "outputs": [
    {
     "name": "stdout",
     "output_type": "stream",
     "text": [
      "Device ID      7\n",
      "Customer_ID    7\n",
      "Price          7\n",
      "Alerts         7\n",
      "Location       7\n",
      "State          7\n",
      "dtype: int64\n",
      "   Device ID Customer_ID  Price  Alerts   Location State\n",
      "0          1        11.0    100      14  Bengaluru    KA\n",
      "1          2        22.0  \"200\"      25     Mysuru    KA\n",
      "2          3        33.0    300       6         AP     0\n",
      "3          4        44.0    ten       7    Chennai    TN\n",
      "4          5           0    250       8   Hubballi    KA\n",
      "5          6        66.0    600       9      Bidar    KA\n",
      "6          7        77.0      0       7    Belgavi    KA\n"
     ]
    }
   ],
   "source": [
    "df2 = df.isnull().count()\n",
    "print(df2)\n",
    "\n",
    "DF3 = df.fillna(\"0\")\n",
    "print(DF3)"
   ]
  },
  {
   "cell_type": "code",
   "execution_count": 6,
   "id": "45e323a2",
   "metadata": {},
   "outputs": [
    {
     "name": "stdout",
     "output_type": "stream",
     "text": [
      "0    100.0\n",
      "1      NaN\n",
      "2    300.0\n",
      "3      NaN\n",
      "4    250.0\n",
      "5    600.0\n",
      "6      NaN\n",
      "Name: Price, dtype: float64\n"
     ]
    }
   ],
   "source": [
    "df['Price'] = pd.to_numeric(df['Price'],errors='coerce')\n",
    "#re = pd.replace(df['Price']({\"200\": \"\",\"ten\": \"\"))\n",
    "\n",
    "print(df['Price'])"
   ]
  },
  {
   "cell_type": "code",
   "execution_count": 7,
   "id": "cb76da98",
   "metadata": {},
   "outputs": [
    {
     "name": "stdout",
     "output_type": "stream",
     "text": [
      "312.5\n"
     ]
    }
   ],
   "source": [
    "mean = df['Price'].mean()\n",
    "print(mean)"
   ]
  },
  {
   "cell_type": "code",
   "execution_count": 8,
   "id": "dbbd0545",
   "metadata": {
    "scrolled": true
   },
   "outputs": [
    {
     "name": "stdout",
     "output_type": "stream",
     "text": [
      "0    100.0\n",
      "1    312.5\n",
      "2    300.0\n",
      "3    312.5\n",
      "4    250.0\n",
      "5    600.0\n",
      "6    312.5\n",
      "Name: Price, dtype: float64\n",
      "   Device ID  Customer_ID  Price  Alerts   Location State\n",
      "0          1         11.0  100.0      14  Bengaluru    KA\n",
      "1          2         22.0    NaN      25     Mysuru    KA\n",
      "2          3         33.0  300.0       6         AP   NaN\n",
      "3          4         44.0    NaN       7    Chennai    TN\n",
      "4          5          NaN  250.0       8   Hubballi    KA\n",
      "5          6         66.0  600.0       9      Bidar    KA\n",
      "6          7         77.0    NaN       7    Belgavi    KA\n"
     ]
    }
   ],
   "source": [
    "new_price = df['Price'].fillna(mean)\n",
    "print(new_price)\n",
    "print(df)"
   ]
  },
  {
   "cell_type": "code",
   "execution_count": 9,
   "id": "abaf798f",
   "metadata": {},
   "outputs": [
    {
     "name": "stdout",
     "output_type": "stream",
     "text": [
      "   Device ID  Customer_ID  Price  Alerts   Location State\n",
      "0          1         11.0  100.0      14  Bengaluru    KA\n",
      "1          2         22.0    NaN      25     Mysuru    KA\n",
      "2          3         33.0  300.0       6         AP   NaN\n",
      "3          4         44.0    NaN       7    Chennai    TN\n",
      "5          6         66.0  600.0       9      Bidar    KA\n",
      "6          7         77.0    NaN       7    Belgavi    KA\n"
     ]
    }
   ],
   "source": [
    "dr = df.dropna(subset =  ['Device ID','Customer_ID'], how = \"any\")\n",
    "print(dr)"
   ]
  },
  {
   "cell_type": "code",
   "execution_count": 10,
   "id": "79fe22b2",
   "metadata": {},
   "outputs": [
    {
     "name": "stdout",
     "output_type": "stream",
     "text": [
      "   Device ID  Customer_ID  Alerts   Location\n",
      "0          1         11.0      14  Bengaluru\n",
      "1          2         22.0      25     Mysuru\n",
      "2          3         33.0       6         AP\n",
      "3          4         44.0       7    Chennai\n",
      "5          6         66.0       9      Bidar\n",
      "6          7         77.0       7    Belgavi\n"
     ]
    }
   ],
   "source": [
    "drop_col = dr.dropna(axis = 1)\n",
    "print(drop_col)"
   ]
  },
  {
   "cell_type": "code",
   "execution_count": 11,
   "id": "ca305520",
   "metadata": {},
   "outputs": [
    {
     "name": "stdout",
     "output_type": "stream",
     "text": [
      "                 Customer_ID  Alerts   Location State\n",
      "Device ID Price                                      \n",
      "1         100.0         11.0      14  Bengaluru    KA\n",
      "3         300.0         33.0       6         AP     0\n",
      "5         250.0          0.0       8   Hubballi    KA\n",
      "6         600.0         66.0       9      Bidar    KA\n"
     ]
    }
   ],
   "source": [
    "total_price = df.groupby(['Device ID','Price']).sum()\n",
    "print(total_price)"
   ]
  },
  {
   "cell_type": "code",
   "execution_count": 12,
   "id": "6af72d46",
   "metadata": {},
   "outputs": [
    {
     "name": "stdout",
     "output_type": "stream",
     "text": [
      "5    600.0\n",
      "2    300.0\n",
      "4    250.0\n",
      "0    100.0\n",
      "1      NaN\n",
      "3      NaN\n",
      "6      NaN\n",
      "Name: Price, dtype: float64\n"
     ]
    }
   ],
   "source": [
    "sort = df['Price'].sort_values(ascending = False )\n",
    "print(sort)"
   ]
  },
  {
   "cell_type": "code",
   "execution_count": 13,
   "id": "b10a393d",
   "metadata": {},
   "outputs": [
    {
     "name": "stdout",
     "output_type": "stream",
     "text": [
      "   Device ID  Customer_ID  Price  Alerts Location State\n",
      "1          2         22.0    NaN      25   Mysuru    KA\n",
      "5          6         66.0  600.0       9    Bidar    KA\n"
     ]
    }
   ],
   "source": [
    "#find the location belong to either Mysuru or Bidar\n",
    "location = df[df['Location'].isin(['Mysuru','Bidar'])]\n",
    "print(location)"
   ]
  },
  {
   "cell_type": "code",
   "execution_count": 14,
   "id": "8fd75350",
   "metadata": {},
   "outputs": [
    {
     "name": "stdout",
     "output_type": "stream",
     "text": [
      "   Device ID  Customer_ID  Price  Alerts   Location State  new_column\n",
      "0          1         11.0  100.0      14  Bengaluru    KA     10000.0\n",
      "1          2         22.0    NaN      25     Mysuru    KA         NaN\n",
      "2          3         33.0  300.0       6         AP   NaN     30000.0\n",
      "3          4         44.0    NaN       7    Chennai    TN         NaN\n",
      "4          5          NaN  250.0       8   Hubballi    KA     25000.0\n",
      "5          6         66.0  600.0       9      Bidar    KA     60000.0\n",
      "6          7         77.0    NaN       7    Belgavi    KA         NaN\n"
     ]
    }
   ],
   "source": [
    "# adding new column \n",
    "\n",
    "df['new_column'] = df['Price']*100\n",
    "print(df)"
   ]
  },
  {
   "cell_type": "code",
   "execution_count": 18,
   "id": "fbfcef62",
   "metadata": {},
   "outputs": [
    {
     "name": "stdout",
     "output_type": "stream",
     "text": [
      "State\n",
      "KA    63\n",
      "TN     7\n",
      "Name: Alerts, dtype: int64\n"
     ]
    }
   ],
   "source": [
    "val_alerts = df.dropna(subset =['Alerts'])\n",
    "\n",
    "rslt = val_alerts.groupby('State')['Alerts'].sum()\n",
    "print(rslt)"
   ]
  },
  {
   "cell_type": "code",
   "execution_count": 30,
   "id": "dfdca2b3",
   "metadata": {},
   "outputs": [
    {
     "name": "stdout",
     "output_type": "stream",
     "text": [
      "   Device ID  Customer_ID  Price  Alerts   Location State  new_column\n",
      "0          1         11.0  100.0      14  Bengaluru    KA     10000.0\n",
      "1          2         22.0    NaN      25     Mysuru    KA         NaN\n"
     ]
    }
   ],
   "source": [
    "alert = df[(df['Alerts']) > (df['Alerts'].mean())]\n",
    "print(alert)"
   ]
  },
  {
   "cell_type": "code",
   "execution_count": 29,
   "id": "ba4b9852",
   "metadata": {},
   "outputs": [
    {
     "name": "stdout",
     "output_type": "stream",
     "text": [
      "10.857142857142858\n"
     ]
    }
   ],
   "source": [
    "mean_alert = df['Alerts'].mean()\n",
    "print(mean_alert)"
   ]
  },
  {
   "cell_type": "code",
   "execution_count": null,
   "id": "002b179c",
   "metadata": {},
   "outputs": [],
   "source": []
  }
 ],
 "metadata": {
  "kernelspec": {
   "display_name": "Python 3 (ipykernel)",
   "language": "python",
   "name": "python3"
  },
  "language_info": {
   "codemirror_mode": {
    "name": "ipython",
    "version": 3
   },
   "file_extension": ".py",
   "mimetype": "text/x-python",
   "name": "python",
   "nbconvert_exporter": "python",
   "pygments_lexer": "ipython3",
   "version": "3.11.4"
  }
 },
 "nbformat": 4,
 "nbformat_minor": 5
}
